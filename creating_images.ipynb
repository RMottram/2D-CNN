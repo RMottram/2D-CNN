{
  "nbformat": 4,
  "nbformat_minor": 0,
  "metadata": {
    "accelerator": "GPU",
    "colab": {
      "name": "2d_cnn.ipynb",
      "provenance": [],
      "collapsed_sections": [],
      "toc_visible": true,
      "include_colab_link": true
    },
    "kernelspec": {
      "name": "python385jvsc74a57bd0c0fa115e3f5cbac937219093afe487c1ed2d36ff737a9c8ccedfd3d50d03adf8",
      "display_name": "Python 3.8.5 64-bit ('base': conda)"
    },
    "language_info": {
      "codemirror_mode": {
        "name": "ipython",
        "version": 3
      },
      "file_extension": ".py",
      "mimetype": "text/x-python",
      "name": "python",
      "nbconvert_exporter": "python",
      "pygments_lexer": "ipython3",
      "version": "3.8.5"
    },
    "varInspector": {
      "cols": {
        "lenName": "32",
        "lenType": "32",
        "lenVar": "60"
      },
      "kernels_config": {
        "python": {
          "delete_cmd_postfix": "",
          "delete_cmd_prefix": "del ",
          "library": "var_list.py",
          "varRefreshCmd": "print(var_dic_list())"
        },
        "r": {
          "delete_cmd_postfix": ") ",
          "delete_cmd_prefix": "rm(",
          "library": "var_list.r",
          "varRefreshCmd": "cat(var_dic_list()) "
        }
      },
      "oldHeight": 698.85,
      "position": {
        "height": "720.85px",
        "left": "2934px",
        "right": "20px",
        "top": "136px",
        "width": "518px"
      },
      "types_to_exclude": [
        "module",
        "function",
        "builtin_function_or_method",
        "instance",
        "_Feature"
      ],
      "varInspector_section_display": "block",
      "window_display": false
    }
  },
  "cells": [
    {
      "cell_type": "markdown",
      "metadata": {
        "id": "view-in-github",
        "colab_type": "text"
      },
      "source": [
        "<a href=\"https://colab.research.google.com/github/RMottram/2D-CNN/blob/master/2d_cnn_fixed.ipynb\" target=\"_parent\"><img src=\"https://colab.research.google.com/assets/colab-badge.svg\" alt=\"Open In Colab\"/></a>"
      ]
    },
    {
      "cell_type": "code",
      "metadata": {
        "id": "KwEfwkvux9xj"
      },
      "source": [
        "import numpy as np\n",
        "from numpy import array\n",
        "import pandas as pd\n",
        "import matplotlib\n",
        "import matplotlib.pyplot as plt\n",
        "from matplotlib.pyplot import figure\n",
        "import sys, os, time, csv, cv2\n",
        "\n",
        "import sklearn\n",
        "from sklearn.model_selection import train_test_split, KFold, RepeatedKFold\n",
        "from sklearn.preprocessing import LabelEncoder, StandardScaler, OneHotEncoder, MinMaxScaler\n",
        "from sklearn.compose import ColumnTransformer\n",
        "from sklearn.ensemble import RandomForestClassifier\n",
        "from sklearn.feature_selection import RFE\n",
        "from sklearn.model_selection import cross_val_score\n",
        "from sklearn import metrics\n",
        "\n",
        "import tensorflow as tf\n",
        "from tensorflow import keras\n",
        "from keras.utils import to_categorical\n",
        "from tensorflow.keras.layers import Dense, Convolution1D, Convolution2D, MaxPooling2D, Flatten, AveragePooling2D, GlobalAveragePooling2D, GlobalMaxPool2D, MaxPooling1D, Dropout\n",
        "from tensorflow.keras.models import Sequential\n",
        "from tensorflow.keras.callbacks import EarlyStopping\n",
        "from keras.wrappers.scikit_learn import KerasClassifier\n",
        "\n",
        "# from ann_visualizer.visualize import ann_viz\n",
        "\n",
        "# Settings\n",
        "pd.set_option('display.max_columns', None)\n",
        "pd.options.display.float_format = '{:.5f}'.format\n",
        "np.set_printoptions(threshold=sys.maxsize)\n",
        "np.set_printoptions(precision = 5, suppress = True)"
      ],
      "execution_count": 1,
      "outputs": []
    },
    {
      "cell_type": "markdown",
      "metadata": {
        "id": "VTX8Zkl8x9xr"
      },
      "source": [
        "# CNN Binary output"
      ]
    },
    {
      "source": [
        "## 1.1 - Import the dataset"
      ],
      "cell_type": "markdown",
      "metadata": {
        "id": "oFGbwK89x9xs"
      }
    },
    {
      "cell_type": "code",
      "metadata": {
        "id": "X_OCjh7Cx9xt"
      },
      "source": [
        "CUR_DIR = os.getcwd()\n",
        "\n",
        "train_master = pd.read_csv(CUR_DIR + '/KDDTrain+.csv')\n",
        "test_master = pd.read_csv(CUR_DIR + '/KDDTest+.csv')"
      ],
      "execution_count": null,
      "outputs": []
    },
    {
      "cell_type": "code",
      "metadata": {
        "id": "R2HKXEqrx9xu"
      },
      "source": [
        "edited_train = train_master.copy()\n",
        "edited_test = test_master.copy()"
      ],
      "execution_count": 3,
      "outputs": []
    },
    {
      "cell_type": "markdown",
      "metadata": {
        "id": "VLBn9kfox9xu"
      },
      "source": [
        "## 1.2 - Create the dataframes"
      ]
    },
    {
      "cell_type": "code",
      "metadata": {
        "id": "CHRATMoKx9xv"
      },
      "source": [
        "edited_train = edited_train.drop(['difficulty_lvl'], axis = 1)\n",
        "edited_test = edited_test.drop(['difficulty_lvl'], axis = 1)"
      ],
      "execution_count": 4,
      "outputs": []
    },
    {
      "cell_type": "markdown",
      "metadata": {
        "id": "0sNFNomzx9xv"
      },
      "source": [
        "### Removes some types of services to even out datasets"
      ]
    },
    {
      "cell_type": "code",
      "metadata": {
        "id": "tSPvycGwx9xw"
      },
      "source": [
        "edited_train = edited_train.query(\"service != 'aol'\")\n",
        "edited_train = edited_train.query(\"service != 'harvest'\")\n",
        "edited_train = edited_train.query(\"service != 'http_2784'\")\n",
        "edited_train = edited_train.query(\"service != 'http_8001'\")\n",
        "edited_train = edited_train.query(\"service != 'red_i'\")\n",
        "edited_train = edited_train.query(\"service != 'urh_i'\")\n",
        "edited_train = edited_train.query(\"service != 'printer'\")\n",
        "edited_train = edited_train.query(\"service != 'rje'\")\n",
        "\n",
        "edited_test = edited_test.query(\"service != 'printer'\")\n",
        "edited_test = edited_test.query(\"service != 'rje'\")"
      ],
      "execution_count": 5,
      "outputs": []
    },
    {
      "cell_type": "markdown",
      "metadata": {
        "id": "qXcVa6B9x9xw"
      },
      "source": [
        "## 1.3 - Change 'non normal' entries to 'attack'"
      ]
    },
    {
      "cell_type": "code",
      "metadata": {
        "id": "yRwcFonox9xx"
      },
      "source": [
        "edited_train.loc[edited_train.attack_type != 'normal', 'attack_type'] = 'attack'\n",
        "edited_test.loc[edited_test.attack_type != 'normal', 'attack_type'] = 'attack'"
      ],
      "execution_count": 6,
      "outputs": []
    },
    {
      "cell_type": "code",
      "metadata": {
        "colab": {
          "base_uri": "https://localhost:8080/",
          "height": 439
        },
        "id": "MxjQsjBYx9xy",
        "outputId": "27368058-442a-4045-9daf-6eead7a1716d"
      },
      "source": [
        "edited_train"
      ],
      "execution_count": 7,
      "outputs": [
        {
          "output_type": "execute_result",
          "data": {
            "text/plain": [
              "        duration protocol_type   service flag  src_bytes  dst_bytes  land  \\\n",
              "0              0           tcp  ftp_data   SF        491          0     0   \n",
              "1              0           udp     other   SF        146          0     0   \n",
              "2              0           tcp   private   S0          0          0     0   \n",
              "3              0           tcp      http   SF        232       8153     0   \n",
              "4              0           tcp      http   SF        199        420     0   \n",
              "...          ...           ...       ...  ...        ...        ...   ...   \n",
              "125968         0           tcp   private   S0          0          0     0   \n",
              "125969         8           udp   private   SF        105        145     0   \n",
              "125970         0           tcp      smtp   SF       2231        384     0   \n",
              "125971         0           tcp    klogin   S0          0          0     0   \n",
              "125972         0           tcp  ftp_data   SF        151          0     0   \n",
              "\n",
              "        wrong_fragment  urgent  hot  num_failed_logins  logged_in  \\\n",
              "0                    0       0    0                  0          0   \n",
              "1                    0       0    0                  0          0   \n",
              "2                    0       0    0                  0          0   \n",
              "3                    0       0    0                  0          1   \n",
              "4                    0       0    0                  0          1   \n",
              "...                ...     ...  ...                ...        ...   \n",
              "125968               0       0    0                  0          0   \n",
              "125969               0       0    0                  0          0   \n",
              "125970               0       0    0                  0          1   \n",
              "125971               0       0    0                  0          0   \n",
              "125972               0       0    0                  0          1   \n",
              "\n",
              "        num_compromised  root_shell  su_attempted  num_root  \\\n",
              "0                     0           0             0         0   \n",
              "1                     0           0             0         0   \n",
              "2                     0           0             0         0   \n",
              "3                     0           0             0         0   \n",
              "4                     0           0             0         0   \n",
              "...                 ...         ...           ...       ...   \n",
              "125968                0           0             0         0   \n",
              "125969                0           0             0         0   \n",
              "125970                0           0             0         0   \n",
              "125971                0           0             0         0   \n",
              "125972                0           0             0         0   \n",
              "\n",
              "        num_file_creations  num_shells  num_access_files  num_outbound_cmds  \\\n",
              "0                        0           0                 0                  0   \n",
              "1                        0           0                 0                  0   \n",
              "2                        0           0                 0                  0   \n",
              "3                        0           0                 0                  0   \n",
              "4                        0           0                 0                  0   \n",
              "...                    ...         ...               ...                ...   \n",
              "125968                   0           0                 0                  0   \n",
              "125969                   0           0                 0                  0   \n",
              "125970                   0           0                 0                  0   \n",
              "125971                   0           0                 0                  0   \n",
              "125972                   0           0                 0                  0   \n",
              "\n",
              "        is_host_login  is_guest_login  count  srv_count  serror_rate  \\\n",
              "0                   0               0      2          2      0.00000   \n",
              "1                   0               0     13          1      0.00000   \n",
              "2                   0               0    123          6      1.00000   \n",
              "3                   0               0      5          5      0.20000   \n",
              "4                   0               0     30         32      0.00000   \n",
              "...               ...             ...    ...        ...          ...   \n",
              "125968              0               0    184         25      1.00000   \n",
              "125969              0               0      2          2      0.00000   \n",
              "125970              0               0      1          1      0.00000   \n",
              "125971              0               0    144          8      1.00000   \n",
              "125972              0               0      1          1      0.00000   \n",
              "\n",
              "        srv_serror_rate  rerror_rate  srv_rerror_rate  same_srv_rate  \\\n",
              "0               0.00000      0.00000          0.00000        1.00000   \n",
              "1               0.00000      0.00000          0.00000        0.08000   \n",
              "2               1.00000      0.00000          0.00000        0.05000   \n",
              "3               0.20000      0.00000          0.00000        1.00000   \n",
              "4               0.00000      0.00000          0.00000        1.00000   \n",
              "...                 ...          ...              ...            ...   \n",
              "125968          1.00000      0.00000          0.00000        0.14000   \n",
              "125969          0.00000      0.00000          0.00000        1.00000   \n",
              "125970          0.00000      0.00000          0.00000        1.00000   \n",
              "125971          1.00000      0.00000          0.00000        0.06000   \n",
              "125972          0.00000      0.00000          0.00000        1.00000   \n",
              "\n",
              "        diff_srv_rate  srv_diff_host_rate  dst_host_count  dst_host_srv_count  \\\n",
              "0             0.00000             0.00000             150                  25   \n",
              "1             0.15000             0.00000             255                   1   \n",
              "2             0.07000             0.00000             255                  26   \n",
              "3             0.00000             0.00000              30                 255   \n",
              "4             0.00000             0.09000             255                 255   \n",
              "...               ...                 ...             ...                 ...   \n",
              "125968        0.06000             0.00000             255                  25   \n",
              "125969        0.00000             0.00000             255                 244   \n",
              "125970        0.00000             0.00000             255                  30   \n",
              "125971        0.05000             0.00000             255                   8   \n",
              "125972        0.00000             0.00000             255                  77   \n",
              "\n",
              "        dst_host_same_srv_rate  dst_host_diff_srv_rate  \\\n",
              "0                      0.17000                 0.03000   \n",
              "1                      0.00000                 0.60000   \n",
              "2                      0.10000                 0.05000   \n",
              "3                      1.00000                 0.00000   \n",
              "4                      1.00000                 0.00000   \n",
              "...                        ...                     ...   \n",
              "125968                 0.10000                 0.06000   \n",
              "125969                 0.96000                 0.01000   \n",
              "125970                 0.12000                 0.06000   \n",
              "125971                 0.03000                 0.05000   \n",
              "125972                 0.30000                 0.03000   \n",
              "\n",
              "        dst_host_same_src_port_rate  dst_host_srv_diff_host_rate  \\\n",
              "0                           0.17000                      0.00000   \n",
              "1                           0.88000                      0.00000   \n",
              "2                           0.00000                      0.00000   \n",
              "3                           0.03000                      0.04000   \n",
              "4                           0.00000                      0.00000   \n",
              "...                             ...                          ...   \n",
              "125968                      0.00000                      0.00000   \n",
              "125969                      0.01000                      0.00000   \n",
              "125970                      0.00000                      0.00000   \n",
              "125971                      0.00000                      0.00000   \n",
              "125972                      0.30000                      0.00000   \n",
              "\n",
              "        dst_host_serror_rate  dst_host_srv_serror_rate  dst_host_rerror_rate  \\\n",
              "0                    0.00000                   0.00000               0.05000   \n",
              "1                    0.00000                   0.00000               0.00000   \n",
              "2                    1.00000                   1.00000               0.00000   \n",
              "3                    0.03000                   0.01000               0.00000   \n",
              "4                    0.00000                   0.00000               0.00000   \n",
              "...                      ...                       ...                   ...   \n",
              "125968               1.00000                   1.00000               0.00000   \n",
              "125969               0.00000                   0.00000               0.00000   \n",
              "125970               0.72000                   0.00000               0.01000   \n",
              "125971               1.00000                   1.00000               0.00000   \n",
              "125972               0.00000                   0.00000               0.00000   \n",
              "\n",
              "        dst_host_srv_rerror_rate attack_type  \n",
              "0                        0.00000      normal  \n",
              "1                        0.00000      normal  \n",
              "2                        0.00000      attack  \n",
              "3                        0.01000      normal  \n",
              "4                        0.00000      normal  \n",
              "...                          ...         ...  \n",
              "125968                   0.00000      attack  \n",
              "125969                   0.00000      normal  \n",
              "125970                   0.00000      normal  \n",
              "125971                   0.00000      attack  \n",
              "125972                   0.00000      normal  \n",
              "\n",
              "[125793 rows x 42 columns]"
            ],
            "text/html": "<div>\n<style scoped>\n    .dataframe tbody tr th:only-of-type {\n        vertical-align: middle;\n    }\n\n    .dataframe tbody tr th {\n        vertical-align: top;\n    }\n\n    .dataframe thead th {\n        text-align: right;\n    }\n</style>\n<table border=\"1\" class=\"dataframe\">\n  <thead>\n    <tr style=\"text-align: right;\">\n      <th></th>\n      <th>duration</th>\n      <th>protocol_type</th>\n      <th>service</th>\n      <th>flag</th>\n      <th>src_bytes</th>\n      <th>dst_bytes</th>\n      <th>land</th>\n      <th>wrong_fragment</th>\n      <th>urgent</th>\n      <th>hot</th>\n      <th>num_failed_logins</th>\n      <th>logged_in</th>\n      <th>num_compromised</th>\n      <th>root_shell</th>\n      <th>su_attempted</th>\n      <th>num_root</th>\n      <th>num_file_creations</th>\n      <th>num_shells</th>\n      <th>num_access_files</th>\n      <th>num_outbound_cmds</th>\n      <th>is_host_login</th>\n      <th>is_guest_login</th>\n      <th>count</th>\n      <th>srv_count</th>\n      <th>serror_rate</th>\n      <th>srv_serror_rate</th>\n      <th>rerror_rate</th>\n      <th>srv_rerror_rate</th>\n      <th>same_srv_rate</th>\n      <th>diff_srv_rate</th>\n      <th>srv_diff_host_rate</th>\n      <th>dst_host_count</th>\n      <th>dst_host_srv_count</th>\n      <th>dst_host_same_srv_rate</th>\n      <th>dst_host_diff_srv_rate</th>\n      <th>dst_host_same_src_port_rate</th>\n      <th>dst_host_srv_diff_host_rate</th>\n      <th>dst_host_serror_rate</th>\n      <th>dst_host_srv_serror_rate</th>\n      <th>dst_host_rerror_rate</th>\n      <th>dst_host_srv_rerror_rate</th>\n      <th>attack_type</th>\n    </tr>\n  </thead>\n  <tbody>\n    <tr>\n      <th>0</th>\n      <td>0</td>\n      <td>tcp</td>\n      <td>ftp_data</td>\n      <td>SF</td>\n      <td>491</td>\n      <td>0</td>\n      <td>0</td>\n      <td>0</td>\n      <td>0</td>\n      <td>0</td>\n      <td>0</td>\n      <td>0</td>\n      <td>0</td>\n      <td>0</td>\n      <td>0</td>\n      <td>0</td>\n      <td>0</td>\n      <td>0</td>\n      <td>0</td>\n      <td>0</td>\n      <td>0</td>\n      <td>0</td>\n      <td>2</td>\n      <td>2</td>\n      <td>0.00000</td>\n      <td>0.00000</td>\n      <td>0.00000</td>\n      <td>0.00000</td>\n      <td>1.00000</td>\n      <td>0.00000</td>\n      <td>0.00000</td>\n      <td>150</td>\n      <td>25</td>\n      <td>0.17000</td>\n      <td>0.03000</td>\n      <td>0.17000</td>\n      <td>0.00000</td>\n      <td>0.00000</td>\n      <td>0.00000</td>\n      <td>0.05000</td>\n      <td>0.00000</td>\n      <td>normal</td>\n    </tr>\n    <tr>\n      <th>1</th>\n      <td>0</td>\n      <td>udp</td>\n      <td>other</td>\n      <td>SF</td>\n      <td>146</td>\n      <td>0</td>\n      <td>0</td>\n      <td>0</td>\n      <td>0</td>\n      <td>0</td>\n      <td>0</td>\n      <td>0</td>\n      <td>0</td>\n      <td>0</td>\n      <td>0</td>\n      <td>0</td>\n      <td>0</td>\n      <td>0</td>\n      <td>0</td>\n      <td>0</td>\n      <td>0</td>\n      <td>0</td>\n      <td>13</td>\n      <td>1</td>\n      <td>0.00000</td>\n      <td>0.00000</td>\n      <td>0.00000</td>\n      <td>0.00000</td>\n      <td>0.08000</td>\n      <td>0.15000</td>\n      <td>0.00000</td>\n      <td>255</td>\n      <td>1</td>\n      <td>0.00000</td>\n      <td>0.60000</td>\n      <td>0.88000</td>\n      <td>0.00000</td>\n      <td>0.00000</td>\n      <td>0.00000</td>\n      <td>0.00000</td>\n      <td>0.00000</td>\n      <td>normal</td>\n    </tr>\n    <tr>\n      <th>2</th>\n      <td>0</td>\n      <td>tcp</td>\n      <td>private</td>\n      <td>S0</td>\n      <td>0</td>\n      <td>0</td>\n      <td>0</td>\n      <td>0</td>\n      <td>0</td>\n      <td>0</td>\n      <td>0</td>\n      <td>0</td>\n      <td>0</td>\n      <td>0</td>\n      <td>0</td>\n      <td>0</td>\n      <td>0</td>\n      <td>0</td>\n      <td>0</td>\n      <td>0</td>\n      <td>0</td>\n      <td>0</td>\n      <td>123</td>\n      <td>6</td>\n      <td>1.00000</td>\n      <td>1.00000</td>\n      <td>0.00000</td>\n      <td>0.00000</td>\n      <td>0.05000</td>\n      <td>0.07000</td>\n      <td>0.00000</td>\n      <td>255</td>\n      <td>26</td>\n      <td>0.10000</td>\n      <td>0.05000</td>\n      <td>0.00000</td>\n      <td>0.00000</td>\n      <td>1.00000</td>\n      <td>1.00000</td>\n      <td>0.00000</td>\n      <td>0.00000</td>\n      <td>attack</td>\n    </tr>\n    <tr>\n      <th>3</th>\n      <td>0</td>\n      <td>tcp</td>\n      <td>http</td>\n      <td>SF</td>\n      <td>232</td>\n      <td>8153</td>\n      <td>0</td>\n      <td>0</td>\n      <td>0</td>\n      <td>0</td>\n      <td>0</td>\n      <td>1</td>\n      <td>0</td>\n      <td>0</td>\n      <td>0</td>\n      <td>0</td>\n      <td>0</td>\n      <td>0</td>\n      <td>0</td>\n      <td>0</td>\n      <td>0</td>\n      <td>0</td>\n      <td>5</td>\n      <td>5</td>\n      <td>0.20000</td>\n      <td>0.20000</td>\n      <td>0.00000</td>\n      <td>0.00000</td>\n      <td>1.00000</td>\n      <td>0.00000</td>\n      <td>0.00000</td>\n      <td>30</td>\n      <td>255</td>\n      <td>1.00000</td>\n      <td>0.00000</td>\n      <td>0.03000</td>\n      <td>0.04000</td>\n      <td>0.03000</td>\n      <td>0.01000</td>\n      <td>0.00000</td>\n      <td>0.01000</td>\n      <td>normal</td>\n    </tr>\n    <tr>\n      <th>4</th>\n      <td>0</td>\n      <td>tcp</td>\n      <td>http</td>\n      <td>SF</td>\n      <td>199</td>\n      <td>420</td>\n      <td>0</td>\n      <td>0</td>\n      <td>0</td>\n      <td>0</td>\n      <td>0</td>\n      <td>1</td>\n      <td>0</td>\n      <td>0</td>\n      <td>0</td>\n      <td>0</td>\n      <td>0</td>\n      <td>0</td>\n      <td>0</td>\n      <td>0</td>\n      <td>0</td>\n      <td>0</td>\n      <td>30</td>\n      <td>32</td>\n      <td>0.00000</td>\n      <td>0.00000</td>\n      <td>0.00000</td>\n      <td>0.00000</td>\n      <td>1.00000</td>\n      <td>0.00000</td>\n      <td>0.09000</td>\n      <td>255</td>\n      <td>255</td>\n      <td>1.00000</td>\n      <td>0.00000</td>\n      <td>0.00000</td>\n      <td>0.00000</td>\n      <td>0.00000</td>\n      <td>0.00000</td>\n      <td>0.00000</td>\n      <td>0.00000</td>\n      <td>normal</td>\n    </tr>\n    <tr>\n      <th>...</th>\n      <td>...</td>\n      <td>...</td>\n      <td>...</td>\n      <td>...</td>\n      <td>...</td>\n      <td>...</td>\n      <td>...</td>\n      <td>...</td>\n      <td>...</td>\n      <td>...</td>\n      <td>...</td>\n      <td>...</td>\n      <td>...</td>\n      <td>...</td>\n      <td>...</td>\n      <td>...</td>\n      <td>...</td>\n      <td>...</td>\n      <td>...</td>\n      <td>...</td>\n      <td>...</td>\n      <td>...</td>\n      <td>...</td>\n      <td>...</td>\n      <td>...</td>\n      <td>...</td>\n      <td>...</td>\n      <td>...</td>\n      <td>...</td>\n      <td>...</td>\n      <td>...</td>\n      <td>...</td>\n      <td>...</td>\n      <td>...</td>\n      <td>...</td>\n      <td>...</td>\n      <td>...</td>\n      <td>...</td>\n      <td>...</td>\n      <td>...</td>\n      <td>...</td>\n      <td>...</td>\n    </tr>\n    <tr>\n      <th>125968</th>\n      <td>0</td>\n      <td>tcp</td>\n      <td>private</td>\n      <td>S0</td>\n      <td>0</td>\n      <td>0</td>\n      <td>0</td>\n      <td>0</td>\n      <td>0</td>\n      <td>0</td>\n      <td>0</td>\n      <td>0</td>\n      <td>0</td>\n      <td>0</td>\n      <td>0</td>\n      <td>0</td>\n      <td>0</td>\n      <td>0</td>\n      <td>0</td>\n      <td>0</td>\n      <td>0</td>\n      <td>0</td>\n      <td>184</td>\n      <td>25</td>\n      <td>1.00000</td>\n      <td>1.00000</td>\n      <td>0.00000</td>\n      <td>0.00000</td>\n      <td>0.14000</td>\n      <td>0.06000</td>\n      <td>0.00000</td>\n      <td>255</td>\n      <td>25</td>\n      <td>0.10000</td>\n      <td>0.06000</td>\n      <td>0.00000</td>\n      <td>0.00000</td>\n      <td>1.00000</td>\n      <td>1.00000</td>\n      <td>0.00000</td>\n      <td>0.00000</td>\n      <td>attack</td>\n    </tr>\n    <tr>\n      <th>125969</th>\n      <td>8</td>\n      <td>udp</td>\n      <td>private</td>\n      <td>SF</td>\n      <td>105</td>\n      <td>145</td>\n      <td>0</td>\n      <td>0</td>\n      <td>0</td>\n      <td>0</td>\n      <td>0</td>\n      <td>0</td>\n      <td>0</td>\n      <td>0</td>\n      <td>0</td>\n      <td>0</td>\n      <td>0</td>\n      <td>0</td>\n      <td>0</td>\n      <td>0</td>\n      <td>0</td>\n      <td>0</td>\n      <td>2</td>\n      <td>2</td>\n      <td>0.00000</td>\n      <td>0.00000</td>\n      <td>0.00000</td>\n      <td>0.00000</td>\n      <td>1.00000</td>\n      <td>0.00000</td>\n      <td>0.00000</td>\n      <td>255</td>\n      <td>244</td>\n      <td>0.96000</td>\n      <td>0.01000</td>\n      <td>0.01000</td>\n      <td>0.00000</td>\n      <td>0.00000</td>\n      <td>0.00000</td>\n      <td>0.00000</td>\n      <td>0.00000</td>\n      <td>normal</td>\n    </tr>\n    <tr>\n      <th>125970</th>\n      <td>0</td>\n      <td>tcp</td>\n      <td>smtp</td>\n      <td>SF</td>\n      <td>2231</td>\n      <td>384</td>\n      <td>0</td>\n      <td>0</td>\n      <td>0</td>\n      <td>0</td>\n      <td>0</td>\n      <td>1</td>\n      <td>0</td>\n      <td>0</td>\n      <td>0</td>\n      <td>0</td>\n      <td>0</td>\n      <td>0</td>\n      <td>0</td>\n      <td>0</td>\n      <td>0</td>\n      <td>0</td>\n      <td>1</td>\n      <td>1</td>\n      <td>0.00000</td>\n      <td>0.00000</td>\n      <td>0.00000</td>\n      <td>0.00000</td>\n      <td>1.00000</td>\n      <td>0.00000</td>\n      <td>0.00000</td>\n      <td>255</td>\n      <td>30</td>\n      <td>0.12000</td>\n      <td>0.06000</td>\n      <td>0.00000</td>\n      <td>0.00000</td>\n      <td>0.72000</td>\n      <td>0.00000</td>\n      <td>0.01000</td>\n      <td>0.00000</td>\n      <td>normal</td>\n    </tr>\n    <tr>\n      <th>125971</th>\n      <td>0</td>\n      <td>tcp</td>\n      <td>klogin</td>\n      <td>S0</td>\n      <td>0</td>\n      <td>0</td>\n      <td>0</td>\n      <td>0</td>\n      <td>0</td>\n      <td>0</td>\n      <td>0</td>\n      <td>0</td>\n      <td>0</td>\n      <td>0</td>\n      <td>0</td>\n      <td>0</td>\n      <td>0</td>\n      <td>0</td>\n      <td>0</td>\n      <td>0</td>\n      <td>0</td>\n      <td>0</td>\n      <td>144</td>\n      <td>8</td>\n      <td>1.00000</td>\n      <td>1.00000</td>\n      <td>0.00000</td>\n      <td>0.00000</td>\n      <td>0.06000</td>\n      <td>0.05000</td>\n      <td>0.00000</td>\n      <td>255</td>\n      <td>8</td>\n      <td>0.03000</td>\n      <td>0.05000</td>\n      <td>0.00000</td>\n      <td>0.00000</td>\n      <td>1.00000</td>\n      <td>1.00000</td>\n      <td>0.00000</td>\n      <td>0.00000</td>\n      <td>attack</td>\n    </tr>\n    <tr>\n      <th>125972</th>\n      <td>0</td>\n      <td>tcp</td>\n      <td>ftp_data</td>\n      <td>SF</td>\n      <td>151</td>\n      <td>0</td>\n      <td>0</td>\n      <td>0</td>\n      <td>0</td>\n      <td>0</td>\n      <td>0</td>\n      <td>1</td>\n      <td>0</td>\n      <td>0</td>\n      <td>0</td>\n      <td>0</td>\n      <td>0</td>\n      <td>0</td>\n      <td>0</td>\n      <td>0</td>\n      <td>0</td>\n      <td>0</td>\n      <td>1</td>\n      <td>1</td>\n      <td>0.00000</td>\n      <td>0.00000</td>\n      <td>0.00000</td>\n      <td>0.00000</td>\n      <td>1.00000</td>\n      <td>0.00000</td>\n      <td>0.00000</td>\n      <td>255</td>\n      <td>77</td>\n      <td>0.30000</td>\n      <td>0.03000</td>\n      <td>0.30000</td>\n      <td>0.00000</td>\n      <td>0.00000</td>\n      <td>0.00000</td>\n      <td>0.00000</td>\n      <td>0.00000</td>\n      <td>normal</td>\n    </tr>\n  </tbody>\n</table>\n<p>125793 rows × 42 columns</p>\n</div>"
          },
          "metadata": {},
          "execution_count": 7
        }
      ]
    },
    {
      "cell_type": "markdown",
      "metadata": {
        "id": "UWVKwXYcx9xz"
      },
      "source": [
        "## 1.4 - Encode protocol, service and flag features"
      ]
    },
    {
      "cell_type": "code",
      "metadata": {
        "id": "wrbzVkugx9xz"
      },
      "source": [
        "proto_ohe_train = pd.get_dummies(edited_train['protocol_type'])\n",
        "proto_ohe_test = pd.get_dummies(edited_test['protocol_type'])\n",
        "\n",
        "service_ohe_train = pd.get_dummies(edited_train['service'])\n",
        "service_ohe_test = pd.get_dummies(edited_test['service'])\n",
        "\n",
        "flag_ohe_train = pd.get_dummies(edited_train['flag'])\n",
        "flag_ohe_test = pd.get_dummies(edited_test['flag'])"
      ],
      "execution_count": 8,
      "outputs": []
    },
    {
      "cell_type": "markdown",
      "metadata": {
        "id": "BC-X3a5Ex9x0"
      },
      "source": [
        "## 1.5 - Replace original features with the OHE features"
      ]
    },
    {
      "cell_type": "code",
      "metadata": {
        "id": "rALw4wZXx9x0"
      },
      "source": [
        "edited_train = edited_train.drop(['protocol_type', 'service', 'flag'], axis = 1)\n",
        "edited_test = edited_test.drop(['protocol_type', 'service', 'flag'], axis = 1)\n",
        "\n",
        "xtrain = pd.concat([edited_train, proto_ohe_train, service_ohe_train, flag_ohe_train], axis = 1)\n",
        "xtest = pd.concat([edited_test, proto_ohe_test, service_ohe_test, flag_ohe_test], axis = 1)"
      ],
      "execution_count": 9,
      "outputs": []
    },
    {
      "cell_type": "code",
      "metadata": {
        "id": "pzZb47741E-v"
      },
      "source": [
        "for column in xtrain:\n",
        "    # xtrain[column] = xtrain[column] / xtrain[column].max()\n",
        "    \n",
        "    if xtrain[column].isna().any():\n",
        "        xtrain[column] = float(0)\n",
        "\n",
        "for column in xtest:\n",
        "    # xtest[column] = xtest[column] / xtest[column].max()\n",
        "    \n",
        "    if xtest[column].isna().any():\n",
        "        xtest[column] = float(0)"
      ],
      "execution_count": 10,
      "outputs": []
    },
    {
      "cell_type": "code",
      "metadata": {
        "id": "2CNWh7Ya1cJl"
      },
      "source": [
        "edited_xtrain = xtrain.copy()\n",
        "edited_xtest = xtest.copy()"
      ],
      "execution_count": 11,
      "outputs": []
    },
    {
      "cell_type": "code",
      "metadata": {
        "colab": {
          "base_uri": "https://localhost:8080/",
          "height": 422
        },
        "id": "Rw3oe_JJ5bMc",
        "outputId": "4f80d8f6-00e2-4b4f-815d-dc50e701b331"
      },
      "source": [
        "edited_xtrain = edited_xtrain.drop(['attack_type'], axis = 1)\n",
        "edited_xtest = edited_xtest.drop(['attack_type'], axis = 1)\n",
        "\n",
        "edited_xtrain"
      ],
      "execution_count": 13,
      "outputs": [
        {
          "output_type": "execute_result",
          "data": {
            "text/plain": [
              "        duration  src_bytes  dst_bytes  land  wrong_fragment  urgent  hot  \\\n",
              "0              0        491          0     0               0       0    0   \n",
              "1              0        146          0     0               0       0    0   \n",
              "2              0          0          0     0               0       0    0   \n",
              "3              0        232       8153     0               0       0    0   \n",
              "4              0        199        420     0               0       0    0   \n",
              "...          ...        ...        ...   ...             ...     ...  ...   \n",
              "125968         0          0          0     0               0       0    0   \n",
              "125969         8        105        145     0               0       0    0   \n",
              "125970         0       2231        384     0               0       0    0   \n",
              "125971         0          0          0     0               0       0    0   \n",
              "125972         0        151          0     0               0       0    0   \n",
              "\n",
              "        num_failed_logins  logged_in  num_compromised  root_shell  \\\n",
              "0                       0          0                0           0   \n",
              "1                       0          0                0           0   \n",
              "2                       0          0                0           0   \n",
              "3                       0          1                0           0   \n",
              "4                       0          1                0           0   \n",
              "...                   ...        ...              ...         ...   \n",
              "125968                  0          0                0           0   \n",
              "125969                  0          0                0           0   \n",
              "125970                  0          1                0           0   \n",
              "125971                  0          0                0           0   \n",
              "125972                  0          1                0           0   \n",
              "\n",
              "        su_attempted  num_root  num_file_creations  num_shells  \\\n",
              "0                  0         0                   0           0   \n",
              "1                  0         0                   0           0   \n",
              "2                  0         0                   0           0   \n",
              "3                  0         0                   0           0   \n",
              "4                  0         0                   0           0   \n",
              "...              ...       ...                 ...         ...   \n",
              "125968             0         0                   0           0   \n",
              "125969             0         0                   0           0   \n",
              "125970             0         0                   0           0   \n",
              "125971             0         0                   0           0   \n",
              "125972             0         0                   0           0   \n",
              "\n",
              "        num_access_files  num_outbound_cmds  is_host_login  is_guest_login  \\\n",
              "0                      0                  0              0               0   \n",
              "1                      0                  0              0               0   \n",
              "2                      0                  0              0               0   \n",
              "3                      0                  0              0               0   \n",
              "4                      0                  0              0               0   \n",
              "...                  ...                ...            ...             ...   \n",
              "125968                 0                  0              0               0   \n",
              "125969                 0                  0              0               0   \n",
              "125970                 0                  0              0               0   \n",
              "125971                 0                  0              0               0   \n",
              "125972                 0                  0              0               0   \n",
              "\n",
              "        count  srv_count  serror_rate  srv_serror_rate  rerror_rate  \\\n",
              "0           2          2      0.00000          0.00000      0.00000   \n",
              "1          13          1      0.00000          0.00000      0.00000   \n",
              "2         123          6      1.00000          1.00000      0.00000   \n",
              "3           5          5      0.20000          0.20000      0.00000   \n",
              "4          30         32      0.00000          0.00000      0.00000   \n",
              "...       ...        ...          ...              ...          ...   \n",
              "125968    184         25      1.00000          1.00000      0.00000   \n",
              "125969      2          2      0.00000          0.00000      0.00000   \n",
              "125970      1          1      0.00000          0.00000      0.00000   \n",
              "125971    144          8      1.00000          1.00000      0.00000   \n",
              "125972      1          1      0.00000          0.00000      0.00000   \n",
              "\n",
              "        srv_rerror_rate  same_srv_rate  diff_srv_rate  srv_diff_host_rate  \\\n",
              "0               0.00000        1.00000        0.00000             0.00000   \n",
              "1               0.00000        0.08000        0.15000             0.00000   \n",
              "2               0.00000        0.05000        0.07000             0.00000   \n",
              "3               0.00000        1.00000        0.00000             0.00000   \n",
              "4               0.00000        1.00000        0.00000             0.09000   \n",
              "...                 ...            ...            ...                 ...   \n",
              "125968          0.00000        0.14000        0.06000             0.00000   \n",
              "125969          0.00000        1.00000        0.00000             0.00000   \n",
              "125970          0.00000        1.00000        0.00000             0.00000   \n",
              "125971          0.00000        0.06000        0.05000             0.00000   \n",
              "125972          0.00000        1.00000        0.00000             0.00000   \n",
              "\n",
              "        dst_host_count  dst_host_srv_count  dst_host_same_srv_rate  \\\n",
              "0                  150                  25                 0.17000   \n",
              "1                  255                   1                 0.00000   \n",
              "2                  255                  26                 0.10000   \n",
              "3                   30                 255                 1.00000   \n",
              "4                  255                 255                 1.00000   \n",
              "...                ...                 ...                     ...   \n",
              "125968             255                  25                 0.10000   \n",
              "125969             255                 244                 0.96000   \n",
              "125970             255                  30                 0.12000   \n",
              "125971             255                   8                 0.03000   \n",
              "125972             255                  77                 0.30000   \n",
              "\n",
              "        dst_host_diff_srv_rate  dst_host_same_src_port_rate  \\\n",
              "0                      0.03000                      0.17000   \n",
              "1                      0.60000                      0.88000   \n",
              "2                      0.05000                      0.00000   \n",
              "3                      0.00000                      0.03000   \n",
              "4                      0.00000                      0.00000   \n",
              "...                        ...                          ...   \n",
              "125968                 0.06000                      0.00000   \n",
              "125969                 0.01000                      0.01000   \n",
              "125970                 0.06000                      0.00000   \n",
              "125971                 0.05000                      0.00000   \n",
              "125972                 0.03000                      0.30000   \n",
              "\n",
              "        dst_host_srv_diff_host_rate  dst_host_serror_rate  \\\n",
              "0                           0.00000               0.00000   \n",
              "1                           0.00000               0.00000   \n",
              "2                           0.00000               1.00000   \n",
              "3                           0.04000               0.03000   \n",
              "4                           0.00000               0.00000   \n",
              "...                             ...                   ...   \n",
              "125968                      0.00000               1.00000   \n",
              "125969                      0.00000               0.00000   \n",
              "125970                      0.00000               0.72000   \n",
              "125971                      0.00000               1.00000   \n",
              "125972                      0.00000               0.00000   \n",
              "\n",
              "        dst_host_srv_serror_rate  dst_host_rerror_rate  \\\n",
              "0                        0.00000               0.05000   \n",
              "1                        0.00000               0.00000   \n",
              "2                        1.00000               0.00000   \n",
              "3                        0.01000               0.00000   \n",
              "4                        0.00000               0.00000   \n",
              "...                          ...                   ...   \n",
              "125968                   1.00000               0.00000   \n",
              "125969                   0.00000               0.00000   \n",
              "125970                   0.00000               0.01000   \n",
              "125971                   1.00000               0.00000   \n",
              "125972                   0.00000               0.00000   \n",
              "\n",
              "        dst_host_srv_rerror_rate  icmp  tcp  udp  IRC  X11  Z39_50  auth  bgp  \\\n",
              "0                        0.00000     0    1    0    0    0       0     0    0   \n",
              "1                        0.00000     0    0    1    0    0       0     0    0   \n",
              "2                        0.00000     0    1    0    0    0       0     0    0   \n",
              "3                        0.01000     0    1    0    0    0       0     0    0   \n",
              "4                        0.00000     0    1    0    0    0       0     0    0   \n",
              "...                          ...   ...  ...  ...  ...  ...     ...   ...  ...   \n",
              "125968                   0.00000     0    1    0    0    0       0     0    0   \n",
              "125969                   0.00000     0    0    1    0    0       0     0    0   \n",
              "125970                   0.00000     0    1    0    0    0       0     0    0   \n",
              "125971                   0.00000     0    1    0    0    0       0     0    0   \n",
              "125972                   0.00000     0    1    0    0    0       0     0    0   \n",
              "\n",
              "        courier  csnet_ns  ctf  daytime  discard  domain  domain_u  echo  \\\n",
              "0             0         0    0        0        0       0         0     0   \n",
              "1             0         0    0        0        0       0         0     0   \n",
              "2             0         0    0        0        0       0         0     0   \n",
              "3             0         0    0        0        0       0         0     0   \n",
              "4             0         0    0        0        0       0         0     0   \n",
              "...         ...       ...  ...      ...      ...     ...       ...   ...   \n",
              "125968        0         0    0        0        0       0         0     0   \n",
              "125969        0         0    0        0        0       0         0     0   \n",
              "125970        0         0    0        0        0       0         0     0   \n",
              "125971        0         0    0        0        0       0         0     0   \n",
              "125972        0         0    0        0        0       0         0     0   \n",
              "\n",
              "        eco_i  ecr_i  efs  exec  finger  ftp  ftp_data  gopher  hostnames  \\\n",
              "0           0      0    0     0       0    0         1       0          0   \n",
              "1           0      0    0     0       0    0         0       0          0   \n",
              "2           0      0    0     0       0    0         0       0          0   \n",
              "3           0      0    0     0       0    0         0       0          0   \n",
              "4           0      0    0     0       0    0         0       0          0   \n",
              "...       ...    ...  ...   ...     ...  ...       ...     ...        ...   \n",
              "125968      0      0    0     0       0    0         0       0          0   \n",
              "125969      0      0    0     0       0    0         0       0          0   \n",
              "125970      0      0    0     0       0    0         0       0          0   \n",
              "125971      0      0    0     0       0    0         0       0          0   \n",
              "125972      0      0    0     0       0    0         1       0          0   \n",
              "\n",
              "        http  http_443  imap4  iso_tsap  klogin  kshell  ldap  link  login  \\\n",
              "0          0         0      0         0       0       0     0     0      0   \n",
              "1          0         0      0         0       0       0     0     0      0   \n",
              "2          0         0      0         0       0       0     0     0      0   \n",
              "3          1         0      0         0       0       0     0     0      0   \n",
              "4          1         0      0         0       0       0     0     0      0   \n",
              "...      ...       ...    ...       ...     ...     ...   ...   ...    ...   \n",
              "125968     0         0      0         0       0       0     0     0      0   \n",
              "125969     0         0      0         0       0       0     0     0      0   \n",
              "125970     0         0      0         0       0       0     0     0      0   \n",
              "125971     0         0      0         0       1       0     0     0      0   \n",
              "125972     0         0      0         0       0       0     0     0      0   \n",
              "\n",
              "        mtp  name  netbios_dgm  netbios_ns  netbios_ssn  netstat  nnsp  nntp  \\\n",
              "0         0     0            0           0            0        0     0     0   \n",
              "1         0     0            0           0            0        0     0     0   \n",
              "2         0     0            0           0            0        0     0     0   \n",
              "3         0     0            0           0            0        0     0     0   \n",
              "4         0     0            0           0            0        0     0     0   \n",
              "...     ...   ...          ...         ...          ...      ...   ...   ...   \n",
              "125968    0     0            0           0            0        0     0     0   \n",
              "125969    0     0            0           0            0        0     0     0   \n",
              "125970    0     0            0           0            0        0     0     0   \n",
              "125971    0     0            0           0            0        0     0     0   \n",
              "125972    0     0            0           0            0        0     0     0   \n",
              "\n",
              "        ntp_u  other  pm_dump  pop_2  pop_3  private  remote_job  shell  smtp  \\\n",
              "0           0      0        0      0      0        0           0      0     0   \n",
              "1           0      1        0      0      0        0           0      0     0   \n",
              "2           0      0        0      0      0        1           0      0     0   \n",
              "3           0      0        0      0      0        0           0      0     0   \n",
              "4           0      0        0      0      0        0           0      0     0   \n",
              "...       ...    ...      ...    ...    ...      ...         ...    ...   ...   \n",
              "125968      0      0        0      0      0        1           0      0     0   \n",
              "125969      0      0        0      0      0        1           0      0     0   \n",
              "125970      0      0        0      0      0        0           0      0     1   \n",
              "125971      0      0        0      0      0        0           0      0     0   \n",
              "125972      0      0        0      0      0        0           0      0     0   \n",
              "\n",
              "        sql_net  ssh  sunrpc  supdup  systat  telnet  tftp_u  tim_i  time  \\\n",
              "0             0    0       0       0       0       0       0      0     0   \n",
              "1             0    0       0       0       0       0       0      0     0   \n",
              "2             0    0       0       0       0       0       0      0     0   \n",
              "3             0    0       0       0       0       0       0      0     0   \n",
              "4             0    0       0       0       0       0       0      0     0   \n",
              "...         ...  ...     ...     ...     ...     ...     ...    ...   ...   \n",
              "125968        0    0       0       0       0       0       0      0     0   \n",
              "125969        0    0       0       0       0       0       0      0     0   \n",
              "125970        0    0       0       0       0       0       0      0     0   \n",
              "125971        0    0       0       0       0       0       0      0     0   \n",
              "125972        0    0       0       0       0       0       0      0     0   \n",
              "\n",
              "        urp_i  uucp  uucp_path  vmnet  whois  OTH  REJ  RSTO  RSTOS0  RSTR  \\\n",
              "0           0     0          0      0      0    0    0     0       0     0   \n",
              "1           0     0          0      0      0    0    0     0       0     0   \n",
              "2           0     0          0      0      0    0    0     0       0     0   \n",
              "3           0     0          0      0      0    0    0     0       0     0   \n",
              "4           0     0          0      0      0    0    0     0       0     0   \n",
              "...       ...   ...        ...    ...    ...  ...  ...   ...     ...   ...   \n",
              "125968      0     0          0      0      0    0    0     0       0     0   \n",
              "125969      0     0          0      0      0    0    0     0       0     0   \n",
              "125970      0     0          0      0      0    0    0     0       0     0   \n",
              "125971      0     0          0      0      0    0    0     0       0     0   \n",
              "125972      0     0          0      0      0    0    0     0       0     0   \n",
              "\n",
              "        S0  S1  S2  S3  SF  SH  \n",
              "0        0   0   0   0   1   0  \n",
              "1        0   0   0   0   1   0  \n",
              "2        1   0   0   0   0   0  \n",
              "3        0   0   0   0   1   0  \n",
              "4        0   0   0   0   1   0  \n",
              "...     ..  ..  ..  ..  ..  ..  \n",
              "125968   1   0   0   0   0   0  \n",
              "125969   0   0   0   0   1   0  \n",
              "125970   0   0   0   0   1   0  \n",
              "125971   1   0   0   0   0   0  \n",
              "125972   0   0   0   0   1   0  \n",
              "\n",
              "[125793 rows x 114 columns]"
            ],
            "text/html": "<div>\n<style scoped>\n    .dataframe tbody tr th:only-of-type {\n        vertical-align: middle;\n    }\n\n    .dataframe tbody tr th {\n        vertical-align: top;\n    }\n\n    .dataframe thead th {\n        text-align: right;\n    }\n</style>\n<table border=\"1\" class=\"dataframe\">\n  <thead>\n    <tr style=\"text-align: right;\">\n      <th></th>\n      <th>duration</th>\n      <th>src_bytes</th>\n      <th>dst_bytes</th>\n      <th>land</th>\n      <th>wrong_fragment</th>\n      <th>urgent</th>\n      <th>hot</th>\n      <th>num_failed_logins</th>\n      <th>logged_in</th>\n      <th>num_compromised</th>\n      <th>root_shell</th>\n      <th>su_attempted</th>\n      <th>num_root</th>\n      <th>num_file_creations</th>\n      <th>num_shells</th>\n      <th>num_access_files</th>\n      <th>num_outbound_cmds</th>\n      <th>is_host_login</th>\n      <th>is_guest_login</th>\n      <th>count</th>\n      <th>srv_count</th>\n      <th>serror_rate</th>\n      <th>srv_serror_rate</th>\n      <th>rerror_rate</th>\n      <th>srv_rerror_rate</th>\n      <th>same_srv_rate</th>\n      <th>diff_srv_rate</th>\n      <th>srv_diff_host_rate</th>\n      <th>dst_host_count</th>\n      <th>dst_host_srv_count</th>\n      <th>dst_host_same_srv_rate</th>\n      <th>dst_host_diff_srv_rate</th>\n      <th>dst_host_same_src_port_rate</th>\n      <th>dst_host_srv_diff_host_rate</th>\n      <th>dst_host_serror_rate</th>\n      <th>dst_host_srv_serror_rate</th>\n      <th>dst_host_rerror_rate</th>\n      <th>dst_host_srv_rerror_rate</th>\n      <th>icmp</th>\n      <th>tcp</th>\n      <th>udp</th>\n      <th>IRC</th>\n      <th>X11</th>\n      <th>Z39_50</th>\n      <th>auth</th>\n      <th>bgp</th>\n      <th>courier</th>\n      <th>csnet_ns</th>\n      <th>ctf</th>\n      <th>daytime</th>\n      <th>discard</th>\n      <th>domain</th>\n      <th>domain_u</th>\n      <th>echo</th>\n      <th>eco_i</th>\n      <th>ecr_i</th>\n      <th>efs</th>\n      <th>exec</th>\n      <th>finger</th>\n      <th>ftp</th>\n      <th>ftp_data</th>\n      <th>gopher</th>\n      <th>hostnames</th>\n      <th>http</th>\n      <th>http_443</th>\n      <th>imap4</th>\n      <th>iso_tsap</th>\n      <th>klogin</th>\n      <th>kshell</th>\n      <th>ldap</th>\n      <th>link</th>\n      <th>login</th>\n      <th>mtp</th>\n      <th>name</th>\n      <th>netbios_dgm</th>\n      <th>netbios_ns</th>\n      <th>netbios_ssn</th>\n      <th>netstat</th>\n      <th>nnsp</th>\n      <th>nntp</th>\n      <th>ntp_u</th>\n      <th>other</th>\n      <th>pm_dump</th>\n      <th>pop_2</th>\n      <th>pop_3</th>\n      <th>private</th>\n      <th>remote_job</th>\n      <th>shell</th>\n      <th>smtp</th>\n      <th>sql_net</th>\n      <th>ssh</th>\n      <th>sunrpc</th>\n      <th>supdup</th>\n      <th>systat</th>\n      <th>telnet</th>\n      <th>tftp_u</th>\n      <th>tim_i</th>\n      <th>time</th>\n      <th>urp_i</th>\n      <th>uucp</th>\n      <th>uucp_path</th>\n      <th>vmnet</th>\n      <th>whois</th>\n      <th>OTH</th>\n      <th>REJ</th>\n      <th>RSTO</th>\n      <th>RSTOS0</th>\n      <th>RSTR</th>\n      <th>S0</th>\n      <th>S1</th>\n      <th>S2</th>\n      <th>S3</th>\n      <th>SF</th>\n      <th>SH</th>\n    </tr>\n  </thead>\n  <tbody>\n    <tr>\n      <th>0</th>\n      <td>0</td>\n      <td>491</td>\n      <td>0</td>\n      <td>0</td>\n      <td>0</td>\n      <td>0</td>\n      <td>0</td>\n      <td>0</td>\n      <td>0</td>\n      <td>0</td>\n      <td>0</td>\n      <td>0</td>\n      <td>0</td>\n      <td>0</td>\n      <td>0</td>\n      <td>0</td>\n      <td>0</td>\n      <td>0</td>\n      <td>0</td>\n      <td>2</td>\n      <td>2</td>\n      <td>0.00000</td>\n      <td>0.00000</td>\n      <td>0.00000</td>\n      <td>0.00000</td>\n      <td>1.00000</td>\n      <td>0.00000</td>\n      <td>0.00000</td>\n      <td>150</td>\n      <td>25</td>\n      <td>0.17000</td>\n      <td>0.03000</td>\n      <td>0.17000</td>\n      <td>0.00000</td>\n      <td>0.00000</td>\n      <td>0.00000</td>\n      <td>0.05000</td>\n      <td>0.00000</td>\n      <td>0</td>\n      <td>1</td>\n      <td>0</td>\n      <td>0</td>\n      <td>0</td>\n      <td>0</td>\n      <td>0</td>\n      <td>0</td>\n      <td>0</td>\n      <td>0</td>\n      <td>0</td>\n      <td>0</td>\n      <td>0</td>\n      <td>0</td>\n      <td>0</td>\n      <td>0</td>\n      <td>0</td>\n      <td>0</td>\n      <td>0</td>\n      <td>0</td>\n      <td>0</td>\n      <td>0</td>\n      <td>1</td>\n      <td>0</td>\n      <td>0</td>\n      <td>0</td>\n      <td>0</td>\n      <td>0</td>\n      <td>0</td>\n      <td>0</td>\n      <td>0</td>\n      <td>0</td>\n      <td>0</td>\n      <td>0</td>\n      <td>0</td>\n      <td>0</td>\n      <td>0</td>\n      <td>0</td>\n      <td>0</td>\n      <td>0</td>\n      <td>0</td>\n      <td>0</td>\n      <td>0</td>\n      <td>0</td>\n      <td>0</td>\n      <td>0</td>\n      <td>0</td>\n      <td>0</td>\n      <td>0</td>\n      <td>0</td>\n      <td>0</td>\n      <td>0</td>\n      <td>0</td>\n      <td>0</td>\n      <td>0</td>\n      <td>0</td>\n      <td>0</td>\n      <td>0</td>\n      <td>0</td>\n      <td>0</td>\n      <td>0</td>\n      <td>0</td>\n      <td>0</td>\n      <td>0</td>\n      <td>0</td>\n      <td>0</td>\n      <td>0</td>\n      <td>0</td>\n      <td>0</td>\n      <td>0</td>\n      <td>0</td>\n      <td>0</td>\n      <td>0</td>\n      <td>0</td>\n      <td>1</td>\n      <td>0</td>\n    </tr>\n    <tr>\n      <th>1</th>\n      <td>0</td>\n      <td>146</td>\n      <td>0</td>\n      <td>0</td>\n      <td>0</td>\n      <td>0</td>\n      <td>0</td>\n      <td>0</td>\n      <td>0</td>\n      <td>0</td>\n      <td>0</td>\n      <td>0</td>\n      <td>0</td>\n      <td>0</td>\n      <td>0</td>\n      <td>0</td>\n      <td>0</td>\n      <td>0</td>\n      <td>0</td>\n      <td>13</td>\n      <td>1</td>\n      <td>0.00000</td>\n      <td>0.00000</td>\n      <td>0.00000</td>\n      <td>0.00000</td>\n      <td>0.08000</td>\n      <td>0.15000</td>\n      <td>0.00000</td>\n      <td>255</td>\n      <td>1</td>\n      <td>0.00000</td>\n      <td>0.60000</td>\n      <td>0.88000</td>\n      <td>0.00000</td>\n      <td>0.00000</td>\n      <td>0.00000</td>\n      <td>0.00000</td>\n      <td>0.00000</td>\n      <td>0</td>\n      <td>0</td>\n      <td>1</td>\n      <td>0</td>\n      <td>0</td>\n      <td>0</td>\n      <td>0</td>\n      <td>0</td>\n      <td>0</td>\n      <td>0</td>\n      <td>0</td>\n      <td>0</td>\n      <td>0</td>\n      <td>0</td>\n      <td>0</td>\n      <td>0</td>\n      <td>0</td>\n      <td>0</td>\n      <td>0</td>\n      <td>0</td>\n      <td>0</td>\n      <td>0</td>\n      <td>0</td>\n      <td>0</td>\n      <td>0</td>\n      <td>0</td>\n      <td>0</td>\n      <td>0</td>\n      <td>0</td>\n      <td>0</td>\n      <td>0</td>\n      <td>0</td>\n      <td>0</td>\n      <td>0</td>\n      <td>0</td>\n      <td>0</td>\n      <td>0</td>\n      <td>0</td>\n      <td>0</td>\n      <td>0</td>\n      <td>0</td>\n      <td>0</td>\n      <td>0</td>\n      <td>1</td>\n      <td>0</td>\n      <td>0</td>\n      <td>0</td>\n      <td>0</td>\n      <td>0</td>\n      <td>0</td>\n      <td>0</td>\n      <td>0</td>\n      <td>0</td>\n      <td>0</td>\n      <td>0</td>\n      <td>0</td>\n      <td>0</td>\n      <td>0</td>\n      <td>0</td>\n      <td>0</td>\n      <td>0</td>\n      <td>0</td>\n      <td>0</td>\n      <td>0</td>\n      <td>0</td>\n      <td>0</td>\n      <td>0</td>\n      <td>0</td>\n      <td>0</td>\n      <td>0</td>\n      <td>0</td>\n      <td>0</td>\n      <td>0</td>\n      <td>0</td>\n      <td>1</td>\n      <td>0</td>\n    </tr>\n    <tr>\n      <th>2</th>\n      <td>0</td>\n      <td>0</td>\n      <td>0</td>\n      <td>0</td>\n      <td>0</td>\n      <td>0</td>\n      <td>0</td>\n      <td>0</td>\n      <td>0</td>\n      <td>0</td>\n      <td>0</td>\n      <td>0</td>\n      <td>0</td>\n      <td>0</td>\n      <td>0</td>\n      <td>0</td>\n      <td>0</td>\n      <td>0</td>\n      <td>0</td>\n      <td>123</td>\n      <td>6</td>\n      <td>1.00000</td>\n      <td>1.00000</td>\n      <td>0.00000</td>\n      <td>0.00000</td>\n      <td>0.05000</td>\n      <td>0.07000</td>\n      <td>0.00000</td>\n      <td>255</td>\n      <td>26</td>\n      <td>0.10000</td>\n      <td>0.05000</td>\n      <td>0.00000</td>\n      <td>0.00000</td>\n      <td>1.00000</td>\n      <td>1.00000</td>\n      <td>0.00000</td>\n      <td>0.00000</td>\n      <td>0</td>\n      <td>1</td>\n      <td>0</td>\n      <td>0</td>\n      <td>0</td>\n      <td>0</td>\n      <td>0</td>\n      <td>0</td>\n      <td>0</td>\n      <td>0</td>\n      <td>0</td>\n      <td>0</td>\n      <td>0</td>\n      <td>0</td>\n      <td>0</td>\n      <td>0</td>\n      <td>0</td>\n      <td>0</td>\n      <td>0</td>\n      <td>0</td>\n      <td>0</td>\n      <td>0</td>\n      <td>0</td>\n      <td>0</td>\n      <td>0</td>\n      <td>0</td>\n      <td>0</td>\n      <td>0</td>\n      <td>0</td>\n      <td>0</td>\n      <td>0</td>\n      <td>0</td>\n      <td>0</td>\n      <td>0</td>\n      <td>0</td>\n      <td>0</td>\n      <td>0</td>\n      <td>0</td>\n      <td>0</td>\n      <td>0</td>\n      <td>0</td>\n      <td>0</td>\n      <td>0</td>\n      <td>0</td>\n      <td>0</td>\n      <td>0</td>\n      <td>0</td>\n      <td>1</td>\n      <td>0</td>\n      <td>0</td>\n      <td>0</td>\n      <td>0</td>\n      <td>0</td>\n      <td>0</td>\n      <td>0</td>\n      <td>0</td>\n      <td>0</td>\n      <td>0</td>\n      <td>0</td>\n      <td>0</td>\n      <td>0</td>\n      <td>0</td>\n      <td>0</td>\n      <td>0</td>\n      <td>0</td>\n      <td>0</td>\n      <td>0</td>\n      <td>0</td>\n      <td>0</td>\n      <td>0</td>\n      <td>1</td>\n      <td>0</td>\n      <td>0</td>\n      <td>0</td>\n      <td>0</td>\n      <td>0</td>\n    </tr>\n    <tr>\n      <th>3</th>\n      <td>0</td>\n      <td>232</td>\n      <td>8153</td>\n      <td>0</td>\n      <td>0</td>\n      <td>0</td>\n      <td>0</td>\n      <td>0</td>\n      <td>1</td>\n      <td>0</td>\n      <td>0</td>\n      <td>0</td>\n      <td>0</td>\n      <td>0</td>\n      <td>0</td>\n      <td>0</td>\n      <td>0</td>\n      <td>0</td>\n      <td>0</td>\n      <td>5</td>\n      <td>5</td>\n      <td>0.20000</td>\n      <td>0.20000</td>\n      <td>0.00000</td>\n      <td>0.00000</td>\n      <td>1.00000</td>\n      <td>0.00000</td>\n      <td>0.00000</td>\n      <td>30</td>\n      <td>255</td>\n      <td>1.00000</td>\n      <td>0.00000</td>\n      <td>0.03000</td>\n      <td>0.04000</td>\n      <td>0.03000</td>\n      <td>0.01000</td>\n      <td>0.00000</td>\n      <td>0.01000</td>\n      <td>0</td>\n      <td>1</td>\n      <td>0</td>\n      <td>0</td>\n      <td>0</td>\n      <td>0</td>\n      <td>0</td>\n      <td>0</td>\n      <td>0</td>\n      <td>0</td>\n      <td>0</td>\n      <td>0</td>\n      <td>0</td>\n      <td>0</td>\n      <td>0</td>\n      <td>0</td>\n      <td>0</td>\n      <td>0</td>\n      <td>0</td>\n      <td>0</td>\n      <td>0</td>\n      <td>0</td>\n      <td>0</td>\n      <td>0</td>\n      <td>0</td>\n      <td>1</td>\n      <td>0</td>\n      <td>0</td>\n      <td>0</td>\n      <td>0</td>\n      <td>0</td>\n      <td>0</td>\n      <td>0</td>\n      <td>0</td>\n      <td>0</td>\n      <td>0</td>\n      <td>0</td>\n      <td>0</td>\n      <td>0</td>\n      <td>0</td>\n      <td>0</td>\n      <td>0</td>\n      <td>0</td>\n      <td>0</td>\n      <td>0</td>\n      <td>0</td>\n      <td>0</td>\n      <td>0</td>\n      <td>0</td>\n      <td>0</td>\n      <td>0</td>\n      <td>0</td>\n      <td>0</td>\n      <td>0</td>\n      <td>0</td>\n      <td>0</td>\n      <td>0</td>\n      <td>0</td>\n      <td>0</td>\n      <td>0</td>\n      <td>0</td>\n      <td>0</td>\n      <td>0</td>\n      <td>0</td>\n      <td>0</td>\n      <td>0</td>\n      <td>0</td>\n      <td>0</td>\n      <td>0</td>\n      <td>0</td>\n      <td>0</td>\n      <td>0</td>\n      <td>0</td>\n      <td>0</td>\n      <td>1</td>\n      <td>0</td>\n    </tr>\n    <tr>\n      <th>4</th>\n      <td>0</td>\n      <td>199</td>\n      <td>420</td>\n      <td>0</td>\n      <td>0</td>\n      <td>0</td>\n      <td>0</td>\n      <td>0</td>\n      <td>1</td>\n      <td>0</td>\n      <td>0</td>\n      <td>0</td>\n      <td>0</td>\n      <td>0</td>\n      <td>0</td>\n      <td>0</td>\n      <td>0</td>\n      <td>0</td>\n      <td>0</td>\n      <td>30</td>\n      <td>32</td>\n      <td>0.00000</td>\n      <td>0.00000</td>\n      <td>0.00000</td>\n      <td>0.00000</td>\n      <td>1.00000</td>\n      <td>0.00000</td>\n      <td>0.09000</td>\n      <td>255</td>\n      <td>255</td>\n      <td>1.00000</td>\n      <td>0.00000</td>\n      <td>0.00000</td>\n      <td>0.00000</td>\n      <td>0.00000</td>\n      <td>0.00000</td>\n      <td>0.00000</td>\n      <td>0.00000</td>\n      <td>0</td>\n      <td>1</td>\n      <td>0</td>\n      <td>0</td>\n      <td>0</td>\n      <td>0</td>\n      <td>0</td>\n      <td>0</td>\n      <td>0</td>\n      <td>0</td>\n      <td>0</td>\n      <td>0</td>\n      <td>0</td>\n      <td>0</td>\n      <td>0</td>\n      <td>0</td>\n      <td>0</td>\n      <td>0</td>\n      <td>0</td>\n      <td>0</td>\n      <td>0</td>\n      <td>0</td>\n      <td>0</td>\n      <td>0</td>\n      <td>0</td>\n      <td>1</td>\n      <td>0</td>\n      <td>0</td>\n      <td>0</td>\n      <td>0</td>\n      <td>0</td>\n      <td>0</td>\n      <td>0</td>\n      <td>0</td>\n      <td>0</td>\n      <td>0</td>\n      <td>0</td>\n      <td>0</td>\n      <td>0</td>\n      <td>0</td>\n      <td>0</td>\n      <td>0</td>\n      <td>0</td>\n      <td>0</td>\n      <td>0</td>\n      <td>0</td>\n      <td>0</td>\n      <td>0</td>\n      <td>0</td>\n      <td>0</td>\n      <td>0</td>\n      <td>0</td>\n      <td>0</td>\n      <td>0</td>\n      <td>0</td>\n      <td>0</td>\n      <td>0</td>\n      <td>0</td>\n      <td>0</td>\n      <td>0</td>\n      <td>0</td>\n      <td>0</td>\n      <td>0</td>\n      <td>0</td>\n      <td>0</td>\n      <td>0</td>\n      <td>0</td>\n      <td>0</td>\n      <td>0</td>\n      <td>0</td>\n      <td>0</td>\n      <td>0</td>\n      <td>0</td>\n      <td>0</td>\n      <td>1</td>\n      <td>0</td>\n    </tr>\n    <tr>\n      <th>...</th>\n      <td>...</td>\n      <td>...</td>\n      <td>...</td>\n      <td>...</td>\n      <td>...</td>\n      <td>...</td>\n      <td>...</td>\n      <td>...</td>\n      <td>...</td>\n      <td>...</td>\n      <td>...</td>\n      <td>...</td>\n      <td>...</td>\n      <td>...</td>\n      <td>...</td>\n      <td>...</td>\n      <td>...</td>\n      <td>...</td>\n      <td>...</td>\n      <td>...</td>\n      <td>...</td>\n      <td>...</td>\n      <td>...</td>\n      <td>...</td>\n      <td>...</td>\n      <td>...</td>\n      <td>...</td>\n      <td>...</td>\n      <td>...</td>\n      <td>...</td>\n      <td>...</td>\n      <td>...</td>\n      <td>...</td>\n      <td>...</td>\n      <td>...</td>\n      <td>...</td>\n      <td>...</td>\n      <td>...</td>\n      <td>...</td>\n      <td>...</td>\n      <td>...</td>\n      <td>...</td>\n      <td>...</td>\n      <td>...</td>\n      <td>...</td>\n      <td>...</td>\n      <td>...</td>\n      <td>...</td>\n      <td>...</td>\n      <td>...</td>\n      <td>...</td>\n      <td>...</td>\n      <td>...</td>\n      <td>...</td>\n      <td>...</td>\n      <td>...</td>\n      <td>...</td>\n      <td>...</td>\n      <td>...</td>\n      <td>...</td>\n      <td>...</td>\n      <td>...</td>\n      <td>...</td>\n      <td>...</td>\n      <td>...</td>\n      <td>...</td>\n      <td>...</td>\n      <td>...</td>\n      <td>...</td>\n      <td>...</td>\n      <td>...</td>\n      <td>...</td>\n      <td>...</td>\n      <td>...</td>\n      <td>...</td>\n      <td>...</td>\n      <td>...</td>\n      <td>...</td>\n      <td>...</td>\n      <td>...</td>\n      <td>...</td>\n      <td>...</td>\n      <td>...</td>\n      <td>...</td>\n      <td>...</td>\n      <td>...</td>\n      <td>...</td>\n      <td>...</td>\n      <td>...</td>\n      <td>...</td>\n      <td>...</td>\n      <td>...</td>\n      <td>...</td>\n      <td>...</td>\n      <td>...</td>\n      <td>...</td>\n      <td>...</td>\n      <td>...</td>\n      <td>...</td>\n      <td>...</td>\n      <td>...</td>\n      <td>...</td>\n      <td>...</td>\n      <td>...</td>\n      <td>...</td>\n      <td>...</td>\n      <td>...</td>\n      <td>...</td>\n      <td>...</td>\n      <td>...</td>\n      <td>...</td>\n      <td>...</td>\n      <td>...</td>\n      <td>...</td>\n    </tr>\n    <tr>\n      <th>125968</th>\n      <td>0</td>\n      <td>0</td>\n      <td>0</td>\n      <td>0</td>\n      <td>0</td>\n      <td>0</td>\n      <td>0</td>\n      <td>0</td>\n      <td>0</td>\n      <td>0</td>\n      <td>0</td>\n      <td>0</td>\n      <td>0</td>\n      <td>0</td>\n      <td>0</td>\n      <td>0</td>\n      <td>0</td>\n      <td>0</td>\n      <td>0</td>\n      <td>184</td>\n      <td>25</td>\n      <td>1.00000</td>\n      <td>1.00000</td>\n      <td>0.00000</td>\n      <td>0.00000</td>\n      <td>0.14000</td>\n      <td>0.06000</td>\n      <td>0.00000</td>\n      <td>255</td>\n      <td>25</td>\n      <td>0.10000</td>\n      <td>0.06000</td>\n      <td>0.00000</td>\n      <td>0.00000</td>\n      <td>1.00000</td>\n      <td>1.00000</td>\n      <td>0.00000</td>\n      <td>0.00000</td>\n      <td>0</td>\n      <td>1</td>\n      <td>0</td>\n      <td>0</td>\n      <td>0</td>\n      <td>0</td>\n      <td>0</td>\n      <td>0</td>\n      <td>0</td>\n      <td>0</td>\n      <td>0</td>\n      <td>0</td>\n      <td>0</td>\n      <td>0</td>\n      <td>0</td>\n      <td>0</td>\n      <td>0</td>\n      <td>0</td>\n      <td>0</td>\n      <td>0</td>\n      <td>0</td>\n      <td>0</td>\n      <td>0</td>\n      <td>0</td>\n      <td>0</td>\n      <td>0</td>\n      <td>0</td>\n      <td>0</td>\n      <td>0</td>\n      <td>0</td>\n      <td>0</td>\n      <td>0</td>\n      <td>0</td>\n      <td>0</td>\n      <td>0</td>\n      <td>0</td>\n      <td>0</td>\n      <td>0</td>\n      <td>0</td>\n      <td>0</td>\n      <td>0</td>\n      <td>0</td>\n      <td>0</td>\n      <td>0</td>\n      <td>0</td>\n      <td>0</td>\n      <td>0</td>\n      <td>1</td>\n      <td>0</td>\n      <td>0</td>\n      <td>0</td>\n      <td>0</td>\n      <td>0</td>\n      <td>0</td>\n      <td>0</td>\n      <td>0</td>\n      <td>0</td>\n      <td>0</td>\n      <td>0</td>\n      <td>0</td>\n      <td>0</td>\n      <td>0</td>\n      <td>0</td>\n      <td>0</td>\n      <td>0</td>\n      <td>0</td>\n      <td>0</td>\n      <td>0</td>\n      <td>0</td>\n      <td>0</td>\n      <td>1</td>\n      <td>0</td>\n      <td>0</td>\n      <td>0</td>\n      <td>0</td>\n      <td>0</td>\n    </tr>\n    <tr>\n      <th>125969</th>\n      <td>8</td>\n      <td>105</td>\n      <td>145</td>\n      <td>0</td>\n      <td>0</td>\n      <td>0</td>\n      <td>0</td>\n      <td>0</td>\n      <td>0</td>\n      <td>0</td>\n      <td>0</td>\n      <td>0</td>\n      <td>0</td>\n      <td>0</td>\n      <td>0</td>\n      <td>0</td>\n      <td>0</td>\n      <td>0</td>\n      <td>0</td>\n      <td>2</td>\n      <td>2</td>\n      <td>0.00000</td>\n      <td>0.00000</td>\n      <td>0.00000</td>\n      <td>0.00000</td>\n      <td>1.00000</td>\n      <td>0.00000</td>\n      <td>0.00000</td>\n      <td>255</td>\n      <td>244</td>\n      <td>0.96000</td>\n      <td>0.01000</td>\n      <td>0.01000</td>\n      <td>0.00000</td>\n      <td>0.00000</td>\n      <td>0.00000</td>\n      <td>0.00000</td>\n      <td>0.00000</td>\n      <td>0</td>\n      <td>0</td>\n      <td>1</td>\n      <td>0</td>\n      <td>0</td>\n      <td>0</td>\n      <td>0</td>\n      <td>0</td>\n      <td>0</td>\n      <td>0</td>\n      <td>0</td>\n      <td>0</td>\n      <td>0</td>\n      <td>0</td>\n      <td>0</td>\n      <td>0</td>\n      <td>0</td>\n      <td>0</td>\n      <td>0</td>\n      <td>0</td>\n      <td>0</td>\n      <td>0</td>\n      <td>0</td>\n      <td>0</td>\n      <td>0</td>\n      <td>0</td>\n      <td>0</td>\n      <td>0</td>\n      <td>0</td>\n      <td>0</td>\n      <td>0</td>\n      <td>0</td>\n      <td>0</td>\n      <td>0</td>\n      <td>0</td>\n      <td>0</td>\n      <td>0</td>\n      <td>0</td>\n      <td>0</td>\n      <td>0</td>\n      <td>0</td>\n      <td>0</td>\n      <td>0</td>\n      <td>0</td>\n      <td>0</td>\n      <td>0</td>\n      <td>0</td>\n      <td>1</td>\n      <td>0</td>\n      <td>0</td>\n      <td>0</td>\n      <td>0</td>\n      <td>0</td>\n      <td>0</td>\n      <td>0</td>\n      <td>0</td>\n      <td>0</td>\n      <td>0</td>\n      <td>0</td>\n      <td>0</td>\n      <td>0</td>\n      <td>0</td>\n      <td>0</td>\n      <td>0</td>\n      <td>0</td>\n      <td>0</td>\n      <td>0</td>\n      <td>0</td>\n      <td>0</td>\n      <td>0</td>\n      <td>0</td>\n      <td>0</td>\n      <td>0</td>\n      <td>0</td>\n      <td>1</td>\n      <td>0</td>\n    </tr>\n    <tr>\n      <th>125970</th>\n      <td>0</td>\n      <td>2231</td>\n      <td>384</td>\n      <td>0</td>\n      <td>0</td>\n      <td>0</td>\n      <td>0</td>\n      <td>0</td>\n      <td>1</td>\n      <td>0</td>\n      <td>0</td>\n      <td>0</td>\n      <td>0</td>\n      <td>0</td>\n      <td>0</td>\n      <td>0</td>\n      <td>0</td>\n      <td>0</td>\n      <td>0</td>\n      <td>1</td>\n      <td>1</td>\n      <td>0.00000</td>\n      <td>0.00000</td>\n      <td>0.00000</td>\n      <td>0.00000</td>\n      <td>1.00000</td>\n      <td>0.00000</td>\n      <td>0.00000</td>\n      <td>255</td>\n      <td>30</td>\n      <td>0.12000</td>\n      <td>0.06000</td>\n      <td>0.00000</td>\n      <td>0.00000</td>\n      <td>0.72000</td>\n      <td>0.00000</td>\n      <td>0.01000</td>\n      <td>0.00000</td>\n      <td>0</td>\n      <td>1</td>\n      <td>0</td>\n      <td>0</td>\n      <td>0</td>\n      <td>0</td>\n      <td>0</td>\n      <td>0</td>\n      <td>0</td>\n      <td>0</td>\n      <td>0</td>\n      <td>0</td>\n      <td>0</td>\n      <td>0</td>\n      <td>0</td>\n      <td>0</td>\n      <td>0</td>\n      <td>0</td>\n      <td>0</td>\n      <td>0</td>\n      <td>0</td>\n      <td>0</td>\n      <td>0</td>\n      <td>0</td>\n      <td>0</td>\n      <td>0</td>\n      <td>0</td>\n      <td>0</td>\n      <td>0</td>\n      <td>0</td>\n      <td>0</td>\n      <td>0</td>\n      <td>0</td>\n      <td>0</td>\n      <td>0</td>\n      <td>0</td>\n      <td>0</td>\n      <td>0</td>\n      <td>0</td>\n      <td>0</td>\n      <td>0</td>\n      <td>0</td>\n      <td>0</td>\n      <td>0</td>\n      <td>0</td>\n      <td>0</td>\n      <td>0</td>\n      <td>0</td>\n      <td>0</td>\n      <td>0</td>\n      <td>1</td>\n      <td>0</td>\n      <td>0</td>\n      <td>0</td>\n      <td>0</td>\n      <td>0</td>\n      <td>0</td>\n      <td>0</td>\n      <td>0</td>\n      <td>0</td>\n      <td>0</td>\n      <td>0</td>\n      <td>0</td>\n      <td>0</td>\n      <td>0</td>\n      <td>0</td>\n      <td>0</td>\n      <td>0</td>\n      <td>0</td>\n      <td>0</td>\n      <td>0</td>\n      <td>0</td>\n      <td>0</td>\n      <td>0</td>\n      <td>1</td>\n      <td>0</td>\n    </tr>\n    <tr>\n      <th>125971</th>\n      <td>0</td>\n      <td>0</td>\n      <td>0</td>\n      <td>0</td>\n      <td>0</td>\n      <td>0</td>\n      <td>0</td>\n      <td>0</td>\n      <td>0</td>\n      <td>0</td>\n      <td>0</td>\n      <td>0</td>\n      <td>0</td>\n      <td>0</td>\n      <td>0</td>\n      <td>0</td>\n      <td>0</td>\n      <td>0</td>\n      <td>0</td>\n      <td>144</td>\n      <td>8</td>\n      <td>1.00000</td>\n      <td>1.00000</td>\n      <td>0.00000</td>\n      <td>0.00000</td>\n      <td>0.06000</td>\n      <td>0.05000</td>\n      <td>0.00000</td>\n      <td>255</td>\n      <td>8</td>\n      <td>0.03000</td>\n      <td>0.05000</td>\n      <td>0.00000</td>\n      <td>0.00000</td>\n      <td>1.00000</td>\n      <td>1.00000</td>\n      <td>0.00000</td>\n      <td>0.00000</td>\n      <td>0</td>\n      <td>1</td>\n      <td>0</td>\n      <td>0</td>\n      <td>0</td>\n      <td>0</td>\n      <td>0</td>\n      <td>0</td>\n      <td>0</td>\n      <td>0</td>\n      <td>0</td>\n      <td>0</td>\n      <td>0</td>\n      <td>0</td>\n      <td>0</td>\n      <td>0</td>\n      <td>0</td>\n      <td>0</td>\n      <td>0</td>\n      <td>0</td>\n      <td>0</td>\n      <td>0</td>\n      <td>0</td>\n      <td>0</td>\n      <td>0</td>\n      <td>0</td>\n      <td>0</td>\n      <td>0</td>\n      <td>0</td>\n      <td>1</td>\n      <td>0</td>\n      <td>0</td>\n      <td>0</td>\n      <td>0</td>\n      <td>0</td>\n      <td>0</td>\n      <td>0</td>\n      <td>0</td>\n      <td>0</td>\n      <td>0</td>\n      <td>0</td>\n      <td>0</td>\n      <td>0</td>\n      <td>0</td>\n      <td>0</td>\n      <td>0</td>\n      <td>0</td>\n      <td>0</td>\n      <td>0</td>\n      <td>0</td>\n      <td>0</td>\n      <td>0</td>\n      <td>0</td>\n      <td>0</td>\n      <td>0</td>\n      <td>0</td>\n      <td>0</td>\n      <td>0</td>\n      <td>0</td>\n      <td>0</td>\n      <td>0</td>\n      <td>0</td>\n      <td>0</td>\n      <td>0</td>\n      <td>0</td>\n      <td>0</td>\n      <td>0</td>\n      <td>0</td>\n      <td>0</td>\n      <td>0</td>\n      <td>1</td>\n      <td>0</td>\n      <td>0</td>\n      <td>0</td>\n      <td>0</td>\n      <td>0</td>\n    </tr>\n    <tr>\n      <th>125972</th>\n      <td>0</td>\n      <td>151</td>\n      <td>0</td>\n      <td>0</td>\n      <td>0</td>\n      <td>0</td>\n      <td>0</td>\n      <td>0</td>\n      <td>1</td>\n      <td>0</td>\n      <td>0</td>\n      <td>0</td>\n      <td>0</td>\n      <td>0</td>\n      <td>0</td>\n      <td>0</td>\n      <td>0</td>\n      <td>0</td>\n      <td>0</td>\n      <td>1</td>\n      <td>1</td>\n      <td>0.00000</td>\n      <td>0.00000</td>\n      <td>0.00000</td>\n      <td>0.00000</td>\n      <td>1.00000</td>\n      <td>0.00000</td>\n      <td>0.00000</td>\n      <td>255</td>\n      <td>77</td>\n      <td>0.30000</td>\n      <td>0.03000</td>\n      <td>0.30000</td>\n      <td>0.00000</td>\n      <td>0.00000</td>\n      <td>0.00000</td>\n      <td>0.00000</td>\n      <td>0.00000</td>\n      <td>0</td>\n      <td>1</td>\n      <td>0</td>\n      <td>0</td>\n      <td>0</td>\n      <td>0</td>\n      <td>0</td>\n      <td>0</td>\n      <td>0</td>\n      <td>0</td>\n      <td>0</td>\n      <td>0</td>\n      <td>0</td>\n      <td>0</td>\n      <td>0</td>\n      <td>0</td>\n      <td>0</td>\n      <td>0</td>\n      <td>0</td>\n      <td>0</td>\n      <td>0</td>\n      <td>0</td>\n      <td>1</td>\n      <td>0</td>\n      <td>0</td>\n      <td>0</td>\n      <td>0</td>\n      <td>0</td>\n      <td>0</td>\n      <td>0</td>\n      <td>0</td>\n      <td>0</td>\n      <td>0</td>\n      <td>0</td>\n      <td>0</td>\n      <td>0</td>\n      <td>0</td>\n      <td>0</td>\n      <td>0</td>\n      <td>0</td>\n      <td>0</td>\n      <td>0</td>\n      <td>0</td>\n      <td>0</td>\n      <td>0</td>\n      <td>0</td>\n      <td>0</td>\n      <td>0</td>\n      <td>0</td>\n      <td>0</td>\n      <td>0</td>\n      <td>0</td>\n      <td>0</td>\n      <td>0</td>\n      <td>0</td>\n      <td>0</td>\n      <td>0</td>\n      <td>0</td>\n      <td>0</td>\n      <td>0</td>\n      <td>0</td>\n      <td>0</td>\n      <td>0</td>\n      <td>0</td>\n      <td>0</td>\n      <td>0</td>\n      <td>0</td>\n      <td>0</td>\n      <td>0</td>\n      <td>0</td>\n      <td>0</td>\n      <td>0</td>\n      <td>0</td>\n      <td>0</td>\n      <td>1</td>\n      <td>0</td>\n    </tr>\n  </tbody>\n</table>\n<p>125793 rows × 114 columns</p>\n</div>"
          },
          "metadata": {},
          "execution_count": 13
        }
      ]
    },
    {
      "cell_type": "code",
      "metadata": {
        "colab": {
          "base_uri": "https://localhost:8080/"
        },
        "id": "VwRGMnyJOQkO",
        "outputId": "7d81b1b3-deee-4432-902e-0b6e4bf75dbf"
      },
      "source": [
        "edited_xtrain.max(numeric_only = True).sum()"
      ],
      "execution_count": 14,
      "outputs": [
        {
          "output_type": "execute_result",
          "data": {
            "text/plain": [
              "2689960916.0"
            ]
          },
          "metadata": {},
          "execution_count": 14
        }
      ]
    },
    {
      "cell_type": "code",
      "metadata": {
        "colab": {
          "base_uri": "https://localhost:8080/",
          "height": 422
        },
        "id": "yZQHvfzyOlci",
        "outputId": "9cd139c8-e279-45e4-b3a1-31c629de8831"
      },
      "source": [
        "edited_xtrain = 255 * edited_xtrain / edited_xtrain.max(numeric_only = True)\n",
        "\n",
        "edited_xtrain"
      ],
      "execution_count": 15,
      "outputs": [
        {
          "output_type": "execute_result",
          "data": {
            "text/plain": [
              "        duration  src_bytes  dst_bytes    land  wrong_fragment  urgent  \\\n",
              "0        0.00000    0.00009    0.00000 0.00000         0.00000 0.00000   \n",
              "1        0.00000    0.00003    0.00000 0.00000         0.00000 0.00000   \n",
              "2        0.00000    0.00000    0.00000 0.00000         0.00000 0.00000   \n",
              "3        0.00000    0.00004    0.00159 0.00000         0.00000 0.00000   \n",
              "4        0.00000    0.00004    0.00008 0.00000         0.00000 0.00000   \n",
              "...          ...        ...        ...     ...             ...     ...   \n",
              "125968   0.00000    0.00000    0.00000 0.00000         0.00000 0.00000   \n",
              "125969   0.04754    0.00002    0.00003 0.00000         0.00000 0.00000   \n",
              "125970   0.00000    0.00041    0.00007 0.00000         0.00000 0.00000   \n",
              "125971   0.00000    0.00000    0.00000 0.00000         0.00000 0.00000   \n",
              "125972   0.00000    0.00003    0.00000 0.00000         0.00000 0.00000   \n",
              "\n",
              "           hot  num_failed_logins  logged_in  num_compromised  root_shell  \\\n",
              "0      0.00000            0.00000    0.00000          0.00000     0.00000   \n",
              "1      0.00000            0.00000    0.00000          0.00000     0.00000   \n",
              "2      0.00000            0.00000    0.00000          0.00000     0.00000   \n",
              "3      0.00000            0.00000  255.00000          0.00000     0.00000   \n",
              "4      0.00000            0.00000  255.00000          0.00000     0.00000   \n",
              "...        ...                ...        ...              ...         ...   \n",
              "125968 0.00000            0.00000    0.00000          0.00000     0.00000   \n",
              "125969 0.00000            0.00000    0.00000          0.00000     0.00000   \n",
              "125970 0.00000            0.00000  255.00000          0.00000     0.00000   \n",
              "125971 0.00000            0.00000    0.00000          0.00000     0.00000   \n",
              "125972 0.00000            0.00000  255.00000          0.00000     0.00000   \n",
              "\n",
              "        su_attempted  num_root  num_file_creations  num_shells  \\\n",
              "0            0.00000   0.00000             0.00000     0.00000   \n",
              "1            0.00000   0.00000             0.00000     0.00000   \n",
              "2            0.00000   0.00000             0.00000     0.00000   \n",
              "3            0.00000   0.00000             0.00000     0.00000   \n",
              "4            0.00000   0.00000             0.00000     0.00000   \n",
              "...              ...       ...                 ...         ...   \n",
              "125968       0.00000   0.00000             0.00000     0.00000   \n",
              "125969       0.00000   0.00000             0.00000     0.00000   \n",
              "125970       0.00000   0.00000             0.00000     0.00000   \n",
              "125971       0.00000   0.00000             0.00000     0.00000   \n",
              "125972       0.00000   0.00000             0.00000     0.00000   \n",
              "\n",
              "        num_access_files  num_outbound_cmds  is_host_login  is_guest_login  \\\n",
              "0                0.00000                nan        0.00000         0.00000   \n",
              "1                0.00000                nan        0.00000         0.00000   \n",
              "2                0.00000                nan        0.00000         0.00000   \n",
              "3                0.00000                nan        0.00000         0.00000   \n",
              "4                0.00000                nan        0.00000         0.00000   \n",
              "...                  ...                ...            ...             ...   \n",
              "125968           0.00000                nan        0.00000         0.00000   \n",
              "125969           0.00000                nan        0.00000         0.00000   \n",
              "125970           0.00000                nan        0.00000         0.00000   \n",
              "125971           0.00000                nan        0.00000         0.00000   \n",
              "125972           0.00000                nan        0.00000         0.00000   \n",
              "\n",
              "          count  srv_count  serror_rate  srv_serror_rate  rerror_rate  \\\n",
              "0       0.99804    0.99804      0.00000          0.00000      0.00000   \n",
              "1       6.48728    0.49902      0.00000          0.00000      0.00000   \n",
              "2      61.37965    2.99413    255.00000        255.00000      0.00000   \n",
              "3       2.49511    2.49511     51.00000         51.00000      0.00000   \n",
              "4      14.97065   15.96869      0.00000          0.00000      0.00000   \n",
              "...         ...        ...          ...              ...          ...   \n",
              "125968 91.81996   12.47554    255.00000        255.00000      0.00000   \n",
              "125969  0.99804    0.99804      0.00000          0.00000      0.00000   \n",
              "125970  0.49902    0.49902      0.00000          0.00000      0.00000   \n",
              "125971 71.85910    3.99217    255.00000        255.00000      0.00000   \n",
              "125972  0.49902    0.49902      0.00000          0.00000      0.00000   \n",
              "\n",
              "        srv_rerror_rate  same_srv_rate  diff_srv_rate  srv_diff_host_rate  \\\n",
              "0               0.00000      255.00000        0.00000             0.00000   \n",
              "1               0.00000       20.40000       38.25000             0.00000   \n",
              "2               0.00000       12.75000       17.85000             0.00000   \n",
              "3               0.00000      255.00000        0.00000             0.00000   \n",
              "4               0.00000      255.00000        0.00000            22.95000   \n",
              "...                 ...            ...            ...                 ...   \n",
              "125968          0.00000       35.70000       15.30000             0.00000   \n",
              "125969          0.00000      255.00000        0.00000             0.00000   \n",
              "125970          0.00000      255.00000        0.00000             0.00000   \n",
              "125971          0.00000       15.30000       12.75000             0.00000   \n",
              "125972          0.00000      255.00000        0.00000             0.00000   \n",
              "\n",
              "        dst_host_count  dst_host_srv_count  dst_host_same_srv_rate  \\\n",
              "0            150.00000            25.00000                43.35000   \n",
              "1            255.00000             1.00000                 0.00000   \n",
              "2            255.00000            26.00000                25.50000   \n",
              "3             30.00000           255.00000               255.00000   \n",
              "4            255.00000           255.00000               255.00000   \n",
              "...                ...                 ...                     ...   \n",
              "125968       255.00000            25.00000                25.50000   \n",
              "125969       255.00000           244.00000               244.80000   \n",
              "125970       255.00000            30.00000                30.60000   \n",
              "125971       255.00000             8.00000                 7.65000   \n",
              "125972       255.00000            77.00000                76.50000   \n",
              "\n",
              "        dst_host_diff_srv_rate  dst_host_same_src_port_rate  \\\n",
              "0                      7.65000                     43.35000   \n",
              "1                    153.00000                    224.40000   \n",
              "2                     12.75000                      0.00000   \n",
              "3                      0.00000                      7.65000   \n",
              "4                      0.00000                      0.00000   \n",
              "...                        ...                          ...   \n",
              "125968                15.30000                      0.00000   \n",
              "125969                 2.55000                      2.55000   \n",
              "125970                15.30000                      0.00000   \n",
              "125971                12.75000                      0.00000   \n",
              "125972                 7.65000                     76.50000   \n",
              "\n",
              "        dst_host_srv_diff_host_rate  dst_host_serror_rate  \\\n",
              "0                           0.00000               0.00000   \n",
              "1                           0.00000               0.00000   \n",
              "2                           0.00000             255.00000   \n",
              "3                          10.20000               7.65000   \n",
              "4                           0.00000               0.00000   \n",
              "...                             ...                   ...   \n",
              "125968                      0.00000             255.00000   \n",
              "125969                      0.00000               0.00000   \n",
              "125970                      0.00000             183.60000   \n",
              "125971                      0.00000             255.00000   \n",
              "125972                      0.00000               0.00000   \n",
              "\n",
              "        dst_host_srv_serror_rate  dst_host_rerror_rate  \\\n",
              "0                        0.00000              12.75000   \n",
              "1                        0.00000               0.00000   \n",
              "2                      255.00000               0.00000   \n",
              "3                        2.55000               0.00000   \n",
              "4                        0.00000               0.00000   \n",
              "...                          ...                   ...   \n",
              "125968                 255.00000               0.00000   \n",
              "125969                   0.00000               0.00000   \n",
              "125970                   0.00000               2.55000   \n",
              "125971                 255.00000               0.00000   \n",
              "125972                   0.00000               0.00000   \n",
              "\n",
              "        dst_host_srv_rerror_rate    icmp       tcp       udp     IRC     X11  \\\n",
              "0                        0.00000 0.00000 255.00000   0.00000 0.00000 0.00000   \n",
              "1                        0.00000 0.00000   0.00000 255.00000 0.00000 0.00000   \n",
              "2                        0.00000 0.00000 255.00000   0.00000 0.00000 0.00000   \n",
              "3                        2.55000 0.00000 255.00000   0.00000 0.00000 0.00000   \n",
              "4                        0.00000 0.00000 255.00000   0.00000 0.00000 0.00000   \n",
              "...                          ...     ...       ...       ...     ...     ...   \n",
              "125968                   0.00000 0.00000 255.00000   0.00000 0.00000 0.00000   \n",
              "125969                   0.00000 0.00000   0.00000 255.00000 0.00000 0.00000   \n",
              "125970                   0.00000 0.00000 255.00000   0.00000 0.00000 0.00000   \n",
              "125971                   0.00000 0.00000 255.00000   0.00000 0.00000 0.00000   \n",
              "125972                   0.00000 0.00000 255.00000   0.00000 0.00000 0.00000   \n",
              "\n",
              "        Z39_50    auth     bgp  courier  csnet_ns     ctf  daytime  discard  \\\n",
              "0      0.00000 0.00000 0.00000  0.00000   0.00000 0.00000  0.00000  0.00000   \n",
              "1      0.00000 0.00000 0.00000  0.00000   0.00000 0.00000  0.00000  0.00000   \n",
              "2      0.00000 0.00000 0.00000  0.00000   0.00000 0.00000  0.00000  0.00000   \n",
              "3      0.00000 0.00000 0.00000  0.00000   0.00000 0.00000  0.00000  0.00000   \n",
              "4      0.00000 0.00000 0.00000  0.00000   0.00000 0.00000  0.00000  0.00000   \n",
              "...        ...     ...     ...      ...       ...     ...      ...      ...   \n",
              "125968 0.00000 0.00000 0.00000  0.00000   0.00000 0.00000  0.00000  0.00000   \n",
              "125969 0.00000 0.00000 0.00000  0.00000   0.00000 0.00000  0.00000  0.00000   \n",
              "125970 0.00000 0.00000 0.00000  0.00000   0.00000 0.00000  0.00000  0.00000   \n",
              "125971 0.00000 0.00000 0.00000  0.00000   0.00000 0.00000  0.00000  0.00000   \n",
              "125972 0.00000 0.00000 0.00000  0.00000   0.00000 0.00000  0.00000  0.00000   \n",
              "\n",
              "        domain  domain_u    echo   eco_i   ecr_i     efs    exec  finger  \\\n",
              "0      0.00000   0.00000 0.00000 0.00000 0.00000 0.00000 0.00000 0.00000   \n",
              "1      0.00000   0.00000 0.00000 0.00000 0.00000 0.00000 0.00000 0.00000   \n",
              "2      0.00000   0.00000 0.00000 0.00000 0.00000 0.00000 0.00000 0.00000   \n",
              "3      0.00000   0.00000 0.00000 0.00000 0.00000 0.00000 0.00000 0.00000   \n",
              "4      0.00000   0.00000 0.00000 0.00000 0.00000 0.00000 0.00000 0.00000   \n",
              "...        ...       ...     ...     ...     ...     ...     ...     ...   \n",
              "125968 0.00000   0.00000 0.00000 0.00000 0.00000 0.00000 0.00000 0.00000   \n",
              "125969 0.00000   0.00000 0.00000 0.00000 0.00000 0.00000 0.00000 0.00000   \n",
              "125970 0.00000   0.00000 0.00000 0.00000 0.00000 0.00000 0.00000 0.00000   \n",
              "125971 0.00000   0.00000 0.00000 0.00000 0.00000 0.00000 0.00000 0.00000   \n",
              "125972 0.00000   0.00000 0.00000 0.00000 0.00000 0.00000 0.00000 0.00000   \n",
              "\n",
              "           ftp  ftp_data  gopher  hostnames      http  http_443   imap4  \\\n",
              "0      0.00000 255.00000 0.00000    0.00000   0.00000   0.00000 0.00000   \n",
              "1      0.00000   0.00000 0.00000    0.00000   0.00000   0.00000 0.00000   \n",
              "2      0.00000   0.00000 0.00000    0.00000   0.00000   0.00000 0.00000   \n",
              "3      0.00000   0.00000 0.00000    0.00000 255.00000   0.00000 0.00000   \n",
              "4      0.00000   0.00000 0.00000    0.00000 255.00000   0.00000 0.00000   \n",
              "...        ...       ...     ...        ...       ...       ...     ...   \n",
              "125968 0.00000   0.00000 0.00000    0.00000   0.00000   0.00000 0.00000   \n",
              "125969 0.00000   0.00000 0.00000    0.00000   0.00000   0.00000 0.00000   \n",
              "125970 0.00000   0.00000 0.00000    0.00000   0.00000   0.00000 0.00000   \n",
              "125971 0.00000   0.00000 0.00000    0.00000   0.00000   0.00000 0.00000   \n",
              "125972 0.00000 255.00000 0.00000    0.00000   0.00000   0.00000 0.00000   \n",
              "\n",
              "        iso_tsap    klogin  kshell    ldap    link   login     mtp    name  \\\n",
              "0        0.00000   0.00000 0.00000 0.00000 0.00000 0.00000 0.00000 0.00000   \n",
              "1        0.00000   0.00000 0.00000 0.00000 0.00000 0.00000 0.00000 0.00000   \n",
              "2        0.00000   0.00000 0.00000 0.00000 0.00000 0.00000 0.00000 0.00000   \n",
              "3        0.00000   0.00000 0.00000 0.00000 0.00000 0.00000 0.00000 0.00000   \n",
              "4        0.00000   0.00000 0.00000 0.00000 0.00000 0.00000 0.00000 0.00000   \n",
              "...          ...       ...     ...     ...     ...     ...     ...     ...   \n",
              "125968   0.00000   0.00000 0.00000 0.00000 0.00000 0.00000 0.00000 0.00000   \n",
              "125969   0.00000   0.00000 0.00000 0.00000 0.00000 0.00000 0.00000 0.00000   \n",
              "125970   0.00000   0.00000 0.00000 0.00000 0.00000 0.00000 0.00000 0.00000   \n",
              "125971   0.00000 255.00000 0.00000 0.00000 0.00000 0.00000 0.00000 0.00000   \n",
              "125972   0.00000   0.00000 0.00000 0.00000 0.00000 0.00000 0.00000 0.00000   \n",
              "\n",
              "        netbios_dgm  netbios_ns  netbios_ssn  netstat    nnsp    nntp   ntp_u  \\\n",
              "0           0.00000     0.00000      0.00000  0.00000 0.00000 0.00000 0.00000   \n",
              "1           0.00000     0.00000      0.00000  0.00000 0.00000 0.00000 0.00000   \n",
              "2           0.00000     0.00000      0.00000  0.00000 0.00000 0.00000 0.00000   \n",
              "3           0.00000     0.00000      0.00000  0.00000 0.00000 0.00000 0.00000   \n",
              "4           0.00000     0.00000      0.00000  0.00000 0.00000 0.00000 0.00000   \n",
              "...             ...         ...          ...      ...     ...     ...     ...   \n",
              "125968      0.00000     0.00000      0.00000  0.00000 0.00000 0.00000 0.00000   \n",
              "125969      0.00000     0.00000      0.00000  0.00000 0.00000 0.00000 0.00000   \n",
              "125970      0.00000     0.00000      0.00000  0.00000 0.00000 0.00000 0.00000   \n",
              "125971      0.00000     0.00000      0.00000  0.00000 0.00000 0.00000 0.00000   \n",
              "125972      0.00000     0.00000      0.00000  0.00000 0.00000 0.00000 0.00000   \n",
              "\n",
              "           other  pm_dump   pop_2   pop_3   private  remote_job   shell  \\\n",
              "0        0.00000  0.00000 0.00000 0.00000   0.00000     0.00000 0.00000   \n",
              "1      255.00000  0.00000 0.00000 0.00000   0.00000     0.00000 0.00000   \n",
              "2        0.00000  0.00000 0.00000 0.00000 255.00000     0.00000 0.00000   \n",
              "3        0.00000  0.00000 0.00000 0.00000   0.00000     0.00000 0.00000   \n",
              "4        0.00000  0.00000 0.00000 0.00000   0.00000     0.00000 0.00000   \n",
              "...          ...      ...     ...     ...       ...         ...     ...   \n",
              "125968   0.00000  0.00000 0.00000 0.00000 255.00000     0.00000 0.00000   \n",
              "125969   0.00000  0.00000 0.00000 0.00000 255.00000     0.00000 0.00000   \n",
              "125970   0.00000  0.00000 0.00000 0.00000   0.00000     0.00000 0.00000   \n",
              "125971   0.00000  0.00000 0.00000 0.00000   0.00000     0.00000 0.00000   \n",
              "125972   0.00000  0.00000 0.00000 0.00000   0.00000     0.00000 0.00000   \n",
              "\n",
              "            smtp  sql_net     ssh  sunrpc  supdup  systat  telnet  tftp_u  \\\n",
              "0        0.00000  0.00000 0.00000 0.00000 0.00000 0.00000 0.00000 0.00000   \n",
              "1        0.00000  0.00000 0.00000 0.00000 0.00000 0.00000 0.00000 0.00000   \n",
              "2        0.00000  0.00000 0.00000 0.00000 0.00000 0.00000 0.00000 0.00000   \n",
              "3        0.00000  0.00000 0.00000 0.00000 0.00000 0.00000 0.00000 0.00000   \n",
              "4        0.00000  0.00000 0.00000 0.00000 0.00000 0.00000 0.00000 0.00000   \n",
              "...          ...      ...     ...     ...     ...     ...     ...     ...   \n",
              "125968   0.00000  0.00000 0.00000 0.00000 0.00000 0.00000 0.00000 0.00000   \n",
              "125969   0.00000  0.00000 0.00000 0.00000 0.00000 0.00000 0.00000 0.00000   \n",
              "125970 255.00000  0.00000 0.00000 0.00000 0.00000 0.00000 0.00000 0.00000   \n",
              "125971   0.00000  0.00000 0.00000 0.00000 0.00000 0.00000 0.00000 0.00000   \n",
              "125972   0.00000  0.00000 0.00000 0.00000 0.00000 0.00000 0.00000 0.00000   \n",
              "\n",
              "         tim_i    time   urp_i    uucp  uucp_path   vmnet   whois     OTH  \\\n",
              "0      0.00000 0.00000 0.00000 0.00000    0.00000 0.00000 0.00000 0.00000   \n",
              "1      0.00000 0.00000 0.00000 0.00000    0.00000 0.00000 0.00000 0.00000   \n",
              "2      0.00000 0.00000 0.00000 0.00000    0.00000 0.00000 0.00000 0.00000   \n",
              "3      0.00000 0.00000 0.00000 0.00000    0.00000 0.00000 0.00000 0.00000   \n",
              "4      0.00000 0.00000 0.00000 0.00000    0.00000 0.00000 0.00000 0.00000   \n",
              "...        ...     ...     ...     ...        ...     ...     ...     ...   \n",
              "125968 0.00000 0.00000 0.00000 0.00000    0.00000 0.00000 0.00000 0.00000   \n",
              "125969 0.00000 0.00000 0.00000 0.00000    0.00000 0.00000 0.00000 0.00000   \n",
              "125970 0.00000 0.00000 0.00000 0.00000    0.00000 0.00000 0.00000 0.00000   \n",
              "125971 0.00000 0.00000 0.00000 0.00000    0.00000 0.00000 0.00000 0.00000   \n",
              "125972 0.00000 0.00000 0.00000 0.00000    0.00000 0.00000 0.00000 0.00000   \n",
              "\n",
              "           REJ    RSTO  RSTOS0    RSTR        S0      S1      S2      S3  \\\n",
              "0      0.00000 0.00000 0.00000 0.00000   0.00000 0.00000 0.00000 0.00000   \n",
              "1      0.00000 0.00000 0.00000 0.00000   0.00000 0.00000 0.00000 0.00000   \n",
              "2      0.00000 0.00000 0.00000 0.00000 255.00000 0.00000 0.00000 0.00000   \n",
              "3      0.00000 0.00000 0.00000 0.00000   0.00000 0.00000 0.00000 0.00000   \n",
              "4      0.00000 0.00000 0.00000 0.00000   0.00000 0.00000 0.00000 0.00000   \n",
              "...        ...     ...     ...     ...       ...     ...     ...     ...   \n",
              "125968 0.00000 0.00000 0.00000 0.00000 255.00000 0.00000 0.00000 0.00000   \n",
              "125969 0.00000 0.00000 0.00000 0.00000   0.00000 0.00000 0.00000 0.00000   \n",
              "125970 0.00000 0.00000 0.00000 0.00000   0.00000 0.00000 0.00000 0.00000   \n",
              "125971 0.00000 0.00000 0.00000 0.00000 255.00000 0.00000 0.00000 0.00000   \n",
              "125972 0.00000 0.00000 0.00000 0.00000   0.00000 0.00000 0.00000 0.00000   \n",
              "\n",
              "              SF      SH  \n",
              "0      255.00000 0.00000  \n",
              "1      255.00000 0.00000  \n",
              "2        0.00000 0.00000  \n",
              "3      255.00000 0.00000  \n",
              "4      255.00000 0.00000  \n",
              "...          ...     ...  \n",
              "125968   0.00000 0.00000  \n",
              "125969 255.00000 0.00000  \n",
              "125970 255.00000 0.00000  \n",
              "125971   0.00000 0.00000  \n",
              "125972 255.00000 0.00000  \n",
              "\n",
              "[125793 rows x 114 columns]"
            ],
            "text/html": "<div>\n<style scoped>\n    .dataframe tbody tr th:only-of-type {\n        vertical-align: middle;\n    }\n\n    .dataframe tbody tr th {\n        vertical-align: top;\n    }\n\n    .dataframe thead th {\n        text-align: right;\n    }\n</style>\n<table border=\"1\" class=\"dataframe\">\n  <thead>\n    <tr style=\"text-align: right;\">\n      <th></th>\n      <th>duration</th>\n      <th>src_bytes</th>\n      <th>dst_bytes</th>\n      <th>land</th>\n      <th>wrong_fragment</th>\n      <th>urgent</th>\n      <th>hot</th>\n      <th>num_failed_logins</th>\n      <th>logged_in</th>\n      <th>num_compromised</th>\n      <th>root_shell</th>\n      <th>su_attempted</th>\n      <th>num_root</th>\n      <th>num_file_creations</th>\n      <th>num_shells</th>\n      <th>num_access_files</th>\n      <th>num_outbound_cmds</th>\n      <th>is_host_login</th>\n      <th>is_guest_login</th>\n      <th>count</th>\n      <th>srv_count</th>\n      <th>serror_rate</th>\n      <th>srv_serror_rate</th>\n      <th>rerror_rate</th>\n      <th>srv_rerror_rate</th>\n      <th>same_srv_rate</th>\n      <th>diff_srv_rate</th>\n      <th>srv_diff_host_rate</th>\n      <th>dst_host_count</th>\n      <th>dst_host_srv_count</th>\n      <th>dst_host_same_srv_rate</th>\n      <th>dst_host_diff_srv_rate</th>\n      <th>dst_host_same_src_port_rate</th>\n      <th>dst_host_srv_diff_host_rate</th>\n      <th>dst_host_serror_rate</th>\n      <th>dst_host_srv_serror_rate</th>\n      <th>dst_host_rerror_rate</th>\n      <th>dst_host_srv_rerror_rate</th>\n      <th>icmp</th>\n      <th>tcp</th>\n      <th>udp</th>\n      <th>IRC</th>\n      <th>X11</th>\n      <th>Z39_50</th>\n      <th>auth</th>\n      <th>bgp</th>\n      <th>courier</th>\n      <th>csnet_ns</th>\n      <th>ctf</th>\n      <th>daytime</th>\n      <th>discard</th>\n      <th>domain</th>\n      <th>domain_u</th>\n      <th>echo</th>\n      <th>eco_i</th>\n      <th>ecr_i</th>\n      <th>efs</th>\n      <th>exec</th>\n      <th>finger</th>\n      <th>ftp</th>\n      <th>ftp_data</th>\n      <th>gopher</th>\n      <th>hostnames</th>\n      <th>http</th>\n      <th>http_443</th>\n      <th>imap4</th>\n      <th>iso_tsap</th>\n      <th>klogin</th>\n      <th>kshell</th>\n      <th>ldap</th>\n      <th>link</th>\n      <th>login</th>\n      <th>mtp</th>\n      <th>name</th>\n      <th>netbios_dgm</th>\n      <th>netbios_ns</th>\n      <th>netbios_ssn</th>\n      <th>netstat</th>\n      <th>nnsp</th>\n      <th>nntp</th>\n      <th>ntp_u</th>\n      <th>other</th>\n      <th>pm_dump</th>\n      <th>pop_2</th>\n      <th>pop_3</th>\n      <th>private</th>\n      <th>remote_job</th>\n      <th>shell</th>\n      <th>smtp</th>\n      <th>sql_net</th>\n      <th>ssh</th>\n      <th>sunrpc</th>\n      <th>supdup</th>\n      <th>systat</th>\n      <th>telnet</th>\n      <th>tftp_u</th>\n      <th>tim_i</th>\n      <th>time</th>\n      <th>urp_i</th>\n      <th>uucp</th>\n      <th>uucp_path</th>\n      <th>vmnet</th>\n      <th>whois</th>\n      <th>OTH</th>\n      <th>REJ</th>\n      <th>RSTO</th>\n      <th>RSTOS0</th>\n      <th>RSTR</th>\n      <th>S0</th>\n      <th>S1</th>\n      <th>S2</th>\n      <th>S3</th>\n      <th>SF</th>\n      <th>SH</th>\n    </tr>\n  </thead>\n  <tbody>\n    <tr>\n      <th>0</th>\n      <td>0.00000</td>\n      <td>0.00009</td>\n      <td>0.00000</td>\n      <td>0.00000</td>\n      <td>0.00000</td>\n      <td>0.00000</td>\n      <td>0.00000</td>\n      <td>0.00000</td>\n      <td>0.00000</td>\n      <td>0.00000</td>\n      <td>0.00000</td>\n      <td>0.00000</td>\n      <td>0.00000</td>\n      <td>0.00000</td>\n      <td>0.00000</td>\n      <td>0.00000</td>\n      <td>nan</td>\n      <td>0.00000</td>\n      <td>0.00000</td>\n      <td>0.99804</td>\n      <td>0.99804</td>\n      <td>0.00000</td>\n      <td>0.00000</td>\n      <td>0.00000</td>\n      <td>0.00000</td>\n      <td>255.00000</td>\n      <td>0.00000</td>\n      <td>0.00000</td>\n      <td>150.00000</td>\n      <td>25.00000</td>\n      <td>43.35000</td>\n      <td>7.65000</td>\n      <td>43.35000</td>\n      <td>0.00000</td>\n      <td>0.00000</td>\n      <td>0.00000</td>\n      <td>12.75000</td>\n      <td>0.00000</td>\n      <td>0.00000</td>\n      <td>255.00000</td>\n      <td>0.00000</td>\n      <td>0.00000</td>\n      <td>0.00000</td>\n      <td>0.00000</td>\n      <td>0.00000</td>\n      <td>0.00000</td>\n      <td>0.00000</td>\n      <td>0.00000</td>\n      <td>0.00000</td>\n      <td>0.00000</td>\n      <td>0.00000</td>\n      <td>0.00000</td>\n      <td>0.00000</td>\n      <td>0.00000</td>\n      <td>0.00000</td>\n      <td>0.00000</td>\n      <td>0.00000</td>\n      <td>0.00000</td>\n      <td>0.00000</td>\n      <td>0.00000</td>\n      <td>255.00000</td>\n      <td>0.00000</td>\n      <td>0.00000</td>\n      <td>0.00000</td>\n      <td>0.00000</td>\n      <td>0.00000</td>\n      <td>0.00000</td>\n      <td>0.00000</td>\n      <td>0.00000</td>\n      <td>0.00000</td>\n      <td>0.00000</td>\n      <td>0.00000</td>\n      <td>0.00000</td>\n      <td>0.00000</td>\n      <td>0.00000</td>\n      <td>0.00000</td>\n      <td>0.00000</td>\n      <td>0.00000</td>\n      <td>0.00000</td>\n      <td>0.00000</td>\n      <td>0.00000</td>\n      <td>0.00000</td>\n      <td>0.00000</td>\n      <td>0.00000</td>\n      <td>0.00000</td>\n      <td>0.00000</td>\n      <td>0.00000</td>\n      <td>0.00000</td>\n      <td>0.00000</td>\n      <td>0.00000</td>\n      <td>0.00000</td>\n      <td>0.00000</td>\n      <td>0.00000</td>\n      <td>0.00000</td>\n      <td>0.00000</td>\n      <td>0.00000</td>\n      <td>0.00000</td>\n      <td>0.00000</td>\n      <td>0.00000</td>\n      <td>0.00000</td>\n      <td>0.00000</td>\n      <td>0.00000</td>\n      <td>0.00000</td>\n      <td>0.00000</td>\n      <td>0.00000</td>\n      <td>0.00000</td>\n      <td>0.00000</td>\n      <td>0.00000</td>\n      <td>0.00000</td>\n      <td>0.00000</td>\n      <td>0.00000</td>\n      <td>0.00000</td>\n      <td>255.00000</td>\n      <td>0.00000</td>\n    </tr>\n    <tr>\n      <th>1</th>\n      <td>0.00000</td>\n      <td>0.00003</td>\n      <td>0.00000</td>\n      <td>0.00000</td>\n      <td>0.00000</td>\n      <td>0.00000</td>\n      <td>0.00000</td>\n      <td>0.00000</td>\n      <td>0.00000</td>\n      <td>0.00000</td>\n      <td>0.00000</td>\n      <td>0.00000</td>\n      <td>0.00000</td>\n      <td>0.00000</td>\n      <td>0.00000</td>\n      <td>0.00000</td>\n      <td>nan</td>\n      <td>0.00000</td>\n      <td>0.00000</td>\n      <td>6.48728</td>\n      <td>0.49902</td>\n      <td>0.00000</td>\n      <td>0.00000</td>\n      <td>0.00000</td>\n      <td>0.00000</td>\n      <td>20.40000</td>\n      <td>38.25000</td>\n      <td>0.00000</td>\n      <td>255.00000</td>\n      <td>1.00000</td>\n      <td>0.00000</td>\n      <td>153.00000</td>\n      <td>224.40000</td>\n      <td>0.00000</td>\n      <td>0.00000</td>\n      <td>0.00000</td>\n      <td>0.00000</td>\n      <td>0.00000</td>\n      <td>0.00000</td>\n      <td>0.00000</td>\n      <td>255.00000</td>\n      <td>0.00000</td>\n      <td>0.00000</td>\n      <td>0.00000</td>\n      <td>0.00000</td>\n      <td>0.00000</td>\n      <td>0.00000</td>\n      <td>0.00000</td>\n      <td>0.00000</td>\n      <td>0.00000</td>\n      <td>0.00000</td>\n      <td>0.00000</td>\n      <td>0.00000</td>\n      <td>0.00000</td>\n      <td>0.00000</td>\n      <td>0.00000</td>\n      <td>0.00000</td>\n      <td>0.00000</td>\n      <td>0.00000</td>\n      <td>0.00000</td>\n      <td>0.00000</td>\n      <td>0.00000</td>\n      <td>0.00000</td>\n      <td>0.00000</td>\n      <td>0.00000</td>\n      <td>0.00000</td>\n      <td>0.00000</td>\n      <td>0.00000</td>\n      <td>0.00000</td>\n      <td>0.00000</td>\n      <td>0.00000</td>\n      <td>0.00000</td>\n      <td>0.00000</td>\n      <td>0.00000</td>\n      <td>0.00000</td>\n      <td>0.00000</td>\n      <td>0.00000</td>\n      <td>0.00000</td>\n      <td>0.00000</td>\n      <td>0.00000</td>\n      <td>0.00000</td>\n      <td>255.00000</td>\n      <td>0.00000</td>\n      <td>0.00000</td>\n      <td>0.00000</td>\n      <td>0.00000</td>\n      <td>0.00000</td>\n      <td>0.00000</td>\n      <td>0.00000</td>\n      <td>0.00000</td>\n      <td>0.00000</td>\n      <td>0.00000</td>\n      <td>0.00000</td>\n      <td>0.00000</td>\n      <td>0.00000</td>\n      <td>0.00000</td>\n      <td>0.00000</td>\n      <td>0.00000</td>\n      <td>0.00000</td>\n      <td>0.00000</td>\n      <td>0.00000</td>\n      <td>0.00000</td>\n      <td>0.00000</td>\n      <td>0.00000</td>\n      <td>0.00000</td>\n      <td>0.00000</td>\n      <td>0.00000</td>\n      <td>0.00000</td>\n      <td>0.00000</td>\n      <td>0.00000</td>\n      <td>0.00000</td>\n      <td>0.00000</td>\n      <td>255.00000</td>\n      <td>0.00000</td>\n    </tr>\n    <tr>\n      <th>2</th>\n      <td>0.00000</td>\n      <td>0.00000</td>\n      <td>0.00000</td>\n      <td>0.00000</td>\n      <td>0.00000</td>\n      <td>0.00000</td>\n      <td>0.00000</td>\n      <td>0.00000</td>\n      <td>0.00000</td>\n      <td>0.00000</td>\n      <td>0.00000</td>\n      <td>0.00000</td>\n      <td>0.00000</td>\n      <td>0.00000</td>\n      <td>0.00000</td>\n      <td>0.00000</td>\n      <td>nan</td>\n      <td>0.00000</td>\n      <td>0.00000</td>\n      <td>61.37965</td>\n      <td>2.99413</td>\n      <td>255.00000</td>\n      <td>255.00000</td>\n      <td>0.00000</td>\n      <td>0.00000</td>\n      <td>12.75000</td>\n      <td>17.85000</td>\n      <td>0.00000</td>\n      <td>255.00000</td>\n      <td>26.00000</td>\n      <td>25.50000</td>\n      <td>12.75000</td>\n      <td>0.00000</td>\n      <td>0.00000</td>\n      <td>255.00000</td>\n      <td>255.00000</td>\n      <td>0.00000</td>\n      <td>0.00000</td>\n      <td>0.00000</td>\n      <td>255.00000</td>\n      <td>0.00000</td>\n      <td>0.00000</td>\n      <td>0.00000</td>\n      <td>0.00000</td>\n      <td>0.00000</td>\n      <td>0.00000</td>\n      <td>0.00000</td>\n      <td>0.00000</td>\n      <td>0.00000</td>\n      <td>0.00000</td>\n      <td>0.00000</td>\n      <td>0.00000</td>\n      <td>0.00000</td>\n      <td>0.00000</td>\n      <td>0.00000</td>\n      <td>0.00000</td>\n      <td>0.00000</td>\n      <td>0.00000</td>\n      <td>0.00000</td>\n      <td>0.00000</td>\n      <td>0.00000</td>\n      <td>0.00000</td>\n      <td>0.00000</td>\n      <td>0.00000</td>\n      <td>0.00000</td>\n      <td>0.00000</td>\n      <td>0.00000</td>\n      <td>0.00000</td>\n      <td>0.00000</td>\n      <td>0.00000</td>\n      <td>0.00000</td>\n      <td>0.00000</td>\n      <td>0.00000</td>\n      <td>0.00000</td>\n      <td>0.00000</td>\n      <td>0.00000</td>\n      <td>0.00000</td>\n      <td>0.00000</td>\n      <td>0.00000</td>\n      <td>0.00000</td>\n      <td>0.00000</td>\n      <td>0.00000</td>\n      <td>0.00000</td>\n      <td>0.00000</td>\n      <td>0.00000</td>\n      <td>255.00000</td>\n      <td>0.00000</td>\n      <td>0.00000</td>\n      <td>0.00000</td>\n      <td>0.00000</td>\n      <td>0.00000</td>\n      <td>0.00000</td>\n      <td>0.00000</td>\n      <td>0.00000</td>\n      <td>0.00000</td>\n      <td>0.00000</td>\n      <td>0.00000</td>\n      <td>0.00000</td>\n      <td>0.00000</td>\n      <td>0.00000</td>\n      <td>0.00000</td>\n      <td>0.00000</td>\n      <td>0.00000</td>\n      <td>0.00000</td>\n      <td>0.00000</td>\n      <td>0.00000</td>\n      <td>0.00000</td>\n      <td>0.00000</td>\n      <td>255.00000</td>\n      <td>0.00000</td>\n      <td>0.00000</td>\n      <td>0.00000</td>\n      <td>0.00000</td>\n      <td>0.00000</td>\n    </tr>\n    <tr>\n      <th>3</th>\n      <td>0.00000</td>\n      <td>0.00004</td>\n      <td>0.00159</td>\n      <td>0.00000</td>\n      <td>0.00000</td>\n      <td>0.00000</td>\n      <td>0.00000</td>\n      <td>0.00000</td>\n      <td>255.00000</td>\n      <td>0.00000</td>\n      <td>0.00000</td>\n      <td>0.00000</td>\n      <td>0.00000</td>\n      <td>0.00000</td>\n      <td>0.00000</td>\n      <td>0.00000</td>\n      <td>nan</td>\n      <td>0.00000</td>\n      <td>0.00000</td>\n      <td>2.49511</td>\n      <td>2.49511</td>\n      <td>51.00000</td>\n      <td>51.00000</td>\n      <td>0.00000</td>\n      <td>0.00000</td>\n      <td>255.00000</td>\n      <td>0.00000</td>\n      <td>0.00000</td>\n      <td>30.00000</td>\n      <td>255.00000</td>\n      <td>255.00000</td>\n      <td>0.00000</td>\n      <td>7.65000</td>\n      <td>10.20000</td>\n      <td>7.65000</td>\n      <td>2.55000</td>\n      <td>0.00000</td>\n      <td>2.55000</td>\n      <td>0.00000</td>\n      <td>255.00000</td>\n      <td>0.00000</td>\n      <td>0.00000</td>\n      <td>0.00000</td>\n      <td>0.00000</td>\n      <td>0.00000</td>\n      <td>0.00000</td>\n      <td>0.00000</td>\n      <td>0.00000</td>\n      <td>0.00000</td>\n      <td>0.00000</td>\n      <td>0.00000</td>\n      <td>0.00000</td>\n      <td>0.00000</td>\n      <td>0.00000</td>\n      <td>0.00000</td>\n      <td>0.00000</td>\n      <td>0.00000</td>\n      <td>0.00000</td>\n      <td>0.00000</td>\n      <td>0.00000</td>\n      <td>0.00000</td>\n      <td>0.00000</td>\n      <td>0.00000</td>\n      <td>255.00000</td>\n      <td>0.00000</td>\n      <td>0.00000</td>\n      <td>0.00000</td>\n      <td>0.00000</td>\n      <td>0.00000</td>\n      <td>0.00000</td>\n      <td>0.00000</td>\n      <td>0.00000</td>\n      <td>0.00000</td>\n      <td>0.00000</td>\n      <td>0.00000</td>\n      <td>0.00000</td>\n      <td>0.00000</td>\n      <td>0.00000</td>\n      <td>0.00000</td>\n      <td>0.00000</td>\n      <td>0.00000</td>\n      <td>0.00000</td>\n      <td>0.00000</td>\n      <td>0.00000</td>\n      <td>0.00000</td>\n      <td>0.00000</td>\n      <td>0.00000</td>\n      <td>0.00000</td>\n      <td>0.00000</td>\n      <td>0.00000</td>\n      <td>0.00000</td>\n      <td>0.00000</td>\n      <td>0.00000</td>\n      <td>0.00000</td>\n      <td>0.00000</td>\n      <td>0.00000</td>\n      <td>0.00000</td>\n      <td>0.00000</td>\n      <td>0.00000</td>\n      <td>0.00000</td>\n      <td>0.00000</td>\n      <td>0.00000</td>\n      <td>0.00000</td>\n      <td>0.00000</td>\n      <td>0.00000</td>\n      <td>0.00000</td>\n      <td>0.00000</td>\n      <td>0.00000</td>\n      <td>0.00000</td>\n      <td>0.00000</td>\n      <td>0.00000</td>\n      <td>0.00000</td>\n      <td>255.00000</td>\n      <td>0.00000</td>\n    </tr>\n    <tr>\n      <th>4</th>\n      <td>0.00000</td>\n      <td>0.00004</td>\n      <td>0.00008</td>\n      <td>0.00000</td>\n      <td>0.00000</td>\n      <td>0.00000</td>\n      <td>0.00000</td>\n      <td>0.00000</td>\n      <td>255.00000</td>\n      <td>0.00000</td>\n      <td>0.00000</td>\n      <td>0.00000</td>\n      <td>0.00000</td>\n      <td>0.00000</td>\n      <td>0.00000</td>\n      <td>0.00000</td>\n      <td>nan</td>\n      <td>0.00000</td>\n      <td>0.00000</td>\n      <td>14.97065</td>\n      <td>15.96869</td>\n      <td>0.00000</td>\n      <td>0.00000</td>\n      <td>0.00000</td>\n      <td>0.00000</td>\n      <td>255.00000</td>\n      <td>0.00000</td>\n      <td>22.95000</td>\n      <td>255.00000</td>\n      <td>255.00000</td>\n      <td>255.00000</td>\n      <td>0.00000</td>\n      <td>0.00000</td>\n      <td>0.00000</td>\n      <td>0.00000</td>\n      <td>0.00000</td>\n      <td>0.00000</td>\n      <td>0.00000</td>\n      <td>0.00000</td>\n      <td>255.00000</td>\n      <td>0.00000</td>\n      <td>0.00000</td>\n      <td>0.00000</td>\n      <td>0.00000</td>\n      <td>0.00000</td>\n      <td>0.00000</td>\n      <td>0.00000</td>\n      <td>0.00000</td>\n      <td>0.00000</td>\n      <td>0.00000</td>\n      <td>0.00000</td>\n      <td>0.00000</td>\n      <td>0.00000</td>\n      <td>0.00000</td>\n      <td>0.00000</td>\n      <td>0.00000</td>\n      <td>0.00000</td>\n      <td>0.00000</td>\n      <td>0.00000</td>\n      <td>0.00000</td>\n      <td>0.00000</td>\n      <td>0.00000</td>\n      <td>0.00000</td>\n      <td>255.00000</td>\n      <td>0.00000</td>\n      <td>0.00000</td>\n      <td>0.00000</td>\n      <td>0.00000</td>\n      <td>0.00000</td>\n      <td>0.00000</td>\n      <td>0.00000</td>\n      <td>0.00000</td>\n      <td>0.00000</td>\n      <td>0.00000</td>\n      <td>0.00000</td>\n      <td>0.00000</td>\n      <td>0.00000</td>\n      <td>0.00000</td>\n      <td>0.00000</td>\n      <td>0.00000</td>\n      <td>0.00000</td>\n      <td>0.00000</td>\n      <td>0.00000</td>\n      <td>0.00000</td>\n      <td>0.00000</td>\n      <td>0.00000</td>\n      <td>0.00000</td>\n      <td>0.00000</td>\n      <td>0.00000</td>\n      <td>0.00000</td>\n      <td>0.00000</td>\n      <td>0.00000</td>\n      <td>0.00000</td>\n      <td>0.00000</td>\n      <td>0.00000</td>\n      <td>0.00000</td>\n      <td>0.00000</td>\n      <td>0.00000</td>\n      <td>0.00000</td>\n      <td>0.00000</td>\n      <td>0.00000</td>\n      <td>0.00000</td>\n      <td>0.00000</td>\n      <td>0.00000</td>\n      <td>0.00000</td>\n      <td>0.00000</td>\n      <td>0.00000</td>\n      <td>0.00000</td>\n      <td>0.00000</td>\n      <td>0.00000</td>\n      <td>0.00000</td>\n      <td>0.00000</td>\n      <td>255.00000</td>\n      <td>0.00000</td>\n    </tr>\n    <tr>\n      <th>...</th>\n      <td>...</td>\n      <td>...</td>\n      <td>...</td>\n      <td>...</td>\n      <td>...</td>\n      <td>...</td>\n      <td>...</td>\n      <td>...</td>\n      <td>...</td>\n      <td>...</td>\n      <td>...</td>\n      <td>...</td>\n      <td>...</td>\n      <td>...</td>\n      <td>...</td>\n      <td>...</td>\n      <td>...</td>\n      <td>...</td>\n      <td>...</td>\n      <td>...</td>\n      <td>...</td>\n      <td>...</td>\n      <td>...</td>\n      <td>...</td>\n      <td>...</td>\n      <td>...</td>\n      <td>...</td>\n      <td>...</td>\n      <td>...</td>\n      <td>...</td>\n      <td>...</td>\n      <td>...</td>\n      <td>...</td>\n      <td>...</td>\n      <td>...</td>\n      <td>...</td>\n      <td>...</td>\n      <td>...</td>\n      <td>...</td>\n      <td>...</td>\n      <td>...</td>\n      <td>...</td>\n      <td>...</td>\n      <td>...</td>\n      <td>...</td>\n      <td>...</td>\n      <td>...</td>\n      <td>...</td>\n      <td>...</td>\n      <td>...</td>\n      <td>...</td>\n      <td>...</td>\n      <td>...</td>\n      <td>...</td>\n      <td>...</td>\n      <td>...</td>\n      <td>...</td>\n      <td>...</td>\n      <td>...</td>\n      <td>...</td>\n      <td>...</td>\n      <td>...</td>\n      <td>...</td>\n      <td>...</td>\n      <td>...</td>\n      <td>...</td>\n      <td>...</td>\n      <td>...</td>\n      <td>...</td>\n      <td>...</td>\n      <td>...</td>\n      <td>...</td>\n      <td>...</td>\n      <td>...</td>\n      <td>...</td>\n      <td>...</td>\n      <td>...</td>\n      <td>...</td>\n      <td>...</td>\n      <td>...</td>\n      <td>...</td>\n      <td>...</td>\n      <td>...</td>\n      <td>...</td>\n      <td>...</td>\n      <td>...</td>\n      <td>...</td>\n      <td>...</td>\n      <td>...</td>\n      <td>...</td>\n      <td>...</td>\n      <td>...</td>\n      <td>...</td>\n      <td>...</td>\n      <td>...</td>\n      <td>...</td>\n      <td>...</td>\n      <td>...</td>\n      <td>...</td>\n      <td>...</td>\n      <td>...</td>\n      <td>...</td>\n      <td>...</td>\n      <td>...</td>\n      <td>...</td>\n      <td>...</td>\n      <td>...</td>\n      <td>...</td>\n      <td>...</td>\n      <td>...</td>\n      <td>...</td>\n      <td>...</td>\n      <td>...</td>\n      <td>...</td>\n    </tr>\n    <tr>\n      <th>125968</th>\n      <td>0.00000</td>\n      <td>0.00000</td>\n      <td>0.00000</td>\n      <td>0.00000</td>\n      <td>0.00000</td>\n      <td>0.00000</td>\n      <td>0.00000</td>\n      <td>0.00000</td>\n      <td>0.00000</td>\n      <td>0.00000</td>\n      <td>0.00000</td>\n      <td>0.00000</td>\n      <td>0.00000</td>\n      <td>0.00000</td>\n      <td>0.00000</td>\n      <td>0.00000</td>\n      <td>nan</td>\n      <td>0.00000</td>\n      <td>0.00000</td>\n      <td>91.81996</td>\n      <td>12.47554</td>\n      <td>255.00000</td>\n      <td>255.00000</td>\n      <td>0.00000</td>\n      <td>0.00000</td>\n      <td>35.70000</td>\n      <td>15.30000</td>\n      <td>0.00000</td>\n      <td>255.00000</td>\n      <td>25.00000</td>\n      <td>25.50000</td>\n      <td>15.30000</td>\n      <td>0.00000</td>\n      <td>0.00000</td>\n      <td>255.00000</td>\n      <td>255.00000</td>\n      <td>0.00000</td>\n      <td>0.00000</td>\n      <td>0.00000</td>\n      <td>255.00000</td>\n      <td>0.00000</td>\n      <td>0.00000</td>\n      <td>0.00000</td>\n      <td>0.00000</td>\n      <td>0.00000</td>\n      <td>0.00000</td>\n      <td>0.00000</td>\n      <td>0.00000</td>\n      <td>0.00000</td>\n      <td>0.00000</td>\n      <td>0.00000</td>\n      <td>0.00000</td>\n      <td>0.00000</td>\n      <td>0.00000</td>\n      <td>0.00000</td>\n      <td>0.00000</td>\n      <td>0.00000</td>\n      <td>0.00000</td>\n      <td>0.00000</td>\n      <td>0.00000</td>\n      <td>0.00000</td>\n      <td>0.00000</td>\n      <td>0.00000</td>\n      <td>0.00000</td>\n      <td>0.00000</td>\n      <td>0.00000</td>\n      <td>0.00000</td>\n      <td>0.00000</td>\n      <td>0.00000</td>\n      <td>0.00000</td>\n      <td>0.00000</td>\n      <td>0.00000</td>\n      <td>0.00000</td>\n      <td>0.00000</td>\n      <td>0.00000</td>\n      <td>0.00000</td>\n      <td>0.00000</td>\n      <td>0.00000</td>\n      <td>0.00000</td>\n      <td>0.00000</td>\n      <td>0.00000</td>\n      <td>0.00000</td>\n      <td>0.00000</td>\n      <td>0.00000</td>\n      <td>0.00000</td>\n      <td>255.00000</td>\n      <td>0.00000</td>\n      <td>0.00000</td>\n      <td>0.00000</td>\n      <td>0.00000</td>\n      <td>0.00000</td>\n      <td>0.00000</td>\n      <td>0.00000</td>\n      <td>0.00000</td>\n      <td>0.00000</td>\n      <td>0.00000</td>\n      <td>0.00000</td>\n      <td>0.00000</td>\n      <td>0.00000</td>\n      <td>0.00000</td>\n      <td>0.00000</td>\n      <td>0.00000</td>\n      <td>0.00000</td>\n      <td>0.00000</td>\n      <td>0.00000</td>\n      <td>0.00000</td>\n      <td>0.00000</td>\n      <td>0.00000</td>\n      <td>255.00000</td>\n      <td>0.00000</td>\n      <td>0.00000</td>\n      <td>0.00000</td>\n      <td>0.00000</td>\n      <td>0.00000</td>\n    </tr>\n    <tr>\n      <th>125969</th>\n      <td>0.04754</td>\n      <td>0.00002</td>\n      <td>0.00003</td>\n      <td>0.00000</td>\n      <td>0.00000</td>\n      <td>0.00000</td>\n      <td>0.00000</td>\n      <td>0.00000</td>\n      <td>0.00000</td>\n      <td>0.00000</td>\n      <td>0.00000</td>\n      <td>0.00000</td>\n      <td>0.00000</td>\n      <td>0.00000</td>\n      <td>0.00000</td>\n      <td>0.00000</td>\n      <td>nan</td>\n      <td>0.00000</td>\n      <td>0.00000</td>\n      <td>0.99804</td>\n      <td>0.99804</td>\n      <td>0.00000</td>\n      <td>0.00000</td>\n      <td>0.00000</td>\n      <td>0.00000</td>\n      <td>255.00000</td>\n      <td>0.00000</td>\n      <td>0.00000</td>\n      <td>255.00000</td>\n      <td>244.00000</td>\n      <td>244.80000</td>\n      <td>2.55000</td>\n      <td>2.55000</td>\n      <td>0.00000</td>\n      <td>0.00000</td>\n      <td>0.00000</td>\n      <td>0.00000</td>\n      <td>0.00000</td>\n      <td>0.00000</td>\n      <td>0.00000</td>\n      <td>255.00000</td>\n      <td>0.00000</td>\n      <td>0.00000</td>\n      <td>0.00000</td>\n      <td>0.00000</td>\n      <td>0.00000</td>\n      <td>0.00000</td>\n      <td>0.00000</td>\n      <td>0.00000</td>\n      <td>0.00000</td>\n      <td>0.00000</td>\n      <td>0.00000</td>\n      <td>0.00000</td>\n      <td>0.00000</td>\n      <td>0.00000</td>\n      <td>0.00000</td>\n      <td>0.00000</td>\n      <td>0.00000</td>\n      <td>0.00000</td>\n      <td>0.00000</td>\n      <td>0.00000</td>\n      <td>0.00000</td>\n      <td>0.00000</td>\n      <td>0.00000</td>\n      <td>0.00000</td>\n      <td>0.00000</td>\n      <td>0.00000</td>\n      <td>0.00000</td>\n      <td>0.00000</td>\n      <td>0.00000</td>\n      <td>0.00000</td>\n      <td>0.00000</td>\n      <td>0.00000</td>\n      <td>0.00000</td>\n      <td>0.00000</td>\n      <td>0.00000</td>\n      <td>0.00000</td>\n      <td>0.00000</td>\n      <td>0.00000</td>\n      <td>0.00000</td>\n      <td>0.00000</td>\n      <td>0.00000</td>\n      <td>0.00000</td>\n      <td>0.00000</td>\n      <td>0.00000</td>\n      <td>255.00000</td>\n      <td>0.00000</td>\n      <td>0.00000</td>\n      <td>0.00000</td>\n      <td>0.00000</td>\n      <td>0.00000</td>\n      <td>0.00000</td>\n      <td>0.00000</td>\n      <td>0.00000</td>\n      <td>0.00000</td>\n      <td>0.00000</td>\n      <td>0.00000</td>\n      <td>0.00000</td>\n      <td>0.00000</td>\n      <td>0.00000</td>\n      <td>0.00000</td>\n      <td>0.00000</td>\n      <td>0.00000</td>\n      <td>0.00000</td>\n      <td>0.00000</td>\n      <td>0.00000</td>\n      <td>0.00000</td>\n      <td>0.00000</td>\n      <td>0.00000</td>\n      <td>0.00000</td>\n      <td>0.00000</td>\n      <td>0.00000</td>\n      <td>255.00000</td>\n      <td>0.00000</td>\n    </tr>\n    <tr>\n      <th>125970</th>\n      <td>0.00000</td>\n      <td>0.00041</td>\n      <td>0.00007</td>\n      <td>0.00000</td>\n      <td>0.00000</td>\n      <td>0.00000</td>\n      <td>0.00000</td>\n      <td>0.00000</td>\n      <td>255.00000</td>\n      <td>0.00000</td>\n      <td>0.00000</td>\n      <td>0.00000</td>\n      <td>0.00000</td>\n      <td>0.00000</td>\n      <td>0.00000</td>\n      <td>0.00000</td>\n      <td>nan</td>\n      <td>0.00000</td>\n      <td>0.00000</td>\n      <td>0.49902</td>\n      <td>0.49902</td>\n      <td>0.00000</td>\n      <td>0.00000</td>\n      <td>0.00000</td>\n      <td>0.00000</td>\n      <td>255.00000</td>\n      <td>0.00000</td>\n      <td>0.00000</td>\n      <td>255.00000</td>\n      <td>30.00000</td>\n      <td>30.60000</td>\n      <td>15.30000</td>\n      <td>0.00000</td>\n      <td>0.00000</td>\n      <td>183.60000</td>\n      <td>0.00000</td>\n      <td>2.55000</td>\n      <td>0.00000</td>\n      <td>0.00000</td>\n      <td>255.00000</td>\n      <td>0.00000</td>\n      <td>0.00000</td>\n      <td>0.00000</td>\n      <td>0.00000</td>\n      <td>0.00000</td>\n      <td>0.00000</td>\n      <td>0.00000</td>\n      <td>0.00000</td>\n      <td>0.00000</td>\n      <td>0.00000</td>\n      <td>0.00000</td>\n      <td>0.00000</td>\n      <td>0.00000</td>\n      <td>0.00000</td>\n      <td>0.00000</td>\n      <td>0.00000</td>\n      <td>0.00000</td>\n      <td>0.00000</td>\n      <td>0.00000</td>\n      <td>0.00000</td>\n      <td>0.00000</td>\n      <td>0.00000</td>\n      <td>0.00000</td>\n      <td>0.00000</td>\n      <td>0.00000</td>\n      <td>0.00000</td>\n      <td>0.00000</td>\n      <td>0.00000</td>\n      <td>0.00000</td>\n      <td>0.00000</td>\n      <td>0.00000</td>\n      <td>0.00000</td>\n      <td>0.00000</td>\n      <td>0.00000</td>\n      <td>0.00000</td>\n      <td>0.00000</td>\n      <td>0.00000</td>\n      <td>0.00000</td>\n      <td>0.00000</td>\n      <td>0.00000</td>\n      <td>0.00000</td>\n      <td>0.00000</td>\n      <td>0.00000</td>\n      <td>0.00000</td>\n      <td>0.00000</td>\n      <td>0.00000</td>\n      <td>0.00000</td>\n      <td>0.00000</td>\n      <td>255.00000</td>\n      <td>0.00000</td>\n      <td>0.00000</td>\n      <td>0.00000</td>\n      <td>0.00000</td>\n      <td>0.00000</td>\n      <td>0.00000</td>\n      <td>0.00000</td>\n      <td>0.00000</td>\n      <td>0.00000</td>\n      <td>0.00000</td>\n      <td>0.00000</td>\n      <td>0.00000</td>\n      <td>0.00000</td>\n      <td>0.00000</td>\n      <td>0.00000</td>\n      <td>0.00000</td>\n      <td>0.00000</td>\n      <td>0.00000</td>\n      <td>0.00000</td>\n      <td>0.00000</td>\n      <td>0.00000</td>\n      <td>0.00000</td>\n      <td>0.00000</td>\n      <td>255.00000</td>\n      <td>0.00000</td>\n    </tr>\n    <tr>\n      <th>125971</th>\n      <td>0.00000</td>\n      <td>0.00000</td>\n      <td>0.00000</td>\n      <td>0.00000</td>\n      <td>0.00000</td>\n      <td>0.00000</td>\n      <td>0.00000</td>\n      <td>0.00000</td>\n      <td>0.00000</td>\n      <td>0.00000</td>\n      <td>0.00000</td>\n      <td>0.00000</td>\n      <td>0.00000</td>\n      <td>0.00000</td>\n      <td>0.00000</td>\n      <td>0.00000</td>\n      <td>nan</td>\n      <td>0.00000</td>\n      <td>0.00000</td>\n      <td>71.85910</td>\n      <td>3.99217</td>\n      <td>255.00000</td>\n      <td>255.00000</td>\n      <td>0.00000</td>\n      <td>0.00000</td>\n      <td>15.30000</td>\n      <td>12.75000</td>\n      <td>0.00000</td>\n      <td>255.00000</td>\n      <td>8.00000</td>\n      <td>7.65000</td>\n      <td>12.75000</td>\n      <td>0.00000</td>\n      <td>0.00000</td>\n      <td>255.00000</td>\n      <td>255.00000</td>\n      <td>0.00000</td>\n      <td>0.00000</td>\n      <td>0.00000</td>\n      <td>255.00000</td>\n      <td>0.00000</td>\n      <td>0.00000</td>\n      <td>0.00000</td>\n      <td>0.00000</td>\n      <td>0.00000</td>\n      <td>0.00000</td>\n      <td>0.00000</td>\n      <td>0.00000</td>\n      <td>0.00000</td>\n      <td>0.00000</td>\n      <td>0.00000</td>\n      <td>0.00000</td>\n      <td>0.00000</td>\n      <td>0.00000</td>\n      <td>0.00000</td>\n      <td>0.00000</td>\n      <td>0.00000</td>\n      <td>0.00000</td>\n      <td>0.00000</td>\n      <td>0.00000</td>\n      <td>0.00000</td>\n      <td>0.00000</td>\n      <td>0.00000</td>\n      <td>0.00000</td>\n      <td>0.00000</td>\n      <td>0.00000</td>\n      <td>0.00000</td>\n      <td>255.00000</td>\n      <td>0.00000</td>\n      <td>0.00000</td>\n      <td>0.00000</td>\n      <td>0.00000</td>\n      <td>0.00000</td>\n      <td>0.00000</td>\n      <td>0.00000</td>\n      <td>0.00000</td>\n      <td>0.00000</td>\n      <td>0.00000</td>\n      <td>0.00000</td>\n      <td>0.00000</td>\n      <td>0.00000</td>\n      <td>0.00000</td>\n      <td>0.00000</td>\n      <td>0.00000</td>\n      <td>0.00000</td>\n      <td>0.00000</td>\n      <td>0.00000</td>\n      <td>0.00000</td>\n      <td>0.00000</td>\n      <td>0.00000</td>\n      <td>0.00000</td>\n      <td>0.00000</td>\n      <td>0.00000</td>\n      <td>0.00000</td>\n      <td>0.00000</td>\n      <td>0.00000</td>\n      <td>0.00000</td>\n      <td>0.00000</td>\n      <td>0.00000</td>\n      <td>0.00000</td>\n      <td>0.00000</td>\n      <td>0.00000</td>\n      <td>0.00000</td>\n      <td>0.00000</td>\n      <td>0.00000</td>\n      <td>0.00000</td>\n      <td>0.00000</td>\n      <td>0.00000</td>\n      <td>255.00000</td>\n      <td>0.00000</td>\n      <td>0.00000</td>\n      <td>0.00000</td>\n      <td>0.00000</td>\n      <td>0.00000</td>\n    </tr>\n    <tr>\n      <th>125972</th>\n      <td>0.00000</td>\n      <td>0.00003</td>\n      <td>0.00000</td>\n      <td>0.00000</td>\n      <td>0.00000</td>\n      <td>0.00000</td>\n      <td>0.00000</td>\n      <td>0.00000</td>\n      <td>255.00000</td>\n      <td>0.00000</td>\n      <td>0.00000</td>\n      <td>0.00000</td>\n      <td>0.00000</td>\n      <td>0.00000</td>\n      <td>0.00000</td>\n      <td>0.00000</td>\n      <td>nan</td>\n      <td>0.00000</td>\n      <td>0.00000</td>\n      <td>0.49902</td>\n      <td>0.49902</td>\n      <td>0.00000</td>\n      <td>0.00000</td>\n      <td>0.00000</td>\n      <td>0.00000</td>\n      <td>255.00000</td>\n      <td>0.00000</td>\n      <td>0.00000</td>\n      <td>255.00000</td>\n      <td>77.00000</td>\n      <td>76.50000</td>\n      <td>7.65000</td>\n      <td>76.50000</td>\n      <td>0.00000</td>\n      <td>0.00000</td>\n      <td>0.00000</td>\n      <td>0.00000</td>\n      <td>0.00000</td>\n      <td>0.00000</td>\n      <td>255.00000</td>\n      <td>0.00000</td>\n      <td>0.00000</td>\n      <td>0.00000</td>\n      <td>0.00000</td>\n      <td>0.00000</td>\n      <td>0.00000</td>\n      <td>0.00000</td>\n      <td>0.00000</td>\n      <td>0.00000</td>\n      <td>0.00000</td>\n      <td>0.00000</td>\n      <td>0.00000</td>\n      <td>0.00000</td>\n      <td>0.00000</td>\n      <td>0.00000</td>\n      <td>0.00000</td>\n      <td>0.00000</td>\n      <td>0.00000</td>\n      <td>0.00000</td>\n      <td>0.00000</td>\n      <td>255.00000</td>\n      <td>0.00000</td>\n      <td>0.00000</td>\n      <td>0.00000</td>\n      <td>0.00000</td>\n      <td>0.00000</td>\n      <td>0.00000</td>\n      <td>0.00000</td>\n      <td>0.00000</td>\n      <td>0.00000</td>\n      <td>0.00000</td>\n      <td>0.00000</td>\n      <td>0.00000</td>\n      <td>0.00000</td>\n      <td>0.00000</td>\n      <td>0.00000</td>\n      <td>0.00000</td>\n      <td>0.00000</td>\n      <td>0.00000</td>\n      <td>0.00000</td>\n      <td>0.00000</td>\n      <td>0.00000</td>\n      <td>0.00000</td>\n      <td>0.00000</td>\n      <td>0.00000</td>\n      <td>0.00000</td>\n      <td>0.00000</td>\n      <td>0.00000</td>\n      <td>0.00000</td>\n      <td>0.00000</td>\n      <td>0.00000</td>\n      <td>0.00000</td>\n      <td>0.00000</td>\n      <td>0.00000</td>\n      <td>0.00000</td>\n      <td>0.00000</td>\n      <td>0.00000</td>\n      <td>0.00000</td>\n      <td>0.00000</td>\n      <td>0.00000</td>\n      <td>0.00000</td>\n      <td>0.00000</td>\n      <td>0.00000</td>\n      <td>0.00000</td>\n      <td>0.00000</td>\n      <td>0.00000</td>\n      <td>0.00000</td>\n      <td>0.00000</td>\n      <td>0.00000</td>\n      <td>0.00000</td>\n      <td>0.00000</td>\n      <td>0.00000</td>\n      <td>255.00000</td>\n      <td>0.00000</td>\n    </tr>\n  </tbody>\n</table>\n<p>125793 rows × 114 columns</p>\n</div>"
          },
          "metadata": {},
          "execution_count": 15
        }
      ]
    },
    {
      "cell_type": "code",
      "metadata": {
        "colab": {
          "base_uri": "https://localhost:8080/",
          "height": 422
        },
        "id": "p55dGYkXO-nW",
        "outputId": "ec6196de-9fa5-4dd1-8220-ec3ef4900d64"
      },
      "source": [
        "edited_xtest = 255 * edited_xtest / edited_xtest.max(numeric_only = True)\n",
        "\n",
        "edited_xtest"
      ],
      "execution_count": 16,
      "outputs": [
        {
          "output_type": "execute_result",
          "data": {
            "text/plain": [
              "       duration  src_bytes  dst_bytes    land  wrong_fragment  urgent     hot  \\\n",
              "0       0.00000    0.00000    0.00000 0.00000         0.00000 0.00000 0.00000   \n",
              "1       0.00000    0.00000    0.00000 0.00000         0.00000 0.00000 0.00000   \n",
              "2       0.00884    0.05270    0.00000 0.00000         0.00000 0.00000 0.00000   \n",
              "3       0.00000    0.00008    0.00000 0.00000         0.00000 0.00000 0.00000   \n",
              "4       0.00442    0.00000    0.00284 0.00000         0.00000 0.00000 0.00000   \n",
              "...         ...        ...        ...     ...             ...     ...     ...   \n",
              "22539   0.00000    0.00322    0.06309 0.00000         0.00000 0.00000 0.00000   \n",
              "22540   0.00000    0.00129    0.17771 0.00000         0.00000 0.00000 0.00000   \n",
              "22541   0.00000    0.22137    1.57517 0.00000         0.00000 0.00000 5.04950   \n",
              "22542   0.00000    0.00017    0.00796 0.00000         0.00000 0.00000 0.00000   \n",
              "22543   0.00000    0.00000    0.00000 0.00000         0.00000 0.00000 0.00000   \n",
              "\n",
              "       num_failed_logins  logged_in  num_compromised  root_shell  \\\n",
              "0                0.00000    0.00000          0.00000     0.00000   \n",
              "1                0.00000    0.00000          0.00000     0.00000   \n",
              "2                0.00000    0.00000          0.00000     0.00000   \n",
              "3                0.00000    0.00000          0.00000     0.00000   \n",
              "4                0.00000    0.00000          0.00000     0.00000   \n",
              "...                  ...        ...              ...         ...   \n",
              "22539            0.00000  255.00000          0.00000     0.00000   \n",
              "22540            0.00000  255.00000          0.00000     0.00000   \n",
              "22541            0.00000  255.00000          0.32035     0.00000   \n",
              "22542            0.00000    0.00000          0.00000     0.00000   \n",
              "22543            0.00000    0.00000          0.00000     0.00000   \n",
              "\n",
              "       su_attempted  num_root  num_file_creations  num_shells  \\\n",
              "0           0.00000   0.00000             0.00000     0.00000   \n",
              "1           0.00000   0.00000             0.00000     0.00000   \n",
              "2           0.00000   0.00000             0.00000     0.00000   \n",
              "3           0.00000   0.00000             0.00000     0.00000   \n",
              "4           0.00000   0.00000             0.00000     0.00000   \n",
              "...             ...       ...                 ...         ...   \n",
              "22539       0.00000   0.00000             0.00000     0.00000   \n",
              "22540       0.00000   0.00000             0.00000     0.00000   \n",
              "22541       0.00000   0.00000             0.00000     0.00000   \n",
              "22542       0.00000   0.00000             0.00000     0.00000   \n",
              "22543       0.00000   0.00000             0.00000     0.00000   \n",
              "\n",
              "       num_access_files  num_outbound_cmds  is_host_login  is_guest_login  \\\n",
              "0               0.00000                nan        0.00000         0.00000   \n",
              "1               0.00000                nan        0.00000         0.00000   \n",
              "2               0.00000                nan        0.00000         0.00000   \n",
              "3               0.00000                nan        0.00000         0.00000   \n",
              "4               0.00000                nan        0.00000         0.00000   \n",
              "...                 ...                ...            ...             ...   \n",
              "22539           0.00000                nan        0.00000         0.00000   \n",
              "22540           0.00000                nan        0.00000         0.00000   \n",
              "22541           0.00000                nan        0.00000         0.00000   \n",
              "22542           0.00000                nan        0.00000         0.00000   \n",
              "22543           0.00000                nan        0.00000         0.00000   \n",
              "\n",
              "          count  srv_count  serror_rate  srv_serror_rate  rerror_rate  \\\n",
              "0     114.27593    4.99022      0.00000          0.00000    255.00000   \n",
              "1      67.86693    0.49902      0.00000          0.00000    255.00000   \n",
              "2       0.49902    0.49902      0.00000          0.00000      0.00000   \n",
              "3       0.49902   32.43640      0.00000          0.00000      0.00000   \n",
              "4       0.49902    3.99217      0.00000         30.60000    255.00000   \n",
              "...         ...        ...          ...              ...          ...   \n",
              "22539   0.49902    0.49902      0.00000          0.00000      0.00000   \n",
              "22540   0.99804    5.48924      0.00000          0.00000      0.00000   \n",
              "22541   2.49511    4.99022      0.00000          0.00000      0.00000   \n",
              "22542   1.99609    2.99413      0.00000          0.00000      0.00000   \n",
              "22543   1.99609    4.99022      0.00000          0.00000    255.00000   \n",
              "\n",
              "       srv_rerror_rate  same_srv_rate  diff_srv_rate  srv_diff_host_rate  \\\n",
              "0            255.00000       10.20000       15.30000             0.00000   \n",
              "1            255.00000        2.55000       15.30000             0.00000   \n",
              "2              0.00000      255.00000        0.00000             0.00000   \n",
              "3              0.00000      255.00000        0.00000           255.00000   \n",
              "4            127.50000      255.00000        0.00000           191.25000   \n",
              "...                ...            ...            ...                 ...   \n",
              "22539          0.00000      255.00000        0.00000             0.00000   \n",
              "22540          0.00000      255.00000        0.00000            45.90000   \n",
              "22541          0.00000      255.00000        0.00000            51.00000   \n",
              "22542          0.00000      255.00000        0.00000            84.15000   \n",
              "22543        255.00000       63.75000      255.00000           255.00000   \n",
              "\n",
              "       dst_host_count  dst_host_srv_count  dst_host_same_srv_rate  \\\n",
              "0           255.00000            10.00000                10.20000   \n",
              "1           255.00000             1.00000                 0.00000   \n",
              "2           134.00000            86.00000               155.55000   \n",
              "3             3.00000            57.00000               255.00000   \n",
              "4            29.00000            86.00000                79.05000   \n",
              "...               ...                 ...                     ...   \n",
              "22539       100.00000           141.00000               183.60000   \n",
              "22540       197.00000           255.00000               255.00000   \n",
              "22541       255.00000           255.00000               255.00000   \n",
              "22542       255.00000           252.00000               252.45000   \n",
              "22543       255.00000            21.00000                20.40000   \n",
              "\n",
              "       dst_host_diff_srv_rate  dst_host_same_src_port_rate  \\\n",
              "0                    15.30000                      0.00000   \n",
              "1                    15.30000                      0.00000   \n",
              "2                    10.20000                    155.55000   \n",
              "3                     0.00000                    255.00000   \n",
              "4                    43.35000                      7.65000   \n",
              "...                       ...                          ...   \n",
              "22539                15.30000                      2.55000   \n",
              "22540                 0.00000                      2.55000   \n",
              "22541                 0.00000                      0.00000   \n",
              "22542                 2.55000                      0.00000   \n",
              "22543                 7.65000                      0.00000   \n",
              "\n",
              "       dst_host_srv_diff_host_rate  dst_host_serror_rate  \\\n",
              "0                          0.00000               0.00000   \n",
              "1                          0.00000               0.00000   \n",
              "2                          5.10000               0.00000   \n",
              "3                         71.40000               0.00000   \n",
              "4                          5.10000               0.00000   \n",
              "...                            ...                   ...   \n",
              "22539                      2.55000               2.55000   \n",
              "22540                      2.55000               2.55000   \n",
              "22541                      0.00000               0.00000   \n",
              "22542                      0.00000               0.00000   \n",
              "22543                      0.00000               0.00000   \n",
              "\n",
              "       dst_host_srv_serror_rate  dst_host_rerror_rate  \\\n",
              "0                       0.00000             255.00000   \n",
              "1                       0.00000             255.00000   \n",
              "2                       0.00000               0.00000   \n",
              "3                       0.00000               0.00000   \n",
              "4                       0.00000             211.65000   \n",
              "...                         ...                   ...   \n",
              "22539                   0.00000               0.00000   \n",
              "22540                   0.00000               0.00000   \n",
              "22541                   0.00000              17.85000   \n",
              "22542                   0.00000               0.00000   \n",
              "22543                   0.00000             112.20000   \n",
              "\n",
              "       dst_host_srv_rerror_rate      icmp       tcp       udp     IRC     X11  \\\n",
              "0                     255.00000   0.00000 255.00000   0.00000 0.00000 0.00000   \n",
              "1                     255.00000   0.00000 255.00000   0.00000 0.00000 0.00000   \n",
              "2                       0.00000   0.00000 255.00000   0.00000 0.00000 0.00000   \n",
              "3                       0.00000 255.00000   0.00000   0.00000 0.00000 0.00000   \n",
              "4                     181.05000   0.00000 255.00000   0.00000 0.00000 0.00000   \n",
              "...                         ...       ...       ...       ...     ...     ...   \n",
              "22539                   0.00000   0.00000 255.00000   0.00000 0.00000 0.00000   \n",
              "22540                   0.00000   0.00000 255.00000   0.00000 0.00000 0.00000   \n",
              "22541                  17.85000   0.00000 255.00000   0.00000 0.00000 0.00000   \n",
              "22542                   0.00000   0.00000   0.00000 255.00000 0.00000 0.00000   \n",
              "22543                 255.00000   0.00000 255.00000   0.00000 0.00000 0.00000   \n",
              "\n",
              "       Z39_50    auth     bgp  courier  csnet_ns     ctf  daytime  discard  \\\n",
              "0     0.00000 0.00000 0.00000  0.00000   0.00000 0.00000  0.00000  0.00000   \n",
              "1     0.00000 0.00000 0.00000  0.00000   0.00000 0.00000  0.00000  0.00000   \n",
              "2     0.00000 0.00000 0.00000  0.00000   0.00000 0.00000  0.00000  0.00000   \n",
              "3     0.00000 0.00000 0.00000  0.00000   0.00000 0.00000  0.00000  0.00000   \n",
              "4     0.00000 0.00000 0.00000  0.00000   0.00000 0.00000  0.00000  0.00000   \n",
              "...       ...     ...     ...      ...       ...     ...      ...      ...   \n",
              "22539 0.00000 0.00000 0.00000  0.00000   0.00000 0.00000  0.00000  0.00000   \n",
              "22540 0.00000 0.00000 0.00000  0.00000   0.00000 0.00000  0.00000  0.00000   \n",
              "22541 0.00000 0.00000 0.00000  0.00000   0.00000 0.00000  0.00000  0.00000   \n",
              "22542 0.00000 0.00000 0.00000  0.00000   0.00000 0.00000  0.00000  0.00000   \n",
              "22543 0.00000 0.00000 0.00000  0.00000   0.00000 0.00000  0.00000  0.00000   \n",
              "\n",
              "       domain  domain_u    echo     eco_i   ecr_i     efs    exec  finger  \\\n",
              "0     0.00000   0.00000 0.00000   0.00000 0.00000 0.00000 0.00000 0.00000   \n",
              "1     0.00000   0.00000 0.00000   0.00000 0.00000 0.00000 0.00000 0.00000   \n",
              "2     0.00000   0.00000 0.00000   0.00000 0.00000 0.00000 0.00000 0.00000   \n",
              "3     0.00000   0.00000 0.00000 255.00000 0.00000 0.00000 0.00000 0.00000   \n",
              "4     0.00000   0.00000 0.00000   0.00000 0.00000 0.00000 0.00000 0.00000   \n",
              "...       ...       ...     ...       ...     ...     ...     ...     ...   \n",
              "22539 0.00000   0.00000 0.00000   0.00000 0.00000 0.00000 0.00000 0.00000   \n",
              "22540 0.00000   0.00000 0.00000   0.00000 0.00000 0.00000 0.00000 0.00000   \n",
              "22541 0.00000   0.00000 0.00000   0.00000 0.00000 0.00000 0.00000 0.00000   \n",
              "22542 0.00000 255.00000 0.00000   0.00000 0.00000 0.00000 0.00000 0.00000   \n",
              "22543 0.00000   0.00000 0.00000   0.00000 0.00000 0.00000 0.00000 0.00000   \n",
              "\n",
              "          ftp  ftp_data  gopher  hostnames      http  http_443   imap4  \\\n",
              "0     0.00000   0.00000 0.00000    0.00000   0.00000   0.00000 0.00000   \n",
              "1     0.00000   0.00000 0.00000    0.00000   0.00000   0.00000 0.00000   \n",
              "2     0.00000 255.00000 0.00000    0.00000   0.00000   0.00000 0.00000   \n",
              "3     0.00000   0.00000 0.00000    0.00000   0.00000   0.00000 0.00000   \n",
              "4     0.00000   0.00000 0.00000    0.00000   0.00000   0.00000 0.00000   \n",
              "...       ...       ...     ...        ...       ...       ...     ...   \n",
              "22539 0.00000   0.00000 0.00000    0.00000   0.00000   0.00000 0.00000   \n",
              "22540 0.00000   0.00000 0.00000    0.00000 255.00000   0.00000 0.00000   \n",
              "22541 0.00000   0.00000 0.00000    0.00000 255.00000   0.00000 0.00000   \n",
              "22542 0.00000   0.00000 0.00000    0.00000   0.00000   0.00000 0.00000   \n",
              "22543 0.00000   0.00000 0.00000    0.00000   0.00000   0.00000 0.00000   \n",
              "\n",
              "       iso_tsap  klogin  kshell    ldap    link   login     mtp    name  \\\n",
              "0       0.00000 0.00000 0.00000 0.00000 0.00000 0.00000 0.00000 0.00000   \n",
              "1       0.00000 0.00000 0.00000 0.00000 0.00000 0.00000 0.00000 0.00000   \n",
              "2       0.00000 0.00000 0.00000 0.00000 0.00000 0.00000 0.00000 0.00000   \n",
              "3       0.00000 0.00000 0.00000 0.00000 0.00000 0.00000 0.00000 0.00000   \n",
              "4       0.00000 0.00000 0.00000 0.00000 0.00000 0.00000 0.00000 0.00000   \n",
              "...         ...     ...     ...     ...     ...     ...     ...     ...   \n",
              "22539   0.00000 0.00000 0.00000 0.00000 0.00000 0.00000 0.00000 0.00000   \n",
              "22540   0.00000 0.00000 0.00000 0.00000 0.00000 0.00000 0.00000 0.00000   \n",
              "22541   0.00000 0.00000 0.00000 0.00000 0.00000 0.00000 0.00000 0.00000   \n",
              "22542   0.00000 0.00000 0.00000 0.00000 0.00000 0.00000 0.00000 0.00000   \n",
              "22543   0.00000 0.00000 0.00000 0.00000 0.00000 0.00000 0.00000 0.00000   \n",
              "\n",
              "       netbios_dgm  netbios_ns  netbios_ssn  netstat    nnsp    nntp   ntp_u  \\\n",
              "0          0.00000     0.00000      0.00000  0.00000 0.00000 0.00000 0.00000   \n",
              "1          0.00000     0.00000      0.00000  0.00000 0.00000 0.00000 0.00000   \n",
              "2          0.00000     0.00000      0.00000  0.00000 0.00000 0.00000 0.00000   \n",
              "3          0.00000     0.00000      0.00000  0.00000 0.00000 0.00000 0.00000   \n",
              "4          0.00000     0.00000      0.00000  0.00000 0.00000 0.00000 0.00000   \n",
              "...            ...         ...          ...      ...     ...     ...     ...   \n",
              "22539      0.00000     0.00000      0.00000  0.00000 0.00000 0.00000 0.00000   \n",
              "22540      0.00000     0.00000      0.00000  0.00000 0.00000 0.00000 0.00000   \n",
              "22541      0.00000     0.00000      0.00000  0.00000 0.00000 0.00000 0.00000   \n",
              "22542      0.00000     0.00000      0.00000  0.00000 0.00000 0.00000 0.00000   \n",
              "22543      0.00000     0.00000      0.00000  0.00000 0.00000 0.00000 0.00000   \n",
              "\n",
              "        other  pm_dump   pop_2   pop_3   private  remote_job   shell  \\\n",
              "0     0.00000  0.00000 0.00000 0.00000 255.00000     0.00000 0.00000   \n",
              "1     0.00000  0.00000 0.00000 0.00000 255.00000     0.00000 0.00000   \n",
              "2     0.00000  0.00000 0.00000 0.00000   0.00000     0.00000 0.00000   \n",
              "3     0.00000  0.00000 0.00000 0.00000   0.00000     0.00000 0.00000   \n",
              "4     0.00000  0.00000 0.00000 0.00000   0.00000     0.00000 0.00000   \n",
              "...       ...      ...     ...     ...       ...         ...     ...   \n",
              "22539 0.00000  0.00000 0.00000 0.00000   0.00000     0.00000 0.00000   \n",
              "22540 0.00000  0.00000 0.00000 0.00000   0.00000     0.00000 0.00000   \n",
              "22541 0.00000  0.00000 0.00000 0.00000   0.00000     0.00000 0.00000   \n",
              "22542 0.00000  0.00000 0.00000 0.00000   0.00000     0.00000 0.00000   \n",
              "22543 0.00000  0.00000 0.00000 0.00000   0.00000     0.00000 0.00000   \n",
              "\n",
              "           smtp  sql_net     ssh    sunrpc  supdup  systat    telnet  tftp_u  \\\n",
              "0       0.00000  0.00000 0.00000   0.00000 0.00000 0.00000   0.00000 0.00000   \n",
              "1       0.00000  0.00000 0.00000   0.00000 0.00000 0.00000   0.00000 0.00000   \n",
              "2       0.00000  0.00000 0.00000   0.00000 0.00000 0.00000   0.00000 0.00000   \n",
              "3       0.00000  0.00000 0.00000   0.00000 0.00000 0.00000   0.00000 0.00000   \n",
              "4       0.00000  0.00000 0.00000   0.00000 0.00000 0.00000 255.00000 0.00000   \n",
              "...         ...      ...     ...       ...     ...     ...       ...     ...   \n",
              "22539 255.00000  0.00000 0.00000   0.00000 0.00000 0.00000   0.00000 0.00000   \n",
              "22540   0.00000  0.00000 0.00000   0.00000 0.00000 0.00000   0.00000 0.00000   \n",
              "22541   0.00000  0.00000 0.00000   0.00000 0.00000 0.00000   0.00000 0.00000   \n",
              "22542   0.00000  0.00000 0.00000   0.00000 0.00000 0.00000   0.00000 0.00000   \n",
              "22543   0.00000  0.00000 0.00000 255.00000 0.00000 0.00000   0.00000 0.00000   \n",
              "\n",
              "        tim_i    time   urp_i    uucp  uucp_path   vmnet   whois     OTH  \\\n",
              "0     0.00000 0.00000 0.00000 0.00000    0.00000 0.00000 0.00000 0.00000   \n",
              "1     0.00000 0.00000 0.00000 0.00000    0.00000 0.00000 0.00000 0.00000   \n",
              "2     0.00000 0.00000 0.00000 0.00000    0.00000 0.00000 0.00000 0.00000   \n",
              "3     0.00000 0.00000 0.00000 0.00000    0.00000 0.00000 0.00000 0.00000   \n",
              "4     0.00000 0.00000 0.00000 0.00000    0.00000 0.00000 0.00000 0.00000   \n",
              "...       ...     ...     ...     ...        ...     ...     ...     ...   \n",
              "22539 0.00000 0.00000 0.00000 0.00000    0.00000 0.00000 0.00000 0.00000   \n",
              "22540 0.00000 0.00000 0.00000 0.00000    0.00000 0.00000 0.00000 0.00000   \n",
              "22541 0.00000 0.00000 0.00000 0.00000    0.00000 0.00000 0.00000 0.00000   \n",
              "22542 0.00000 0.00000 0.00000 0.00000    0.00000 0.00000 0.00000 0.00000   \n",
              "22543 0.00000 0.00000 0.00000 0.00000    0.00000 0.00000 0.00000 0.00000   \n",
              "\n",
              "            REJ      RSTO  RSTOS0    RSTR      S0      S1      S2      S3  \\\n",
              "0     255.00000   0.00000 0.00000 0.00000 0.00000 0.00000 0.00000 0.00000   \n",
              "1     255.00000   0.00000 0.00000 0.00000 0.00000 0.00000 0.00000 0.00000   \n",
              "2       0.00000   0.00000 0.00000 0.00000 0.00000 0.00000 0.00000 0.00000   \n",
              "3       0.00000   0.00000 0.00000 0.00000 0.00000 0.00000 0.00000 0.00000   \n",
              "4       0.00000 255.00000 0.00000 0.00000 0.00000 0.00000 0.00000 0.00000   \n",
              "...         ...       ...     ...     ...     ...     ...     ...     ...   \n",
              "22539   0.00000   0.00000 0.00000 0.00000 0.00000 0.00000 0.00000 0.00000   \n",
              "22540   0.00000   0.00000 0.00000 0.00000 0.00000 0.00000 0.00000 0.00000   \n",
              "22541   0.00000   0.00000 0.00000 0.00000 0.00000 0.00000 0.00000 0.00000   \n",
              "22542   0.00000   0.00000 0.00000 0.00000 0.00000 0.00000 0.00000 0.00000   \n",
              "22543 255.00000   0.00000 0.00000 0.00000 0.00000 0.00000 0.00000 0.00000   \n",
              "\n",
              "             SF      SH  \n",
              "0       0.00000 0.00000  \n",
              "1       0.00000 0.00000  \n",
              "2     255.00000 0.00000  \n",
              "3     255.00000 0.00000  \n",
              "4       0.00000 0.00000  \n",
              "...         ...     ...  \n",
              "22539 255.00000 0.00000  \n",
              "22540 255.00000 0.00000  \n",
              "22541 255.00000 0.00000  \n",
              "22542 255.00000 0.00000  \n",
              "22543   0.00000 0.00000  \n",
              "\n",
              "[22525 rows x 114 columns]"
            ],
            "text/html": "<div>\n<style scoped>\n    .dataframe tbody tr th:only-of-type {\n        vertical-align: middle;\n    }\n\n    .dataframe tbody tr th {\n        vertical-align: top;\n    }\n\n    .dataframe thead th {\n        text-align: right;\n    }\n</style>\n<table border=\"1\" class=\"dataframe\">\n  <thead>\n    <tr style=\"text-align: right;\">\n      <th></th>\n      <th>duration</th>\n      <th>src_bytes</th>\n      <th>dst_bytes</th>\n      <th>land</th>\n      <th>wrong_fragment</th>\n      <th>urgent</th>\n      <th>hot</th>\n      <th>num_failed_logins</th>\n      <th>logged_in</th>\n      <th>num_compromised</th>\n      <th>root_shell</th>\n      <th>su_attempted</th>\n      <th>num_root</th>\n      <th>num_file_creations</th>\n      <th>num_shells</th>\n      <th>num_access_files</th>\n      <th>num_outbound_cmds</th>\n      <th>is_host_login</th>\n      <th>is_guest_login</th>\n      <th>count</th>\n      <th>srv_count</th>\n      <th>serror_rate</th>\n      <th>srv_serror_rate</th>\n      <th>rerror_rate</th>\n      <th>srv_rerror_rate</th>\n      <th>same_srv_rate</th>\n      <th>diff_srv_rate</th>\n      <th>srv_diff_host_rate</th>\n      <th>dst_host_count</th>\n      <th>dst_host_srv_count</th>\n      <th>dst_host_same_srv_rate</th>\n      <th>dst_host_diff_srv_rate</th>\n      <th>dst_host_same_src_port_rate</th>\n      <th>dst_host_srv_diff_host_rate</th>\n      <th>dst_host_serror_rate</th>\n      <th>dst_host_srv_serror_rate</th>\n      <th>dst_host_rerror_rate</th>\n      <th>dst_host_srv_rerror_rate</th>\n      <th>icmp</th>\n      <th>tcp</th>\n      <th>udp</th>\n      <th>IRC</th>\n      <th>X11</th>\n      <th>Z39_50</th>\n      <th>auth</th>\n      <th>bgp</th>\n      <th>courier</th>\n      <th>csnet_ns</th>\n      <th>ctf</th>\n      <th>daytime</th>\n      <th>discard</th>\n      <th>domain</th>\n      <th>domain_u</th>\n      <th>echo</th>\n      <th>eco_i</th>\n      <th>ecr_i</th>\n      <th>efs</th>\n      <th>exec</th>\n      <th>finger</th>\n      <th>ftp</th>\n      <th>ftp_data</th>\n      <th>gopher</th>\n      <th>hostnames</th>\n      <th>http</th>\n      <th>http_443</th>\n      <th>imap4</th>\n      <th>iso_tsap</th>\n      <th>klogin</th>\n      <th>kshell</th>\n      <th>ldap</th>\n      <th>link</th>\n      <th>login</th>\n      <th>mtp</th>\n      <th>name</th>\n      <th>netbios_dgm</th>\n      <th>netbios_ns</th>\n      <th>netbios_ssn</th>\n      <th>netstat</th>\n      <th>nnsp</th>\n      <th>nntp</th>\n      <th>ntp_u</th>\n      <th>other</th>\n      <th>pm_dump</th>\n      <th>pop_2</th>\n      <th>pop_3</th>\n      <th>private</th>\n      <th>remote_job</th>\n      <th>shell</th>\n      <th>smtp</th>\n      <th>sql_net</th>\n      <th>ssh</th>\n      <th>sunrpc</th>\n      <th>supdup</th>\n      <th>systat</th>\n      <th>telnet</th>\n      <th>tftp_u</th>\n      <th>tim_i</th>\n      <th>time</th>\n      <th>urp_i</th>\n      <th>uucp</th>\n      <th>uucp_path</th>\n      <th>vmnet</th>\n      <th>whois</th>\n      <th>OTH</th>\n      <th>REJ</th>\n      <th>RSTO</th>\n      <th>RSTOS0</th>\n      <th>RSTR</th>\n      <th>S0</th>\n      <th>S1</th>\n      <th>S2</th>\n      <th>S3</th>\n      <th>SF</th>\n      <th>SH</th>\n    </tr>\n  </thead>\n  <tbody>\n    <tr>\n      <th>0</th>\n      <td>0.00000</td>\n      <td>0.00000</td>\n      <td>0.00000</td>\n      <td>0.00000</td>\n      <td>0.00000</td>\n      <td>0.00000</td>\n      <td>0.00000</td>\n      <td>0.00000</td>\n      <td>0.00000</td>\n      <td>0.00000</td>\n      <td>0.00000</td>\n      <td>0.00000</td>\n      <td>0.00000</td>\n      <td>0.00000</td>\n      <td>0.00000</td>\n      <td>0.00000</td>\n      <td>nan</td>\n      <td>0.00000</td>\n      <td>0.00000</td>\n      <td>114.27593</td>\n      <td>4.99022</td>\n      <td>0.00000</td>\n      <td>0.00000</td>\n      <td>255.00000</td>\n      <td>255.00000</td>\n      <td>10.20000</td>\n      <td>15.30000</td>\n      <td>0.00000</td>\n      <td>255.00000</td>\n      <td>10.00000</td>\n      <td>10.20000</td>\n      <td>15.30000</td>\n      <td>0.00000</td>\n      <td>0.00000</td>\n      <td>0.00000</td>\n      <td>0.00000</td>\n      <td>255.00000</td>\n      <td>255.00000</td>\n      <td>0.00000</td>\n      <td>255.00000</td>\n      <td>0.00000</td>\n      <td>0.00000</td>\n      <td>0.00000</td>\n      <td>0.00000</td>\n      <td>0.00000</td>\n      <td>0.00000</td>\n      <td>0.00000</td>\n      <td>0.00000</td>\n      <td>0.00000</td>\n      <td>0.00000</td>\n      <td>0.00000</td>\n      <td>0.00000</td>\n      <td>0.00000</td>\n      <td>0.00000</td>\n      <td>0.00000</td>\n      <td>0.00000</td>\n      <td>0.00000</td>\n      <td>0.00000</td>\n      <td>0.00000</td>\n      <td>0.00000</td>\n      <td>0.00000</td>\n      <td>0.00000</td>\n      <td>0.00000</td>\n      <td>0.00000</td>\n      <td>0.00000</td>\n      <td>0.00000</td>\n      <td>0.00000</td>\n      <td>0.00000</td>\n      <td>0.00000</td>\n      <td>0.00000</td>\n      <td>0.00000</td>\n      <td>0.00000</td>\n      <td>0.00000</td>\n      <td>0.00000</td>\n      <td>0.00000</td>\n      <td>0.00000</td>\n      <td>0.00000</td>\n      <td>0.00000</td>\n      <td>0.00000</td>\n      <td>0.00000</td>\n      <td>0.00000</td>\n      <td>0.00000</td>\n      <td>0.00000</td>\n      <td>0.00000</td>\n      <td>0.00000</td>\n      <td>255.00000</td>\n      <td>0.00000</td>\n      <td>0.00000</td>\n      <td>0.00000</td>\n      <td>0.00000</td>\n      <td>0.00000</td>\n      <td>0.00000</td>\n      <td>0.00000</td>\n      <td>0.00000</td>\n      <td>0.00000</td>\n      <td>0.00000</td>\n      <td>0.00000</td>\n      <td>0.00000</td>\n      <td>0.00000</td>\n      <td>0.00000</td>\n      <td>0.00000</td>\n      <td>0.00000</td>\n      <td>0.00000</td>\n      <td>0.00000</td>\n      <td>255.00000</td>\n      <td>0.00000</td>\n      <td>0.00000</td>\n      <td>0.00000</td>\n      <td>0.00000</td>\n      <td>0.00000</td>\n      <td>0.00000</td>\n      <td>0.00000</td>\n      <td>0.00000</td>\n      <td>0.00000</td>\n    </tr>\n    <tr>\n      <th>1</th>\n      <td>0.00000</td>\n      <td>0.00000</td>\n      <td>0.00000</td>\n      <td>0.00000</td>\n      <td>0.00000</td>\n      <td>0.00000</td>\n      <td>0.00000</td>\n      <td>0.00000</td>\n      <td>0.00000</td>\n      <td>0.00000</td>\n      <td>0.00000</td>\n      <td>0.00000</td>\n      <td>0.00000</td>\n      <td>0.00000</td>\n      <td>0.00000</td>\n      <td>0.00000</td>\n      <td>nan</td>\n      <td>0.00000</td>\n      <td>0.00000</td>\n      <td>67.86693</td>\n      <td>0.49902</td>\n      <td>0.00000</td>\n      <td>0.00000</td>\n      <td>255.00000</td>\n      <td>255.00000</td>\n      <td>2.55000</td>\n      <td>15.30000</td>\n      <td>0.00000</td>\n      <td>255.00000</td>\n      <td>1.00000</td>\n      <td>0.00000</td>\n      <td>15.30000</td>\n      <td>0.00000</td>\n      <td>0.00000</td>\n      <td>0.00000</td>\n      <td>0.00000</td>\n      <td>255.00000</td>\n      <td>255.00000</td>\n      <td>0.00000</td>\n      <td>255.00000</td>\n      <td>0.00000</td>\n      <td>0.00000</td>\n      <td>0.00000</td>\n      <td>0.00000</td>\n      <td>0.00000</td>\n      <td>0.00000</td>\n      <td>0.00000</td>\n      <td>0.00000</td>\n      <td>0.00000</td>\n      <td>0.00000</td>\n      <td>0.00000</td>\n      <td>0.00000</td>\n      <td>0.00000</td>\n      <td>0.00000</td>\n      <td>0.00000</td>\n      <td>0.00000</td>\n      <td>0.00000</td>\n      <td>0.00000</td>\n      <td>0.00000</td>\n      <td>0.00000</td>\n      <td>0.00000</td>\n      <td>0.00000</td>\n      <td>0.00000</td>\n      <td>0.00000</td>\n      <td>0.00000</td>\n      <td>0.00000</td>\n      <td>0.00000</td>\n      <td>0.00000</td>\n      <td>0.00000</td>\n      <td>0.00000</td>\n      <td>0.00000</td>\n      <td>0.00000</td>\n      <td>0.00000</td>\n      <td>0.00000</td>\n      <td>0.00000</td>\n      <td>0.00000</td>\n      <td>0.00000</td>\n      <td>0.00000</td>\n      <td>0.00000</td>\n      <td>0.00000</td>\n      <td>0.00000</td>\n      <td>0.00000</td>\n      <td>0.00000</td>\n      <td>0.00000</td>\n      <td>0.00000</td>\n      <td>255.00000</td>\n      <td>0.00000</td>\n      <td>0.00000</td>\n      <td>0.00000</td>\n      <td>0.00000</td>\n      <td>0.00000</td>\n      <td>0.00000</td>\n      <td>0.00000</td>\n      <td>0.00000</td>\n      <td>0.00000</td>\n      <td>0.00000</td>\n      <td>0.00000</td>\n      <td>0.00000</td>\n      <td>0.00000</td>\n      <td>0.00000</td>\n      <td>0.00000</td>\n      <td>0.00000</td>\n      <td>0.00000</td>\n      <td>0.00000</td>\n      <td>255.00000</td>\n      <td>0.00000</td>\n      <td>0.00000</td>\n      <td>0.00000</td>\n      <td>0.00000</td>\n      <td>0.00000</td>\n      <td>0.00000</td>\n      <td>0.00000</td>\n      <td>0.00000</td>\n      <td>0.00000</td>\n    </tr>\n    <tr>\n      <th>2</th>\n      <td>0.00884</td>\n      <td>0.05270</td>\n      <td>0.00000</td>\n      <td>0.00000</td>\n      <td>0.00000</td>\n      <td>0.00000</td>\n      <td>0.00000</td>\n      <td>0.00000</td>\n      <td>0.00000</td>\n      <td>0.00000</td>\n      <td>0.00000</td>\n      <td>0.00000</td>\n      <td>0.00000</td>\n      <td>0.00000</td>\n      <td>0.00000</td>\n      <td>0.00000</td>\n      <td>nan</td>\n      <td>0.00000</td>\n      <td>0.00000</td>\n      <td>0.49902</td>\n      <td>0.49902</td>\n      <td>0.00000</td>\n      <td>0.00000</td>\n      <td>0.00000</td>\n      <td>0.00000</td>\n      <td>255.00000</td>\n      <td>0.00000</td>\n      <td>0.00000</td>\n      <td>134.00000</td>\n      <td>86.00000</td>\n      <td>155.55000</td>\n      <td>10.20000</td>\n      <td>155.55000</td>\n      <td>5.10000</td>\n      <td>0.00000</td>\n      <td>0.00000</td>\n      <td>0.00000</td>\n      <td>0.00000</td>\n      <td>0.00000</td>\n      <td>255.00000</td>\n      <td>0.00000</td>\n      <td>0.00000</td>\n      <td>0.00000</td>\n      <td>0.00000</td>\n      <td>0.00000</td>\n      <td>0.00000</td>\n      <td>0.00000</td>\n      <td>0.00000</td>\n      <td>0.00000</td>\n      <td>0.00000</td>\n      <td>0.00000</td>\n      <td>0.00000</td>\n      <td>0.00000</td>\n      <td>0.00000</td>\n      <td>0.00000</td>\n      <td>0.00000</td>\n      <td>0.00000</td>\n      <td>0.00000</td>\n      <td>0.00000</td>\n      <td>0.00000</td>\n      <td>255.00000</td>\n      <td>0.00000</td>\n      <td>0.00000</td>\n      <td>0.00000</td>\n      <td>0.00000</td>\n      <td>0.00000</td>\n      <td>0.00000</td>\n      <td>0.00000</td>\n      <td>0.00000</td>\n      <td>0.00000</td>\n      <td>0.00000</td>\n      <td>0.00000</td>\n      <td>0.00000</td>\n      <td>0.00000</td>\n      <td>0.00000</td>\n      <td>0.00000</td>\n      <td>0.00000</td>\n      <td>0.00000</td>\n      <td>0.00000</td>\n      <td>0.00000</td>\n      <td>0.00000</td>\n      <td>0.00000</td>\n      <td>0.00000</td>\n      <td>0.00000</td>\n      <td>0.00000</td>\n      <td>0.00000</td>\n      <td>0.00000</td>\n      <td>0.00000</td>\n      <td>0.00000</td>\n      <td>0.00000</td>\n      <td>0.00000</td>\n      <td>0.00000</td>\n      <td>0.00000</td>\n      <td>0.00000</td>\n      <td>0.00000</td>\n      <td>0.00000</td>\n      <td>0.00000</td>\n      <td>0.00000</td>\n      <td>0.00000</td>\n      <td>0.00000</td>\n      <td>0.00000</td>\n      <td>0.00000</td>\n      <td>0.00000</td>\n      <td>0.00000</td>\n      <td>0.00000</td>\n      <td>0.00000</td>\n      <td>0.00000</td>\n      <td>0.00000</td>\n      <td>0.00000</td>\n      <td>0.00000</td>\n      <td>0.00000</td>\n      <td>0.00000</td>\n      <td>255.00000</td>\n      <td>0.00000</td>\n    </tr>\n    <tr>\n      <th>3</th>\n      <td>0.00000</td>\n      <td>0.00008</td>\n      <td>0.00000</td>\n      <td>0.00000</td>\n      <td>0.00000</td>\n      <td>0.00000</td>\n      <td>0.00000</td>\n      <td>0.00000</td>\n      <td>0.00000</td>\n      <td>0.00000</td>\n      <td>0.00000</td>\n      <td>0.00000</td>\n      <td>0.00000</td>\n      <td>0.00000</td>\n      <td>0.00000</td>\n      <td>0.00000</td>\n      <td>nan</td>\n      <td>0.00000</td>\n      <td>0.00000</td>\n      <td>0.49902</td>\n      <td>32.43640</td>\n      <td>0.00000</td>\n      <td>0.00000</td>\n      <td>0.00000</td>\n      <td>0.00000</td>\n      <td>255.00000</td>\n      <td>0.00000</td>\n      <td>255.00000</td>\n      <td>3.00000</td>\n      <td>57.00000</td>\n      <td>255.00000</td>\n      <td>0.00000</td>\n      <td>255.00000</td>\n      <td>71.40000</td>\n      <td>0.00000</td>\n      <td>0.00000</td>\n      <td>0.00000</td>\n      <td>0.00000</td>\n      <td>255.00000</td>\n      <td>0.00000</td>\n      <td>0.00000</td>\n      <td>0.00000</td>\n      <td>0.00000</td>\n      <td>0.00000</td>\n      <td>0.00000</td>\n      <td>0.00000</td>\n      <td>0.00000</td>\n      <td>0.00000</td>\n      <td>0.00000</td>\n      <td>0.00000</td>\n      <td>0.00000</td>\n      <td>0.00000</td>\n      <td>0.00000</td>\n      <td>0.00000</td>\n      <td>255.00000</td>\n      <td>0.00000</td>\n      <td>0.00000</td>\n      <td>0.00000</td>\n      <td>0.00000</td>\n      <td>0.00000</td>\n      <td>0.00000</td>\n      <td>0.00000</td>\n      <td>0.00000</td>\n      <td>0.00000</td>\n      <td>0.00000</td>\n      <td>0.00000</td>\n      <td>0.00000</td>\n      <td>0.00000</td>\n      <td>0.00000</td>\n      <td>0.00000</td>\n      <td>0.00000</td>\n      <td>0.00000</td>\n      <td>0.00000</td>\n      <td>0.00000</td>\n      <td>0.00000</td>\n      <td>0.00000</td>\n      <td>0.00000</td>\n      <td>0.00000</td>\n      <td>0.00000</td>\n      <td>0.00000</td>\n      <td>0.00000</td>\n      <td>0.00000</td>\n      <td>0.00000</td>\n      <td>0.00000</td>\n      <td>0.00000</td>\n      <td>0.00000</td>\n      <td>0.00000</td>\n      <td>0.00000</td>\n      <td>0.00000</td>\n      <td>0.00000</td>\n      <td>0.00000</td>\n      <td>0.00000</td>\n      <td>0.00000</td>\n      <td>0.00000</td>\n      <td>0.00000</td>\n      <td>0.00000</td>\n      <td>0.00000</td>\n      <td>0.00000</td>\n      <td>0.00000</td>\n      <td>0.00000</td>\n      <td>0.00000</td>\n      <td>0.00000</td>\n      <td>0.00000</td>\n      <td>0.00000</td>\n      <td>0.00000</td>\n      <td>0.00000</td>\n      <td>0.00000</td>\n      <td>0.00000</td>\n      <td>0.00000</td>\n      <td>0.00000</td>\n      <td>0.00000</td>\n      <td>0.00000</td>\n      <td>255.00000</td>\n      <td>0.00000</td>\n    </tr>\n    <tr>\n      <th>4</th>\n      <td>0.00442</td>\n      <td>0.00000</td>\n      <td>0.00284</td>\n      <td>0.00000</td>\n      <td>0.00000</td>\n      <td>0.00000</td>\n      <td>0.00000</td>\n      <td>0.00000</td>\n      <td>0.00000</td>\n      <td>0.00000</td>\n      <td>0.00000</td>\n      <td>0.00000</td>\n      <td>0.00000</td>\n      <td>0.00000</td>\n      <td>0.00000</td>\n      <td>0.00000</td>\n      <td>nan</td>\n      <td>0.00000</td>\n      <td>0.00000</td>\n      <td>0.49902</td>\n      <td>3.99217</td>\n      <td>0.00000</td>\n      <td>30.60000</td>\n      <td>255.00000</td>\n      <td>127.50000</td>\n      <td>255.00000</td>\n      <td>0.00000</td>\n      <td>191.25000</td>\n      <td>29.00000</td>\n      <td>86.00000</td>\n      <td>79.05000</td>\n      <td>43.35000</td>\n      <td>7.65000</td>\n      <td>5.10000</td>\n      <td>0.00000</td>\n      <td>0.00000</td>\n      <td>211.65000</td>\n      <td>181.05000</td>\n      <td>0.00000</td>\n      <td>255.00000</td>\n      <td>0.00000</td>\n      <td>0.00000</td>\n      <td>0.00000</td>\n      <td>0.00000</td>\n      <td>0.00000</td>\n      <td>0.00000</td>\n      <td>0.00000</td>\n      <td>0.00000</td>\n      <td>0.00000</td>\n      <td>0.00000</td>\n      <td>0.00000</td>\n      <td>0.00000</td>\n      <td>0.00000</td>\n      <td>0.00000</td>\n      <td>0.00000</td>\n      <td>0.00000</td>\n      <td>0.00000</td>\n      <td>0.00000</td>\n      <td>0.00000</td>\n      <td>0.00000</td>\n      <td>0.00000</td>\n      <td>0.00000</td>\n      <td>0.00000</td>\n      <td>0.00000</td>\n      <td>0.00000</td>\n      <td>0.00000</td>\n      <td>0.00000</td>\n      <td>0.00000</td>\n      <td>0.00000</td>\n      <td>0.00000</td>\n      <td>0.00000</td>\n      <td>0.00000</td>\n      <td>0.00000</td>\n      <td>0.00000</td>\n      <td>0.00000</td>\n      <td>0.00000</td>\n      <td>0.00000</td>\n      <td>0.00000</td>\n      <td>0.00000</td>\n      <td>0.00000</td>\n      <td>0.00000</td>\n      <td>0.00000</td>\n      <td>0.00000</td>\n      <td>0.00000</td>\n      <td>0.00000</td>\n      <td>0.00000</td>\n      <td>0.00000</td>\n      <td>0.00000</td>\n      <td>0.00000</td>\n      <td>0.00000</td>\n      <td>0.00000</td>\n      <td>0.00000</td>\n      <td>0.00000</td>\n      <td>0.00000</td>\n      <td>255.00000</td>\n      <td>0.00000</td>\n      <td>0.00000</td>\n      <td>0.00000</td>\n      <td>0.00000</td>\n      <td>0.00000</td>\n      <td>0.00000</td>\n      <td>0.00000</td>\n      <td>0.00000</td>\n      <td>0.00000</td>\n      <td>0.00000</td>\n      <td>255.00000</td>\n      <td>0.00000</td>\n      <td>0.00000</td>\n      <td>0.00000</td>\n      <td>0.00000</td>\n      <td>0.00000</td>\n      <td>0.00000</td>\n      <td>0.00000</td>\n      <td>0.00000</td>\n    </tr>\n    <tr>\n      <th>...</th>\n      <td>...</td>\n      <td>...</td>\n      <td>...</td>\n      <td>...</td>\n      <td>...</td>\n      <td>...</td>\n      <td>...</td>\n      <td>...</td>\n      <td>...</td>\n      <td>...</td>\n      <td>...</td>\n      <td>...</td>\n      <td>...</td>\n      <td>...</td>\n      <td>...</td>\n      <td>...</td>\n      <td>...</td>\n      <td>...</td>\n      <td>...</td>\n      <td>...</td>\n      <td>...</td>\n      <td>...</td>\n      <td>...</td>\n      <td>...</td>\n      <td>...</td>\n      <td>...</td>\n      <td>...</td>\n      <td>...</td>\n      <td>...</td>\n      <td>...</td>\n      <td>...</td>\n      <td>...</td>\n      <td>...</td>\n      <td>...</td>\n      <td>...</td>\n      <td>...</td>\n      <td>...</td>\n      <td>...</td>\n      <td>...</td>\n      <td>...</td>\n      <td>...</td>\n      <td>...</td>\n      <td>...</td>\n      <td>...</td>\n      <td>...</td>\n      <td>...</td>\n      <td>...</td>\n      <td>...</td>\n      <td>...</td>\n      <td>...</td>\n      <td>...</td>\n      <td>...</td>\n      <td>...</td>\n      <td>...</td>\n      <td>...</td>\n      <td>...</td>\n      <td>...</td>\n      <td>...</td>\n      <td>...</td>\n      <td>...</td>\n      <td>...</td>\n      <td>...</td>\n      <td>...</td>\n      <td>...</td>\n      <td>...</td>\n      <td>...</td>\n      <td>...</td>\n      <td>...</td>\n      <td>...</td>\n      <td>...</td>\n      <td>...</td>\n      <td>...</td>\n      <td>...</td>\n      <td>...</td>\n      <td>...</td>\n      <td>...</td>\n      <td>...</td>\n      <td>...</td>\n      <td>...</td>\n      <td>...</td>\n      <td>...</td>\n      <td>...</td>\n      <td>...</td>\n      <td>...</td>\n      <td>...</td>\n      <td>...</td>\n      <td>...</td>\n      <td>...</td>\n      <td>...</td>\n      <td>...</td>\n      <td>...</td>\n      <td>...</td>\n      <td>...</td>\n      <td>...</td>\n      <td>...</td>\n      <td>...</td>\n      <td>...</td>\n      <td>...</td>\n      <td>...</td>\n      <td>...</td>\n      <td>...</td>\n      <td>...</td>\n      <td>...</td>\n      <td>...</td>\n      <td>...</td>\n      <td>...</td>\n      <td>...</td>\n      <td>...</td>\n      <td>...</td>\n      <td>...</td>\n      <td>...</td>\n      <td>...</td>\n      <td>...</td>\n      <td>...</td>\n    </tr>\n    <tr>\n      <th>22539</th>\n      <td>0.00000</td>\n      <td>0.00322</td>\n      <td>0.06309</td>\n      <td>0.00000</td>\n      <td>0.00000</td>\n      <td>0.00000</td>\n      <td>0.00000</td>\n      <td>0.00000</td>\n      <td>255.00000</td>\n      <td>0.00000</td>\n      <td>0.00000</td>\n      <td>0.00000</td>\n      <td>0.00000</td>\n      <td>0.00000</td>\n      <td>0.00000</td>\n      <td>0.00000</td>\n      <td>nan</td>\n      <td>0.00000</td>\n      <td>0.00000</td>\n      <td>0.49902</td>\n      <td>0.49902</td>\n      <td>0.00000</td>\n      <td>0.00000</td>\n      <td>0.00000</td>\n      <td>0.00000</td>\n      <td>255.00000</td>\n      <td>0.00000</td>\n      <td>0.00000</td>\n      <td>100.00000</td>\n      <td>141.00000</td>\n      <td>183.60000</td>\n      <td>15.30000</td>\n      <td>2.55000</td>\n      <td>2.55000</td>\n      <td>2.55000</td>\n      <td>0.00000</td>\n      <td>0.00000</td>\n      <td>0.00000</td>\n      <td>0.00000</td>\n      <td>255.00000</td>\n      <td>0.00000</td>\n      <td>0.00000</td>\n      <td>0.00000</td>\n      <td>0.00000</td>\n      <td>0.00000</td>\n      <td>0.00000</td>\n      <td>0.00000</td>\n      <td>0.00000</td>\n      <td>0.00000</td>\n      <td>0.00000</td>\n      <td>0.00000</td>\n      <td>0.00000</td>\n      <td>0.00000</td>\n      <td>0.00000</td>\n      <td>0.00000</td>\n      <td>0.00000</td>\n      <td>0.00000</td>\n      <td>0.00000</td>\n      <td>0.00000</td>\n      <td>0.00000</td>\n      <td>0.00000</td>\n      <td>0.00000</td>\n      <td>0.00000</td>\n      <td>0.00000</td>\n      <td>0.00000</td>\n      <td>0.00000</td>\n      <td>0.00000</td>\n      <td>0.00000</td>\n      <td>0.00000</td>\n      <td>0.00000</td>\n      <td>0.00000</td>\n      <td>0.00000</td>\n      <td>0.00000</td>\n      <td>0.00000</td>\n      <td>0.00000</td>\n      <td>0.00000</td>\n      <td>0.00000</td>\n      <td>0.00000</td>\n      <td>0.00000</td>\n      <td>0.00000</td>\n      <td>0.00000</td>\n      <td>0.00000</td>\n      <td>0.00000</td>\n      <td>0.00000</td>\n      <td>0.00000</td>\n      <td>0.00000</td>\n      <td>0.00000</td>\n      <td>0.00000</td>\n      <td>255.00000</td>\n      <td>0.00000</td>\n      <td>0.00000</td>\n      <td>0.00000</td>\n      <td>0.00000</td>\n      <td>0.00000</td>\n      <td>0.00000</td>\n      <td>0.00000</td>\n      <td>0.00000</td>\n      <td>0.00000</td>\n      <td>0.00000</td>\n      <td>0.00000</td>\n      <td>0.00000</td>\n      <td>0.00000</td>\n      <td>0.00000</td>\n      <td>0.00000</td>\n      <td>0.00000</td>\n      <td>0.00000</td>\n      <td>0.00000</td>\n      <td>0.00000</td>\n      <td>0.00000</td>\n      <td>0.00000</td>\n      <td>0.00000</td>\n      <td>0.00000</td>\n      <td>255.00000</td>\n      <td>0.00000</td>\n    </tr>\n    <tr>\n      <th>22540</th>\n      <td>0.00000</td>\n      <td>0.00129</td>\n      <td>0.17771</td>\n      <td>0.00000</td>\n      <td>0.00000</td>\n      <td>0.00000</td>\n      <td>0.00000</td>\n      <td>0.00000</td>\n      <td>255.00000</td>\n      <td>0.00000</td>\n      <td>0.00000</td>\n      <td>0.00000</td>\n      <td>0.00000</td>\n      <td>0.00000</td>\n      <td>0.00000</td>\n      <td>0.00000</td>\n      <td>nan</td>\n      <td>0.00000</td>\n      <td>0.00000</td>\n      <td>0.99804</td>\n      <td>5.48924</td>\n      <td>0.00000</td>\n      <td>0.00000</td>\n      <td>0.00000</td>\n      <td>0.00000</td>\n      <td>255.00000</td>\n      <td>0.00000</td>\n      <td>45.90000</td>\n      <td>197.00000</td>\n      <td>255.00000</td>\n      <td>255.00000</td>\n      <td>0.00000</td>\n      <td>2.55000</td>\n      <td>2.55000</td>\n      <td>2.55000</td>\n      <td>0.00000</td>\n      <td>0.00000</td>\n      <td>0.00000</td>\n      <td>0.00000</td>\n      <td>255.00000</td>\n      <td>0.00000</td>\n      <td>0.00000</td>\n      <td>0.00000</td>\n      <td>0.00000</td>\n      <td>0.00000</td>\n      <td>0.00000</td>\n      <td>0.00000</td>\n      <td>0.00000</td>\n      <td>0.00000</td>\n      <td>0.00000</td>\n      <td>0.00000</td>\n      <td>0.00000</td>\n      <td>0.00000</td>\n      <td>0.00000</td>\n      <td>0.00000</td>\n      <td>0.00000</td>\n      <td>0.00000</td>\n      <td>0.00000</td>\n      <td>0.00000</td>\n      <td>0.00000</td>\n      <td>0.00000</td>\n      <td>0.00000</td>\n      <td>0.00000</td>\n      <td>255.00000</td>\n      <td>0.00000</td>\n      <td>0.00000</td>\n      <td>0.00000</td>\n      <td>0.00000</td>\n      <td>0.00000</td>\n      <td>0.00000</td>\n      <td>0.00000</td>\n      <td>0.00000</td>\n      <td>0.00000</td>\n      <td>0.00000</td>\n      <td>0.00000</td>\n      <td>0.00000</td>\n      <td>0.00000</td>\n      <td>0.00000</td>\n      <td>0.00000</td>\n      <td>0.00000</td>\n      <td>0.00000</td>\n      <td>0.00000</td>\n      <td>0.00000</td>\n      <td>0.00000</td>\n      <td>0.00000</td>\n      <td>0.00000</td>\n      <td>0.00000</td>\n      <td>0.00000</td>\n      <td>0.00000</td>\n      <td>0.00000</td>\n      <td>0.00000</td>\n      <td>0.00000</td>\n      <td>0.00000</td>\n      <td>0.00000</td>\n      <td>0.00000</td>\n      <td>0.00000</td>\n      <td>0.00000</td>\n      <td>0.00000</td>\n      <td>0.00000</td>\n      <td>0.00000</td>\n      <td>0.00000</td>\n      <td>0.00000</td>\n      <td>0.00000</td>\n      <td>0.00000</td>\n      <td>0.00000</td>\n      <td>0.00000</td>\n      <td>0.00000</td>\n      <td>0.00000</td>\n      <td>0.00000</td>\n      <td>0.00000</td>\n      <td>0.00000</td>\n      <td>0.00000</td>\n      <td>255.00000</td>\n      <td>0.00000</td>\n    </tr>\n    <tr>\n      <th>22541</th>\n      <td>0.00000</td>\n      <td>0.22137</td>\n      <td>1.57517</td>\n      <td>0.00000</td>\n      <td>0.00000</td>\n      <td>0.00000</td>\n      <td>5.04950</td>\n      <td>0.00000</td>\n      <td>255.00000</td>\n      <td>0.32035</td>\n      <td>0.00000</td>\n      <td>0.00000</td>\n      <td>0.00000</td>\n      <td>0.00000</td>\n      <td>0.00000</td>\n      <td>0.00000</td>\n      <td>nan</td>\n      <td>0.00000</td>\n      <td>0.00000</td>\n      <td>2.49511</td>\n      <td>4.99022</td>\n      <td>0.00000</td>\n      <td>0.00000</td>\n      <td>0.00000</td>\n      <td>0.00000</td>\n      <td>255.00000</td>\n      <td>0.00000</td>\n      <td>51.00000</td>\n      <td>255.00000</td>\n      <td>255.00000</td>\n      <td>255.00000</td>\n      <td>0.00000</td>\n      <td>0.00000</td>\n      <td>0.00000</td>\n      <td>0.00000</td>\n      <td>0.00000</td>\n      <td>17.85000</td>\n      <td>17.85000</td>\n      <td>0.00000</td>\n      <td>255.00000</td>\n      <td>0.00000</td>\n      <td>0.00000</td>\n      <td>0.00000</td>\n      <td>0.00000</td>\n      <td>0.00000</td>\n      <td>0.00000</td>\n      <td>0.00000</td>\n      <td>0.00000</td>\n      <td>0.00000</td>\n      <td>0.00000</td>\n      <td>0.00000</td>\n      <td>0.00000</td>\n      <td>0.00000</td>\n      <td>0.00000</td>\n      <td>0.00000</td>\n      <td>0.00000</td>\n      <td>0.00000</td>\n      <td>0.00000</td>\n      <td>0.00000</td>\n      <td>0.00000</td>\n      <td>0.00000</td>\n      <td>0.00000</td>\n      <td>0.00000</td>\n      <td>255.00000</td>\n      <td>0.00000</td>\n      <td>0.00000</td>\n      <td>0.00000</td>\n      <td>0.00000</td>\n      <td>0.00000</td>\n      <td>0.00000</td>\n      <td>0.00000</td>\n      <td>0.00000</td>\n      <td>0.00000</td>\n      <td>0.00000</td>\n      <td>0.00000</td>\n      <td>0.00000</td>\n      <td>0.00000</td>\n      <td>0.00000</td>\n      <td>0.00000</td>\n      <td>0.00000</td>\n      <td>0.00000</td>\n      <td>0.00000</td>\n      <td>0.00000</td>\n      <td>0.00000</td>\n      <td>0.00000</td>\n      <td>0.00000</td>\n      <td>0.00000</td>\n      <td>0.00000</td>\n      <td>0.00000</td>\n      <td>0.00000</td>\n      <td>0.00000</td>\n      <td>0.00000</td>\n      <td>0.00000</td>\n      <td>0.00000</td>\n      <td>0.00000</td>\n      <td>0.00000</td>\n      <td>0.00000</td>\n      <td>0.00000</td>\n      <td>0.00000</td>\n      <td>0.00000</td>\n      <td>0.00000</td>\n      <td>0.00000</td>\n      <td>0.00000</td>\n      <td>0.00000</td>\n      <td>0.00000</td>\n      <td>0.00000</td>\n      <td>0.00000</td>\n      <td>0.00000</td>\n      <td>0.00000</td>\n      <td>0.00000</td>\n      <td>0.00000</td>\n      <td>0.00000</td>\n      <td>255.00000</td>\n      <td>0.00000</td>\n    </tr>\n    <tr>\n      <th>22542</th>\n      <td>0.00000</td>\n      <td>0.00017</td>\n      <td>0.00796</td>\n      <td>0.00000</td>\n      <td>0.00000</td>\n      <td>0.00000</td>\n      <td>0.00000</td>\n      <td>0.00000</td>\n      <td>0.00000</td>\n      <td>0.00000</td>\n      <td>0.00000</td>\n      <td>0.00000</td>\n      <td>0.00000</td>\n      <td>0.00000</td>\n      <td>0.00000</td>\n      <td>0.00000</td>\n      <td>nan</td>\n      <td>0.00000</td>\n      <td>0.00000</td>\n      <td>1.99609</td>\n      <td>2.99413</td>\n      <td>0.00000</td>\n      <td>0.00000</td>\n      <td>0.00000</td>\n      <td>0.00000</td>\n      <td>255.00000</td>\n      <td>0.00000</td>\n      <td>84.15000</td>\n      <td>255.00000</td>\n      <td>252.00000</td>\n      <td>252.45000</td>\n      <td>2.55000</td>\n      <td>0.00000</td>\n      <td>0.00000</td>\n      <td>0.00000</td>\n      <td>0.00000</td>\n      <td>0.00000</td>\n      <td>0.00000</td>\n      <td>0.00000</td>\n      <td>0.00000</td>\n      <td>255.00000</td>\n      <td>0.00000</td>\n      <td>0.00000</td>\n      <td>0.00000</td>\n      <td>0.00000</td>\n      <td>0.00000</td>\n      <td>0.00000</td>\n      <td>0.00000</td>\n      <td>0.00000</td>\n      <td>0.00000</td>\n      <td>0.00000</td>\n      <td>0.00000</td>\n      <td>255.00000</td>\n      <td>0.00000</td>\n      <td>0.00000</td>\n      <td>0.00000</td>\n      <td>0.00000</td>\n      <td>0.00000</td>\n      <td>0.00000</td>\n      <td>0.00000</td>\n      <td>0.00000</td>\n      <td>0.00000</td>\n      <td>0.00000</td>\n      <td>0.00000</td>\n      <td>0.00000</td>\n      <td>0.00000</td>\n      <td>0.00000</td>\n      <td>0.00000</td>\n      <td>0.00000</td>\n      <td>0.00000</td>\n      <td>0.00000</td>\n      <td>0.00000</td>\n      <td>0.00000</td>\n      <td>0.00000</td>\n      <td>0.00000</td>\n      <td>0.00000</td>\n      <td>0.00000</td>\n      <td>0.00000</td>\n      <td>0.00000</td>\n      <td>0.00000</td>\n      <td>0.00000</td>\n      <td>0.00000</td>\n      <td>0.00000</td>\n      <td>0.00000</td>\n      <td>0.00000</td>\n      <td>0.00000</td>\n      <td>0.00000</td>\n      <td>0.00000</td>\n      <td>0.00000</td>\n      <td>0.00000</td>\n      <td>0.00000</td>\n      <td>0.00000</td>\n      <td>0.00000</td>\n      <td>0.00000</td>\n      <td>0.00000</td>\n      <td>0.00000</td>\n      <td>0.00000</td>\n      <td>0.00000</td>\n      <td>0.00000</td>\n      <td>0.00000</td>\n      <td>0.00000</td>\n      <td>0.00000</td>\n      <td>0.00000</td>\n      <td>0.00000</td>\n      <td>0.00000</td>\n      <td>0.00000</td>\n      <td>0.00000</td>\n      <td>0.00000</td>\n      <td>0.00000</td>\n      <td>0.00000</td>\n      <td>0.00000</td>\n      <td>0.00000</td>\n      <td>255.00000</td>\n      <td>0.00000</td>\n    </tr>\n    <tr>\n      <th>22543</th>\n      <td>0.00000</td>\n      <td>0.00000</td>\n      <td>0.00000</td>\n      <td>0.00000</td>\n      <td>0.00000</td>\n      <td>0.00000</td>\n      <td>0.00000</td>\n      <td>0.00000</td>\n      <td>0.00000</td>\n      <td>0.00000</td>\n      <td>0.00000</td>\n      <td>0.00000</td>\n      <td>0.00000</td>\n      <td>0.00000</td>\n      <td>0.00000</td>\n      <td>0.00000</td>\n      <td>nan</td>\n      <td>0.00000</td>\n      <td>0.00000</td>\n      <td>1.99609</td>\n      <td>4.99022</td>\n      <td>0.00000</td>\n      <td>0.00000</td>\n      <td>255.00000</td>\n      <td>255.00000</td>\n      <td>63.75000</td>\n      <td>255.00000</td>\n      <td>255.00000</td>\n      <td>255.00000</td>\n      <td>21.00000</td>\n      <td>20.40000</td>\n      <td>7.65000</td>\n      <td>0.00000</td>\n      <td>0.00000</td>\n      <td>0.00000</td>\n      <td>0.00000</td>\n      <td>112.20000</td>\n      <td>255.00000</td>\n      <td>0.00000</td>\n      <td>255.00000</td>\n      <td>0.00000</td>\n      <td>0.00000</td>\n      <td>0.00000</td>\n      <td>0.00000</td>\n      <td>0.00000</td>\n      <td>0.00000</td>\n      <td>0.00000</td>\n      <td>0.00000</td>\n      <td>0.00000</td>\n      <td>0.00000</td>\n      <td>0.00000</td>\n      <td>0.00000</td>\n      <td>0.00000</td>\n      <td>0.00000</td>\n      <td>0.00000</td>\n      <td>0.00000</td>\n      <td>0.00000</td>\n      <td>0.00000</td>\n      <td>0.00000</td>\n      <td>0.00000</td>\n      <td>0.00000</td>\n      <td>0.00000</td>\n      <td>0.00000</td>\n      <td>0.00000</td>\n      <td>0.00000</td>\n      <td>0.00000</td>\n      <td>0.00000</td>\n      <td>0.00000</td>\n      <td>0.00000</td>\n      <td>0.00000</td>\n      <td>0.00000</td>\n      <td>0.00000</td>\n      <td>0.00000</td>\n      <td>0.00000</td>\n      <td>0.00000</td>\n      <td>0.00000</td>\n      <td>0.00000</td>\n      <td>0.00000</td>\n      <td>0.00000</td>\n      <td>0.00000</td>\n      <td>0.00000</td>\n      <td>0.00000</td>\n      <td>0.00000</td>\n      <td>0.00000</td>\n      <td>0.00000</td>\n      <td>0.00000</td>\n      <td>0.00000</td>\n      <td>0.00000</td>\n      <td>0.00000</td>\n      <td>0.00000</td>\n      <td>0.00000</td>\n      <td>255.00000</td>\n      <td>0.00000</td>\n      <td>0.00000</td>\n      <td>0.00000</td>\n      <td>0.00000</td>\n      <td>0.00000</td>\n      <td>0.00000</td>\n      <td>0.00000</td>\n      <td>0.00000</td>\n      <td>0.00000</td>\n      <td>0.00000</td>\n      <td>0.00000</td>\n      <td>0.00000</td>\n      <td>255.00000</td>\n      <td>0.00000</td>\n      <td>0.00000</td>\n      <td>0.00000</td>\n      <td>0.00000</td>\n      <td>0.00000</td>\n      <td>0.00000</td>\n      <td>0.00000</td>\n      <td>0.00000</td>\n      <td>0.00000</td>\n    </tr>\n  </tbody>\n</table>\n<p>22525 rows × 114 columns</p>\n</div>"
          },
          "metadata": {},
          "execution_count": 16
        }
      ]
    },
    {
      "cell_type": "code",
      "metadata": {
        "colab": {
          "base_uri": "https://localhost:8080/",
          "height": 422
        },
        "id": "faCyOzL6RuTj",
        "outputId": "c7c49c93-e459-46d2-a608-cb3143d64a9e"
      },
      "source": [
        "edited_xtrain['attack_type'] = xtrain['attack_type'].values\n",
        "\n",
        "edited_xtrain"
      ],
      "execution_count": 17,
      "outputs": [
        {
          "output_type": "execute_result",
          "data": {
            "text/plain": [
              "        duration  src_bytes  dst_bytes    land  wrong_fragment  urgent  \\\n",
              "0        0.00000    0.00009    0.00000 0.00000         0.00000 0.00000   \n",
              "1        0.00000    0.00003    0.00000 0.00000         0.00000 0.00000   \n",
              "2        0.00000    0.00000    0.00000 0.00000         0.00000 0.00000   \n",
              "3        0.00000    0.00004    0.00159 0.00000         0.00000 0.00000   \n",
              "4        0.00000    0.00004    0.00008 0.00000         0.00000 0.00000   \n",
              "...          ...        ...        ...     ...             ...     ...   \n",
              "125968   0.00000    0.00000    0.00000 0.00000         0.00000 0.00000   \n",
              "125969   0.04754    0.00002    0.00003 0.00000         0.00000 0.00000   \n",
              "125970   0.00000    0.00041    0.00007 0.00000         0.00000 0.00000   \n",
              "125971   0.00000    0.00000    0.00000 0.00000         0.00000 0.00000   \n",
              "125972   0.00000    0.00003    0.00000 0.00000         0.00000 0.00000   \n",
              "\n",
              "           hot  num_failed_logins  logged_in  num_compromised  root_shell  \\\n",
              "0      0.00000            0.00000    0.00000          0.00000     0.00000   \n",
              "1      0.00000            0.00000    0.00000          0.00000     0.00000   \n",
              "2      0.00000            0.00000    0.00000          0.00000     0.00000   \n",
              "3      0.00000            0.00000  255.00000          0.00000     0.00000   \n",
              "4      0.00000            0.00000  255.00000          0.00000     0.00000   \n",
              "...        ...                ...        ...              ...         ...   \n",
              "125968 0.00000            0.00000    0.00000          0.00000     0.00000   \n",
              "125969 0.00000            0.00000    0.00000          0.00000     0.00000   \n",
              "125970 0.00000            0.00000  255.00000          0.00000     0.00000   \n",
              "125971 0.00000            0.00000    0.00000          0.00000     0.00000   \n",
              "125972 0.00000            0.00000  255.00000          0.00000     0.00000   \n",
              "\n",
              "        su_attempted  num_root  num_file_creations  num_shells  \\\n",
              "0            0.00000   0.00000             0.00000     0.00000   \n",
              "1            0.00000   0.00000             0.00000     0.00000   \n",
              "2            0.00000   0.00000             0.00000     0.00000   \n",
              "3            0.00000   0.00000             0.00000     0.00000   \n",
              "4            0.00000   0.00000             0.00000     0.00000   \n",
              "...              ...       ...                 ...         ...   \n",
              "125968       0.00000   0.00000             0.00000     0.00000   \n",
              "125969       0.00000   0.00000             0.00000     0.00000   \n",
              "125970       0.00000   0.00000             0.00000     0.00000   \n",
              "125971       0.00000   0.00000             0.00000     0.00000   \n",
              "125972       0.00000   0.00000             0.00000     0.00000   \n",
              "\n",
              "        num_access_files  num_outbound_cmds  is_host_login  is_guest_login  \\\n",
              "0                0.00000                nan        0.00000         0.00000   \n",
              "1                0.00000                nan        0.00000         0.00000   \n",
              "2                0.00000                nan        0.00000         0.00000   \n",
              "3                0.00000                nan        0.00000         0.00000   \n",
              "4                0.00000                nan        0.00000         0.00000   \n",
              "...                  ...                ...            ...             ...   \n",
              "125968           0.00000                nan        0.00000         0.00000   \n",
              "125969           0.00000                nan        0.00000         0.00000   \n",
              "125970           0.00000                nan        0.00000         0.00000   \n",
              "125971           0.00000                nan        0.00000         0.00000   \n",
              "125972           0.00000                nan        0.00000         0.00000   \n",
              "\n",
              "          count  srv_count  serror_rate  srv_serror_rate  rerror_rate  \\\n",
              "0       0.99804    0.99804      0.00000          0.00000      0.00000   \n",
              "1       6.48728    0.49902      0.00000          0.00000      0.00000   \n",
              "2      61.37965    2.99413    255.00000        255.00000      0.00000   \n",
              "3       2.49511    2.49511     51.00000         51.00000      0.00000   \n",
              "4      14.97065   15.96869      0.00000          0.00000      0.00000   \n",
              "...         ...        ...          ...              ...          ...   \n",
              "125968 91.81996   12.47554    255.00000        255.00000      0.00000   \n",
              "125969  0.99804    0.99804      0.00000          0.00000      0.00000   \n",
              "125970  0.49902    0.49902      0.00000          0.00000      0.00000   \n",
              "125971 71.85910    3.99217    255.00000        255.00000      0.00000   \n",
              "125972  0.49902    0.49902      0.00000          0.00000      0.00000   \n",
              "\n",
              "        srv_rerror_rate  same_srv_rate  diff_srv_rate  srv_diff_host_rate  \\\n",
              "0               0.00000      255.00000        0.00000             0.00000   \n",
              "1               0.00000       20.40000       38.25000             0.00000   \n",
              "2               0.00000       12.75000       17.85000             0.00000   \n",
              "3               0.00000      255.00000        0.00000             0.00000   \n",
              "4               0.00000      255.00000        0.00000            22.95000   \n",
              "...                 ...            ...            ...                 ...   \n",
              "125968          0.00000       35.70000       15.30000             0.00000   \n",
              "125969          0.00000      255.00000        0.00000             0.00000   \n",
              "125970          0.00000      255.00000        0.00000             0.00000   \n",
              "125971          0.00000       15.30000       12.75000             0.00000   \n",
              "125972          0.00000      255.00000        0.00000             0.00000   \n",
              "\n",
              "        dst_host_count  dst_host_srv_count  dst_host_same_srv_rate  \\\n",
              "0            150.00000            25.00000                43.35000   \n",
              "1            255.00000             1.00000                 0.00000   \n",
              "2            255.00000            26.00000                25.50000   \n",
              "3             30.00000           255.00000               255.00000   \n",
              "4            255.00000           255.00000               255.00000   \n",
              "...                ...                 ...                     ...   \n",
              "125968       255.00000            25.00000                25.50000   \n",
              "125969       255.00000           244.00000               244.80000   \n",
              "125970       255.00000            30.00000                30.60000   \n",
              "125971       255.00000             8.00000                 7.65000   \n",
              "125972       255.00000            77.00000                76.50000   \n",
              "\n",
              "        dst_host_diff_srv_rate  dst_host_same_src_port_rate  \\\n",
              "0                      7.65000                     43.35000   \n",
              "1                    153.00000                    224.40000   \n",
              "2                     12.75000                      0.00000   \n",
              "3                      0.00000                      7.65000   \n",
              "4                      0.00000                      0.00000   \n",
              "...                        ...                          ...   \n",
              "125968                15.30000                      0.00000   \n",
              "125969                 2.55000                      2.55000   \n",
              "125970                15.30000                      0.00000   \n",
              "125971                12.75000                      0.00000   \n",
              "125972                 7.65000                     76.50000   \n",
              "\n",
              "        dst_host_srv_diff_host_rate  dst_host_serror_rate  \\\n",
              "0                           0.00000               0.00000   \n",
              "1                           0.00000               0.00000   \n",
              "2                           0.00000             255.00000   \n",
              "3                          10.20000               7.65000   \n",
              "4                           0.00000               0.00000   \n",
              "...                             ...                   ...   \n",
              "125968                      0.00000             255.00000   \n",
              "125969                      0.00000               0.00000   \n",
              "125970                      0.00000             183.60000   \n",
              "125971                      0.00000             255.00000   \n",
              "125972                      0.00000               0.00000   \n",
              "\n",
              "        dst_host_srv_serror_rate  dst_host_rerror_rate  \\\n",
              "0                        0.00000              12.75000   \n",
              "1                        0.00000               0.00000   \n",
              "2                      255.00000               0.00000   \n",
              "3                        2.55000               0.00000   \n",
              "4                        0.00000               0.00000   \n",
              "...                          ...                   ...   \n",
              "125968                 255.00000               0.00000   \n",
              "125969                   0.00000               0.00000   \n",
              "125970                   0.00000               2.55000   \n",
              "125971                 255.00000               0.00000   \n",
              "125972                   0.00000               0.00000   \n",
              "\n",
              "        dst_host_srv_rerror_rate    icmp       tcp       udp     IRC     X11  \\\n",
              "0                        0.00000 0.00000 255.00000   0.00000 0.00000 0.00000   \n",
              "1                        0.00000 0.00000   0.00000 255.00000 0.00000 0.00000   \n",
              "2                        0.00000 0.00000 255.00000   0.00000 0.00000 0.00000   \n",
              "3                        2.55000 0.00000 255.00000   0.00000 0.00000 0.00000   \n",
              "4                        0.00000 0.00000 255.00000   0.00000 0.00000 0.00000   \n",
              "...                          ...     ...       ...       ...     ...     ...   \n",
              "125968                   0.00000 0.00000 255.00000   0.00000 0.00000 0.00000   \n",
              "125969                   0.00000 0.00000   0.00000 255.00000 0.00000 0.00000   \n",
              "125970                   0.00000 0.00000 255.00000   0.00000 0.00000 0.00000   \n",
              "125971                   0.00000 0.00000 255.00000   0.00000 0.00000 0.00000   \n",
              "125972                   0.00000 0.00000 255.00000   0.00000 0.00000 0.00000   \n",
              "\n",
              "        Z39_50    auth     bgp  courier  csnet_ns     ctf  daytime  discard  \\\n",
              "0      0.00000 0.00000 0.00000  0.00000   0.00000 0.00000  0.00000  0.00000   \n",
              "1      0.00000 0.00000 0.00000  0.00000   0.00000 0.00000  0.00000  0.00000   \n",
              "2      0.00000 0.00000 0.00000  0.00000   0.00000 0.00000  0.00000  0.00000   \n",
              "3      0.00000 0.00000 0.00000  0.00000   0.00000 0.00000  0.00000  0.00000   \n",
              "4      0.00000 0.00000 0.00000  0.00000   0.00000 0.00000  0.00000  0.00000   \n",
              "...        ...     ...     ...      ...       ...     ...      ...      ...   \n",
              "125968 0.00000 0.00000 0.00000  0.00000   0.00000 0.00000  0.00000  0.00000   \n",
              "125969 0.00000 0.00000 0.00000  0.00000   0.00000 0.00000  0.00000  0.00000   \n",
              "125970 0.00000 0.00000 0.00000  0.00000   0.00000 0.00000  0.00000  0.00000   \n",
              "125971 0.00000 0.00000 0.00000  0.00000   0.00000 0.00000  0.00000  0.00000   \n",
              "125972 0.00000 0.00000 0.00000  0.00000   0.00000 0.00000  0.00000  0.00000   \n",
              "\n",
              "        domain  domain_u    echo   eco_i   ecr_i     efs    exec  finger  \\\n",
              "0      0.00000   0.00000 0.00000 0.00000 0.00000 0.00000 0.00000 0.00000   \n",
              "1      0.00000   0.00000 0.00000 0.00000 0.00000 0.00000 0.00000 0.00000   \n",
              "2      0.00000   0.00000 0.00000 0.00000 0.00000 0.00000 0.00000 0.00000   \n",
              "3      0.00000   0.00000 0.00000 0.00000 0.00000 0.00000 0.00000 0.00000   \n",
              "4      0.00000   0.00000 0.00000 0.00000 0.00000 0.00000 0.00000 0.00000   \n",
              "...        ...       ...     ...     ...     ...     ...     ...     ...   \n",
              "125968 0.00000   0.00000 0.00000 0.00000 0.00000 0.00000 0.00000 0.00000   \n",
              "125969 0.00000   0.00000 0.00000 0.00000 0.00000 0.00000 0.00000 0.00000   \n",
              "125970 0.00000   0.00000 0.00000 0.00000 0.00000 0.00000 0.00000 0.00000   \n",
              "125971 0.00000   0.00000 0.00000 0.00000 0.00000 0.00000 0.00000 0.00000   \n",
              "125972 0.00000   0.00000 0.00000 0.00000 0.00000 0.00000 0.00000 0.00000   \n",
              "\n",
              "           ftp  ftp_data  gopher  hostnames      http  http_443   imap4  \\\n",
              "0      0.00000 255.00000 0.00000    0.00000   0.00000   0.00000 0.00000   \n",
              "1      0.00000   0.00000 0.00000    0.00000   0.00000   0.00000 0.00000   \n",
              "2      0.00000   0.00000 0.00000    0.00000   0.00000   0.00000 0.00000   \n",
              "3      0.00000   0.00000 0.00000    0.00000 255.00000   0.00000 0.00000   \n",
              "4      0.00000   0.00000 0.00000    0.00000 255.00000   0.00000 0.00000   \n",
              "...        ...       ...     ...        ...       ...       ...     ...   \n",
              "125968 0.00000   0.00000 0.00000    0.00000   0.00000   0.00000 0.00000   \n",
              "125969 0.00000   0.00000 0.00000    0.00000   0.00000   0.00000 0.00000   \n",
              "125970 0.00000   0.00000 0.00000    0.00000   0.00000   0.00000 0.00000   \n",
              "125971 0.00000   0.00000 0.00000    0.00000   0.00000   0.00000 0.00000   \n",
              "125972 0.00000 255.00000 0.00000    0.00000   0.00000   0.00000 0.00000   \n",
              "\n",
              "        iso_tsap    klogin  kshell    ldap    link   login     mtp    name  \\\n",
              "0        0.00000   0.00000 0.00000 0.00000 0.00000 0.00000 0.00000 0.00000   \n",
              "1        0.00000   0.00000 0.00000 0.00000 0.00000 0.00000 0.00000 0.00000   \n",
              "2        0.00000   0.00000 0.00000 0.00000 0.00000 0.00000 0.00000 0.00000   \n",
              "3        0.00000   0.00000 0.00000 0.00000 0.00000 0.00000 0.00000 0.00000   \n",
              "4        0.00000   0.00000 0.00000 0.00000 0.00000 0.00000 0.00000 0.00000   \n",
              "...          ...       ...     ...     ...     ...     ...     ...     ...   \n",
              "125968   0.00000   0.00000 0.00000 0.00000 0.00000 0.00000 0.00000 0.00000   \n",
              "125969   0.00000   0.00000 0.00000 0.00000 0.00000 0.00000 0.00000 0.00000   \n",
              "125970   0.00000   0.00000 0.00000 0.00000 0.00000 0.00000 0.00000 0.00000   \n",
              "125971   0.00000 255.00000 0.00000 0.00000 0.00000 0.00000 0.00000 0.00000   \n",
              "125972   0.00000   0.00000 0.00000 0.00000 0.00000 0.00000 0.00000 0.00000   \n",
              "\n",
              "        netbios_dgm  netbios_ns  netbios_ssn  netstat    nnsp    nntp   ntp_u  \\\n",
              "0           0.00000     0.00000      0.00000  0.00000 0.00000 0.00000 0.00000   \n",
              "1           0.00000     0.00000      0.00000  0.00000 0.00000 0.00000 0.00000   \n",
              "2           0.00000     0.00000      0.00000  0.00000 0.00000 0.00000 0.00000   \n",
              "3           0.00000     0.00000      0.00000  0.00000 0.00000 0.00000 0.00000   \n",
              "4           0.00000     0.00000      0.00000  0.00000 0.00000 0.00000 0.00000   \n",
              "...             ...         ...          ...      ...     ...     ...     ...   \n",
              "125968      0.00000     0.00000      0.00000  0.00000 0.00000 0.00000 0.00000   \n",
              "125969      0.00000     0.00000      0.00000  0.00000 0.00000 0.00000 0.00000   \n",
              "125970      0.00000     0.00000      0.00000  0.00000 0.00000 0.00000 0.00000   \n",
              "125971      0.00000     0.00000      0.00000  0.00000 0.00000 0.00000 0.00000   \n",
              "125972      0.00000     0.00000      0.00000  0.00000 0.00000 0.00000 0.00000   \n",
              "\n",
              "           other  pm_dump   pop_2   pop_3   private  remote_job   shell  \\\n",
              "0        0.00000  0.00000 0.00000 0.00000   0.00000     0.00000 0.00000   \n",
              "1      255.00000  0.00000 0.00000 0.00000   0.00000     0.00000 0.00000   \n",
              "2        0.00000  0.00000 0.00000 0.00000 255.00000     0.00000 0.00000   \n",
              "3        0.00000  0.00000 0.00000 0.00000   0.00000     0.00000 0.00000   \n",
              "4        0.00000  0.00000 0.00000 0.00000   0.00000     0.00000 0.00000   \n",
              "...          ...      ...     ...     ...       ...         ...     ...   \n",
              "125968   0.00000  0.00000 0.00000 0.00000 255.00000     0.00000 0.00000   \n",
              "125969   0.00000  0.00000 0.00000 0.00000 255.00000     0.00000 0.00000   \n",
              "125970   0.00000  0.00000 0.00000 0.00000   0.00000     0.00000 0.00000   \n",
              "125971   0.00000  0.00000 0.00000 0.00000   0.00000     0.00000 0.00000   \n",
              "125972   0.00000  0.00000 0.00000 0.00000   0.00000     0.00000 0.00000   \n",
              "\n",
              "            smtp  sql_net     ssh  sunrpc  supdup  systat  telnet  tftp_u  \\\n",
              "0        0.00000  0.00000 0.00000 0.00000 0.00000 0.00000 0.00000 0.00000   \n",
              "1        0.00000  0.00000 0.00000 0.00000 0.00000 0.00000 0.00000 0.00000   \n",
              "2        0.00000  0.00000 0.00000 0.00000 0.00000 0.00000 0.00000 0.00000   \n",
              "3        0.00000  0.00000 0.00000 0.00000 0.00000 0.00000 0.00000 0.00000   \n",
              "4        0.00000  0.00000 0.00000 0.00000 0.00000 0.00000 0.00000 0.00000   \n",
              "...          ...      ...     ...     ...     ...     ...     ...     ...   \n",
              "125968   0.00000  0.00000 0.00000 0.00000 0.00000 0.00000 0.00000 0.00000   \n",
              "125969   0.00000  0.00000 0.00000 0.00000 0.00000 0.00000 0.00000 0.00000   \n",
              "125970 255.00000  0.00000 0.00000 0.00000 0.00000 0.00000 0.00000 0.00000   \n",
              "125971   0.00000  0.00000 0.00000 0.00000 0.00000 0.00000 0.00000 0.00000   \n",
              "125972   0.00000  0.00000 0.00000 0.00000 0.00000 0.00000 0.00000 0.00000   \n",
              "\n",
              "         tim_i    time   urp_i    uucp  uucp_path   vmnet   whois     OTH  \\\n",
              "0      0.00000 0.00000 0.00000 0.00000    0.00000 0.00000 0.00000 0.00000   \n",
              "1      0.00000 0.00000 0.00000 0.00000    0.00000 0.00000 0.00000 0.00000   \n",
              "2      0.00000 0.00000 0.00000 0.00000    0.00000 0.00000 0.00000 0.00000   \n",
              "3      0.00000 0.00000 0.00000 0.00000    0.00000 0.00000 0.00000 0.00000   \n",
              "4      0.00000 0.00000 0.00000 0.00000    0.00000 0.00000 0.00000 0.00000   \n",
              "...        ...     ...     ...     ...        ...     ...     ...     ...   \n",
              "125968 0.00000 0.00000 0.00000 0.00000    0.00000 0.00000 0.00000 0.00000   \n",
              "125969 0.00000 0.00000 0.00000 0.00000    0.00000 0.00000 0.00000 0.00000   \n",
              "125970 0.00000 0.00000 0.00000 0.00000    0.00000 0.00000 0.00000 0.00000   \n",
              "125971 0.00000 0.00000 0.00000 0.00000    0.00000 0.00000 0.00000 0.00000   \n",
              "125972 0.00000 0.00000 0.00000 0.00000    0.00000 0.00000 0.00000 0.00000   \n",
              "\n",
              "           REJ    RSTO  RSTOS0    RSTR        S0      S1      S2      S3  \\\n",
              "0      0.00000 0.00000 0.00000 0.00000   0.00000 0.00000 0.00000 0.00000   \n",
              "1      0.00000 0.00000 0.00000 0.00000   0.00000 0.00000 0.00000 0.00000   \n",
              "2      0.00000 0.00000 0.00000 0.00000 255.00000 0.00000 0.00000 0.00000   \n",
              "3      0.00000 0.00000 0.00000 0.00000   0.00000 0.00000 0.00000 0.00000   \n",
              "4      0.00000 0.00000 0.00000 0.00000   0.00000 0.00000 0.00000 0.00000   \n",
              "...        ...     ...     ...     ...       ...     ...     ...     ...   \n",
              "125968 0.00000 0.00000 0.00000 0.00000 255.00000 0.00000 0.00000 0.00000   \n",
              "125969 0.00000 0.00000 0.00000 0.00000   0.00000 0.00000 0.00000 0.00000   \n",
              "125970 0.00000 0.00000 0.00000 0.00000   0.00000 0.00000 0.00000 0.00000   \n",
              "125971 0.00000 0.00000 0.00000 0.00000 255.00000 0.00000 0.00000 0.00000   \n",
              "125972 0.00000 0.00000 0.00000 0.00000   0.00000 0.00000 0.00000 0.00000   \n",
              "\n",
              "              SF      SH attack_type  \n",
              "0      255.00000 0.00000      normal  \n",
              "1      255.00000 0.00000      normal  \n",
              "2        0.00000 0.00000      attack  \n",
              "3      255.00000 0.00000      normal  \n",
              "4      255.00000 0.00000      normal  \n",
              "...          ...     ...         ...  \n",
              "125968   0.00000 0.00000      attack  \n",
              "125969 255.00000 0.00000      normal  \n",
              "125970 255.00000 0.00000      normal  \n",
              "125971   0.00000 0.00000      attack  \n",
              "125972 255.00000 0.00000      normal  \n",
              "\n",
              "[125793 rows x 115 columns]"
            ],
            "text/html": "<div>\n<style scoped>\n    .dataframe tbody tr th:only-of-type {\n        vertical-align: middle;\n    }\n\n    .dataframe tbody tr th {\n        vertical-align: top;\n    }\n\n    .dataframe thead th {\n        text-align: right;\n    }\n</style>\n<table border=\"1\" class=\"dataframe\">\n  <thead>\n    <tr style=\"text-align: right;\">\n      <th></th>\n      <th>duration</th>\n      <th>src_bytes</th>\n      <th>dst_bytes</th>\n      <th>land</th>\n      <th>wrong_fragment</th>\n      <th>urgent</th>\n      <th>hot</th>\n      <th>num_failed_logins</th>\n      <th>logged_in</th>\n      <th>num_compromised</th>\n      <th>root_shell</th>\n      <th>su_attempted</th>\n      <th>num_root</th>\n      <th>num_file_creations</th>\n      <th>num_shells</th>\n      <th>num_access_files</th>\n      <th>num_outbound_cmds</th>\n      <th>is_host_login</th>\n      <th>is_guest_login</th>\n      <th>count</th>\n      <th>srv_count</th>\n      <th>serror_rate</th>\n      <th>srv_serror_rate</th>\n      <th>rerror_rate</th>\n      <th>srv_rerror_rate</th>\n      <th>same_srv_rate</th>\n      <th>diff_srv_rate</th>\n      <th>srv_diff_host_rate</th>\n      <th>dst_host_count</th>\n      <th>dst_host_srv_count</th>\n      <th>dst_host_same_srv_rate</th>\n      <th>dst_host_diff_srv_rate</th>\n      <th>dst_host_same_src_port_rate</th>\n      <th>dst_host_srv_diff_host_rate</th>\n      <th>dst_host_serror_rate</th>\n      <th>dst_host_srv_serror_rate</th>\n      <th>dst_host_rerror_rate</th>\n      <th>dst_host_srv_rerror_rate</th>\n      <th>icmp</th>\n      <th>tcp</th>\n      <th>udp</th>\n      <th>IRC</th>\n      <th>X11</th>\n      <th>Z39_50</th>\n      <th>auth</th>\n      <th>bgp</th>\n      <th>courier</th>\n      <th>csnet_ns</th>\n      <th>ctf</th>\n      <th>daytime</th>\n      <th>discard</th>\n      <th>domain</th>\n      <th>domain_u</th>\n      <th>echo</th>\n      <th>eco_i</th>\n      <th>ecr_i</th>\n      <th>efs</th>\n      <th>exec</th>\n      <th>finger</th>\n      <th>ftp</th>\n      <th>ftp_data</th>\n      <th>gopher</th>\n      <th>hostnames</th>\n      <th>http</th>\n      <th>http_443</th>\n      <th>imap4</th>\n      <th>iso_tsap</th>\n      <th>klogin</th>\n      <th>kshell</th>\n      <th>ldap</th>\n      <th>link</th>\n      <th>login</th>\n      <th>mtp</th>\n      <th>name</th>\n      <th>netbios_dgm</th>\n      <th>netbios_ns</th>\n      <th>netbios_ssn</th>\n      <th>netstat</th>\n      <th>nnsp</th>\n      <th>nntp</th>\n      <th>ntp_u</th>\n      <th>other</th>\n      <th>pm_dump</th>\n      <th>pop_2</th>\n      <th>pop_3</th>\n      <th>private</th>\n      <th>remote_job</th>\n      <th>shell</th>\n      <th>smtp</th>\n      <th>sql_net</th>\n      <th>ssh</th>\n      <th>sunrpc</th>\n      <th>supdup</th>\n      <th>systat</th>\n      <th>telnet</th>\n      <th>tftp_u</th>\n      <th>tim_i</th>\n      <th>time</th>\n      <th>urp_i</th>\n      <th>uucp</th>\n      <th>uucp_path</th>\n      <th>vmnet</th>\n      <th>whois</th>\n      <th>OTH</th>\n      <th>REJ</th>\n      <th>RSTO</th>\n      <th>RSTOS0</th>\n      <th>RSTR</th>\n      <th>S0</th>\n      <th>S1</th>\n      <th>S2</th>\n      <th>S3</th>\n      <th>SF</th>\n      <th>SH</th>\n      <th>attack_type</th>\n    </tr>\n  </thead>\n  <tbody>\n    <tr>\n      <th>0</th>\n      <td>0.00000</td>\n      <td>0.00009</td>\n      <td>0.00000</td>\n      <td>0.00000</td>\n      <td>0.00000</td>\n      <td>0.00000</td>\n      <td>0.00000</td>\n      <td>0.00000</td>\n      <td>0.00000</td>\n      <td>0.00000</td>\n      <td>0.00000</td>\n      <td>0.00000</td>\n      <td>0.00000</td>\n      <td>0.00000</td>\n      <td>0.00000</td>\n      <td>0.00000</td>\n      <td>nan</td>\n      <td>0.00000</td>\n      <td>0.00000</td>\n      <td>0.99804</td>\n      <td>0.99804</td>\n      <td>0.00000</td>\n      <td>0.00000</td>\n      <td>0.00000</td>\n      <td>0.00000</td>\n      <td>255.00000</td>\n      <td>0.00000</td>\n      <td>0.00000</td>\n      <td>150.00000</td>\n      <td>25.00000</td>\n      <td>43.35000</td>\n      <td>7.65000</td>\n      <td>43.35000</td>\n      <td>0.00000</td>\n      <td>0.00000</td>\n      <td>0.00000</td>\n      <td>12.75000</td>\n      <td>0.00000</td>\n      <td>0.00000</td>\n      <td>255.00000</td>\n      <td>0.00000</td>\n      <td>0.00000</td>\n      <td>0.00000</td>\n      <td>0.00000</td>\n      <td>0.00000</td>\n      <td>0.00000</td>\n      <td>0.00000</td>\n      <td>0.00000</td>\n      <td>0.00000</td>\n      <td>0.00000</td>\n      <td>0.00000</td>\n      <td>0.00000</td>\n      <td>0.00000</td>\n      <td>0.00000</td>\n      <td>0.00000</td>\n      <td>0.00000</td>\n      <td>0.00000</td>\n      <td>0.00000</td>\n      <td>0.00000</td>\n      <td>0.00000</td>\n      <td>255.00000</td>\n      <td>0.00000</td>\n      <td>0.00000</td>\n      <td>0.00000</td>\n      <td>0.00000</td>\n      <td>0.00000</td>\n      <td>0.00000</td>\n      <td>0.00000</td>\n      <td>0.00000</td>\n      <td>0.00000</td>\n      <td>0.00000</td>\n      <td>0.00000</td>\n      <td>0.00000</td>\n      <td>0.00000</td>\n      <td>0.00000</td>\n      <td>0.00000</td>\n      <td>0.00000</td>\n      <td>0.00000</td>\n      <td>0.00000</td>\n      <td>0.00000</td>\n      <td>0.00000</td>\n      <td>0.00000</td>\n      <td>0.00000</td>\n      <td>0.00000</td>\n      <td>0.00000</td>\n      <td>0.00000</td>\n      <td>0.00000</td>\n      <td>0.00000</td>\n      <td>0.00000</td>\n      <td>0.00000</td>\n      <td>0.00000</td>\n      <td>0.00000</td>\n      <td>0.00000</td>\n      <td>0.00000</td>\n      <td>0.00000</td>\n      <td>0.00000</td>\n      <td>0.00000</td>\n      <td>0.00000</td>\n      <td>0.00000</td>\n      <td>0.00000</td>\n      <td>0.00000</td>\n      <td>0.00000</td>\n      <td>0.00000</td>\n      <td>0.00000</td>\n      <td>0.00000</td>\n      <td>0.00000</td>\n      <td>0.00000</td>\n      <td>0.00000</td>\n      <td>0.00000</td>\n      <td>0.00000</td>\n      <td>0.00000</td>\n      <td>0.00000</td>\n      <td>255.00000</td>\n      <td>0.00000</td>\n      <td>normal</td>\n    </tr>\n    <tr>\n      <th>1</th>\n      <td>0.00000</td>\n      <td>0.00003</td>\n      <td>0.00000</td>\n      <td>0.00000</td>\n      <td>0.00000</td>\n      <td>0.00000</td>\n      <td>0.00000</td>\n      <td>0.00000</td>\n      <td>0.00000</td>\n      <td>0.00000</td>\n      <td>0.00000</td>\n      <td>0.00000</td>\n      <td>0.00000</td>\n      <td>0.00000</td>\n      <td>0.00000</td>\n      <td>0.00000</td>\n      <td>nan</td>\n      <td>0.00000</td>\n      <td>0.00000</td>\n      <td>6.48728</td>\n      <td>0.49902</td>\n      <td>0.00000</td>\n      <td>0.00000</td>\n      <td>0.00000</td>\n      <td>0.00000</td>\n      <td>20.40000</td>\n      <td>38.25000</td>\n      <td>0.00000</td>\n      <td>255.00000</td>\n      <td>1.00000</td>\n      <td>0.00000</td>\n      <td>153.00000</td>\n      <td>224.40000</td>\n      <td>0.00000</td>\n      <td>0.00000</td>\n      <td>0.00000</td>\n      <td>0.00000</td>\n      <td>0.00000</td>\n      <td>0.00000</td>\n      <td>0.00000</td>\n      <td>255.00000</td>\n      <td>0.00000</td>\n      <td>0.00000</td>\n      <td>0.00000</td>\n      <td>0.00000</td>\n      <td>0.00000</td>\n      <td>0.00000</td>\n      <td>0.00000</td>\n      <td>0.00000</td>\n      <td>0.00000</td>\n      <td>0.00000</td>\n      <td>0.00000</td>\n      <td>0.00000</td>\n      <td>0.00000</td>\n      <td>0.00000</td>\n      <td>0.00000</td>\n      <td>0.00000</td>\n      <td>0.00000</td>\n      <td>0.00000</td>\n      <td>0.00000</td>\n      <td>0.00000</td>\n      <td>0.00000</td>\n      <td>0.00000</td>\n      <td>0.00000</td>\n      <td>0.00000</td>\n      <td>0.00000</td>\n      <td>0.00000</td>\n      <td>0.00000</td>\n      <td>0.00000</td>\n      <td>0.00000</td>\n      <td>0.00000</td>\n      <td>0.00000</td>\n      <td>0.00000</td>\n      <td>0.00000</td>\n      <td>0.00000</td>\n      <td>0.00000</td>\n      <td>0.00000</td>\n      <td>0.00000</td>\n      <td>0.00000</td>\n      <td>0.00000</td>\n      <td>0.00000</td>\n      <td>255.00000</td>\n      <td>0.00000</td>\n      <td>0.00000</td>\n      <td>0.00000</td>\n      <td>0.00000</td>\n      <td>0.00000</td>\n      <td>0.00000</td>\n      <td>0.00000</td>\n      <td>0.00000</td>\n      <td>0.00000</td>\n      <td>0.00000</td>\n      <td>0.00000</td>\n      <td>0.00000</td>\n      <td>0.00000</td>\n      <td>0.00000</td>\n      <td>0.00000</td>\n      <td>0.00000</td>\n      <td>0.00000</td>\n      <td>0.00000</td>\n      <td>0.00000</td>\n      <td>0.00000</td>\n      <td>0.00000</td>\n      <td>0.00000</td>\n      <td>0.00000</td>\n      <td>0.00000</td>\n      <td>0.00000</td>\n      <td>0.00000</td>\n      <td>0.00000</td>\n      <td>0.00000</td>\n      <td>0.00000</td>\n      <td>0.00000</td>\n      <td>255.00000</td>\n      <td>0.00000</td>\n      <td>normal</td>\n    </tr>\n    <tr>\n      <th>2</th>\n      <td>0.00000</td>\n      <td>0.00000</td>\n      <td>0.00000</td>\n      <td>0.00000</td>\n      <td>0.00000</td>\n      <td>0.00000</td>\n      <td>0.00000</td>\n      <td>0.00000</td>\n      <td>0.00000</td>\n      <td>0.00000</td>\n      <td>0.00000</td>\n      <td>0.00000</td>\n      <td>0.00000</td>\n      <td>0.00000</td>\n      <td>0.00000</td>\n      <td>0.00000</td>\n      <td>nan</td>\n      <td>0.00000</td>\n      <td>0.00000</td>\n      <td>61.37965</td>\n      <td>2.99413</td>\n      <td>255.00000</td>\n      <td>255.00000</td>\n      <td>0.00000</td>\n      <td>0.00000</td>\n      <td>12.75000</td>\n      <td>17.85000</td>\n      <td>0.00000</td>\n      <td>255.00000</td>\n      <td>26.00000</td>\n      <td>25.50000</td>\n      <td>12.75000</td>\n      <td>0.00000</td>\n      <td>0.00000</td>\n      <td>255.00000</td>\n      <td>255.00000</td>\n      <td>0.00000</td>\n      <td>0.00000</td>\n      <td>0.00000</td>\n      <td>255.00000</td>\n      <td>0.00000</td>\n      <td>0.00000</td>\n      <td>0.00000</td>\n      <td>0.00000</td>\n      <td>0.00000</td>\n      <td>0.00000</td>\n      <td>0.00000</td>\n      <td>0.00000</td>\n      <td>0.00000</td>\n      <td>0.00000</td>\n      <td>0.00000</td>\n      <td>0.00000</td>\n      <td>0.00000</td>\n      <td>0.00000</td>\n      <td>0.00000</td>\n      <td>0.00000</td>\n      <td>0.00000</td>\n      <td>0.00000</td>\n      <td>0.00000</td>\n      <td>0.00000</td>\n      <td>0.00000</td>\n      <td>0.00000</td>\n      <td>0.00000</td>\n      <td>0.00000</td>\n      <td>0.00000</td>\n      <td>0.00000</td>\n      <td>0.00000</td>\n      <td>0.00000</td>\n      <td>0.00000</td>\n      <td>0.00000</td>\n      <td>0.00000</td>\n      <td>0.00000</td>\n      <td>0.00000</td>\n      <td>0.00000</td>\n      <td>0.00000</td>\n      <td>0.00000</td>\n      <td>0.00000</td>\n      <td>0.00000</td>\n      <td>0.00000</td>\n      <td>0.00000</td>\n      <td>0.00000</td>\n      <td>0.00000</td>\n      <td>0.00000</td>\n      <td>0.00000</td>\n      <td>0.00000</td>\n      <td>255.00000</td>\n      <td>0.00000</td>\n      <td>0.00000</td>\n      <td>0.00000</td>\n      <td>0.00000</td>\n      <td>0.00000</td>\n      <td>0.00000</td>\n      <td>0.00000</td>\n      <td>0.00000</td>\n      <td>0.00000</td>\n      <td>0.00000</td>\n      <td>0.00000</td>\n      <td>0.00000</td>\n      <td>0.00000</td>\n      <td>0.00000</td>\n      <td>0.00000</td>\n      <td>0.00000</td>\n      <td>0.00000</td>\n      <td>0.00000</td>\n      <td>0.00000</td>\n      <td>0.00000</td>\n      <td>0.00000</td>\n      <td>0.00000</td>\n      <td>255.00000</td>\n      <td>0.00000</td>\n      <td>0.00000</td>\n      <td>0.00000</td>\n      <td>0.00000</td>\n      <td>0.00000</td>\n      <td>attack</td>\n    </tr>\n    <tr>\n      <th>3</th>\n      <td>0.00000</td>\n      <td>0.00004</td>\n      <td>0.00159</td>\n      <td>0.00000</td>\n      <td>0.00000</td>\n      <td>0.00000</td>\n      <td>0.00000</td>\n      <td>0.00000</td>\n      <td>255.00000</td>\n      <td>0.00000</td>\n      <td>0.00000</td>\n      <td>0.00000</td>\n      <td>0.00000</td>\n      <td>0.00000</td>\n      <td>0.00000</td>\n      <td>0.00000</td>\n      <td>nan</td>\n      <td>0.00000</td>\n      <td>0.00000</td>\n      <td>2.49511</td>\n      <td>2.49511</td>\n      <td>51.00000</td>\n      <td>51.00000</td>\n      <td>0.00000</td>\n      <td>0.00000</td>\n      <td>255.00000</td>\n      <td>0.00000</td>\n      <td>0.00000</td>\n      <td>30.00000</td>\n      <td>255.00000</td>\n      <td>255.00000</td>\n      <td>0.00000</td>\n      <td>7.65000</td>\n      <td>10.20000</td>\n      <td>7.65000</td>\n      <td>2.55000</td>\n      <td>0.00000</td>\n      <td>2.55000</td>\n      <td>0.00000</td>\n      <td>255.00000</td>\n      <td>0.00000</td>\n      <td>0.00000</td>\n      <td>0.00000</td>\n      <td>0.00000</td>\n      <td>0.00000</td>\n      <td>0.00000</td>\n      <td>0.00000</td>\n      <td>0.00000</td>\n      <td>0.00000</td>\n      <td>0.00000</td>\n      <td>0.00000</td>\n      <td>0.00000</td>\n      <td>0.00000</td>\n      <td>0.00000</td>\n      <td>0.00000</td>\n      <td>0.00000</td>\n      <td>0.00000</td>\n      <td>0.00000</td>\n      <td>0.00000</td>\n      <td>0.00000</td>\n      <td>0.00000</td>\n      <td>0.00000</td>\n      <td>0.00000</td>\n      <td>255.00000</td>\n      <td>0.00000</td>\n      <td>0.00000</td>\n      <td>0.00000</td>\n      <td>0.00000</td>\n      <td>0.00000</td>\n      <td>0.00000</td>\n      <td>0.00000</td>\n      <td>0.00000</td>\n      <td>0.00000</td>\n      <td>0.00000</td>\n      <td>0.00000</td>\n      <td>0.00000</td>\n      <td>0.00000</td>\n      <td>0.00000</td>\n      <td>0.00000</td>\n      <td>0.00000</td>\n      <td>0.00000</td>\n      <td>0.00000</td>\n      <td>0.00000</td>\n      <td>0.00000</td>\n      <td>0.00000</td>\n      <td>0.00000</td>\n      <td>0.00000</td>\n      <td>0.00000</td>\n      <td>0.00000</td>\n      <td>0.00000</td>\n      <td>0.00000</td>\n      <td>0.00000</td>\n      <td>0.00000</td>\n      <td>0.00000</td>\n      <td>0.00000</td>\n      <td>0.00000</td>\n      <td>0.00000</td>\n      <td>0.00000</td>\n      <td>0.00000</td>\n      <td>0.00000</td>\n      <td>0.00000</td>\n      <td>0.00000</td>\n      <td>0.00000</td>\n      <td>0.00000</td>\n      <td>0.00000</td>\n      <td>0.00000</td>\n      <td>0.00000</td>\n      <td>0.00000</td>\n      <td>0.00000</td>\n      <td>0.00000</td>\n      <td>0.00000</td>\n      <td>0.00000</td>\n      <td>255.00000</td>\n      <td>0.00000</td>\n      <td>normal</td>\n    </tr>\n    <tr>\n      <th>4</th>\n      <td>0.00000</td>\n      <td>0.00004</td>\n      <td>0.00008</td>\n      <td>0.00000</td>\n      <td>0.00000</td>\n      <td>0.00000</td>\n      <td>0.00000</td>\n      <td>0.00000</td>\n      <td>255.00000</td>\n      <td>0.00000</td>\n      <td>0.00000</td>\n      <td>0.00000</td>\n      <td>0.00000</td>\n      <td>0.00000</td>\n      <td>0.00000</td>\n      <td>0.00000</td>\n      <td>nan</td>\n      <td>0.00000</td>\n      <td>0.00000</td>\n      <td>14.97065</td>\n      <td>15.96869</td>\n      <td>0.00000</td>\n      <td>0.00000</td>\n      <td>0.00000</td>\n      <td>0.00000</td>\n      <td>255.00000</td>\n      <td>0.00000</td>\n      <td>22.95000</td>\n      <td>255.00000</td>\n      <td>255.00000</td>\n      <td>255.00000</td>\n      <td>0.00000</td>\n      <td>0.00000</td>\n      <td>0.00000</td>\n      <td>0.00000</td>\n      <td>0.00000</td>\n      <td>0.00000</td>\n      <td>0.00000</td>\n      <td>0.00000</td>\n      <td>255.00000</td>\n      <td>0.00000</td>\n      <td>0.00000</td>\n      <td>0.00000</td>\n      <td>0.00000</td>\n      <td>0.00000</td>\n      <td>0.00000</td>\n      <td>0.00000</td>\n      <td>0.00000</td>\n      <td>0.00000</td>\n      <td>0.00000</td>\n      <td>0.00000</td>\n      <td>0.00000</td>\n      <td>0.00000</td>\n      <td>0.00000</td>\n      <td>0.00000</td>\n      <td>0.00000</td>\n      <td>0.00000</td>\n      <td>0.00000</td>\n      <td>0.00000</td>\n      <td>0.00000</td>\n      <td>0.00000</td>\n      <td>0.00000</td>\n      <td>0.00000</td>\n      <td>255.00000</td>\n      <td>0.00000</td>\n      <td>0.00000</td>\n      <td>0.00000</td>\n      <td>0.00000</td>\n      <td>0.00000</td>\n      <td>0.00000</td>\n      <td>0.00000</td>\n      <td>0.00000</td>\n      <td>0.00000</td>\n      <td>0.00000</td>\n      <td>0.00000</td>\n      <td>0.00000</td>\n      <td>0.00000</td>\n      <td>0.00000</td>\n      <td>0.00000</td>\n      <td>0.00000</td>\n      <td>0.00000</td>\n      <td>0.00000</td>\n      <td>0.00000</td>\n      <td>0.00000</td>\n      <td>0.00000</td>\n      <td>0.00000</td>\n      <td>0.00000</td>\n      <td>0.00000</td>\n      <td>0.00000</td>\n      <td>0.00000</td>\n      <td>0.00000</td>\n      <td>0.00000</td>\n      <td>0.00000</td>\n      <td>0.00000</td>\n      <td>0.00000</td>\n      <td>0.00000</td>\n      <td>0.00000</td>\n      <td>0.00000</td>\n      <td>0.00000</td>\n      <td>0.00000</td>\n      <td>0.00000</td>\n      <td>0.00000</td>\n      <td>0.00000</td>\n      <td>0.00000</td>\n      <td>0.00000</td>\n      <td>0.00000</td>\n      <td>0.00000</td>\n      <td>0.00000</td>\n      <td>0.00000</td>\n      <td>0.00000</td>\n      <td>0.00000</td>\n      <td>0.00000</td>\n      <td>255.00000</td>\n      <td>0.00000</td>\n      <td>normal</td>\n    </tr>\n    <tr>\n      <th>...</th>\n      <td>...</td>\n      <td>...</td>\n      <td>...</td>\n      <td>...</td>\n      <td>...</td>\n      <td>...</td>\n      <td>...</td>\n      <td>...</td>\n      <td>...</td>\n      <td>...</td>\n      <td>...</td>\n      <td>...</td>\n      <td>...</td>\n      <td>...</td>\n      <td>...</td>\n      <td>...</td>\n      <td>...</td>\n      <td>...</td>\n      <td>...</td>\n      <td>...</td>\n      <td>...</td>\n      <td>...</td>\n      <td>...</td>\n      <td>...</td>\n      <td>...</td>\n      <td>...</td>\n      <td>...</td>\n      <td>...</td>\n      <td>...</td>\n      <td>...</td>\n      <td>...</td>\n      <td>...</td>\n      <td>...</td>\n      <td>...</td>\n      <td>...</td>\n      <td>...</td>\n      <td>...</td>\n      <td>...</td>\n      <td>...</td>\n      <td>...</td>\n      <td>...</td>\n      <td>...</td>\n      <td>...</td>\n      <td>...</td>\n      <td>...</td>\n      <td>...</td>\n      <td>...</td>\n      <td>...</td>\n      <td>...</td>\n      <td>...</td>\n      <td>...</td>\n      <td>...</td>\n      <td>...</td>\n      <td>...</td>\n      <td>...</td>\n      <td>...</td>\n      <td>...</td>\n      <td>...</td>\n      <td>...</td>\n      <td>...</td>\n      <td>...</td>\n      <td>...</td>\n      <td>...</td>\n      <td>...</td>\n      <td>...</td>\n      <td>...</td>\n      <td>...</td>\n      <td>...</td>\n      <td>...</td>\n      <td>...</td>\n      <td>...</td>\n      <td>...</td>\n      <td>...</td>\n      <td>...</td>\n      <td>...</td>\n      <td>...</td>\n      <td>...</td>\n      <td>...</td>\n      <td>...</td>\n      <td>...</td>\n      <td>...</td>\n      <td>...</td>\n      <td>...</td>\n      <td>...</td>\n      <td>...</td>\n      <td>...</td>\n      <td>...</td>\n      <td>...</td>\n      <td>...</td>\n      <td>...</td>\n      <td>...</td>\n      <td>...</td>\n      <td>...</td>\n      <td>...</td>\n      <td>...</td>\n      <td>...</td>\n      <td>...</td>\n      <td>...</td>\n      <td>...</td>\n      <td>...</td>\n      <td>...</td>\n      <td>...</td>\n      <td>...</td>\n      <td>...</td>\n      <td>...</td>\n      <td>...</td>\n      <td>...</td>\n      <td>...</td>\n      <td>...</td>\n      <td>...</td>\n      <td>...</td>\n      <td>...</td>\n      <td>...</td>\n      <td>...</td>\n      <td>...</td>\n    </tr>\n    <tr>\n      <th>125968</th>\n      <td>0.00000</td>\n      <td>0.00000</td>\n      <td>0.00000</td>\n      <td>0.00000</td>\n      <td>0.00000</td>\n      <td>0.00000</td>\n      <td>0.00000</td>\n      <td>0.00000</td>\n      <td>0.00000</td>\n      <td>0.00000</td>\n      <td>0.00000</td>\n      <td>0.00000</td>\n      <td>0.00000</td>\n      <td>0.00000</td>\n      <td>0.00000</td>\n      <td>0.00000</td>\n      <td>nan</td>\n      <td>0.00000</td>\n      <td>0.00000</td>\n      <td>91.81996</td>\n      <td>12.47554</td>\n      <td>255.00000</td>\n      <td>255.00000</td>\n      <td>0.00000</td>\n      <td>0.00000</td>\n      <td>35.70000</td>\n      <td>15.30000</td>\n      <td>0.00000</td>\n      <td>255.00000</td>\n      <td>25.00000</td>\n      <td>25.50000</td>\n      <td>15.30000</td>\n      <td>0.00000</td>\n      <td>0.00000</td>\n      <td>255.00000</td>\n      <td>255.00000</td>\n      <td>0.00000</td>\n      <td>0.00000</td>\n      <td>0.00000</td>\n      <td>255.00000</td>\n      <td>0.00000</td>\n      <td>0.00000</td>\n      <td>0.00000</td>\n      <td>0.00000</td>\n      <td>0.00000</td>\n      <td>0.00000</td>\n      <td>0.00000</td>\n      <td>0.00000</td>\n      <td>0.00000</td>\n      <td>0.00000</td>\n      <td>0.00000</td>\n      <td>0.00000</td>\n      <td>0.00000</td>\n      <td>0.00000</td>\n      <td>0.00000</td>\n      <td>0.00000</td>\n      <td>0.00000</td>\n      <td>0.00000</td>\n      <td>0.00000</td>\n      <td>0.00000</td>\n      <td>0.00000</td>\n      <td>0.00000</td>\n      <td>0.00000</td>\n      <td>0.00000</td>\n      <td>0.00000</td>\n      <td>0.00000</td>\n      <td>0.00000</td>\n      <td>0.00000</td>\n      <td>0.00000</td>\n      <td>0.00000</td>\n      <td>0.00000</td>\n      <td>0.00000</td>\n      <td>0.00000</td>\n      <td>0.00000</td>\n      <td>0.00000</td>\n      <td>0.00000</td>\n      <td>0.00000</td>\n      <td>0.00000</td>\n      <td>0.00000</td>\n      <td>0.00000</td>\n      <td>0.00000</td>\n      <td>0.00000</td>\n      <td>0.00000</td>\n      <td>0.00000</td>\n      <td>0.00000</td>\n      <td>255.00000</td>\n      <td>0.00000</td>\n      <td>0.00000</td>\n      <td>0.00000</td>\n      <td>0.00000</td>\n      <td>0.00000</td>\n      <td>0.00000</td>\n      <td>0.00000</td>\n      <td>0.00000</td>\n      <td>0.00000</td>\n      <td>0.00000</td>\n      <td>0.00000</td>\n      <td>0.00000</td>\n      <td>0.00000</td>\n      <td>0.00000</td>\n      <td>0.00000</td>\n      <td>0.00000</td>\n      <td>0.00000</td>\n      <td>0.00000</td>\n      <td>0.00000</td>\n      <td>0.00000</td>\n      <td>0.00000</td>\n      <td>0.00000</td>\n      <td>255.00000</td>\n      <td>0.00000</td>\n      <td>0.00000</td>\n      <td>0.00000</td>\n      <td>0.00000</td>\n      <td>0.00000</td>\n      <td>attack</td>\n    </tr>\n    <tr>\n      <th>125969</th>\n      <td>0.04754</td>\n      <td>0.00002</td>\n      <td>0.00003</td>\n      <td>0.00000</td>\n      <td>0.00000</td>\n      <td>0.00000</td>\n      <td>0.00000</td>\n      <td>0.00000</td>\n      <td>0.00000</td>\n      <td>0.00000</td>\n      <td>0.00000</td>\n      <td>0.00000</td>\n      <td>0.00000</td>\n      <td>0.00000</td>\n      <td>0.00000</td>\n      <td>0.00000</td>\n      <td>nan</td>\n      <td>0.00000</td>\n      <td>0.00000</td>\n      <td>0.99804</td>\n      <td>0.99804</td>\n      <td>0.00000</td>\n      <td>0.00000</td>\n      <td>0.00000</td>\n      <td>0.00000</td>\n      <td>255.00000</td>\n      <td>0.00000</td>\n      <td>0.00000</td>\n      <td>255.00000</td>\n      <td>244.00000</td>\n      <td>244.80000</td>\n      <td>2.55000</td>\n      <td>2.55000</td>\n      <td>0.00000</td>\n      <td>0.00000</td>\n      <td>0.00000</td>\n      <td>0.00000</td>\n      <td>0.00000</td>\n      <td>0.00000</td>\n      <td>0.00000</td>\n      <td>255.00000</td>\n      <td>0.00000</td>\n      <td>0.00000</td>\n      <td>0.00000</td>\n      <td>0.00000</td>\n      <td>0.00000</td>\n      <td>0.00000</td>\n      <td>0.00000</td>\n      <td>0.00000</td>\n      <td>0.00000</td>\n      <td>0.00000</td>\n      <td>0.00000</td>\n      <td>0.00000</td>\n      <td>0.00000</td>\n      <td>0.00000</td>\n      <td>0.00000</td>\n      <td>0.00000</td>\n      <td>0.00000</td>\n      <td>0.00000</td>\n      <td>0.00000</td>\n      <td>0.00000</td>\n      <td>0.00000</td>\n      <td>0.00000</td>\n      <td>0.00000</td>\n      <td>0.00000</td>\n      <td>0.00000</td>\n      <td>0.00000</td>\n      <td>0.00000</td>\n      <td>0.00000</td>\n      <td>0.00000</td>\n      <td>0.00000</td>\n      <td>0.00000</td>\n      <td>0.00000</td>\n      <td>0.00000</td>\n      <td>0.00000</td>\n      <td>0.00000</td>\n      <td>0.00000</td>\n      <td>0.00000</td>\n      <td>0.00000</td>\n      <td>0.00000</td>\n      <td>0.00000</td>\n      <td>0.00000</td>\n      <td>0.00000</td>\n      <td>0.00000</td>\n      <td>0.00000</td>\n      <td>255.00000</td>\n      <td>0.00000</td>\n      <td>0.00000</td>\n      <td>0.00000</td>\n      <td>0.00000</td>\n      <td>0.00000</td>\n      <td>0.00000</td>\n      <td>0.00000</td>\n      <td>0.00000</td>\n      <td>0.00000</td>\n      <td>0.00000</td>\n      <td>0.00000</td>\n      <td>0.00000</td>\n      <td>0.00000</td>\n      <td>0.00000</td>\n      <td>0.00000</td>\n      <td>0.00000</td>\n      <td>0.00000</td>\n      <td>0.00000</td>\n      <td>0.00000</td>\n      <td>0.00000</td>\n      <td>0.00000</td>\n      <td>0.00000</td>\n      <td>0.00000</td>\n      <td>0.00000</td>\n      <td>0.00000</td>\n      <td>0.00000</td>\n      <td>255.00000</td>\n      <td>0.00000</td>\n      <td>normal</td>\n    </tr>\n    <tr>\n      <th>125970</th>\n      <td>0.00000</td>\n      <td>0.00041</td>\n      <td>0.00007</td>\n      <td>0.00000</td>\n      <td>0.00000</td>\n      <td>0.00000</td>\n      <td>0.00000</td>\n      <td>0.00000</td>\n      <td>255.00000</td>\n      <td>0.00000</td>\n      <td>0.00000</td>\n      <td>0.00000</td>\n      <td>0.00000</td>\n      <td>0.00000</td>\n      <td>0.00000</td>\n      <td>0.00000</td>\n      <td>nan</td>\n      <td>0.00000</td>\n      <td>0.00000</td>\n      <td>0.49902</td>\n      <td>0.49902</td>\n      <td>0.00000</td>\n      <td>0.00000</td>\n      <td>0.00000</td>\n      <td>0.00000</td>\n      <td>255.00000</td>\n      <td>0.00000</td>\n      <td>0.00000</td>\n      <td>255.00000</td>\n      <td>30.00000</td>\n      <td>30.60000</td>\n      <td>15.30000</td>\n      <td>0.00000</td>\n      <td>0.00000</td>\n      <td>183.60000</td>\n      <td>0.00000</td>\n      <td>2.55000</td>\n      <td>0.00000</td>\n      <td>0.00000</td>\n      <td>255.00000</td>\n      <td>0.00000</td>\n      <td>0.00000</td>\n      <td>0.00000</td>\n      <td>0.00000</td>\n      <td>0.00000</td>\n      <td>0.00000</td>\n      <td>0.00000</td>\n      <td>0.00000</td>\n      <td>0.00000</td>\n      <td>0.00000</td>\n      <td>0.00000</td>\n      <td>0.00000</td>\n      <td>0.00000</td>\n      <td>0.00000</td>\n      <td>0.00000</td>\n      <td>0.00000</td>\n      <td>0.00000</td>\n      <td>0.00000</td>\n      <td>0.00000</td>\n      <td>0.00000</td>\n      <td>0.00000</td>\n      <td>0.00000</td>\n      <td>0.00000</td>\n      <td>0.00000</td>\n      <td>0.00000</td>\n      <td>0.00000</td>\n      <td>0.00000</td>\n      <td>0.00000</td>\n      <td>0.00000</td>\n      <td>0.00000</td>\n      <td>0.00000</td>\n      <td>0.00000</td>\n      <td>0.00000</td>\n      <td>0.00000</td>\n      <td>0.00000</td>\n      <td>0.00000</td>\n      <td>0.00000</td>\n      <td>0.00000</td>\n      <td>0.00000</td>\n      <td>0.00000</td>\n      <td>0.00000</td>\n      <td>0.00000</td>\n      <td>0.00000</td>\n      <td>0.00000</td>\n      <td>0.00000</td>\n      <td>0.00000</td>\n      <td>0.00000</td>\n      <td>0.00000</td>\n      <td>255.00000</td>\n      <td>0.00000</td>\n      <td>0.00000</td>\n      <td>0.00000</td>\n      <td>0.00000</td>\n      <td>0.00000</td>\n      <td>0.00000</td>\n      <td>0.00000</td>\n      <td>0.00000</td>\n      <td>0.00000</td>\n      <td>0.00000</td>\n      <td>0.00000</td>\n      <td>0.00000</td>\n      <td>0.00000</td>\n      <td>0.00000</td>\n      <td>0.00000</td>\n      <td>0.00000</td>\n      <td>0.00000</td>\n      <td>0.00000</td>\n      <td>0.00000</td>\n      <td>0.00000</td>\n      <td>0.00000</td>\n      <td>0.00000</td>\n      <td>0.00000</td>\n      <td>255.00000</td>\n      <td>0.00000</td>\n      <td>normal</td>\n    </tr>\n    <tr>\n      <th>125971</th>\n      <td>0.00000</td>\n      <td>0.00000</td>\n      <td>0.00000</td>\n      <td>0.00000</td>\n      <td>0.00000</td>\n      <td>0.00000</td>\n      <td>0.00000</td>\n      <td>0.00000</td>\n      <td>0.00000</td>\n      <td>0.00000</td>\n      <td>0.00000</td>\n      <td>0.00000</td>\n      <td>0.00000</td>\n      <td>0.00000</td>\n      <td>0.00000</td>\n      <td>0.00000</td>\n      <td>nan</td>\n      <td>0.00000</td>\n      <td>0.00000</td>\n      <td>71.85910</td>\n      <td>3.99217</td>\n      <td>255.00000</td>\n      <td>255.00000</td>\n      <td>0.00000</td>\n      <td>0.00000</td>\n      <td>15.30000</td>\n      <td>12.75000</td>\n      <td>0.00000</td>\n      <td>255.00000</td>\n      <td>8.00000</td>\n      <td>7.65000</td>\n      <td>12.75000</td>\n      <td>0.00000</td>\n      <td>0.00000</td>\n      <td>255.00000</td>\n      <td>255.00000</td>\n      <td>0.00000</td>\n      <td>0.00000</td>\n      <td>0.00000</td>\n      <td>255.00000</td>\n      <td>0.00000</td>\n      <td>0.00000</td>\n      <td>0.00000</td>\n      <td>0.00000</td>\n      <td>0.00000</td>\n      <td>0.00000</td>\n      <td>0.00000</td>\n      <td>0.00000</td>\n      <td>0.00000</td>\n      <td>0.00000</td>\n      <td>0.00000</td>\n      <td>0.00000</td>\n      <td>0.00000</td>\n      <td>0.00000</td>\n      <td>0.00000</td>\n      <td>0.00000</td>\n      <td>0.00000</td>\n      <td>0.00000</td>\n      <td>0.00000</td>\n      <td>0.00000</td>\n      <td>0.00000</td>\n      <td>0.00000</td>\n      <td>0.00000</td>\n      <td>0.00000</td>\n      <td>0.00000</td>\n      <td>0.00000</td>\n      <td>0.00000</td>\n      <td>255.00000</td>\n      <td>0.00000</td>\n      <td>0.00000</td>\n      <td>0.00000</td>\n      <td>0.00000</td>\n      <td>0.00000</td>\n      <td>0.00000</td>\n      <td>0.00000</td>\n      <td>0.00000</td>\n      <td>0.00000</td>\n      <td>0.00000</td>\n      <td>0.00000</td>\n      <td>0.00000</td>\n      <td>0.00000</td>\n      <td>0.00000</td>\n      <td>0.00000</td>\n      <td>0.00000</td>\n      <td>0.00000</td>\n      <td>0.00000</td>\n      <td>0.00000</td>\n      <td>0.00000</td>\n      <td>0.00000</td>\n      <td>0.00000</td>\n      <td>0.00000</td>\n      <td>0.00000</td>\n      <td>0.00000</td>\n      <td>0.00000</td>\n      <td>0.00000</td>\n      <td>0.00000</td>\n      <td>0.00000</td>\n      <td>0.00000</td>\n      <td>0.00000</td>\n      <td>0.00000</td>\n      <td>0.00000</td>\n      <td>0.00000</td>\n      <td>0.00000</td>\n      <td>0.00000</td>\n      <td>0.00000</td>\n      <td>0.00000</td>\n      <td>0.00000</td>\n      <td>0.00000</td>\n      <td>255.00000</td>\n      <td>0.00000</td>\n      <td>0.00000</td>\n      <td>0.00000</td>\n      <td>0.00000</td>\n      <td>0.00000</td>\n      <td>attack</td>\n    </tr>\n    <tr>\n      <th>125972</th>\n      <td>0.00000</td>\n      <td>0.00003</td>\n      <td>0.00000</td>\n      <td>0.00000</td>\n      <td>0.00000</td>\n      <td>0.00000</td>\n      <td>0.00000</td>\n      <td>0.00000</td>\n      <td>255.00000</td>\n      <td>0.00000</td>\n      <td>0.00000</td>\n      <td>0.00000</td>\n      <td>0.00000</td>\n      <td>0.00000</td>\n      <td>0.00000</td>\n      <td>0.00000</td>\n      <td>nan</td>\n      <td>0.00000</td>\n      <td>0.00000</td>\n      <td>0.49902</td>\n      <td>0.49902</td>\n      <td>0.00000</td>\n      <td>0.00000</td>\n      <td>0.00000</td>\n      <td>0.00000</td>\n      <td>255.00000</td>\n      <td>0.00000</td>\n      <td>0.00000</td>\n      <td>255.00000</td>\n      <td>77.00000</td>\n      <td>76.50000</td>\n      <td>7.65000</td>\n      <td>76.50000</td>\n      <td>0.00000</td>\n      <td>0.00000</td>\n      <td>0.00000</td>\n      <td>0.00000</td>\n      <td>0.00000</td>\n      <td>0.00000</td>\n      <td>255.00000</td>\n      <td>0.00000</td>\n      <td>0.00000</td>\n      <td>0.00000</td>\n      <td>0.00000</td>\n      <td>0.00000</td>\n      <td>0.00000</td>\n      <td>0.00000</td>\n      <td>0.00000</td>\n      <td>0.00000</td>\n      <td>0.00000</td>\n      <td>0.00000</td>\n      <td>0.00000</td>\n      <td>0.00000</td>\n      <td>0.00000</td>\n      <td>0.00000</td>\n      <td>0.00000</td>\n      <td>0.00000</td>\n      <td>0.00000</td>\n      <td>0.00000</td>\n      <td>0.00000</td>\n      <td>255.00000</td>\n      <td>0.00000</td>\n      <td>0.00000</td>\n      <td>0.00000</td>\n      <td>0.00000</td>\n      <td>0.00000</td>\n      <td>0.00000</td>\n      <td>0.00000</td>\n      <td>0.00000</td>\n      <td>0.00000</td>\n      <td>0.00000</td>\n      <td>0.00000</td>\n      <td>0.00000</td>\n      <td>0.00000</td>\n      <td>0.00000</td>\n      <td>0.00000</td>\n      <td>0.00000</td>\n      <td>0.00000</td>\n      <td>0.00000</td>\n      <td>0.00000</td>\n      <td>0.00000</td>\n      <td>0.00000</td>\n      <td>0.00000</td>\n      <td>0.00000</td>\n      <td>0.00000</td>\n      <td>0.00000</td>\n      <td>0.00000</td>\n      <td>0.00000</td>\n      <td>0.00000</td>\n      <td>0.00000</td>\n      <td>0.00000</td>\n      <td>0.00000</td>\n      <td>0.00000</td>\n      <td>0.00000</td>\n      <td>0.00000</td>\n      <td>0.00000</td>\n      <td>0.00000</td>\n      <td>0.00000</td>\n      <td>0.00000</td>\n      <td>0.00000</td>\n      <td>0.00000</td>\n      <td>0.00000</td>\n      <td>0.00000</td>\n      <td>0.00000</td>\n      <td>0.00000</td>\n      <td>0.00000</td>\n      <td>0.00000</td>\n      <td>0.00000</td>\n      <td>0.00000</td>\n      <td>0.00000</td>\n      <td>0.00000</td>\n      <td>0.00000</td>\n      <td>255.00000</td>\n      <td>0.00000</td>\n      <td>normal</td>\n    </tr>\n  </tbody>\n</table>\n<p>125793 rows × 115 columns</p>\n</div>"
          },
          "metadata": {},
          "execution_count": 17
        }
      ]
    },
    {
      "cell_type": "code",
      "metadata": {
        "colab": {
          "base_uri": "https://localhost:8080/",
          "height": 422
        },
        "id": "EKJ3CKpSTS92",
        "outputId": "86841fc1-7952-4c51-a33d-f944a772f844"
      },
      "source": [
        "edited_xtest['attack_type'] = xtest['attack_type'].values\n",
        "\n",
        "edited_xtest"
      ],
      "execution_count": 18,
      "outputs": [
        {
          "output_type": "execute_result",
          "data": {
            "text/plain": [
              "       duration  src_bytes  dst_bytes    land  wrong_fragment  urgent     hot  \\\n",
              "0       0.00000    0.00000    0.00000 0.00000         0.00000 0.00000 0.00000   \n",
              "1       0.00000    0.00000    0.00000 0.00000         0.00000 0.00000 0.00000   \n",
              "2       0.00884    0.05270    0.00000 0.00000         0.00000 0.00000 0.00000   \n",
              "3       0.00000    0.00008    0.00000 0.00000         0.00000 0.00000 0.00000   \n",
              "4       0.00442    0.00000    0.00284 0.00000         0.00000 0.00000 0.00000   \n",
              "...         ...        ...        ...     ...             ...     ...     ...   \n",
              "22539   0.00000    0.00322    0.06309 0.00000         0.00000 0.00000 0.00000   \n",
              "22540   0.00000    0.00129    0.17771 0.00000         0.00000 0.00000 0.00000   \n",
              "22541   0.00000    0.22137    1.57517 0.00000         0.00000 0.00000 5.04950   \n",
              "22542   0.00000    0.00017    0.00796 0.00000         0.00000 0.00000 0.00000   \n",
              "22543   0.00000    0.00000    0.00000 0.00000         0.00000 0.00000 0.00000   \n",
              "\n",
              "       num_failed_logins  logged_in  num_compromised  root_shell  \\\n",
              "0                0.00000    0.00000          0.00000     0.00000   \n",
              "1                0.00000    0.00000          0.00000     0.00000   \n",
              "2                0.00000    0.00000          0.00000     0.00000   \n",
              "3                0.00000    0.00000          0.00000     0.00000   \n",
              "4                0.00000    0.00000          0.00000     0.00000   \n",
              "...                  ...        ...              ...         ...   \n",
              "22539            0.00000  255.00000          0.00000     0.00000   \n",
              "22540            0.00000  255.00000          0.00000     0.00000   \n",
              "22541            0.00000  255.00000          0.32035     0.00000   \n",
              "22542            0.00000    0.00000          0.00000     0.00000   \n",
              "22543            0.00000    0.00000          0.00000     0.00000   \n",
              "\n",
              "       su_attempted  num_root  num_file_creations  num_shells  \\\n",
              "0           0.00000   0.00000             0.00000     0.00000   \n",
              "1           0.00000   0.00000             0.00000     0.00000   \n",
              "2           0.00000   0.00000             0.00000     0.00000   \n",
              "3           0.00000   0.00000             0.00000     0.00000   \n",
              "4           0.00000   0.00000             0.00000     0.00000   \n",
              "...             ...       ...                 ...         ...   \n",
              "22539       0.00000   0.00000             0.00000     0.00000   \n",
              "22540       0.00000   0.00000             0.00000     0.00000   \n",
              "22541       0.00000   0.00000             0.00000     0.00000   \n",
              "22542       0.00000   0.00000             0.00000     0.00000   \n",
              "22543       0.00000   0.00000             0.00000     0.00000   \n",
              "\n",
              "       num_access_files  num_outbound_cmds  is_host_login  is_guest_login  \\\n",
              "0               0.00000                nan        0.00000         0.00000   \n",
              "1               0.00000                nan        0.00000         0.00000   \n",
              "2               0.00000                nan        0.00000         0.00000   \n",
              "3               0.00000                nan        0.00000         0.00000   \n",
              "4               0.00000                nan        0.00000         0.00000   \n",
              "...                 ...                ...            ...             ...   \n",
              "22539           0.00000                nan        0.00000         0.00000   \n",
              "22540           0.00000                nan        0.00000         0.00000   \n",
              "22541           0.00000                nan        0.00000         0.00000   \n",
              "22542           0.00000                nan        0.00000         0.00000   \n",
              "22543           0.00000                nan        0.00000         0.00000   \n",
              "\n",
              "          count  srv_count  serror_rate  srv_serror_rate  rerror_rate  \\\n",
              "0     114.27593    4.99022      0.00000          0.00000    255.00000   \n",
              "1      67.86693    0.49902      0.00000          0.00000    255.00000   \n",
              "2       0.49902    0.49902      0.00000          0.00000      0.00000   \n",
              "3       0.49902   32.43640      0.00000          0.00000      0.00000   \n",
              "4       0.49902    3.99217      0.00000         30.60000    255.00000   \n",
              "...         ...        ...          ...              ...          ...   \n",
              "22539   0.49902    0.49902      0.00000          0.00000      0.00000   \n",
              "22540   0.99804    5.48924      0.00000          0.00000      0.00000   \n",
              "22541   2.49511    4.99022      0.00000          0.00000      0.00000   \n",
              "22542   1.99609    2.99413      0.00000          0.00000      0.00000   \n",
              "22543   1.99609    4.99022      0.00000          0.00000    255.00000   \n",
              "\n",
              "       srv_rerror_rate  same_srv_rate  diff_srv_rate  srv_diff_host_rate  \\\n",
              "0            255.00000       10.20000       15.30000             0.00000   \n",
              "1            255.00000        2.55000       15.30000             0.00000   \n",
              "2              0.00000      255.00000        0.00000             0.00000   \n",
              "3              0.00000      255.00000        0.00000           255.00000   \n",
              "4            127.50000      255.00000        0.00000           191.25000   \n",
              "...                ...            ...            ...                 ...   \n",
              "22539          0.00000      255.00000        0.00000             0.00000   \n",
              "22540          0.00000      255.00000        0.00000            45.90000   \n",
              "22541          0.00000      255.00000        0.00000            51.00000   \n",
              "22542          0.00000      255.00000        0.00000            84.15000   \n",
              "22543        255.00000       63.75000      255.00000           255.00000   \n",
              "\n",
              "       dst_host_count  dst_host_srv_count  dst_host_same_srv_rate  \\\n",
              "0           255.00000            10.00000                10.20000   \n",
              "1           255.00000             1.00000                 0.00000   \n",
              "2           134.00000            86.00000               155.55000   \n",
              "3             3.00000            57.00000               255.00000   \n",
              "4            29.00000            86.00000                79.05000   \n",
              "...               ...                 ...                     ...   \n",
              "22539       100.00000           141.00000               183.60000   \n",
              "22540       197.00000           255.00000               255.00000   \n",
              "22541       255.00000           255.00000               255.00000   \n",
              "22542       255.00000           252.00000               252.45000   \n",
              "22543       255.00000            21.00000                20.40000   \n",
              "\n",
              "       dst_host_diff_srv_rate  dst_host_same_src_port_rate  \\\n",
              "0                    15.30000                      0.00000   \n",
              "1                    15.30000                      0.00000   \n",
              "2                    10.20000                    155.55000   \n",
              "3                     0.00000                    255.00000   \n",
              "4                    43.35000                      7.65000   \n",
              "...                       ...                          ...   \n",
              "22539                15.30000                      2.55000   \n",
              "22540                 0.00000                      2.55000   \n",
              "22541                 0.00000                      0.00000   \n",
              "22542                 2.55000                      0.00000   \n",
              "22543                 7.65000                      0.00000   \n",
              "\n",
              "       dst_host_srv_diff_host_rate  dst_host_serror_rate  \\\n",
              "0                          0.00000               0.00000   \n",
              "1                          0.00000               0.00000   \n",
              "2                          5.10000               0.00000   \n",
              "3                         71.40000               0.00000   \n",
              "4                          5.10000               0.00000   \n",
              "...                            ...                   ...   \n",
              "22539                      2.55000               2.55000   \n",
              "22540                      2.55000               2.55000   \n",
              "22541                      0.00000               0.00000   \n",
              "22542                      0.00000               0.00000   \n",
              "22543                      0.00000               0.00000   \n",
              "\n",
              "       dst_host_srv_serror_rate  dst_host_rerror_rate  \\\n",
              "0                       0.00000             255.00000   \n",
              "1                       0.00000             255.00000   \n",
              "2                       0.00000               0.00000   \n",
              "3                       0.00000               0.00000   \n",
              "4                       0.00000             211.65000   \n",
              "...                         ...                   ...   \n",
              "22539                   0.00000               0.00000   \n",
              "22540                   0.00000               0.00000   \n",
              "22541                   0.00000              17.85000   \n",
              "22542                   0.00000               0.00000   \n",
              "22543                   0.00000             112.20000   \n",
              "\n",
              "       dst_host_srv_rerror_rate      icmp       tcp       udp     IRC     X11  \\\n",
              "0                     255.00000   0.00000 255.00000   0.00000 0.00000 0.00000   \n",
              "1                     255.00000   0.00000 255.00000   0.00000 0.00000 0.00000   \n",
              "2                       0.00000   0.00000 255.00000   0.00000 0.00000 0.00000   \n",
              "3                       0.00000 255.00000   0.00000   0.00000 0.00000 0.00000   \n",
              "4                     181.05000   0.00000 255.00000   0.00000 0.00000 0.00000   \n",
              "...                         ...       ...       ...       ...     ...     ...   \n",
              "22539                   0.00000   0.00000 255.00000   0.00000 0.00000 0.00000   \n",
              "22540                   0.00000   0.00000 255.00000   0.00000 0.00000 0.00000   \n",
              "22541                  17.85000   0.00000 255.00000   0.00000 0.00000 0.00000   \n",
              "22542                   0.00000   0.00000   0.00000 255.00000 0.00000 0.00000   \n",
              "22543                 255.00000   0.00000 255.00000   0.00000 0.00000 0.00000   \n",
              "\n",
              "       Z39_50    auth     bgp  courier  csnet_ns     ctf  daytime  discard  \\\n",
              "0     0.00000 0.00000 0.00000  0.00000   0.00000 0.00000  0.00000  0.00000   \n",
              "1     0.00000 0.00000 0.00000  0.00000   0.00000 0.00000  0.00000  0.00000   \n",
              "2     0.00000 0.00000 0.00000  0.00000   0.00000 0.00000  0.00000  0.00000   \n",
              "3     0.00000 0.00000 0.00000  0.00000   0.00000 0.00000  0.00000  0.00000   \n",
              "4     0.00000 0.00000 0.00000  0.00000   0.00000 0.00000  0.00000  0.00000   \n",
              "...       ...     ...     ...      ...       ...     ...      ...      ...   \n",
              "22539 0.00000 0.00000 0.00000  0.00000   0.00000 0.00000  0.00000  0.00000   \n",
              "22540 0.00000 0.00000 0.00000  0.00000   0.00000 0.00000  0.00000  0.00000   \n",
              "22541 0.00000 0.00000 0.00000  0.00000   0.00000 0.00000  0.00000  0.00000   \n",
              "22542 0.00000 0.00000 0.00000  0.00000   0.00000 0.00000  0.00000  0.00000   \n",
              "22543 0.00000 0.00000 0.00000  0.00000   0.00000 0.00000  0.00000  0.00000   \n",
              "\n",
              "       domain  domain_u    echo     eco_i   ecr_i     efs    exec  finger  \\\n",
              "0     0.00000   0.00000 0.00000   0.00000 0.00000 0.00000 0.00000 0.00000   \n",
              "1     0.00000   0.00000 0.00000   0.00000 0.00000 0.00000 0.00000 0.00000   \n",
              "2     0.00000   0.00000 0.00000   0.00000 0.00000 0.00000 0.00000 0.00000   \n",
              "3     0.00000   0.00000 0.00000 255.00000 0.00000 0.00000 0.00000 0.00000   \n",
              "4     0.00000   0.00000 0.00000   0.00000 0.00000 0.00000 0.00000 0.00000   \n",
              "...       ...       ...     ...       ...     ...     ...     ...     ...   \n",
              "22539 0.00000   0.00000 0.00000   0.00000 0.00000 0.00000 0.00000 0.00000   \n",
              "22540 0.00000   0.00000 0.00000   0.00000 0.00000 0.00000 0.00000 0.00000   \n",
              "22541 0.00000   0.00000 0.00000   0.00000 0.00000 0.00000 0.00000 0.00000   \n",
              "22542 0.00000 255.00000 0.00000   0.00000 0.00000 0.00000 0.00000 0.00000   \n",
              "22543 0.00000   0.00000 0.00000   0.00000 0.00000 0.00000 0.00000 0.00000   \n",
              "\n",
              "          ftp  ftp_data  gopher  hostnames      http  http_443   imap4  \\\n",
              "0     0.00000   0.00000 0.00000    0.00000   0.00000   0.00000 0.00000   \n",
              "1     0.00000   0.00000 0.00000    0.00000   0.00000   0.00000 0.00000   \n",
              "2     0.00000 255.00000 0.00000    0.00000   0.00000   0.00000 0.00000   \n",
              "3     0.00000   0.00000 0.00000    0.00000   0.00000   0.00000 0.00000   \n",
              "4     0.00000   0.00000 0.00000    0.00000   0.00000   0.00000 0.00000   \n",
              "...       ...       ...     ...        ...       ...       ...     ...   \n",
              "22539 0.00000   0.00000 0.00000    0.00000   0.00000   0.00000 0.00000   \n",
              "22540 0.00000   0.00000 0.00000    0.00000 255.00000   0.00000 0.00000   \n",
              "22541 0.00000   0.00000 0.00000    0.00000 255.00000   0.00000 0.00000   \n",
              "22542 0.00000   0.00000 0.00000    0.00000   0.00000   0.00000 0.00000   \n",
              "22543 0.00000   0.00000 0.00000    0.00000   0.00000   0.00000 0.00000   \n",
              "\n",
              "       iso_tsap  klogin  kshell    ldap    link   login     mtp    name  \\\n",
              "0       0.00000 0.00000 0.00000 0.00000 0.00000 0.00000 0.00000 0.00000   \n",
              "1       0.00000 0.00000 0.00000 0.00000 0.00000 0.00000 0.00000 0.00000   \n",
              "2       0.00000 0.00000 0.00000 0.00000 0.00000 0.00000 0.00000 0.00000   \n",
              "3       0.00000 0.00000 0.00000 0.00000 0.00000 0.00000 0.00000 0.00000   \n",
              "4       0.00000 0.00000 0.00000 0.00000 0.00000 0.00000 0.00000 0.00000   \n",
              "...         ...     ...     ...     ...     ...     ...     ...     ...   \n",
              "22539   0.00000 0.00000 0.00000 0.00000 0.00000 0.00000 0.00000 0.00000   \n",
              "22540   0.00000 0.00000 0.00000 0.00000 0.00000 0.00000 0.00000 0.00000   \n",
              "22541   0.00000 0.00000 0.00000 0.00000 0.00000 0.00000 0.00000 0.00000   \n",
              "22542   0.00000 0.00000 0.00000 0.00000 0.00000 0.00000 0.00000 0.00000   \n",
              "22543   0.00000 0.00000 0.00000 0.00000 0.00000 0.00000 0.00000 0.00000   \n",
              "\n",
              "       netbios_dgm  netbios_ns  netbios_ssn  netstat    nnsp    nntp   ntp_u  \\\n",
              "0          0.00000     0.00000      0.00000  0.00000 0.00000 0.00000 0.00000   \n",
              "1          0.00000     0.00000      0.00000  0.00000 0.00000 0.00000 0.00000   \n",
              "2          0.00000     0.00000      0.00000  0.00000 0.00000 0.00000 0.00000   \n",
              "3          0.00000     0.00000      0.00000  0.00000 0.00000 0.00000 0.00000   \n",
              "4          0.00000     0.00000      0.00000  0.00000 0.00000 0.00000 0.00000   \n",
              "...            ...         ...          ...      ...     ...     ...     ...   \n",
              "22539      0.00000     0.00000      0.00000  0.00000 0.00000 0.00000 0.00000   \n",
              "22540      0.00000     0.00000      0.00000  0.00000 0.00000 0.00000 0.00000   \n",
              "22541      0.00000     0.00000      0.00000  0.00000 0.00000 0.00000 0.00000   \n",
              "22542      0.00000     0.00000      0.00000  0.00000 0.00000 0.00000 0.00000   \n",
              "22543      0.00000     0.00000      0.00000  0.00000 0.00000 0.00000 0.00000   \n",
              "\n",
              "        other  pm_dump   pop_2   pop_3   private  remote_job   shell  \\\n",
              "0     0.00000  0.00000 0.00000 0.00000 255.00000     0.00000 0.00000   \n",
              "1     0.00000  0.00000 0.00000 0.00000 255.00000     0.00000 0.00000   \n",
              "2     0.00000  0.00000 0.00000 0.00000   0.00000     0.00000 0.00000   \n",
              "3     0.00000  0.00000 0.00000 0.00000   0.00000     0.00000 0.00000   \n",
              "4     0.00000  0.00000 0.00000 0.00000   0.00000     0.00000 0.00000   \n",
              "...       ...      ...     ...     ...       ...         ...     ...   \n",
              "22539 0.00000  0.00000 0.00000 0.00000   0.00000     0.00000 0.00000   \n",
              "22540 0.00000  0.00000 0.00000 0.00000   0.00000     0.00000 0.00000   \n",
              "22541 0.00000  0.00000 0.00000 0.00000   0.00000     0.00000 0.00000   \n",
              "22542 0.00000  0.00000 0.00000 0.00000   0.00000     0.00000 0.00000   \n",
              "22543 0.00000  0.00000 0.00000 0.00000   0.00000     0.00000 0.00000   \n",
              "\n",
              "           smtp  sql_net     ssh    sunrpc  supdup  systat    telnet  tftp_u  \\\n",
              "0       0.00000  0.00000 0.00000   0.00000 0.00000 0.00000   0.00000 0.00000   \n",
              "1       0.00000  0.00000 0.00000   0.00000 0.00000 0.00000   0.00000 0.00000   \n",
              "2       0.00000  0.00000 0.00000   0.00000 0.00000 0.00000   0.00000 0.00000   \n",
              "3       0.00000  0.00000 0.00000   0.00000 0.00000 0.00000   0.00000 0.00000   \n",
              "4       0.00000  0.00000 0.00000   0.00000 0.00000 0.00000 255.00000 0.00000   \n",
              "...         ...      ...     ...       ...     ...     ...       ...     ...   \n",
              "22539 255.00000  0.00000 0.00000   0.00000 0.00000 0.00000   0.00000 0.00000   \n",
              "22540   0.00000  0.00000 0.00000   0.00000 0.00000 0.00000   0.00000 0.00000   \n",
              "22541   0.00000  0.00000 0.00000   0.00000 0.00000 0.00000   0.00000 0.00000   \n",
              "22542   0.00000  0.00000 0.00000   0.00000 0.00000 0.00000   0.00000 0.00000   \n",
              "22543   0.00000  0.00000 0.00000 255.00000 0.00000 0.00000   0.00000 0.00000   \n",
              "\n",
              "        tim_i    time   urp_i    uucp  uucp_path   vmnet   whois     OTH  \\\n",
              "0     0.00000 0.00000 0.00000 0.00000    0.00000 0.00000 0.00000 0.00000   \n",
              "1     0.00000 0.00000 0.00000 0.00000    0.00000 0.00000 0.00000 0.00000   \n",
              "2     0.00000 0.00000 0.00000 0.00000    0.00000 0.00000 0.00000 0.00000   \n",
              "3     0.00000 0.00000 0.00000 0.00000    0.00000 0.00000 0.00000 0.00000   \n",
              "4     0.00000 0.00000 0.00000 0.00000    0.00000 0.00000 0.00000 0.00000   \n",
              "...       ...     ...     ...     ...        ...     ...     ...     ...   \n",
              "22539 0.00000 0.00000 0.00000 0.00000    0.00000 0.00000 0.00000 0.00000   \n",
              "22540 0.00000 0.00000 0.00000 0.00000    0.00000 0.00000 0.00000 0.00000   \n",
              "22541 0.00000 0.00000 0.00000 0.00000    0.00000 0.00000 0.00000 0.00000   \n",
              "22542 0.00000 0.00000 0.00000 0.00000    0.00000 0.00000 0.00000 0.00000   \n",
              "22543 0.00000 0.00000 0.00000 0.00000    0.00000 0.00000 0.00000 0.00000   \n",
              "\n",
              "            REJ      RSTO  RSTOS0    RSTR      S0      S1      S2      S3  \\\n",
              "0     255.00000   0.00000 0.00000 0.00000 0.00000 0.00000 0.00000 0.00000   \n",
              "1     255.00000   0.00000 0.00000 0.00000 0.00000 0.00000 0.00000 0.00000   \n",
              "2       0.00000   0.00000 0.00000 0.00000 0.00000 0.00000 0.00000 0.00000   \n",
              "3       0.00000   0.00000 0.00000 0.00000 0.00000 0.00000 0.00000 0.00000   \n",
              "4       0.00000 255.00000 0.00000 0.00000 0.00000 0.00000 0.00000 0.00000   \n",
              "...         ...       ...     ...     ...     ...     ...     ...     ...   \n",
              "22539   0.00000   0.00000 0.00000 0.00000 0.00000 0.00000 0.00000 0.00000   \n",
              "22540   0.00000   0.00000 0.00000 0.00000 0.00000 0.00000 0.00000 0.00000   \n",
              "22541   0.00000   0.00000 0.00000 0.00000 0.00000 0.00000 0.00000 0.00000   \n",
              "22542   0.00000   0.00000 0.00000 0.00000 0.00000 0.00000 0.00000 0.00000   \n",
              "22543 255.00000   0.00000 0.00000 0.00000 0.00000 0.00000 0.00000 0.00000   \n",
              "\n",
              "             SF      SH attack_type  \n",
              "0       0.00000 0.00000      attack  \n",
              "1       0.00000 0.00000      attack  \n",
              "2     255.00000 0.00000      normal  \n",
              "3     255.00000 0.00000      attack  \n",
              "4       0.00000 0.00000      attack  \n",
              "...         ...     ...         ...  \n",
              "22539 255.00000 0.00000      normal  \n",
              "22540 255.00000 0.00000      normal  \n",
              "22541 255.00000 0.00000      attack  \n",
              "22542 255.00000 0.00000      normal  \n",
              "22543   0.00000 0.00000      attack  \n",
              "\n",
              "[22525 rows x 115 columns]"
            ],
            "text/html": "<div>\n<style scoped>\n    .dataframe tbody tr th:only-of-type {\n        vertical-align: middle;\n    }\n\n    .dataframe tbody tr th {\n        vertical-align: top;\n    }\n\n    .dataframe thead th {\n        text-align: right;\n    }\n</style>\n<table border=\"1\" class=\"dataframe\">\n  <thead>\n    <tr style=\"text-align: right;\">\n      <th></th>\n      <th>duration</th>\n      <th>src_bytes</th>\n      <th>dst_bytes</th>\n      <th>land</th>\n      <th>wrong_fragment</th>\n      <th>urgent</th>\n      <th>hot</th>\n      <th>num_failed_logins</th>\n      <th>logged_in</th>\n      <th>num_compromised</th>\n      <th>root_shell</th>\n      <th>su_attempted</th>\n      <th>num_root</th>\n      <th>num_file_creations</th>\n      <th>num_shells</th>\n      <th>num_access_files</th>\n      <th>num_outbound_cmds</th>\n      <th>is_host_login</th>\n      <th>is_guest_login</th>\n      <th>count</th>\n      <th>srv_count</th>\n      <th>serror_rate</th>\n      <th>srv_serror_rate</th>\n      <th>rerror_rate</th>\n      <th>srv_rerror_rate</th>\n      <th>same_srv_rate</th>\n      <th>diff_srv_rate</th>\n      <th>srv_diff_host_rate</th>\n      <th>dst_host_count</th>\n      <th>dst_host_srv_count</th>\n      <th>dst_host_same_srv_rate</th>\n      <th>dst_host_diff_srv_rate</th>\n      <th>dst_host_same_src_port_rate</th>\n      <th>dst_host_srv_diff_host_rate</th>\n      <th>dst_host_serror_rate</th>\n      <th>dst_host_srv_serror_rate</th>\n      <th>dst_host_rerror_rate</th>\n      <th>dst_host_srv_rerror_rate</th>\n      <th>icmp</th>\n      <th>tcp</th>\n      <th>udp</th>\n      <th>IRC</th>\n      <th>X11</th>\n      <th>Z39_50</th>\n      <th>auth</th>\n      <th>bgp</th>\n      <th>courier</th>\n      <th>csnet_ns</th>\n      <th>ctf</th>\n      <th>daytime</th>\n      <th>discard</th>\n      <th>domain</th>\n      <th>domain_u</th>\n      <th>echo</th>\n      <th>eco_i</th>\n      <th>ecr_i</th>\n      <th>efs</th>\n      <th>exec</th>\n      <th>finger</th>\n      <th>ftp</th>\n      <th>ftp_data</th>\n      <th>gopher</th>\n      <th>hostnames</th>\n      <th>http</th>\n      <th>http_443</th>\n      <th>imap4</th>\n      <th>iso_tsap</th>\n      <th>klogin</th>\n      <th>kshell</th>\n      <th>ldap</th>\n      <th>link</th>\n      <th>login</th>\n      <th>mtp</th>\n      <th>name</th>\n      <th>netbios_dgm</th>\n      <th>netbios_ns</th>\n      <th>netbios_ssn</th>\n      <th>netstat</th>\n      <th>nnsp</th>\n      <th>nntp</th>\n      <th>ntp_u</th>\n      <th>other</th>\n      <th>pm_dump</th>\n      <th>pop_2</th>\n      <th>pop_3</th>\n      <th>private</th>\n      <th>remote_job</th>\n      <th>shell</th>\n      <th>smtp</th>\n      <th>sql_net</th>\n      <th>ssh</th>\n      <th>sunrpc</th>\n      <th>supdup</th>\n      <th>systat</th>\n      <th>telnet</th>\n      <th>tftp_u</th>\n      <th>tim_i</th>\n      <th>time</th>\n      <th>urp_i</th>\n      <th>uucp</th>\n      <th>uucp_path</th>\n      <th>vmnet</th>\n      <th>whois</th>\n      <th>OTH</th>\n      <th>REJ</th>\n      <th>RSTO</th>\n      <th>RSTOS0</th>\n      <th>RSTR</th>\n      <th>S0</th>\n      <th>S1</th>\n      <th>S2</th>\n      <th>S3</th>\n      <th>SF</th>\n      <th>SH</th>\n      <th>attack_type</th>\n    </tr>\n  </thead>\n  <tbody>\n    <tr>\n      <th>0</th>\n      <td>0.00000</td>\n      <td>0.00000</td>\n      <td>0.00000</td>\n      <td>0.00000</td>\n      <td>0.00000</td>\n      <td>0.00000</td>\n      <td>0.00000</td>\n      <td>0.00000</td>\n      <td>0.00000</td>\n      <td>0.00000</td>\n      <td>0.00000</td>\n      <td>0.00000</td>\n      <td>0.00000</td>\n      <td>0.00000</td>\n      <td>0.00000</td>\n      <td>0.00000</td>\n      <td>nan</td>\n      <td>0.00000</td>\n      <td>0.00000</td>\n      <td>114.27593</td>\n      <td>4.99022</td>\n      <td>0.00000</td>\n      <td>0.00000</td>\n      <td>255.00000</td>\n      <td>255.00000</td>\n      <td>10.20000</td>\n      <td>15.30000</td>\n      <td>0.00000</td>\n      <td>255.00000</td>\n      <td>10.00000</td>\n      <td>10.20000</td>\n      <td>15.30000</td>\n      <td>0.00000</td>\n      <td>0.00000</td>\n      <td>0.00000</td>\n      <td>0.00000</td>\n      <td>255.00000</td>\n      <td>255.00000</td>\n      <td>0.00000</td>\n      <td>255.00000</td>\n      <td>0.00000</td>\n      <td>0.00000</td>\n      <td>0.00000</td>\n      <td>0.00000</td>\n      <td>0.00000</td>\n      <td>0.00000</td>\n      <td>0.00000</td>\n      <td>0.00000</td>\n      <td>0.00000</td>\n      <td>0.00000</td>\n      <td>0.00000</td>\n      <td>0.00000</td>\n      <td>0.00000</td>\n      <td>0.00000</td>\n      <td>0.00000</td>\n      <td>0.00000</td>\n      <td>0.00000</td>\n      <td>0.00000</td>\n      <td>0.00000</td>\n      <td>0.00000</td>\n      <td>0.00000</td>\n      <td>0.00000</td>\n      <td>0.00000</td>\n      <td>0.00000</td>\n      <td>0.00000</td>\n      <td>0.00000</td>\n      <td>0.00000</td>\n      <td>0.00000</td>\n      <td>0.00000</td>\n      <td>0.00000</td>\n      <td>0.00000</td>\n      <td>0.00000</td>\n      <td>0.00000</td>\n      <td>0.00000</td>\n      <td>0.00000</td>\n      <td>0.00000</td>\n      <td>0.00000</td>\n      <td>0.00000</td>\n      <td>0.00000</td>\n      <td>0.00000</td>\n      <td>0.00000</td>\n      <td>0.00000</td>\n      <td>0.00000</td>\n      <td>0.00000</td>\n      <td>0.00000</td>\n      <td>255.00000</td>\n      <td>0.00000</td>\n      <td>0.00000</td>\n      <td>0.00000</td>\n      <td>0.00000</td>\n      <td>0.00000</td>\n      <td>0.00000</td>\n      <td>0.00000</td>\n      <td>0.00000</td>\n      <td>0.00000</td>\n      <td>0.00000</td>\n      <td>0.00000</td>\n      <td>0.00000</td>\n      <td>0.00000</td>\n      <td>0.00000</td>\n      <td>0.00000</td>\n      <td>0.00000</td>\n      <td>0.00000</td>\n      <td>0.00000</td>\n      <td>255.00000</td>\n      <td>0.00000</td>\n      <td>0.00000</td>\n      <td>0.00000</td>\n      <td>0.00000</td>\n      <td>0.00000</td>\n      <td>0.00000</td>\n      <td>0.00000</td>\n      <td>0.00000</td>\n      <td>0.00000</td>\n      <td>attack</td>\n    </tr>\n    <tr>\n      <th>1</th>\n      <td>0.00000</td>\n      <td>0.00000</td>\n      <td>0.00000</td>\n      <td>0.00000</td>\n      <td>0.00000</td>\n      <td>0.00000</td>\n      <td>0.00000</td>\n      <td>0.00000</td>\n      <td>0.00000</td>\n      <td>0.00000</td>\n      <td>0.00000</td>\n      <td>0.00000</td>\n      <td>0.00000</td>\n      <td>0.00000</td>\n      <td>0.00000</td>\n      <td>0.00000</td>\n      <td>nan</td>\n      <td>0.00000</td>\n      <td>0.00000</td>\n      <td>67.86693</td>\n      <td>0.49902</td>\n      <td>0.00000</td>\n      <td>0.00000</td>\n      <td>255.00000</td>\n      <td>255.00000</td>\n      <td>2.55000</td>\n      <td>15.30000</td>\n      <td>0.00000</td>\n      <td>255.00000</td>\n      <td>1.00000</td>\n      <td>0.00000</td>\n      <td>15.30000</td>\n      <td>0.00000</td>\n      <td>0.00000</td>\n      <td>0.00000</td>\n      <td>0.00000</td>\n      <td>255.00000</td>\n      <td>255.00000</td>\n      <td>0.00000</td>\n      <td>255.00000</td>\n      <td>0.00000</td>\n      <td>0.00000</td>\n      <td>0.00000</td>\n      <td>0.00000</td>\n      <td>0.00000</td>\n      <td>0.00000</td>\n      <td>0.00000</td>\n      <td>0.00000</td>\n      <td>0.00000</td>\n      <td>0.00000</td>\n      <td>0.00000</td>\n      <td>0.00000</td>\n      <td>0.00000</td>\n      <td>0.00000</td>\n      <td>0.00000</td>\n      <td>0.00000</td>\n      <td>0.00000</td>\n      <td>0.00000</td>\n      <td>0.00000</td>\n      <td>0.00000</td>\n      <td>0.00000</td>\n      <td>0.00000</td>\n      <td>0.00000</td>\n      <td>0.00000</td>\n      <td>0.00000</td>\n      <td>0.00000</td>\n      <td>0.00000</td>\n      <td>0.00000</td>\n      <td>0.00000</td>\n      <td>0.00000</td>\n      <td>0.00000</td>\n      <td>0.00000</td>\n      <td>0.00000</td>\n      <td>0.00000</td>\n      <td>0.00000</td>\n      <td>0.00000</td>\n      <td>0.00000</td>\n      <td>0.00000</td>\n      <td>0.00000</td>\n      <td>0.00000</td>\n      <td>0.00000</td>\n      <td>0.00000</td>\n      <td>0.00000</td>\n      <td>0.00000</td>\n      <td>0.00000</td>\n      <td>255.00000</td>\n      <td>0.00000</td>\n      <td>0.00000</td>\n      <td>0.00000</td>\n      <td>0.00000</td>\n      <td>0.00000</td>\n      <td>0.00000</td>\n      <td>0.00000</td>\n      <td>0.00000</td>\n      <td>0.00000</td>\n      <td>0.00000</td>\n      <td>0.00000</td>\n      <td>0.00000</td>\n      <td>0.00000</td>\n      <td>0.00000</td>\n      <td>0.00000</td>\n      <td>0.00000</td>\n      <td>0.00000</td>\n      <td>0.00000</td>\n      <td>255.00000</td>\n      <td>0.00000</td>\n      <td>0.00000</td>\n      <td>0.00000</td>\n      <td>0.00000</td>\n      <td>0.00000</td>\n      <td>0.00000</td>\n      <td>0.00000</td>\n      <td>0.00000</td>\n      <td>0.00000</td>\n      <td>attack</td>\n    </tr>\n    <tr>\n      <th>2</th>\n      <td>0.00884</td>\n      <td>0.05270</td>\n      <td>0.00000</td>\n      <td>0.00000</td>\n      <td>0.00000</td>\n      <td>0.00000</td>\n      <td>0.00000</td>\n      <td>0.00000</td>\n      <td>0.00000</td>\n      <td>0.00000</td>\n      <td>0.00000</td>\n      <td>0.00000</td>\n      <td>0.00000</td>\n      <td>0.00000</td>\n      <td>0.00000</td>\n      <td>0.00000</td>\n      <td>nan</td>\n      <td>0.00000</td>\n      <td>0.00000</td>\n      <td>0.49902</td>\n      <td>0.49902</td>\n      <td>0.00000</td>\n      <td>0.00000</td>\n      <td>0.00000</td>\n      <td>0.00000</td>\n      <td>255.00000</td>\n      <td>0.00000</td>\n      <td>0.00000</td>\n      <td>134.00000</td>\n      <td>86.00000</td>\n      <td>155.55000</td>\n      <td>10.20000</td>\n      <td>155.55000</td>\n      <td>5.10000</td>\n      <td>0.00000</td>\n      <td>0.00000</td>\n      <td>0.00000</td>\n      <td>0.00000</td>\n      <td>0.00000</td>\n      <td>255.00000</td>\n      <td>0.00000</td>\n      <td>0.00000</td>\n      <td>0.00000</td>\n      <td>0.00000</td>\n      <td>0.00000</td>\n      <td>0.00000</td>\n      <td>0.00000</td>\n      <td>0.00000</td>\n      <td>0.00000</td>\n      <td>0.00000</td>\n      <td>0.00000</td>\n      <td>0.00000</td>\n      <td>0.00000</td>\n      <td>0.00000</td>\n      <td>0.00000</td>\n      <td>0.00000</td>\n      <td>0.00000</td>\n      <td>0.00000</td>\n      <td>0.00000</td>\n      <td>0.00000</td>\n      <td>255.00000</td>\n      <td>0.00000</td>\n      <td>0.00000</td>\n      <td>0.00000</td>\n      <td>0.00000</td>\n      <td>0.00000</td>\n      <td>0.00000</td>\n      <td>0.00000</td>\n      <td>0.00000</td>\n      <td>0.00000</td>\n      <td>0.00000</td>\n      <td>0.00000</td>\n      <td>0.00000</td>\n      <td>0.00000</td>\n      <td>0.00000</td>\n      <td>0.00000</td>\n      <td>0.00000</td>\n      <td>0.00000</td>\n      <td>0.00000</td>\n      <td>0.00000</td>\n      <td>0.00000</td>\n      <td>0.00000</td>\n      <td>0.00000</td>\n      <td>0.00000</td>\n      <td>0.00000</td>\n      <td>0.00000</td>\n      <td>0.00000</td>\n      <td>0.00000</td>\n      <td>0.00000</td>\n      <td>0.00000</td>\n      <td>0.00000</td>\n      <td>0.00000</td>\n      <td>0.00000</td>\n      <td>0.00000</td>\n      <td>0.00000</td>\n      <td>0.00000</td>\n      <td>0.00000</td>\n      <td>0.00000</td>\n      <td>0.00000</td>\n      <td>0.00000</td>\n      <td>0.00000</td>\n      <td>0.00000</td>\n      <td>0.00000</td>\n      <td>0.00000</td>\n      <td>0.00000</td>\n      <td>0.00000</td>\n      <td>0.00000</td>\n      <td>0.00000</td>\n      <td>0.00000</td>\n      <td>0.00000</td>\n      <td>0.00000</td>\n      <td>0.00000</td>\n      <td>255.00000</td>\n      <td>0.00000</td>\n      <td>normal</td>\n    </tr>\n    <tr>\n      <th>3</th>\n      <td>0.00000</td>\n      <td>0.00008</td>\n      <td>0.00000</td>\n      <td>0.00000</td>\n      <td>0.00000</td>\n      <td>0.00000</td>\n      <td>0.00000</td>\n      <td>0.00000</td>\n      <td>0.00000</td>\n      <td>0.00000</td>\n      <td>0.00000</td>\n      <td>0.00000</td>\n      <td>0.00000</td>\n      <td>0.00000</td>\n      <td>0.00000</td>\n      <td>0.00000</td>\n      <td>nan</td>\n      <td>0.00000</td>\n      <td>0.00000</td>\n      <td>0.49902</td>\n      <td>32.43640</td>\n      <td>0.00000</td>\n      <td>0.00000</td>\n      <td>0.00000</td>\n      <td>0.00000</td>\n      <td>255.00000</td>\n      <td>0.00000</td>\n      <td>255.00000</td>\n      <td>3.00000</td>\n      <td>57.00000</td>\n      <td>255.00000</td>\n      <td>0.00000</td>\n      <td>255.00000</td>\n      <td>71.40000</td>\n      <td>0.00000</td>\n      <td>0.00000</td>\n      <td>0.00000</td>\n      <td>0.00000</td>\n      <td>255.00000</td>\n      <td>0.00000</td>\n      <td>0.00000</td>\n      <td>0.00000</td>\n      <td>0.00000</td>\n      <td>0.00000</td>\n      <td>0.00000</td>\n      <td>0.00000</td>\n      <td>0.00000</td>\n      <td>0.00000</td>\n      <td>0.00000</td>\n      <td>0.00000</td>\n      <td>0.00000</td>\n      <td>0.00000</td>\n      <td>0.00000</td>\n      <td>0.00000</td>\n      <td>255.00000</td>\n      <td>0.00000</td>\n      <td>0.00000</td>\n      <td>0.00000</td>\n      <td>0.00000</td>\n      <td>0.00000</td>\n      <td>0.00000</td>\n      <td>0.00000</td>\n      <td>0.00000</td>\n      <td>0.00000</td>\n      <td>0.00000</td>\n      <td>0.00000</td>\n      <td>0.00000</td>\n      <td>0.00000</td>\n      <td>0.00000</td>\n      <td>0.00000</td>\n      <td>0.00000</td>\n      <td>0.00000</td>\n      <td>0.00000</td>\n      <td>0.00000</td>\n      <td>0.00000</td>\n      <td>0.00000</td>\n      <td>0.00000</td>\n      <td>0.00000</td>\n      <td>0.00000</td>\n      <td>0.00000</td>\n      <td>0.00000</td>\n      <td>0.00000</td>\n      <td>0.00000</td>\n      <td>0.00000</td>\n      <td>0.00000</td>\n      <td>0.00000</td>\n      <td>0.00000</td>\n      <td>0.00000</td>\n      <td>0.00000</td>\n      <td>0.00000</td>\n      <td>0.00000</td>\n      <td>0.00000</td>\n      <td>0.00000</td>\n      <td>0.00000</td>\n      <td>0.00000</td>\n      <td>0.00000</td>\n      <td>0.00000</td>\n      <td>0.00000</td>\n      <td>0.00000</td>\n      <td>0.00000</td>\n      <td>0.00000</td>\n      <td>0.00000</td>\n      <td>0.00000</td>\n      <td>0.00000</td>\n      <td>0.00000</td>\n      <td>0.00000</td>\n      <td>0.00000</td>\n      <td>0.00000</td>\n      <td>0.00000</td>\n      <td>0.00000</td>\n      <td>0.00000</td>\n      <td>0.00000</td>\n      <td>255.00000</td>\n      <td>0.00000</td>\n      <td>attack</td>\n    </tr>\n    <tr>\n      <th>4</th>\n      <td>0.00442</td>\n      <td>0.00000</td>\n      <td>0.00284</td>\n      <td>0.00000</td>\n      <td>0.00000</td>\n      <td>0.00000</td>\n      <td>0.00000</td>\n      <td>0.00000</td>\n      <td>0.00000</td>\n      <td>0.00000</td>\n      <td>0.00000</td>\n      <td>0.00000</td>\n      <td>0.00000</td>\n      <td>0.00000</td>\n      <td>0.00000</td>\n      <td>0.00000</td>\n      <td>nan</td>\n      <td>0.00000</td>\n      <td>0.00000</td>\n      <td>0.49902</td>\n      <td>3.99217</td>\n      <td>0.00000</td>\n      <td>30.60000</td>\n      <td>255.00000</td>\n      <td>127.50000</td>\n      <td>255.00000</td>\n      <td>0.00000</td>\n      <td>191.25000</td>\n      <td>29.00000</td>\n      <td>86.00000</td>\n      <td>79.05000</td>\n      <td>43.35000</td>\n      <td>7.65000</td>\n      <td>5.10000</td>\n      <td>0.00000</td>\n      <td>0.00000</td>\n      <td>211.65000</td>\n      <td>181.05000</td>\n      <td>0.00000</td>\n      <td>255.00000</td>\n      <td>0.00000</td>\n      <td>0.00000</td>\n      <td>0.00000</td>\n      <td>0.00000</td>\n      <td>0.00000</td>\n      <td>0.00000</td>\n      <td>0.00000</td>\n      <td>0.00000</td>\n      <td>0.00000</td>\n      <td>0.00000</td>\n      <td>0.00000</td>\n      <td>0.00000</td>\n      <td>0.00000</td>\n      <td>0.00000</td>\n      <td>0.00000</td>\n      <td>0.00000</td>\n      <td>0.00000</td>\n      <td>0.00000</td>\n      <td>0.00000</td>\n      <td>0.00000</td>\n      <td>0.00000</td>\n      <td>0.00000</td>\n      <td>0.00000</td>\n      <td>0.00000</td>\n      <td>0.00000</td>\n      <td>0.00000</td>\n      <td>0.00000</td>\n      <td>0.00000</td>\n      <td>0.00000</td>\n      <td>0.00000</td>\n      <td>0.00000</td>\n      <td>0.00000</td>\n      <td>0.00000</td>\n      <td>0.00000</td>\n      <td>0.00000</td>\n      <td>0.00000</td>\n      <td>0.00000</td>\n      <td>0.00000</td>\n      <td>0.00000</td>\n      <td>0.00000</td>\n      <td>0.00000</td>\n      <td>0.00000</td>\n      <td>0.00000</td>\n      <td>0.00000</td>\n      <td>0.00000</td>\n      <td>0.00000</td>\n      <td>0.00000</td>\n      <td>0.00000</td>\n      <td>0.00000</td>\n      <td>0.00000</td>\n      <td>0.00000</td>\n      <td>0.00000</td>\n      <td>0.00000</td>\n      <td>0.00000</td>\n      <td>255.00000</td>\n      <td>0.00000</td>\n      <td>0.00000</td>\n      <td>0.00000</td>\n      <td>0.00000</td>\n      <td>0.00000</td>\n      <td>0.00000</td>\n      <td>0.00000</td>\n      <td>0.00000</td>\n      <td>0.00000</td>\n      <td>0.00000</td>\n      <td>255.00000</td>\n      <td>0.00000</td>\n      <td>0.00000</td>\n      <td>0.00000</td>\n      <td>0.00000</td>\n      <td>0.00000</td>\n      <td>0.00000</td>\n      <td>0.00000</td>\n      <td>0.00000</td>\n      <td>attack</td>\n    </tr>\n    <tr>\n      <th>...</th>\n      <td>...</td>\n      <td>...</td>\n      <td>...</td>\n      <td>...</td>\n      <td>...</td>\n      <td>...</td>\n      <td>...</td>\n      <td>...</td>\n      <td>...</td>\n      <td>...</td>\n      <td>...</td>\n      <td>...</td>\n      <td>...</td>\n      <td>...</td>\n      <td>...</td>\n      <td>...</td>\n      <td>...</td>\n      <td>...</td>\n      <td>...</td>\n      <td>...</td>\n      <td>...</td>\n      <td>...</td>\n      <td>...</td>\n      <td>...</td>\n      <td>...</td>\n      <td>...</td>\n      <td>...</td>\n      <td>...</td>\n      <td>...</td>\n      <td>...</td>\n      <td>...</td>\n      <td>...</td>\n      <td>...</td>\n      <td>...</td>\n      <td>...</td>\n      <td>...</td>\n      <td>...</td>\n      <td>...</td>\n      <td>...</td>\n      <td>...</td>\n      <td>...</td>\n      <td>...</td>\n      <td>...</td>\n      <td>...</td>\n      <td>...</td>\n      <td>...</td>\n      <td>...</td>\n      <td>...</td>\n      <td>...</td>\n      <td>...</td>\n      <td>...</td>\n      <td>...</td>\n      <td>...</td>\n      <td>...</td>\n      <td>...</td>\n      <td>...</td>\n      <td>...</td>\n      <td>...</td>\n      <td>...</td>\n      <td>...</td>\n      <td>...</td>\n      <td>...</td>\n      <td>...</td>\n      <td>...</td>\n      <td>...</td>\n      <td>...</td>\n      <td>...</td>\n      <td>...</td>\n      <td>...</td>\n      <td>...</td>\n      <td>...</td>\n      <td>...</td>\n      <td>...</td>\n      <td>...</td>\n      <td>...</td>\n      <td>...</td>\n      <td>...</td>\n      <td>...</td>\n      <td>...</td>\n      <td>...</td>\n      <td>...</td>\n      <td>...</td>\n      <td>...</td>\n      <td>...</td>\n      <td>...</td>\n      <td>...</td>\n      <td>...</td>\n      <td>...</td>\n      <td>...</td>\n      <td>...</td>\n      <td>...</td>\n      <td>...</td>\n      <td>...</td>\n      <td>...</td>\n      <td>...</td>\n      <td>...</td>\n      <td>...</td>\n      <td>...</td>\n      <td>...</td>\n      <td>...</td>\n      <td>...</td>\n      <td>...</td>\n      <td>...</td>\n      <td>...</td>\n      <td>...</td>\n      <td>...</td>\n      <td>...</td>\n      <td>...</td>\n      <td>...</td>\n      <td>...</td>\n      <td>...</td>\n      <td>...</td>\n      <td>...</td>\n      <td>...</td>\n      <td>...</td>\n    </tr>\n    <tr>\n      <th>22539</th>\n      <td>0.00000</td>\n      <td>0.00322</td>\n      <td>0.06309</td>\n      <td>0.00000</td>\n      <td>0.00000</td>\n      <td>0.00000</td>\n      <td>0.00000</td>\n      <td>0.00000</td>\n      <td>255.00000</td>\n      <td>0.00000</td>\n      <td>0.00000</td>\n      <td>0.00000</td>\n      <td>0.00000</td>\n      <td>0.00000</td>\n      <td>0.00000</td>\n      <td>0.00000</td>\n      <td>nan</td>\n      <td>0.00000</td>\n      <td>0.00000</td>\n      <td>0.49902</td>\n      <td>0.49902</td>\n      <td>0.00000</td>\n      <td>0.00000</td>\n      <td>0.00000</td>\n      <td>0.00000</td>\n      <td>255.00000</td>\n      <td>0.00000</td>\n      <td>0.00000</td>\n      <td>100.00000</td>\n      <td>141.00000</td>\n      <td>183.60000</td>\n      <td>15.30000</td>\n      <td>2.55000</td>\n      <td>2.55000</td>\n      <td>2.55000</td>\n      <td>0.00000</td>\n      <td>0.00000</td>\n      <td>0.00000</td>\n      <td>0.00000</td>\n      <td>255.00000</td>\n      <td>0.00000</td>\n      <td>0.00000</td>\n      <td>0.00000</td>\n      <td>0.00000</td>\n      <td>0.00000</td>\n      <td>0.00000</td>\n      <td>0.00000</td>\n      <td>0.00000</td>\n      <td>0.00000</td>\n      <td>0.00000</td>\n      <td>0.00000</td>\n      <td>0.00000</td>\n      <td>0.00000</td>\n      <td>0.00000</td>\n      <td>0.00000</td>\n      <td>0.00000</td>\n      <td>0.00000</td>\n      <td>0.00000</td>\n      <td>0.00000</td>\n      <td>0.00000</td>\n      <td>0.00000</td>\n      <td>0.00000</td>\n      <td>0.00000</td>\n      <td>0.00000</td>\n      <td>0.00000</td>\n      <td>0.00000</td>\n      <td>0.00000</td>\n      <td>0.00000</td>\n      <td>0.00000</td>\n      <td>0.00000</td>\n      <td>0.00000</td>\n      <td>0.00000</td>\n      <td>0.00000</td>\n      <td>0.00000</td>\n      <td>0.00000</td>\n      <td>0.00000</td>\n      <td>0.00000</td>\n      <td>0.00000</td>\n      <td>0.00000</td>\n      <td>0.00000</td>\n      <td>0.00000</td>\n      <td>0.00000</td>\n      <td>0.00000</td>\n      <td>0.00000</td>\n      <td>0.00000</td>\n      <td>0.00000</td>\n      <td>0.00000</td>\n      <td>0.00000</td>\n      <td>255.00000</td>\n      <td>0.00000</td>\n      <td>0.00000</td>\n      <td>0.00000</td>\n      <td>0.00000</td>\n      <td>0.00000</td>\n      <td>0.00000</td>\n      <td>0.00000</td>\n      <td>0.00000</td>\n      <td>0.00000</td>\n      <td>0.00000</td>\n      <td>0.00000</td>\n      <td>0.00000</td>\n      <td>0.00000</td>\n      <td>0.00000</td>\n      <td>0.00000</td>\n      <td>0.00000</td>\n      <td>0.00000</td>\n      <td>0.00000</td>\n      <td>0.00000</td>\n      <td>0.00000</td>\n      <td>0.00000</td>\n      <td>0.00000</td>\n      <td>0.00000</td>\n      <td>255.00000</td>\n      <td>0.00000</td>\n      <td>normal</td>\n    </tr>\n    <tr>\n      <th>22540</th>\n      <td>0.00000</td>\n      <td>0.00129</td>\n      <td>0.17771</td>\n      <td>0.00000</td>\n      <td>0.00000</td>\n      <td>0.00000</td>\n      <td>0.00000</td>\n      <td>0.00000</td>\n      <td>255.00000</td>\n      <td>0.00000</td>\n      <td>0.00000</td>\n      <td>0.00000</td>\n      <td>0.00000</td>\n      <td>0.00000</td>\n      <td>0.00000</td>\n      <td>0.00000</td>\n      <td>nan</td>\n      <td>0.00000</td>\n      <td>0.00000</td>\n      <td>0.99804</td>\n      <td>5.48924</td>\n      <td>0.00000</td>\n      <td>0.00000</td>\n      <td>0.00000</td>\n      <td>0.00000</td>\n      <td>255.00000</td>\n      <td>0.00000</td>\n      <td>45.90000</td>\n      <td>197.00000</td>\n      <td>255.00000</td>\n      <td>255.00000</td>\n      <td>0.00000</td>\n      <td>2.55000</td>\n      <td>2.55000</td>\n      <td>2.55000</td>\n      <td>0.00000</td>\n      <td>0.00000</td>\n      <td>0.00000</td>\n      <td>0.00000</td>\n      <td>255.00000</td>\n      <td>0.00000</td>\n      <td>0.00000</td>\n      <td>0.00000</td>\n      <td>0.00000</td>\n      <td>0.00000</td>\n      <td>0.00000</td>\n      <td>0.00000</td>\n      <td>0.00000</td>\n      <td>0.00000</td>\n      <td>0.00000</td>\n      <td>0.00000</td>\n      <td>0.00000</td>\n      <td>0.00000</td>\n      <td>0.00000</td>\n      <td>0.00000</td>\n      <td>0.00000</td>\n      <td>0.00000</td>\n      <td>0.00000</td>\n      <td>0.00000</td>\n      <td>0.00000</td>\n      <td>0.00000</td>\n      <td>0.00000</td>\n      <td>0.00000</td>\n      <td>255.00000</td>\n      <td>0.00000</td>\n      <td>0.00000</td>\n      <td>0.00000</td>\n      <td>0.00000</td>\n      <td>0.00000</td>\n      <td>0.00000</td>\n      <td>0.00000</td>\n      <td>0.00000</td>\n      <td>0.00000</td>\n      <td>0.00000</td>\n      <td>0.00000</td>\n      <td>0.00000</td>\n      <td>0.00000</td>\n      <td>0.00000</td>\n      <td>0.00000</td>\n      <td>0.00000</td>\n      <td>0.00000</td>\n      <td>0.00000</td>\n      <td>0.00000</td>\n      <td>0.00000</td>\n      <td>0.00000</td>\n      <td>0.00000</td>\n      <td>0.00000</td>\n      <td>0.00000</td>\n      <td>0.00000</td>\n      <td>0.00000</td>\n      <td>0.00000</td>\n      <td>0.00000</td>\n      <td>0.00000</td>\n      <td>0.00000</td>\n      <td>0.00000</td>\n      <td>0.00000</td>\n      <td>0.00000</td>\n      <td>0.00000</td>\n      <td>0.00000</td>\n      <td>0.00000</td>\n      <td>0.00000</td>\n      <td>0.00000</td>\n      <td>0.00000</td>\n      <td>0.00000</td>\n      <td>0.00000</td>\n      <td>0.00000</td>\n      <td>0.00000</td>\n      <td>0.00000</td>\n      <td>0.00000</td>\n      <td>0.00000</td>\n      <td>0.00000</td>\n      <td>0.00000</td>\n      <td>255.00000</td>\n      <td>0.00000</td>\n      <td>normal</td>\n    </tr>\n    <tr>\n      <th>22541</th>\n      <td>0.00000</td>\n      <td>0.22137</td>\n      <td>1.57517</td>\n      <td>0.00000</td>\n      <td>0.00000</td>\n      <td>0.00000</td>\n      <td>5.04950</td>\n      <td>0.00000</td>\n      <td>255.00000</td>\n      <td>0.32035</td>\n      <td>0.00000</td>\n      <td>0.00000</td>\n      <td>0.00000</td>\n      <td>0.00000</td>\n      <td>0.00000</td>\n      <td>0.00000</td>\n      <td>nan</td>\n      <td>0.00000</td>\n      <td>0.00000</td>\n      <td>2.49511</td>\n      <td>4.99022</td>\n      <td>0.00000</td>\n      <td>0.00000</td>\n      <td>0.00000</td>\n      <td>0.00000</td>\n      <td>255.00000</td>\n      <td>0.00000</td>\n      <td>51.00000</td>\n      <td>255.00000</td>\n      <td>255.00000</td>\n      <td>255.00000</td>\n      <td>0.00000</td>\n      <td>0.00000</td>\n      <td>0.00000</td>\n      <td>0.00000</td>\n      <td>0.00000</td>\n      <td>17.85000</td>\n      <td>17.85000</td>\n      <td>0.00000</td>\n      <td>255.00000</td>\n      <td>0.00000</td>\n      <td>0.00000</td>\n      <td>0.00000</td>\n      <td>0.00000</td>\n      <td>0.00000</td>\n      <td>0.00000</td>\n      <td>0.00000</td>\n      <td>0.00000</td>\n      <td>0.00000</td>\n      <td>0.00000</td>\n      <td>0.00000</td>\n      <td>0.00000</td>\n      <td>0.00000</td>\n      <td>0.00000</td>\n      <td>0.00000</td>\n      <td>0.00000</td>\n      <td>0.00000</td>\n      <td>0.00000</td>\n      <td>0.00000</td>\n      <td>0.00000</td>\n      <td>0.00000</td>\n      <td>0.00000</td>\n      <td>0.00000</td>\n      <td>255.00000</td>\n      <td>0.00000</td>\n      <td>0.00000</td>\n      <td>0.00000</td>\n      <td>0.00000</td>\n      <td>0.00000</td>\n      <td>0.00000</td>\n      <td>0.00000</td>\n      <td>0.00000</td>\n      <td>0.00000</td>\n      <td>0.00000</td>\n      <td>0.00000</td>\n      <td>0.00000</td>\n      <td>0.00000</td>\n      <td>0.00000</td>\n      <td>0.00000</td>\n      <td>0.00000</td>\n      <td>0.00000</td>\n      <td>0.00000</td>\n      <td>0.00000</td>\n      <td>0.00000</td>\n      <td>0.00000</td>\n      <td>0.00000</td>\n      <td>0.00000</td>\n      <td>0.00000</td>\n      <td>0.00000</td>\n      <td>0.00000</td>\n      <td>0.00000</td>\n      <td>0.00000</td>\n      <td>0.00000</td>\n      <td>0.00000</td>\n      <td>0.00000</td>\n      <td>0.00000</td>\n      <td>0.00000</td>\n      <td>0.00000</td>\n      <td>0.00000</td>\n      <td>0.00000</td>\n      <td>0.00000</td>\n      <td>0.00000</td>\n      <td>0.00000</td>\n      <td>0.00000</td>\n      <td>0.00000</td>\n      <td>0.00000</td>\n      <td>0.00000</td>\n      <td>0.00000</td>\n      <td>0.00000</td>\n      <td>0.00000</td>\n      <td>0.00000</td>\n      <td>0.00000</td>\n      <td>255.00000</td>\n      <td>0.00000</td>\n      <td>attack</td>\n    </tr>\n    <tr>\n      <th>22542</th>\n      <td>0.00000</td>\n      <td>0.00017</td>\n      <td>0.00796</td>\n      <td>0.00000</td>\n      <td>0.00000</td>\n      <td>0.00000</td>\n      <td>0.00000</td>\n      <td>0.00000</td>\n      <td>0.00000</td>\n      <td>0.00000</td>\n      <td>0.00000</td>\n      <td>0.00000</td>\n      <td>0.00000</td>\n      <td>0.00000</td>\n      <td>0.00000</td>\n      <td>0.00000</td>\n      <td>nan</td>\n      <td>0.00000</td>\n      <td>0.00000</td>\n      <td>1.99609</td>\n      <td>2.99413</td>\n      <td>0.00000</td>\n      <td>0.00000</td>\n      <td>0.00000</td>\n      <td>0.00000</td>\n      <td>255.00000</td>\n      <td>0.00000</td>\n      <td>84.15000</td>\n      <td>255.00000</td>\n      <td>252.00000</td>\n      <td>252.45000</td>\n      <td>2.55000</td>\n      <td>0.00000</td>\n      <td>0.00000</td>\n      <td>0.00000</td>\n      <td>0.00000</td>\n      <td>0.00000</td>\n      <td>0.00000</td>\n      <td>0.00000</td>\n      <td>0.00000</td>\n      <td>255.00000</td>\n      <td>0.00000</td>\n      <td>0.00000</td>\n      <td>0.00000</td>\n      <td>0.00000</td>\n      <td>0.00000</td>\n      <td>0.00000</td>\n      <td>0.00000</td>\n      <td>0.00000</td>\n      <td>0.00000</td>\n      <td>0.00000</td>\n      <td>0.00000</td>\n      <td>255.00000</td>\n      <td>0.00000</td>\n      <td>0.00000</td>\n      <td>0.00000</td>\n      <td>0.00000</td>\n      <td>0.00000</td>\n      <td>0.00000</td>\n      <td>0.00000</td>\n      <td>0.00000</td>\n      <td>0.00000</td>\n      <td>0.00000</td>\n      <td>0.00000</td>\n      <td>0.00000</td>\n      <td>0.00000</td>\n      <td>0.00000</td>\n      <td>0.00000</td>\n      <td>0.00000</td>\n      <td>0.00000</td>\n      <td>0.00000</td>\n      <td>0.00000</td>\n      <td>0.00000</td>\n      <td>0.00000</td>\n      <td>0.00000</td>\n      <td>0.00000</td>\n      <td>0.00000</td>\n      <td>0.00000</td>\n      <td>0.00000</td>\n      <td>0.00000</td>\n      <td>0.00000</td>\n      <td>0.00000</td>\n      <td>0.00000</td>\n      <td>0.00000</td>\n      <td>0.00000</td>\n      <td>0.00000</td>\n      <td>0.00000</td>\n      <td>0.00000</td>\n      <td>0.00000</td>\n      <td>0.00000</td>\n      <td>0.00000</td>\n      <td>0.00000</td>\n      <td>0.00000</td>\n      <td>0.00000</td>\n      <td>0.00000</td>\n      <td>0.00000</td>\n      <td>0.00000</td>\n      <td>0.00000</td>\n      <td>0.00000</td>\n      <td>0.00000</td>\n      <td>0.00000</td>\n      <td>0.00000</td>\n      <td>0.00000</td>\n      <td>0.00000</td>\n      <td>0.00000</td>\n      <td>0.00000</td>\n      <td>0.00000</td>\n      <td>0.00000</td>\n      <td>0.00000</td>\n      <td>0.00000</td>\n      <td>0.00000</td>\n      <td>0.00000</td>\n      <td>255.00000</td>\n      <td>0.00000</td>\n      <td>normal</td>\n    </tr>\n    <tr>\n      <th>22543</th>\n      <td>0.00000</td>\n      <td>0.00000</td>\n      <td>0.00000</td>\n      <td>0.00000</td>\n      <td>0.00000</td>\n      <td>0.00000</td>\n      <td>0.00000</td>\n      <td>0.00000</td>\n      <td>0.00000</td>\n      <td>0.00000</td>\n      <td>0.00000</td>\n      <td>0.00000</td>\n      <td>0.00000</td>\n      <td>0.00000</td>\n      <td>0.00000</td>\n      <td>0.00000</td>\n      <td>nan</td>\n      <td>0.00000</td>\n      <td>0.00000</td>\n      <td>1.99609</td>\n      <td>4.99022</td>\n      <td>0.00000</td>\n      <td>0.00000</td>\n      <td>255.00000</td>\n      <td>255.00000</td>\n      <td>63.75000</td>\n      <td>255.00000</td>\n      <td>255.00000</td>\n      <td>255.00000</td>\n      <td>21.00000</td>\n      <td>20.40000</td>\n      <td>7.65000</td>\n      <td>0.00000</td>\n      <td>0.00000</td>\n      <td>0.00000</td>\n      <td>0.00000</td>\n      <td>112.20000</td>\n      <td>255.00000</td>\n      <td>0.00000</td>\n      <td>255.00000</td>\n      <td>0.00000</td>\n      <td>0.00000</td>\n      <td>0.00000</td>\n      <td>0.00000</td>\n      <td>0.00000</td>\n      <td>0.00000</td>\n      <td>0.00000</td>\n      <td>0.00000</td>\n      <td>0.00000</td>\n      <td>0.00000</td>\n      <td>0.00000</td>\n      <td>0.00000</td>\n      <td>0.00000</td>\n      <td>0.00000</td>\n      <td>0.00000</td>\n      <td>0.00000</td>\n      <td>0.00000</td>\n      <td>0.00000</td>\n      <td>0.00000</td>\n      <td>0.00000</td>\n      <td>0.00000</td>\n      <td>0.00000</td>\n      <td>0.00000</td>\n      <td>0.00000</td>\n      <td>0.00000</td>\n      <td>0.00000</td>\n      <td>0.00000</td>\n      <td>0.00000</td>\n      <td>0.00000</td>\n      <td>0.00000</td>\n      <td>0.00000</td>\n      <td>0.00000</td>\n      <td>0.00000</td>\n      <td>0.00000</td>\n      <td>0.00000</td>\n      <td>0.00000</td>\n      <td>0.00000</td>\n      <td>0.00000</td>\n      <td>0.00000</td>\n      <td>0.00000</td>\n      <td>0.00000</td>\n      <td>0.00000</td>\n      <td>0.00000</td>\n      <td>0.00000</td>\n      <td>0.00000</td>\n      <td>0.00000</td>\n      <td>0.00000</td>\n      <td>0.00000</td>\n      <td>0.00000</td>\n      <td>0.00000</td>\n      <td>0.00000</td>\n      <td>255.00000</td>\n      <td>0.00000</td>\n      <td>0.00000</td>\n      <td>0.00000</td>\n      <td>0.00000</td>\n      <td>0.00000</td>\n      <td>0.00000</td>\n      <td>0.00000</td>\n      <td>0.00000</td>\n      <td>0.00000</td>\n      <td>0.00000</td>\n      <td>0.00000</td>\n      <td>0.00000</td>\n      <td>255.00000</td>\n      <td>0.00000</td>\n      <td>0.00000</td>\n      <td>0.00000</td>\n      <td>0.00000</td>\n      <td>0.00000</td>\n      <td>0.00000</td>\n      <td>0.00000</td>\n      <td>0.00000</td>\n      <td>0.00000</td>\n      <td>attack</td>\n    </tr>\n  </tbody>\n</table>\n<p>22525 rows × 115 columns</p>\n</div>"
          },
          "metadata": {},
          "execution_count": 18
        }
      ]
    },
    {
      "cell_type": "code",
      "metadata": {
        "id": "GL_UIhahO_V4"
      },
      "source": [
        "for column in edited_xtrain:\n",
        "    # edited_xtrain[column] = xtrain[column] / xtrain[column].max()\n",
        "    \n",
        "    if edited_xtrain[column].isna().any():\n",
        "        edited_xtrain[column] = float(0)\n",
        "\n",
        "for column in edited_xtest:\n",
        "    # edited_xtest[column] = xtest[column] / xtest[column].max()\n",
        "    \n",
        "    if edited_xtest[column].isna().any():\n",
        "        edited_xtest[column] = float(0)"
      ],
      "execution_count": 19,
      "outputs": []
    },
    {
      "cell_type": "code",
      "metadata": {
        "id": "MJhvYVLXx9x0"
      },
      "source": [
        "normal_imgs_train = edited_xtrain[(edited_train['attack_type'] == 'normal')]\n",
        "attack_imgs_train = edited_xtrain[(edited_train['attack_type'] == 'attack')]\n",
        "\n",
        "normal_imgs_test = edited_xtest[(edited_test['attack_type'] == 'normal')]\n",
        "attack_imgs_test = edited_xtest[(edited_test['attack_type'] == 'attack')]\n",
        "\n",
        "\n",
        "## encode the attack_type column OHE\n",
        "ytrain = pd.get_dummies(edited_train['attack_type'])\n",
        "ytest = pd.get_dummies(edited_test['attack_type'])\n",
        "\n",
        "## drop the columns after encoding\n",
        "# xtrain = train.drop(['attack_type'], axis = 1)\n",
        "# xtest = test.drop(['attack_type'], axis = 1)\n",
        "\n",
        "normal_imgs_train = normal_imgs_train.drop(['attack_type'], axis = 1)\n",
        "attack_imgs_train = attack_imgs_train.drop(['attack_type'], axis = 1)\n",
        "\n",
        "normal_imgs_test = normal_imgs_test.drop(['attack_type'], axis = 1)\n",
        "attack_imgs_test = attack_imgs_test.drop(['attack_type'], axis = 1)"
      ],
      "execution_count": 20,
      "outputs": []
    },
    {
      "cell_type": "markdown",
      "metadata": {
        "id": "81kaXwxux9x1"
      },
      "source": [
        "## 1.6 - Histogram equalisation on raw data"
      ]
    },
    {
      "cell_type": "markdown",
      "metadata": {
        "id": "e5Sca3Utx9x1"
      },
      "source": [
        "### Transforming the dataframe to numpy array then reshape to 64x64 images"
      ]
    },
    {
      "cell_type": "code",
      "metadata": {
        "id": "FiODfPXfx9x2",
        "colab": {
          "base_uri": "https://localhost:8080/"
        },
        "outputId": "16672e03-4738-4d5e-ab75-87f3aa4dcb2a"
      },
      "source": [
        "normal_imgs_train = normal_imgs_train.to_numpy()\n",
        "normal_imgs_train = np.ravel(normal_imgs_train, order = 'F')\n",
        "normal_imgs_train.shape"
      ],
      "execution_count": 21,
      "outputs": [
        {
          "output_type": "execute_result",
          "data": {
            "text/plain": [
              "(7675050,)"
            ]
          },
          "metadata": {},
          "execution_count": 21
        }
      ]
    },
    {
      "cell_type": "code",
      "metadata": {
        "id": "q7BsXMzxx9x3",
        "colab": {
          "base_uri": "https://localhost:8080/"
        },
        "outputId": "903ecd36-f155-4512-bfca-b4bf965b6187"
      },
      "source": [
        "normal_imgs_test = normal_imgs_test.to_numpy()\n",
        "normal_imgs_test = np.ravel(normal_imgs_test, order = 'F')\n",
        "normal_imgs_test.shape"
      ],
      "execution_count": 22,
      "outputs": [
        {
          "output_type": "execute_result",
          "data": {
            "text/plain": [
              "(1107054,)"
            ]
          },
          "metadata": {},
          "execution_count": 22
        }
      ]
    },
    {
      "cell_type": "code",
      "metadata": {
        "id": "605VW7mox9x3",
        "colab": {
          "base_uri": "https://localhost:8080/"
        },
        "outputId": "227a7676-e35d-4ebb-f5db-8b319357f90a"
      },
      "source": [
        "attack_imgs_train = attack_imgs_train.to_numpy()\n",
        "attack_imgs_train = np.ravel(attack_imgs_train, order = 'F')\n",
        "attack_imgs_train.shape"
      ],
      "execution_count": 23,
      "outputs": [
        {
          "output_type": "execute_result",
          "data": {
            "text/plain": [
              "(6665352,)"
            ]
          },
          "metadata": {},
          "execution_count": 23
        }
      ]
    },
    {
      "cell_type": "code",
      "metadata": {
        "id": "AjTBfyWGx9x3",
        "colab": {
          "base_uri": "https://localhost:8080/"
        },
        "outputId": "14883120-ac89-4c37-dbe6-eaa6048fba50"
      },
      "source": [
        "attack_imgs_test = attack_imgs_test.to_numpy()\n",
        "attack_imgs_test = np.ravel(attack_imgs_test, order = 'F')\n",
        "attack_imgs_test.shape"
      ],
      "execution_count": 24,
      "outputs": [
        {
          "output_type": "execute_result",
          "data": {
            "text/plain": [
              "(1460796,)"
            ]
          },
          "metadata": {},
          "execution_count": 24
        }
      ]
    },
    {
      "cell_type": "markdown",
      "metadata": {
        "id": "z9wewfSNx9x5"
      },
      "source": [
        "### training"
      ]
    },
    {
      "cell_type": "code",
      "metadata": {
        "id": "gIZePNpJx9x6"
      },
      "source": [
        "attack_padding = -attack_imgs_train.size % 4096\n",
        "normal_padding = -normal_imgs_train.size % 4096\n",
        "\n",
        "if attack_padding:\n",
        "    attack_imgs_train = np.concatenate((attack_imgs_train,\n",
        "                                        np.zeros(attack_padding, dtype = attack_imgs_train.dtype)))\n",
        "\n",
        "if normal_padding:\n",
        "    normal_imgs_train = np.concatenate((normal_imgs_train,\n",
        "                                        np.zeros(normal_padding, dtype = normal_imgs_train.dtype)))"
      ],
      "execution_count": 25,
      "outputs": []
    },
    {
      "cell_type": "code",
      "metadata": {
        "id": "34HM-5Okx9x6",
        "colab": {
          "base_uri": "https://localhost:8080/"
        },
        "outputId": "46b5cd51-fb1c-450a-e480-d5e691f45d04"
      },
      "source": [
        "normal_imgs_tr = normal_imgs_train.reshape(-1, 64, 64, 1)\n",
        "attack_imgs_tr = attack_imgs_train.reshape(-1, 64, 64, 1)\n",
        "\n",
        "normal_imgs_tr.shape, attack_imgs_tr.shape"
      ],
      "execution_count": 26,
      "outputs": [
        {
          "output_type": "execute_result",
          "data": {
            "text/plain": [
              "((1874, 64, 64, 1), (1628, 64, 64, 1))"
            ]
          },
          "metadata": {},
          "execution_count": 26
        }
      ]
    },
    {
      "cell_type": "markdown",
      "metadata": {
        "id": "PYLLo5UFx9x6"
      },
      "source": [
        "### testing"
      ]
    },
    {
      "cell_type": "code",
      "metadata": {
        "id": "WT3CAihlx9x7"
      },
      "source": [
        "attack_padding = -attack_imgs_test.size % 4096\n",
        "normal_padding = -normal_imgs_test.size % 4096\n",
        "\n",
        "if attack_padding:\n",
        "    attack_imgs_test = np.concatenate((attack_imgs_test,\n",
        "                                        np.zeros(attack_padding, dtype = attack_imgs_test.dtype)))\n",
        "\n",
        "if normal_padding:\n",
        "    normal_imgs_test = np.concatenate((normal_imgs_test,\n",
        "                                        np.zeros(normal_padding, dtype = normal_imgs_test.dtype)))"
      ],
      "execution_count": 27,
      "outputs": []
    },
    {
      "cell_type": "code",
      "metadata": {
        "id": "HXwadfJmx9x7",
        "colab": {
          "base_uri": "https://localhost:8080/"
        },
        "outputId": "c0ef4614-5fd8-44d0-e37b-298d8a6c5cda"
      },
      "source": [
        "normal_imgs_te = normal_imgs_test.reshape(-1, 64, 64, 1)\n",
        "attack_imgs_te = attack_imgs_test.reshape(-1, 64, 64, 1)\n",
        "\n",
        "normal_imgs_te.shape, attack_imgs_te.shape"
      ],
      "execution_count": 28,
      "outputs": [
        {
          "output_type": "execute_result",
          "data": {
            "text/plain": [
              "((271, 64, 64, 1), (357, 64, 64, 1))"
            ]
          },
          "metadata": {},
          "execution_count": 28
        }
      ]
    },
    {
      "cell_type": "code",
      "metadata": {
        "id": "bf0HOHh6x9x7",
        "colab": {
          "base_uri": "https://localhost:8080/",
          "height": 1000
        },
        "outputId": "98ac3f98-f52d-4e7d-85f9-b01695331acd"
      },
      "source": [
        "for t in range(0, 5):\n",
        "    plt.imshow(normal_imgs_tr[t], cmap = 'gray')\n",
        "    plt.show()\n",
        "    \n",
        "    # cv2.imwrite(CUR_DIR + f'/image_before_equ_{t}.bmp', normal_imgs_tr[t])"
      ],
      "execution_count": 32,
      "outputs": [
        {
          "output_type": "display_data",
          "data": {
            "text/plain": "<Figure size 432x288 with 1 Axes>",
            "image/svg+xml": "<?xml version=\"1.0\" encoding=\"utf-8\" standalone=\"no\"?>\n<!DOCTYPE svg PUBLIC \"-//W3C//DTD SVG 1.1//EN\"\n  \"http://www.w3.org/Graphics/SVG/1.1/DTD/svg11.dtd\">\n<!-- Created with matplotlib (https://matplotlib.org/) -->\n<svg height=\"250.618594pt\" version=\"1.1\" viewBox=\"0 0 251.565 250.618594\" width=\"251.565pt\" xmlns=\"http://www.w3.org/2000/svg\" xmlns:xlink=\"http://www.w3.org/1999/xlink\">\n <metadata>\n  <rdf:RDF xmlns:cc=\"http://creativecommons.org/ns#\" xmlns:dc=\"http://purl.org/dc/elements/1.1/\" xmlns:rdf=\"http://www.w3.org/1999/02/22-rdf-syntax-ns#\">\n   <cc:Work>\n    <dc:type rdf:resource=\"http://purl.org/dc/dcmitype/StillImage\"/>\n    <dc:date>2021-05-06T17:13:19.657190</dc:date>\n    <dc:format>image/svg+xml</dc:format>\n    <dc:creator>\n     <cc:Agent>\n      <dc:title>Matplotlib v3.3.2, https://matplotlib.org/</dc:title>\n     </cc:Agent>\n    </dc:creator>\n   </cc:Work>\n  </rdf:RDF>\n </metadata>\n <defs>\n  <style type=\"text/css\">*{stroke-linecap:butt;stroke-linejoin:round;}</style>\n </defs>\n <g id=\"figure_1\">\n  <g id=\"patch_1\">\n   <path d=\"M 0 250.618594 \nL 251.565 250.618594 \nL 251.565 0 \nL 0 0 \nz\n\" style=\"fill:none;\"/>\n  </g>\n  <g id=\"axes_1\">\n   <g id=\"patch_2\">\n    <path d=\"M 26.925 226.740469 \nL 244.365 226.740469 \nL 244.365 9.300469 \nL 26.925 9.300469 \nz\n\" style=\"fill:#ffffff;\"/>\n   </g>\n   <g clip-path=\"url(#p7fe2da4816)\">\n    <image height=\"218\" id=\"image0125073f7d\" transform=\"scale(1 -1)translate(0 -218)\" width=\"218\" x=\"26.925\" xlink:href=\"data:image/png;base64,\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\" y=\"-8.740469\"/>\n   </g>\n   <g id=\"matplotlib.axis_1\">\n    <g id=\"xtick_1\">\n     <g id=\"line2d_1\">\n      <defs>\n       <path d=\"M 0 0 \nL 0 3.5 \n\" id=\"m1a2320d043\" style=\"stroke:#000000;stroke-width:0.8;\"/>\n      </defs>\n      <g>\n       <use style=\"stroke:#000000;stroke-width:0.8;\" x=\"28.62375\" xlink:href=\"#m1a2320d043\" y=\"226.740469\"/>\n      </g>\n     </g>\n     <g id=\"text_1\">\n      <!-- 0 -->\n      <g transform=\"translate(25.4425 241.338906)scale(0.1 -0.1)\">\n       <defs>\n        <path d=\"M 31.78125 66.40625 \nQ 24.171875 66.40625 20.328125 58.90625 \nQ 16.5 51.421875 16.5 36.375 \nQ 16.5 21.390625 20.328125 13.890625 \nQ 24.171875 6.390625 31.78125 6.390625 \nQ 39.453125 6.390625 43.28125 13.890625 \nQ 47.125 21.390625 47.125 36.375 \nQ 47.125 51.421875 43.28125 58.90625 \nQ 39.453125 66.40625 31.78125 66.40625 \nz\nM 31.78125 74.21875 \nQ 44.046875 74.21875 50.515625 64.515625 \nQ 56.984375 54.828125 56.984375 36.375 \nQ 56.984375 17.96875 50.515625 8.265625 \nQ 44.046875 -1.421875 31.78125 -1.421875 \nQ 19.53125 -1.421875 13.0625 8.265625 \nQ 6.59375 17.96875 6.59375 36.375 \nQ 6.59375 54.828125 13.0625 64.515625 \nQ 19.53125 74.21875 31.78125 74.21875 \nz\n\" id=\"DejaVuSans-48\"/>\n       </defs>\n       <use xlink:href=\"#DejaVuSans-48\"/>\n      </g>\n     </g>\n    </g>\n    <g id=\"xtick_2\">\n     <g id=\"line2d_2\">\n      <g>\n       <use style=\"stroke:#000000;stroke-width:0.8;\" x=\"62.59875\" xlink:href=\"#m1a2320d043\" y=\"226.740469\"/>\n      </g>\n     </g>\n     <g id=\"text_2\">\n      <!-- 10 -->\n      <g transform=\"translate(56.23625 241.338906)scale(0.1 -0.1)\">\n       <defs>\n        <path d=\"M 12.40625 8.296875 \nL 28.515625 8.296875 \nL 28.515625 63.921875 \nL 10.984375 60.40625 \nL 10.984375 69.390625 \nL 28.421875 72.90625 \nL 38.28125 72.90625 \nL 38.28125 8.296875 \nL 54.390625 8.296875 \nL 54.390625 0 \nL 12.40625 0 \nz\n\" id=\"DejaVuSans-49\"/>\n       </defs>\n       <use xlink:href=\"#DejaVuSans-49\"/>\n       <use x=\"63.623047\" xlink:href=\"#DejaVuSans-48\"/>\n      </g>\n     </g>\n    </g>\n    <g id=\"xtick_3\">\n     <g id=\"line2d_3\">\n      <g>\n       <use style=\"stroke:#000000;stroke-width:0.8;\" x=\"96.57375\" xlink:href=\"#m1a2320d043\" y=\"226.740469\"/>\n      </g>\n     </g>\n     <g id=\"text_3\">\n      <!-- 20 -->\n      <g transform=\"translate(90.21125 241.338906)scale(0.1 -0.1)\">\n       <defs>\n        <path d=\"M 19.1875 8.296875 \nL 53.609375 8.296875 \nL 53.609375 0 \nL 7.328125 0 \nL 7.328125 8.296875 \nQ 12.9375 14.109375 22.625 23.890625 \nQ 32.328125 33.6875 34.8125 36.53125 \nQ 39.546875 41.84375 41.421875 45.53125 \nQ 43.3125 49.21875 43.3125 52.78125 \nQ 43.3125 58.59375 39.234375 62.25 \nQ 35.15625 65.921875 28.609375 65.921875 \nQ 23.96875 65.921875 18.8125 64.3125 \nQ 13.671875 62.703125 7.8125 59.421875 \nL 7.8125 69.390625 \nQ 13.765625 71.78125 18.9375 73 \nQ 24.125 74.21875 28.421875 74.21875 \nQ 39.75 74.21875 46.484375 68.546875 \nQ 53.21875 62.890625 53.21875 53.421875 \nQ 53.21875 48.921875 51.53125 44.890625 \nQ 49.859375 40.875 45.40625 35.40625 \nQ 44.1875 33.984375 37.640625 27.21875 \nQ 31.109375 20.453125 19.1875 8.296875 \nz\n\" id=\"DejaVuSans-50\"/>\n       </defs>\n       <use xlink:href=\"#DejaVuSans-50\"/>\n       <use x=\"63.623047\" xlink:href=\"#DejaVuSans-48\"/>\n      </g>\n     </g>\n    </g>\n    <g id=\"xtick_4\">\n     <g id=\"line2d_4\">\n      <g>\n       <use style=\"stroke:#000000;stroke-width:0.8;\" x=\"130.54875\" xlink:href=\"#m1a2320d043\" y=\"226.740469\"/>\n      </g>\n     </g>\n     <g id=\"text_4\">\n      <!-- 30 -->\n      <g transform=\"translate(124.18625 241.338906)scale(0.1 -0.1)\">\n       <defs>\n        <path d=\"M 40.578125 39.3125 \nQ 47.65625 37.796875 51.625 33 \nQ 55.609375 28.21875 55.609375 21.1875 \nQ 55.609375 10.40625 48.1875 4.484375 \nQ 40.765625 -1.421875 27.09375 -1.421875 \nQ 22.515625 -1.421875 17.65625 -0.515625 \nQ 12.796875 0.390625 7.625 2.203125 \nL 7.625 11.71875 \nQ 11.71875 9.328125 16.59375 8.109375 \nQ 21.484375 6.890625 26.8125 6.890625 \nQ 36.078125 6.890625 40.9375 10.546875 \nQ 45.796875 14.203125 45.796875 21.1875 \nQ 45.796875 27.640625 41.28125 31.265625 \nQ 36.765625 34.90625 28.71875 34.90625 \nL 20.21875 34.90625 \nL 20.21875 43.015625 \nL 29.109375 43.015625 \nQ 36.375 43.015625 40.234375 45.921875 \nQ 44.09375 48.828125 44.09375 54.296875 \nQ 44.09375 59.90625 40.109375 62.90625 \nQ 36.140625 65.921875 28.71875 65.921875 \nQ 24.65625 65.921875 20.015625 65.03125 \nQ 15.375 64.15625 9.8125 62.3125 \nL 9.8125 71.09375 \nQ 15.4375 72.65625 20.34375 73.4375 \nQ 25.25 74.21875 29.59375 74.21875 \nQ 40.828125 74.21875 47.359375 69.109375 \nQ 53.90625 64.015625 53.90625 55.328125 \nQ 53.90625 49.265625 50.4375 45.09375 \nQ 46.96875 40.921875 40.578125 39.3125 \nz\n\" id=\"DejaVuSans-51\"/>\n       </defs>\n       <use xlink:href=\"#DejaVuSans-51\"/>\n       <use x=\"63.623047\" xlink:href=\"#DejaVuSans-48\"/>\n      </g>\n     </g>\n    </g>\n    <g id=\"xtick_5\">\n     <g id=\"line2d_5\">\n      <g>\n       <use style=\"stroke:#000000;stroke-width:0.8;\" x=\"164.52375\" xlink:href=\"#m1a2320d043\" y=\"226.740469\"/>\n      </g>\n     </g>\n     <g id=\"text_5\">\n      <!-- 40 -->\n      <g transform=\"translate(158.16125 241.338906)scale(0.1 -0.1)\">\n       <defs>\n        <path d=\"M 37.796875 64.3125 \nL 12.890625 25.390625 \nL 37.796875 25.390625 \nz\nM 35.203125 72.90625 \nL 47.609375 72.90625 \nL 47.609375 25.390625 \nL 58.015625 25.390625 \nL 58.015625 17.1875 \nL 47.609375 17.1875 \nL 47.609375 0 \nL 37.796875 0 \nL 37.796875 17.1875 \nL 4.890625 17.1875 \nL 4.890625 26.703125 \nz\n\" id=\"DejaVuSans-52\"/>\n       </defs>\n       <use xlink:href=\"#DejaVuSans-52\"/>\n       <use x=\"63.623047\" xlink:href=\"#DejaVuSans-48\"/>\n      </g>\n     </g>\n    </g>\n    <g id=\"xtick_6\">\n     <g id=\"line2d_6\">\n      <g>\n       <use style=\"stroke:#000000;stroke-width:0.8;\" x=\"198.49875\" xlink:href=\"#m1a2320d043\" y=\"226.740469\"/>\n      </g>\n     </g>\n     <g id=\"text_6\">\n      <!-- 50 -->\n      <g transform=\"translate(192.13625 241.338906)scale(0.1 -0.1)\">\n       <defs>\n        <path d=\"M 10.796875 72.90625 \nL 49.515625 72.90625 \nL 49.515625 64.59375 \nL 19.828125 64.59375 \nL 19.828125 46.734375 \nQ 21.96875 47.46875 24.109375 47.828125 \nQ 26.265625 48.1875 28.421875 48.1875 \nQ 40.625 48.1875 47.75 41.5 \nQ 54.890625 34.8125 54.890625 23.390625 \nQ 54.890625 11.625 47.5625 5.09375 \nQ 40.234375 -1.421875 26.90625 -1.421875 \nQ 22.3125 -1.421875 17.546875 -0.640625 \nQ 12.796875 0.140625 7.71875 1.703125 \nL 7.71875 11.625 \nQ 12.109375 9.234375 16.796875 8.0625 \nQ 21.484375 6.890625 26.703125 6.890625 \nQ 35.15625 6.890625 40.078125 11.328125 \nQ 45.015625 15.765625 45.015625 23.390625 \nQ 45.015625 31 40.078125 35.4375 \nQ 35.15625 39.890625 26.703125 39.890625 \nQ 22.75 39.890625 18.8125 39.015625 \nQ 14.890625 38.140625 10.796875 36.28125 \nz\n\" id=\"DejaVuSans-53\"/>\n       </defs>\n       <use xlink:href=\"#DejaVuSans-53\"/>\n       <use x=\"63.623047\" xlink:href=\"#DejaVuSans-48\"/>\n      </g>\n     </g>\n    </g>\n    <g id=\"xtick_7\">\n     <g id=\"line2d_7\">\n      <g>\n       <use style=\"stroke:#000000;stroke-width:0.8;\" x=\"232.47375\" xlink:href=\"#m1a2320d043\" y=\"226.740469\"/>\n      </g>\n     </g>\n     <g id=\"text_7\">\n      <!-- 60 -->\n      <g transform=\"translate(226.11125 241.338906)scale(0.1 -0.1)\">\n       <defs>\n        <path d=\"M 33.015625 40.375 \nQ 26.375 40.375 22.484375 35.828125 \nQ 18.609375 31.296875 18.609375 23.390625 \nQ 18.609375 15.53125 22.484375 10.953125 \nQ 26.375 6.390625 33.015625 6.390625 \nQ 39.65625 6.390625 43.53125 10.953125 \nQ 47.40625 15.53125 47.40625 23.390625 \nQ 47.40625 31.296875 43.53125 35.828125 \nQ 39.65625 40.375 33.015625 40.375 \nz\nM 52.59375 71.296875 \nL 52.59375 62.3125 \nQ 48.875 64.0625 45.09375 64.984375 \nQ 41.3125 65.921875 37.59375 65.921875 \nQ 27.828125 65.921875 22.671875 59.328125 \nQ 17.53125 52.734375 16.796875 39.40625 \nQ 19.671875 43.65625 24.015625 45.921875 \nQ 28.375 48.1875 33.59375 48.1875 \nQ 44.578125 48.1875 50.953125 41.515625 \nQ 57.328125 34.859375 57.328125 23.390625 \nQ 57.328125 12.15625 50.6875 5.359375 \nQ 44.046875 -1.421875 33.015625 -1.421875 \nQ 20.359375 -1.421875 13.671875 8.265625 \nQ 6.984375 17.96875 6.984375 36.375 \nQ 6.984375 53.65625 15.1875 63.9375 \nQ 23.390625 74.21875 37.203125 74.21875 \nQ 40.921875 74.21875 44.703125 73.484375 \nQ 48.484375 72.75 52.59375 71.296875 \nz\n\" id=\"DejaVuSans-54\"/>\n       </defs>\n       <use xlink:href=\"#DejaVuSans-54\"/>\n       <use x=\"63.623047\" xlink:href=\"#DejaVuSans-48\"/>\n      </g>\n     </g>\n    </g>\n   </g>\n   <g id=\"matplotlib.axis_2\">\n    <g id=\"ytick_1\">\n     <g id=\"line2d_8\">\n      <defs>\n       <path d=\"M 0 0 \nL -3.5 0 \n\" id=\"mec6835006a\" style=\"stroke:#000000;stroke-width:0.8;\"/>\n      </defs>\n      <g>\n       <use style=\"stroke:#000000;stroke-width:0.8;\" x=\"26.925\" xlink:href=\"#mec6835006a\" y=\"10.999219\"/>\n      </g>\n     </g>\n     <g id=\"text_8\">\n      <!-- 0 -->\n      <g transform=\"translate(13.5625 14.798437)scale(0.1 -0.1)\">\n       <use xlink:href=\"#DejaVuSans-48\"/>\n      </g>\n     </g>\n    </g>\n    <g id=\"ytick_2\">\n     <g id=\"line2d_9\">\n      <g>\n       <use style=\"stroke:#000000;stroke-width:0.8;\" x=\"26.925\" xlink:href=\"#mec6835006a\" y=\"44.974219\"/>\n      </g>\n     </g>\n     <g id=\"text_9\">\n      <!-- 10 -->\n      <g transform=\"translate(7.2 48.773437)scale(0.1 -0.1)\">\n       <use xlink:href=\"#DejaVuSans-49\"/>\n       <use x=\"63.623047\" xlink:href=\"#DejaVuSans-48\"/>\n      </g>\n     </g>\n    </g>\n    <g id=\"ytick_3\">\n     <g id=\"line2d_10\">\n      <g>\n       <use style=\"stroke:#000000;stroke-width:0.8;\" x=\"26.925\" xlink:href=\"#mec6835006a\" y=\"78.949219\"/>\n      </g>\n     </g>\n     <g id=\"text_10\">\n      <!-- 20 -->\n      <g transform=\"translate(7.2 82.748437)scale(0.1 -0.1)\">\n       <use xlink:href=\"#DejaVuSans-50\"/>\n       <use x=\"63.623047\" xlink:href=\"#DejaVuSans-48\"/>\n      </g>\n     </g>\n    </g>\n    <g id=\"ytick_4\">\n     <g id=\"line2d_11\">\n      <g>\n       <use style=\"stroke:#000000;stroke-width:0.8;\" x=\"26.925\" xlink:href=\"#mec6835006a\" y=\"112.924219\"/>\n      </g>\n     </g>\n     <g id=\"text_11\">\n      <!-- 30 -->\n      <g transform=\"translate(7.2 116.723437)scale(0.1 -0.1)\">\n       <use xlink:href=\"#DejaVuSans-51\"/>\n       <use x=\"63.623047\" xlink:href=\"#DejaVuSans-48\"/>\n      </g>\n     </g>\n    </g>\n    <g id=\"ytick_5\">\n     <g id=\"line2d_12\">\n      <g>\n       <use style=\"stroke:#000000;stroke-width:0.8;\" x=\"26.925\" xlink:href=\"#mec6835006a\" y=\"146.899219\"/>\n      </g>\n     </g>\n     <g id=\"text_12\">\n      <!-- 40 -->\n      <g transform=\"translate(7.2 150.698437)scale(0.1 -0.1)\">\n       <use xlink:href=\"#DejaVuSans-52\"/>\n       <use x=\"63.623047\" xlink:href=\"#DejaVuSans-48\"/>\n      </g>\n     </g>\n    </g>\n    <g id=\"ytick_6\">\n     <g id=\"line2d_13\">\n      <g>\n       <use style=\"stroke:#000000;stroke-width:0.8;\" x=\"26.925\" xlink:href=\"#mec6835006a\" y=\"180.874219\"/>\n      </g>\n     </g>\n     <g id=\"text_13\">\n      <!-- 50 -->\n      <g transform=\"translate(7.2 184.673437)scale(0.1 -0.1)\">\n       <use xlink:href=\"#DejaVuSans-53\"/>\n       <use x=\"63.623047\" xlink:href=\"#DejaVuSans-48\"/>\n      </g>\n     </g>\n    </g>\n    <g id=\"ytick_7\">\n     <g id=\"line2d_14\">\n      <g>\n       <use style=\"stroke:#000000;stroke-width:0.8;\" x=\"26.925\" xlink:href=\"#mec6835006a\" y=\"214.849219\"/>\n      </g>\n     </g>\n     <g id=\"text_14\">\n      <!-- 60 -->\n      <g transform=\"translate(7.2 218.648437)scale(0.1 -0.1)\">\n       <use xlink:href=\"#DejaVuSans-54\"/>\n       <use x=\"63.623047\" xlink:href=\"#DejaVuSans-48\"/>\n      </g>\n     </g>\n    </g>\n   </g>\n   <g id=\"patch_3\">\n    <path d=\"M 26.925 226.740469 \nL 26.925 9.300469 \n\" style=\"fill:none;stroke:#000000;stroke-linecap:square;stroke-linejoin:miter;stroke-width:0.8;\"/>\n   </g>\n   <g id=\"patch_4\">\n    <path d=\"M 244.365 226.740469 \nL 244.365 9.300469 \n\" style=\"fill:none;stroke:#000000;stroke-linecap:square;stroke-linejoin:miter;stroke-width:0.8;\"/>\n   </g>\n   <g id=\"patch_5\">\n    <path d=\"M 26.925 226.740469 \nL 244.365 226.740469 \n\" style=\"fill:none;stroke:#000000;stroke-linecap:square;stroke-linejoin:miter;stroke-width:0.8;\"/>\n   </g>\n   <g id=\"patch_6\">\n    <path d=\"M 26.925 9.300469 \nL 244.365 9.300469 \n\" style=\"fill:none;stroke:#000000;stroke-linecap:square;stroke-linejoin:miter;stroke-width:0.8;\"/>\n   </g>\n  </g>\n </g>\n <defs>\n  <clipPath id=\"p7fe2da4816\">\n   <rect height=\"217.44\" width=\"217.44\" x=\"26.925\" y=\"9.300469\"/>\n  </clipPath>\n </defs>\n</svg>\n",
            "image/png": "[encoded data removed]"
          },
          "metadata": {
            "needs_background": "light"
          }
        },
        {
          "output_type": "display_data",
          "data": {
            "text/plain": "<Figure size 432x288 with 1 Axes>",
            "image/svg+xml": "<?xml version=\"1.0\" encoding=\"utf-8\" standalone=\"no\"?>\n<!DOCTYPE svg PUBLIC \"-//W3C//DTD SVG 1.1//EN\"\n  \"http://www.w3.org/Graphics/SVG/1.1/DTD/svg11.dtd\">\n<!-- Created with matplotlib (https://matplotlib.org/) -->\n<svg height=\"250.618594pt\" version=\"1.1\" viewBox=\"0 0 251.565 250.618594\" width=\"251.565pt\" xmlns=\"http://www.w3.org/2000/svg\" xmlns:xlink=\"http://www.w3.org/1999/xlink\">\n <metadata>\n  <rdf:RDF xmlns:cc=\"http://creativecommons.org/ns#\" xmlns:dc=\"http://purl.org/dc/elements/1.1/\" xmlns:rdf=\"http://www.w3.org/1999/02/22-rdf-syntax-ns#\">\n   <cc:Work>\n    <dc:type rdf:resource=\"http://purl.org/dc/dcmitype/StillImage\"/>\n    <dc:date>2021-05-06T17:13:19.852063</dc:date>\n    <dc:format>image/svg+xml</dc:format>\n    <dc:creator>\n     <cc:Agent>\n      <dc:title>Matplotlib v3.3.2, https://matplotlib.org/</dc:title>\n     </cc:Agent>\n    </dc:creator>\n   </cc:Work>\n  </rdf:RDF>\n </metadata>\n <defs>\n  <style type=\"text/css\">*{stroke-linecap:butt;stroke-linejoin:round;}</style>\n </defs>\n <g id=\"figure_1\">\n  <g id=\"patch_1\">\n   <path d=\"M 0 250.618594 \nL 251.565 250.618594 \nL 251.565 0 \nL 0 0 \nz\n\" style=\"fill:none;\"/>\n  </g>\n  <g id=\"axes_1\">\n   <g id=\"patch_2\">\n    <path d=\"M 26.925 226.740469 \nL 244.365 226.740469 \nL 244.365 9.300469 \nL 26.925 9.300469 \nz\n\" style=\"fill:#ffffff;\"/>\n   </g>\n   <g clip-path=\"url(#p9f7259d4ea)\">\n    <image height=\"218\" id=\"imagea91ecd4ab6\" transform=\"scale(1 -1)translate(0 -218)\" width=\"218\" x=\"26.925\" xlink:href=\"data:image/png;base64,\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\" y=\"-8.740469\"/>\n   </g>\n   <g id=\"matplotlib.axis_1\">\n    <g id=\"xtick_1\">\n     <g id=\"line2d_1\">\n      <defs>\n       <path d=\"M 0 0 \nL 0 3.5 \n\" id=\"m8e52887e13\" style=\"stroke:#000000;stroke-width:0.8;\"/>\n      </defs>\n      <g>\n       <use style=\"stroke:#000000;stroke-width:0.8;\" x=\"28.62375\" xlink:href=\"#m8e52887e13\" y=\"226.740469\"/>\n      </g>\n     </g>\n     <g id=\"text_1\">\n      <!-- 0 -->\n      <g transform=\"translate(25.4425 241.338906)scale(0.1 -0.1)\">\n       <defs>\n        <path d=\"M 31.78125 66.40625 \nQ 24.171875 66.40625 20.328125 58.90625 \nQ 16.5 51.421875 16.5 36.375 \nQ 16.5 21.390625 20.328125 13.890625 \nQ 24.171875 6.390625 31.78125 6.390625 \nQ 39.453125 6.390625 43.28125 13.890625 \nQ 47.125 21.390625 47.125 36.375 \nQ 47.125 51.421875 43.28125 58.90625 \nQ 39.453125 66.40625 31.78125 66.40625 \nz\nM 31.78125 74.21875 \nQ 44.046875 74.21875 50.515625 64.515625 \nQ 56.984375 54.828125 56.984375 36.375 \nQ 56.984375 17.96875 50.515625 8.265625 \nQ 44.046875 -1.421875 31.78125 -1.421875 \nQ 19.53125 -1.421875 13.0625 8.265625 \nQ 6.59375 17.96875 6.59375 36.375 \nQ 6.59375 54.828125 13.0625 64.515625 \nQ 19.53125 74.21875 31.78125 74.21875 \nz\n\" id=\"DejaVuSans-48\"/>\n       </defs>\n       <use xlink:href=\"#DejaVuSans-48\"/>\n      </g>\n     </g>\n    </g>\n    <g id=\"xtick_2\">\n     <g id=\"line2d_2\">\n      <g>\n       <use style=\"stroke:#000000;stroke-width:0.8;\" x=\"62.59875\" xlink:href=\"#m8e52887e13\" y=\"226.740469\"/>\n      </g>\n     </g>\n     <g id=\"text_2\">\n      <!-- 10 -->\n      <g transform=\"translate(56.23625 241.338906)scale(0.1 -0.1)\">\n       <defs>\n        <path d=\"M 12.40625 8.296875 \nL 28.515625 8.296875 \nL 28.515625 63.921875 \nL 10.984375 60.40625 \nL 10.984375 69.390625 \nL 28.421875 72.90625 \nL 38.28125 72.90625 \nL 38.28125 8.296875 \nL 54.390625 8.296875 \nL 54.390625 0 \nL 12.40625 0 \nz\n\" id=\"DejaVuSans-49\"/>\n       </defs>\n       <use xlink:href=\"#DejaVuSans-49\"/>\n       <use x=\"63.623047\" xlink:href=\"#DejaVuSans-48\"/>\n      </g>\n     </g>\n    </g>\n    <g id=\"xtick_3\">\n     <g id=\"line2d_3\">\n      <g>\n       <use style=\"stroke:#000000;stroke-width:0.8;\" x=\"96.57375\" xlink:href=\"#m8e52887e13\" y=\"226.740469\"/>\n      </g>\n     </g>\n     <g id=\"text_3\">\n      <!-- 20 -->\n      <g transform=\"translate(90.21125 241.338906)scale(0.1 -0.1)\">\n       <defs>\n        <path d=\"M 19.1875 8.296875 \nL 53.609375 8.296875 \nL 53.609375 0 \nL 7.328125 0 \nL 7.328125 8.296875 \nQ 12.9375 14.109375 22.625 23.890625 \nQ 32.328125 33.6875 34.8125 36.53125 \nQ 39.546875 41.84375 41.421875 45.53125 \nQ 43.3125 49.21875 43.3125 52.78125 \nQ 43.3125 58.59375 39.234375 62.25 \nQ 35.15625 65.921875 28.609375 65.921875 \nQ 23.96875 65.921875 18.8125 64.3125 \nQ 13.671875 62.703125 7.8125 59.421875 \nL 7.8125 69.390625 \nQ 13.765625 71.78125 18.9375 73 \nQ 24.125 74.21875 28.421875 74.21875 \nQ 39.75 74.21875 46.484375 68.546875 \nQ 53.21875 62.890625 53.21875 53.421875 \nQ 53.21875 48.921875 51.53125 44.890625 \nQ 49.859375 40.875 45.40625 35.40625 \nQ 44.1875 33.984375 37.640625 27.21875 \nQ 31.109375 20.453125 19.1875 8.296875 \nz\n\" id=\"DejaVuSans-50\"/>\n       </defs>\n       <use xlink:href=\"#DejaVuSans-50\"/>\n       <use x=\"63.623047\" xlink:href=\"#DejaVuSans-48\"/>\n      </g>\n     </g>\n    </g>\n    <g id=\"xtick_4\">\n     <g id=\"line2d_4\">\n      <g>\n       <use style=\"stroke:#000000;stroke-width:0.8;\" x=\"130.54875\" xlink:href=\"#m8e52887e13\" y=\"226.740469\"/>\n      </g>\n     </g>\n     <g id=\"text_4\">\n      <!-- 30 -->\n      <g transform=\"translate(124.18625 241.338906)scale(0.1 -0.1)\">\n       <defs>\n        <path d=\"M 40.578125 39.3125 \nQ 47.65625 37.796875 51.625 33 \nQ 55.609375 28.21875 55.609375 21.1875 \nQ 55.609375 10.40625 48.1875 4.484375 \nQ 40.765625 -1.421875 27.09375 -1.421875 \nQ 22.515625 -1.421875 17.65625 -0.515625 \nQ 12.796875 0.390625 7.625 2.203125 \nL 7.625 11.71875 \nQ 11.71875 9.328125 16.59375 8.109375 \nQ 21.484375 6.890625 26.8125 6.890625 \nQ 36.078125 6.890625 40.9375 10.546875 \nQ 45.796875 14.203125 45.796875 21.1875 \nQ 45.796875 27.640625 41.28125 31.265625 \nQ 36.765625 34.90625 28.71875 34.90625 \nL 20.21875 34.90625 \nL 20.21875 43.015625 \nL 29.109375 43.015625 \nQ 36.375 43.015625 40.234375 45.921875 \nQ 44.09375 48.828125 44.09375 54.296875 \nQ 44.09375 59.90625 40.109375 62.90625 \nQ 36.140625 65.921875 28.71875 65.921875 \nQ 24.65625 65.921875 20.015625 65.03125 \nQ 15.375 64.15625 9.8125 62.3125 \nL 9.8125 71.09375 \nQ 15.4375 72.65625 20.34375 73.4375 \nQ 25.25 74.21875 29.59375 74.21875 \nQ 40.828125 74.21875 47.359375 69.109375 \nQ 53.90625 64.015625 53.90625 55.328125 \nQ 53.90625 49.265625 50.4375 45.09375 \nQ 46.96875 40.921875 40.578125 39.3125 \nz\n\" id=\"DejaVuSans-51\"/>\n       </defs>\n       <use xlink:href=\"#DejaVuSans-51\"/>\n       <use x=\"63.623047\" xlink:href=\"#DejaVuSans-48\"/>\n      </g>\n     </g>\n    </g>\n    <g id=\"xtick_5\">\n     <g id=\"line2d_5\">\n      <g>\n       <use style=\"stroke:#000000;stroke-width:0.8;\" x=\"164.52375\" xlink:href=\"#m8e52887e13\" y=\"226.740469\"/>\n      </g>\n     </g>\n     <g id=\"text_5\">\n      <!-- 40 -->\n      <g transform=\"translate(158.16125 241.338906)scale(0.1 -0.1)\">\n       <defs>\n        <path d=\"M 37.796875 64.3125 \nL 12.890625 25.390625 \nL 37.796875 25.390625 \nz\nM 35.203125 72.90625 \nL 47.609375 72.90625 \nL 47.609375 25.390625 \nL 58.015625 25.390625 \nL 58.015625 17.1875 \nL 47.609375 17.1875 \nL 47.609375 0 \nL 37.796875 0 \nL 37.796875 17.1875 \nL 4.890625 17.1875 \nL 4.890625 26.703125 \nz\n\" id=\"DejaVuSans-52\"/>\n       </defs>\n       <use xlink:href=\"#DejaVuSans-52\"/>\n       <use x=\"63.623047\" xlink:href=\"#DejaVuSans-48\"/>\n      </g>\n     </g>\n    </g>\n    <g id=\"xtick_6\">\n     <g id=\"line2d_6\">\n      <g>\n       <use style=\"stroke:#000000;stroke-width:0.8;\" x=\"198.49875\" xlink:href=\"#m8e52887e13\" y=\"226.740469\"/>\n      </g>\n     </g>\n     <g id=\"text_6\">\n      <!-- 50 -->\n      <g transform=\"translate(192.13625 241.338906)scale(0.1 -0.1)\">\n       <defs>\n        <path d=\"M 10.796875 72.90625 \nL 49.515625 72.90625 \nL 49.515625 64.59375 \nL 19.828125 64.59375 \nL 19.828125 46.734375 \nQ 21.96875 47.46875 24.109375 47.828125 \nQ 26.265625 48.1875 28.421875 48.1875 \nQ 40.625 48.1875 47.75 41.5 \nQ 54.890625 34.8125 54.890625 23.390625 \nQ 54.890625 11.625 47.5625 5.09375 \nQ 40.234375 -1.421875 26.90625 -1.421875 \nQ 22.3125 -1.421875 17.546875 -0.640625 \nQ 12.796875 0.140625 7.71875 1.703125 \nL 7.71875 11.625 \nQ 12.109375 9.234375 16.796875 8.0625 \nQ 21.484375 6.890625 26.703125 6.890625 \nQ 35.15625 6.890625 40.078125 11.328125 \nQ 45.015625 15.765625 45.015625 23.390625 \nQ 45.015625 31 40.078125 35.4375 \nQ 35.15625 39.890625 26.703125 39.890625 \nQ 22.75 39.890625 18.8125 39.015625 \nQ 14.890625 38.140625 10.796875 36.28125 \nz\n\" id=\"DejaVuSans-53\"/>\n       </defs>\n       <use xlink:href=\"#DejaVuSans-53\"/>\n       <use x=\"63.623047\" xlink:href=\"#DejaVuSans-48\"/>\n      </g>\n     </g>\n    </g>\n    <g id=\"xtick_7\">\n     <g id=\"line2d_7\">\n      <g>\n       <use style=\"stroke:#000000;stroke-width:0.8;\" x=\"232.47375\" xlink:href=\"#m8e52887e13\" y=\"226.740469\"/>\n      </g>\n     </g>\n     <g id=\"text_7\">\n      <!-- 60 -->\n      <g transform=\"translate(226.11125 241.338906)scale(0.1 -0.1)\">\n       <defs>\n        <path d=\"M 33.015625 40.375 \nQ 26.375 40.375 22.484375 35.828125 \nQ 18.609375 31.296875 18.609375 23.390625 \nQ 18.609375 15.53125 22.484375 10.953125 \nQ 26.375 6.390625 33.015625 6.390625 \nQ 39.65625 6.390625 43.53125 10.953125 \nQ 47.40625 15.53125 47.40625 23.390625 \nQ 47.40625 31.296875 43.53125 35.828125 \nQ 39.65625 40.375 33.015625 40.375 \nz\nM 52.59375 71.296875 \nL 52.59375 62.3125 \nQ 48.875 64.0625 45.09375 64.984375 \nQ 41.3125 65.921875 37.59375 65.921875 \nQ 27.828125 65.921875 22.671875 59.328125 \nQ 17.53125 52.734375 16.796875 39.40625 \nQ 19.671875 43.65625 24.015625 45.921875 \nQ 28.375 48.1875 33.59375 48.1875 \nQ 44.578125 48.1875 50.953125 41.515625 \nQ 57.328125 34.859375 57.328125 23.390625 \nQ 57.328125 12.15625 50.6875 5.359375 \nQ 44.046875 -1.421875 33.015625 -1.421875 \nQ 20.359375 -1.421875 13.671875 8.265625 \nQ 6.984375 17.96875 6.984375 36.375 \nQ 6.984375 53.65625 15.1875 63.9375 \nQ 23.390625 74.21875 37.203125 74.21875 \nQ 40.921875 74.21875 44.703125 73.484375 \nQ 48.484375 72.75 52.59375 71.296875 \nz\n\" id=\"DejaVuSans-54\"/>\n       </defs>\n       <use xlink:href=\"#DejaVuSans-54\"/>\n       <use x=\"63.623047\" xlink:href=\"#DejaVuSans-48\"/>\n      </g>\n     </g>\n    </g>\n   </g>\n   <g id=\"matplotlib.axis_2\">\n    <g id=\"ytick_1\">\n     <g id=\"line2d_8\">\n      <defs>\n       <path d=\"M 0 0 \nL -3.5 0 \n\" id=\"m711793108d\" style=\"stroke:#000000;stroke-width:0.8;\"/>\n      </defs>\n      <g>\n       <use style=\"stroke:#000000;stroke-width:0.8;\" x=\"26.925\" xlink:href=\"#m711793108d\" y=\"10.999219\"/>\n      </g>\n     </g>\n     <g id=\"text_8\">\n      <!-- 0 -->\n      <g transform=\"translate(13.5625 14.798437)scale(0.1 -0.1)\">\n       <use xlink:href=\"#DejaVuSans-48\"/>\n      </g>\n     </g>\n    </g>\n    <g id=\"ytick_2\">\n     <g id=\"line2d_9\">\n      <g>\n       <use style=\"stroke:#000000;stroke-width:0.8;\" x=\"26.925\" xlink:href=\"#m711793108d\" y=\"44.974219\"/>\n      </g>\n     </g>\n     <g id=\"text_9\">\n      <!-- 10 -->\n      <g transform=\"translate(7.2 48.773437)scale(0.1 -0.1)\">\n       <use xlink:href=\"#DejaVuSans-49\"/>\n       <use x=\"63.623047\" xlink:href=\"#DejaVuSans-48\"/>\n      </g>\n     </g>\n    </g>\n    <g id=\"ytick_3\">\n     <g id=\"line2d_10\">\n      <g>\n       <use style=\"stroke:#000000;stroke-width:0.8;\" x=\"26.925\" xlink:href=\"#m711793108d\" y=\"78.949219\"/>\n      </g>\n     </g>\n     <g id=\"text_10\">\n      <!-- 20 -->\n      <g transform=\"translate(7.2 82.748437)scale(0.1 -0.1)\">\n       <use xlink:href=\"#DejaVuSans-50\"/>\n       <use x=\"63.623047\" xlink:href=\"#DejaVuSans-48\"/>\n      </g>\n     </g>\n    </g>\n    <g id=\"ytick_4\">\n     <g id=\"line2d_11\">\n      <g>\n       <use style=\"stroke:#000000;stroke-width:0.8;\" x=\"26.925\" xlink:href=\"#m711793108d\" y=\"112.924219\"/>\n      </g>\n     </g>\n     <g id=\"text_11\">\n      <!-- 30 -->\n      <g transform=\"translate(7.2 116.723437)scale(0.1 -0.1)\">\n       <use xlink:href=\"#DejaVuSans-51\"/>\n       <use x=\"63.623047\" xlink:href=\"#DejaVuSans-48\"/>\n      </g>\n     </g>\n    </g>\n    <g id=\"ytick_5\">\n     <g id=\"line2d_12\">\n      <g>\n       <use style=\"stroke:#000000;stroke-width:0.8;\" x=\"26.925\" xlink:href=\"#m711793108d\" y=\"146.899219\"/>\n      </g>\n     </g>\n     <g id=\"text_12\">\n      <!-- 40 -->\n      <g transform=\"translate(7.2 150.698437)scale(0.1 -0.1)\">\n       <use xlink:href=\"#DejaVuSans-52\"/>\n       <use x=\"63.623047\" xlink:href=\"#DejaVuSans-48\"/>\n      </g>\n     </g>\n    </g>\n    <g id=\"ytick_6\">\n     <g id=\"line2d_13\">\n      <g>\n       <use style=\"stroke:#000000;stroke-width:0.8;\" x=\"26.925\" xlink:href=\"#m711793108d\" y=\"180.874219\"/>\n      </g>\n     </g>\n     <g id=\"text_13\">\n      <!-- 50 -->\n      <g transform=\"translate(7.2 184.673437)scale(0.1 -0.1)\">\n       <use xlink:href=\"#DejaVuSans-53\"/>\n       <use x=\"63.623047\" xlink:href=\"#DejaVuSans-48\"/>\n      </g>\n     </g>\n    </g>\n    <g id=\"ytick_7\">\n     <g id=\"line2d_14\">\n      <g>\n       <use style=\"stroke:#000000;stroke-width:0.8;\" x=\"26.925\" xlink:href=\"#m711793108d\" y=\"214.849219\"/>\n      </g>\n     </g>\n     <g id=\"text_14\">\n      <!-- 60 -->\n      <g transform=\"translate(7.2 218.648437)scale(0.1 -0.1)\">\n       <use xlink:href=\"#DejaVuSans-54\"/>\n       <use x=\"63.623047\" xlink:href=\"#DejaVuSans-48\"/>\n      </g>\n     </g>\n    </g>\n   </g>\n   <g id=\"patch_3\">\n    <path d=\"M 26.925 226.740469 \nL 26.925 9.300469 \n\" style=\"fill:none;stroke:#000000;stroke-linecap:square;stroke-linejoin:miter;stroke-width:0.8;\"/>\n   </g>\n   <g id=\"patch_4\">\n    <path d=\"M 244.365 226.740469 \nL 244.365 9.300469 \n\" style=\"fill:none;stroke:#000000;stroke-linecap:square;stroke-linejoin:miter;stroke-width:0.8;\"/>\n   </g>\n   <g id=\"patch_5\">\n    <path d=\"M 26.925 226.740469 \nL 244.365 226.740469 \n\" style=\"fill:none;stroke:#000000;stroke-linecap:square;stroke-linejoin:miter;stroke-width:0.8;\"/>\n   </g>\n   <g id=\"patch_6\">\n    <path d=\"M 26.925 9.300469 \nL 244.365 9.300469 \n\" style=\"fill:none;stroke:#000000;stroke-linecap:square;stroke-linejoin:miter;stroke-width:0.8;\"/>\n   </g>\n  </g>\n </g>\n <defs>\n  <clipPath id=\"p9f7259d4ea\">\n   <rect height=\"217.44\" width=\"217.44\" x=\"26.925\" y=\"9.300469\"/>\n  </clipPath>\n </defs>\n</svg>\n",
            "image/png": "[encoded data removed]"
          },
          "metadata": {
            "needs_background": "light"
          }
        },
        {
          "output_type": "display_data",
          "data": {
            "text/plain": "<Figure size 432x288 with 1 Axes>",
            "image/svg+xml": "<?xml version=\"1.0\" encoding=\"utf-8\" standalone=\"no\"?>\n<!DOCTYPE svg PUBLIC \"-//W3C//DTD SVG 1.1//EN\"\n  \"http://www.w3.org/Graphics/SVG/1.1/DTD/svg11.dtd\">\n<!-- Created with matplotlib (https://matplotlib.org/) -->\n<svg height=\"250.618594pt\" version=\"1.1\" viewBox=\"0 0 251.565 250.618594\" width=\"251.565pt\" xmlns=\"http://www.w3.org/2000/svg\" xmlns:xlink=\"http://www.w3.org/1999/xlink\">\n <metadata>\n  <rdf:RDF xmlns:cc=\"http://creativecommons.org/ns#\" xmlns:dc=\"http://purl.org/dc/elements/1.1/\" xmlns:rdf=\"http://www.w3.org/1999/02/22-rdf-syntax-ns#\">\n   <cc:Work>\n    <dc:type rdf:resource=\"http://purl.org/dc/dcmitype/StillImage\"/>\n    <dc:date>2021-05-06T17:13:20.032979</dc:date>\n    <dc:format>image/svg+xml</dc:format>\n    <dc:creator>\n     <cc:Agent>\n      <dc:title>Matplotlib v3.3.2, https://matplotlib.org/</dc:title>\n     </cc:Agent>\n    </dc:creator>\n   </cc:Work>\n  </rdf:RDF>\n </metadata>\n <defs>\n  <style type=\"text/css\">*{stroke-linecap:butt;stroke-linejoin:round;}</style>\n </defs>\n <g id=\"figure_1\">\n  <g id=\"patch_1\">\n   <path d=\"M 0 250.618594 \nL 251.565 250.618594 \nL 251.565 0 \nL 0 0 \nz\n\" style=\"fill:none;\"/>\n  </g>\n  <g id=\"axes_1\">\n   <g id=\"patch_2\">\n    <path d=\"M 26.925 226.740469 \nL 244.365 226.740469 \nL 244.365 9.300469 \nL 26.925 9.300469 \nz\n\" style=\"fill:#ffffff;\"/>\n   </g>\n   <g clip-path=\"url(#pa31fb46e5c)\">\n    <image height=\"218\" id=\"image6f2dcf2141\" transform=\"scale(1 -1)translate(0 -218)\" width=\"218\" x=\"26.925\" xlink:href=\"data:image/png;base64,\niVBORw0KGgoAAAANSUhEUgAAANoAAADaCAYAAADAHVzbAAAIzUlEQVR4nO3dTUhUaxzH8TOmORhEYFJZkYSokEQQWFT0SouoVgW9gInQqoUS2SKC3iBapISuWgRiQhHUKqJF9AYVFQQRBioiRmWFCSEVmqZ3c3k6T7fmjjPn/J45M9/P6v8wds7/wv3xf87xOCfmed6U96/6+nrPr7293QOyRWtrq7VubGyUnTtPdiYghxE0QCDm+baOieTl2ZmcnJwMox8gsmKxmLWemvoVLSYaIEDQAAGCBggkfY0WhJaWFmt95MgR1akBp5hogABBAwSkW0cgU8XjcWs9Ojoa6PGZaIAAQQMECBogwDVaBlm/fr2p9+7da3126NAhdTsIEBMNECBogABbR0CAiQYIEDRAIN91A9N1/fp1a717925HnbhTXl5u6r6+PoedZI+dO3da65s3bwZ6fCYaIEDQAAGCBgikfHs/P//X5d3ExMRff66iosLUvb29qZwKiDwmGiBA0ACByD8Z4v++SZffNTl37lxTf/782VkfyExMNECAoAECBA0QiPw1GpCqY8eOmfrcuXOhnouJBggQNECArSNylvJXQ0w0QICgAQJJbx3D/spkv8uXL1vrAwcOhHYuherqalN3dXU57ASuMNEAAYIGCBA0QIDb+wGpqakx9fPnzx12orN161ZT37lzx2EnmY+JBggQNEBAunUsKCiw1uPj46pTA04x0QABggYIEDRAgNv7SFlxcbGph4eHAz9+LBYz9dRUtP83ZaIBAgQNEGDrCAgw0QABggYIEDRAIOlX6/q/yMTz3H7PPRA1TDRAgKABAqHf3s/E3+5XVlZa656eHkedIFcw0QABggYI8GQIArFr1y5rfePGDUed/F1hYaG1Hhsbk52biQYIEDRAgKABAtY1WnNzs/VhU1NT2icoKSkx9dDQUNrHi4Ly8nJr3dfX98efW7NmjbV+8uRJaD3BLSYaIEDQAIHI3d5ftWqVtX727JmjThAFyrd6JuzD2ZmBHELQAAGCBghIr9Fmz55trUdGRtI+Zm1trak7OzvTPh4QBiYaIEDQAAHp1nHp0qXWur+/X3VqwCkmGiBA0ACByD0Zkgh3IJGpmGiAAEEDBAgaIGBdo0XhC1YQvFmzZlnrb9++Oeokefn5v77NfmJiwmEnyWGiAQIEDRDIqtv7UXfq1Kk/1i6dPn3aWp88edJRJ9HGRAMECBogQNAAAa7R8B8zZsww9c+fPx12olNQUGCtx8fHAz0+Ew0QIGiAQCBbxy1btpj67t276R4OyDpMNECAoAEC3HVM0cKFC631+/fvZeeeN2+eqT99+iQ77++Ki4tNPTw87KyPKGCiAQIEDRAgaIBAytdo/rda/u2NlghOdXW1qbu6upz1UVVVZeru7m5nfYTNf/3pl+q1KBMNECBogEDCreOCBQtM/eHDB0U/kbFu3Tpr/ejRI0edIJGrV6+aet++fc76YKIBAgQNECBogEDoj2Bt2LDB1A8fPrQ+KyoqMvX3799NXVZWZv3cwMBAKL0BKkw0QICgAQIJt46LFy829du3bxX9RMa9e/es9ebNm5P6d5nyhEcuun37trXetm1bqOfzf/cKEw0QIGiAAH/4iUioqamx1jt27DD1iRMn1O1MGxMNECBogABBAwS4RgNCMnPmTFMz0QABggYIsHUEBJhogABBAwQIGiCQ77qBsJSUlFjroaEhR50ELwrfqdnZ2Wnq2tpah53o+N+J4Hn2exGYaIAAQQMEcub2Pq8YSs2iRYus9bt37xx1Em1MNECAoAECObN1ROZraGiw1m1tbY46CR4TDRAgaIAAQQMEInGNtmzZMlO/fv3aYSdAaphogABBAwRSfqhY+TbQr1+/hnp8v/nz51vrjx8/ys4dBN7S+ne/P9zsf/A5bEw0QICgAQIEDRCIxO39RK5cuWLq/fv3O+wkfY2NjaZubW112Em0+F8v5nmZ+YoxJhogQNAAAWvruHr1auvDp0+fpn2CjRs3mvrBgwdpHw+Zo6mpydQtLS3WZ1NTkb4iCfzXJEw0QICgAQKRv+sYZWVlZdZ6YGDASR9BKCgosNbj4+OOOglGR0eHqevq6tI+HhMNECBogABBAwRCv0bz3wJubm62PovH46YeHR0Nsw3kkMOHD5v6woULgR776NGj1vr8+fNJ/TsmGiBA0ACBwLeOeXl2dicnJ4M8fNL8v9n3vOj9EWRlZaW17unpmfYxVqxYYa1fvnyZRkdIBxMNECBogABBAwRy8hGsPXv2WOtr166ZetOmTdZn9+/fl/SE7FNRUWFqJhogQNAAgYRbxzlz5pj6y5cv4XcDY/v27db61q1bjjpBEJhogABBAwQIGiAQ+u39qqoqU/f391uf/fjxI8xTI4ucOXPGWl+8eNHUg4OD6namjYkGCBA0QCAnnwzJZkuWLDH1mzdvHHYCPyYaIEDQAIGEW8f6+npTt7e3K/r5X/n59ktKi4qKTD0yMqJuJ1JWrlxp6hcvXjjsJPcw0QABggYIEDRAgNv7CEVpaampo/DkRtiYaIAAQQME2DoiIf9D4Z7ned3d3dM+xsGDB631pUuX0uopiphogABBAwQIGiDANVoIzp49a62PHz/uqJNwFRYWmnpsbMxhJ5mPiQYIEDRAIGu3jrFYzFpPTWXlfyYigokGCBA0QCDwrePatWut9ePHj4M8fFbJlLejInxMNECAoAECBA0QiNXV1ZlrtI6ODpe9RFpDQ4Op29ranPURj8dNPTo66qwP2JhogABBAwQi92RIWVmZtR4YGJCd2387PlNuxfMrgnD4vz90YmIi7eMx0QABggYIEDRAIJaXl2eu0djfA+FgogECBA0QiNztfWSX6upqU3d1dQVyTP8f/WbKH/wy0QABggYIsHUEBJhogABBAwQIGiCQ//8/kh38t3l//87HZFVUVJi6t7c37Z5cWr58ualfvXrlsJPcwEQDBAgaIMDtfUCAiQYIEDRAgKABAjlze1+ptLTUWg8ODjrqJFqqqqqsdXd3t6NOgsdEAwQIGiDwD3E2x8UlrHLUAAAAAElFTkSuQmCC\" y=\"-8.740469\"/>\n   </g>\n   <g id=\"matplotlib.axis_1\">\n    <g id=\"xtick_1\">\n     <g id=\"line2d_1\">\n      <defs>\n       <path d=\"M 0 0 \nL 0 3.5 \n\" id=\"m0e41d21995\" style=\"stroke:#000000;stroke-width:0.8;\"/>\n      </defs>\n      <g>\n       <use style=\"stroke:#000000;stroke-width:0.8;\" x=\"28.62375\" xlink:href=\"#m0e41d21995\" y=\"226.740469\"/>\n      </g>\n     </g>\n     <g id=\"text_1\">\n      <!-- 0 -->\n      <g transform=\"translate(25.4425 241.338906)scale(0.1 -0.1)\">\n       <defs>\n        <path d=\"M 31.78125 66.40625 \nQ 24.171875 66.40625 20.328125 58.90625 \nQ 16.5 51.421875 16.5 36.375 \nQ 16.5 21.390625 20.328125 13.890625 \nQ 24.171875 6.390625 31.78125 6.390625 \nQ 39.453125 6.390625 43.28125 13.890625 \nQ 47.125 21.390625 47.125 36.375 \nQ 47.125 51.421875 43.28125 58.90625 \nQ 39.453125 66.40625 31.78125 66.40625 \nz\nM 31.78125 74.21875 \nQ 44.046875 74.21875 50.515625 64.515625 \nQ 56.984375 54.828125 56.984375 36.375 \nQ 56.984375 17.96875 50.515625 8.265625 \nQ 44.046875 -1.421875 31.78125 -1.421875 \nQ 19.53125 -1.421875 13.0625 8.265625 \nQ 6.59375 17.96875 6.59375 36.375 \nQ 6.59375 54.828125 13.0625 64.515625 \nQ 19.53125 74.21875 31.78125 74.21875 \nz\n\" id=\"DejaVuSans-48\"/>\n       </defs>\n       <use xlink:href=\"#DejaVuSans-48\"/>\n      </g>\n     </g>\n    </g>\n    <g id=\"xtick_2\">\n     <g id=\"line2d_2\">\n      <g>\n       <use style=\"stroke:#000000;stroke-width:0.8;\" x=\"62.59875\" xlink:href=\"#m0e41d21995\" y=\"226.740469\"/>\n      </g>\n     </g>\n     <g id=\"text_2\">\n      <!-- 10 -->\n      <g transform=\"translate(56.23625 241.338906)scale(0.1 -0.1)\">\n       <defs>\n        <path d=\"M 12.40625 8.296875 \nL 28.515625 8.296875 \nL 28.515625 63.921875 \nL 10.984375 60.40625 \nL 10.984375 69.390625 \nL 28.421875 72.90625 \nL 38.28125 72.90625 \nL 38.28125 8.296875 \nL 54.390625 8.296875 \nL 54.390625 0 \nL 12.40625 0 \nz\n\" id=\"DejaVuSans-49\"/>\n       </defs>\n       <use xlink:href=\"#DejaVuSans-49\"/>\n       <use x=\"63.623047\" xlink:href=\"#DejaVuSans-48\"/>\n      </g>\n     </g>\n    </g>\n    <g id=\"xtick_3\">\n     <g id=\"line2d_3\">\n      <g>\n       <use style=\"stroke:#000000;stroke-width:0.8;\" x=\"96.57375\" xlink:href=\"#m0e41d21995\" y=\"226.740469\"/>\n      </g>\n     </g>\n     <g id=\"text_3\">\n      <!-- 20 -->\n      <g transform=\"translate(90.21125 241.338906)scale(0.1 -0.1)\">\n       <defs>\n        <path d=\"M 19.1875 8.296875 \nL 53.609375 8.296875 \nL 53.609375 0 \nL 7.328125 0 \nL 7.328125 8.296875 \nQ 12.9375 14.109375 22.625 23.890625 \nQ 32.328125 33.6875 34.8125 36.53125 \nQ 39.546875 41.84375 41.421875 45.53125 \nQ 43.3125 49.21875 43.3125 52.78125 \nQ 43.3125 58.59375 39.234375 62.25 \nQ 35.15625 65.921875 28.609375 65.921875 \nQ 23.96875 65.921875 18.8125 64.3125 \nQ 13.671875 62.703125 7.8125 59.421875 \nL 7.8125 69.390625 \nQ 13.765625 71.78125 18.9375 73 \nQ 24.125 74.21875 28.421875 74.21875 \nQ 39.75 74.21875 46.484375 68.546875 \nQ 53.21875 62.890625 53.21875 53.421875 \nQ 53.21875 48.921875 51.53125 44.890625 \nQ 49.859375 40.875 45.40625 35.40625 \nQ 44.1875 33.984375 37.640625 27.21875 \nQ 31.109375 20.453125 19.1875 8.296875 \nz\n\" id=\"DejaVuSans-50\"/>\n       </defs>\n       <use xlink:href=\"#DejaVuSans-50\"/>\n       <use x=\"63.623047\" xlink:href=\"#DejaVuSans-48\"/>\n      </g>\n     </g>\n    </g>\n    <g id=\"xtick_4\">\n     <g id=\"line2d_4\">\n      <g>\n       <use style=\"stroke:#000000;stroke-width:0.8;\" x=\"130.54875\" xlink:href=\"#m0e41d21995\" y=\"226.740469\"/>\n      </g>\n     </g>\n     <g id=\"text_4\">\n      <!-- 30 -->\n      <g transform=\"translate(124.18625 241.338906)scale(0.1 -0.1)\">\n       <defs>\n        <path d=\"M 40.578125 39.3125 \nQ 47.65625 37.796875 51.625 33 \nQ 55.609375 28.21875 55.609375 21.1875 \nQ 55.609375 10.40625 48.1875 4.484375 \nQ 40.765625 -1.421875 27.09375 -1.421875 \nQ 22.515625 -1.421875 17.65625 -0.515625 \nQ 12.796875 0.390625 7.625 2.203125 \nL 7.625 11.71875 \nQ 11.71875 9.328125 16.59375 8.109375 \nQ 21.484375 6.890625 26.8125 6.890625 \nQ 36.078125 6.890625 40.9375 10.546875 \nQ 45.796875 14.203125 45.796875 21.1875 \nQ 45.796875 27.640625 41.28125 31.265625 \nQ 36.765625 34.90625 28.71875 34.90625 \nL 20.21875 34.90625 \nL 20.21875 43.015625 \nL 29.109375 43.015625 \nQ 36.375 43.015625 40.234375 45.921875 \nQ 44.09375 48.828125 44.09375 54.296875 \nQ 44.09375 59.90625 40.109375 62.90625 \nQ 36.140625 65.921875 28.71875 65.921875 \nQ 24.65625 65.921875 20.015625 65.03125 \nQ 15.375 64.15625 9.8125 62.3125 \nL 9.8125 71.09375 \nQ 15.4375 72.65625 20.34375 73.4375 \nQ 25.25 74.21875 29.59375 74.21875 \nQ 40.828125 74.21875 47.359375 69.109375 \nQ 53.90625 64.015625 53.90625 55.328125 \nQ 53.90625 49.265625 50.4375 45.09375 \nQ 46.96875 40.921875 40.578125 39.3125 \nz\n\" id=\"DejaVuSans-51\"/>\n       </defs>\n       <use xlink:href=\"#DejaVuSans-51\"/>\n       <use x=\"63.623047\" xlink:href=\"#DejaVuSans-48\"/>\n      </g>\n     </g>\n    </g>\n    <g id=\"xtick_5\">\n     <g id=\"line2d_5\">\n      <g>\n       <use style=\"stroke:#000000;stroke-width:0.8;\" x=\"164.52375\" xlink:href=\"#m0e41d21995\" y=\"226.740469\"/>\n      </g>\n     </g>\n     <g id=\"text_5\">\n      <!-- 40 -->\n      <g transform=\"translate(158.16125 241.338906)scale(0.1 -0.1)\">\n       <defs>\n        <path d=\"M 37.796875 64.3125 \nL 12.890625 25.390625 \nL 37.796875 25.390625 \nz\nM 35.203125 72.90625 \nL 47.609375 72.90625 \nL 47.609375 25.390625 \nL 58.015625 25.390625 \nL 58.015625 17.1875 \nL 47.609375 17.1875 \nL 47.609375 0 \nL 37.796875 0 \nL 37.796875 17.1875 \nL 4.890625 17.1875 \nL 4.890625 26.703125 \nz\n\" id=\"DejaVuSans-52\"/>\n       </defs>\n       <use xlink:href=\"#DejaVuSans-52\"/>\n       <use x=\"63.623047\" xlink:href=\"#DejaVuSans-48\"/>\n      </g>\n     </g>\n    </g>\n    <g id=\"xtick_6\">\n     <g id=\"line2d_6\">\n      <g>\n       <use style=\"stroke:#000000;stroke-width:0.8;\" x=\"198.49875\" xlink:href=\"#m0e41d21995\" y=\"226.740469\"/>\n      </g>\n     </g>\n     <g id=\"text_6\">\n      <!-- 50 -->\n      <g transform=\"translate(192.13625 241.338906)scale(0.1 -0.1)\">\n       <defs>\n        <path d=\"M 10.796875 72.90625 \nL 49.515625 72.90625 \nL 49.515625 64.59375 \nL 19.828125 64.59375 \nL 19.828125 46.734375 \nQ 21.96875 47.46875 24.109375 47.828125 \nQ 26.265625 48.1875 28.421875 48.1875 \nQ 40.625 48.1875 47.75 41.5 \nQ 54.890625 34.8125 54.890625 23.390625 \nQ 54.890625 11.625 47.5625 5.09375 \nQ 40.234375 -1.421875 26.90625 -1.421875 \nQ 22.3125 -1.421875 17.546875 -0.640625 \nQ 12.796875 0.140625 7.71875 1.703125 \nL 7.71875 11.625 \nQ 12.109375 9.234375 16.796875 8.0625 \nQ 21.484375 6.890625 26.703125 6.890625 \nQ 35.15625 6.890625 40.078125 11.328125 \nQ 45.015625 15.765625 45.015625 23.390625 \nQ 45.015625 31 40.078125 35.4375 \nQ 35.15625 39.890625 26.703125 39.890625 \nQ 22.75 39.890625 18.8125 39.015625 \nQ 14.890625 38.140625 10.796875 36.28125 \nz\n\" id=\"DejaVuSans-53\"/>\n       </defs>\n       <use xlink:href=\"#DejaVuSans-53\"/>\n       <use x=\"63.623047\" xlink:href=\"#DejaVuSans-48\"/>\n      </g>\n     </g>\n    </g>\n    <g id=\"xtick_7\">\n     <g id=\"line2d_7\">\n      <g>\n       <use style=\"stroke:#000000;stroke-width:0.8;\" x=\"232.47375\" xlink:href=\"#m0e41d21995\" y=\"226.740469\"/>\n      </g>\n     </g>\n     <g id=\"text_7\">\n      <!-- 60 -->\n      <g transform=\"translate(226.11125 241.338906)scale(0.1 -0.1)\">\n       <defs>\n        <path d=\"M 33.015625 40.375 \nQ 26.375 40.375 22.484375 35.828125 \nQ 18.609375 31.296875 18.609375 23.390625 \nQ 18.609375 15.53125 22.484375 10.953125 \nQ 26.375 6.390625 33.015625 6.390625 \nQ 39.65625 6.390625 43.53125 10.953125 \nQ 47.40625 15.53125 47.40625 23.390625 \nQ 47.40625 31.296875 43.53125 35.828125 \nQ 39.65625 40.375 33.015625 40.375 \nz\nM 52.59375 71.296875 \nL 52.59375 62.3125 \nQ 48.875 64.0625 45.09375 64.984375 \nQ 41.3125 65.921875 37.59375 65.921875 \nQ 27.828125 65.921875 22.671875 59.328125 \nQ 17.53125 52.734375 16.796875 39.40625 \nQ 19.671875 43.65625 24.015625 45.921875 \nQ 28.375 48.1875 33.59375 48.1875 \nQ 44.578125 48.1875 50.953125 41.515625 \nQ 57.328125 34.859375 57.328125 23.390625 \nQ 57.328125 12.15625 50.6875 5.359375 \nQ 44.046875 -1.421875 33.015625 -1.421875 \nQ 20.359375 -1.421875 13.671875 8.265625 \nQ 6.984375 17.96875 6.984375 36.375 \nQ 6.984375 53.65625 15.1875 63.9375 \nQ 23.390625 74.21875 37.203125 74.21875 \nQ 40.921875 74.21875 44.703125 73.484375 \nQ 48.484375 72.75 52.59375 71.296875 \nz\n\" id=\"DejaVuSans-54\"/>\n       </defs>\n       <use xlink:href=\"#DejaVuSans-54\"/>\n       <use x=\"63.623047\" xlink:href=\"#DejaVuSans-48\"/>\n      </g>\n     </g>\n    </g>\n   </g>\n   <g id=\"matplotlib.axis_2\">\n    <g id=\"ytick_1\">\n     <g id=\"line2d_8\">\n      <defs>\n       <path d=\"M 0 0 \nL -3.5 0 \n\" id=\"m74c3e08ccb\" style=\"stroke:#000000;stroke-width:0.8;\"/>\n      </defs>\n      <g>\n       <use style=\"stroke:#000000;stroke-width:0.8;\" x=\"26.925\" xlink:href=\"#m74c3e08ccb\" y=\"10.999219\"/>\n      </g>\n     </g>\n     <g id=\"text_8\">\n      <!-- 0 -->\n      <g transform=\"translate(13.5625 14.798437)scale(0.1 -0.1)\">\n       <use xlink:href=\"#DejaVuSans-48\"/>\n      </g>\n     </g>\n    </g>\n    <g id=\"ytick_2\">\n     <g id=\"line2d_9\">\n      <g>\n       <use style=\"stroke:#000000;stroke-width:0.8;\" x=\"26.925\" xlink:href=\"#m74c3e08ccb\" y=\"44.974219\"/>\n      </g>\n     </g>\n     <g id=\"text_9\">\n      <!-- 10 -->\n      <g transform=\"translate(7.2 48.773437)scale(0.1 -0.1)\">\n       <use xlink:href=\"#DejaVuSans-49\"/>\n       <use x=\"63.623047\" xlink:href=\"#DejaVuSans-48\"/>\n      </g>\n     </g>\n    </g>\n    <g id=\"ytick_3\">\n     <g id=\"line2d_10\">\n      <g>\n       <use style=\"stroke:#000000;stroke-width:0.8;\" x=\"26.925\" xlink:href=\"#m74c3e08ccb\" y=\"78.949219\"/>\n      </g>\n     </g>\n     <g id=\"text_10\">\n      <!-- 20 -->\n      <g transform=\"translate(7.2 82.748437)scale(0.1 -0.1)\">\n       <use xlink:href=\"#DejaVuSans-50\"/>\n       <use x=\"63.623047\" xlink:href=\"#DejaVuSans-48\"/>\n      </g>\n     </g>\n    </g>\n    <g id=\"ytick_4\">\n     <g id=\"line2d_11\">\n      <g>\n       <use style=\"stroke:#000000;stroke-width:0.8;\" x=\"26.925\" xlink:href=\"#m74c3e08ccb\" y=\"112.924219\"/>\n      </g>\n     </g>\n     <g id=\"text_11\">\n      <!-- 30 -->\n      <g transform=\"translate(7.2 116.723437)scale(0.1 -0.1)\">\n       <use xlink:href=\"#DejaVuSans-51\"/>\n       <use x=\"63.623047\" xlink:href=\"#DejaVuSans-48\"/>\n      </g>\n     </g>\n    </g>\n    <g id=\"ytick_5\">\n     <g id=\"line2d_12\">\n      <g>\n       <use style=\"stroke:#000000;stroke-width:0.8;\" x=\"26.925\" xlink:href=\"#m74c3e08ccb\" y=\"146.899219\"/>\n      </g>\n     </g>\n     <g id=\"text_12\">\n      <!-- 40 -->\n      <g transform=\"translate(7.2 150.698437)scale(0.1 -0.1)\">\n       <use xlink:href=\"#DejaVuSans-52\"/>\n       <use x=\"63.623047\" xlink:href=\"#DejaVuSans-48\"/>\n      </g>\n     </g>\n    </g>\n    <g id=\"ytick_6\">\n     <g id=\"line2d_13\">\n      <g>\n       <use style=\"stroke:#000000;stroke-width:0.8;\" x=\"26.925\" xlink:href=\"#m74c3e08ccb\" y=\"180.874219\"/>\n      </g>\n     </g>\n     <g id=\"text_13\">\n      <!-- 50 -->\n      <g transform=\"translate(7.2 184.673437)scale(0.1 -0.1)\">\n       <use xlink:href=\"#DejaVuSans-53\"/>\n       <use x=\"63.623047\" xlink:href=\"#DejaVuSans-48\"/>\n      </g>\n     </g>\n    </g>\n    <g id=\"ytick_7\">\n     <g id=\"line2d_14\">\n      <g>\n       <use style=\"stroke:#000000;stroke-width:0.8;\" x=\"26.925\" xlink:href=\"#m74c3e08ccb\" y=\"214.849219\"/>\n      </g>\n     </g>\n     <g id=\"text_14\">\n      <!-- 60 -->\n      <g transform=\"translate(7.2 218.648437)scale(0.1 -0.1)\">\n       <use xlink:href=\"#DejaVuSans-54\"/>\n       <use x=\"63.623047\" xlink:href=\"#DejaVuSans-48\"/>\n      </g>\n     </g>\n    </g>\n   </g>\n   <g id=\"patch_3\">\n    <path d=\"M 26.925 226.740469 \nL 26.925 9.300469 \n\" style=\"fill:none;stroke:#000000;stroke-linecap:square;stroke-linejoin:miter;stroke-width:0.8;\"/>\n   </g>\n   <g id=\"patch_4\">\n    <path d=\"M 244.365 226.740469 \nL 244.365 9.300469 \n\" style=\"fill:none;stroke:#000000;stroke-linecap:square;stroke-linejoin:miter;stroke-width:0.8;\"/>\n   </g>\n   <g id=\"patch_5\">\n    <path d=\"M 26.925 226.740469 \nL 244.365 226.740469 \n\" style=\"fill:none;stroke:#000000;stroke-linecap:square;stroke-linejoin:miter;stroke-width:0.8;\"/>\n   </g>\n   <g id=\"patch_6\">\n    <path d=\"M 26.925 9.300469 \nL 244.365 9.300469 \n\" style=\"fill:none;stroke:#000000;stroke-linecap:square;stroke-linejoin:miter;stroke-width:0.8;\"/>\n   </g>\n  </g>\n </g>\n <defs>\n  <clipPath id=\"pa31fb46e5c\">\n   <rect height=\"217.44\" width=\"217.44\" x=\"26.925\" y=\"9.300469\"/>\n  </clipPath>\n </defs>\n</svg>\n",
            "image/png": "[encoded data removed]"
          },
          "metadata": {
            "needs_background": "light"
          }
        },
        {
          "output_type": "display_data",
          "data": {
            "text/plain": "<Figure size 432x288 with 1 Axes>",
            "image/svg+xml": "<?xml version=\"1.0\" encoding=\"utf-8\" standalone=\"no\"?>\n<!DOCTYPE svg PUBLIC \"-//W3C//DTD SVG 1.1//EN\"\n  \"http://www.w3.org/Graphics/SVG/1.1/DTD/svg11.dtd\">\n<!-- Created with matplotlib (https://matplotlib.org/) -->\n<svg height=\"250.618594pt\" version=\"1.1\" viewBox=\"0 0 251.565 250.618594\" width=\"251.565pt\" xmlns=\"http://www.w3.org/2000/svg\" xmlns:xlink=\"http://www.w3.org/1999/xlink\">\n <metadata>\n  <rdf:RDF xmlns:cc=\"http://creativecommons.org/ns#\" xmlns:dc=\"http://purl.org/dc/elements/1.1/\" xmlns:rdf=\"http://www.w3.org/1999/02/22-rdf-syntax-ns#\">\n   <cc:Work>\n    <dc:type rdf:resource=\"http://purl.org/dc/dcmitype/StillImage\"/>\n    <dc:date>2021-05-06T17:13:20.223471</dc:date>\n    <dc:format>image/svg+xml</dc:format>\n    <dc:creator>\n     <cc:Agent>\n      <dc:title>Matplotlib v3.3.2, https://matplotlib.org/</dc:title>\n     </cc:Agent>\n    </dc:creator>\n   </cc:Work>\n  </rdf:RDF>\n </metadata>\n <defs>\n  <style type=\"text/css\">*{stroke-linecap:butt;stroke-linejoin:round;}</style>\n </defs>\n <g id=\"figure_1\">\n  <g id=\"patch_1\">\n   <path d=\"M 0 250.618594 \nL 251.565 250.618594 \nL 251.565 0 \nL 0 0 \nz\n\" style=\"fill:none;\"/>\n  </g>\n  <g id=\"axes_1\">\n   <g id=\"patch_2\">\n    <path d=\"M 26.925 226.740469 \nL 244.365 226.740469 \nL 244.365 9.300469 \nL 26.925 9.300469 \nz\n\" style=\"fill:#ffffff;\"/>\n   </g>\n   <g clip-path=\"url(#paeb702f614)\">\n    <image height=\"218\" id=\"imaged78b1879df\" transform=\"scale(1 -1)translate(0 -218)\" width=\"218\" x=\"26.925\" xlink:href=\"data:image/png;base64,\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\" y=\"-8.740469\"/>\n   </g>\n   <g id=\"matplotlib.axis_1\">\n    <g id=\"xtick_1\">\n     <g id=\"line2d_1\">\n      <defs>\n       <path d=\"M 0 0 \nL 0 3.5 \n\" id=\"m0be1e3564d\" style=\"stroke:#000000;stroke-width:0.8;\"/>\n      </defs>\n      <g>\n       <use style=\"stroke:#000000;stroke-width:0.8;\" x=\"28.62375\" xlink:href=\"#m0be1e3564d\" y=\"226.740469\"/>\n      </g>\n     </g>\n     <g id=\"text_1\">\n      <!-- 0 -->\n      <g transform=\"translate(25.4425 241.338906)scale(0.1 -0.1)\">\n       <defs>\n        <path d=\"M 31.78125 66.40625 \nQ 24.171875 66.40625 20.328125 58.90625 \nQ 16.5 51.421875 16.5 36.375 \nQ 16.5 21.390625 20.328125 13.890625 \nQ 24.171875 6.390625 31.78125 6.390625 \nQ 39.453125 6.390625 43.28125 13.890625 \nQ 47.125 21.390625 47.125 36.375 \nQ 47.125 51.421875 43.28125 58.90625 \nQ 39.453125 66.40625 31.78125 66.40625 \nz\nM 31.78125 74.21875 \nQ 44.046875 74.21875 50.515625 64.515625 \nQ 56.984375 54.828125 56.984375 36.375 \nQ 56.984375 17.96875 50.515625 8.265625 \nQ 44.046875 -1.421875 31.78125 -1.421875 \nQ 19.53125 -1.421875 13.0625 8.265625 \nQ 6.59375 17.96875 6.59375 36.375 \nQ 6.59375 54.828125 13.0625 64.515625 \nQ 19.53125 74.21875 31.78125 74.21875 \nz\n\" id=\"DejaVuSans-48\"/>\n       </defs>\n       <use xlink:href=\"#DejaVuSans-48\"/>\n      </g>\n     </g>\n    </g>\n    <g id=\"xtick_2\">\n     <g id=\"line2d_2\">\n      <g>\n       <use style=\"stroke:#000000;stroke-width:0.8;\" x=\"62.59875\" xlink:href=\"#m0be1e3564d\" y=\"226.740469\"/>\n      </g>\n     </g>\n     <g id=\"text_2\">\n      <!-- 10 -->\n      <g transform=\"translate(56.23625 241.338906)scale(0.1 -0.1)\">\n       <defs>\n        <path d=\"M 12.40625 8.296875 \nL 28.515625 8.296875 \nL 28.515625 63.921875 \nL 10.984375 60.40625 \nL 10.984375 69.390625 \nL 28.421875 72.90625 \nL 38.28125 72.90625 \nL 38.28125 8.296875 \nL 54.390625 8.296875 \nL 54.390625 0 \nL 12.40625 0 \nz\n\" id=\"DejaVuSans-49\"/>\n       </defs>\n       <use xlink:href=\"#DejaVuSans-49\"/>\n       <use x=\"63.623047\" xlink:href=\"#DejaVuSans-48\"/>\n      </g>\n     </g>\n    </g>\n    <g id=\"xtick_3\">\n     <g id=\"line2d_3\">\n      <g>\n       <use style=\"stroke:#000000;stroke-width:0.8;\" x=\"96.57375\" xlink:href=\"#m0be1e3564d\" y=\"226.740469\"/>\n      </g>\n     </g>\n     <g id=\"text_3\">\n      <!-- 20 -->\n      <g transform=\"translate(90.21125 241.338906)scale(0.1 -0.1)\">\n       <defs>\n        <path d=\"M 19.1875 8.296875 \nL 53.609375 8.296875 \nL 53.609375 0 \nL 7.328125 0 \nL 7.328125 8.296875 \nQ 12.9375 14.109375 22.625 23.890625 \nQ 32.328125 33.6875 34.8125 36.53125 \nQ 39.546875 41.84375 41.421875 45.53125 \nQ 43.3125 49.21875 43.3125 52.78125 \nQ 43.3125 58.59375 39.234375 62.25 \nQ 35.15625 65.921875 28.609375 65.921875 \nQ 23.96875 65.921875 18.8125 64.3125 \nQ 13.671875 62.703125 7.8125 59.421875 \nL 7.8125 69.390625 \nQ 13.765625 71.78125 18.9375 73 \nQ 24.125 74.21875 28.421875 74.21875 \nQ 39.75 74.21875 46.484375 68.546875 \nQ 53.21875 62.890625 53.21875 53.421875 \nQ 53.21875 48.921875 51.53125 44.890625 \nQ 49.859375 40.875 45.40625 35.40625 \nQ 44.1875 33.984375 37.640625 27.21875 \nQ 31.109375 20.453125 19.1875 8.296875 \nz\n\" id=\"DejaVuSans-50\"/>\n       </defs>\n       <use xlink:href=\"#DejaVuSans-50\"/>\n       <use x=\"63.623047\" xlink:href=\"#DejaVuSans-48\"/>\n      </g>\n     </g>\n    </g>\n    <g id=\"xtick_4\">\n     <g id=\"line2d_4\">\n      <g>\n       <use style=\"stroke:#000000;stroke-width:0.8;\" x=\"130.54875\" xlink:href=\"#m0be1e3564d\" y=\"226.740469\"/>\n      </g>\n     </g>\n     <g id=\"text_4\">\n      <!-- 30 -->\n      <g transform=\"translate(124.18625 241.338906)scale(0.1 -0.1)\">\n       <defs>\n        <path d=\"M 40.578125 39.3125 \nQ 47.65625 37.796875 51.625 33 \nQ 55.609375 28.21875 55.609375 21.1875 \nQ 55.609375 10.40625 48.1875 4.484375 \nQ 40.765625 -1.421875 27.09375 -1.421875 \nQ 22.515625 -1.421875 17.65625 -0.515625 \nQ 12.796875 0.390625 7.625 2.203125 \nL 7.625 11.71875 \nQ 11.71875 9.328125 16.59375 8.109375 \nQ 21.484375 6.890625 26.8125 6.890625 \nQ 36.078125 6.890625 40.9375 10.546875 \nQ 45.796875 14.203125 45.796875 21.1875 \nQ 45.796875 27.640625 41.28125 31.265625 \nQ 36.765625 34.90625 28.71875 34.90625 \nL 20.21875 34.90625 \nL 20.21875 43.015625 \nL 29.109375 43.015625 \nQ 36.375 43.015625 40.234375 45.921875 \nQ 44.09375 48.828125 44.09375 54.296875 \nQ 44.09375 59.90625 40.109375 62.90625 \nQ 36.140625 65.921875 28.71875 65.921875 \nQ 24.65625 65.921875 20.015625 65.03125 \nQ 15.375 64.15625 9.8125 62.3125 \nL 9.8125 71.09375 \nQ 15.4375 72.65625 20.34375 73.4375 \nQ 25.25 74.21875 29.59375 74.21875 \nQ 40.828125 74.21875 47.359375 69.109375 \nQ 53.90625 64.015625 53.90625 55.328125 \nQ 53.90625 49.265625 50.4375 45.09375 \nQ 46.96875 40.921875 40.578125 39.3125 \nz\n\" id=\"DejaVuSans-51\"/>\n       </defs>\n       <use xlink:href=\"#DejaVuSans-51\"/>\n       <use x=\"63.623047\" xlink:href=\"#DejaVuSans-48\"/>\n      </g>\n     </g>\n    </g>\n    <g id=\"xtick_5\">\n     <g id=\"line2d_5\">\n      <g>\n       <use style=\"stroke:#000000;stroke-width:0.8;\" x=\"164.52375\" xlink:href=\"#m0be1e3564d\" y=\"226.740469\"/>\n      </g>\n     </g>\n     <g id=\"text_5\">\n      <!-- 40 -->\n      <g transform=\"translate(158.16125 241.338906)scale(0.1 -0.1)\">\n       <defs>\n        <path d=\"M 37.796875 64.3125 \nL 12.890625 25.390625 \nL 37.796875 25.390625 \nz\nM 35.203125 72.90625 \nL 47.609375 72.90625 \nL 47.609375 25.390625 \nL 58.015625 25.390625 \nL 58.015625 17.1875 \nL 47.609375 17.1875 \nL 47.609375 0 \nL 37.796875 0 \nL 37.796875 17.1875 \nL 4.890625 17.1875 \nL 4.890625 26.703125 \nz\n\" id=\"DejaVuSans-52\"/>\n       </defs>\n       <use xlink:href=\"#DejaVuSans-52\"/>\n       <use x=\"63.623047\" xlink:href=\"#DejaVuSans-48\"/>\n      </g>\n     </g>\n    </g>\n    <g id=\"xtick_6\">\n     <g id=\"line2d_6\">\n      <g>\n       <use style=\"stroke:#000000;stroke-width:0.8;\" x=\"198.49875\" xlink:href=\"#m0be1e3564d\" y=\"226.740469\"/>\n      </g>\n     </g>\n     <g id=\"text_6\">\n      <!-- 50 -->\n      <g transform=\"translate(192.13625 241.338906)scale(0.1 -0.1)\">\n       <defs>\n        <path d=\"M 10.796875 72.90625 \nL 49.515625 72.90625 \nL 49.515625 64.59375 \nL 19.828125 64.59375 \nL 19.828125 46.734375 \nQ 21.96875 47.46875 24.109375 47.828125 \nQ 26.265625 48.1875 28.421875 48.1875 \nQ 40.625 48.1875 47.75 41.5 \nQ 54.890625 34.8125 54.890625 23.390625 \nQ 54.890625 11.625 47.5625 5.09375 \nQ 40.234375 -1.421875 26.90625 -1.421875 \nQ 22.3125 -1.421875 17.546875 -0.640625 \nQ 12.796875 0.140625 7.71875 1.703125 \nL 7.71875 11.625 \nQ 12.109375 9.234375 16.796875 8.0625 \nQ 21.484375 6.890625 26.703125 6.890625 \nQ 35.15625 6.890625 40.078125 11.328125 \nQ 45.015625 15.765625 45.015625 23.390625 \nQ 45.015625 31 40.078125 35.4375 \nQ 35.15625 39.890625 26.703125 39.890625 \nQ 22.75 39.890625 18.8125 39.015625 \nQ 14.890625 38.140625 10.796875 36.28125 \nz\n\" id=\"DejaVuSans-53\"/>\n       </defs>\n       <use xlink:href=\"#DejaVuSans-53\"/>\n       <use x=\"63.623047\" xlink:href=\"#DejaVuSans-48\"/>\n      </g>\n     </g>\n    </g>\n    <g id=\"xtick_7\">\n     <g id=\"line2d_7\">\n      <g>\n       <use style=\"stroke:#000000;stroke-width:0.8;\" x=\"232.47375\" xlink:href=\"#m0be1e3564d\" y=\"226.740469\"/>\n      </g>\n     </g>\n     <g id=\"text_7\">\n      <!-- 60 -->\n      <g transform=\"translate(226.11125 241.338906)scale(0.1 -0.1)\">\n       <defs>\n        <path d=\"M 33.015625 40.375 \nQ 26.375 40.375 22.484375 35.828125 \nQ 18.609375 31.296875 18.609375 23.390625 \nQ 18.609375 15.53125 22.484375 10.953125 \nQ 26.375 6.390625 33.015625 6.390625 \nQ 39.65625 6.390625 43.53125 10.953125 \nQ 47.40625 15.53125 47.40625 23.390625 \nQ 47.40625 31.296875 43.53125 35.828125 \nQ 39.65625 40.375 33.015625 40.375 \nz\nM 52.59375 71.296875 \nL 52.59375 62.3125 \nQ 48.875 64.0625 45.09375 64.984375 \nQ 41.3125 65.921875 37.59375 65.921875 \nQ 27.828125 65.921875 22.671875 59.328125 \nQ 17.53125 52.734375 16.796875 39.40625 \nQ 19.671875 43.65625 24.015625 45.921875 \nQ 28.375 48.1875 33.59375 48.1875 \nQ 44.578125 48.1875 50.953125 41.515625 \nQ 57.328125 34.859375 57.328125 23.390625 \nQ 57.328125 12.15625 50.6875 5.359375 \nQ 44.046875 -1.421875 33.015625 -1.421875 \nQ 20.359375 -1.421875 13.671875 8.265625 \nQ 6.984375 17.96875 6.984375 36.375 \nQ 6.984375 53.65625 15.1875 63.9375 \nQ 23.390625 74.21875 37.203125 74.21875 \nQ 40.921875 74.21875 44.703125 73.484375 \nQ 48.484375 72.75 52.59375 71.296875 \nz\n\" id=\"DejaVuSans-54\"/>\n       </defs>\n       <use xlink:href=\"#DejaVuSans-54\"/>\n       <use x=\"63.623047\" xlink:href=\"#DejaVuSans-48\"/>\n      </g>\n     </g>\n    </g>\n   </g>\n   <g id=\"matplotlib.axis_2\">\n    <g id=\"ytick_1\">\n     <g id=\"line2d_8\">\n      <defs>\n       <path d=\"M 0 0 \nL -3.5 0 \n\" id=\"m9dc92a3535\" style=\"stroke:#000000;stroke-width:0.8;\"/>\n      </defs>\n      <g>\n       <use style=\"stroke:#000000;stroke-width:0.8;\" x=\"26.925\" xlink:href=\"#m9dc92a3535\" y=\"10.999219\"/>\n      </g>\n     </g>\n     <g id=\"text_8\">\n      <!-- 0 -->\n      <g transform=\"translate(13.5625 14.798437)scale(0.1 -0.1)\">\n       <use xlink:href=\"#DejaVuSans-48\"/>\n      </g>\n     </g>\n    </g>\n    <g id=\"ytick_2\">\n     <g id=\"line2d_9\">\n      <g>\n       <use style=\"stroke:#000000;stroke-width:0.8;\" x=\"26.925\" xlink:href=\"#m9dc92a3535\" y=\"44.974219\"/>\n      </g>\n     </g>\n     <g id=\"text_9\">\n      <!-- 10 -->\n      <g transform=\"translate(7.2 48.773437)scale(0.1 -0.1)\">\n       <use xlink:href=\"#DejaVuSans-49\"/>\n       <use x=\"63.623047\" xlink:href=\"#DejaVuSans-48\"/>\n      </g>\n     </g>\n    </g>\n    <g id=\"ytick_3\">\n     <g id=\"line2d_10\">\n      <g>\n       <use style=\"stroke:#000000;stroke-width:0.8;\" x=\"26.925\" xlink:href=\"#m9dc92a3535\" y=\"78.949219\"/>\n      </g>\n     </g>\n     <g id=\"text_10\">\n      <!-- 20 -->\n      <g transform=\"translate(7.2 82.748437)scale(0.1 -0.1)\">\n       <use xlink:href=\"#DejaVuSans-50\"/>\n       <use x=\"63.623047\" xlink:href=\"#DejaVuSans-48\"/>\n      </g>\n     </g>\n    </g>\n    <g id=\"ytick_4\">\n     <g id=\"line2d_11\">\n      <g>\n       <use style=\"stroke:#000000;stroke-width:0.8;\" x=\"26.925\" xlink:href=\"#m9dc92a3535\" y=\"112.924219\"/>\n      </g>\n     </g>\n     <g id=\"text_11\">\n      <!-- 30 -->\n      <g transform=\"translate(7.2 116.723437)scale(0.1 -0.1)\">\n       <use xlink:href=\"#DejaVuSans-51\"/>\n       <use x=\"63.623047\" xlink:href=\"#DejaVuSans-48\"/>\n      </g>\n     </g>\n    </g>\n    <g id=\"ytick_5\">\n     <g id=\"line2d_12\">\n      <g>\n       <use style=\"stroke:#000000;stroke-width:0.8;\" x=\"26.925\" xlink:href=\"#m9dc92a3535\" y=\"146.899219\"/>\n      </g>\n     </g>\n     <g id=\"text_12\">\n      <!-- 40 -->\n      <g transform=\"translate(7.2 150.698437)scale(0.1 -0.1)\">\n       <use xlink:href=\"#DejaVuSans-52\"/>\n       <use x=\"63.623047\" xlink:href=\"#DejaVuSans-48\"/>\n      </g>\n     </g>\n    </g>\n    <g id=\"ytick_6\">\n     <g id=\"line2d_13\">\n      <g>\n       <use style=\"stroke:#000000;stroke-width:0.8;\" x=\"26.925\" xlink:href=\"#m9dc92a3535\" y=\"180.874219\"/>\n      </g>\n     </g>\n     <g id=\"text_13\">\n      <!-- 50 -->\n      <g transform=\"translate(7.2 184.673437)scale(0.1 -0.1)\">\n       <use xlink:href=\"#DejaVuSans-53\"/>\n       <use x=\"63.623047\" xlink:href=\"#DejaVuSans-48\"/>\n      </g>\n     </g>\n    </g>\n    <g id=\"ytick_7\">\n     <g id=\"line2d_14\">\n      <g>\n       <use style=\"stroke:#000000;stroke-width:0.8;\" x=\"26.925\" xlink:href=\"#m9dc92a3535\" y=\"214.849219\"/>\n      </g>\n     </g>\n     <g id=\"text_14\">\n      <!-- 60 -->\n      <g transform=\"translate(7.2 218.648437)scale(0.1 -0.1)\">\n       <use xlink:href=\"#DejaVuSans-54\"/>\n       <use x=\"63.623047\" xlink:href=\"#DejaVuSans-48\"/>\n      </g>\n     </g>\n    </g>\n   </g>\n   <g id=\"patch_3\">\n    <path d=\"M 26.925 226.740469 \nL 26.925 9.300469 \n\" style=\"fill:none;stroke:#000000;stroke-linecap:square;stroke-linejoin:miter;stroke-width:0.8;\"/>\n   </g>\n   <g id=\"patch_4\">\n    <path d=\"M 244.365 226.740469 \nL 244.365 9.300469 \n\" style=\"fill:none;stroke:#000000;stroke-linecap:square;stroke-linejoin:miter;stroke-width:0.8;\"/>\n   </g>\n   <g id=\"patch_5\">\n    <path d=\"M 26.925 226.740469 \nL 244.365 226.740469 \n\" style=\"fill:none;stroke:#000000;stroke-linecap:square;stroke-linejoin:miter;stroke-width:0.8;\"/>\n   </g>\n   <g id=\"patch_6\">\n    <path d=\"M 26.925 9.300469 \nL 244.365 9.300469 \n\" style=\"fill:none;stroke:#000000;stroke-linecap:square;stroke-linejoin:miter;stroke-width:0.8;\"/>\n   </g>\n  </g>\n </g>\n <defs>\n  <clipPath id=\"paeb702f614\">\n   <rect height=\"217.44\" width=\"217.44\" x=\"26.925\" y=\"9.300469\"/>\n  </clipPath>\n </defs>\n</svg>\n",
            "image/png": "[encoded data removed]"
          },
          "metadata": {
            "needs_background": "light"
          }
        },
        {
          "output_type": "display_data",
          "data": {
            "text/plain": "<Figure size 432x288 with 1 Axes>",
            "image/svg+xml": "<?xml version=\"1.0\" encoding=\"utf-8\" standalone=\"no\"?>\n<!DOCTYPE svg PUBLIC \"-//W3C//DTD SVG 1.1//EN\"\n  \"http://www.w3.org/Graphics/SVG/1.1/DTD/svg11.dtd\">\n<!-- Created with matplotlib (https://matplotlib.org/) -->\n<svg height=\"250.618594pt\" version=\"1.1\" viewBox=\"0 0 251.565 250.618594\" width=\"251.565pt\" xmlns=\"http://www.w3.org/2000/svg\" xmlns:xlink=\"http://www.w3.org/1999/xlink\">\n <metadata>\n  <rdf:RDF xmlns:cc=\"http://creativecommons.org/ns#\" xmlns:dc=\"http://purl.org/dc/elements/1.1/\" xmlns:rdf=\"http://www.w3.org/1999/02/22-rdf-syntax-ns#\">\n   <cc:Work>\n    <dc:type rdf:resource=\"http://purl.org/dc/dcmitype/StillImage\"/>\n    <dc:date>2021-05-06T17:13:20.403557</dc:date>\n    <dc:format>image/svg+xml</dc:format>\n    <dc:creator>\n     <cc:Agent>\n      <dc:title>Matplotlib v3.3.2, https://matplotlib.org/</dc:title>\n     </cc:Agent>\n    </dc:creator>\n   </cc:Work>\n  </rdf:RDF>\n </metadata>\n <defs>\n  <style type=\"text/css\">*{stroke-linecap:butt;stroke-linejoin:round;}</style>\n </defs>\n <g id=\"figure_1\">\n  <g id=\"patch_1\">\n   <path d=\"M 0 250.618594 \nL 251.565 250.618594 \nL 251.565 0 \nL 0 0 \nz\n\" style=\"fill:none;\"/>\n  </g>\n  <g id=\"axes_1\">\n   <g id=\"patch_2\">\n    <path d=\"M 26.925 226.740469 \nL 244.365 226.740469 \nL 244.365 9.300469 \nL 26.925 9.300469 \nz\n\" style=\"fill:#ffffff;\"/>\n   </g>\n   <g clip-path=\"url(#p15a652b6f0)\">\n    <image height=\"218\" id=\"image8f23dfd5e5\" transform=\"scale(1 -1)translate(0 -218)\" width=\"218\" x=\"26.925\" xlink:href=\"data:image/png;base64,\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\" y=\"-8.740469\"/>\n   </g>\n   <g id=\"matplotlib.axis_1\">\n    <g id=\"xtick_1\">\n     <g id=\"line2d_1\">\n      <defs>\n       <path d=\"M 0 0 \nL 0 3.5 \n\" id=\"m029569c284\" style=\"stroke:#000000;stroke-width:0.8;\"/>\n      </defs>\n      <g>\n       <use style=\"stroke:#000000;stroke-width:0.8;\" x=\"28.62375\" xlink:href=\"#m029569c284\" y=\"226.740469\"/>\n      </g>\n     </g>\n     <g id=\"text_1\">\n      <!-- 0 -->\n      <g transform=\"translate(25.4425 241.338906)scale(0.1 -0.1)\">\n       <defs>\n        <path d=\"M 31.78125 66.40625 \nQ 24.171875 66.40625 20.328125 58.90625 \nQ 16.5 51.421875 16.5 36.375 \nQ 16.5 21.390625 20.328125 13.890625 \nQ 24.171875 6.390625 31.78125 6.390625 \nQ 39.453125 6.390625 43.28125 13.890625 \nQ 47.125 21.390625 47.125 36.375 \nQ 47.125 51.421875 43.28125 58.90625 \nQ 39.453125 66.40625 31.78125 66.40625 \nz\nM 31.78125 74.21875 \nQ 44.046875 74.21875 50.515625 64.515625 \nQ 56.984375 54.828125 56.984375 36.375 \nQ 56.984375 17.96875 50.515625 8.265625 \nQ 44.046875 -1.421875 31.78125 -1.421875 \nQ 19.53125 -1.421875 13.0625 8.265625 \nQ 6.59375 17.96875 6.59375 36.375 \nQ 6.59375 54.828125 13.0625 64.515625 \nQ 19.53125 74.21875 31.78125 74.21875 \nz\n\" id=\"DejaVuSans-48\"/>\n       </defs>\n       <use xlink:href=\"#DejaVuSans-48\"/>\n      </g>\n     </g>\n    </g>\n    <g id=\"xtick_2\">\n     <g id=\"line2d_2\">\n      <g>\n       <use style=\"stroke:#000000;stroke-width:0.8;\" x=\"62.59875\" xlink:href=\"#m029569c284\" y=\"226.740469\"/>\n      </g>\n     </g>\n     <g id=\"text_2\">\n      <!-- 10 -->\n      <g transform=\"translate(56.23625 241.338906)scale(0.1 -0.1)\">\n       <defs>\n        <path d=\"M 12.40625 8.296875 \nL 28.515625 8.296875 \nL 28.515625 63.921875 \nL 10.984375 60.40625 \nL 10.984375 69.390625 \nL 28.421875 72.90625 \nL 38.28125 72.90625 \nL 38.28125 8.296875 \nL 54.390625 8.296875 \nL 54.390625 0 \nL 12.40625 0 \nz\n\" id=\"DejaVuSans-49\"/>\n       </defs>\n       <use xlink:href=\"#DejaVuSans-49\"/>\n       <use x=\"63.623047\" xlink:href=\"#DejaVuSans-48\"/>\n      </g>\n     </g>\n    </g>\n    <g id=\"xtick_3\">\n     <g id=\"line2d_3\">\n      <g>\n       <use style=\"stroke:#000000;stroke-width:0.8;\" x=\"96.57375\" xlink:href=\"#m029569c284\" y=\"226.740469\"/>\n      </g>\n     </g>\n     <g id=\"text_3\">\n      <!-- 20 -->\n      <g transform=\"translate(90.21125 241.338906)scale(0.1 -0.1)\">\n       <defs>\n        <path d=\"M 19.1875 8.296875 \nL 53.609375 8.296875 \nL 53.609375 0 \nL 7.328125 0 \nL 7.328125 8.296875 \nQ 12.9375 14.109375 22.625 23.890625 \nQ 32.328125 33.6875 34.8125 36.53125 \nQ 39.546875 41.84375 41.421875 45.53125 \nQ 43.3125 49.21875 43.3125 52.78125 \nQ 43.3125 58.59375 39.234375 62.25 \nQ 35.15625 65.921875 28.609375 65.921875 \nQ 23.96875 65.921875 18.8125 64.3125 \nQ 13.671875 62.703125 7.8125 59.421875 \nL 7.8125 69.390625 \nQ 13.765625 71.78125 18.9375 73 \nQ 24.125 74.21875 28.421875 74.21875 \nQ 39.75 74.21875 46.484375 68.546875 \nQ 53.21875 62.890625 53.21875 53.421875 \nQ 53.21875 48.921875 51.53125 44.890625 \nQ 49.859375 40.875 45.40625 35.40625 \nQ 44.1875 33.984375 37.640625 27.21875 \nQ 31.109375 20.453125 19.1875 8.296875 \nz\n\" id=\"DejaVuSans-50\"/>\n       </defs>\n       <use xlink:href=\"#DejaVuSans-50\"/>\n       <use x=\"63.623047\" xlink:href=\"#DejaVuSans-48\"/>\n      </g>\n     </g>\n    </g>\n    <g id=\"xtick_4\">\n     <g id=\"line2d_4\">\n      <g>\n       <use style=\"stroke:#000000;stroke-width:0.8;\" x=\"130.54875\" xlink:href=\"#m029569c284\" y=\"226.740469\"/>\n      </g>\n     </g>\n     <g id=\"text_4\">\n      <!-- 30 -->\n      <g transform=\"translate(124.18625 241.338906)scale(0.1 -0.1)\">\n       <defs>\n        <path d=\"M 40.578125 39.3125 \nQ 47.65625 37.796875 51.625 33 \nQ 55.609375 28.21875 55.609375 21.1875 \nQ 55.609375 10.40625 48.1875 4.484375 \nQ 40.765625 -1.421875 27.09375 -1.421875 \nQ 22.515625 -1.421875 17.65625 -0.515625 \nQ 12.796875 0.390625 7.625 2.203125 \nL 7.625 11.71875 \nQ 11.71875 9.328125 16.59375 8.109375 \nQ 21.484375 6.890625 26.8125 6.890625 \nQ 36.078125 6.890625 40.9375 10.546875 \nQ 45.796875 14.203125 45.796875 21.1875 \nQ 45.796875 27.640625 41.28125 31.265625 \nQ 36.765625 34.90625 28.71875 34.90625 \nL 20.21875 34.90625 \nL 20.21875 43.015625 \nL 29.109375 43.015625 \nQ 36.375 43.015625 40.234375 45.921875 \nQ 44.09375 48.828125 44.09375 54.296875 \nQ 44.09375 59.90625 40.109375 62.90625 \nQ 36.140625 65.921875 28.71875 65.921875 \nQ 24.65625 65.921875 20.015625 65.03125 \nQ 15.375 64.15625 9.8125 62.3125 \nL 9.8125 71.09375 \nQ 15.4375 72.65625 20.34375 73.4375 \nQ 25.25 74.21875 29.59375 74.21875 \nQ 40.828125 74.21875 47.359375 69.109375 \nQ 53.90625 64.015625 53.90625 55.328125 \nQ 53.90625 49.265625 50.4375 45.09375 \nQ 46.96875 40.921875 40.578125 39.3125 \nz\n\" id=\"DejaVuSans-51\"/>\n       </defs>\n       <use xlink:href=\"#DejaVuSans-51\"/>\n       <use x=\"63.623047\" xlink:href=\"#DejaVuSans-48\"/>\n      </g>\n     </g>\n    </g>\n    <g id=\"xtick_5\">\n     <g id=\"line2d_5\">\n      <g>\n       <use style=\"stroke:#000000;stroke-width:0.8;\" x=\"164.52375\" xlink:href=\"#m029569c284\" y=\"226.740469\"/>\n      </g>\n     </g>\n     <g id=\"text_5\">\n      <!-- 40 -->\n      <g transform=\"translate(158.16125 241.338906)scale(0.1 -0.1)\">\n       <defs>\n        <path d=\"M 37.796875 64.3125 \nL 12.890625 25.390625 \nL 37.796875 25.390625 \nz\nM 35.203125 72.90625 \nL 47.609375 72.90625 \nL 47.609375 25.390625 \nL 58.015625 25.390625 \nL 58.015625 17.1875 \nL 47.609375 17.1875 \nL 47.609375 0 \nL 37.796875 0 \nL 37.796875 17.1875 \nL 4.890625 17.1875 \nL 4.890625 26.703125 \nz\n\" id=\"DejaVuSans-52\"/>\n       </defs>\n       <use xlink:href=\"#DejaVuSans-52\"/>\n       <use x=\"63.623047\" xlink:href=\"#DejaVuSans-48\"/>\n      </g>\n     </g>\n    </g>\n    <g id=\"xtick_6\">\n     <g id=\"line2d_6\">\n      <g>\n       <use style=\"stroke:#000000;stroke-width:0.8;\" x=\"198.49875\" xlink:href=\"#m029569c284\" y=\"226.740469\"/>\n      </g>\n     </g>\n     <g id=\"text_6\">\n      <!-- 50 -->\n      <g transform=\"translate(192.13625 241.338906)scale(0.1 -0.1)\">\n       <defs>\n        <path d=\"M 10.796875 72.90625 \nL 49.515625 72.90625 \nL 49.515625 64.59375 \nL 19.828125 64.59375 \nL 19.828125 46.734375 \nQ 21.96875 47.46875 24.109375 47.828125 \nQ 26.265625 48.1875 28.421875 48.1875 \nQ 40.625 48.1875 47.75 41.5 \nQ 54.890625 34.8125 54.890625 23.390625 \nQ 54.890625 11.625 47.5625 5.09375 \nQ 40.234375 -1.421875 26.90625 -1.421875 \nQ 22.3125 -1.421875 17.546875 -0.640625 \nQ 12.796875 0.140625 7.71875 1.703125 \nL 7.71875 11.625 \nQ 12.109375 9.234375 16.796875 8.0625 \nQ 21.484375 6.890625 26.703125 6.890625 \nQ 35.15625 6.890625 40.078125 11.328125 \nQ 45.015625 15.765625 45.015625 23.390625 \nQ 45.015625 31 40.078125 35.4375 \nQ 35.15625 39.890625 26.703125 39.890625 \nQ 22.75 39.890625 18.8125 39.015625 \nQ 14.890625 38.140625 10.796875 36.28125 \nz\n\" id=\"DejaVuSans-53\"/>\n       </defs>\n       <use xlink:href=\"#DejaVuSans-53\"/>\n       <use x=\"63.623047\" xlink:href=\"#DejaVuSans-48\"/>\n      </g>\n     </g>\n    </g>\n    <g id=\"xtick_7\">\n     <g id=\"line2d_7\">\n      <g>\n       <use style=\"stroke:#000000;stroke-width:0.8;\" x=\"232.47375\" xlink:href=\"#m029569c284\" y=\"226.740469\"/>\n      </g>\n     </g>\n     <g id=\"text_7\">\n      <!-- 60 -->\n      <g transform=\"translate(226.11125 241.338906)scale(0.1 -0.1)\">\n       <defs>\n        <path d=\"M 33.015625 40.375 \nQ 26.375 40.375 22.484375 35.828125 \nQ 18.609375 31.296875 18.609375 23.390625 \nQ 18.609375 15.53125 22.484375 10.953125 \nQ 26.375 6.390625 33.015625 6.390625 \nQ 39.65625 6.390625 43.53125 10.953125 \nQ 47.40625 15.53125 47.40625 23.390625 \nQ 47.40625 31.296875 43.53125 35.828125 \nQ 39.65625 40.375 33.015625 40.375 \nz\nM 52.59375 71.296875 \nL 52.59375 62.3125 \nQ 48.875 64.0625 45.09375 64.984375 \nQ 41.3125 65.921875 37.59375 65.921875 \nQ 27.828125 65.921875 22.671875 59.328125 \nQ 17.53125 52.734375 16.796875 39.40625 \nQ 19.671875 43.65625 24.015625 45.921875 \nQ 28.375 48.1875 33.59375 48.1875 \nQ 44.578125 48.1875 50.953125 41.515625 \nQ 57.328125 34.859375 57.328125 23.390625 \nQ 57.328125 12.15625 50.6875 5.359375 \nQ 44.046875 -1.421875 33.015625 -1.421875 \nQ 20.359375 -1.421875 13.671875 8.265625 \nQ 6.984375 17.96875 6.984375 36.375 \nQ 6.984375 53.65625 15.1875 63.9375 \nQ 23.390625 74.21875 37.203125 74.21875 \nQ 40.921875 74.21875 44.703125 73.484375 \nQ 48.484375 72.75 52.59375 71.296875 \nz\n\" id=\"DejaVuSans-54\"/>\n       </defs>\n       <use xlink:href=\"#DejaVuSans-54\"/>\n       <use x=\"63.623047\" xlink:href=\"#DejaVuSans-48\"/>\n      </g>\n     </g>\n    </g>\n   </g>\n   <g id=\"matplotlib.axis_2\">\n    <g id=\"ytick_1\">\n     <g id=\"line2d_8\">\n      <defs>\n       <path d=\"M 0 0 \nL -3.5 0 \n\" id=\"m00f25a44f7\" style=\"stroke:#000000;stroke-width:0.8;\"/>\n      </defs>\n      <g>\n       <use style=\"stroke:#000000;stroke-width:0.8;\" x=\"26.925\" xlink:href=\"#m00f25a44f7\" y=\"10.999219\"/>\n      </g>\n     </g>\n     <g id=\"text_8\">\n      <!-- 0 -->\n      <g transform=\"translate(13.5625 14.798437)scale(0.1 -0.1)\">\n       <use xlink:href=\"#DejaVuSans-48\"/>\n      </g>\n     </g>\n    </g>\n    <g id=\"ytick_2\">\n     <g id=\"line2d_9\">\n      <g>\n       <use style=\"stroke:#000000;stroke-width:0.8;\" x=\"26.925\" xlink:href=\"#m00f25a44f7\" y=\"44.974219\"/>\n      </g>\n     </g>\n     <g id=\"text_9\">\n      <!-- 10 -->\n      <g transform=\"translate(7.2 48.773437)scale(0.1 -0.1)\">\n       <use xlink:href=\"#DejaVuSans-49\"/>\n       <use x=\"63.623047\" xlink:href=\"#DejaVuSans-48\"/>\n      </g>\n     </g>\n    </g>\n    <g id=\"ytick_3\">\n     <g id=\"line2d_10\">\n      <g>\n       <use style=\"stroke:#000000;stroke-width:0.8;\" x=\"26.925\" xlink:href=\"#m00f25a44f7\" y=\"78.949219\"/>\n      </g>\n     </g>\n     <g id=\"text_10\">\n      <!-- 20 -->\n      <g transform=\"translate(7.2 82.748437)scale(0.1 -0.1)\">\n       <use xlink:href=\"#DejaVuSans-50\"/>\n       <use x=\"63.623047\" xlink:href=\"#DejaVuSans-48\"/>\n      </g>\n     </g>\n    </g>\n    <g id=\"ytick_4\">\n     <g id=\"line2d_11\">\n      <g>\n       <use style=\"stroke:#000000;stroke-width:0.8;\" x=\"26.925\" xlink:href=\"#m00f25a44f7\" y=\"112.924219\"/>\n      </g>\n     </g>\n     <g id=\"text_11\">\n      <!-- 30 -->\n      <g transform=\"translate(7.2 116.723437)scale(0.1 -0.1)\">\n       <use xlink:href=\"#DejaVuSans-51\"/>\n       <use x=\"63.623047\" xlink:href=\"#DejaVuSans-48\"/>\n      </g>\n     </g>\n    </g>\n    <g id=\"ytick_5\">\n     <g id=\"line2d_12\">\n      <g>\n       <use style=\"stroke:#000000;stroke-width:0.8;\" x=\"26.925\" xlink:href=\"#m00f25a44f7\" y=\"146.899219\"/>\n      </g>\n     </g>\n     <g id=\"text_12\">\n      <!-- 40 -->\n      <g transform=\"translate(7.2 150.698437)scale(0.1 -0.1)\">\n       <use xlink:href=\"#DejaVuSans-52\"/>\n       <use x=\"63.623047\" xlink:href=\"#DejaVuSans-48\"/>\n      </g>\n     </g>\n    </g>\n    <g id=\"ytick_6\">\n     <g id=\"line2d_13\">\n      <g>\n       <use style=\"stroke:#000000;stroke-width:0.8;\" x=\"26.925\" xlink:href=\"#m00f25a44f7\" y=\"180.874219\"/>\n      </g>\n     </g>\n     <g id=\"text_13\">\n      <!-- 50 -->\n      <g transform=\"translate(7.2 184.673437)scale(0.1 -0.1)\">\n       <use xlink:href=\"#DejaVuSans-53\"/>\n       <use x=\"63.623047\" xlink:href=\"#DejaVuSans-48\"/>\n      </g>\n     </g>\n    </g>\n    <g id=\"ytick_7\">\n     <g id=\"line2d_14\">\n      <g>\n       <use style=\"stroke:#000000;stroke-width:0.8;\" x=\"26.925\" xlink:href=\"#m00f25a44f7\" y=\"214.849219\"/>\n      </g>\n     </g>\n     <g id=\"text_14\">\n      <!-- 60 -->\n      <g transform=\"translate(7.2 218.648437)scale(0.1 -0.1)\">\n       <use xlink:href=\"#DejaVuSans-54\"/>\n       <use x=\"63.623047\" xlink:href=\"#DejaVuSans-48\"/>\n      </g>\n     </g>\n    </g>\n   </g>\n   <g id=\"patch_3\">\n    <path d=\"M 26.925 226.740469 \nL 26.925 9.300469 \n\" style=\"fill:none;stroke:#000000;stroke-linecap:square;stroke-linejoin:miter;stroke-width:0.8;\"/>\n   </g>\n   <g id=\"patch_4\">\n    <path d=\"M 244.365 226.740469 \nL 244.365 9.300469 \n\" style=\"fill:none;stroke:#000000;stroke-linecap:square;stroke-linejoin:miter;stroke-width:0.8;\"/>\n   </g>\n   <g id=\"patch_5\">\n    <path d=\"M 26.925 226.740469 \nL 244.365 226.740469 \n\" style=\"fill:none;stroke:#000000;stroke-linecap:square;stroke-linejoin:miter;stroke-width:0.8;\"/>\n   </g>\n   <g id=\"patch_6\">\n    <path d=\"M 26.925 9.300469 \nL 244.365 9.300469 \n\" style=\"fill:none;stroke:#000000;stroke-linecap:square;stroke-linejoin:miter;stroke-width:0.8;\"/>\n   </g>\n  </g>\n </g>\n <defs>\n  <clipPath id=\"p15a652b6f0\">\n   <rect height=\"217.44\" width=\"217.44\" x=\"26.925\" y=\"9.300469\"/>\n  </clipPath>\n </defs>\n</svg>\n",
            "image/png": "[encoded data removed]"
          },
          "metadata": {
            "needs_background": "light"
          }
        }
      ]
    },
    {
      "cell_type": "code",
      "metadata": {
        "id": "BsQUOW4Ox9yA"
      },
      "source": [
        "for t in range(0, 50):\n",
        "  img_b = cv2.imread(f'image_before_equ_{t}.jpg', 0)\n",
        "  equ = cv2.equalizeHist(img_b)\n",
        "  # res = np.hstack((img_b,equ))\n",
        "  img_a = cv2.imwrite(f'image_after_equ_{t}.jpg', equ)\n",
        "  # img_a_out = cv2.imread('image_after.jpg', 0)\n",
        "\n",
        "# img_b2 = cv2.imread('image_before_equ.png', 0)\n",
        "# equ2 = cv2.equalizeHist(img_b2)\n",
        "# # res = np.hstack((img_b,equ))\n",
        "# img_a2 = cv2.imwrite('image_after_equ.png', equ2)\n",
        "# # img_a_out2 = cv2.imread('image_after.png', 0)\n",
        "\n",
        "# img_b3 = cv2.imread('image_before_equ.bmp', 0)\n",
        "# equ3 = cv2.equalizeHist(img_b3)\n",
        "# # res = np.hstack((img_b,equ))\n",
        "# img_a3 = cv2.imwrite('image_after_equ.bmp', equ3)\n",
        "# # img_a_out3 = cv2.imread('image_after.bmp', 0)"
      ],
      "execution_count": 34,
      "outputs": []
    },
    {
      "cell_type": "code",
      "metadata": {
        "id": "oEAqsGmrx9yA"
      },
      "source": [],
      "execution_count": null,
      "outputs": []
    },
    {
      "cell_type": "code",
      "metadata": {
        "id": "gy81cKf4x9yA"
      },
      "source": [
        "# os.chdir('/Users/ryan/NSL CNN/2d-cnn/64x64')\n",
        "# new_dir = os.mkdir('test_normal')\n",
        "path = '/Users/ryan/NSL CNN/2d-cnn/64x64/test_attack'"
      ],
      "execution_count": 60,
      "outputs": []
    },
    {
      "cell_type": "code",
      "metadata": {
        "id": "UutICq1Dx9yB"
      },
      "source": [
        "## create the before images\n",
        "\n",
        "for t in range(0, len(attack_imgs_te)):\n",
        "#     plt.imshow(normal_imgs[t], cmap = 'gray')\n",
        "#     plt.show()\n",
        "    \n",
        "    cv2.imwrite(os.path.join(path, f'image_before_{t}.jpg'), attack_imgs_te[t])\n",
        "#     cv2.imwrite(f'image_before_{t}.bmp', normal_imgs[t])"
      ],
      "execution_count": 61,
      "outputs": []
    },
    {
      "cell_type": "code",
      "metadata": {
        "id": "h8yCxo6zx9yB"
      },
      "source": [
        "## loop through the before images, perform equalisation and save images to same directory\n",
        "## ensure CWD is the directory saving the images to\n",
        "\n",
        "for file in os.listdir(path):\n",
        "    for i in range(0, attack_imgs_te.shape[0]):\n",
        "        pre_equ = cv2.imread(f'image_before_{i}.jpg', 0)\n",
        "        # print(file)\n",
        "        equalised = cv2.equalizeHist(pre_equ)\n",
        "        cv2.imwrite(f'equ_image_{i}.jpg', equalised)"
      ],
      "execution_count": 65,
      "outputs": []
    },
    {
      "cell_type": "code",
      "metadata": {
        "id": "xg9GhEQjx9yC",
        "outputId": "f5ce78c6-317a-40af-fe7c-25b7de202d18"
      },
      "source": [
        "path"
      ],
      "execution_count": 64,
      "outputs": [
        {
          "output_type": "execute_result",
          "data": {
            "text/plain": [
              "'/Users/ryan/NSL CNN/2d-cnn/64x64/test_attack'"
            ]
          },
          "metadata": {},
          "execution_count": 64
        }
      ]
    },
    {
      "cell_type": "code",
      "metadata": {
        "id": "gSID3wzax9yC",
        "outputId": "35c2d9ba-8b6e-4061-ae3e-6abf63a8fe2e"
      },
      "source": [
        "os.getcwd()"
      ],
      "execution_count": 63,
      "outputs": [
        {
          "output_type": "execute_result",
          "data": {
            "text/plain": [
              "'/Users/ryan/NSL CNN/2d-cnn/64x64/test_attack'"
            ]
          },
          "metadata": {},
          "execution_count": 63
        }
      ]
    },
    {
      "cell_type": "code",
      "metadata": {
        "id": "U4ISfaf0x9yC"
      },
      "source": [
        "os.chdir('/Users/ryan/NSL CNN/2d-cnn/64x64/test_attack')"
      ],
      "execution_count": 62,
      "outputs": []
    },
    {
      "cell_type": "code",
      "metadata": {
        "id": "dispWVrHx9yD"
      },
      "source": [],
      "execution_count": null,
      "outputs": []
    },
    {
      "cell_type": "code",
      "metadata": {
        "id": "QHtTp2FVx9yD"
      },
      "source": [],
      "execution_count": null,
      "outputs": []
    },
    {
      "cell_type": "code",
      "metadata": {
        "id": "dJQQWuS4x9yD"
      },
      "source": [],
      "execution_count": null,
      "outputs": []
    },
    {
      "cell_type": "code",
      "metadata": {
        "id": "uEKAox1Gx9yD"
      },
      "source": [],
      "execution_count": null,
      "outputs": []
    },
    {
      "cell_type": "code",
      "metadata": {
        "id": "xh1QubXfx9yD"
      },
      "source": [],
      "execution_count": null,
      "outputs": []
    },
    {
      "cell_type": "code",
      "metadata": {
        "id": "OLgpwuF1x9yD"
      },
      "source": [],
      "execution_count": null,
      "outputs": []
    },
    {
      "cell_type": "code",
      "metadata": {
        "id": "XvuZIoAOx9yD"
      },
      "source": [],
      "execution_count": null,
      "outputs": []
    },
    {
      "cell_type": "code",
      "metadata": {
        "id": "SrIDnLjYx9yD"
      },
      "source": [],
      "execution_count": null,
      "outputs": []
    },
    {
      "cell_type": "code",
      "metadata": {
        "id": "M2mWszSOx9x4"
      },
      "source": [
        "# normal_imgs_train = 255 * normal_imgs_train/normal_imgs_train.max()"
      ],
      "execution_count": null,
      "outputs": []
    },
    {
      "cell_type": "code",
      "metadata": {
        "id": "lSUTpCSex9x5",
        "outputId": "dc108bc4-f6ee-4bba-8339-8f6041ed3b77"
      },
      "source": [
        "# normal_imgs_train.max(), normal_imgs_train.min(), normal_imgs_train.mean()"
      ],
      "execution_count": null,
      "outputs": [
        {
          "output_type": "execute_result",
          "data": {
            "text/plain": [
              "(255.0, 0.0, 0.00045024836605361585)"
            ]
          },
          "metadata": {
            "tags": []
          },
          "execution_count": 119
        }
      ]
    },
    {
      "cell_type": "code",
      "metadata": {
        "id": "Dcf2qucEx9x5",
        "outputId": "a7c2a285-bed0-43d4-fa20-ecb221cde3a3"
      },
      "source": [
        "train_max = normal_imgs_train.max() + attack_imgs_train.max()\n",
        "\n",
        "train_max"
      ],
      "execution_count": null,
      "outputs": [
        {
          "output_type": "execute_result",
          "data": {
            "text/plain": [
              "1469545408.0"
            ]
          },
          "metadata": {
            "tags": []
          },
          "execution_count": 253
        }
      ]
    }
  ]
}