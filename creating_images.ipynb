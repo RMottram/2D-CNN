{
  "nbformat": 4,
  "nbformat_minor": 0,
  "metadata": {
    "accelerator": "GPU",
    "colab": {
      "name": "2d_cnn.ipynb",
      "provenance": [],
      "collapsed_sections": [],
      "toc_visible": true,
      "include_colab_link": true
    },
    "kernelspec": {
      "name": "python385jvsc74a57bd0c0fa115e3f5cbac937219093afe487c1ed2d36ff737a9c8ccedfd3d50d03adf8",
      "display_name": "Python 3.8.5 64-bit ('base': conda)"
    },
    "language_info": {
      "codemirror_mode": {
        "name": "ipython",
        "version": 3
      },
      "file_extension": ".py",
      "mimetype": "text/x-python",
      "name": "python",
      "nbconvert_exporter": "python",
      "pygments_lexer": "ipython3",
      "version": "3.8.5"
    },
    "varInspector": {
      "cols": {
        "lenName": "32",
        "lenType": "32",
        "lenVar": "60"
      },
      "kernels_config": {
        "python": {
          "delete_cmd_postfix": "",
          "delete_cmd_prefix": "del ",
          "library": "var_list.py",
          "varRefreshCmd": "print(var_dic_list())"
        },
        "r": {
          "delete_cmd_postfix": ") ",
          "delete_cmd_prefix": "rm(",
          "library": "var_list.r",
          "varRefreshCmd": "cat(var_dic_list()) "
        }
      },
      "oldHeight": 698.85,
      "position": {
        "height": "720.85px",
        "left": "2934px",
        "right": "20px",
        "top": "136px",
        "width": "518px"
      },
      "types_to_exclude": [
        "module",
        "function",
        "builtin_function_or_method",
        "instance",
        "_Feature"
      ],
      "varInspector_section_display": "block",
      "window_display": false
    }
  },
  "cells": [
    {
      "cell_type": "markdown",
      "metadata": {
        "id": "view-in-github",
        "colab_type": "text"
      },
      "source": [
        "<a href=\"https://colab.research.google.com/github/RMottram/2D-CNN/blob/master/2d_cnn_fixed.ipynb\" target=\"_parent\"><img src=\"https://colab.research.google.com/assets/colab-badge.svg\" alt=\"Open In Colab\"/></a>"
      ]
    },
    {
      "cell_type": "code",
      "metadata": {
        "id": "KwEfwkvux9xj"
      },
      "source": [
        "import numpy as np\n",
        "import pandas as pd\n",
        "import matplotlib.pyplot as plt\n",
        "from matplotlib.pyplot import figure\n",
        "import sys, os, time, csv, cv2\n",
        "\n",
        "import sklearn\n",
        "from sklearn.preprocessing import LabelEncoder, StandardScaler, OneHotEncoder, MinMaxScaler\n",
        "\n",
        "# Settings\n",
        "pd.set_option('display.max_columns', None)\n",
        "pd.options.display.float_format = '{:.5f}'.format\n",
        "np.set_printoptions(threshold=sys.maxsize)\n",
        "np.set_printoptions(precision = 5, suppress = True)"
      ],
      "execution_count": 1,
      "outputs": []
    },
    {
      "cell_type": "markdown",
      "metadata": {
        "id": "VTX8Zkl8x9xr"
      },
      "source": [
        "# Creating the images for the CNN"
      ]
    },
    {
      "source": [
        "## 1.1 - Import the dataset"
      ],
      "cell_type": "markdown",
      "metadata": {
        "id": "oFGbwK89x9xs"
      }
    },
    {
      "cell_type": "code",
      "metadata": {
        "id": "X_OCjh7Cx9xt"
      },
      "source": [
        "CUR_DIR = os.getcwd()\n",
        "\n",
        "train_master = pd.read_csv(CUR_DIR + '/KDDTrain+.csv')\n",
        "test_master = pd.read_csv(CUR_DIR + '/KDDTest+.csv')"
      ],
      "execution_count": 2,
      "outputs": []
    },
    {
      "cell_type": "code",
      "metadata": {
        "id": "R2HKXEqrx9xu"
      },
      "source": [
        "edited_train = train_master.copy()\n",
        "edited_test = test_master.copy()"
      ],
      "execution_count": 3,
      "outputs": []
    },
    {
      "cell_type": "markdown",
      "metadata": {
        "id": "VLBn9kfox9xu"
      },
      "source": [
        "## 1.2 - Create the dataframes"
      ]
    },
    {
      "cell_type": "code",
      "metadata": {
        "id": "CHRATMoKx9xv"
      },
      "source": [
        "edited_train = edited_train.drop(['difficulty_lvl'], axis = 1)\n",
        "edited_test = edited_test.drop(['difficulty_lvl'], axis = 1)"
      ],
      "execution_count": 4,
      "outputs": []
    },
    {
      "cell_type": "markdown",
      "metadata": {
        "id": "0sNFNomzx9xv"
      },
      "source": [
        "### Removes some types of services to even out datasets"
      ]
    },
    {
      "cell_type": "code",
      "metadata": {
        "id": "tSPvycGwx9xw"
      },
      "source": [
        "edited_train = edited_train.query(\"service != 'aol'\")\n",
        "edited_train = edited_train.query(\"service != 'harvest'\")\n",
        "edited_train = edited_train.query(\"service != 'http_2784'\")\n",
        "edited_train = edited_train.query(\"service != 'http_8001'\")\n",
        "edited_train = edited_train.query(\"service != 'red_i'\")\n",
        "edited_train = edited_train.query(\"service != 'urh_i'\")\n",
        "edited_train = edited_train.query(\"service != 'printer'\")\n",
        "edited_train = edited_train.query(\"service != 'rje'\")\n",
        "\n",
        "edited_test = edited_test.query(\"service != 'printer'\")\n",
        "edited_test = edited_test.query(\"service != 'rje'\")"
      ],
      "execution_count": 5,
      "outputs": []
    },
    {
      "cell_type": "markdown",
      "metadata": {
        "id": "qXcVa6B9x9xw"
      },
      "source": [
        "## 1.3 - Change 'non normal' entries to 'attack'"
      ]
    },
    {
      "cell_type": "code",
      "metadata": {
        "id": "yRwcFonox9xx"
      },
      "source": [
        "edited_train.loc[edited_train.attack_type != 'normal', 'attack_type'] = 'attack'\n",
        "edited_test.loc[edited_test.attack_type != 'normal', 'attack_type'] = 'attack'"
      ],
      "execution_count": 6,
      "outputs": []
    },
    {
      "cell_type": "code",
      "metadata": {
        "colab": {
          "base_uri": "https://localhost:8080/",
          "height": 439
        },
        "id": "MxjQsjBYx9xy",
        "outputId": "27368058-442a-4045-9daf-6eead7a1716d"
      },
      "source": [
        "edited_train"
      ],
      "execution_count": 7,
      "outputs": [
        {
          "output_type": "execute_result",
          "data": {
            "text/plain": [
              "        duration protocol_type   service flag  src_bytes  dst_bytes  land  \\\n",
              "0              0           tcp  ftp_data   SF        491          0     0   \n",
              "1              0           udp     other   SF        146          0     0   \n",
              "2              0           tcp   private   S0          0          0     0   \n",
              "3              0           tcp      http   SF        232       8153     0   \n",
              "4              0           tcp      http   SF        199        420     0   \n",
              "...          ...           ...       ...  ...        ...        ...   ...   \n",
              "125968         0           tcp   private   S0          0          0     0   \n",
              "125969         8           udp   private   SF        105        145     0   \n",
              "125970         0           tcp      smtp   SF       2231        384     0   \n",
              "125971         0           tcp    klogin   S0          0          0     0   \n",
              "125972         0           tcp  ftp_data   SF        151          0     0   \n",
              "\n",
              "        wrong_fragment  urgent  hot  num_failed_logins  logged_in  \\\n",
              "0                    0       0    0                  0          0   \n",
              "1                    0       0    0                  0          0   \n",
              "2                    0       0    0                  0          0   \n",
              "3                    0       0    0                  0          1   \n",
              "4                    0       0    0                  0          1   \n",
              "...                ...     ...  ...                ...        ...   \n",
              "125968               0       0    0                  0          0   \n",
              "125969               0       0    0                  0          0   \n",
              "125970               0       0    0                  0          1   \n",
              "125971               0       0    0                  0          0   \n",
              "125972               0       0    0                  0          1   \n",
              "\n",
              "        num_compromised  root_shell  su_attempted  num_root  \\\n",
              "0                     0           0             0         0   \n",
              "1                     0           0             0         0   \n",
              "2                     0           0             0         0   \n",
              "3                     0           0             0         0   \n",
              "4                     0           0             0         0   \n",
              "...                 ...         ...           ...       ...   \n",
              "125968                0           0             0         0   \n",
              "125969                0           0             0         0   \n",
              "125970                0           0             0         0   \n",
              "125971                0           0             0         0   \n",
              "125972                0           0             0         0   \n",
              "\n",
              "        num_file_creations  num_shells  num_access_files  num_outbound_cmds  \\\n",
              "0                        0           0                 0                  0   \n",
              "1                        0           0                 0                  0   \n",
              "2                        0           0                 0                  0   \n",
              "3                        0           0                 0                  0   \n",
              "4                        0           0                 0                  0   \n",
              "...                    ...         ...               ...                ...   \n",
              "125968                   0           0                 0                  0   \n",
              "125969                   0           0                 0                  0   \n",
              "125970                   0           0                 0                  0   \n",
              "125971                   0           0                 0                  0   \n",
              "125972                   0           0                 0                  0   \n",
              "\n",
              "        is_host_login  is_guest_login  count  srv_count  serror_rate  \\\n",
              "0                   0               0      2          2      0.00000   \n",
              "1                   0               0     13          1      0.00000   \n",
              "2                   0               0    123          6      1.00000   \n",
              "3                   0               0      5          5      0.20000   \n",
              "4                   0               0     30         32      0.00000   \n",
              "...               ...             ...    ...        ...          ...   \n",
              "125968              0               0    184         25      1.00000   \n",
              "125969              0               0      2          2      0.00000   \n",
              "125970              0               0      1          1      0.00000   \n",
              "125971              0               0    144          8      1.00000   \n",
              "125972              0               0      1          1      0.00000   \n",
              "\n",
              "        srv_serror_rate  rerror_rate  srv_rerror_rate  same_srv_rate  \\\n",
              "0               0.00000      0.00000          0.00000        1.00000   \n",
              "1               0.00000      0.00000          0.00000        0.08000   \n",
              "2               1.00000      0.00000          0.00000        0.05000   \n",
              "3               0.20000      0.00000          0.00000        1.00000   \n",
              "4               0.00000      0.00000          0.00000        1.00000   \n",
              "...                 ...          ...              ...            ...   \n",
              "125968          1.00000      0.00000          0.00000        0.14000   \n",
              "125969          0.00000      0.00000          0.00000        1.00000   \n",
              "125970          0.00000      0.00000          0.00000        1.00000   \n",
              "125971          1.00000      0.00000          0.00000        0.06000   \n",
              "125972          0.00000      0.00000          0.00000        1.00000   \n",
              "\n",
              "        diff_srv_rate  srv_diff_host_rate  dst_host_count  dst_host_srv_count  \\\n",
              "0             0.00000             0.00000             150                  25   \n",
              "1             0.15000             0.00000             255                   1   \n",
              "2             0.07000             0.00000             255                  26   \n",
              "3             0.00000             0.00000              30                 255   \n",
              "4             0.00000             0.09000             255                 255   \n",
              "...               ...                 ...             ...                 ...   \n",
              "125968        0.06000             0.00000             255                  25   \n",
              "125969        0.00000             0.00000             255                 244   \n",
              "125970        0.00000             0.00000             255                  30   \n",
              "125971        0.05000             0.00000             255                   8   \n",
              "125972        0.00000             0.00000             255                  77   \n",
              "\n",
              "        dst_host_same_srv_rate  dst_host_diff_srv_rate  \\\n",
              "0                      0.17000                 0.03000   \n",
              "1                      0.00000                 0.60000   \n",
              "2                      0.10000                 0.05000   \n",
              "3                      1.00000                 0.00000   \n",
              "4                      1.00000                 0.00000   \n",
              "...                        ...                     ...   \n",
              "125968                 0.10000                 0.06000   \n",
              "125969                 0.96000                 0.01000   \n",
              "125970                 0.12000                 0.06000   \n",
              "125971                 0.03000                 0.05000   \n",
              "125972                 0.30000                 0.03000   \n",
              "\n",
              "        dst_host_same_src_port_rate  dst_host_srv_diff_host_rate  \\\n",
              "0                           0.17000                      0.00000   \n",
              "1                           0.88000                      0.00000   \n",
              "2                           0.00000                      0.00000   \n",
              "3                           0.03000                      0.04000   \n",
              "4                           0.00000                      0.00000   \n",
              "...                             ...                          ...   \n",
              "125968                      0.00000                      0.00000   \n",
              "125969                      0.01000                      0.00000   \n",
              "125970                      0.00000                      0.00000   \n",
              "125971                      0.00000                      0.00000   \n",
              "125972                      0.30000                      0.00000   \n",
              "\n",
              "        dst_host_serror_rate  dst_host_srv_serror_rate  dst_host_rerror_rate  \\\n",
              "0                    0.00000                   0.00000               0.05000   \n",
              "1                    0.00000                   0.00000               0.00000   \n",
              "2                    1.00000                   1.00000               0.00000   \n",
              "3                    0.03000                   0.01000               0.00000   \n",
              "4                    0.00000                   0.00000               0.00000   \n",
              "...                      ...                       ...                   ...   \n",
              "125968               1.00000                   1.00000               0.00000   \n",
              "125969               0.00000                   0.00000               0.00000   \n",
              "125970               0.72000                   0.00000               0.01000   \n",
              "125971               1.00000                   1.00000               0.00000   \n",
              "125972               0.00000                   0.00000               0.00000   \n",
              "\n",
              "        dst_host_srv_rerror_rate attack_type  \n",
              "0                        0.00000      normal  \n",
              "1                        0.00000      normal  \n",
              "2                        0.00000      attack  \n",
              "3                        0.01000      normal  \n",
              "4                        0.00000      normal  \n",
              "...                          ...         ...  \n",
              "125968                   0.00000      attack  \n",
              "125969                   0.00000      normal  \n",
              "125970                   0.00000      normal  \n",
              "125971                   0.00000      attack  \n",
              "125972                   0.00000      normal  \n",
              "\n",
              "[125793 rows x 42 columns]"
            ],
            "text/html": "<div>\n<style scoped>\n    .dataframe tbody tr th:only-of-type {\n        vertical-align: middle;\n    }\n\n    .dataframe tbody tr th {\n        vertical-align: top;\n    }\n\n    .dataframe thead th {\n        text-align: right;\n    }\n</style>\n<table border=\"1\" class=\"dataframe\">\n  <thead>\n    <tr style=\"text-align: right;\">\n      <th></th>\n      <th>duration</th>\n      <th>protocol_type</th>\n      <th>service</th>\n      <th>flag</th>\n      <th>src_bytes</th>\n      <th>dst_bytes</th>\n      <th>land</th>\n      <th>wrong_fragment</th>\n      <th>urgent</th>\n      <th>hot</th>\n      <th>num_failed_logins</th>\n      <th>logged_in</th>\n      <th>num_compromised</th>\n      <th>root_shell</th>\n      <th>su_attempted</th>\n      <th>num_root</th>\n      <th>num_file_creations</th>\n      <th>num_shells</th>\n      <th>num_access_files</th>\n      <th>num_outbound_cmds</th>\n      <th>is_host_login</th>\n      <th>is_guest_login</th>\n      <th>count</th>\n      <th>srv_count</th>\n      <th>serror_rate</th>\n      <th>srv_serror_rate</th>\n      <th>rerror_rate</th>\n      <th>srv_rerror_rate</th>\n      <th>same_srv_rate</th>\n      <th>diff_srv_rate</th>\n      <th>srv_diff_host_rate</th>\n      <th>dst_host_count</th>\n      <th>dst_host_srv_count</th>\n      <th>dst_host_same_srv_rate</th>\n      <th>dst_host_diff_srv_rate</th>\n      <th>dst_host_same_src_port_rate</th>\n      <th>dst_host_srv_diff_host_rate</th>\n      <th>dst_host_serror_rate</th>\n      <th>dst_host_srv_serror_rate</th>\n      <th>dst_host_rerror_rate</th>\n      <th>dst_host_srv_rerror_rate</th>\n      <th>attack_type</th>\n    </tr>\n  </thead>\n  <tbody>\n    <tr>\n      <th>0</th>\n      <td>0</td>\n      <td>tcp</td>\n      <td>ftp_data</td>\n      <td>SF</td>\n      <td>491</td>\n      <td>0</td>\n      <td>0</td>\n      <td>0</td>\n      <td>0</td>\n      <td>0</td>\n      <td>0</td>\n      <td>0</td>\n      <td>0</td>\n      <td>0</td>\n      <td>0</td>\n      <td>0</td>\n      <td>0</td>\n      <td>0</td>\n      <td>0</td>\n      <td>0</td>\n      <td>0</td>\n      <td>0</td>\n      <td>2</td>\n      <td>2</td>\n      <td>0.00000</td>\n      <td>0.00000</td>\n      <td>0.00000</td>\n      <td>0.00000</td>\n      <td>1.00000</td>\n      <td>0.00000</td>\n      <td>0.00000</td>\n      <td>150</td>\n      <td>25</td>\n      <td>0.17000</td>\n      <td>0.03000</td>\n      <td>0.17000</td>\n      <td>0.00000</td>\n      <td>0.00000</td>\n      <td>0.00000</td>\n      <td>0.05000</td>\n      <td>0.00000</td>\n      <td>normal</td>\n    </tr>\n    <tr>\n      <th>1</th>\n      <td>0</td>\n      <td>udp</td>\n      <td>other</td>\n      <td>SF</td>\n      <td>146</td>\n      <td>0</td>\n      <td>0</td>\n      <td>0</td>\n      <td>0</td>\n      <td>0</td>\n      <td>0</td>\n      <td>0</td>\n      <td>0</td>\n      <td>0</td>\n      <td>0</td>\n      <td>0</td>\n      <td>0</td>\n      <td>0</td>\n      <td>0</td>\n      <td>0</td>\n      <td>0</td>\n      <td>0</td>\n      <td>13</td>\n      <td>1</td>\n      <td>0.00000</td>\n      <td>0.00000</td>\n      <td>0.00000</td>\n      <td>0.00000</td>\n      <td>0.08000</td>\n      <td>0.15000</td>\n      <td>0.00000</td>\n      <td>255</td>\n      <td>1</td>\n      <td>0.00000</td>\n      <td>0.60000</td>\n      <td>0.88000</td>\n      <td>0.00000</td>\n      <td>0.00000</td>\n      <td>0.00000</td>\n      <td>0.00000</td>\n      <td>0.00000</td>\n      <td>normal</td>\n    </tr>\n    <tr>\n      <th>2</th>\n      <td>0</td>\n      <td>tcp</td>\n      <td>private</td>\n      <td>S0</td>\n      <td>0</td>\n      <td>0</td>\n      <td>0</td>\n      <td>0</td>\n      <td>0</td>\n      <td>0</td>\n      <td>0</td>\n      <td>0</td>\n      <td>0</td>\n      <td>0</td>\n      <td>0</td>\n      <td>0</td>\n      <td>0</td>\n      <td>0</td>\n      <td>0</td>\n      <td>0</td>\n      <td>0</td>\n      <td>0</td>\n      <td>123</td>\n      <td>6</td>\n      <td>1.00000</td>\n      <td>1.00000</td>\n      <td>0.00000</td>\n      <td>0.00000</td>\n      <td>0.05000</td>\n      <td>0.07000</td>\n      <td>0.00000</td>\n      <td>255</td>\n      <td>26</td>\n      <td>0.10000</td>\n      <td>0.05000</td>\n      <td>0.00000</td>\n      <td>0.00000</td>\n      <td>1.00000</td>\n      <td>1.00000</td>\n      <td>0.00000</td>\n      <td>0.00000</td>\n      <td>attack</td>\n    </tr>\n    <tr>\n      <th>3</th>\n      <td>0</td>\n      <td>tcp</td>\n      <td>http</td>\n      <td>SF</td>\n      <td>232</td>\n      <td>8153</td>\n      <td>0</td>\n      <td>0</td>\n      <td>0</td>\n      <td>0</td>\n      <td>0</td>\n      <td>1</td>\n      <td>0</td>\n      <td>0</td>\n      <td>0</td>\n      <td>0</td>\n      <td>0</td>\n      <td>0</td>\n      <td>0</td>\n      <td>0</td>\n      <td>0</td>\n      <td>0</td>\n      <td>5</td>\n      <td>5</td>\n      <td>0.20000</td>\n      <td>0.20000</td>\n      <td>0.00000</td>\n      <td>0.00000</td>\n      <td>1.00000</td>\n      <td>0.00000</td>\n      <td>0.00000</td>\n      <td>30</td>\n      <td>255</td>\n      <td>1.00000</td>\n      <td>0.00000</td>\n      <td>0.03000</td>\n      <td>0.04000</td>\n      <td>0.03000</td>\n      <td>0.01000</td>\n      <td>0.00000</td>\n      <td>0.01000</td>\n      <td>normal</td>\n    </tr>\n    <tr>\n      <th>4</th>\n      <td>0</td>\n      <td>tcp</td>\n      <td>http</td>\n      <td>SF</td>\n      <td>199</td>\n      <td>420</td>\n      <td>0</td>\n      <td>0</td>\n      <td>0</td>\n      <td>0</td>\n      <td>0</td>\n      <td>1</td>\n      <td>0</td>\n      <td>0</td>\n      <td>0</td>\n      <td>0</td>\n      <td>0</td>\n      <td>0</td>\n      <td>0</td>\n      <td>0</td>\n      <td>0</td>\n      <td>0</td>\n      <td>30</td>\n      <td>32</td>\n      <td>0.00000</td>\n      <td>0.00000</td>\n      <td>0.00000</td>\n      <td>0.00000</td>\n      <td>1.00000</td>\n      <td>0.00000</td>\n      <td>0.09000</td>\n      <td>255</td>\n      <td>255</td>\n      <td>1.00000</td>\n      <td>0.00000</td>\n      <td>0.00000</td>\n      <td>0.00000</td>\n      <td>0.00000</td>\n      <td>0.00000</td>\n      <td>0.00000</td>\n      <td>0.00000</td>\n      <td>normal</td>\n    </tr>\n    <tr>\n      <th>...</th>\n      <td>...</td>\n      <td>...</td>\n      <td>...</td>\n      <td>...</td>\n      <td>...</td>\n      <td>...</td>\n      <td>...</td>\n      <td>...</td>\n      <td>...</td>\n      <td>...</td>\n      <td>...</td>\n      <td>...</td>\n      <td>...</td>\n      <td>...</td>\n      <td>...</td>\n      <td>...</td>\n      <td>...</td>\n      <td>...</td>\n      <td>...</td>\n      <td>...</td>\n      <td>...</td>\n      <td>...</td>\n      <td>...</td>\n      <td>...</td>\n      <td>...</td>\n      <td>...</td>\n      <td>...</td>\n      <td>...</td>\n      <td>...</td>\n      <td>...</td>\n      <td>...</td>\n      <td>...</td>\n      <td>...</td>\n      <td>...</td>\n      <td>...</td>\n      <td>...</td>\n      <td>...</td>\n      <td>...</td>\n      <td>...</td>\n      <td>...</td>\n      <td>...</td>\n      <td>...</td>\n    </tr>\n    <tr>\n      <th>125968</th>\n      <td>0</td>\n      <td>tcp</td>\n      <td>private</td>\n      <td>S0</td>\n      <td>0</td>\n      <td>0</td>\n      <td>0</td>\n      <td>0</td>\n      <td>0</td>\n      <td>0</td>\n      <td>0</td>\n      <td>0</td>\n      <td>0</td>\n      <td>0</td>\n      <td>0</td>\n      <td>0</td>\n      <td>0</td>\n      <td>0</td>\n      <td>0</td>\n      <td>0</td>\n      <td>0</td>\n      <td>0</td>\n      <td>184</td>\n      <td>25</td>\n      <td>1.00000</td>\n      <td>1.00000</td>\n      <td>0.00000</td>\n      <td>0.00000</td>\n      <td>0.14000</td>\n      <td>0.06000</td>\n      <td>0.00000</td>\n      <td>255</td>\n      <td>25</td>\n      <td>0.10000</td>\n      <td>0.06000</td>\n      <td>0.00000</td>\n      <td>0.00000</td>\n      <td>1.00000</td>\n      <td>1.00000</td>\n      <td>0.00000</td>\n      <td>0.00000</td>\n      <td>attack</td>\n    </tr>\n    <tr>\n      <th>125969</th>\n      <td>8</td>\n      <td>udp</td>\n      <td>private</td>\n      <td>SF</td>\n      <td>105</td>\n      <td>145</td>\n      <td>0</td>\n      <td>0</td>\n      <td>0</td>\n      <td>0</td>\n      <td>0</td>\n      <td>0</td>\n      <td>0</td>\n      <td>0</td>\n      <td>0</td>\n      <td>0</td>\n      <td>0</td>\n      <td>0</td>\n      <td>0</td>\n      <td>0</td>\n      <td>0</td>\n      <td>0</td>\n      <td>2</td>\n      <td>2</td>\n      <td>0.00000</td>\n      <td>0.00000</td>\n      <td>0.00000</td>\n      <td>0.00000</td>\n      <td>1.00000</td>\n      <td>0.00000</td>\n      <td>0.00000</td>\n      <td>255</td>\n      <td>244</td>\n      <td>0.96000</td>\n      <td>0.01000</td>\n      <td>0.01000</td>\n      <td>0.00000</td>\n      <td>0.00000</td>\n      <td>0.00000</td>\n      <td>0.00000</td>\n      <td>0.00000</td>\n      <td>normal</td>\n    </tr>\n    <tr>\n      <th>125970</th>\n      <td>0</td>\n      <td>tcp</td>\n      <td>smtp</td>\n      <td>SF</td>\n      <td>2231</td>\n      <td>384</td>\n      <td>0</td>\n      <td>0</td>\n      <td>0</td>\n      <td>0</td>\n      <td>0</td>\n      <td>1</td>\n      <td>0</td>\n      <td>0</td>\n      <td>0</td>\n      <td>0</td>\n      <td>0</td>\n      <td>0</td>\n      <td>0</td>\n      <td>0</td>\n      <td>0</td>\n      <td>0</td>\n      <td>1</td>\n      <td>1</td>\n      <td>0.00000</td>\n      <td>0.00000</td>\n      <td>0.00000</td>\n      <td>0.00000</td>\n      <td>1.00000</td>\n      <td>0.00000</td>\n      <td>0.00000</td>\n      <td>255</td>\n      <td>30</td>\n      <td>0.12000</td>\n      <td>0.06000</td>\n      <td>0.00000</td>\n      <td>0.00000</td>\n      <td>0.72000</td>\n      <td>0.00000</td>\n      <td>0.01000</td>\n      <td>0.00000</td>\n      <td>normal</td>\n    </tr>\n    <tr>\n      <th>125971</th>\n      <td>0</td>\n      <td>tcp</td>\n      <td>klogin</td>\n      <td>S0</td>\n      <td>0</td>\n      <td>0</td>\n      <td>0</td>\n      <td>0</td>\n      <td>0</td>\n      <td>0</td>\n      <td>0</td>\n      <td>0</td>\n      <td>0</td>\n      <td>0</td>\n      <td>0</td>\n      <td>0</td>\n      <td>0</td>\n      <td>0</td>\n      <td>0</td>\n      <td>0</td>\n      <td>0</td>\n      <td>0</td>\n      <td>144</td>\n      <td>8</td>\n      <td>1.00000</td>\n      <td>1.00000</td>\n      <td>0.00000</td>\n      <td>0.00000</td>\n      <td>0.06000</td>\n      <td>0.05000</td>\n      <td>0.00000</td>\n      <td>255</td>\n      <td>8</td>\n      <td>0.03000</td>\n      <td>0.05000</td>\n      <td>0.00000</td>\n      <td>0.00000</td>\n      <td>1.00000</td>\n      <td>1.00000</td>\n      <td>0.00000</td>\n      <td>0.00000</td>\n      <td>attack</td>\n    </tr>\n    <tr>\n      <th>125972</th>\n      <td>0</td>\n      <td>tcp</td>\n      <td>ftp_data</td>\n      <td>SF</td>\n      <td>151</td>\n      <td>0</td>\n      <td>0</td>\n      <td>0</td>\n      <td>0</td>\n      <td>0</td>\n      <td>0</td>\n      <td>1</td>\n      <td>0</td>\n      <td>0</td>\n      <td>0</td>\n      <td>0</td>\n      <td>0</td>\n      <td>0</td>\n      <td>0</td>\n      <td>0</td>\n      <td>0</td>\n      <td>0</td>\n      <td>1</td>\n      <td>1</td>\n      <td>0.00000</td>\n      <td>0.00000</td>\n      <td>0.00000</td>\n      <td>0.00000</td>\n      <td>1.00000</td>\n      <td>0.00000</td>\n      <td>0.00000</td>\n      <td>255</td>\n      <td>77</td>\n      <td>0.30000</td>\n      <td>0.03000</td>\n      <td>0.30000</td>\n      <td>0.00000</td>\n      <td>0.00000</td>\n      <td>0.00000</td>\n      <td>0.00000</td>\n      <td>0.00000</td>\n      <td>normal</td>\n    </tr>\n  </tbody>\n</table>\n<p>125793 rows × 42 columns</p>\n</div>"
          },
          "metadata": {},
          "execution_count": 7
        }
      ]
    },
    {
      "cell_type": "markdown",
      "metadata": {
        "id": "UWVKwXYcx9xz"
      },
      "source": [
        "## 1.4 - Encode protocol, service and flag features"
      ]
    },
    {
      "cell_type": "code",
      "metadata": {
        "id": "wrbzVkugx9xz"
      },
      "source": [
        "proto_ohe_train = pd.get_dummies(edited_train['protocol_type'])\n",
        "proto_ohe_test = pd.get_dummies(edited_test['protocol_type'])\n",
        "\n",
        "service_ohe_train = pd.get_dummies(edited_train['service'])\n",
        "service_ohe_test = pd.get_dummies(edited_test['service'])\n",
        "\n",
        "flag_ohe_train = pd.get_dummies(edited_train['flag'])\n",
        "flag_ohe_test = pd.get_dummies(edited_test['flag'])"
      ],
      "execution_count": 8,
      "outputs": []
    },
    {
      "cell_type": "markdown",
      "metadata": {
        "id": "BC-X3a5Ex9x0"
      },
      "source": [
        "## 1.5 - Replace original features with the OHE features"
      ]
    },
    {
      "cell_type": "code",
      "metadata": {
        "id": "rALw4wZXx9x0"
      },
      "source": [
        "edited_train = edited_train.drop(['protocol_type', 'service', 'flag'], axis = 1)\n",
        "edited_test = edited_test.drop(['protocol_type', 'service', 'flag'], axis = 1)\n",
        "\n",
        "xtrain = pd.concat([edited_train, proto_ohe_train, service_ohe_train, flag_ohe_train], axis = 1)\n",
        "xtest = pd.concat([edited_test, proto_ohe_test, service_ohe_test, flag_ohe_test], axis = 1)"
      ],
      "execution_count": 9,
      "outputs": []
    },
    {
      "cell_type": "code",
      "metadata": {
        "id": "pzZb47741E-v"
      },
      "source": [
        "for column in xtrain:\n",
        "    # xtrain[column] = xtrain[column] / xtrain[column].max()\n",
        "    \n",
        "    if xtrain[column].isna().any():\n",
        "        xtrain[column] = float(0)\n",
        "\n",
        "for column in xtest:\n",
        "    # xtest[column] = xtest[column] / xtest[column].max()\n",
        "    \n",
        "    if xtest[column].isna().any():\n",
        "        xtest[column] = float(0)"
      ],
      "execution_count": 10,
      "outputs": []
    },
    {
      "cell_type": "code",
      "metadata": {
        "id": "2CNWh7Ya1cJl"
      },
      "source": [
        "edited_xtrain = xtrain.copy()\n",
        "edited_xtest = xtest.copy()"
      ],
      "execution_count": 11,
      "outputs": []
    },
    {
      "cell_type": "code",
      "metadata": {
        "colab": {
          "base_uri": "https://localhost:8080/",
          "height": 422
        },
        "id": "Rw3oe_JJ5bMc",
        "outputId": "4f80d8f6-00e2-4b4f-815d-dc50e701b331"
      },
      "source": [
        "edited_xtrain = edited_xtrain.drop(['attack_type'], axis = 1)\n",
        "edited_xtest = edited_xtest.drop(['attack_type'], axis = 1)\n",
        "\n",
        "edited_xtrain"
      ],
      "execution_count": 12,
      "outputs": [
        {
          "output_type": "execute_result",
          "data": {
            "text/plain": [
              "        duration  src_bytes  dst_bytes  land  wrong_fragment  urgent  hot  \\\n",
              "0              0        491          0     0               0       0    0   \n",
              "1              0        146          0     0               0       0    0   \n",
              "2              0          0          0     0               0       0    0   \n",
              "3              0        232       8153     0               0       0    0   \n",
              "4              0        199        420     0               0       0    0   \n",
              "...          ...        ...        ...   ...             ...     ...  ...   \n",
              "125968         0          0          0     0               0       0    0   \n",
              "125969         8        105        145     0               0       0    0   \n",
              "125970         0       2231        384     0               0       0    0   \n",
              "125971         0          0          0     0               0       0    0   \n",
              "125972         0        151          0     0               0       0    0   \n",
              "\n",
              "        num_failed_logins  logged_in  num_compromised  root_shell  \\\n",
              "0                       0          0                0           0   \n",
              "1                       0          0                0           0   \n",
              "2                       0          0                0           0   \n",
              "3                       0          1                0           0   \n",
              "4                       0          1                0           0   \n",
              "...                   ...        ...              ...         ...   \n",
              "125968                  0          0                0           0   \n",
              "125969                  0          0                0           0   \n",
              "125970                  0          1                0           0   \n",
              "125971                  0          0                0           0   \n",
              "125972                  0          1                0           0   \n",
              "\n",
              "        su_attempted  num_root  num_file_creations  num_shells  \\\n",
              "0                  0         0                   0           0   \n",
              "1                  0         0                   0           0   \n",
              "2                  0         0                   0           0   \n",
              "3                  0         0                   0           0   \n",
              "4                  0         0                   0           0   \n",
              "...              ...       ...                 ...         ...   \n",
              "125968             0         0                   0           0   \n",
              "125969             0         0                   0           0   \n",
              "125970             0         0                   0           0   \n",
              "125971             0         0                   0           0   \n",
              "125972             0         0                   0           0   \n",
              "\n",
              "        num_access_files  num_outbound_cmds  is_host_login  is_guest_login  \\\n",
              "0                      0                  0              0               0   \n",
              "1                      0                  0              0               0   \n",
              "2                      0                  0              0               0   \n",
              "3                      0                  0              0               0   \n",
              "4                      0                  0              0               0   \n",
              "...                  ...                ...            ...             ...   \n",
              "125968                 0                  0              0               0   \n",
              "125969                 0                  0              0               0   \n",
              "125970                 0                  0              0               0   \n",
              "125971                 0                  0              0               0   \n",
              "125972                 0                  0              0               0   \n",
              "\n",
              "        count  srv_count  serror_rate  srv_serror_rate  rerror_rate  \\\n",
              "0           2          2      0.00000          0.00000      0.00000   \n",
              "1          13          1      0.00000          0.00000      0.00000   \n",
              "2         123          6      1.00000          1.00000      0.00000   \n",
              "3           5          5      0.20000          0.20000      0.00000   \n",
              "4          30         32      0.00000          0.00000      0.00000   \n",
              "...       ...        ...          ...              ...          ...   \n",
              "125968    184         25      1.00000          1.00000      0.00000   \n",
              "125969      2          2      0.00000          0.00000      0.00000   \n",
              "125970      1          1      0.00000          0.00000      0.00000   \n",
              "125971    144          8      1.00000          1.00000      0.00000   \n",
              "125972      1          1      0.00000          0.00000      0.00000   \n",
              "\n",
              "        srv_rerror_rate  same_srv_rate  diff_srv_rate  srv_diff_host_rate  \\\n",
              "0               0.00000        1.00000        0.00000             0.00000   \n",
              "1               0.00000        0.08000        0.15000             0.00000   \n",
              "2               0.00000        0.05000        0.07000             0.00000   \n",
              "3               0.00000        1.00000        0.00000             0.00000   \n",
              "4               0.00000        1.00000        0.00000             0.09000   \n",
              "...                 ...            ...            ...                 ...   \n",
              "125968          0.00000        0.14000        0.06000             0.00000   \n",
              "125969          0.00000        1.00000        0.00000             0.00000   \n",
              "125970          0.00000        1.00000        0.00000             0.00000   \n",
              "125971          0.00000        0.06000        0.05000             0.00000   \n",
              "125972          0.00000        1.00000        0.00000             0.00000   \n",
              "\n",
              "        dst_host_count  dst_host_srv_count  dst_host_same_srv_rate  \\\n",
              "0                  150                  25                 0.17000   \n",
              "1                  255                   1                 0.00000   \n",
              "2                  255                  26                 0.10000   \n",
              "3                   30                 255                 1.00000   \n",
              "4                  255                 255                 1.00000   \n",
              "...                ...                 ...                     ...   \n",
              "125968             255                  25                 0.10000   \n",
              "125969             255                 244                 0.96000   \n",
              "125970             255                  30                 0.12000   \n",
              "125971             255                   8                 0.03000   \n",
              "125972             255                  77                 0.30000   \n",
              "\n",
              "        dst_host_diff_srv_rate  dst_host_same_src_port_rate  \\\n",
              "0                      0.03000                      0.17000   \n",
              "1                      0.60000                      0.88000   \n",
              "2                      0.05000                      0.00000   \n",
              "3                      0.00000                      0.03000   \n",
              "4                      0.00000                      0.00000   \n",
              "...                        ...                          ...   \n",
              "125968                 0.06000                      0.00000   \n",
              "125969                 0.01000                      0.01000   \n",
              "125970                 0.06000                      0.00000   \n",
              "125971                 0.05000                      0.00000   \n",
              "125972                 0.03000                      0.30000   \n",
              "\n",
              "        dst_host_srv_diff_host_rate  dst_host_serror_rate  \\\n",
              "0                           0.00000               0.00000   \n",
              "1                           0.00000               0.00000   \n",
              "2                           0.00000               1.00000   \n",
              "3                           0.04000               0.03000   \n",
              "4                           0.00000               0.00000   \n",
              "...                             ...                   ...   \n",
              "125968                      0.00000               1.00000   \n",
              "125969                      0.00000               0.00000   \n",
              "125970                      0.00000               0.72000   \n",
              "125971                      0.00000               1.00000   \n",
              "125972                      0.00000               0.00000   \n",
              "\n",
              "        dst_host_srv_serror_rate  dst_host_rerror_rate  \\\n",
              "0                        0.00000               0.05000   \n",
              "1                        0.00000               0.00000   \n",
              "2                        1.00000               0.00000   \n",
              "3                        0.01000               0.00000   \n",
              "4                        0.00000               0.00000   \n",
              "...                          ...                   ...   \n",
              "125968                   1.00000               0.00000   \n",
              "125969                   0.00000               0.00000   \n",
              "125970                   0.00000               0.01000   \n",
              "125971                   1.00000               0.00000   \n",
              "125972                   0.00000               0.00000   \n",
              "\n",
              "        dst_host_srv_rerror_rate  icmp  tcp  udp  IRC  X11  Z39_50  auth  bgp  \\\n",
              "0                        0.00000     0    1    0    0    0       0     0    0   \n",
              "1                        0.00000     0    0    1    0    0       0     0    0   \n",
              "2                        0.00000     0    1    0    0    0       0     0    0   \n",
              "3                        0.01000     0    1    0    0    0       0     0    0   \n",
              "4                        0.00000     0    1    0    0    0       0     0    0   \n",
              "...                          ...   ...  ...  ...  ...  ...     ...   ...  ...   \n",
              "125968                   0.00000     0    1    0    0    0       0     0    0   \n",
              "125969                   0.00000     0    0    1    0    0       0     0    0   \n",
              "125970                   0.00000     0    1    0    0    0       0     0    0   \n",
              "125971                   0.00000     0    1    0    0    0       0     0    0   \n",
              "125972                   0.00000     0    1    0    0    0       0     0    0   \n",
              "\n",
              "        courier  csnet_ns  ctf  daytime  discard  domain  domain_u  echo  \\\n",
              "0             0         0    0        0        0       0         0     0   \n",
              "1             0         0    0        0        0       0         0     0   \n",
              "2             0         0    0        0        0       0         0     0   \n",
              "3             0         0    0        0        0       0         0     0   \n",
              "4             0         0    0        0        0       0         0     0   \n",
              "...         ...       ...  ...      ...      ...     ...       ...   ...   \n",
              "125968        0         0    0        0        0       0         0     0   \n",
              "125969        0         0    0        0        0       0         0     0   \n",
              "125970        0         0    0        0        0       0         0     0   \n",
              "125971        0         0    0        0        0       0         0     0   \n",
              "125972        0         0    0        0        0       0         0     0   \n",
              "\n",
              "        eco_i  ecr_i  efs  exec  finger  ftp  ftp_data  gopher  hostnames  \\\n",
              "0           0      0    0     0       0    0         1       0          0   \n",
              "1           0      0    0     0       0    0         0       0          0   \n",
              "2           0      0    0     0       0    0         0       0          0   \n",
              "3           0      0    0     0       0    0         0       0          0   \n",
              "4           0      0    0     0       0    0         0       0          0   \n",
              "...       ...    ...  ...   ...     ...  ...       ...     ...        ...   \n",
              "125968      0      0    0     0       0    0         0       0          0   \n",
              "125969      0      0    0     0       0    0         0       0          0   \n",
              "125970      0      0    0     0       0    0         0       0          0   \n",
              "125971      0      0    0     0       0    0         0       0          0   \n",
              "125972      0      0    0     0       0    0         1       0          0   \n",
              "\n",
              "        http  http_443  imap4  iso_tsap  klogin  kshell  ldap  link  login  \\\n",
              "0          0         0      0         0       0       0     0     0      0   \n",
              "1          0         0      0         0       0       0     0     0      0   \n",
              "2          0         0      0         0       0       0     0     0      0   \n",
              "3          1         0      0         0       0       0     0     0      0   \n",
              "4          1         0      0         0       0       0     0     0      0   \n",
              "...      ...       ...    ...       ...     ...     ...   ...   ...    ...   \n",
              "125968     0         0      0         0       0       0     0     0      0   \n",
              "125969     0         0      0         0       0       0     0     0      0   \n",
              "125970     0         0      0         0       0       0     0     0      0   \n",
              "125971     0         0      0         0       1       0     0     0      0   \n",
              "125972     0         0      0         0       0       0     0     0      0   \n",
              "\n",
              "        mtp  name  netbios_dgm  netbios_ns  netbios_ssn  netstat  nnsp  nntp  \\\n",
              "0         0     0            0           0            0        0     0     0   \n",
              "1         0     0            0           0            0        0     0     0   \n",
              "2         0     0            0           0            0        0     0     0   \n",
              "3         0     0            0           0            0        0     0     0   \n",
              "4         0     0            0           0            0        0     0     0   \n",
              "...     ...   ...          ...         ...          ...      ...   ...   ...   \n",
              "125968    0     0            0           0            0        0     0     0   \n",
              "125969    0     0            0           0            0        0     0     0   \n",
              "125970    0     0            0           0            0        0     0     0   \n",
              "125971    0     0            0           0            0        0     0     0   \n",
              "125972    0     0            0           0            0        0     0     0   \n",
              "\n",
              "        ntp_u  other  pm_dump  pop_2  pop_3  private  remote_job  shell  smtp  \\\n",
              "0           0      0        0      0      0        0           0      0     0   \n",
              "1           0      1        0      0      0        0           0      0     0   \n",
              "2           0      0        0      0      0        1           0      0     0   \n",
              "3           0      0        0      0      0        0           0      0     0   \n",
              "4           0      0        0      0      0        0           0      0     0   \n",
              "...       ...    ...      ...    ...    ...      ...         ...    ...   ...   \n",
              "125968      0      0        0      0      0        1           0      0     0   \n",
              "125969      0      0        0      0      0        1           0      0     0   \n",
              "125970      0      0        0      0      0        0           0      0     1   \n",
              "125971      0      0        0      0      0        0           0      0     0   \n",
              "125972      0      0        0      0      0        0           0      0     0   \n",
              "\n",
              "        sql_net  ssh  sunrpc  supdup  systat  telnet  tftp_u  tim_i  time  \\\n",
              "0             0    0       0       0       0       0       0      0     0   \n",
              "1             0    0       0       0       0       0       0      0     0   \n",
              "2             0    0       0       0       0       0       0      0     0   \n",
              "3             0    0       0       0       0       0       0      0     0   \n",
              "4             0    0       0       0       0       0       0      0     0   \n",
              "...         ...  ...     ...     ...     ...     ...     ...    ...   ...   \n",
              "125968        0    0       0       0       0       0       0      0     0   \n",
              "125969        0    0       0       0       0       0       0      0     0   \n",
              "125970        0    0       0       0       0       0       0      0     0   \n",
              "125971        0    0       0       0       0       0       0      0     0   \n",
              "125972        0    0       0       0       0       0       0      0     0   \n",
              "\n",
              "        urp_i  uucp  uucp_path  vmnet  whois  OTH  REJ  RSTO  RSTOS0  RSTR  \\\n",
              "0           0     0          0      0      0    0    0     0       0     0   \n",
              "1           0     0          0      0      0    0    0     0       0     0   \n",
              "2           0     0          0      0      0    0    0     0       0     0   \n",
              "3           0     0          0      0      0    0    0     0       0     0   \n",
              "4           0     0          0      0      0    0    0     0       0     0   \n",
              "...       ...   ...        ...    ...    ...  ...  ...   ...     ...   ...   \n",
              "125968      0     0          0      0      0    0    0     0       0     0   \n",
              "125969      0     0          0      0      0    0    0     0       0     0   \n",
              "125970      0     0          0      0      0    0    0     0       0     0   \n",
              "125971      0     0          0      0      0    0    0     0       0     0   \n",
              "125972      0     0          0      0      0    0    0     0       0     0   \n",
              "\n",
              "        S0  S1  S2  S3  SF  SH  \n",
              "0        0   0   0   0   1   0  \n",
              "1        0   0   0   0   1   0  \n",
              "2        1   0   0   0   0   0  \n",
              "3        0   0   0   0   1   0  \n",
              "4        0   0   0   0   1   0  \n",
              "...     ..  ..  ..  ..  ..  ..  \n",
              "125968   1   0   0   0   0   0  \n",
              "125969   0   0   0   0   1   0  \n",
              "125970   0   0   0   0   1   0  \n",
              "125971   1   0   0   0   0   0  \n",
              "125972   0   0   0   0   1   0  \n",
              "\n",
              "[125793 rows x 114 columns]"
            ],
            "text/html": "<div>\n<style scoped>\n    .dataframe tbody tr th:only-of-type {\n        vertical-align: middle;\n    }\n\n    .dataframe tbody tr th {\n        vertical-align: top;\n    }\n\n    .dataframe thead th {\n        text-align: right;\n    }\n</style>\n<table border=\"1\" class=\"dataframe\">\n  <thead>\n    <tr style=\"text-align: right;\">\n      <th></th>\n      <th>duration</th>\n      <th>src_bytes</th>\n      <th>dst_bytes</th>\n      <th>land</th>\n      <th>wrong_fragment</th>\n      <th>urgent</th>\n      <th>hot</th>\n      <th>num_failed_logins</th>\n      <th>logged_in</th>\n      <th>num_compromised</th>\n      <th>root_shell</th>\n      <th>su_attempted</th>\n      <th>num_root</th>\n      <th>num_file_creations</th>\n      <th>num_shells</th>\n      <th>num_access_files</th>\n      <th>num_outbound_cmds</th>\n      <th>is_host_login</th>\n      <th>is_guest_login</th>\n      <th>count</th>\n      <th>srv_count</th>\n      <th>serror_rate</th>\n      <th>srv_serror_rate</th>\n      <th>rerror_rate</th>\n      <th>srv_rerror_rate</th>\n      <th>same_srv_rate</th>\n      <th>diff_srv_rate</th>\n      <th>srv_diff_host_rate</th>\n      <th>dst_host_count</th>\n      <th>dst_host_srv_count</th>\n      <th>dst_host_same_srv_rate</th>\n      <th>dst_host_diff_srv_rate</th>\n      <th>dst_host_same_src_port_rate</th>\n      <th>dst_host_srv_diff_host_rate</th>\n      <th>dst_host_serror_rate</th>\n      <th>dst_host_srv_serror_rate</th>\n      <th>dst_host_rerror_rate</th>\n      <th>dst_host_srv_rerror_rate</th>\n      <th>icmp</th>\n      <th>tcp</th>\n      <th>udp</th>\n      <th>IRC</th>\n      <th>X11</th>\n      <th>Z39_50</th>\n      <th>auth</th>\n      <th>bgp</th>\n      <th>courier</th>\n      <th>csnet_ns</th>\n      <th>ctf</th>\n      <th>daytime</th>\n      <th>discard</th>\n      <th>domain</th>\n      <th>domain_u</th>\n      <th>echo</th>\n      <th>eco_i</th>\n      <th>ecr_i</th>\n      <th>efs</th>\n      <th>exec</th>\n      <th>finger</th>\n      <th>ftp</th>\n      <th>ftp_data</th>\n      <th>gopher</th>\n      <th>hostnames</th>\n      <th>http</th>\n      <th>http_443</th>\n      <th>imap4</th>\n      <th>iso_tsap</th>\n      <th>klogin</th>\n      <th>kshell</th>\n      <th>ldap</th>\n      <th>link</th>\n      <th>login</th>\n      <th>mtp</th>\n      <th>name</th>\n      <th>netbios_dgm</th>\n      <th>netbios_ns</th>\n      <th>netbios_ssn</th>\n      <th>netstat</th>\n      <th>nnsp</th>\n      <th>nntp</th>\n      <th>ntp_u</th>\n      <th>other</th>\n      <th>pm_dump</th>\n      <th>pop_2</th>\n      <th>pop_3</th>\n      <th>private</th>\n      <th>remote_job</th>\n      <th>shell</th>\n      <th>smtp</th>\n      <th>sql_net</th>\n      <th>ssh</th>\n      <th>sunrpc</th>\n      <th>supdup</th>\n      <th>systat</th>\n      <th>telnet</th>\n      <th>tftp_u</th>\n      <th>tim_i</th>\n      <th>time</th>\n      <th>urp_i</th>\n      <th>uucp</th>\n      <th>uucp_path</th>\n      <th>vmnet</th>\n      <th>whois</th>\n      <th>OTH</th>\n      <th>REJ</th>\n      <th>RSTO</th>\n      <th>RSTOS0</th>\n      <th>RSTR</th>\n      <th>S0</th>\n      <th>S1</th>\n      <th>S2</th>\n      <th>S3</th>\n      <th>SF</th>\n      <th>SH</th>\n    </tr>\n  </thead>\n  <tbody>\n    <tr>\n      <th>0</th>\n      <td>0</td>\n      <td>491</td>\n      <td>0</td>\n      <td>0</td>\n      <td>0</td>\n      <td>0</td>\n      <td>0</td>\n      <td>0</td>\n      <td>0</td>\n      <td>0</td>\n      <td>0</td>\n      <td>0</td>\n      <td>0</td>\n      <td>0</td>\n      <td>0</td>\n      <td>0</td>\n      <td>0</td>\n      <td>0</td>\n      <td>0</td>\n      <td>2</td>\n      <td>2</td>\n      <td>0.00000</td>\n      <td>0.00000</td>\n      <td>0.00000</td>\n      <td>0.00000</td>\n      <td>1.00000</td>\n      <td>0.00000</td>\n      <td>0.00000</td>\n      <td>150</td>\n      <td>25</td>\n      <td>0.17000</td>\n      <td>0.03000</td>\n      <td>0.17000</td>\n      <td>0.00000</td>\n      <td>0.00000</td>\n      <td>0.00000</td>\n      <td>0.05000</td>\n      <td>0.00000</td>\n      <td>0</td>\n      <td>1</td>\n      <td>0</td>\n      <td>0</td>\n      <td>0</td>\n      <td>0</td>\n      <td>0</td>\n      <td>0</td>\n      <td>0</td>\n      <td>0</td>\n      <td>0</td>\n      <td>0</td>\n      <td>0</td>\n      <td>0</td>\n      <td>0</td>\n      <td>0</td>\n      <td>0</td>\n      <td>0</td>\n      <td>0</td>\n      <td>0</td>\n      <td>0</td>\n      <td>0</td>\n      <td>1</td>\n      <td>0</td>\n      <td>0</td>\n      <td>0</td>\n      <td>0</td>\n      <td>0</td>\n      <td>0</td>\n      <td>0</td>\n      <td>0</td>\n      <td>0</td>\n      <td>0</td>\n      <td>0</td>\n      <td>0</td>\n      <td>0</td>\n      <td>0</td>\n      <td>0</td>\n      <td>0</td>\n      <td>0</td>\n      <td>0</td>\n      <td>0</td>\n      <td>0</td>\n      <td>0</td>\n      <td>0</td>\n      <td>0</td>\n      <td>0</td>\n      <td>0</td>\n      <td>0</td>\n      <td>0</td>\n      <td>0</td>\n      <td>0</td>\n      <td>0</td>\n      <td>0</td>\n      <td>0</td>\n      <td>0</td>\n      <td>0</td>\n      <td>0</td>\n      <td>0</td>\n      <td>0</td>\n      <td>0</td>\n      <td>0</td>\n      <td>0</td>\n      <td>0</td>\n      <td>0</td>\n      <td>0</td>\n      <td>0</td>\n      <td>0</td>\n      <td>0</td>\n      <td>0</td>\n      <td>0</td>\n      <td>0</td>\n      <td>0</td>\n      <td>0</td>\n      <td>1</td>\n      <td>0</td>\n    </tr>\n    <tr>\n      <th>1</th>\n      <td>0</td>\n      <td>146</td>\n      <td>0</td>\n      <td>0</td>\n      <td>0</td>\n      <td>0</td>\n      <td>0</td>\n      <td>0</td>\n      <td>0</td>\n      <td>0</td>\n      <td>0</td>\n      <td>0</td>\n      <td>0</td>\n      <td>0</td>\n      <td>0</td>\n      <td>0</td>\n      <td>0</td>\n      <td>0</td>\n      <td>0</td>\n      <td>13</td>\n      <td>1</td>\n      <td>0.00000</td>\n      <td>0.00000</td>\n      <td>0.00000</td>\n      <td>0.00000</td>\n      <td>0.08000</td>\n      <td>0.15000</td>\n      <td>0.00000</td>\n      <td>255</td>\n      <td>1</td>\n      <td>0.00000</td>\n      <td>0.60000</td>\n      <td>0.88000</td>\n      <td>0.00000</td>\n      <td>0.00000</td>\n      <td>0.00000</td>\n      <td>0.00000</td>\n      <td>0.00000</td>\n      <td>0</td>\n      <td>0</td>\n      <td>1</td>\n      <td>0</td>\n      <td>0</td>\n      <td>0</td>\n      <td>0</td>\n      <td>0</td>\n      <td>0</td>\n      <td>0</td>\n      <td>0</td>\n      <td>0</td>\n      <td>0</td>\n      <td>0</td>\n      <td>0</td>\n      <td>0</td>\n      <td>0</td>\n      <td>0</td>\n      <td>0</td>\n      <td>0</td>\n      <td>0</td>\n      <td>0</td>\n      <td>0</td>\n      <td>0</td>\n      <td>0</td>\n      <td>0</td>\n      <td>0</td>\n      <td>0</td>\n      <td>0</td>\n      <td>0</td>\n      <td>0</td>\n      <td>0</td>\n      <td>0</td>\n      <td>0</td>\n      <td>0</td>\n      <td>0</td>\n      <td>0</td>\n      <td>0</td>\n      <td>0</td>\n      <td>0</td>\n      <td>0</td>\n      <td>0</td>\n      <td>0</td>\n      <td>1</td>\n      <td>0</td>\n      <td>0</td>\n      <td>0</td>\n      <td>0</td>\n      <td>0</td>\n      <td>0</td>\n      <td>0</td>\n      <td>0</td>\n      <td>0</td>\n      <td>0</td>\n      <td>0</td>\n      <td>0</td>\n      <td>0</td>\n      <td>0</td>\n      <td>0</td>\n      <td>0</td>\n      <td>0</td>\n      <td>0</td>\n      <td>0</td>\n      <td>0</td>\n      <td>0</td>\n      <td>0</td>\n      <td>0</td>\n      <td>0</td>\n      <td>0</td>\n      <td>0</td>\n      <td>0</td>\n      <td>0</td>\n      <td>0</td>\n      <td>0</td>\n      <td>1</td>\n      <td>0</td>\n    </tr>\n    <tr>\n      <th>2</th>\n      <td>0</td>\n      <td>0</td>\n      <td>0</td>\n      <td>0</td>\n      <td>0</td>\n      <td>0</td>\n      <td>0</td>\n      <td>0</td>\n      <td>0</td>\n      <td>0</td>\n      <td>0</td>\n      <td>0</td>\n      <td>0</td>\n      <td>0</td>\n      <td>0</td>\n      <td>0</td>\n      <td>0</td>\n      <td>0</td>\n      <td>0</td>\n      <td>123</td>\n      <td>6</td>\n      <td>1.00000</td>\n      <td>1.00000</td>\n      <td>0.00000</td>\n      <td>0.00000</td>\n      <td>0.05000</td>\n      <td>0.07000</td>\n      <td>0.00000</td>\n      <td>255</td>\n      <td>26</td>\n      <td>0.10000</td>\n      <td>0.05000</td>\n      <td>0.00000</td>\n      <td>0.00000</td>\n      <td>1.00000</td>\n      <td>1.00000</td>\n      <td>0.00000</td>\n      <td>0.00000</td>\n      <td>0</td>\n      <td>1</td>\n      <td>0</td>\n      <td>0</td>\n      <td>0</td>\n      <td>0</td>\n      <td>0</td>\n      <td>0</td>\n      <td>0</td>\n      <td>0</td>\n      <td>0</td>\n      <td>0</td>\n      <td>0</td>\n      <td>0</td>\n      <td>0</td>\n      <td>0</td>\n      <td>0</td>\n      <td>0</td>\n      <td>0</td>\n      <td>0</td>\n      <td>0</td>\n      <td>0</td>\n      <td>0</td>\n      <td>0</td>\n      <td>0</td>\n      <td>0</td>\n      <td>0</td>\n      <td>0</td>\n      <td>0</td>\n      <td>0</td>\n      <td>0</td>\n      <td>0</td>\n      <td>0</td>\n      <td>0</td>\n      <td>0</td>\n      <td>0</td>\n      <td>0</td>\n      <td>0</td>\n      <td>0</td>\n      <td>0</td>\n      <td>0</td>\n      <td>0</td>\n      <td>0</td>\n      <td>0</td>\n      <td>0</td>\n      <td>0</td>\n      <td>0</td>\n      <td>1</td>\n      <td>0</td>\n      <td>0</td>\n      <td>0</td>\n      <td>0</td>\n      <td>0</td>\n      <td>0</td>\n      <td>0</td>\n      <td>0</td>\n      <td>0</td>\n      <td>0</td>\n      <td>0</td>\n      <td>0</td>\n      <td>0</td>\n      <td>0</td>\n      <td>0</td>\n      <td>0</td>\n      <td>0</td>\n      <td>0</td>\n      <td>0</td>\n      <td>0</td>\n      <td>0</td>\n      <td>0</td>\n      <td>1</td>\n      <td>0</td>\n      <td>0</td>\n      <td>0</td>\n      <td>0</td>\n      <td>0</td>\n    </tr>\n    <tr>\n      <th>3</th>\n      <td>0</td>\n      <td>232</td>\n      <td>8153</td>\n      <td>0</td>\n      <td>0</td>\n      <td>0</td>\n      <td>0</td>\n      <td>0</td>\n      <td>1</td>\n      <td>0</td>\n      <td>0</td>\n      <td>0</td>\n      <td>0</td>\n      <td>0</td>\n      <td>0</td>\n      <td>0</td>\n      <td>0</td>\n      <td>0</td>\n      <td>0</td>\n      <td>5</td>\n      <td>5</td>\n      <td>0.20000</td>\n      <td>0.20000</td>\n      <td>0.00000</td>\n      <td>0.00000</td>\n      <td>1.00000</td>\n      <td>0.00000</td>\n      <td>0.00000</td>\n      <td>30</td>\n      <td>255</td>\n      <td>1.00000</td>\n      <td>0.00000</td>\n      <td>0.03000</td>\n      <td>0.04000</td>\n      <td>0.03000</td>\n      <td>0.01000</td>\n      <td>0.00000</td>\n      <td>0.01000</td>\n      <td>0</td>\n      <td>1</td>\n      <td>0</td>\n      <td>0</td>\n      <td>0</td>\n      <td>0</td>\n      <td>0</td>\n      <td>0</td>\n      <td>0</td>\n      <td>0</td>\n      <td>0</td>\n      <td>0</td>\n      <td>0</td>\n      <td>0</td>\n      <td>0</td>\n      <td>0</td>\n      <td>0</td>\n      <td>0</td>\n      <td>0</td>\n      <td>0</td>\n      <td>0</td>\n      <td>0</td>\n      <td>0</td>\n      <td>0</td>\n      <td>0</td>\n      <td>1</td>\n      <td>0</td>\n      <td>0</td>\n      <td>0</td>\n      <td>0</td>\n      <td>0</td>\n      <td>0</td>\n      <td>0</td>\n      <td>0</td>\n      <td>0</td>\n      <td>0</td>\n      <td>0</td>\n      <td>0</td>\n      <td>0</td>\n      <td>0</td>\n      <td>0</td>\n      <td>0</td>\n      <td>0</td>\n      <td>0</td>\n      <td>0</td>\n      <td>0</td>\n      <td>0</td>\n      <td>0</td>\n      <td>0</td>\n      <td>0</td>\n      <td>0</td>\n      <td>0</td>\n      <td>0</td>\n      <td>0</td>\n      <td>0</td>\n      <td>0</td>\n      <td>0</td>\n      <td>0</td>\n      <td>0</td>\n      <td>0</td>\n      <td>0</td>\n      <td>0</td>\n      <td>0</td>\n      <td>0</td>\n      <td>0</td>\n      <td>0</td>\n      <td>0</td>\n      <td>0</td>\n      <td>0</td>\n      <td>0</td>\n      <td>0</td>\n      <td>0</td>\n      <td>0</td>\n      <td>0</td>\n      <td>1</td>\n      <td>0</td>\n    </tr>\n    <tr>\n      <th>4</th>\n      <td>0</td>\n      <td>199</td>\n      <td>420</td>\n      <td>0</td>\n      <td>0</td>\n      <td>0</td>\n      <td>0</td>\n      <td>0</td>\n      <td>1</td>\n      <td>0</td>\n      <td>0</td>\n      <td>0</td>\n      <td>0</td>\n      <td>0</td>\n      <td>0</td>\n      <td>0</td>\n      <td>0</td>\n      <td>0</td>\n      <td>0</td>\n      <td>30</td>\n      <td>32</td>\n      <td>0.00000</td>\n      <td>0.00000</td>\n      <td>0.00000</td>\n      <td>0.00000</td>\n      <td>1.00000</td>\n      <td>0.00000</td>\n      <td>0.09000</td>\n      <td>255</td>\n      <td>255</td>\n      <td>1.00000</td>\n      <td>0.00000</td>\n      <td>0.00000</td>\n      <td>0.00000</td>\n      <td>0.00000</td>\n      <td>0.00000</td>\n      <td>0.00000</td>\n      <td>0.00000</td>\n      <td>0</td>\n      <td>1</td>\n      <td>0</td>\n      <td>0</td>\n      <td>0</td>\n      <td>0</td>\n      <td>0</td>\n      <td>0</td>\n      <td>0</td>\n      <td>0</td>\n      <td>0</td>\n      <td>0</td>\n      <td>0</td>\n      <td>0</td>\n      <td>0</td>\n      <td>0</td>\n      <td>0</td>\n      <td>0</td>\n      <td>0</td>\n      <td>0</td>\n      <td>0</td>\n      <td>0</td>\n      <td>0</td>\n      <td>0</td>\n      <td>0</td>\n      <td>1</td>\n      <td>0</td>\n      <td>0</td>\n      <td>0</td>\n      <td>0</td>\n      <td>0</td>\n      <td>0</td>\n      <td>0</td>\n      <td>0</td>\n      <td>0</td>\n      <td>0</td>\n      <td>0</td>\n      <td>0</td>\n      <td>0</td>\n      <td>0</td>\n      <td>0</td>\n      <td>0</td>\n      <td>0</td>\n      <td>0</td>\n      <td>0</td>\n      <td>0</td>\n      <td>0</td>\n      <td>0</td>\n      <td>0</td>\n      <td>0</td>\n      <td>0</td>\n      <td>0</td>\n      <td>0</td>\n      <td>0</td>\n      <td>0</td>\n      <td>0</td>\n      <td>0</td>\n      <td>0</td>\n      <td>0</td>\n      <td>0</td>\n      <td>0</td>\n      <td>0</td>\n      <td>0</td>\n      <td>0</td>\n      <td>0</td>\n      <td>0</td>\n      <td>0</td>\n      <td>0</td>\n      <td>0</td>\n      <td>0</td>\n      <td>0</td>\n      <td>0</td>\n      <td>0</td>\n      <td>0</td>\n      <td>1</td>\n      <td>0</td>\n    </tr>\n    <tr>\n      <th>...</th>\n      <td>...</td>\n      <td>...</td>\n      <td>...</td>\n      <td>...</td>\n      <td>...</td>\n      <td>...</td>\n      <td>...</td>\n      <td>...</td>\n      <td>...</td>\n      <td>...</td>\n      <td>...</td>\n      <td>...</td>\n      <td>...</td>\n      <td>...</td>\n      <td>...</td>\n      <td>...</td>\n      <td>...</td>\n      <td>...</td>\n      <td>...</td>\n      <td>...</td>\n      <td>...</td>\n      <td>...</td>\n      <td>...</td>\n      <td>...</td>\n      <td>...</td>\n      <td>...</td>\n      <td>...</td>\n      <td>...</td>\n      <td>...</td>\n      <td>...</td>\n      <td>...</td>\n      <td>...</td>\n      <td>...</td>\n      <td>...</td>\n      <td>...</td>\n      <td>...</td>\n      <td>...</td>\n      <td>...</td>\n      <td>...</td>\n      <td>...</td>\n      <td>...</td>\n      <td>...</td>\n      <td>...</td>\n      <td>...</td>\n      <td>...</td>\n      <td>...</td>\n      <td>...</td>\n      <td>...</td>\n      <td>...</td>\n      <td>...</td>\n      <td>...</td>\n      <td>...</td>\n      <td>...</td>\n      <td>...</td>\n      <td>...</td>\n      <td>...</td>\n      <td>...</td>\n      <td>...</td>\n      <td>...</td>\n      <td>...</td>\n      <td>...</td>\n      <td>...</td>\n      <td>...</td>\n      <td>...</td>\n      <td>...</td>\n      <td>...</td>\n      <td>...</td>\n      <td>...</td>\n      <td>...</td>\n      <td>...</td>\n      <td>...</td>\n      <td>...</td>\n      <td>...</td>\n      <td>...</td>\n      <td>...</td>\n      <td>...</td>\n      <td>...</td>\n      <td>...</td>\n      <td>...</td>\n      <td>...</td>\n      <td>...</td>\n      <td>...</td>\n      <td>...</td>\n      <td>...</td>\n      <td>...</td>\n      <td>...</td>\n      <td>...</td>\n      <td>...</td>\n      <td>...</td>\n      <td>...</td>\n      <td>...</td>\n      <td>...</td>\n      <td>...</td>\n      <td>...</td>\n      <td>...</td>\n      <td>...</td>\n      <td>...</td>\n      <td>...</td>\n      <td>...</td>\n      <td>...</td>\n      <td>...</td>\n      <td>...</td>\n      <td>...</td>\n      <td>...</td>\n      <td>...</td>\n      <td>...</td>\n      <td>...</td>\n      <td>...</td>\n      <td>...</td>\n      <td>...</td>\n      <td>...</td>\n      <td>...</td>\n      <td>...</td>\n      <td>...</td>\n    </tr>\n    <tr>\n      <th>125968</th>\n      <td>0</td>\n      <td>0</td>\n      <td>0</td>\n      <td>0</td>\n      <td>0</td>\n      <td>0</td>\n      <td>0</td>\n      <td>0</td>\n      <td>0</td>\n      <td>0</td>\n      <td>0</td>\n      <td>0</td>\n      <td>0</td>\n      <td>0</td>\n      <td>0</td>\n      <td>0</td>\n      <td>0</td>\n      <td>0</td>\n      <td>0</td>\n      <td>184</td>\n      <td>25</td>\n      <td>1.00000</td>\n      <td>1.00000</td>\n      <td>0.00000</td>\n      <td>0.00000</td>\n      <td>0.14000</td>\n      <td>0.06000</td>\n      <td>0.00000</td>\n      <td>255</td>\n      <td>25</td>\n      <td>0.10000</td>\n      <td>0.06000</td>\n      <td>0.00000</td>\n      <td>0.00000</td>\n      <td>1.00000</td>\n      <td>1.00000</td>\n      <td>0.00000</td>\n      <td>0.00000</td>\n      <td>0</td>\n      <td>1</td>\n      <td>0</td>\n      <td>0</td>\n      <td>0</td>\n      <td>0</td>\n      <td>0</td>\n      <td>0</td>\n      <td>0</td>\n      <td>0</td>\n      <td>0</td>\n      <td>0</td>\n      <td>0</td>\n      <td>0</td>\n      <td>0</td>\n      <td>0</td>\n      <td>0</td>\n      <td>0</td>\n      <td>0</td>\n      <td>0</td>\n      <td>0</td>\n      <td>0</td>\n      <td>0</td>\n      <td>0</td>\n      <td>0</td>\n      <td>0</td>\n      <td>0</td>\n      <td>0</td>\n      <td>0</td>\n      <td>0</td>\n      <td>0</td>\n      <td>0</td>\n      <td>0</td>\n      <td>0</td>\n      <td>0</td>\n      <td>0</td>\n      <td>0</td>\n      <td>0</td>\n      <td>0</td>\n      <td>0</td>\n      <td>0</td>\n      <td>0</td>\n      <td>0</td>\n      <td>0</td>\n      <td>0</td>\n      <td>0</td>\n      <td>0</td>\n      <td>1</td>\n      <td>0</td>\n      <td>0</td>\n      <td>0</td>\n      <td>0</td>\n      <td>0</td>\n      <td>0</td>\n      <td>0</td>\n      <td>0</td>\n      <td>0</td>\n      <td>0</td>\n      <td>0</td>\n      <td>0</td>\n      <td>0</td>\n      <td>0</td>\n      <td>0</td>\n      <td>0</td>\n      <td>0</td>\n      <td>0</td>\n      <td>0</td>\n      <td>0</td>\n      <td>0</td>\n      <td>0</td>\n      <td>1</td>\n      <td>0</td>\n      <td>0</td>\n      <td>0</td>\n      <td>0</td>\n      <td>0</td>\n    </tr>\n    <tr>\n      <th>125969</th>\n      <td>8</td>\n      <td>105</td>\n      <td>145</td>\n      <td>0</td>\n      <td>0</td>\n      <td>0</td>\n      <td>0</td>\n      <td>0</td>\n      <td>0</td>\n      <td>0</td>\n      <td>0</td>\n      <td>0</td>\n      <td>0</td>\n      <td>0</td>\n      <td>0</td>\n      <td>0</td>\n      <td>0</td>\n      <td>0</td>\n      <td>0</td>\n      <td>2</td>\n      <td>2</td>\n      <td>0.00000</td>\n      <td>0.00000</td>\n      <td>0.00000</td>\n      <td>0.00000</td>\n      <td>1.00000</td>\n      <td>0.00000</td>\n      <td>0.00000</td>\n      <td>255</td>\n      <td>244</td>\n      <td>0.96000</td>\n      <td>0.01000</td>\n      <td>0.01000</td>\n      <td>0.00000</td>\n      <td>0.00000</td>\n      <td>0.00000</td>\n      <td>0.00000</td>\n      <td>0.00000</td>\n      <td>0</td>\n      <td>0</td>\n      <td>1</td>\n      <td>0</td>\n      <td>0</td>\n      <td>0</td>\n      <td>0</td>\n      <td>0</td>\n      <td>0</td>\n      <td>0</td>\n      <td>0</td>\n      <td>0</td>\n      <td>0</td>\n      <td>0</td>\n      <td>0</td>\n      <td>0</td>\n      <td>0</td>\n      <td>0</td>\n      <td>0</td>\n      <td>0</td>\n      <td>0</td>\n      <td>0</td>\n      <td>0</td>\n      <td>0</td>\n      <td>0</td>\n      <td>0</td>\n      <td>0</td>\n      <td>0</td>\n      <td>0</td>\n      <td>0</td>\n      <td>0</td>\n      <td>0</td>\n      <td>0</td>\n      <td>0</td>\n      <td>0</td>\n      <td>0</td>\n      <td>0</td>\n      <td>0</td>\n      <td>0</td>\n      <td>0</td>\n      <td>0</td>\n      <td>0</td>\n      <td>0</td>\n      <td>0</td>\n      <td>0</td>\n      <td>0</td>\n      <td>0</td>\n      <td>1</td>\n      <td>0</td>\n      <td>0</td>\n      <td>0</td>\n      <td>0</td>\n      <td>0</td>\n      <td>0</td>\n      <td>0</td>\n      <td>0</td>\n      <td>0</td>\n      <td>0</td>\n      <td>0</td>\n      <td>0</td>\n      <td>0</td>\n      <td>0</td>\n      <td>0</td>\n      <td>0</td>\n      <td>0</td>\n      <td>0</td>\n      <td>0</td>\n      <td>0</td>\n      <td>0</td>\n      <td>0</td>\n      <td>0</td>\n      <td>0</td>\n      <td>0</td>\n      <td>0</td>\n      <td>1</td>\n      <td>0</td>\n    </tr>\n    <tr>\n      <th>125970</th>\n      <td>0</td>\n      <td>2231</td>\n      <td>384</td>\n      <td>0</td>\n      <td>0</td>\n      <td>0</td>\n      <td>0</td>\n      <td>0</td>\n      <td>1</td>\n      <td>0</td>\n      <td>0</td>\n      <td>0</td>\n      <td>0</td>\n      <td>0</td>\n      <td>0</td>\n      <td>0</td>\n      <td>0</td>\n      <td>0</td>\n      <td>0</td>\n      <td>1</td>\n      <td>1</td>\n      <td>0.00000</td>\n      <td>0.00000</td>\n      <td>0.00000</td>\n      <td>0.00000</td>\n      <td>1.00000</td>\n      <td>0.00000</td>\n      <td>0.00000</td>\n      <td>255</td>\n      <td>30</td>\n      <td>0.12000</td>\n      <td>0.06000</td>\n      <td>0.00000</td>\n      <td>0.00000</td>\n      <td>0.72000</td>\n      <td>0.00000</td>\n      <td>0.01000</td>\n      <td>0.00000</td>\n      <td>0</td>\n      <td>1</td>\n      <td>0</td>\n      <td>0</td>\n      <td>0</td>\n      <td>0</td>\n      <td>0</td>\n      <td>0</td>\n      <td>0</td>\n      <td>0</td>\n      <td>0</td>\n      <td>0</td>\n      <td>0</td>\n      <td>0</td>\n      <td>0</td>\n      <td>0</td>\n      <td>0</td>\n      <td>0</td>\n      <td>0</td>\n      <td>0</td>\n      <td>0</td>\n      <td>0</td>\n      <td>0</td>\n      <td>0</td>\n      <td>0</td>\n      <td>0</td>\n      <td>0</td>\n      <td>0</td>\n      <td>0</td>\n      <td>0</td>\n      <td>0</td>\n      <td>0</td>\n      <td>0</td>\n      <td>0</td>\n      <td>0</td>\n      <td>0</td>\n      <td>0</td>\n      <td>0</td>\n      <td>0</td>\n      <td>0</td>\n      <td>0</td>\n      <td>0</td>\n      <td>0</td>\n      <td>0</td>\n      <td>0</td>\n      <td>0</td>\n      <td>0</td>\n      <td>0</td>\n      <td>0</td>\n      <td>0</td>\n      <td>1</td>\n      <td>0</td>\n      <td>0</td>\n      <td>0</td>\n      <td>0</td>\n      <td>0</td>\n      <td>0</td>\n      <td>0</td>\n      <td>0</td>\n      <td>0</td>\n      <td>0</td>\n      <td>0</td>\n      <td>0</td>\n      <td>0</td>\n      <td>0</td>\n      <td>0</td>\n      <td>0</td>\n      <td>0</td>\n      <td>0</td>\n      <td>0</td>\n      <td>0</td>\n      <td>0</td>\n      <td>0</td>\n      <td>0</td>\n      <td>1</td>\n      <td>0</td>\n    </tr>\n    <tr>\n      <th>125971</th>\n      <td>0</td>\n      <td>0</td>\n      <td>0</td>\n      <td>0</td>\n      <td>0</td>\n      <td>0</td>\n      <td>0</td>\n      <td>0</td>\n      <td>0</td>\n      <td>0</td>\n      <td>0</td>\n      <td>0</td>\n      <td>0</td>\n      <td>0</td>\n      <td>0</td>\n      <td>0</td>\n      <td>0</td>\n      <td>0</td>\n      <td>0</td>\n      <td>144</td>\n      <td>8</td>\n      <td>1.00000</td>\n      <td>1.00000</td>\n      <td>0.00000</td>\n      <td>0.00000</td>\n      <td>0.06000</td>\n      <td>0.05000</td>\n      <td>0.00000</td>\n      <td>255</td>\n      <td>8</td>\n      <td>0.03000</td>\n      <td>0.05000</td>\n      <td>0.00000</td>\n      <td>0.00000</td>\n      <td>1.00000</td>\n      <td>1.00000</td>\n      <td>0.00000</td>\n      <td>0.00000</td>\n      <td>0</td>\n      <td>1</td>\n      <td>0</td>\n      <td>0</td>\n      <td>0</td>\n      <td>0</td>\n      <td>0</td>\n      <td>0</td>\n      <td>0</td>\n      <td>0</td>\n      <td>0</td>\n      <td>0</td>\n      <td>0</td>\n      <td>0</td>\n      <td>0</td>\n      <td>0</td>\n      <td>0</td>\n      <td>0</td>\n      <td>0</td>\n      <td>0</td>\n      <td>0</td>\n      <td>0</td>\n      <td>0</td>\n      <td>0</td>\n      <td>0</td>\n      <td>0</td>\n      <td>0</td>\n      <td>0</td>\n      <td>0</td>\n      <td>1</td>\n      <td>0</td>\n      <td>0</td>\n      <td>0</td>\n      <td>0</td>\n      <td>0</td>\n      <td>0</td>\n      <td>0</td>\n      <td>0</td>\n      <td>0</td>\n      <td>0</td>\n      <td>0</td>\n      <td>0</td>\n      <td>0</td>\n      <td>0</td>\n      <td>0</td>\n      <td>0</td>\n      <td>0</td>\n      <td>0</td>\n      <td>0</td>\n      <td>0</td>\n      <td>0</td>\n      <td>0</td>\n      <td>0</td>\n      <td>0</td>\n      <td>0</td>\n      <td>0</td>\n      <td>0</td>\n      <td>0</td>\n      <td>0</td>\n      <td>0</td>\n      <td>0</td>\n      <td>0</td>\n      <td>0</td>\n      <td>0</td>\n      <td>0</td>\n      <td>0</td>\n      <td>0</td>\n      <td>0</td>\n      <td>0</td>\n      <td>0</td>\n      <td>1</td>\n      <td>0</td>\n      <td>0</td>\n      <td>0</td>\n      <td>0</td>\n      <td>0</td>\n    </tr>\n    <tr>\n      <th>125972</th>\n      <td>0</td>\n      <td>151</td>\n      <td>0</td>\n      <td>0</td>\n      <td>0</td>\n      <td>0</td>\n      <td>0</td>\n      <td>0</td>\n      <td>1</td>\n      <td>0</td>\n      <td>0</td>\n      <td>0</td>\n      <td>0</td>\n      <td>0</td>\n      <td>0</td>\n      <td>0</td>\n      <td>0</td>\n      <td>0</td>\n      <td>0</td>\n      <td>1</td>\n      <td>1</td>\n      <td>0.00000</td>\n      <td>0.00000</td>\n      <td>0.00000</td>\n      <td>0.00000</td>\n      <td>1.00000</td>\n      <td>0.00000</td>\n      <td>0.00000</td>\n      <td>255</td>\n      <td>77</td>\n      <td>0.30000</td>\n      <td>0.03000</td>\n      <td>0.30000</td>\n      <td>0.00000</td>\n      <td>0.00000</td>\n      <td>0.00000</td>\n      <td>0.00000</td>\n      <td>0.00000</td>\n      <td>0</td>\n      <td>1</td>\n      <td>0</td>\n      <td>0</td>\n      <td>0</td>\n      <td>0</td>\n      <td>0</td>\n      <td>0</td>\n      <td>0</td>\n      <td>0</td>\n      <td>0</td>\n      <td>0</td>\n      <td>0</td>\n      <td>0</td>\n      <td>0</td>\n      <td>0</td>\n      <td>0</td>\n      <td>0</td>\n      <td>0</td>\n      <td>0</td>\n      <td>0</td>\n      <td>0</td>\n      <td>1</td>\n      <td>0</td>\n      <td>0</td>\n      <td>0</td>\n      <td>0</td>\n      <td>0</td>\n      <td>0</td>\n      <td>0</td>\n      <td>0</td>\n      <td>0</td>\n      <td>0</td>\n      <td>0</td>\n      <td>0</td>\n      <td>0</td>\n      <td>0</td>\n      <td>0</td>\n      <td>0</td>\n      <td>0</td>\n      <td>0</td>\n      <td>0</td>\n      <td>0</td>\n      <td>0</td>\n      <td>0</td>\n      <td>0</td>\n      <td>0</td>\n      <td>0</td>\n      <td>0</td>\n      <td>0</td>\n      <td>0</td>\n      <td>0</td>\n      <td>0</td>\n      <td>0</td>\n      <td>0</td>\n      <td>0</td>\n      <td>0</td>\n      <td>0</td>\n      <td>0</td>\n      <td>0</td>\n      <td>0</td>\n      <td>0</td>\n      <td>0</td>\n      <td>0</td>\n      <td>0</td>\n      <td>0</td>\n      <td>0</td>\n      <td>0</td>\n      <td>0</td>\n      <td>0</td>\n      <td>0</td>\n      <td>0</td>\n      <td>0</td>\n      <td>0</td>\n      <td>1</td>\n      <td>0</td>\n    </tr>\n  </tbody>\n</table>\n<p>125793 rows × 114 columns</p>\n</div>"
          },
          "metadata": {},
          "execution_count": 12
        }
      ]
    },
    {
      "cell_type": "code",
      "metadata": {
        "colab": {
          "base_uri": "https://localhost:8080/"
        },
        "id": "VwRGMnyJOQkO",
        "outputId": "7d81b1b3-deee-4432-902e-0b6e4bf75dbf"
      },
      "source": [
        "edited_xtrain.max(numeric_only = True).sum()"
      ],
      "execution_count": 13,
      "outputs": [
        {
          "output_type": "execute_result",
          "data": {
            "text/plain": [
              "2689960916.0"
            ]
          },
          "metadata": {},
          "execution_count": 13
        }
      ]
    },
    {
      "cell_type": "code",
      "metadata": {
        "colab": {
          "base_uri": "https://localhost:8080/",
          "height": 422
        },
        "id": "yZQHvfzyOlci",
        "outputId": "9cd139c8-e279-45e4-b3a1-31c629de8831"
      },
      "source": [
        "edited_xtrain = 255 * edited_xtrain / edited_xtrain.max(numeric_only = True)\n",
        "\n",
        "edited_xtrain"
      ],
      "execution_count": 14,
      "outputs": [
        {
          "output_type": "execute_result",
          "data": {
            "text/plain": [
              "        duration  src_bytes  dst_bytes    land  wrong_fragment  urgent  \\\n",
              "0        0.00000    0.00009    0.00000 0.00000         0.00000 0.00000   \n",
              "1        0.00000    0.00003    0.00000 0.00000         0.00000 0.00000   \n",
              "2        0.00000    0.00000    0.00000 0.00000         0.00000 0.00000   \n",
              "3        0.00000    0.00004    0.00159 0.00000         0.00000 0.00000   \n",
              "4        0.00000    0.00004    0.00008 0.00000         0.00000 0.00000   \n",
              "...          ...        ...        ...     ...             ...     ...   \n",
              "125968   0.00000    0.00000    0.00000 0.00000         0.00000 0.00000   \n",
              "125969   0.04754    0.00002    0.00003 0.00000         0.00000 0.00000   \n",
              "125970   0.00000    0.00041    0.00007 0.00000         0.00000 0.00000   \n",
              "125971   0.00000    0.00000    0.00000 0.00000         0.00000 0.00000   \n",
              "125972   0.00000    0.00003    0.00000 0.00000         0.00000 0.00000   \n",
              "\n",
              "           hot  num_failed_logins  logged_in  num_compromised  root_shell  \\\n",
              "0      0.00000            0.00000    0.00000          0.00000     0.00000   \n",
              "1      0.00000            0.00000    0.00000          0.00000     0.00000   \n",
              "2      0.00000            0.00000    0.00000          0.00000     0.00000   \n",
              "3      0.00000            0.00000  255.00000          0.00000     0.00000   \n",
              "4      0.00000            0.00000  255.00000          0.00000     0.00000   \n",
              "...        ...                ...        ...              ...         ...   \n",
              "125968 0.00000            0.00000    0.00000          0.00000     0.00000   \n",
              "125969 0.00000            0.00000    0.00000          0.00000     0.00000   \n",
              "125970 0.00000            0.00000  255.00000          0.00000     0.00000   \n",
              "125971 0.00000            0.00000    0.00000          0.00000     0.00000   \n",
              "125972 0.00000            0.00000  255.00000          0.00000     0.00000   \n",
              "\n",
              "        su_attempted  num_root  num_file_creations  num_shells  \\\n",
              "0            0.00000   0.00000             0.00000     0.00000   \n",
              "1            0.00000   0.00000             0.00000     0.00000   \n",
              "2            0.00000   0.00000             0.00000     0.00000   \n",
              "3            0.00000   0.00000             0.00000     0.00000   \n",
              "4            0.00000   0.00000             0.00000     0.00000   \n",
              "...              ...       ...                 ...         ...   \n",
              "125968       0.00000   0.00000             0.00000     0.00000   \n",
              "125969       0.00000   0.00000             0.00000     0.00000   \n",
              "125970       0.00000   0.00000             0.00000     0.00000   \n",
              "125971       0.00000   0.00000             0.00000     0.00000   \n",
              "125972       0.00000   0.00000             0.00000     0.00000   \n",
              "\n",
              "        num_access_files  num_outbound_cmds  is_host_login  is_guest_login  \\\n",
              "0                0.00000                nan        0.00000         0.00000   \n",
              "1                0.00000                nan        0.00000         0.00000   \n",
              "2                0.00000                nan        0.00000         0.00000   \n",
              "3                0.00000                nan        0.00000         0.00000   \n",
              "4                0.00000                nan        0.00000         0.00000   \n",
              "...                  ...                ...            ...             ...   \n",
              "125968           0.00000                nan        0.00000         0.00000   \n",
              "125969           0.00000                nan        0.00000         0.00000   \n",
              "125970           0.00000                nan        0.00000         0.00000   \n",
              "125971           0.00000                nan        0.00000         0.00000   \n",
              "125972           0.00000                nan        0.00000         0.00000   \n",
              "\n",
              "          count  srv_count  serror_rate  srv_serror_rate  rerror_rate  \\\n",
              "0       0.99804    0.99804      0.00000          0.00000      0.00000   \n",
              "1       6.48728    0.49902      0.00000          0.00000      0.00000   \n",
              "2      61.37965    2.99413    255.00000        255.00000      0.00000   \n",
              "3       2.49511    2.49511     51.00000         51.00000      0.00000   \n",
              "4      14.97065   15.96869      0.00000          0.00000      0.00000   \n",
              "...         ...        ...          ...              ...          ...   \n",
              "125968 91.81996   12.47554    255.00000        255.00000      0.00000   \n",
              "125969  0.99804    0.99804      0.00000          0.00000      0.00000   \n",
              "125970  0.49902    0.49902      0.00000          0.00000      0.00000   \n",
              "125971 71.85910    3.99217    255.00000        255.00000      0.00000   \n",
              "125972  0.49902    0.49902      0.00000          0.00000      0.00000   \n",
              "\n",
              "        srv_rerror_rate  same_srv_rate  diff_srv_rate  srv_diff_host_rate  \\\n",
              "0               0.00000      255.00000        0.00000             0.00000   \n",
              "1               0.00000       20.40000       38.25000             0.00000   \n",
              "2               0.00000       12.75000       17.85000             0.00000   \n",
              "3               0.00000      255.00000        0.00000             0.00000   \n",
              "4               0.00000      255.00000        0.00000            22.95000   \n",
              "...                 ...            ...            ...                 ...   \n",
              "125968          0.00000       35.70000       15.30000             0.00000   \n",
              "125969          0.00000      255.00000        0.00000             0.00000   \n",
              "125970          0.00000      255.00000        0.00000             0.00000   \n",
              "125971          0.00000       15.30000       12.75000             0.00000   \n",
              "125972          0.00000      255.00000        0.00000             0.00000   \n",
              "\n",
              "        dst_host_count  dst_host_srv_count  dst_host_same_srv_rate  \\\n",
              "0            150.00000            25.00000                43.35000   \n",
              "1            255.00000             1.00000                 0.00000   \n",
              "2            255.00000            26.00000                25.50000   \n",
              "3             30.00000           255.00000               255.00000   \n",
              "4            255.00000           255.00000               255.00000   \n",
              "...                ...                 ...                     ...   \n",
              "125968       255.00000            25.00000                25.50000   \n",
              "125969       255.00000           244.00000               244.80000   \n",
              "125970       255.00000            30.00000                30.60000   \n",
              "125971       255.00000             8.00000                 7.65000   \n",
              "125972       255.00000            77.00000                76.50000   \n",
              "\n",
              "        dst_host_diff_srv_rate  dst_host_same_src_port_rate  \\\n",
              "0                      7.65000                     43.35000   \n",
              "1                    153.00000                    224.40000   \n",
              "2                     12.75000                      0.00000   \n",
              "3                      0.00000                      7.65000   \n",
              "4                      0.00000                      0.00000   \n",
              "...                        ...                          ...   \n",
              "125968                15.30000                      0.00000   \n",
              "125969                 2.55000                      2.55000   \n",
              "125970                15.30000                      0.00000   \n",
              "125971                12.75000                      0.00000   \n",
              "125972                 7.65000                     76.50000   \n",
              "\n",
              "        dst_host_srv_diff_host_rate  dst_host_serror_rate  \\\n",
              "0                           0.00000               0.00000   \n",
              "1                           0.00000               0.00000   \n",
              "2                           0.00000             255.00000   \n",
              "3                          10.20000               7.65000   \n",
              "4                           0.00000               0.00000   \n",
              "...                             ...                   ...   \n",
              "125968                      0.00000             255.00000   \n",
              "125969                      0.00000               0.00000   \n",
              "125970                      0.00000             183.60000   \n",
              "125971                      0.00000             255.00000   \n",
              "125972                      0.00000               0.00000   \n",
              "\n",
              "        dst_host_srv_serror_rate  dst_host_rerror_rate  \\\n",
              "0                        0.00000              12.75000   \n",
              "1                        0.00000               0.00000   \n",
              "2                      255.00000               0.00000   \n",
              "3                        2.55000               0.00000   \n",
              "4                        0.00000               0.00000   \n",
              "...                          ...                   ...   \n",
              "125968                 255.00000               0.00000   \n",
              "125969                   0.00000               0.00000   \n",
              "125970                   0.00000               2.55000   \n",
              "125971                 255.00000               0.00000   \n",
              "125972                   0.00000               0.00000   \n",
              "\n",
              "        dst_host_srv_rerror_rate    icmp       tcp       udp     IRC     X11  \\\n",
              "0                        0.00000 0.00000 255.00000   0.00000 0.00000 0.00000   \n",
              "1                        0.00000 0.00000   0.00000 255.00000 0.00000 0.00000   \n",
              "2                        0.00000 0.00000 255.00000   0.00000 0.00000 0.00000   \n",
              "3                        2.55000 0.00000 255.00000   0.00000 0.00000 0.00000   \n",
              "4                        0.00000 0.00000 255.00000   0.00000 0.00000 0.00000   \n",
              "...                          ...     ...       ...       ...     ...     ...   \n",
              "125968                   0.00000 0.00000 255.00000   0.00000 0.00000 0.00000   \n",
              "125969                   0.00000 0.00000   0.00000 255.00000 0.00000 0.00000   \n",
              "125970                   0.00000 0.00000 255.00000   0.00000 0.00000 0.00000   \n",
              "125971                   0.00000 0.00000 255.00000   0.00000 0.00000 0.00000   \n",
              "125972                   0.00000 0.00000 255.00000   0.00000 0.00000 0.00000   \n",
              "\n",
              "        Z39_50    auth     bgp  courier  csnet_ns     ctf  daytime  discard  \\\n",
              "0      0.00000 0.00000 0.00000  0.00000   0.00000 0.00000  0.00000  0.00000   \n",
              "1      0.00000 0.00000 0.00000  0.00000   0.00000 0.00000  0.00000  0.00000   \n",
              "2      0.00000 0.00000 0.00000  0.00000   0.00000 0.00000  0.00000  0.00000   \n",
              "3      0.00000 0.00000 0.00000  0.00000   0.00000 0.00000  0.00000  0.00000   \n",
              "4      0.00000 0.00000 0.00000  0.00000   0.00000 0.00000  0.00000  0.00000   \n",
              "...        ...     ...     ...      ...       ...     ...      ...      ...   \n",
              "125968 0.00000 0.00000 0.00000  0.00000   0.00000 0.00000  0.00000  0.00000   \n",
              "125969 0.00000 0.00000 0.00000  0.00000   0.00000 0.00000  0.00000  0.00000   \n",
              "125970 0.00000 0.00000 0.00000  0.00000   0.00000 0.00000  0.00000  0.00000   \n",
              "125971 0.00000 0.00000 0.00000  0.00000   0.00000 0.00000  0.00000  0.00000   \n",
              "125972 0.00000 0.00000 0.00000  0.00000   0.00000 0.00000  0.00000  0.00000   \n",
              "\n",
              "        domain  domain_u    echo   eco_i   ecr_i     efs    exec  finger  \\\n",
              "0      0.00000   0.00000 0.00000 0.00000 0.00000 0.00000 0.00000 0.00000   \n",
              "1      0.00000   0.00000 0.00000 0.00000 0.00000 0.00000 0.00000 0.00000   \n",
              "2      0.00000   0.00000 0.00000 0.00000 0.00000 0.00000 0.00000 0.00000   \n",
              "3      0.00000   0.00000 0.00000 0.00000 0.00000 0.00000 0.00000 0.00000   \n",
              "4      0.00000   0.00000 0.00000 0.00000 0.00000 0.00000 0.00000 0.00000   \n",
              "...        ...       ...     ...     ...     ...     ...     ...     ...   \n",
              "125968 0.00000   0.00000 0.00000 0.00000 0.00000 0.00000 0.00000 0.00000   \n",
              "125969 0.00000   0.00000 0.00000 0.00000 0.00000 0.00000 0.00000 0.00000   \n",
              "125970 0.00000   0.00000 0.00000 0.00000 0.00000 0.00000 0.00000 0.00000   \n",
              "125971 0.00000   0.00000 0.00000 0.00000 0.00000 0.00000 0.00000 0.00000   \n",
              "125972 0.00000   0.00000 0.00000 0.00000 0.00000 0.00000 0.00000 0.00000   \n",
              "\n",
              "           ftp  ftp_data  gopher  hostnames      http  http_443   imap4  \\\n",
              "0      0.00000 255.00000 0.00000    0.00000   0.00000   0.00000 0.00000   \n",
              "1      0.00000   0.00000 0.00000    0.00000   0.00000   0.00000 0.00000   \n",
              "2      0.00000   0.00000 0.00000    0.00000   0.00000   0.00000 0.00000   \n",
              "3      0.00000   0.00000 0.00000    0.00000 255.00000   0.00000 0.00000   \n",
              "4      0.00000   0.00000 0.00000    0.00000 255.00000   0.00000 0.00000   \n",
              "...        ...       ...     ...        ...       ...       ...     ...   \n",
              "125968 0.00000   0.00000 0.00000    0.00000   0.00000   0.00000 0.00000   \n",
              "125969 0.00000   0.00000 0.00000    0.00000   0.00000   0.00000 0.00000   \n",
              "125970 0.00000   0.00000 0.00000    0.00000   0.00000   0.00000 0.00000   \n",
              "125971 0.00000   0.00000 0.00000    0.00000   0.00000   0.00000 0.00000   \n",
              "125972 0.00000 255.00000 0.00000    0.00000   0.00000   0.00000 0.00000   \n",
              "\n",
              "        iso_tsap    klogin  kshell    ldap    link   login     mtp    name  \\\n",
              "0        0.00000   0.00000 0.00000 0.00000 0.00000 0.00000 0.00000 0.00000   \n",
              "1        0.00000   0.00000 0.00000 0.00000 0.00000 0.00000 0.00000 0.00000   \n",
              "2        0.00000   0.00000 0.00000 0.00000 0.00000 0.00000 0.00000 0.00000   \n",
              "3        0.00000   0.00000 0.00000 0.00000 0.00000 0.00000 0.00000 0.00000   \n",
              "4        0.00000   0.00000 0.00000 0.00000 0.00000 0.00000 0.00000 0.00000   \n",
              "...          ...       ...     ...     ...     ...     ...     ...     ...   \n",
              "125968   0.00000   0.00000 0.00000 0.00000 0.00000 0.00000 0.00000 0.00000   \n",
              "125969   0.00000   0.00000 0.00000 0.00000 0.00000 0.00000 0.00000 0.00000   \n",
              "125970   0.00000   0.00000 0.00000 0.00000 0.00000 0.00000 0.00000 0.00000   \n",
              "125971   0.00000 255.00000 0.00000 0.00000 0.00000 0.00000 0.00000 0.00000   \n",
              "125972   0.00000   0.00000 0.00000 0.00000 0.00000 0.00000 0.00000 0.00000   \n",
              "\n",
              "        netbios_dgm  netbios_ns  netbios_ssn  netstat    nnsp    nntp   ntp_u  \\\n",
              "0           0.00000     0.00000      0.00000  0.00000 0.00000 0.00000 0.00000   \n",
              "1           0.00000     0.00000      0.00000  0.00000 0.00000 0.00000 0.00000   \n",
              "2           0.00000     0.00000      0.00000  0.00000 0.00000 0.00000 0.00000   \n",
              "3           0.00000     0.00000      0.00000  0.00000 0.00000 0.00000 0.00000   \n",
              "4           0.00000     0.00000      0.00000  0.00000 0.00000 0.00000 0.00000   \n",
              "...             ...         ...          ...      ...     ...     ...     ...   \n",
              "125968      0.00000     0.00000      0.00000  0.00000 0.00000 0.00000 0.00000   \n",
              "125969      0.00000     0.00000      0.00000  0.00000 0.00000 0.00000 0.00000   \n",
              "125970      0.00000     0.00000      0.00000  0.00000 0.00000 0.00000 0.00000   \n",
              "125971      0.00000     0.00000      0.00000  0.00000 0.00000 0.00000 0.00000   \n",
              "125972      0.00000     0.00000      0.00000  0.00000 0.00000 0.00000 0.00000   \n",
              "\n",
              "           other  pm_dump   pop_2   pop_3   private  remote_job   shell  \\\n",
              "0        0.00000  0.00000 0.00000 0.00000   0.00000     0.00000 0.00000   \n",
              "1      255.00000  0.00000 0.00000 0.00000   0.00000     0.00000 0.00000   \n",
              "2        0.00000  0.00000 0.00000 0.00000 255.00000     0.00000 0.00000   \n",
              "3        0.00000  0.00000 0.00000 0.00000   0.00000     0.00000 0.00000   \n",
              "4        0.00000  0.00000 0.00000 0.00000   0.00000     0.00000 0.00000   \n",
              "...          ...      ...     ...     ...       ...         ...     ...   \n",
              "125968   0.00000  0.00000 0.00000 0.00000 255.00000     0.00000 0.00000   \n",
              "125969   0.00000  0.00000 0.00000 0.00000 255.00000     0.00000 0.00000   \n",
              "125970   0.00000  0.00000 0.00000 0.00000   0.00000     0.00000 0.00000   \n",
              "125971   0.00000  0.00000 0.00000 0.00000   0.00000     0.00000 0.00000   \n",
              "125972   0.00000  0.00000 0.00000 0.00000   0.00000     0.00000 0.00000   \n",
              "\n",
              "            smtp  sql_net     ssh  sunrpc  supdup  systat  telnet  tftp_u  \\\n",
              "0        0.00000  0.00000 0.00000 0.00000 0.00000 0.00000 0.00000 0.00000   \n",
              "1        0.00000  0.00000 0.00000 0.00000 0.00000 0.00000 0.00000 0.00000   \n",
              "2        0.00000  0.00000 0.00000 0.00000 0.00000 0.00000 0.00000 0.00000   \n",
              "3        0.00000  0.00000 0.00000 0.00000 0.00000 0.00000 0.00000 0.00000   \n",
              "4        0.00000  0.00000 0.00000 0.00000 0.00000 0.00000 0.00000 0.00000   \n",
              "...          ...      ...     ...     ...     ...     ...     ...     ...   \n",
              "125968   0.00000  0.00000 0.00000 0.00000 0.00000 0.00000 0.00000 0.00000   \n",
              "125969   0.00000  0.00000 0.00000 0.00000 0.00000 0.00000 0.00000 0.00000   \n",
              "125970 255.00000  0.00000 0.00000 0.00000 0.00000 0.00000 0.00000 0.00000   \n",
              "125971   0.00000  0.00000 0.00000 0.00000 0.00000 0.00000 0.00000 0.00000   \n",
              "125972   0.00000  0.00000 0.00000 0.00000 0.00000 0.00000 0.00000 0.00000   \n",
              "\n",
              "         tim_i    time   urp_i    uucp  uucp_path   vmnet   whois     OTH  \\\n",
              "0      0.00000 0.00000 0.00000 0.00000    0.00000 0.00000 0.00000 0.00000   \n",
              "1      0.00000 0.00000 0.00000 0.00000    0.00000 0.00000 0.00000 0.00000   \n",
              "2      0.00000 0.00000 0.00000 0.00000    0.00000 0.00000 0.00000 0.00000   \n",
              "3      0.00000 0.00000 0.00000 0.00000    0.00000 0.00000 0.00000 0.00000   \n",
              "4      0.00000 0.00000 0.00000 0.00000    0.00000 0.00000 0.00000 0.00000   \n",
              "...        ...     ...     ...     ...        ...     ...     ...     ...   \n",
              "125968 0.00000 0.00000 0.00000 0.00000    0.00000 0.00000 0.00000 0.00000   \n",
              "125969 0.00000 0.00000 0.00000 0.00000    0.00000 0.00000 0.00000 0.00000   \n",
              "125970 0.00000 0.00000 0.00000 0.00000    0.00000 0.00000 0.00000 0.00000   \n",
              "125971 0.00000 0.00000 0.00000 0.00000    0.00000 0.00000 0.00000 0.00000   \n",
              "125972 0.00000 0.00000 0.00000 0.00000    0.00000 0.00000 0.00000 0.00000   \n",
              "\n",
              "           REJ    RSTO  RSTOS0    RSTR        S0      S1      S2      S3  \\\n",
              "0      0.00000 0.00000 0.00000 0.00000   0.00000 0.00000 0.00000 0.00000   \n",
              "1      0.00000 0.00000 0.00000 0.00000   0.00000 0.00000 0.00000 0.00000   \n",
              "2      0.00000 0.00000 0.00000 0.00000 255.00000 0.00000 0.00000 0.00000   \n",
              "3      0.00000 0.00000 0.00000 0.00000   0.00000 0.00000 0.00000 0.00000   \n",
              "4      0.00000 0.00000 0.00000 0.00000   0.00000 0.00000 0.00000 0.00000   \n",
              "...        ...     ...     ...     ...       ...     ...     ...     ...   \n",
              "125968 0.00000 0.00000 0.00000 0.00000 255.00000 0.00000 0.00000 0.00000   \n",
              "125969 0.00000 0.00000 0.00000 0.00000   0.00000 0.00000 0.00000 0.00000   \n",
              "125970 0.00000 0.00000 0.00000 0.00000   0.00000 0.00000 0.00000 0.00000   \n",
              "125971 0.00000 0.00000 0.00000 0.00000 255.00000 0.00000 0.00000 0.00000   \n",
              "125972 0.00000 0.00000 0.00000 0.00000   0.00000 0.00000 0.00000 0.00000   \n",
              "\n",
              "              SF      SH  \n",
              "0      255.00000 0.00000  \n",
              "1      255.00000 0.00000  \n",
              "2        0.00000 0.00000  \n",
              "3      255.00000 0.00000  \n",
              "4      255.00000 0.00000  \n",
              "...          ...     ...  \n",
              "125968   0.00000 0.00000  \n",
              "125969 255.00000 0.00000  \n",
              "125970 255.00000 0.00000  \n",
              "125971   0.00000 0.00000  \n",
              "125972 255.00000 0.00000  \n",
              "\n",
              "[125793 rows x 114 columns]"
            ],
            "text/html": "<div>\n<style scoped>\n    .dataframe tbody tr th:only-of-type {\n        vertical-align: middle;\n    }\n\n    .dataframe tbody tr th {\n        vertical-align: top;\n    }\n\n    .dataframe thead th {\n        text-align: right;\n    }\n</style>\n<table border=\"1\" class=\"dataframe\">\n  <thead>\n    <tr style=\"text-align: right;\">\n      <th></th>\n      <th>duration</th>\n      <th>src_bytes</th>\n      <th>dst_bytes</th>\n      <th>land</th>\n      <th>wrong_fragment</th>\n      <th>urgent</th>\n      <th>hot</th>\n      <th>num_failed_logins</th>\n      <th>logged_in</th>\n      <th>num_compromised</th>\n      <th>root_shell</th>\n      <th>su_attempted</th>\n      <th>num_root</th>\n      <th>num_file_creations</th>\n      <th>num_shells</th>\n      <th>num_access_files</th>\n      <th>num_outbound_cmds</th>\n      <th>is_host_login</th>\n      <th>is_guest_login</th>\n      <th>count</th>\n      <th>srv_count</th>\n      <th>serror_rate</th>\n      <th>srv_serror_rate</th>\n      <th>rerror_rate</th>\n      <th>srv_rerror_rate</th>\n      <th>same_srv_rate</th>\n      <th>diff_srv_rate</th>\n      <th>srv_diff_host_rate</th>\n      <th>dst_host_count</th>\n      <th>dst_host_srv_count</th>\n      <th>dst_host_same_srv_rate</th>\n      <th>dst_host_diff_srv_rate</th>\n      <th>dst_host_same_src_port_rate</th>\n      <th>dst_host_srv_diff_host_rate</th>\n      <th>dst_host_serror_rate</th>\n      <th>dst_host_srv_serror_rate</th>\n      <th>dst_host_rerror_rate</th>\n      <th>dst_host_srv_rerror_rate</th>\n      <th>icmp</th>\n      <th>tcp</th>\n      <th>udp</th>\n      <th>IRC</th>\n      <th>X11</th>\n      <th>Z39_50</th>\n      <th>auth</th>\n      <th>bgp</th>\n      <th>courier</th>\n      <th>csnet_ns</th>\n      <th>ctf</th>\n      <th>daytime</th>\n      <th>discard</th>\n      <th>domain</th>\n      <th>domain_u</th>\n      <th>echo</th>\n      <th>eco_i</th>\n      <th>ecr_i</th>\n      <th>efs</th>\n      <th>exec</th>\n      <th>finger</th>\n      <th>ftp</th>\n      <th>ftp_data</th>\n      <th>gopher</th>\n      <th>hostnames</th>\n      <th>http</th>\n      <th>http_443</th>\n      <th>imap4</th>\n      <th>iso_tsap</th>\n      <th>klogin</th>\n      <th>kshell</th>\n      <th>ldap</th>\n      <th>link</th>\n      <th>login</th>\n      <th>mtp</th>\n      <th>name</th>\n      <th>netbios_dgm</th>\n      <th>netbios_ns</th>\n      <th>netbios_ssn</th>\n      <th>netstat</th>\n      <th>nnsp</th>\n      <th>nntp</th>\n      <th>ntp_u</th>\n      <th>other</th>\n      <th>pm_dump</th>\n      <th>pop_2</th>\n      <th>pop_3</th>\n      <th>private</th>\n      <th>remote_job</th>\n      <th>shell</th>\n      <th>smtp</th>\n      <th>sql_net</th>\n      <th>ssh</th>\n      <th>sunrpc</th>\n      <th>supdup</th>\n      <th>systat</th>\n      <th>telnet</th>\n      <th>tftp_u</th>\n      <th>tim_i</th>\n      <th>time</th>\n      <th>urp_i</th>\n      <th>uucp</th>\n      <th>uucp_path</th>\n      <th>vmnet</th>\n      <th>whois</th>\n      <th>OTH</th>\n      <th>REJ</th>\n      <th>RSTO</th>\n      <th>RSTOS0</th>\n      <th>RSTR</th>\n      <th>S0</th>\n      <th>S1</th>\n      <th>S2</th>\n      <th>S3</th>\n      <th>SF</th>\n      <th>SH</th>\n    </tr>\n  </thead>\n  <tbody>\n    <tr>\n      <th>0</th>\n      <td>0.00000</td>\n      <td>0.00009</td>\n      <td>0.00000</td>\n      <td>0.00000</td>\n      <td>0.00000</td>\n      <td>0.00000</td>\n      <td>0.00000</td>\n      <td>0.00000</td>\n      <td>0.00000</td>\n      <td>0.00000</td>\n      <td>0.00000</td>\n      <td>0.00000</td>\n      <td>0.00000</td>\n      <td>0.00000</td>\n      <td>0.00000</td>\n      <td>0.00000</td>\n      <td>nan</td>\n      <td>0.00000</td>\n      <td>0.00000</td>\n      <td>0.99804</td>\n      <td>0.99804</td>\n      <td>0.00000</td>\n      <td>0.00000</td>\n      <td>0.00000</td>\n      <td>0.00000</td>\n      <td>255.00000</td>\n      <td>0.00000</td>\n      <td>0.00000</td>\n      <td>150.00000</td>\n      <td>25.00000</td>\n      <td>43.35000</td>\n      <td>7.65000</td>\n      <td>43.35000</td>\n      <td>0.00000</td>\n      <td>0.00000</td>\n      <td>0.00000</td>\n      <td>12.75000</td>\n      <td>0.00000</td>\n      <td>0.00000</td>\n      <td>255.00000</td>\n      <td>0.00000</td>\n      <td>0.00000</td>\n      <td>0.00000</td>\n      <td>0.00000</td>\n      <td>0.00000</td>\n      <td>0.00000</td>\n      <td>0.00000</td>\n      <td>0.00000</td>\n      <td>0.00000</td>\n      <td>0.00000</td>\n      <td>0.00000</td>\n      <td>0.00000</td>\n      <td>0.00000</td>\n      <td>0.00000</td>\n      <td>0.00000</td>\n      <td>0.00000</td>\n      <td>0.00000</td>\n      <td>0.00000</td>\n      <td>0.00000</td>\n      <td>0.00000</td>\n      <td>255.00000</td>\n      <td>0.00000</td>\n      <td>0.00000</td>\n      <td>0.00000</td>\n      <td>0.00000</td>\n      <td>0.00000</td>\n      <td>0.00000</td>\n      <td>0.00000</td>\n      <td>0.00000</td>\n      <td>0.00000</td>\n      <td>0.00000</td>\n      <td>0.00000</td>\n      <td>0.00000</td>\n      <td>0.00000</td>\n      <td>0.00000</td>\n      <td>0.00000</td>\n      <td>0.00000</td>\n      <td>0.00000</td>\n      <td>0.00000</td>\n      <td>0.00000</td>\n      <td>0.00000</td>\n      <td>0.00000</td>\n      <td>0.00000</td>\n      <td>0.00000</td>\n      <td>0.00000</td>\n      <td>0.00000</td>\n      <td>0.00000</td>\n      <td>0.00000</td>\n      <td>0.00000</td>\n      <td>0.00000</td>\n      <td>0.00000</td>\n      <td>0.00000</td>\n      <td>0.00000</td>\n      <td>0.00000</td>\n      <td>0.00000</td>\n      <td>0.00000</td>\n      <td>0.00000</td>\n      <td>0.00000</td>\n      <td>0.00000</td>\n      <td>0.00000</td>\n      <td>0.00000</td>\n      <td>0.00000</td>\n      <td>0.00000</td>\n      <td>0.00000</td>\n      <td>0.00000</td>\n      <td>0.00000</td>\n      <td>0.00000</td>\n      <td>0.00000</td>\n      <td>0.00000</td>\n      <td>0.00000</td>\n      <td>0.00000</td>\n      <td>0.00000</td>\n      <td>255.00000</td>\n      <td>0.00000</td>\n    </tr>\n    <tr>\n      <th>1</th>\n      <td>0.00000</td>\n      <td>0.00003</td>\n      <td>0.00000</td>\n      <td>0.00000</td>\n      <td>0.00000</td>\n      <td>0.00000</td>\n      <td>0.00000</td>\n      <td>0.00000</td>\n      <td>0.00000</td>\n      <td>0.00000</td>\n      <td>0.00000</td>\n      <td>0.00000</td>\n      <td>0.00000</td>\n      <td>0.00000</td>\n      <td>0.00000</td>\n      <td>0.00000</td>\n      <td>nan</td>\n      <td>0.00000</td>\n      <td>0.00000</td>\n      <td>6.48728</td>\n      <td>0.49902</td>\n      <td>0.00000</td>\n      <td>0.00000</td>\n      <td>0.00000</td>\n      <td>0.00000</td>\n      <td>20.40000</td>\n      <td>38.25000</td>\n      <td>0.00000</td>\n      <td>255.00000</td>\n      <td>1.00000</td>\n      <td>0.00000</td>\n      <td>153.00000</td>\n      <td>224.40000</td>\n      <td>0.00000</td>\n      <td>0.00000</td>\n      <td>0.00000</td>\n      <td>0.00000</td>\n      <td>0.00000</td>\n      <td>0.00000</td>\n      <td>0.00000</td>\n      <td>255.00000</td>\n      <td>0.00000</td>\n      <td>0.00000</td>\n      <td>0.00000</td>\n      <td>0.00000</td>\n      <td>0.00000</td>\n      <td>0.00000</td>\n      <td>0.00000</td>\n      <td>0.00000</td>\n      <td>0.00000</td>\n      <td>0.00000</td>\n      <td>0.00000</td>\n      <td>0.00000</td>\n      <td>0.00000</td>\n      <td>0.00000</td>\n      <td>0.00000</td>\n      <td>0.00000</td>\n      <td>0.00000</td>\n      <td>0.00000</td>\n      <td>0.00000</td>\n      <td>0.00000</td>\n      <td>0.00000</td>\n      <td>0.00000</td>\n      <td>0.00000</td>\n      <td>0.00000</td>\n      <td>0.00000</td>\n      <td>0.00000</td>\n      <td>0.00000</td>\n      <td>0.00000</td>\n      <td>0.00000</td>\n      <td>0.00000</td>\n      <td>0.00000</td>\n      <td>0.00000</td>\n      <td>0.00000</td>\n      <td>0.00000</td>\n      <td>0.00000</td>\n      <td>0.00000</td>\n      <td>0.00000</td>\n      <td>0.00000</td>\n      <td>0.00000</td>\n      <td>0.00000</td>\n      <td>255.00000</td>\n      <td>0.00000</td>\n      <td>0.00000</td>\n      <td>0.00000</td>\n      <td>0.00000</td>\n      <td>0.00000</td>\n      <td>0.00000</td>\n      <td>0.00000</td>\n      <td>0.00000</td>\n      <td>0.00000</td>\n      <td>0.00000</td>\n      <td>0.00000</td>\n      <td>0.00000</td>\n      <td>0.00000</td>\n      <td>0.00000</td>\n      <td>0.00000</td>\n      <td>0.00000</td>\n      <td>0.00000</td>\n      <td>0.00000</td>\n      <td>0.00000</td>\n      <td>0.00000</td>\n      <td>0.00000</td>\n      <td>0.00000</td>\n      <td>0.00000</td>\n      <td>0.00000</td>\n      <td>0.00000</td>\n      <td>0.00000</td>\n      <td>0.00000</td>\n      <td>0.00000</td>\n      <td>0.00000</td>\n      <td>0.00000</td>\n      <td>255.00000</td>\n      <td>0.00000</td>\n    </tr>\n    <tr>\n      <th>2</th>\n      <td>0.00000</td>\n      <td>0.00000</td>\n      <td>0.00000</td>\n      <td>0.00000</td>\n      <td>0.00000</td>\n      <td>0.00000</td>\n      <td>0.00000</td>\n      <td>0.00000</td>\n      <td>0.00000</td>\n      <td>0.00000</td>\n      <td>0.00000</td>\n      <td>0.00000</td>\n      <td>0.00000</td>\n      <td>0.00000</td>\n      <td>0.00000</td>\n      <td>0.00000</td>\n      <td>nan</td>\n      <td>0.00000</td>\n      <td>0.00000</td>\n      <td>61.37965</td>\n      <td>2.99413</td>\n      <td>255.00000</td>\n      <td>255.00000</td>\n      <td>0.00000</td>\n      <td>0.00000</td>\n      <td>12.75000</td>\n      <td>17.85000</td>\n      <td>0.00000</td>\n      <td>255.00000</td>\n      <td>26.00000</td>\n      <td>25.50000</td>\n      <td>12.75000</td>\n      <td>0.00000</td>\n      <td>0.00000</td>\n      <td>255.00000</td>\n      <td>255.00000</td>\n      <td>0.00000</td>\n      <td>0.00000</td>\n      <td>0.00000</td>\n      <td>255.00000</td>\n      <td>0.00000</td>\n      <td>0.00000</td>\n      <td>0.00000</td>\n      <td>0.00000</td>\n      <td>0.00000</td>\n      <td>0.00000</td>\n      <td>0.00000</td>\n      <td>0.00000</td>\n      <td>0.00000</td>\n      <td>0.00000</td>\n      <td>0.00000</td>\n      <td>0.00000</td>\n      <td>0.00000</td>\n      <td>0.00000</td>\n      <td>0.00000</td>\n      <td>0.00000</td>\n      <td>0.00000</td>\n      <td>0.00000</td>\n      <td>0.00000</td>\n      <td>0.00000</td>\n      <td>0.00000</td>\n      <td>0.00000</td>\n      <td>0.00000</td>\n      <td>0.00000</td>\n      <td>0.00000</td>\n      <td>0.00000</td>\n      <td>0.00000</td>\n      <td>0.00000</td>\n      <td>0.00000</td>\n      <td>0.00000</td>\n      <td>0.00000</td>\n      <td>0.00000</td>\n      <td>0.00000</td>\n      <td>0.00000</td>\n      <td>0.00000</td>\n      <td>0.00000</td>\n      <td>0.00000</td>\n      <td>0.00000</td>\n      <td>0.00000</td>\n      <td>0.00000</td>\n      <td>0.00000</td>\n      <td>0.00000</td>\n      <td>0.00000</td>\n      <td>0.00000</td>\n      <td>0.00000</td>\n      <td>255.00000</td>\n      <td>0.00000</td>\n      <td>0.00000</td>\n      <td>0.00000</td>\n      <td>0.00000</td>\n      <td>0.00000</td>\n      <td>0.00000</td>\n      <td>0.00000</td>\n      <td>0.00000</td>\n      <td>0.00000</td>\n      <td>0.00000</td>\n      <td>0.00000</td>\n      <td>0.00000</td>\n      <td>0.00000</td>\n      <td>0.00000</td>\n      <td>0.00000</td>\n      <td>0.00000</td>\n      <td>0.00000</td>\n      <td>0.00000</td>\n      <td>0.00000</td>\n      <td>0.00000</td>\n      <td>0.00000</td>\n      <td>0.00000</td>\n      <td>255.00000</td>\n      <td>0.00000</td>\n      <td>0.00000</td>\n      <td>0.00000</td>\n      <td>0.00000</td>\n      <td>0.00000</td>\n    </tr>\n    <tr>\n      <th>3</th>\n      <td>0.00000</td>\n      <td>0.00004</td>\n      <td>0.00159</td>\n      <td>0.00000</td>\n      <td>0.00000</td>\n      <td>0.00000</td>\n      <td>0.00000</td>\n      <td>0.00000</td>\n      <td>255.00000</td>\n      <td>0.00000</td>\n      <td>0.00000</td>\n      <td>0.00000</td>\n      <td>0.00000</td>\n      <td>0.00000</td>\n      <td>0.00000</td>\n      <td>0.00000</td>\n      <td>nan</td>\n      <td>0.00000</td>\n      <td>0.00000</td>\n      <td>2.49511</td>\n      <td>2.49511</td>\n      <td>51.00000</td>\n      <td>51.00000</td>\n      <td>0.00000</td>\n      <td>0.00000</td>\n      <td>255.00000</td>\n      <td>0.00000</td>\n      <td>0.00000</td>\n      <td>30.00000</td>\n      <td>255.00000</td>\n      <td>255.00000</td>\n      <td>0.00000</td>\n      <td>7.65000</td>\n      <td>10.20000</td>\n      <td>7.65000</td>\n      <td>2.55000</td>\n      <td>0.00000</td>\n      <td>2.55000</td>\n      <td>0.00000</td>\n      <td>255.00000</td>\n      <td>0.00000</td>\n      <td>0.00000</td>\n      <td>0.00000</td>\n      <td>0.00000</td>\n      <td>0.00000</td>\n      <td>0.00000</td>\n      <td>0.00000</td>\n      <td>0.00000</td>\n      <td>0.00000</td>\n      <td>0.00000</td>\n      <td>0.00000</td>\n      <td>0.00000</td>\n      <td>0.00000</td>\n      <td>0.00000</td>\n      <td>0.00000</td>\n      <td>0.00000</td>\n      <td>0.00000</td>\n      <td>0.00000</td>\n      <td>0.00000</td>\n      <td>0.00000</td>\n      <td>0.00000</td>\n      <td>0.00000</td>\n      <td>0.00000</td>\n      <td>255.00000</td>\n      <td>0.00000</td>\n      <td>0.00000</td>\n      <td>0.00000</td>\n      <td>0.00000</td>\n      <td>0.00000</td>\n      <td>0.00000</td>\n      <td>0.00000</td>\n      <td>0.00000</td>\n      <td>0.00000</td>\n      <td>0.00000</td>\n      <td>0.00000</td>\n      <td>0.00000</td>\n      <td>0.00000</td>\n      <td>0.00000</td>\n      <td>0.00000</td>\n      <td>0.00000</td>\n      <td>0.00000</td>\n      <td>0.00000</td>\n      <td>0.00000</td>\n      <td>0.00000</td>\n      <td>0.00000</td>\n      <td>0.00000</td>\n      <td>0.00000</td>\n      <td>0.00000</td>\n      <td>0.00000</td>\n      <td>0.00000</td>\n      <td>0.00000</td>\n      <td>0.00000</td>\n      <td>0.00000</td>\n      <td>0.00000</td>\n      <td>0.00000</td>\n      <td>0.00000</td>\n      <td>0.00000</td>\n      <td>0.00000</td>\n      <td>0.00000</td>\n      <td>0.00000</td>\n      <td>0.00000</td>\n      <td>0.00000</td>\n      <td>0.00000</td>\n      <td>0.00000</td>\n      <td>0.00000</td>\n      <td>0.00000</td>\n      <td>0.00000</td>\n      <td>0.00000</td>\n      <td>0.00000</td>\n      <td>0.00000</td>\n      <td>0.00000</td>\n      <td>0.00000</td>\n      <td>255.00000</td>\n      <td>0.00000</td>\n    </tr>\n    <tr>\n      <th>4</th>\n      <td>0.00000</td>\n      <td>0.00004</td>\n      <td>0.00008</td>\n      <td>0.00000</td>\n      <td>0.00000</td>\n      <td>0.00000</td>\n      <td>0.00000</td>\n      <td>0.00000</td>\n      <td>255.00000</td>\n      <td>0.00000</td>\n      <td>0.00000</td>\n      <td>0.00000</td>\n      <td>0.00000</td>\n      <td>0.00000</td>\n      <td>0.00000</td>\n      <td>0.00000</td>\n      <td>nan</td>\n      <td>0.00000</td>\n      <td>0.00000</td>\n      <td>14.97065</td>\n      <td>15.96869</td>\n      <td>0.00000</td>\n      <td>0.00000</td>\n      <td>0.00000</td>\n      <td>0.00000</td>\n      <td>255.00000</td>\n      <td>0.00000</td>\n      <td>22.95000</td>\n      <td>255.00000</td>\n      <td>255.00000</td>\n      <td>255.00000</td>\n      <td>0.00000</td>\n      <td>0.00000</td>\n      <td>0.00000</td>\n      <td>0.00000</td>\n      <td>0.00000</td>\n      <td>0.00000</td>\n      <td>0.00000</td>\n      <td>0.00000</td>\n      <td>255.00000</td>\n      <td>0.00000</td>\n      <td>0.00000</td>\n      <td>0.00000</td>\n      <td>0.00000</td>\n      <td>0.00000</td>\n      <td>0.00000</td>\n      <td>0.00000</td>\n      <td>0.00000</td>\n      <td>0.00000</td>\n      <td>0.00000</td>\n      <td>0.00000</td>\n      <td>0.00000</td>\n      <td>0.00000</td>\n      <td>0.00000</td>\n      <td>0.00000</td>\n      <td>0.00000</td>\n      <td>0.00000</td>\n      <td>0.00000</td>\n      <td>0.00000</td>\n      <td>0.00000</td>\n      <td>0.00000</td>\n      <td>0.00000</td>\n      <td>0.00000</td>\n      <td>255.00000</td>\n      <td>0.00000</td>\n      <td>0.00000</td>\n      <td>0.00000</td>\n      <td>0.00000</td>\n      <td>0.00000</td>\n      <td>0.00000</td>\n      <td>0.00000</td>\n      <td>0.00000</td>\n      <td>0.00000</td>\n      <td>0.00000</td>\n      <td>0.00000</td>\n      <td>0.00000</td>\n      <td>0.00000</td>\n      <td>0.00000</td>\n      <td>0.00000</td>\n      <td>0.00000</td>\n      <td>0.00000</td>\n      <td>0.00000</td>\n      <td>0.00000</td>\n      <td>0.00000</td>\n      <td>0.00000</td>\n      <td>0.00000</td>\n      <td>0.00000</td>\n      <td>0.00000</td>\n      <td>0.00000</td>\n      <td>0.00000</td>\n      <td>0.00000</td>\n      <td>0.00000</td>\n      <td>0.00000</td>\n      <td>0.00000</td>\n      <td>0.00000</td>\n      <td>0.00000</td>\n      <td>0.00000</td>\n      <td>0.00000</td>\n      <td>0.00000</td>\n      <td>0.00000</td>\n      <td>0.00000</td>\n      <td>0.00000</td>\n      <td>0.00000</td>\n      <td>0.00000</td>\n      <td>0.00000</td>\n      <td>0.00000</td>\n      <td>0.00000</td>\n      <td>0.00000</td>\n      <td>0.00000</td>\n      <td>0.00000</td>\n      <td>0.00000</td>\n      <td>0.00000</td>\n      <td>255.00000</td>\n      <td>0.00000</td>\n    </tr>\n    <tr>\n      <th>...</th>\n      <td>...</td>\n      <td>...</td>\n      <td>...</td>\n      <td>...</td>\n      <td>...</td>\n      <td>...</td>\n      <td>...</td>\n      <td>...</td>\n      <td>...</td>\n      <td>...</td>\n      <td>...</td>\n      <td>...</td>\n      <td>...</td>\n      <td>...</td>\n      <td>...</td>\n      <td>...</td>\n      <td>...</td>\n      <td>...</td>\n      <td>...</td>\n      <td>...</td>\n      <td>...</td>\n      <td>...</td>\n      <td>...</td>\n      <td>...</td>\n      <td>...</td>\n      <td>...</td>\n      <td>...</td>\n      <td>...</td>\n      <td>...</td>\n      <td>...</td>\n      <td>...</td>\n      <td>...</td>\n      <td>...</td>\n      <td>...</td>\n      <td>...</td>\n      <td>...</td>\n      <td>...</td>\n      <td>...</td>\n      <td>...</td>\n      <td>...</td>\n      <td>...</td>\n      <td>...</td>\n      <td>...</td>\n      <td>...</td>\n      <td>...</td>\n      <td>...</td>\n      <td>...</td>\n      <td>...</td>\n      <td>...</td>\n      <td>...</td>\n      <td>...</td>\n      <td>...</td>\n      <td>...</td>\n      <td>...</td>\n      <td>...</td>\n      <td>...</td>\n      <td>...</td>\n      <td>...</td>\n      <td>...</td>\n      <td>...</td>\n      <td>...</td>\n      <td>...</td>\n      <td>...</td>\n      <td>...</td>\n      <td>...</td>\n      <td>...</td>\n      <td>...</td>\n      <td>...</td>\n      <td>...</td>\n      <td>...</td>\n      <td>...</td>\n      <td>...</td>\n      <td>...</td>\n      <td>...</td>\n      <td>...</td>\n      <td>...</td>\n      <td>...</td>\n      <td>...</td>\n      <td>...</td>\n      <td>...</td>\n      <td>...</td>\n      <td>...</td>\n      <td>...</td>\n      <td>...</td>\n      <td>...</td>\n      <td>...</td>\n      <td>...</td>\n      <td>...</td>\n      <td>...</td>\n      <td>...</td>\n      <td>...</td>\n      <td>...</td>\n      <td>...</td>\n      <td>...</td>\n      <td>...</td>\n      <td>...</td>\n      <td>...</td>\n      <td>...</td>\n      <td>...</td>\n      <td>...</td>\n      <td>...</td>\n      <td>...</td>\n      <td>...</td>\n      <td>...</td>\n      <td>...</td>\n      <td>...</td>\n      <td>...</td>\n      <td>...</td>\n      <td>...</td>\n      <td>...</td>\n      <td>...</td>\n      <td>...</td>\n      <td>...</td>\n      <td>...</td>\n    </tr>\n    <tr>\n      <th>125968</th>\n      <td>0.00000</td>\n      <td>0.00000</td>\n      <td>0.00000</td>\n      <td>0.00000</td>\n      <td>0.00000</td>\n      <td>0.00000</td>\n      <td>0.00000</td>\n      <td>0.00000</td>\n      <td>0.00000</td>\n      <td>0.00000</td>\n      <td>0.00000</td>\n      <td>0.00000</td>\n      <td>0.00000</td>\n      <td>0.00000</td>\n      <td>0.00000</td>\n      <td>0.00000</td>\n      <td>nan</td>\n      <td>0.00000</td>\n      <td>0.00000</td>\n      <td>91.81996</td>\n      <td>12.47554</td>\n      <td>255.00000</td>\n      <td>255.00000</td>\n      <td>0.00000</td>\n      <td>0.00000</td>\n      <td>35.70000</td>\n      <td>15.30000</td>\n      <td>0.00000</td>\n      <td>255.00000</td>\n      <td>25.00000</td>\n      <td>25.50000</td>\n      <td>15.30000</td>\n      <td>0.00000</td>\n      <td>0.00000</td>\n      <td>255.00000</td>\n      <td>255.00000</td>\n      <td>0.00000</td>\n      <td>0.00000</td>\n      <td>0.00000</td>\n      <td>255.00000</td>\n      <td>0.00000</td>\n      <td>0.00000</td>\n      <td>0.00000</td>\n      <td>0.00000</td>\n      <td>0.00000</td>\n      <td>0.00000</td>\n      <td>0.00000</td>\n      <td>0.00000</td>\n      <td>0.00000</td>\n      <td>0.00000</td>\n      <td>0.00000</td>\n      <td>0.00000</td>\n      <td>0.00000</td>\n      <td>0.00000</td>\n      <td>0.00000</td>\n      <td>0.00000</td>\n      <td>0.00000</td>\n      <td>0.00000</td>\n      <td>0.00000</td>\n      <td>0.00000</td>\n      <td>0.00000</td>\n      <td>0.00000</td>\n      <td>0.00000</td>\n      <td>0.00000</td>\n      <td>0.00000</td>\n      <td>0.00000</td>\n      <td>0.00000</td>\n      <td>0.00000</td>\n      <td>0.00000</td>\n      <td>0.00000</td>\n      <td>0.00000</td>\n      <td>0.00000</td>\n      <td>0.00000</td>\n      <td>0.00000</td>\n      <td>0.00000</td>\n      <td>0.00000</td>\n      <td>0.00000</td>\n      <td>0.00000</td>\n      <td>0.00000</td>\n      <td>0.00000</td>\n      <td>0.00000</td>\n      <td>0.00000</td>\n      <td>0.00000</td>\n      <td>0.00000</td>\n      <td>0.00000</td>\n      <td>255.00000</td>\n      <td>0.00000</td>\n      <td>0.00000</td>\n      <td>0.00000</td>\n      <td>0.00000</td>\n      <td>0.00000</td>\n      <td>0.00000</td>\n      <td>0.00000</td>\n      <td>0.00000</td>\n      <td>0.00000</td>\n      <td>0.00000</td>\n      <td>0.00000</td>\n      <td>0.00000</td>\n      <td>0.00000</td>\n      <td>0.00000</td>\n      <td>0.00000</td>\n      <td>0.00000</td>\n      <td>0.00000</td>\n      <td>0.00000</td>\n      <td>0.00000</td>\n      <td>0.00000</td>\n      <td>0.00000</td>\n      <td>0.00000</td>\n      <td>255.00000</td>\n      <td>0.00000</td>\n      <td>0.00000</td>\n      <td>0.00000</td>\n      <td>0.00000</td>\n      <td>0.00000</td>\n    </tr>\n    <tr>\n      <th>125969</th>\n      <td>0.04754</td>\n      <td>0.00002</td>\n      <td>0.00003</td>\n      <td>0.00000</td>\n      <td>0.00000</td>\n      <td>0.00000</td>\n      <td>0.00000</td>\n      <td>0.00000</td>\n      <td>0.00000</td>\n      <td>0.00000</td>\n      <td>0.00000</td>\n      <td>0.00000</td>\n      <td>0.00000</td>\n      <td>0.00000</td>\n      <td>0.00000</td>\n      <td>0.00000</td>\n      <td>nan</td>\n      <td>0.00000</td>\n      <td>0.00000</td>\n      <td>0.99804</td>\n      <td>0.99804</td>\n      <td>0.00000</td>\n      <td>0.00000</td>\n      <td>0.00000</td>\n      <td>0.00000</td>\n      <td>255.00000</td>\n      <td>0.00000</td>\n      <td>0.00000</td>\n      <td>255.00000</td>\n      <td>244.00000</td>\n      <td>244.80000</td>\n      <td>2.55000</td>\n      <td>2.55000</td>\n      <td>0.00000</td>\n      <td>0.00000</td>\n      <td>0.00000</td>\n      <td>0.00000</td>\n      <td>0.00000</td>\n      <td>0.00000</td>\n      <td>0.00000</td>\n      <td>255.00000</td>\n      <td>0.00000</td>\n      <td>0.00000</td>\n      <td>0.00000</td>\n      <td>0.00000</td>\n      <td>0.00000</td>\n      <td>0.00000</td>\n      <td>0.00000</td>\n      <td>0.00000</td>\n      <td>0.00000</td>\n      <td>0.00000</td>\n      <td>0.00000</td>\n      <td>0.00000</td>\n      <td>0.00000</td>\n      <td>0.00000</td>\n      <td>0.00000</td>\n      <td>0.00000</td>\n      <td>0.00000</td>\n      <td>0.00000</td>\n      <td>0.00000</td>\n      <td>0.00000</td>\n      <td>0.00000</td>\n      <td>0.00000</td>\n      <td>0.00000</td>\n      <td>0.00000</td>\n      <td>0.00000</td>\n      <td>0.00000</td>\n      <td>0.00000</td>\n      <td>0.00000</td>\n      <td>0.00000</td>\n      <td>0.00000</td>\n      <td>0.00000</td>\n      <td>0.00000</td>\n      <td>0.00000</td>\n      <td>0.00000</td>\n      <td>0.00000</td>\n      <td>0.00000</td>\n      <td>0.00000</td>\n      <td>0.00000</td>\n      <td>0.00000</td>\n      <td>0.00000</td>\n      <td>0.00000</td>\n      <td>0.00000</td>\n      <td>0.00000</td>\n      <td>0.00000</td>\n      <td>255.00000</td>\n      <td>0.00000</td>\n      <td>0.00000</td>\n      <td>0.00000</td>\n      <td>0.00000</td>\n      <td>0.00000</td>\n      <td>0.00000</td>\n      <td>0.00000</td>\n      <td>0.00000</td>\n      <td>0.00000</td>\n      <td>0.00000</td>\n      <td>0.00000</td>\n      <td>0.00000</td>\n      <td>0.00000</td>\n      <td>0.00000</td>\n      <td>0.00000</td>\n      <td>0.00000</td>\n      <td>0.00000</td>\n      <td>0.00000</td>\n      <td>0.00000</td>\n      <td>0.00000</td>\n      <td>0.00000</td>\n      <td>0.00000</td>\n      <td>0.00000</td>\n      <td>0.00000</td>\n      <td>0.00000</td>\n      <td>0.00000</td>\n      <td>255.00000</td>\n      <td>0.00000</td>\n    </tr>\n    <tr>\n      <th>125970</th>\n      <td>0.00000</td>\n      <td>0.00041</td>\n      <td>0.00007</td>\n      <td>0.00000</td>\n      <td>0.00000</td>\n      <td>0.00000</td>\n      <td>0.00000</td>\n      <td>0.00000</td>\n      <td>255.00000</td>\n      <td>0.00000</td>\n      <td>0.00000</td>\n      <td>0.00000</td>\n      <td>0.00000</td>\n      <td>0.00000</td>\n      <td>0.00000</td>\n      <td>0.00000</td>\n      <td>nan</td>\n      <td>0.00000</td>\n      <td>0.00000</td>\n      <td>0.49902</td>\n      <td>0.49902</td>\n      <td>0.00000</td>\n      <td>0.00000</td>\n      <td>0.00000</td>\n      <td>0.00000</td>\n      <td>255.00000</td>\n      <td>0.00000</td>\n      <td>0.00000</td>\n      <td>255.00000</td>\n      <td>30.00000</td>\n      <td>30.60000</td>\n      <td>15.30000</td>\n      <td>0.00000</td>\n      <td>0.00000</td>\n      <td>183.60000</td>\n      <td>0.00000</td>\n      <td>2.55000</td>\n      <td>0.00000</td>\n      <td>0.00000</td>\n      <td>255.00000</td>\n      <td>0.00000</td>\n      <td>0.00000</td>\n      <td>0.00000</td>\n      <td>0.00000</td>\n      <td>0.00000</td>\n      <td>0.00000</td>\n      <td>0.00000</td>\n      <td>0.00000</td>\n      <td>0.00000</td>\n      <td>0.00000</td>\n      <td>0.00000</td>\n      <td>0.00000</td>\n      <td>0.00000</td>\n      <td>0.00000</td>\n      <td>0.00000</td>\n      <td>0.00000</td>\n      <td>0.00000</td>\n      <td>0.00000</td>\n      <td>0.00000</td>\n      <td>0.00000</td>\n      <td>0.00000</td>\n      <td>0.00000</td>\n      <td>0.00000</td>\n      <td>0.00000</td>\n      <td>0.00000</td>\n      <td>0.00000</td>\n      <td>0.00000</td>\n      <td>0.00000</td>\n      <td>0.00000</td>\n      <td>0.00000</td>\n      <td>0.00000</td>\n      <td>0.00000</td>\n      <td>0.00000</td>\n      <td>0.00000</td>\n      <td>0.00000</td>\n      <td>0.00000</td>\n      <td>0.00000</td>\n      <td>0.00000</td>\n      <td>0.00000</td>\n      <td>0.00000</td>\n      <td>0.00000</td>\n      <td>0.00000</td>\n      <td>0.00000</td>\n      <td>0.00000</td>\n      <td>0.00000</td>\n      <td>0.00000</td>\n      <td>0.00000</td>\n      <td>0.00000</td>\n      <td>255.00000</td>\n      <td>0.00000</td>\n      <td>0.00000</td>\n      <td>0.00000</td>\n      <td>0.00000</td>\n      <td>0.00000</td>\n      <td>0.00000</td>\n      <td>0.00000</td>\n      <td>0.00000</td>\n      <td>0.00000</td>\n      <td>0.00000</td>\n      <td>0.00000</td>\n      <td>0.00000</td>\n      <td>0.00000</td>\n      <td>0.00000</td>\n      <td>0.00000</td>\n      <td>0.00000</td>\n      <td>0.00000</td>\n      <td>0.00000</td>\n      <td>0.00000</td>\n      <td>0.00000</td>\n      <td>0.00000</td>\n      <td>0.00000</td>\n      <td>0.00000</td>\n      <td>255.00000</td>\n      <td>0.00000</td>\n    </tr>\n    <tr>\n      <th>125971</th>\n      <td>0.00000</td>\n      <td>0.00000</td>\n      <td>0.00000</td>\n      <td>0.00000</td>\n      <td>0.00000</td>\n      <td>0.00000</td>\n      <td>0.00000</td>\n      <td>0.00000</td>\n      <td>0.00000</td>\n      <td>0.00000</td>\n      <td>0.00000</td>\n      <td>0.00000</td>\n      <td>0.00000</td>\n      <td>0.00000</td>\n      <td>0.00000</td>\n      <td>0.00000</td>\n      <td>nan</td>\n      <td>0.00000</td>\n      <td>0.00000</td>\n      <td>71.85910</td>\n      <td>3.99217</td>\n      <td>255.00000</td>\n      <td>255.00000</td>\n      <td>0.00000</td>\n      <td>0.00000</td>\n      <td>15.30000</td>\n      <td>12.75000</td>\n      <td>0.00000</td>\n      <td>255.00000</td>\n      <td>8.00000</td>\n      <td>7.65000</td>\n      <td>12.75000</td>\n      <td>0.00000</td>\n      <td>0.00000</td>\n      <td>255.00000</td>\n      <td>255.00000</td>\n      <td>0.00000</td>\n      <td>0.00000</td>\n      <td>0.00000</td>\n      <td>255.00000</td>\n      <td>0.00000</td>\n      <td>0.00000</td>\n      <td>0.00000</td>\n      <td>0.00000</td>\n      <td>0.00000</td>\n      <td>0.00000</td>\n      <td>0.00000</td>\n      <td>0.00000</td>\n      <td>0.00000</td>\n      <td>0.00000</td>\n      <td>0.00000</td>\n      <td>0.00000</td>\n      <td>0.00000</td>\n      <td>0.00000</td>\n      <td>0.00000</td>\n      <td>0.00000</td>\n      <td>0.00000</td>\n      <td>0.00000</td>\n      <td>0.00000</td>\n      <td>0.00000</td>\n      <td>0.00000</td>\n      <td>0.00000</td>\n      <td>0.00000</td>\n      <td>0.00000</td>\n      <td>0.00000</td>\n      <td>0.00000</td>\n      <td>0.00000</td>\n      <td>255.00000</td>\n      <td>0.00000</td>\n      <td>0.00000</td>\n      <td>0.00000</td>\n      <td>0.00000</td>\n      <td>0.00000</td>\n      <td>0.00000</td>\n      <td>0.00000</td>\n      <td>0.00000</td>\n      <td>0.00000</td>\n      <td>0.00000</td>\n      <td>0.00000</td>\n      <td>0.00000</td>\n      <td>0.00000</td>\n      <td>0.00000</td>\n      <td>0.00000</td>\n      <td>0.00000</td>\n      <td>0.00000</td>\n      <td>0.00000</td>\n      <td>0.00000</td>\n      <td>0.00000</td>\n      <td>0.00000</td>\n      <td>0.00000</td>\n      <td>0.00000</td>\n      <td>0.00000</td>\n      <td>0.00000</td>\n      <td>0.00000</td>\n      <td>0.00000</td>\n      <td>0.00000</td>\n      <td>0.00000</td>\n      <td>0.00000</td>\n      <td>0.00000</td>\n      <td>0.00000</td>\n      <td>0.00000</td>\n      <td>0.00000</td>\n      <td>0.00000</td>\n      <td>0.00000</td>\n      <td>0.00000</td>\n      <td>0.00000</td>\n      <td>0.00000</td>\n      <td>0.00000</td>\n      <td>255.00000</td>\n      <td>0.00000</td>\n      <td>0.00000</td>\n      <td>0.00000</td>\n      <td>0.00000</td>\n      <td>0.00000</td>\n    </tr>\n    <tr>\n      <th>125972</th>\n      <td>0.00000</td>\n      <td>0.00003</td>\n      <td>0.00000</td>\n      <td>0.00000</td>\n      <td>0.00000</td>\n      <td>0.00000</td>\n      <td>0.00000</td>\n      <td>0.00000</td>\n      <td>255.00000</td>\n      <td>0.00000</td>\n      <td>0.00000</td>\n      <td>0.00000</td>\n      <td>0.00000</td>\n      <td>0.00000</td>\n      <td>0.00000</td>\n      <td>0.00000</td>\n      <td>nan</td>\n      <td>0.00000</td>\n      <td>0.00000</td>\n      <td>0.49902</td>\n      <td>0.49902</td>\n      <td>0.00000</td>\n      <td>0.00000</td>\n      <td>0.00000</td>\n      <td>0.00000</td>\n      <td>255.00000</td>\n      <td>0.00000</td>\n      <td>0.00000</td>\n      <td>255.00000</td>\n      <td>77.00000</td>\n      <td>76.50000</td>\n      <td>7.65000</td>\n      <td>76.50000</td>\n      <td>0.00000</td>\n      <td>0.00000</td>\n      <td>0.00000</td>\n      <td>0.00000</td>\n      <td>0.00000</td>\n      <td>0.00000</td>\n      <td>255.00000</td>\n      <td>0.00000</td>\n      <td>0.00000</td>\n      <td>0.00000</td>\n      <td>0.00000</td>\n      <td>0.00000</td>\n      <td>0.00000</td>\n      <td>0.00000</td>\n      <td>0.00000</td>\n      <td>0.00000</td>\n      <td>0.00000</td>\n      <td>0.00000</td>\n      <td>0.00000</td>\n      <td>0.00000</td>\n      <td>0.00000</td>\n      <td>0.00000</td>\n      <td>0.00000</td>\n      <td>0.00000</td>\n      <td>0.00000</td>\n      <td>0.00000</td>\n      <td>0.00000</td>\n      <td>255.00000</td>\n      <td>0.00000</td>\n      <td>0.00000</td>\n      <td>0.00000</td>\n      <td>0.00000</td>\n      <td>0.00000</td>\n      <td>0.00000</td>\n      <td>0.00000</td>\n      <td>0.00000</td>\n      <td>0.00000</td>\n      <td>0.00000</td>\n      <td>0.00000</td>\n      <td>0.00000</td>\n      <td>0.00000</td>\n      <td>0.00000</td>\n      <td>0.00000</td>\n      <td>0.00000</td>\n      <td>0.00000</td>\n      <td>0.00000</td>\n      <td>0.00000</td>\n      <td>0.00000</td>\n      <td>0.00000</td>\n      <td>0.00000</td>\n      <td>0.00000</td>\n      <td>0.00000</td>\n      <td>0.00000</td>\n      <td>0.00000</td>\n      <td>0.00000</td>\n      <td>0.00000</td>\n      <td>0.00000</td>\n      <td>0.00000</td>\n      <td>0.00000</td>\n      <td>0.00000</td>\n      <td>0.00000</td>\n      <td>0.00000</td>\n      <td>0.00000</td>\n      <td>0.00000</td>\n      <td>0.00000</td>\n      <td>0.00000</td>\n      <td>0.00000</td>\n      <td>0.00000</td>\n      <td>0.00000</td>\n      <td>0.00000</td>\n      <td>0.00000</td>\n      <td>0.00000</td>\n      <td>0.00000</td>\n      <td>0.00000</td>\n      <td>0.00000</td>\n      <td>0.00000</td>\n      <td>0.00000</td>\n      <td>0.00000</td>\n      <td>0.00000</td>\n      <td>255.00000</td>\n      <td>0.00000</td>\n    </tr>\n  </tbody>\n</table>\n<p>125793 rows × 114 columns</p>\n</div>"
          },
          "metadata": {},
          "execution_count": 14
        }
      ]
    },
    {
      "cell_type": "code",
      "metadata": {
        "colab": {
          "base_uri": "https://localhost:8080/",
          "height": 422
        },
        "id": "p55dGYkXO-nW",
        "outputId": "ec6196de-9fa5-4dd1-8220-ec3ef4900d64"
      },
      "source": [
        "edited_xtest = 255 * edited_xtest / edited_xtest.max(numeric_only = True)\n",
        "\n",
        "edited_xtest"
      ],
      "execution_count": 15,
      "outputs": [
        {
          "output_type": "execute_result",
          "data": {
            "text/plain": [
              "       duration  src_bytes  dst_bytes    land  wrong_fragment  urgent     hot  \\\n",
              "0       0.00000    0.00000    0.00000 0.00000         0.00000 0.00000 0.00000   \n",
              "1       0.00000    0.00000    0.00000 0.00000         0.00000 0.00000 0.00000   \n",
              "2       0.00884    0.05270    0.00000 0.00000         0.00000 0.00000 0.00000   \n",
              "3       0.00000    0.00008    0.00000 0.00000         0.00000 0.00000 0.00000   \n",
              "4       0.00442    0.00000    0.00284 0.00000         0.00000 0.00000 0.00000   \n",
              "...         ...        ...        ...     ...             ...     ...     ...   \n",
              "22539   0.00000    0.00322    0.06309 0.00000         0.00000 0.00000 0.00000   \n",
              "22540   0.00000    0.00129    0.17771 0.00000         0.00000 0.00000 0.00000   \n",
              "22541   0.00000    0.22137    1.57517 0.00000         0.00000 0.00000 5.04950   \n",
              "22542   0.00000    0.00017    0.00796 0.00000         0.00000 0.00000 0.00000   \n",
              "22543   0.00000    0.00000    0.00000 0.00000         0.00000 0.00000 0.00000   \n",
              "\n",
              "       num_failed_logins  logged_in  num_compromised  root_shell  \\\n",
              "0                0.00000    0.00000          0.00000     0.00000   \n",
              "1                0.00000    0.00000          0.00000     0.00000   \n",
              "2                0.00000    0.00000          0.00000     0.00000   \n",
              "3                0.00000    0.00000          0.00000     0.00000   \n",
              "4                0.00000    0.00000          0.00000     0.00000   \n",
              "...                  ...        ...              ...         ...   \n",
              "22539            0.00000  255.00000          0.00000     0.00000   \n",
              "22540            0.00000  255.00000          0.00000     0.00000   \n",
              "22541            0.00000  255.00000          0.32035     0.00000   \n",
              "22542            0.00000    0.00000          0.00000     0.00000   \n",
              "22543            0.00000    0.00000          0.00000     0.00000   \n",
              "\n",
              "       su_attempted  num_root  num_file_creations  num_shells  \\\n",
              "0           0.00000   0.00000             0.00000     0.00000   \n",
              "1           0.00000   0.00000             0.00000     0.00000   \n",
              "2           0.00000   0.00000             0.00000     0.00000   \n",
              "3           0.00000   0.00000             0.00000     0.00000   \n",
              "4           0.00000   0.00000             0.00000     0.00000   \n",
              "...             ...       ...                 ...         ...   \n",
              "22539       0.00000   0.00000             0.00000     0.00000   \n",
              "22540       0.00000   0.00000             0.00000     0.00000   \n",
              "22541       0.00000   0.00000             0.00000     0.00000   \n",
              "22542       0.00000   0.00000             0.00000     0.00000   \n",
              "22543       0.00000   0.00000             0.00000     0.00000   \n",
              "\n",
              "       num_access_files  num_outbound_cmds  is_host_login  is_guest_login  \\\n",
              "0               0.00000                nan        0.00000         0.00000   \n",
              "1               0.00000                nan        0.00000         0.00000   \n",
              "2               0.00000                nan        0.00000         0.00000   \n",
              "3               0.00000                nan        0.00000         0.00000   \n",
              "4               0.00000                nan        0.00000         0.00000   \n",
              "...                 ...                ...            ...             ...   \n",
              "22539           0.00000                nan        0.00000         0.00000   \n",
              "22540           0.00000                nan        0.00000         0.00000   \n",
              "22541           0.00000                nan        0.00000         0.00000   \n",
              "22542           0.00000                nan        0.00000         0.00000   \n",
              "22543           0.00000                nan        0.00000         0.00000   \n",
              "\n",
              "          count  srv_count  serror_rate  srv_serror_rate  rerror_rate  \\\n",
              "0     114.27593    4.99022      0.00000          0.00000    255.00000   \n",
              "1      67.86693    0.49902      0.00000          0.00000    255.00000   \n",
              "2       0.49902    0.49902      0.00000          0.00000      0.00000   \n",
              "3       0.49902   32.43640      0.00000          0.00000      0.00000   \n",
              "4       0.49902    3.99217      0.00000         30.60000    255.00000   \n",
              "...         ...        ...          ...              ...          ...   \n",
              "22539   0.49902    0.49902      0.00000          0.00000      0.00000   \n",
              "22540   0.99804    5.48924      0.00000          0.00000      0.00000   \n",
              "22541   2.49511    4.99022      0.00000          0.00000      0.00000   \n",
              "22542   1.99609    2.99413      0.00000          0.00000      0.00000   \n",
              "22543   1.99609    4.99022      0.00000          0.00000    255.00000   \n",
              "\n",
              "       srv_rerror_rate  same_srv_rate  diff_srv_rate  srv_diff_host_rate  \\\n",
              "0            255.00000       10.20000       15.30000             0.00000   \n",
              "1            255.00000        2.55000       15.30000             0.00000   \n",
              "2              0.00000      255.00000        0.00000             0.00000   \n",
              "3              0.00000      255.00000        0.00000           255.00000   \n",
              "4            127.50000      255.00000        0.00000           191.25000   \n",
              "...                ...            ...            ...                 ...   \n",
              "22539          0.00000      255.00000        0.00000             0.00000   \n",
              "22540          0.00000      255.00000        0.00000            45.90000   \n",
              "22541          0.00000      255.00000        0.00000            51.00000   \n",
              "22542          0.00000      255.00000        0.00000            84.15000   \n",
              "22543        255.00000       63.75000      255.00000           255.00000   \n",
              "\n",
              "       dst_host_count  dst_host_srv_count  dst_host_same_srv_rate  \\\n",
              "0           255.00000            10.00000                10.20000   \n",
              "1           255.00000             1.00000                 0.00000   \n",
              "2           134.00000            86.00000               155.55000   \n",
              "3             3.00000            57.00000               255.00000   \n",
              "4            29.00000            86.00000                79.05000   \n",
              "...               ...                 ...                     ...   \n",
              "22539       100.00000           141.00000               183.60000   \n",
              "22540       197.00000           255.00000               255.00000   \n",
              "22541       255.00000           255.00000               255.00000   \n",
              "22542       255.00000           252.00000               252.45000   \n",
              "22543       255.00000            21.00000                20.40000   \n",
              "\n",
              "       dst_host_diff_srv_rate  dst_host_same_src_port_rate  \\\n",
              "0                    15.30000                      0.00000   \n",
              "1                    15.30000                      0.00000   \n",
              "2                    10.20000                    155.55000   \n",
              "3                     0.00000                    255.00000   \n",
              "4                    43.35000                      7.65000   \n",
              "...                       ...                          ...   \n",
              "22539                15.30000                      2.55000   \n",
              "22540                 0.00000                      2.55000   \n",
              "22541                 0.00000                      0.00000   \n",
              "22542                 2.55000                      0.00000   \n",
              "22543                 7.65000                      0.00000   \n",
              "\n",
              "       dst_host_srv_diff_host_rate  dst_host_serror_rate  \\\n",
              "0                          0.00000               0.00000   \n",
              "1                          0.00000               0.00000   \n",
              "2                          5.10000               0.00000   \n",
              "3                         71.40000               0.00000   \n",
              "4                          5.10000               0.00000   \n",
              "...                            ...                   ...   \n",
              "22539                      2.55000               2.55000   \n",
              "22540                      2.55000               2.55000   \n",
              "22541                      0.00000               0.00000   \n",
              "22542                      0.00000               0.00000   \n",
              "22543                      0.00000               0.00000   \n",
              "\n",
              "       dst_host_srv_serror_rate  dst_host_rerror_rate  \\\n",
              "0                       0.00000             255.00000   \n",
              "1                       0.00000             255.00000   \n",
              "2                       0.00000               0.00000   \n",
              "3                       0.00000               0.00000   \n",
              "4                       0.00000             211.65000   \n",
              "...                         ...                   ...   \n",
              "22539                   0.00000               0.00000   \n",
              "22540                   0.00000               0.00000   \n",
              "22541                   0.00000              17.85000   \n",
              "22542                   0.00000               0.00000   \n",
              "22543                   0.00000             112.20000   \n",
              "\n",
              "       dst_host_srv_rerror_rate      icmp       tcp       udp     IRC     X11  \\\n",
              "0                     255.00000   0.00000 255.00000   0.00000 0.00000 0.00000   \n",
              "1                     255.00000   0.00000 255.00000   0.00000 0.00000 0.00000   \n",
              "2                       0.00000   0.00000 255.00000   0.00000 0.00000 0.00000   \n",
              "3                       0.00000 255.00000   0.00000   0.00000 0.00000 0.00000   \n",
              "4                     181.05000   0.00000 255.00000   0.00000 0.00000 0.00000   \n",
              "...                         ...       ...       ...       ...     ...     ...   \n",
              "22539                   0.00000   0.00000 255.00000   0.00000 0.00000 0.00000   \n",
              "22540                   0.00000   0.00000 255.00000   0.00000 0.00000 0.00000   \n",
              "22541                  17.85000   0.00000 255.00000   0.00000 0.00000 0.00000   \n",
              "22542                   0.00000   0.00000   0.00000 255.00000 0.00000 0.00000   \n",
              "22543                 255.00000   0.00000 255.00000   0.00000 0.00000 0.00000   \n",
              "\n",
              "       Z39_50    auth     bgp  courier  csnet_ns     ctf  daytime  discard  \\\n",
              "0     0.00000 0.00000 0.00000  0.00000   0.00000 0.00000  0.00000  0.00000   \n",
              "1     0.00000 0.00000 0.00000  0.00000   0.00000 0.00000  0.00000  0.00000   \n",
              "2     0.00000 0.00000 0.00000  0.00000   0.00000 0.00000  0.00000  0.00000   \n",
              "3     0.00000 0.00000 0.00000  0.00000   0.00000 0.00000  0.00000  0.00000   \n",
              "4     0.00000 0.00000 0.00000  0.00000   0.00000 0.00000  0.00000  0.00000   \n",
              "...       ...     ...     ...      ...       ...     ...      ...      ...   \n",
              "22539 0.00000 0.00000 0.00000  0.00000   0.00000 0.00000  0.00000  0.00000   \n",
              "22540 0.00000 0.00000 0.00000  0.00000   0.00000 0.00000  0.00000  0.00000   \n",
              "22541 0.00000 0.00000 0.00000  0.00000   0.00000 0.00000  0.00000  0.00000   \n",
              "22542 0.00000 0.00000 0.00000  0.00000   0.00000 0.00000  0.00000  0.00000   \n",
              "22543 0.00000 0.00000 0.00000  0.00000   0.00000 0.00000  0.00000  0.00000   \n",
              "\n",
              "       domain  domain_u    echo     eco_i   ecr_i     efs    exec  finger  \\\n",
              "0     0.00000   0.00000 0.00000   0.00000 0.00000 0.00000 0.00000 0.00000   \n",
              "1     0.00000   0.00000 0.00000   0.00000 0.00000 0.00000 0.00000 0.00000   \n",
              "2     0.00000   0.00000 0.00000   0.00000 0.00000 0.00000 0.00000 0.00000   \n",
              "3     0.00000   0.00000 0.00000 255.00000 0.00000 0.00000 0.00000 0.00000   \n",
              "4     0.00000   0.00000 0.00000   0.00000 0.00000 0.00000 0.00000 0.00000   \n",
              "...       ...       ...     ...       ...     ...     ...     ...     ...   \n",
              "22539 0.00000   0.00000 0.00000   0.00000 0.00000 0.00000 0.00000 0.00000   \n",
              "22540 0.00000   0.00000 0.00000   0.00000 0.00000 0.00000 0.00000 0.00000   \n",
              "22541 0.00000   0.00000 0.00000   0.00000 0.00000 0.00000 0.00000 0.00000   \n",
              "22542 0.00000 255.00000 0.00000   0.00000 0.00000 0.00000 0.00000 0.00000   \n",
              "22543 0.00000   0.00000 0.00000   0.00000 0.00000 0.00000 0.00000 0.00000   \n",
              "\n",
              "          ftp  ftp_data  gopher  hostnames      http  http_443   imap4  \\\n",
              "0     0.00000   0.00000 0.00000    0.00000   0.00000   0.00000 0.00000   \n",
              "1     0.00000   0.00000 0.00000    0.00000   0.00000   0.00000 0.00000   \n",
              "2     0.00000 255.00000 0.00000    0.00000   0.00000   0.00000 0.00000   \n",
              "3     0.00000   0.00000 0.00000    0.00000   0.00000   0.00000 0.00000   \n",
              "4     0.00000   0.00000 0.00000    0.00000   0.00000   0.00000 0.00000   \n",
              "...       ...       ...     ...        ...       ...       ...     ...   \n",
              "22539 0.00000   0.00000 0.00000    0.00000   0.00000   0.00000 0.00000   \n",
              "22540 0.00000   0.00000 0.00000    0.00000 255.00000   0.00000 0.00000   \n",
              "22541 0.00000   0.00000 0.00000    0.00000 255.00000   0.00000 0.00000   \n",
              "22542 0.00000   0.00000 0.00000    0.00000   0.00000   0.00000 0.00000   \n",
              "22543 0.00000   0.00000 0.00000    0.00000   0.00000   0.00000 0.00000   \n",
              "\n",
              "       iso_tsap  klogin  kshell    ldap    link   login     mtp    name  \\\n",
              "0       0.00000 0.00000 0.00000 0.00000 0.00000 0.00000 0.00000 0.00000   \n",
              "1       0.00000 0.00000 0.00000 0.00000 0.00000 0.00000 0.00000 0.00000   \n",
              "2       0.00000 0.00000 0.00000 0.00000 0.00000 0.00000 0.00000 0.00000   \n",
              "3       0.00000 0.00000 0.00000 0.00000 0.00000 0.00000 0.00000 0.00000   \n",
              "4       0.00000 0.00000 0.00000 0.00000 0.00000 0.00000 0.00000 0.00000   \n",
              "...         ...     ...     ...     ...     ...     ...     ...     ...   \n",
              "22539   0.00000 0.00000 0.00000 0.00000 0.00000 0.00000 0.00000 0.00000   \n",
              "22540   0.00000 0.00000 0.00000 0.00000 0.00000 0.00000 0.00000 0.00000   \n",
              "22541   0.00000 0.00000 0.00000 0.00000 0.00000 0.00000 0.00000 0.00000   \n",
              "22542   0.00000 0.00000 0.00000 0.00000 0.00000 0.00000 0.00000 0.00000   \n",
              "22543   0.00000 0.00000 0.00000 0.00000 0.00000 0.00000 0.00000 0.00000   \n",
              "\n",
              "       netbios_dgm  netbios_ns  netbios_ssn  netstat    nnsp    nntp   ntp_u  \\\n",
              "0          0.00000     0.00000      0.00000  0.00000 0.00000 0.00000 0.00000   \n",
              "1          0.00000     0.00000      0.00000  0.00000 0.00000 0.00000 0.00000   \n",
              "2          0.00000     0.00000      0.00000  0.00000 0.00000 0.00000 0.00000   \n",
              "3          0.00000     0.00000      0.00000  0.00000 0.00000 0.00000 0.00000   \n",
              "4          0.00000     0.00000      0.00000  0.00000 0.00000 0.00000 0.00000   \n",
              "...            ...         ...          ...      ...     ...     ...     ...   \n",
              "22539      0.00000     0.00000      0.00000  0.00000 0.00000 0.00000 0.00000   \n",
              "22540      0.00000     0.00000      0.00000  0.00000 0.00000 0.00000 0.00000   \n",
              "22541      0.00000     0.00000      0.00000  0.00000 0.00000 0.00000 0.00000   \n",
              "22542      0.00000     0.00000      0.00000  0.00000 0.00000 0.00000 0.00000   \n",
              "22543      0.00000     0.00000      0.00000  0.00000 0.00000 0.00000 0.00000   \n",
              "\n",
              "        other  pm_dump   pop_2   pop_3   private  remote_job   shell  \\\n",
              "0     0.00000  0.00000 0.00000 0.00000 255.00000     0.00000 0.00000   \n",
              "1     0.00000  0.00000 0.00000 0.00000 255.00000     0.00000 0.00000   \n",
              "2     0.00000  0.00000 0.00000 0.00000   0.00000     0.00000 0.00000   \n",
              "3     0.00000  0.00000 0.00000 0.00000   0.00000     0.00000 0.00000   \n",
              "4     0.00000  0.00000 0.00000 0.00000   0.00000     0.00000 0.00000   \n",
              "...       ...      ...     ...     ...       ...         ...     ...   \n",
              "22539 0.00000  0.00000 0.00000 0.00000   0.00000     0.00000 0.00000   \n",
              "22540 0.00000  0.00000 0.00000 0.00000   0.00000     0.00000 0.00000   \n",
              "22541 0.00000  0.00000 0.00000 0.00000   0.00000     0.00000 0.00000   \n",
              "22542 0.00000  0.00000 0.00000 0.00000   0.00000     0.00000 0.00000   \n",
              "22543 0.00000  0.00000 0.00000 0.00000   0.00000     0.00000 0.00000   \n",
              "\n",
              "           smtp  sql_net     ssh    sunrpc  supdup  systat    telnet  tftp_u  \\\n",
              "0       0.00000  0.00000 0.00000   0.00000 0.00000 0.00000   0.00000 0.00000   \n",
              "1       0.00000  0.00000 0.00000   0.00000 0.00000 0.00000   0.00000 0.00000   \n",
              "2       0.00000  0.00000 0.00000   0.00000 0.00000 0.00000   0.00000 0.00000   \n",
              "3       0.00000  0.00000 0.00000   0.00000 0.00000 0.00000   0.00000 0.00000   \n",
              "4       0.00000  0.00000 0.00000   0.00000 0.00000 0.00000 255.00000 0.00000   \n",
              "...         ...      ...     ...       ...     ...     ...       ...     ...   \n",
              "22539 255.00000  0.00000 0.00000   0.00000 0.00000 0.00000   0.00000 0.00000   \n",
              "22540   0.00000  0.00000 0.00000   0.00000 0.00000 0.00000   0.00000 0.00000   \n",
              "22541   0.00000  0.00000 0.00000   0.00000 0.00000 0.00000   0.00000 0.00000   \n",
              "22542   0.00000  0.00000 0.00000   0.00000 0.00000 0.00000   0.00000 0.00000   \n",
              "22543   0.00000  0.00000 0.00000 255.00000 0.00000 0.00000   0.00000 0.00000   \n",
              "\n",
              "        tim_i    time   urp_i    uucp  uucp_path   vmnet   whois     OTH  \\\n",
              "0     0.00000 0.00000 0.00000 0.00000    0.00000 0.00000 0.00000 0.00000   \n",
              "1     0.00000 0.00000 0.00000 0.00000    0.00000 0.00000 0.00000 0.00000   \n",
              "2     0.00000 0.00000 0.00000 0.00000    0.00000 0.00000 0.00000 0.00000   \n",
              "3     0.00000 0.00000 0.00000 0.00000    0.00000 0.00000 0.00000 0.00000   \n",
              "4     0.00000 0.00000 0.00000 0.00000    0.00000 0.00000 0.00000 0.00000   \n",
              "...       ...     ...     ...     ...        ...     ...     ...     ...   \n",
              "22539 0.00000 0.00000 0.00000 0.00000    0.00000 0.00000 0.00000 0.00000   \n",
              "22540 0.00000 0.00000 0.00000 0.00000    0.00000 0.00000 0.00000 0.00000   \n",
              "22541 0.00000 0.00000 0.00000 0.00000    0.00000 0.00000 0.00000 0.00000   \n",
              "22542 0.00000 0.00000 0.00000 0.00000    0.00000 0.00000 0.00000 0.00000   \n",
              "22543 0.00000 0.00000 0.00000 0.00000    0.00000 0.00000 0.00000 0.00000   \n",
              "\n",
              "            REJ      RSTO  RSTOS0    RSTR      S0      S1      S2      S3  \\\n",
              "0     255.00000   0.00000 0.00000 0.00000 0.00000 0.00000 0.00000 0.00000   \n",
              "1     255.00000   0.00000 0.00000 0.00000 0.00000 0.00000 0.00000 0.00000   \n",
              "2       0.00000   0.00000 0.00000 0.00000 0.00000 0.00000 0.00000 0.00000   \n",
              "3       0.00000   0.00000 0.00000 0.00000 0.00000 0.00000 0.00000 0.00000   \n",
              "4       0.00000 255.00000 0.00000 0.00000 0.00000 0.00000 0.00000 0.00000   \n",
              "...         ...       ...     ...     ...     ...     ...     ...     ...   \n",
              "22539   0.00000   0.00000 0.00000 0.00000 0.00000 0.00000 0.00000 0.00000   \n",
              "22540   0.00000   0.00000 0.00000 0.00000 0.00000 0.00000 0.00000 0.00000   \n",
              "22541   0.00000   0.00000 0.00000 0.00000 0.00000 0.00000 0.00000 0.00000   \n",
              "22542   0.00000   0.00000 0.00000 0.00000 0.00000 0.00000 0.00000 0.00000   \n",
              "22543 255.00000   0.00000 0.00000 0.00000 0.00000 0.00000 0.00000 0.00000   \n",
              "\n",
              "             SF      SH  \n",
              "0       0.00000 0.00000  \n",
              "1       0.00000 0.00000  \n",
              "2     255.00000 0.00000  \n",
              "3     255.00000 0.00000  \n",
              "4       0.00000 0.00000  \n",
              "...         ...     ...  \n",
              "22539 255.00000 0.00000  \n",
              "22540 255.00000 0.00000  \n",
              "22541 255.00000 0.00000  \n",
              "22542 255.00000 0.00000  \n",
              "22543   0.00000 0.00000  \n",
              "\n",
              "[22525 rows x 114 columns]"
            ],
            "text/html": "<div>\n<style scoped>\n    .dataframe tbody tr th:only-of-type {\n        vertical-align: middle;\n    }\n\n    .dataframe tbody tr th {\n        vertical-align: top;\n    }\n\n    .dataframe thead th {\n        text-align: right;\n    }\n</style>\n<table border=\"1\" class=\"dataframe\">\n  <thead>\n    <tr style=\"text-align: right;\">\n      <th></th>\n      <th>duration</th>\n      <th>src_bytes</th>\n      <th>dst_bytes</th>\n      <th>land</th>\n      <th>wrong_fragment</th>\n      <th>urgent</th>\n      <th>hot</th>\n      <th>num_failed_logins</th>\n      <th>logged_in</th>\n      <th>num_compromised</th>\n      <th>root_shell</th>\n      <th>su_attempted</th>\n      <th>num_root</th>\n      <th>num_file_creations</th>\n      <th>num_shells</th>\n      <th>num_access_files</th>\n      <th>num_outbound_cmds</th>\n      <th>is_host_login</th>\n      <th>is_guest_login</th>\n      <th>count</th>\n      <th>srv_count</th>\n      <th>serror_rate</th>\n      <th>srv_serror_rate</th>\n      <th>rerror_rate</th>\n      <th>srv_rerror_rate</th>\n      <th>same_srv_rate</th>\n      <th>diff_srv_rate</th>\n      <th>srv_diff_host_rate</th>\n      <th>dst_host_count</th>\n      <th>dst_host_srv_count</th>\n      <th>dst_host_same_srv_rate</th>\n      <th>dst_host_diff_srv_rate</th>\n      <th>dst_host_same_src_port_rate</th>\n      <th>dst_host_srv_diff_host_rate</th>\n      <th>dst_host_serror_rate</th>\n      <th>dst_host_srv_serror_rate</th>\n      <th>dst_host_rerror_rate</th>\n      <th>dst_host_srv_rerror_rate</th>\n      <th>icmp</th>\n      <th>tcp</th>\n      <th>udp</th>\n      <th>IRC</th>\n      <th>X11</th>\n      <th>Z39_50</th>\n      <th>auth</th>\n      <th>bgp</th>\n      <th>courier</th>\n      <th>csnet_ns</th>\n      <th>ctf</th>\n      <th>daytime</th>\n      <th>discard</th>\n      <th>domain</th>\n      <th>domain_u</th>\n      <th>echo</th>\n      <th>eco_i</th>\n      <th>ecr_i</th>\n      <th>efs</th>\n      <th>exec</th>\n      <th>finger</th>\n      <th>ftp</th>\n      <th>ftp_data</th>\n      <th>gopher</th>\n      <th>hostnames</th>\n      <th>http</th>\n      <th>http_443</th>\n      <th>imap4</th>\n      <th>iso_tsap</th>\n      <th>klogin</th>\n      <th>kshell</th>\n      <th>ldap</th>\n      <th>link</th>\n      <th>login</th>\n      <th>mtp</th>\n      <th>name</th>\n      <th>netbios_dgm</th>\n      <th>netbios_ns</th>\n      <th>netbios_ssn</th>\n      <th>netstat</th>\n      <th>nnsp</th>\n      <th>nntp</th>\n      <th>ntp_u</th>\n      <th>other</th>\n      <th>pm_dump</th>\n      <th>pop_2</th>\n      <th>pop_3</th>\n      <th>private</th>\n      <th>remote_job</th>\n      <th>shell</th>\n      <th>smtp</th>\n      <th>sql_net</th>\n      <th>ssh</th>\n      <th>sunrpc</th>\n      <th>supdup</th>\n      <th>systat</th>\n      <th>telnet</th>\n      <th>tftp_u</th>\n      <th>tim_i</th>\n      <th>time</th>\n      <th>urp_i</th>\n      <th>uucp</th>\n      <th>uucp_path</th>\n      <th>vmnet</th>\n      <th>whois</th>\n      <th>OTH</th>\n      <th>REJ</th>\n      <th>RSTO</th>\n      <th>RSTOS0</th>\n      <th>RSTR</th>\n      <th>S0</th>\n      <th>S1</th>\n      <th>S2</th>\n      <th>S3</th>\n      <th>SF</th>\n      <th>SH</th>\n    </tr>\n  </thead>\n  <tbody>\n    <tr>\n      <th>0</th>\n      <td>0.00000</td>\n      <td>0.00000</td>\n      <td>0.00000</td>\n      <td>0.00000</td>\n      <td>0.00000</td>\n      <td>0.00000</td>\n      <td>0.00000</td>\n      <td>0.00000</td>\n      <td>0.00000</td>\n      <td>0.00000</td>\n      <td>0.00000</td>\n      <td>0.00000</td>\n      <td>0.00000</td>\n      <td>0.00000</td>\n      <td>0.00000</td>\n      <td>0.00000</td>\n      <td>nan</td>\n      <td>0.00000</td>\n      <td>0.00000</td>\n      <td>114.27593</td>\n      <td>4.99022</td>\n      <td>0.00000</td>\n      <td>0.00000</td>\n      <td>255.00000</td>\n      <td>255.00000</td>\n      <td>10.20000</td>\n      <td>15.30000</td>\n      <td>0.00000</td>\n      <td>255.00000</td>\n      <td>10.00000</td>\n      <td>10.20000</td>\n      <td>15.30000</td>\n      <td>0.00000</td>\n      <td>0.00000</td>\n      <td>0.00000</td>\n      <td>0.00000</td>\n      <td>255.00000</td>\n      <td>255.00000</td>\n      <td>0.00000</td>\n      <td>255.00000</td>\n      <td>0.00000</td>\n      <td>0.00000</td>\n      <td>0.00000</td>\n      <td>0.00000</td>\n      <td>0.00000</td>\n      <td>0.00000</td>\n      <td>0.00000</td>\n      <td>0.00000</td>\n      <td>0.00000</td>\n      <td>0.00000</td>\n      <td>0.00000</td>\n      <td>0.00000</td>\n      <td>0.00000</td>\n      <td>0.00000</td>\n      <td>0.00000</td>\n      <td>0.00000</td>\n      <td>0.00000</td>\n      <td>0.00000</td>\n      <td>0.00000</td>\n      <td>0.00000</td>\n      <td>0.00000</td>\n      <td>0.00000</td>\n      <td>0.00000</td>\n      <td>0.00000</td>\n      <td>0.00000</td>\n      <td>0.00000</td>\n      <td>0.00000</td>\n      <td>0.00000</td>\n      <td>0.00000</td>\n      <td>0.00000</td>\n      <td>0.00000</td>\n      <td>0.00000</td>\n      <td>0.00000</td>\n      <td>0.00000</td>\n      <td>0.00000</td>\n      <td>0.00000</td>\n      <td>0.00000</td>\n      <td>0.00000</td>\n      <td>0.00000</td>\n      <td>0.00000</td>\n      <td>0.00000</td>\n      <td>0.00000</td>\n      <td>0.00000</td>\n      <td>0.00000</td>\n      <td>0.00000</td>\n      <td>255.00000</td>\n      <td>0.00000</td>\n      <td>0.00000</td>\n      <td>0.00000</td>\n      <td>0.00000</td>\n      <td>0.00000</td>\n      <td>0.00000</td>\n      <td>0.00000</td>\n      <td>0.00000</td>\n      <td>0.00000</td>\n      <td>0.00000</td>\n      <td>0.00000</td>\n      <td>0.00000</td>\n      <td>0.00000</td>\n      <td>0.00000</td>\n      <td>0.00000</td>\n      <td>0.00000</td>\n      <td>0.00000</td>\n      <td>0.00000</td>\n      <td>255.00000</td>\n      <td>0.00000</td>\n      <td>0.00000</td>\n      <td>0.00000</td>\n      <td>0.00000</td>\n      <td>0.00000</td>\n      <td>0.00000</td>\n      <td>0.00000</td>\n      <td>0.00000</td>\n      <td>0.00000</td>\n    </tr>\n    <tr>\n      <th>1</th>\n      <td>0.00000</td>\n      <td>0.00000</td>\n      <td>0.00000</td>\n      <td>0.00000</td>\n      <td>0.00000</td>\n      <td>0.00000</td>\n      <td>0.00000</td>\n      <td>0.00000</td>\n      <td>0.00000</td>\n      <td>0.00000</td>\n      <td>0.00000</td>\n      <td>0.00000</td>\n      <td>0.00000</td>\n      <td>0.00000</td>\n      <td>0.00000</td>\n      <td>0.00000</td>\n      <td>nan</td>\n      <td>0.00000</td>\n      <td>0.00000</td>\n      <td>67.86693</td>\n      <td>0.49902</td>\n      <td>0.00000</td>\n      <td>0.00000</td>\n      <td>255.00000</td>\n      <td>255.00000</td>\n      <td>2.55000</td>\n      <td>15.30000</td>\n      <td>0.00000</td>\n      <td>255.00000</td>\n      <td>1.00000</td>\n      <td>0.00000</td>\n      <td>15.30000</td>\n      <td>0.00000</td>\n      <td>0.00000</td>\n      <td>0.00000</td>\n      <td>0.00000</td>\n      <td>255.00000</td>\n      <td>255.00000</td>\n      <td>0.00000</td>\n      <td>255.00000</td>\n      <td>0.00000</td>\n      <td>0.00000</td>\n      <td>0.00000</td>\n      <td>0.00000</td>\n      <td>0.00000</td>\n      <td>0.00000</td>\n      <td>0.00000</td>\n      <td>0.00000</td>\n      <td>0.00000</td>\n      <td>0.00000</td>\n      <td>0.00000</td>\n      <td>0.00000</td>\n      <td>0.00000</td>\n      <td>0.00000</td>\n      <td>0.00000</td>\n      <td>0.00000</td>\n      <td>0.00000</td>\n      <td>0.00000</td>\n      <td>0.00000</td>\n      <td>0.00000</td>\n      <td>0.00000</td>\n      <td>0.00000</td>\n      <td>0.00000</td>\n      <td>0.00000</td>\n      <td>0.00000</td>\n      <td>0.00000</td>\n      <td>0.00000</td>\n      <td>0.00000</td>\n      <td>0.00000</td>\n      <td>0.00000</td>\n      <td>0.00000</td>\n      <td>0.00000</td>\n      <td>0.00000</td>\n      <td>0.00000</td>\n      <td>0.00000</td>\n      <td>0.00000</td>\n      <td>0.00000</td>\n      <td>0.00000</td>\n      <td>0.00000</td>\n      <td>0.00000</td>\n      <td>0.00000</td>\n      <td>0.00000</td>\n      <td>0.00000</td>\n      <td>0.00000</td>\n      <td>0.00000</td>\n      <td>255.00000</td>\n      <td>0.00000</td>\n      <td>0.00000</td>\n      <td>0.00000</td>\n      <td>0.00000</td>\n      <td>0.00000</td>\n      <td>0.00000</td>\n      <td>0.00000</td>\n      <td>0.00000</td>\n      <td>0.00000</td>\n      <td>0.00000</td>\n      <td>0.00000</td>\n      <td>0.00000</td>\n      <td>0.00000</td>\n      <td>0.00000</td>\n      <td>0.00000</td>\n      <td>0.00000</td>\n      <td>0.00000</td>\n      <td>0.00000</td>\n      <td>255.00000</td>\n      <td>0.00000</td>\n      <td>0.00000</td>\n      <td>0.00000</td>\n      <td>0.00000</td>\n      <td>0.00000</td>\n      <td>0.00000</td>\n      <td>0.00000</td>\n      <td>0.00000</td>\n      <td>0.00000</td>\n    </tr>\n    <tr>\n      <th>2</th>\n      <td>0.00884</td>\n      <td>0.05270</td>\n      <td>0.00000</td>\n      <td>0.00000</td>\n      <td>0.00000</td>\n      <td>0.00000</td>\n      <td>0.00000</td>\n      <td>0.00000</td>\n      <td>0.00000</td>\n      <td>0.00000</td>\n      <td>0.00000</td>\n      <td>0.00000</td>\n      <td>0.00000</td>\n      <td>0.00000</td>\n      <td>0.00000</td>\n      <td>0.00000</td>\n      <td>nan</td>\n      <td>0.00000</td>\n      <td>0.00000</td>\n      <td>0.49902</td>\n      <td>0.49902</td>\n      <td>0.00000</td>\n      <td>0.00000</td>\n      <td>0.00000</td>\n      <td>0.00000</td>\n      <td>255.00000</td>\n      <td>0.00000</td>\n      <td>0.00000</td>\n      <td>134.00000</td>\n      <td>86.00000</td>\n      <td>155.55000</td>\n      <td>10.20000</td>\n      <td>155.55000</td>\n      <td>5.10000</td>\n      <td>0.00000</td>\n      <td>0.00000</td>\n      <td>0.00000</td>\n      <td>0.00000</td>\n      <td>0.00000</td>\n      <td>255.00000</td>\n      <td>0.00000</td>\n      <td>0.00000</td>\n      <td>0.00000</td>\n      <td>0.00000</td>\n      <td>0.00000</td>\n      <td>0.00000</td>\n      <td>0.00000</td>\n      <td>0.00000</td>\n      <td>0.00000</td>\n      <td>0.00000</td>\n      <td>0.00000</td>\n      <td>0.00000</td>\n      <td>0.00000</td>\n      <td>0.00000</td>\n      <td>0.00000</td>\n      <td>0.00000</td>\n      <td>0.00000</td>\n      <td>0.00000</td>\n      <td>0.00000</td>\n      <td>0.00000</td>\n      <td>255.00000</td>\n      <td>0.00000</td>\n      <td>0.00000</td>\n      <td>0.00000</td>\n      <td>0.00000</td>\n      <td>0.00000</td>\n      <td>0.00000</td>\n      <td>0.00000</td>\n      <td>0.00000</td>\n      <td>0.00000</td>\n      <td>0.00000</td>\n      <td>0.00000</td>\n      <td>0.00000</td>\n      <td>0.00000</td>\n      <td>0.00000</td>\n      <td>0.00000</td>\n      <td>0.00000</td>\n      <td>0.00000</td>\n      <td>0.00000</td>\n      <td>0.00000</td>\n      <td>0.00000</td>\n      <td>0.00000</td>\n      <td>0.00000</td>\n      <td>0.00000</td>\n      <td>0.00000</td>\n      <td>0.00000</td>\n      <td>0.00000</td>\n      <td>0.00000</td>\n      <td>0.00000</td>\n      <td>0.00000</td>\n      <td>0.00000</td>\n      <td>0.00000</td>\n      <td>0.00000</td>\n      <td>0.00000</td>\n      <td>0.00000</td>\n      <td>0.00000</td>\n      <td>0.00000</td>\n      <td>0.00000</td>\n      <td>0.00000</td>\n      <td>0.00000</td>\n      <td>0.00000</td>\n      <td>0.00000</td>\n      <td>0.00000</td>\n      <td>0.00000</td>\n      <td>0.00000</td>\n      <td>0.00000</td>\n      <td>0.00000</td>\n      <td>0.00000</td>\n      <td>0.00000</td>\n      <td>0.00000</td>\n      <td>0.00000</td>\n      <td>0.00000</td>\n      <td>255.00000</td>\n      <td>0.00000</td>\n    </tr>\n    <tr>\n      <th>3</th>\n      <td>0.00000</td>\n      <td>0.00008</td>\n      <td>0.00000</td>\n      <td>0.00000</td>\n      <td>0.00000</td>\n      <td>0.00000</td>\n      <td>0.00000</td>\n      <td>0.00000</td>\n      <td>0.00000</td>\n      <td>0.00000</td>\n      <td>0.00000</td>\n      <td>0.00000</td>\n      <td>0.00000</td>\n      <td>0.00000</td>\n      <td>0.00000</td>\n      <td>0.00000</td>\n      <td>nan</td>\n      <td>0.00000</td>\n      <td>0.00000</td>\n      <td>0.49902</td>\n      <td>32.43640</td>\n      <td>0.00000</td>\n      <td>0.00000</td>\n      <td>0.00000</td>\n      <td>0.00000</td>\n      <td>255.00000</td>\n      <td>0.00000</td>\n      <td>255.00000</td>\n      <td>3.00000</td>\n      <td>57.00000</td>\n      <td>255.00000</td>\n      <td>0.00000</td>\n      <td>255.00000</td>\n      <td>71.40000</td>\n      <td>0.00000</td>\n      <td>0.00000</td>\n      <td>0.00000</td>\n      <td>0.00000</td>\n      <td>255.00000</td>\n      <td>0.00000</td>\n      <td>0.00000</td>\n      <td>0.00000</td>\n      <td>0.00000</td>\n      <td>0.00000</td>\n      <td>0.00000</td>\n      <td>0.00000</td>\n      <td>0.00000</td>\n      <td>0.00000</td>\n      <td>0.00000</td>\n      <td>0.00000</td>\n      <td>0.00000</td>\n      <td>0.00000</td>\n      <td>0.00000</td>\n      <td>0.00000</td>\n      <td>255.00000</td>\n      <td>0.00000</td>\n      <td>0.00000</td>\n      <td>0.00000</td>\n      <td>0.00000</td>\n      <td>0.00000</td>\n      <td>0.00000</td>\n      <td>0.00000</td>\n      <td>0.00000</td>\n      <td>0.00000</td>\n      <td>0.00000</td>\n      <td>0.00000</td>\n      <td>0.00000</td>\n      <td>0.00000</td>\n      <td>0.00000</td>\n      <td>0.00000</td>\n      <td>0.00000</td>\n      <td>0.00000</td>\n      <td>0.00000</td>\n      <td>0.00000</td>\n      <td>0.00000</td>\n      <td>0.00000</td>\n      <td>0.00000</td>\n      <td>0.00000</td>\n      <td>0.00000</td>\n      <td>0.00000</td>\n      <td>0.00000</td>\n      <td>0.00000</td>\n      <td>0.00000</td>\n      <td>0.00000</td>\n      <td>0.00000</td>\n      <td>0.00000</td>\n      <td>0.00000</td>\n      <td>0.00000</td>\n      <td>0.00000</td>\n      <td>0.00000</td>\n      <td>0.00000</td>\n      <td>0.00000</td>\n      <td>0.00000</td>\n      <td>0.00000</td>\n      <td>0.00000</td>\n      <td>0.00000</td>\n      <td>0.00000</td>\n      <td>0.00000</td>\n      <td>0.00000</td>\n      <td>0.00000</td>\n      <td>0.00000</td>\n      <td>0.00000</td>\n      <td>0.00000</td>\n      <td>0.00000</td>\n      <td>0.00000</td>\n      <td>0.00000</td>\n      <td>0.00000</td>\n      <td>0.00000</td>\n      <td>0.00000</td>\n      <td>0.00000</td>\n      <td>0.00000</td>\n      <td>0.00000</td>\n      <td>255.00000</td>\n      <td>0.00000</td>\n    </tr>\n    <tr>\n      <th>4</th>\n      <td>0.00442</td>\n      <td>0.00000</td>\n      <td>0.00284</td>\n      <td>0.00000</td>\n      <td>0.00000</td>\n      <td>0.00000</td>\n      <td>0.00000</td>\n      <td>0.00000</td>\n      <td>0.00000</td>\n      <td>0.00000</td>\n      <td>0.00000</td>\n      <td>0.00000</td>\n      <td>0.00000</td>\n      <td>0.00000</td>\n      <td>0.00000</td>\n      <td>0.00000</td>\n      <td>nan</td>\n      <td>0.00000</td>\n      <td>0.00000</td>\n      <td>0.49902</td>\n      <td>3.99217</td>\n      <td>0.00000</td>\n      <td>30.60000</td>\n      <td>255.00000</td>\n      <td>127.50000</td>\n      <td>255.00000</td>\n      <td>0.00000</td>\n      <td>191.25000</td>\n      <td>29.00000</td>\n      <td>86.00000</td>\n      <td>79.05000</td>\n      <td>43.35000</td>\n      <td>7.65000</td>\n      <td>5.10000</td>\n      <td>0.00000</td>\n      <td>0.00000</td>\n      <td>211.65000</td>\n      <td>181.05000</td>\n      <td>0.00000</td>\n      <td>255.00000</td>\n      <td>0.00000</td>\n      <td>0.00000</td>\n      <td>0.00000</td>\n      <td>0.00000</td>\n      <td>0.00000</td>\n      <td>0.00000</td>\n      <td>0.00000</td>\n      <td>0.00000</td>\n      <td>0.00000</td>\n      <td>0.00000</td>\n      <td>0.00000</td>\n      <td>0.00000</td>\n      <td>0.00000</td>\n      <td>0.00000</td>\n      <td>0.00000</td>\n      <td>0.00000</td>\n      <td>0.00000</td>\n      <td>0.00000</td>\n      <td>0.00000</td>\n      <td>0.00000</td>\n      <td>0.00000</td>\n      <td>0.00000</td>\n      <td>0.00000</td>\n      <td>0.00000</td>\n      <td>0.00000</td>\n      <td>0.00000</td>\n      <td>0.00000</td>\n      <td>0.00000</td>\n      <td>0.00000</td>\n      <td>0.00000</td>\n      <td>0.00000</td>\n      <td>0.00000</td>\n      <td>0.00000</td>\n      <td>0.00000</td>\n      <td>0.00000</td>\n      <td>0.00000</td>\n      <td>0.00000</td>\n      <td>0.00000</td>\n      <td>0.00000</td>\n      <td>0.00000</td>\n      <td>0.00000</td>\n      <td>0.00000</td>\n      <td>0.00000</td>\n      <td>0.00000</td>\n      <td>0.00000</td>\n      <td>0.00000</td>\n      <td>0.00000</td>\n      <td>0.00000</td>\n      <td>0.00000</td>\n      <td>0.00000</td>\n      <td>0.00000</td>\n      <td>0.00000</td>\n      <td>0.00000</td>\n      <td>0.00000</td>\n      <td>255.00000</td>\n      <td>0.00000</td>\n      <td>0.00000</td>\n      <td>0.00000</td>\n      <td>0.00000</td>\n      <td>0.00000</td>\n      <td>0.00000</td>\n      <td>0.00000</td>\n      <td>0.00000</td>\n      <td>0.00000</td>\n      <td>0.00000</td>\n      <td>255.00000</td>\n      <td>0.00000</td>\n      <td>0.00000</td>\n      <td>0.00000</td>\n      <td>0.00000</td>\n      <td>0.00000</td>\n      <td>0.00000</td>\n      <td>0.00000</td>\n      <td>0.00000</td>\n    </tr>\n    <tr>\n      <th>...</th>\n      <td>...</td>\n      <td>...</td>\n      <td>...</td>\n      <td>...</td>\n      <td>...</td>\n      <td>...</td>\n      <td>...</td>\n      <td>...</td>\n      <td>...</td>\n      <td>...</td>\n      <td>...</td>\n      <td>...</td>\n      <td>...</td>\n      <td>...</td>\n      <td>...</td>\n      <td>...</td>\n      <td>...</td>\n      <td>...</td>\n      <td>...</td>\n      <td>...</td>\n      <td>...</td>\n      <td>...</td>\n      <td>...</td>\n      <td>...</td>\n      <td>...</td>\n      <td>...</td>\n      <td>...</td>\n      <td>...</td>\n      <td>...</td>\n      <td>...</td>\n      <td>...</td>\n      <td>...</td>\n      <td>...</td>\n      <td>...</td>\n      <td>...</td>\n      <td>...</td>\n      <td>...</td>\n      <td>...</td>\n      <td>...</td>\n      <td>...</td>\n      <td>...</td>\n      <td>...</td>\n      <td>...</td>\n      <td>...</td>\n      <td>...</td>\n      <td>...</td>\n      <td>...</td>\n      <td>...</td>\n      <td>...</td>\n      <td>...</td>\n      <td>...</td>\n      <td>...</td>\n      <td>...</td>\n      <td>...</td>\n      <td>...</td>\n      <td>...</td>\n      <td>...</td>\n      <td>...</td>\n      <td>...</td>\n      <td>...</td>\n      <td>...</td>\n      <td>...</td>\n      <td>...</td>\n      <td>...</td>\n      <td>...</td>\n      <td>...</td>\n      <td>...</td>\n      <td>...</td>\n      <td>...</td>\n      <td>...</td>\n      <td>...</td>\n      <td>...</td>\n      <td>...</td>\n      <td>...</td>\n      <td>...</td>\n      <td>...</td>\n      <td>...</td>\n      <td>...</td>\n      <td>...</td>\n      <td>...</td>\n      <td>...</td>\n      <td>...</td>\n      <td>...</td>\n      <td>...</td>\n      <td>...</td>\n      <td>...</td>\n      <td>...</td>\n      <td>...</td>\n      <td>...</td>\n      <td>...</td>\n      <td>...</td>\n      <td>...</td>\n      <td>...</td>\n      <td>...</td>\n      <td>...</td>\n      <td>...</td>\n      <td>...</td>\n      <td>...</td>\n      <td>...</td>\n      <td>...</td>\n      <td>...</td>\n      <td>...</td>\n      <td>...</td>\n      <td>...</td>\n      <td>...</td>\n      <td>...</td>\n      <td>...</td>\n      <td>...</td>\n      <td>...</td>\n      <td>...</td>\n      <td>...</td>\n      <td>...</td>\n      <td>...</td>\n      <td>...</td>\n    </tr>\n    <tr>\n      <th>22539</th>\n      <td>0.00000</td>\n      <td>0.00322</td>\n      <td>0.06309</td>\n      <td>0.00000</td>\n      <td>0.00000</td>\n      <td>0.00000</td>\n      <td>0.00000</td>\n      <td>0.00000</td>\n      <td>255.00000</td>\n      <td>0.00000</td>\n      <td>0.00000</td>\n      <td>0.00000</td>\n      <td>0.00000</td>\n      <td>0.00000</td>\n      <td>0.00000</td>\n      <td>0.00000</td>\n      <td>nan</td>\n      <td>0.00000</td>\n      <td>0.00000</td>\n      <td>0.49902</td>\n      <td>0.49902</td>\n      <td>0.00000</td>\n      <td>0.00000</td>\n      <td>0.00000</td>\n      <td>0.00000</td>\n      <td>255.00000</td>\n      <td>0.00000</td>\n      <td>0.00000</td>\n      <td>100.00000</td>\n      <td>141.00000</td>\n      <td>183.60000</td>\n      <td>15.30000</td>\n      <td>2.55000</td>\n      <td>2.55000</td>\n      <td>2.55000</td>\n      <td>0.00000</td>\n      <td>0.00000</td>\n      <td>0.00000</td>\n      <td>0.00000</td>\n      <td>255.00000</td>\n      <td>0.00000</td>\n      <td>0.00000</td>\n      <td>0.00000</td>\n      <td>0.00000</td>\n      <td>0.00000</td>\n      <td>0.00000</td>\n      <td>0.00000</td>\n      <td>0.00000</td>\n      <td>0.00000</td>\n      <td>0.00000</td>\n      <td>0.00000</td>\n      <td>0.00000</td>\n      <td>0.00000</td>\n      <td>0.00000</td>\n      <td>0.00000</td>\n      <td>0.00000</td>\n      <td>0.00000</td>\n      <td>0.00000</td>\n      <td>0.00000</td>\n      <td>0.00000</td>\n      <td>0.00000</td>\n      <td>0.00000</td>\n      <td>0.00000</td>\n      <td>0.00000</td>\n      <td>0.00000</td>\n      <td>0.00000</td>\n      <td>0.00000</td>\n      <td>0.00000</td>\n      <td>0.00000</td>\n      <td>0.00000</td>\n      <td>0.00000</td>\n      <td>0.00000</td>\n      <td>0.00000</td>\n      <td>0.00000</td>\n      <td>0.00000</td>\n      <td>0.00000</td>\n      <td>0.00000</td>\n      <td>0.00000</td>\n      <td>0.00000</td>\n      <td>0.00000</td>\n      <td>0.00000</td>\n      <td>0.00000</td>\n      <td>0.00000</td>\n      <td>0.00000</td>\n      <td>0.00000</td>\n      <td>0.00000</td>\n      <td>0.00000</td>\n      <td>0.00000</td>\n      <td>255.00000</td>\n      <td>0.00000</td>\n      <td>0.00000</td>\n      <td>0.00000</td>\n      <td>0.00000</td>\n      <td>0.00000</td>\n      <td>0.00000</td>\n      <td>0.00000</td>\n      <td>0.00000</td>\n      <td>0.00000</td>\n      <td>0.00000</td>\n      <td>0.00000</td>\n      <td>0.00000</td>\n      <td>0.00000</td>\n      <td>0.00000</td>\n      <td>0.00000</td>\n      <td>0.00000</td>\n      <td>0.00000</td>\n      <td>0.00000</td>\n      <td>0.00000</td>\n      <td>0.00000</td>\n      <td>0.00000</td>\n      <td>0.00000</td>\n      <td>0.00000</td>\n      <td>255.00000</td>\n      <td>0.00000</td>\n    </tr>\n    <tr>\n      <th>22540</th>\n      <td>0.00000</td>\n      <td>0.00129</td>\n      <td>0.17771</td>\n      <td>0.00000</td>\n      <td>0.00000</td>\n      <td>0.00000</td>\n      <td>0.00000</td>\n      <td>0.00000</td>\n      <td>255.00000</td>\n      <td>0.00000</td>\n      <td>0.00000</td>\n      <td>0.00000</td>\n      <td>0.00000</td>\n      <td>0.00000</td>\n      <td>0.00000</td>\n      <td>0.00000</td>\n      <td>nan</td>\n      <td>0.00000</td>\n      <td>0.00000</td>\n      <td>0.99804</td>\n      <td>5.48924</td>\n      <td>0.00000</td>\n      <td>0.00000</td>\n      <td>0.00000</td>\n      <td>0.00000</td>\n      <td>255.00000</td>\n      <td>0.00000</td>\n      <td>45.90000</td>\n      <td>197.00000</td>\n      <td>255.00000</td>\n      <td>255.00000</td>\n      <td>0.00000</td>\n      <td>2.55000</td>\n      <td>2.55000</td>\n      <td>2.55000</td>\n      <td>0.00000</td>\n      <td>0.00000</td>\n      <td>0.00000</td>\n      <td>0.00000</td>\n      <td>255.00000</td>\n      <td>0.00000</td>\n      <td>0.00000</td>\n      <td>0.00000</td>\n      <td>0.00000</td>\n      <td>0.00000</td>\n      <td>0.00000</td>\n      <td>0.00000</td>\n      <td>0.00000</td>\n      <td>0.00000</td>\n      <td>0.00000</td>\n      <td>0.00000</td>\n      <td>0.00000</td>\n      <td>0.00000</td>\n      <td>0.00000</td>\n      <td>0.00000</td>\n      <td>0.00000</td>\n      <td>0.00000</td>\n      <td>0.00000</td>\n      <td>0.00000</td>\n      <td>0.00000</td>\n      <td>0.00000</td>\n      <td>0.00000</td>\n      <td>0.00000</td>\n      <td>255.00000</td>\n      <td>0.00000</td>\n      <td>0.00000</td>\n      <td>0.00000</td>\n      <td>0.00000</td>\n      <td>0.00000</td>\n      <td>0.00000</td>\n      <td>0.00000</td>\n      <td>0.00000</td>\n      <td>0.00000</td>\n      <td>0.00000</td>\n      <td>0.00000</td>\n      <td>0.00000</td>\n      <td>0.00000</td>\n      <td>0.00000</td>\n      <td>0.00000</td>\n      <td>0.00000</td>\n      <td>0.00000</td>\n      <td>0.00000</td>\n      <td>0.00000</td>\n      <td>0.00000</td>\n      <td>0.00000</td>\n      <td>0.00000</td>\n      <td>0.00000</td>\n      <td>0.00000</td>\n      <td>0.00000</td>\n      <td>0.00000</td>\n      <td>0.00000</td>\n      <td>0.00000</td>\n      <td>0.00000</td>\n      <td>0.00000</td>\n      <td>0.00000</td>\n      <td>0.00000</td>\n      <td>0.00000</td>\n      <td>0.00000</td>\n      <td>0.00000</td>\n      <td>0.00000</td>\n      <td>0.00000</td>\n      <td>0.00000</td>\n      <td>0.00000</td>\n      <td>0.00000</td>\n      <td>0.00000</td>\n      <td>0.00000</td>\n      <td>0.00000</td>\n      <td>0.00000</td>\n      <td>0.00000</td>\n      <td>0.00000</td>\n      <td>0.00000</td>\n      <td>0.00000</td>\n      <td>255.00000</td>\n      <td>0.00000</td>\n    </tr>\n    <tr>\n      <th>22541</th>\n      <td>0.00000</td>\n      <td>0.22137</td>\n      <td>1.57517</td>\n      <td>0.00000</td>\n      <td>0.00000</td>\n      <td>0.00000</td>\n      <td>5.04950</td>\n      <td>0.00000</td>\n      <td>255.00000</td>\n      <td>0.32035</td>\n      <td>0.00000</td>\n      <td>0.00000</td>\n      <td>0.00000</td>\n      <td>0.00000</td>\n      <td>0.00000</td>\n      <td>0.00000</td>\n      <td>nan</td>\n      <td>0.00000</td>\n      <td>0.00000</td>\n      <td>2.49511</td>\n      <td>4.99022</td>\n      <td>0.00000</td>\n      <td>0.00000</td>\n      <td>0.00000</td>\n      <td>0.00000</td>\n      <td>255.00000</td>\n      <td>0.00000</td>\n      <td>51.00000</td>\n      <td>255.00000</td>\n      <td>255.00000</td>\n      <td>255.00000</td>\n      <td>0.00000</td>\n      <td>0.00000</td>\n      <td>0.00000</td>\n      <td>0.00000</td>\n      <td>0.00000</td>\n      <td>17.85000</td>\n      <td>17.85000</td>\n      <td>0.00000</td>\n      <td>255.00000</td>\n      <td>0.00000</td>\n      <td>0.00000</td>\n      <td>0.00000</td>\n      <td>0.00000</td>\n      <td>0.00000</td>\n      <td>0.00000</td>\n      <td>0.00000</td>\n      <td>0.00000</td>\n      <td>0.00000</td>\n      <td>0.00000</td>\n      <td>0.00000</td>\n      <td>0.00000</td>\n      <td>0.00000</td>\n      <td>0.00000</td>\n      <td>0.00000</td>\n      <td>0.00000</td>\n      <td>0.00000</td>\n      <td>0.00000</td>\n      <td>0.00000</td>\n      <td>0.00000</td>\n      <td>0.00000</td>\n      <td>0.00000</td>\n      <td>0.00000</td>\n      <td>255.00000</td>\n      <td>0.00000</td>\n      <td>0.00000</td>\n      <td>0.00000</td>\n      <td>0.00000</td>\n      <td>0.00000</td>\n      <td>0.00000</td>\n      <td>0.00000</td>\n      <td>0.00000</td>\n      <td>0.00000</td>\n      <td>0.00000</td>\n      <td>0.00000</td>\n      <td>0.00000</td>\n      <td>0.00000</td>\n      <td>0.00000</td>\n      <td>0.00000</td>\n      <td>0.00000</td>\n      <td>0.00000</td>\n      <td>0.00000</td>\n      <td>0.00000</td>\n      <td>0.00000</td>\n      <td>0.00000</td>\n      <td>0.00000</td>\n      <td>0.00000</td>\n      <td>0.00000</td>\n      <td>0.00000</td>\n      <td>0.00000</td>\n      <td>0.00000</td>\n      <td>0.00000</td>\n      <td>0.00000</td>\n      <td>0.00000</td>\n      <td>0.00000</td>\n      <td>0.00000</td>\n      <td>0.00000</td>\n      <td>0.00000</td>\n      <td>0.00000</td>\n      <td>0.00000</td>\n      <td>0.00000</td>\n      <td>0.00000</td>\n      <td>0.00000</td>\n      <td>0.00000</td>\n      <td>0.00000</td>\n      <td>0.00000</td>\n      <td>0.00000</td>\n      <td>0.00000</td>\n      <td>0.00000</td>\n      <td>0.00000</td>\n      <td>0.00000</td>\n      <td>0.00000</td>\n      <td>255.00000</td>\n      <td>0.00000</td>\n    </tr>\n    <tr>\n      <th>22542</th>\n      <td>0.00000</td>\n      <td>0.00017</td>\n      <td>0.00796</td>\n      <td>0.00000</td>\n      <td>0.00000</td>\n      <td>0.00000</td>\n      <td>0.00000</td>\n      <td>0.00000</td>\n      <td>0.00000</td>\n      <td>0.00000</td>\n      <td>0.00000</td>\n      <td>0.00000</td>\n      <td>0.00000</td>\n      <td>0.00000</td>\n      <td>0.00000</td>\n      <td>0.00000</td>\n      <td>nan</td>\n      <td>0.00000</td>\n      <td>0.00000</td>\n      <td>1.99609</td>\n      <td>2.99413</td>\n      <td>0.00000</td>\n      <td>0.00000</td>\n      <td>0.00000</td>\n      <td>0.00000</td>\n      <td>255.00000</td>\n      <td>0.00000</td>\n      <td>84.15000</td>\n      <td>255.00000</td>\n      <td>252.00000</td>\n      <td>252.45000</td>\n      <td>2.55000</td>\n      <td>0.00000</td>\n      <td>0.00000</td>\n      <td>0.00000</td>\n      <td>0.00000</td>\n      <td>0.00000</td>\n      <td>0.00000</td>\n      <td>0.00000</td>\n      <td>0.00000</td>\n      <td>255.00000</td>\n      <td>0.00000</td>\n      <td>0.00000</td>\n      <td>0.00000</td>\n      <td>0.00000</td>\n      <td>0.00000</td>\n      <td>0.00000</td>\n      <td>0.00000</td>\n      <td>0.00000</td>\n      <td>0.00000</td>\n      <td>0.00000</td>\n      <td>0.00000</td>\n      <td>255.00000</td>\n      <td>0.00000</td>\n      <td>0.00000</td>\n      <td>0.00000</td>\n      <td>0.00000</td>\n      <td>0.00000</td>\n      <td>0.00000</td>\n      <td>0.00000</td>\n      <td>0.00000</td>\n      <td>0.00000</td>\n      <td>0.00000</td>\n      <td>0.00000</td>\n      <td>0.00000</td>\n      <td>0.00000</td>\n      <td>0.00000</td>\n      <td>0.00000</td>\n      <td>0.00000</td>\n      <td>0.00000</td>\n      <td>0.00000</td>\n      <td>0.00000</td>\n      <td>0.00000</td>\n      <td>0.00000</td>\n      <td>0.00000</td>\n      <td>0.00000</td>\n      <td>0.00000</td>\n      <td>0.00000</td>\n      <td>0.00000</td>\n      <td>0.00000</td>\n      <td>0.00000</td>\n      <td>0.00000</td>\n      <td>0.00000</td>\n      <td>0.00000</td>\n      <td>0.00000</td>\n      <td>0.00000</td>\n      <td>0.00000</td>\n      <td>0.00000</td>\n      <td>0.00000</td>\n      <td>0.00000</td>\n      <td>0.00000</td>\n      <td>0.00000</td>\n      <td>0.00000</td>\n      <td>0.00000</td>\n      <td>0.00000</td>\n      <td>0.00000</td>\n      <td>0.00000</td>\n      <td>0.00000</td>\n      <td>0.00000</td>\n      <td>0.00000</td>\n      <td>0.00000</td>\n      <td>0.00000</td>\n      <td>0.00000</td>\n      <td>0.00000</td>\n      <td>0.00000</td>\n      <td>0.00000</td>\n      <td>0.00000</td>\n      <td>0.00000</td>\n      <td>0.00000</td>\n      <td>0.00000</td>\n      <td>0.00000</td>\n      <td>0.00000</td>\n      <td>255.00000</td>\n      <td>0.00000</td>\n    </tr>\n    <tr>\n      <th>22543</th>\n      <td>0.00000</td>\n      <td>0.00000</td>\n      <td>0.00000</td>\n      <td>0.00000</td>\n      <td>0.00000</td>\n      <td>0.00000</td>\n      <td>0.00000</td>\n      <td>0.00000</td>\n      <td>0.00000</td>\n      <td>0.00000</td>\n      <td>0.00000</td>\n      <td>0.00000</td>\n      <td>0.00000</td>\n      <td>0.00000</td>\n      <td>0.00000</td>\n      <td>0.00000</td>\n      <td>nan</td>\n      <td>0.00000</td>\n      <td>0.00000</td>\n      <td>1.99609</td>\n      <td>4.99022</td>\n      <td>0.00000</td>\n      <td>0.00000</td>\n      <td>255.00000</td>\n      <td>255.00000</td>\n      <td>63.75000</td>\n      <td>255.00000</td>\n      <td>255.00000</td>\n      <td>255.00000</td>\n      <td>21.00000</td>\n      <td>20.40000</td>\n      <td>7.65000</td>\n      <td>0.00000</td>\n      <td>0.00000</td>\n      <td>0.00000</td>\n      <td>0.00000</td>\n      <td>112.20000</td>\n      <td>255.00000</td>\n      <td>0.00000</td>\n      <td>255.00000</td>\n      <td>0.00000</td>\n      <td>0.00000</td>\n      <td>0.00000</td>\n      <td>0.00000</td>\n      <td>0.00000</td>\n      <td>0.00000</td>\n      <td>0.00000</td>\n      <td>0.00000</td>\n      <td>0.00000</td>\n      <td>0.00000</td>\n      <td>0.00000</td>\n      <td>0.00000</td>\n      <td>0.00000</td>\n      <td>0.00000</td>\n      <td>0.00000</td>\n      <td>0.00000</td>\n      <td>0.00000</td>\n      <td>0.00000</td>\n      <td>0.00000</td>\n      <td>0.00000</td>\n      <td>0.00000</td>\n      <td>0.00000</td>\n      <td>0.00000</td>\n      <td>0.00000</td>\n      <td>0.00000</td>\n      <td>0.00000</td>\n      <td>0.00000</td>\n      <td>0.00000</td>\n      <td>0.00000</td>\n      <td>0.00000</td>\n      <td>0.00000</td>\n      <td>0.00000</td>\n      <td>0.00000</td>\n      <td>0.00000</td>\n      <td>0.00000</td>\n      <td>0.00000</td>\n      <td>0.00000</td>\n      <td>0.00000</td>\n      <td>0.00000</td>\n      <td>0.00000</td>\n      <td>0.00000</td>\n      <td>0.00000</td>\n      <td>0.00000</td>\n      <td>0.00000</td>\n      <td>0.00000</td>\n      <td>0.00000</td>\n      <td>0.00000</td>\n      <td>0.00000</td>\n      <td>0.00000</td>\n      <td>0.00000</td>\n      <td>0.00000</td>\n      <td>255.00000</td>\n      <td>0.00000</td>\n      <td>0.00000</td>\n      <td>0.00000</td>\n      <td>0.00000</td>\n      <td>0.00000</td>\n      <td>0.00000</td>\n      <td>0.00000</td>\n      <td>0.00000</td>\n      <td>0.00000</td>\n      <td>0.00000</td>\n      <td>0.00000</td>\n      <td>0.00000</td>\n      <td>255.00000</td>\n      <td>0.00000</td>\n      <td>0.00000</td>\n      <td>0.00000</td>\n      <td>0.00000</td>\n      <td>0.00000</td>\n      <td>0.00000</td>\n      <td>0.00000</td>\n      <td>0.00000</td>\n      <td>0.00000</td>\n    </tr>\n  </tbody>\n</table>\n<p>22525 rows × 114 columns</p>\n</div>"
          },
          "metadata": {},
          "execution_count": 15
        }
      ]
    },
    {
      "cell_type": "code",
      "metadata": {
        "colab": {
          "base_uri": "https://localhost:8080/",
          "height": 422
        },
        "id": "faCyOzL6RuTj",
        "outputId": "c7c49c93-e459-46d2-a608-cb3143d64a9e"
      },
      "source": [
        "edited_xtrain['attack_type'] = xtrain['attack_type'].values\n",
        "\n",
        "edited_xtrain"
      ],
      "execution_count": 16,
      "outputs": [
        {
          "output_type": "execute_result",
          "data": {
            "text/plain": [
              "        duration  src_bytes  dst_bytes    land  wrong_fragment  urgent  \\\n",
              "0        0.00000    0.00009    0.00000 0.00000         0.00000 0.00000   \n",
              "1        0.00000    0.00003    0.00000 0.00000         0.00000 0.00000   \n",
              "2        0.00000    0.00000    0.00000 0.00000         0.00000 0.00000   \n",
              "3        0.00000    0.00004    0.00159 0.00000         0.00000 0.00000   \n",
              "4        0.00000    0.00004    0.00008 0.00000         0.00000 0.00000   \n",
              "...          ...        ...        ...     ...             ...     ...   \n",
              "125968   0.00000    0.00000    0.00000 0.00000         0.00000 0.00000   \n",
              "125969   0.04754    0.00002    0.00003 0.00000         0.00000 0.00000   \n",
              "125970   0.00000    0.00041    0.00007 0.00000         0.00000 0.00000   \n",
              "125971   0.00000    0.00000    0.00000 0.00000         0.00000 0.00000   \n",
              "125972   0.00000    0.00003    0.00000 0.00000         0.00000 0.00000   \n",
              "\n",
              "           hot  num_failed_logins  logged_in  num_compromised  root_shell  \\\n",
              "0      0.00000            0.00000    0.00000          0.00000     0.00000   \n",
              "1      0.00000            0.00000    0.00000          0.00000     0.00000   \n",
              "2      0.00000            0.00000    0.00000          0.00000     0.00000   \n",
              "3      0.00000            0.00000  255.00000          0.00000     0.00000   \n",
              "4      0.00000            0.00000  255.00000          0.00000     0.00000   \n",
              "...        ...                ...        ...              ...         ...   \n",
              "125968 0.00000            0.00000    0.00000          0.00000     0.00000   \n",
              "125969 0.00000            0.00000    0.00000          0.00000     0.00000   \n",
              "125970 0.00000            0.00000  255.00000          0.00000     0.00000   \n",
              "125971 0.00000            0.00000    0.00000          0.00000     0.00000   \n",
              "125972 0.00000            0.00000  255.00000          0.00000     0.00000   \n",
              "\n",
              "        su_attempted  num_root  num_file_creations  num_shells  \\\n",
              "0            0.00000   0.00000             0.00000     0.00000   \n",
              "1            0.00000   0.00000             0.00000     0.00000   \n",
              "2            0.00000   0.00000             0.00000     0.00000   \n",
              "3            0.00000   0.00000             0.00000     0.00000   \n",
              "4            0.00000   0.00000             0.00000     0.00000   \n",
              "...              ...       ...                 ...         ...   \n",
              "125968       0.00000   0.00000             0.00000     0.00000   \n",
              "125969       0.00000   0.00000             0.00000     0.00000   \n",
              "125970       0.00000   0.00000             0.00000     0.00000   \n",
              "125971       0.00000   0.00000             0.00000     0.00000   \n",
              "125972       0.00000   0.00000             0.00000     0.00000   \n",
              "\n",
              "        num_access_files  num_outbound_cmds  is_host_login  is_guest_login  \\\n",
              "0                0.00000                nan        0.00000         0.00000   \n",
              "1                0.00000                nan        0.00000         0.00000   \n",
              "2                0.00000                nan        0.00000         0.00000   \n",
              "3                0.00000                nan        0.00000         0.00000   \n",
              "4                0.00000                nan        0.00000         0.00000   \n",
              "...                  ...                ...            ...             ...   \n",
              "125968           0.00000                nan        0.00000         0.00000   \n",
              "125969           0.00000                nan        0.00000         0.00000   \n",
              "125970           0.00000                nan        0.00000         0.00000   \n",
              "125971           0.00000                nan        0.00000         0.00000   \n",
              "125972           0.00000                nan        0.00000         0.00000   \n",
              "\n",
              "          count  srv_count  serror_rate  srv_serror_rate  rerror_rate  \\\n",
              "0       0.99804    0.99804      0.00000          0.00000      0.00000   \n",
              "1       6.48728    0.49902      0.00000          0.00000      0.00000   \n",
              "2      61.37965    2.99413    255.00000        255.00000      0.00000   \n",
              "3       2.49511    2.49511     51.00000         51.00000      0.00000   \n",
              "4      14.97065   15.96869      0.00000          0.00000      0.00000   \n",
              "...         ...        ...          ...              ...          ...   \n",
              "125968 91.81996   12.47554    255.00000        255.00000      0.00000   \n",
              "125969  0.99804    0.99804      0.00000          0.00000      0.00000   \n",
              "125970  0.49902    0.49902      0.00000          0.00000      0.00000   \n",
              "125971 71.85910    3.99217    255.00000        255.00000      0.00000   \n",
              "125972  0.49902    0.49902      0.00000          0.00000      0.00000   \n",
              "\n",
              "        srv_rerror_rate  same_srv_rate  diff_srv_rate  srv_diff_host_rate  \\\n",
              "0               0.00000      255.00000        0.00000             0.00000   \n",
              "1               0.00000       20.40000       38.25000             0.00000   \n",
              "2               0.00000       12.75000       17.85000             0.00000   \n",
              "3               0.00000      255.00000        0.00000             0.00000   \n",
              "4               0.00000      255.00000        0.00000            22.95000   \n",
              "...                 ...            ...            ...                 ...   \n",
              "125968          0.00000       35.70000       15.30000             0.00000   \n",
              "125969          0.00000      255.00000        0.00000             0.00000   \n",
              "125970          0.00000      255.00000        0.00000             0.00000   \n",
              "125971          0.00000       15.30000       12.75000             0.00000   \n",
              "125972          0.00000      255.00000        0.00000             0.00000   \n",
              "\n",
              "        dst_host_count  dst_host_srv_count  dst_host_same_srv_rate  \\\n",
              "0            150.00000            25.00000                43.35000   \n",
              "1            255.00000             1.00000                 0.00000   \n",
              "2            255.00000            26.00000                25.50000   \n",
              "3             30.00000           255.00000               255.00000   \n",
              "4            255.00000           255.00000               255.00000   \n",
              "...                ...                 ...                     ...   \n",
              "125968       255.00000            25.00000                25.50000   \n",
              "125969       255.00000           244.00000               244.80000   \n",
              "125970       255.00000            30.00000                30.60000   \n",
              "125971       255.00000             8.00000                 7.65000   \n",
              "125972       255.00000            77.00000                76.50000   \n",
              "\n",
              "        dst_host_diff_srv_rate  dst_host_same_src_port_rate  \\\n",
              "0                      7.65000                     43.35000   \n",
              "1                    153.00000                    224.40000   \n",
              "2                     12.75000                      0.00000   \n",
              "3                      0.00000                      7.65000   \n",
              "4                      0.00000                      0.00000   \n",
              "...                        ...                          ...   \n",
              "125968                15.30000                      0.00000   \n",
              "125969                 2.55000                      2.55000   \n",
              "125970                15.30000                      0.00000   \n",
              "125971                12.75000                      0.00000   \n",
              "125972                 7.65000                     76.50000   \n",
              "\n",
              "        dst_host_srv_diff_host_rate  dst_host_serror_rate  \\\n",
              "0                           0.00000               0.00000   \n",
              "1                           0.00000               0.00000   \n",
              "2                           0.00000             255.00000   \n",
              "3                          10.20000               7.65000   \n",
              "4                           0.00000               0.00000   \n",
              "...                             ...                   ...   \n",
              "125968                      0.00000             255.00000   \n",
              "125969                      0.00000               0.00000   \n",
              "125970                      0.00000             183.60000   \n",
              "125971                      0.00000             255.00000   \n",
              "125972                      0.00000               0.00000   \n",
              "\n",
              "        dst_host_srv_serror_rate  dst_host_rerror_rate  \\\n",
              "0                        0.00000              12.75000   \n",
              "1                        0.00000               0.00000   \n",
              "2                      255.00000               0.00000   \n",
              "3                        2.55000               0.00000   \n",
              "4                        0.00000               0.00000   \n",
              "...                          ...                   ...   \n",
              "125968                 255.00000               0.00000   \n",
              "125969                   0.00000               0.00000   \n",
              "125970                   0.00000               2.55000   \n",
              "125971                 255.00000               0.00000   \n",
              "125972                   0.00000               0.00000   \n",
              "\n",
              "        dst_host_srv_rerror_rate    icmp       tcp       udp     IRC     X11  \\\n",
              "0                        0.00000 0.00000 255.00000   0.00000 0.00000 0.00000   \n",
              "1                        0.00000 0.00000   0.00000 255.00000 0.00000 0.00000   \n",
              "2                        0.00000 0.00000 255.00000   0.00000 0.00000 0.00000   \n",
              "3                        2.55000 0.00000 255.00000   0.00000 0.00000 0.00000   \n",
              "4                        0.00000 0.00000 255.00000   0.00000 0.00000 0.00000   \n",
              "...                          ...     ...       ...       ...     ...     ...   \n",
              "125968                   0.00000 0.00000 255.00000   0.00000 0.00000 0.00000   \n",
              "125969                   0.00000 0.00000   0.00000 255.00000 0.00000 0.00000   \n",
              "125970                   0.00000 0.00000 255.00000   0.00000 0.00000 0.00000   \n",
              "125971                   0.00000 0.00000 255.00000   0.00000 0.00000 0.00000   \n",
              "125972                   0.00000 0.00000 255.00000   0.00000 0.00000 0.00000   \n",
              "\n",
              "        Z39_50    auth     bgp  courier  csnet_ns     ctf  daytime  discard  \\\n",
              "0      0.00000 0.00000 0.00000  0.00000   0.00000 0.00000  0.00000  0.00000   \n",
              "1      0.00000 0.00000 0.00000  0.00000   0.00000 0.00000  0.00000  0.00000   \n",
              "2      0.00000 0.00000 0.00000  0.00000   0.00000 0.00000  0.00000  0.00000   \n",
              "3      0.00000 0.00000 0.00000  0.00000   0.00000 0.00000  0.00000  0.00000   \n",
              "4      0.00000 0.00000 0.00000  0.00000   0.00000 0.00000  0.00000  0.00000   \n",
              "...        ...     ...     ...      ...       ...     ...      ...      ...   \n",
              "125968 0.00000 0.00000 0.00000  0.00000   0.00000 0.00000  0.00000  0.00000   \n",
              "125969 0.00000 0.00000 0.00000  0.00000   0.00000 0.00000  0.00000  0.00000   \n",
              "125970 0.00000 0.00000 0.00000  0.00000   0.00000 0.00000  0.00000  0.00000   \n",
              "125971 0.00000 0.00000 0.00000  0.00000   0.00000 0.00000  0.00000  0.00000   \n",
              "125972 0.00000 0.00000 0.00000  0.00000   0.00000 0.00000  0.00000  0.00000   \n",
              "\n",
              "        domain  domain_u    echo   eco_i   ecr_i     efs    exec  finger  \\\n",
              "0      0.00000   0.00000 0.00000 0.00000 0.00000 0.00000 0.00000 0.00000   \n",
              "1      0.00000   0.00000 0.00000 0.00000 0.00000 0.00000 0.00000 0.00000   \n",
              "2      0.00000   0.00000 0.00000 0.00000 0.00000 0.00000 0.00000 0.00000   \n",
              "3      0.00000   0.00000 0.00000 0.00000 0.00000 0.00000 0.00000 0.00000   \n",
              "4      0.00000   0.00000 0.00000 0.00000 0.00000 0.00000 0.00000 0.00000   \n",
              "...        ...       ...     ...     ...     ...     ...     ...     ...   \n",
              "125968 0.00000   0.00000 0.00000 0.00000 0.00000 0.00000 0.00000 0.00000   \n",
              "125969 0.00000   0.00000 0.00000 0.00000 0.00000 0.00000 0.00000 0.00000   \n",
              "125970 0.00000   0.00000 0.00000 0.00000 0.00000 0.00000 0.00000 0.00000   \n",
              "125971 0.00000   0.00000 0.00000 0.00000 0.00000 0.00000 0.00000 0.00000   \n",
              "125972 0.00000   0.00000 0.00000 0.00000 0.00000 0.00000 0.00000 0.00000   \n",
              "\n",
              "           ftp  ftp_data  gopher  hostnames      http  http_443   imap4  \\\n",
              "0      0.00000 255.00000 0.00000    0.00000   0.00000   0.00000 0.00000   \n",
              "1      0.00000   0.00000 0.00000    0.00000   0.00000   0.00000 0.00000   \n",
              "2      0.00000   0.00000 0.00000    0.00000   0.00000   0.00000 0.00000   \n",
              "3      0.00000   0.00000 0.00000    0.00000 255.00000   0.00000 0.00000   \n",
              "4      0.00000   0.00000 0.00000    0.00000 255.00000   0.00000 0.00000   \n",
              "...        ...       ...     ...        ...       ...       ...     ...   \n",
              "125968 0.00000   0.00000 0.00000    0.00000   0.00000   0.00000 0.00000   \n",
              "125969 0.00000   0.00000 0.00000    0.00000   0.00000   0.00000 0.00000   \n",
              "125970 0.00000   0.00000 0.00000    0.00000   0.00000   0.00000 0.00000   \n",
              "125971 0.00000   0.00000 0.00000    0.00000   0.00000   0.00000 0.00000   \n",
              "125972 0.00000 255.00000 0.00000    0.00000   0.00000   0.00000 0.00000   \n",
              "\n",
              "        iso_tsap    klogin  kshell    ldap    link   login     mtp    name  \\\n",
              "0        0.00000   0.00000 0.00000 0.00000 0.00000 0.00000 0.00000 0.00000   \n",
              "1        0.00000   0.00000 0.00000 0.00000 0.00000 0.00000 0.00000 0.00000   \n",
              "2        0.00000   0.00000 0.00000 0.00000 0.00000 0.00000 0.00000 0.00000   \n",
              "3        0.00000   0.00000 0.00000 0.00000 0.00000 0.00000 0.00000 0.00000   \n",
              "4        0.00000   0.00000 0.00000 0.00000 0.00000 0.00000 0.00000 0.00000   \n",
              "...          ...       ...     ...     ...     ...     ...     ...     ...   \n",
              "125968   0.00000   0.00000 0.00000 0.00000 0.00000 0.00000 0.00000 0.00000   \n",
              "125969   0.00000   0.00000 0.00000 0.00000 0.00000 0.00000 0.00000 0.00000   \n",
              "125970   0.00000   0.00000 0.00000 0.00000 0.00000 0.00000 0.00000 0.00000   \n",
              "125971   0.00000 255.00000 0.00000 0.00000 0.00000 0.00000 0.00000 0.00000   \n",
              "125972   0.00000   0.00000 0.00000 0.00000 0.00000 0.00000 0.00000 0.00000   \n",
              "\n",
              "        netbios_dgm  netbios_ns  netbios_ssn  netstat    nnsp    nntp   ntp_u  \\\n",
              "0           0.00000     0.00000      0.00000  0.00000 0.00000 0.00000 0.00000   \n",
              "1           0.00000     0.00000      0.00000  0.00000 0.00000 0.00000 0.00000   \n",
              "2           0.00000     0.00000      0.00000  0.00000 0.00000 0.00000 0.00000   \n",
              "3           0.00000     0.00000      0.00000  0.00000 0.00000 0.00000 0.00000   \n",
              "4           0.00000     0.00000      0.00000  0.00000 0.00000 0.00000 0.00000   \n",
              "...             ...         ...          ...      ...     ...     ...     ...   \n",
              "125968      0.00000     0.00000      0.00000  0.00000 0.00000 0.00000 0.00000   \n",
              "125969      0.00000     0.00000      0.00000  0.00000 0.00000 0.00000 0.00000   \n",
              "125970      0.00000     0.00000      0.00000  0.00000 0.00000 0.00000 0.00000   \n",
              "125971      0.00000     0.00000      0.00000  0.00000 0.00000 0.00000 0.00000   \n",
              "125972      0.00000     0.00000      0.00000  0.00000 0.00000 0.00000 0.00000   \n",
              "\n",
              "           other  pm_dump   pop_2   pop_3   private  remote_job   shell  \\\n",
              "0        0.00000  0.00000 0.00000 0.00000   0.00000     0.00000 0.00000   \n",
              "1      255.00000  0.00000 0.00000 0.00000   0.00000     0.00000 0.00000   \n",
              "2        0.00000  0.00000 0.00000 0.00000 255.00000     0.00000 0.00000   \n",
              "3        0.00000  0.00000 0.00000 0.00000   0.00000     0.00000 0.00000   \n",
              "4        0.00000  0.00000 0.00000 0.00000   0.00000     0.00000 0.00000   \n",
              "...          ...      ...     ...     ...       ...         ...     ...   \n",
              "125968   0.00000  0.00000 0.00000 0.00000 255.00000     0.00000 0.00000   \n",
              "125969   0.00000  0.00000 0.00000 0.00000 255.00000     0.00000 0.00000   \n",
              "125970   0.00000  0.00000 0.00000 0.00000   0.00000     0.00000 0.00000   \n",
              "125971   0.00000  0.00000 0.00000 0.00000   0.00000     0.00000 0.00000   \n",
              "125972   0.00000  0.00000 0.00000 0.00000   0.00000     0.00000 0.00000   \n",
              "\n",
              "            smtp  sql_net     ssh  sunrpc  supdup  systat  telnet  tftp_u  \\\n",
              "0        0.00000  0.00000 0.00000 0.00000 0.00000 0.00000 0.00000 0.00000   \n",
              "1        0.00000  0.00000 0.00000 0.00000 0.00000 0.00000 0.00000 0.00000   \n",
              "2        0.00000  0.00000 0.00000 0.00000 0.00000 0.00000 0.00000 0.00000   \n",
              "3        0.00000  0.00000 0.00000 0.00000 0.00000 0.00000 0.00000 0.00000   \n",
              "4        0.00000  0.00000 0.00000 0.00000 0.00000 0.00000 0.00000 0.00000   \n",
              "...          ...      ...     ...     ...     ...     ...     ...     ...   \n",
              "125968   0.00000  0.00000 0.00000 0.00000 0.00000 0.00000 0.00000 0.00000   \n",
              "125969   0.00000  0.00000 0.00000 0.00000 0.00000 0.00000 0.00000 0.00000   \n",
              "125970 255.00000  0.00000 0.00000 0.00000 0.00000 0.00000 0.00000 0.00000   \n",
              "125971   0.00000  0.00000 0.00000 0.00000 0.00000 0.00000 0.00000 0.00000   \n",
              "125972   0.00000  0.00000 0.00000 0.00000 0.00000 0.00000 0.00000 0.00000   \n",
              "\n",
              "         tim_i    time   urp_i    uucp  uucp_path   vmnet   whois     OTH  \\\n",
              "0      0.00000 0.00000 0.00000 0.00000    0.00000 0.00000 0.00000 0.00000   \n",
              "1      0.00000 0.00000 0.00000 0.00000    0.00000 0.00000 0.00000 0.00000   \n",
              "2      0.00000 0.00000 0.00000 0.00000    0.00000 0.00000 0.00000 0.00000   \n",
              "3      0.00000 0.00000 0.00000 0.00000    0.00000 0.00000 0.00000 0.00000   \n",
              "4      0.00000 0.00000 0.00000 0.00000    0.00000 0.00000 0.00000 0.00000   \n",
              "...        ...     ...     ...     ...        ...     ...     ...     ...   \n",
              "125968 0.00000 0.00000 0.00000 0.00000    0.00000 0.00000 0.00000 0.00000   \n",
              "125969 0.00000 0.00000 0.00000 0.00000    0.00000 0.00000 0.00000 0.00000   \n",
              "125970 0.00000 0.00000 0.00000 0.00000    0.00000 0.00000 0.00000 0.00000   \n",
              "125971 0.00000 0.00000 0.00000 0.00000    0.00000 0.00000 0.00000 0.00000   \n",
              "125972 0.00000 0.00000 0.00000 0.00000    0.00000 0.00000 0.00000 0.00000   \n",
              "\n",
              "           REJ    RSTO  RSTOS0    RSTR        S0      S1      S2      S3  \\\n",
              "0      0.00000 0.00000 0.00000 0.00000   0.00000 0.00000 0.00000 0.00000   \n",
              "1      0.00000 0.00000 0.00000 0.00000   0.00000 0.00000 0.00000 0.00000   \n",
              "2      0.00000 0.00000 0.00000 0.00000 255.00000 0.00000 0.00000 0.00000   \n",
              "3      0.00000 0.00000 0.00000 0.00000   0.00000 0.00000 0.00000 0.00000   \n",
              "4      0.00000 0.00000 0.00000 0.00000   0.00000 0.00000 0.00000 0.00000   \n",
              "...        ...     ...     ...     ...       ...     ...     ...     ...   \n",
              "125968 0.00000 0.00000 0.00000 0.00000 255.00000 0.00000 0.00000 0.00000   \n",
              "125969 0.00000 0.00000 0.00000 0.00000   0.00000 0.00000 0.00000 0.00000   \n",
              "125970 0.00000 0.00000 0.00000 0.00000   0.00000 0.00000 0.00000 0.00000   \n",
              "125971 0.00000 0.00000 0.00000 0.00000 255.00000 0.00000 0.00000 0.00000   \n",
              "125972 0.00000 0.00000 0.00000 0.00000   0.00000 0.00000 0.00000 0.00000   \n",
              "\n",
              "              SF      SH attack_type  \n",
              "0      255.00000 0.00000      normal  \n",
              "1      255.00000 0.00000      normal  \n",
              "2        0.00000 0.00000      attack  \n",
              "3      255.00000 0.00000      normal  \n",
              "4      255.00000 0.00000      normal  \n",
              "...          ...     ...         ...  \n",
              "125968   0.00000 0.00000      attack  \n",
              "125969 255.00000 0.00000      normal  \n",
              "125970 255.00000 0.00000      normal  \n",
              "125971   0.00000 0.00000      attack  \n",
              "125972 255.00000 0.00000      normal  \n",
              "\n",
              "[125793 rows x 115 columns]"
            ],
            "text/html": "<div>\n<style scoped>\n    .dataframe tbody tr th:only-of-type {\n        vertical-align: middle;\n    }\n\n    .dataframe tbody tr th {\n        vertical-align: top;\n    }\n\n    .dataframe thead th {\n        text-align: right;\n    }\n</style>\n<table border=\"1\" class=\"dataframe\">\n  <thead>\n    <tr style=\"text-align: right;\">\n      <th></th>\n      <th>duration</th>\n      <th>src_bytes</th>\n      <th>dst_bytes</th>\n      <th>land</th>\n      <th>wrong_fragment</th>\n      <th>urgent</th>\n      <th>hot</th>\n      <th>num_failed_logins</th>\n      <th>logged_in</th>\n      <th>num_compromised</th>\n      <th>root_shell</th>\n      <th>su_attempted</th>\n      <th>num_root</th>\n      <th>num_file_creations</th>\n      <th>num_shells</th>\n      <th>num_access_files</th>\n      <th>num_outbound_cmds</th>\n      <th>is_host_login</th>\n      <th>is_guest_login</th>\n      <th>count</th>\n      <th>srv_count</th>\n      <th>serror_rate</th>\n      <th>srv_serror_rate</th>\n      <th>rerror_rate</th>\n      <th>srv_rerror_rate</th>\n      <th>same_srv_rate</th>\n      <th>diff_srv_rate</th>\n      <th>srv_diff_host_rate</th>\n      <th>dst_host_count</th>\n      <th>dst_host_srv_count</th>\n      <th>dst_host_same_srv_rate</th>\n      <th>dst_host_diff_srv_rate</th>\n      <th>dst_host_same_src_port_rate</th>\n      <th>dst_host_srv_diff_host_rate</th>\n      <th>dst_host_serror_rate</th>\n      <th>dst_host_srv_serror_rate</th>\n      <th>dst_host_rerror_rate</th>\n      <th>dst_host_srv_rerror_rate</th>\n      <th>icmp</th>\n      <th>tcp</th>\n      <th>udp</th>\n      <th>IRC</th>\n      <th>X11</th>\n      <th>Z39_50</th>\n      <th>auth</th>\n      <th>bgp</th>\n      <th>courier</th>\n      <th>csnet_ns</th>\n      <th>ctf</th>\n      <th>daytime</th>\n      <th>discard</th>\n      <th>domain</th>\n      <th>domain_u</th>\n      <th>echo</th>\n      <th>eco_i</th>\n      <th>ecr_i</th>\n      <th>efs</th>\n      <th>exec</th>\n      <th>finger</th>\n      <th>ftp</th>\n      <th>ftp_data</th>\n      <th>gopher</th>\n      <th>hostnames</th>\n      <th>http</th>\n      <th>http_443</th>\n      <th>imap4</th>\n      <th>iso_tsap</th>\n      <th>klogin</th>\n      <th>kshell</th>\n      <th>ldap</th>\n      <th>link</th>\n      <th>login</th>\n      <th>mtp</th>\n      <th>name</th>\n      <th>netbios_dgm</th>\n      <th>netbios_ns</th>\n      <th>netbios_ssn</th>\n      <th>netstat</th>\n      <th>nnsp</th>\n      <th>nntp</th>\n      <th>ntp_u</th>\n      <th>other</th>\n      <th>pm_dump</th>\n      <th>pop_2</th>\n      <th>pop_3</th>\n      <th>private</th>\n      <th>remote_job</th>\n      <th>shell</th>\n      <th>smtp</th>\n      <th>sql_net</th>\n      <th>ssh</th>\n      <th>sunrpc</th>\n      <th>supdup</th>\n      <th>systat</th>\n      <th>telnet</th>\n      <th>tftp_u</th>\n      <th>tim_i</th>\n      <th>time</th>\n      <th>urp_i</th>\n      <th>uucp</th>\n      <th>uucp_path</th>\n      <th>vmnet</th>\n      <th>whois</th>\n      <th>OTH</th>\n      <th>REJ</th>\n      <th>RSTO</th>\n      <th>RSTOS0</th>\n      <th>RSTR</th>\n      <th>S0</th>\n      <th>S1</th>\n      <th>S2</th>\n      <th>S3</th>\n      <th>SF</th>\n      <th>SH</th>\n      <th>attack_type</th>\n    </tr>\n  </thead>\n  <tbody>\n    <tr>\n      <th>0</th>\n      <td>0.00000</td>\n      <td>0.00009</td>\n      <td>0.00000</td>\n      <td>0.00000</td>\n      <td>0.00000</td>\n      <td>0.00000</td>\n      <td>0.00000</td>\n      <td>0.00000</td>\n      <td>0.00000</td>\n      <td>0.00000</td>\n      <td>0.00000</td>\n      <td>0.00000</td>\n      <td>0.00000</td>\n      <td>0.00000</td>\n      <td>0.00000</td>\n      <td>0.00000</td>\n      <td>nan</td>\n      <td>0.00000</td>\n      <td>0.00000</td>\n      <td>0.99804</td>\n      <td>0.99804</td>\n      <td>0.00000</td>\n      <td>0.00000</td>\n      <td>0.00000</td>\n      <td>0.00000</td>\n      <td>255.00000</td>\n      <td>0.00000</td>\n      <td>0.00000</td>\n      <td>150.00000</td>\n      <td>25.00000</td>\n      <td>43.35000</td>\n      <td>7.65000</td>\n      <td>43.35000</td>\n      <td>0.00000</td>\n      <td>0.00000</td>\n      <td>0.00000</td>\n      <td>12.75000</td>\n      <td>0.00000</td>\n      <td>0.00000</td>\n      <td>255.00000</td>\n      <td>0.00000</td>\n      <td>0.00000</td>\n      <td>0.00000</td>\n      <td>0.00000</td>\n      <td>0.00000</td>\n      <td>0.00000</td>\n      <td>0.00000</td>\n      <td>0.00000</td>\n      <td>0.00000</td>\n      <td>0.00000</td>\n      <td>0.00000</td>\n      <td>0.00000</td>\n      <td>0.00000</td>\n      <td>0.00000</td>\n      <td>0.00000</td>\n      <td>0.00000</td>\n      <td>0.00000</td>\n      <td>0.00000</td>\n      <td>0.00000</td>\n      <td>0.00000</td>\n      <td>255.00000</td>\n      <td>0.00000</td>\n      <td>0.00000</td>\n      <td>0.00000</td>\n      <td>0.00000</td>\n      <td>0.00000</td>\n      <td>0.00000</td>\n      <td>0.00000</td>\n      <td>0.00000</td>\n      <td>0.00000</td>\n      <td>0.00000</td>\n      <td>0.00000</td>\n      <td>0.00000</td>\n      <td>0.00000</td>\n      <td>0.00000</td>\n      <td>0.00000</td>\n      <td>0.00000</td>\n      <td>0.00000</td>\n      <td>0.00000</td>\n      <td>0.00000</td>\n      <td>0.00000</td>\n      <td>0.00000</td>\n      <td>0.00000</td>\n      <td>0.00000</td>\n      <td>0.00000</td>\n      <td>0.00000</td>\n      <td>0.00000</td>\n      <td>0.00000</td>\n      <td>0.00000</td>\n      <td>0.00000</td>\n      <td>0.00000</td>\n      <td>0.00000</td>\n      <td>0.00000</td>\n      <td>0.00000</td>\n      <td>0.00000</td>\n      <td>0.00000</td>\n      <td>0.00000</td>\n      <td>0.00000</td>\n      <td>0.00000</td>\n      <td>0.00000</td>\n      <td>0.00000</td>\n      <td>0.00000</td>\n      <td>0.00000</td>\n      <td>0.00000</td>\n      <td>0.00000</td>\n      <td>0.00000</td>\n      <td>0.00000</td>\n      <td>0.00000</td>\n      <td>0.00000</td>\n      <td>0.00000</td>\n      <td>0.00000</td>\n      <td>0.00000</td>\n      <td>255.00000</td>\n      <td>0.00000</td>\n      <td>normal</td>\n    </tr>\n    <tr>\n      <th>1</th>\n      <td>0.00000</td>\n      <td>0.00003</td>\n      <td>0.00000</td>\n      <td>0.00000</td>\n      <td>0.00000</td>\n      <td>0.00000</td>\n      <td>0.00000</td>\n      <td>0.00000</td>\n      <td>0.00000</td>\n      <td>0.00000</td>\n      <td>0.00000</td>\n      <td>0.00000</td>\n      <td>0.00000</td>\n      <td>0.00000</td>\n      <td>0.00000</td>\n      <td>0.00000</td>\n      <td>nan</td>\n      <td>0.00000</td>\n      <td>0.00000</td>\n      <td>6.48728</td>\n      <td>0.49902</td>\n      <td>0.00000</td>\n      <td>0.00000</td>\n      <td>0.00000</td>\n      <td>0.00000</td>\n      <td>20.40000</td>\n      <td>38.25000</td>\n      <td>0.00000</td>\n      <td>255.00000</td>\n      <td>1.00000</td>\n      <td>0.00000</td>\n      <td>153.00000</td>\n      <td>224.40000</td>\n      <td>0.00000</td>\n      <td>0.00000</td>\n      <td>0.00000</td>\n      <td>0.00000</td>\n      <td>0.00000</td>\n      <td>0.00000</td>\n      <td>0.00000</td>\n      <td>255.00000</td>\n      <td>0.00000</td>\n      <td>0.00000</td>\n      <td>0.00000</td>\n      <td>0.00000</td>\n      <td>0.00000</td>\n      <td>0.00000</td>\n      <td>0.00000</td>\n      <td>0.00000</td>\n      <td>0.00000</td>\n      <td>0.00000</td>\n      <td>0.00000</td>\n      <td>0.00000</td>\n      <td>0.00000</td>\n      <td>0.00000</td>\n      <td>0.00000</td>\n      <td>0.00000</td>\n      <td>0.00000</td>\n      <td>0.00000</td>\n      <td>0.00000</td>\n      <td>0.00000</td>\n      <td>0.00000</td>\n      <td>0.00000</td>\n      <td>0.00000</td>\n      <td>0.00000</td>\n      <td>0.00000</td>\n      <td>0.00000</td>\n      <td>0.00000</td>\n      <td>0.00000</td>\n      <td>0.00000</td>\n      <td>0.00000</td>\n      <td>0.00000</td>\n      <td>0.00000</td>\n      <td>0.00000</td>\n      <td>0.00000</td>\n      <td>0.00000</td>\n      <td>0.00000</td>\n      <td>0.00000</td>\n      <td>0.00000</td>\n      <td>0.00000</td>\n      <td>0.00000</td>\n      <td>255.00000</td>\n      <td>0.00000</td>\n      <td>0.00000</td>\n      <td>0.00000</td>\n      <td>0.00000</td>\n      <td>0.00000</td>\n      <td>0.00000</td>\n      <td>0.00000</td>\n      <td>0.00000</td>\n      <td>0.00000</td>\n      <td>0.00000</td>\n      <td>0.00000</td>\n      <td>0.00000</td>\n      <td>0.00000</td>\n      <td>0.00000</td>\n      <td>0.00000</td>\n      <td>0.00000</td>\n      <td>0.00000</td>\n      <td>0.00000</td>\n      <td>0.00000</td>\n      <td>0.00000</td>\n      <td>0.00000</td>\n      <td>0.00000</td>\n      <td>0.00000</td>\n      <td>0.00000</td>\n      <td>0.00000</td>\n      <td>0.00000</td>\n      <td>0.00000</td>\n      <td>0.00000</td>\n      <td>0.00000</td>\n      <td>0.00000</td>\n      <td>255.00000</td>\n      <td>0.00000</td>\n      <td>normal</td>\n    </tr>\n    <tr>\n      <th>2</th>\n      <td>0.00000</td>\n      <td>0.00000</td>\n      <td>0.00000</td>\n      <td>0.00000</td>\n      <td>0.00000</td>\n      <td>0.00000</td>\n      <td>0.00000</td>\n      <td>0.00000</td>\n      <td>0.00000</td>\n      <td>0.00000</td>\n      <td>0.00000</td>\n      <td>0.00000</td>\n      <td>0.00000</td>\n      <td>0.00000</td>\n      <td>0.00000</td>\n      <td>0.00000</td>\n      <td>nan</td>\n      <td>0.00000</td>\n      <td>0.00000</td>\n      <td>61.37965</td>\n      <td>2.99413</td>\n      <td>255.00000</td>\n      <td>255.00000</td>\n      <td>0.00000</td>\n      <td>0.00000</td>\n      <td>12.75000</td>\n      <td>17.85000</td>\n      <td>0.00000</td>\n      <td>255.00000</td>\n      <td>26.00000</td>\n      <td>25.50000</td>\n      <td>12.75000</td>\n      <td>0.00000</td>\n      <td>0.00000</td>\n      <td>255.00000</td>\n      <td>255.00000</td>\n      <td>0.00000</td>\n      <td>0.00000</td>\n      <td>0.00000</td>\n      <td>255.00000</td>\n      <td>0.00000</td>\n      <td>0.00000</td>\n      <td>0.00000</td>\n      <td>0.00000</td>\n      <td>0.00000</td>\n      <td>0.00000</td>\n      <td>0.00000</td>\n      <td>0.00000</td>\n      <td>0.00000</td>\n      <td>0.00000</td>\n      <td>0.00000</td>\n      <td>0.00000</td>\n      <td>0.00000</td>\n      <td>0.00000</td>\n      <td>0.00000</td>\n      <td>0.00000</td>\n      <td>0.00000</td>\n      <td>0.00000</td>\n      <td>0.00000</td>\n      <td>0.00000</td>\n      <td>0.00000</td>\n      <td>0.00000</td>\n      <td>0.00000</td>\n      <td>0.00000</td>\n      <td>0.00000</td>\n      <td>0.00000</td>\n      <td>0.00000</td>\n      <td>0.00000</td>\n      <td>0.00000</td>\n      <td>0.00000</td>\n      <td>0.00000</td>\n      <td>0.00000</td>\n      <td>0.00000</td>\n      <td>0.00000</td>\n      <td>0.00000</td>\n      <td>0.00000</td>\n      <td>0.00000</td>\n      <td>0.00000</td>\n      <td>0.00000</td>\n      <td>0.00000</td>\n      <td>0.00000</td>\n      <td>0.00000</td>\n      <td>0.00000</td>\n      <td>0.00000</td>\n      <td>0.00000</td>\n      <td>255.00000</td>\n      <td>0.00000</td>\n      <td>0.00000</td>\n      <td>0.00000</td>\n      <td>0.00000</td>\n      <td>0.00000</td>\n      <td>0.00000</td>\n      <td>0.00000</td>\n      <td>0.00000</td>\n      <td>0.00000</td>\n      <td>0.00000</td>\n      <td>0.00000</td>\n      <td>0.00000</td>\n      <td>0.00000</td>\n      <td>0.00000</td>\n      <td>0.00000</td>\n      <td>0.00000</td>\n      <td>0.00000</td>\n      <td>0.00000</td>\n      <td>0.00000</td>\n      <td>0.00000</td>\n      <td>0.00000</td>\n      <td>0.00000</td>\n      <td>255.00000</td>\n      <td>0.00000</td>\n      <td>0.00000</td>\n      <td>0.00000</td>\n      <td>0.00000</td>\n      <td>0.00000</td>\n      <td>attack</td>\n    </tr>\n    <tr>\n      <th>3</th>\n      <td>0.00000</td>\n      <td>0.00004</td>\n      <td>0.00159</td>\n      <td>0.00000</td>\n      <td>0.00000</td>\n      <td>0.00000</td>\n      <td>0.00000</td>\n      <td>0.00000</td>\n      <td>255.00000</td>\n      <td>0.00000</td>\n      <td>0.00000</td>\n      <td>0.00000</td>\n      <td>0.00000</td>\n      <td>0.00000</td>\n      <td>0.00000</td>\n      <td>0.00000</td>\n      <td>nan</td>\n      <td>0.00000</td>\n      <td>0.00000</td>\n      <td>2.49511</td>\n      <td>2.49511</td>\n      <td>51.00000</td>\n      <td>51.00000</td>\n      <td>0.00000</td>\n      <td>0.00000</td>\n      <td>255.00000</td>\n      <td>0.00000</td>\n      <td>0.00000</td>\n      <td>30.00000</td>\n      <td>255.00000</td>\n      <td>255.00000</td>\n      <td>0.00000</td>\n      <td>7.65000</td>\n      <td>10.20000</td>\n      <td>7.65000</td>\n      <td>2.55000</td>\n      <td>0.00000</td>\n      <td>2.55000</td>\n      <td>0.00000</td>\n      <td>255.00000</td>\n      <td>0.00000</td>\n      <td>0.00000</td>\n      <td>0.00000</td>\n      <td>0.00000</td>\n      <td>0.00000</td>\n      <td>0.00000</td>\n      <td>0.00000</td>\n      <td>0.00000</td>\n      <td>0.00000</td>\n      <td>0.00000</td>\n      <td>0.00000</td>\n      <td>0.00000</td>\n      <td>0.00000</td>\n      <td>0.00000</td>\n      <td>0.00000</td>\n      <td>0.00000</td>\n      <td>0.00000</td>\n      <td>0.00000</td>\n      <td>0.00000</td>\n      <td>0.00000</td>\n      <td>0.00000</td>\n      <td>0.00000</td>\n      <td>0.00000</td>\n      <td>255.00000</td>\n      <td>0.00000</td>\n      <td>0.00000</td>\n      <td>0.00000</td>\n      <td>0.00000</td>\n      <td>0.00000</td>\n      <td>0.00000</td>\n      <td>0.00000</td>\n      <td>0.00000</td>\n      <td>0.00000</td>\n      <td>0.00000</td>\n      <td>0.00000</td>\n      <td>0.00000</td>\n      <td>0.00000</td>\n      <td>0.00000</td>\n      <td>0.00000</td>\n      <td>0.00000</td>\n      <td>0.00000</td>\n      <td>0.00000</td>\n      <td>0.00000</td>\n      <td>0.00000</td>\n      <td>0.00000</td>\n      <td>0.00000</td>\n      <td>0.00000</td>\n      <td>0.00000</td>\n      <td>0.00000</td>\n      <td>0.00000</td>\n      <td>0.00000</td>\n      <td>0.00000</td>\n      <td>0.00000</td>\n      <td>0.00000</td>\n      <td>0.00000</td>\n      <td>0.00000</td>\n      <td>0.00000</td>\n      <td>0.00000</td>\n      <td>0.00000</td>\n      <td>0.00000</td>\n      <td>0.00000</td>\n      <td>0.00000</td>\n      <td>0.00000</td>\n      <td>0.00000</td>\n      <td>0.00000</td>\n      <td>0.00000</td>\n      <td>0.00000</td>\n      <td>0.00000</td>\n      <td>0.00000</td>\n      <td>0.00000</td>\n      <td>0.00000</td>\n      <td>0.00000</td>\n      <td>255.00000</td>\n      <td>0.00000</td>\n      <td>normal</td>\n    </tr>\n    <tr>\n      <th>4</th>\n      <td>0.00000</td>\n      <td>0.00004</td>\n      <td>0.00008</td>\n      <td>0.00000</td>\n      <td>0.00000</td>\n      <td>0.00000</td>\n      <td>0.00000</td>\n      <td>0.00000</td>\n      <td>255.00000</td>\n      <td>0.00000</td>\n      <td>0.00000</td>\n      <td>0.00000</td>\n      <td>0.00000</td>\n      <td>0.00000</td>\n      <td>0.00000</td>\n      <td>0.00000</td>\n      <td>nan</td>\n      <td>0.00000</td>\n      <td>0.00000</td>\n      <td>14.97065</td>\n      <td>15.96869</td>\n      <td>0.00000</td>\n      <td>0.00000</td>\n      <td>0.00000</td>\n      <td>0.00000</td>\n      <td>255.00000</td>\n      <td>0.00000</td>\n      <td>22.95000</td>\n      <td>255.00000</td>\n      <td>255.00000</td>\n      <td>255.00000</td>\n      <td>0.00000</td>\n      <td>0.00000</td>\n      <td>0.00000</td>\n      <td>0.00000</td>\n      <td>0.00000</td>\n      <td>0.00000</td>\n      <td>0.00000</td>\n      <td>0.00000</td>\n      <td>255.00000</td>\n      <td>0.00000</td>\n      <td>0.00000</td>\n      <td>0.00000</td>\n      <td>0.00000</td>\n      <td>0.00000</td>\n      <td>0.00000</td>\n      <td>0.00000</td>\n      <td>0.00000</td>\n      <td>0.00000</td>\n      <td>0.00000</td>\n      <td>0.00000</td>\n      <td>0.00000</td>\n      <td>0.00000</td>\n      <td>0.00000</td>\n      <td>0.00000</td>\n      <td>0.00000</td>\n      <td>0.00000</td>\n      <td>0.00000</td>\n      <td>0.00000</td>\n      <td>0.00000</td>\n      <td>0.00000</td>\n      <td>0.00000</td>\n      <td>0.00000</td>\n      <td>255.00000</td>\n      <td>0.00000</td>\n      <td>0.00000</td>\n      <td>0.00000</td>\n      <td>0.00000</td>\n      <td>0.00000</td>\n      <td>0.00000</td>\n      <td>0.00000</td>\n      <td>0.00000</td>\n      <td>0.00000</td>\n      <td>0.00000</td>\n      <td>0.00000</td>\n      <td>0.00000</td>\n      <td>0.00000</td>\n      <td>0.00000</td>\n      <td>0.00000</td>\n      <td>0.00000</td>\n      <td>0.00000</td>\n      <td>0.00000</td>\n      <td>0.00000</td>\n      <td>0.00000</td>\n      <td>0.00000</td>\n      <td>0.00000</td>\n      <td>0.00000</td>\n      <td>0.00000</td>\n      <td>0.00000</td>\n      <td>0.00000</td>\n      <td>0.00000</td>\n      <td>0.00000</td>\n      <td>0.00000</td>\n      <td>0.00000</td>\n      <td>0.00000</td>\n      <td>0.00000</td>\n      <td>0.00000</td>\n      <td>0.00000</td>\n      <td>0.00000</td>\n      <td>0.00000</td>\n      <td>0.00000</td>\n      <td>0.00000</td>\n      <td>0.00000</td>\n      <td>0.00000</td>\n      <td>0.00000</td>\n      <td>0.00000</td>\n      <td>0.00000</td>\n      <td>0.00000</td>\n      <td>0.00000</td>\n      <td>0.00000</td>\n      <td>0.00000</td>\n      <td>0.00000</td>\n      <td>255.00000</td>\n      <td>0.00000</td>\n      <td>normal</td>\n    </tr>\n    <tr>\n      <th>...</th>\n      <td>...</td>\n      <td>...</td>\n      <td>...</td>\n      <td>...</td>\n      <td>...</td>\n      <td>...</td>\n      <td>...</td>\n      <td>...</td>\n      <td>...</td>\n      <td>...</td>\n      <td>...</td>\n      <td>...</td>\n      <td>...</td>\n      <td>...</td>\n      <td>...</td>\n      <td>...</td>\n      <td>...</td>\n      <td>...</td>\n      <td>...</td>\n      <td>...</td>\n      <td>...</td>\n      <td>...</td>\n      <td>...</td>\n      <td>...</td>\n      <td>...</td>\n      <td>...</td>\n      <td>...</td>\n      <td>...</td>\n      <td>...</td>\n      <td>...</td>\n      <td>...</td>\n      <td>...</td>\n      <td>...</td>\n      <td>...</td>\n      <td>...</td>\n      <td>...</td>\n      <td>...</td>\n      <td>...</td>\n      <td>...</td>\n      <td>...</td>\n      <td>...</td>\n      <td>...</td>\n      <td>...</td>\n      <td>...</td>\n      <td>...</td>\n      <td>...</td>\n      <td>...</td>\n      <td>...</td>\n      <td>...</td>\n      <td>...</td>\n      <td>...</td>\n      <td>...</td>\n      <td>...</td>\n      <td>...</td>\n      <td>...</td>\n      <td>...</td>\n      <td>...</td>\n      <td>...</td>\n      <td>...</td>\n      <td>...</td>\n      <td>...</td>\n      <td>...</td>\n      <td>...</td>\n      <td>...</td>\n      <td>...</td>\n      <td>...</td>\n      <td>...</td>\n      <td>...</td>\n      <td>...</td>\n      <td>...</td>\n      <td>...</td>\n      <td>...</td>\n      <td>...</td>\n      <td>...</td>\n      <td>...</td>\n      <td>...</td>\n      <td>...</td>\n      <td>...</td>\n      <td>...</td>\n      <td>...</td>\n      <td>...</td>\n      <td>...</td>\n      <td>...</td>\n      <td>...</td>\n      <td>...</td>\n      <td>...</td>\n      <td>...</td>\n      <td>...</td>\n      <td>...</td>\n      <td>...</td>\n      <td>...</td>\n      <td>...</td>\n      <td>...</td>\n      <td>...</td>\n      <td>...</td>\n      <td>...</td>\n      <td>...</td>\n      <td>...</td>\n      <td>...</td>\n      <td>...</td>\n      <td>...</td>\n      <td>...</td>\n      <td>...</td>\n      <td>...</td>\n      <td>...</td>\n      <td>...</td>\n      <td>...</td>\n      <td>...</td>\n      <td>...</td>\n      <td>...</td>\n      <td>...</td>\n      <td>...</td>\n      <td>...</td>\n      <td>...</td>\n      <td>...</td>\n    </tr>\n    <tr>\n      <th>125968</th>\n      <td>0.00000</td>\n      <td>0.00000</td>\n      <td>0.00000</td>\n      <td>0.00000</td>\n      <td>0.00000</td>\n      <td>0.00000</td>\n      <td>0.00000</td>\n      <td>0.00000</td>\n      <td>0.00000</td>\n      <td>0.00000</td>\n      <td>0.00000</td>\n      <td>0.00000</td>\n      <td>0.00000</td>\n      <td>0.00000</td>\n      <td>0.00000</td>\n      <td>0.00000</td>\n      <td>nan</td>\n      <td>0.00000</td>\n      <td>0.00000</td>\n      <td>91.81996</td>\n      <td>12.47554</td>\n      <td>255.00000</td>\n      <td>255.00000</td>\n      <td>0.00000</td>\n      <td>0.00000</td>\n      <td>35.70000</td>\n      <td>15.30000</td>\n      <td>0.00000</td>\n      <td>255.00000</td>\n      <td>25.00000</td>\n      <td>25.50000</td>\n      <td>15.30000</td>\n      <td>0.00000</td>\n      <td>0.00000</td>\n      <td>255.00000</td>\n      <td>255.00000</td>\n      <td>0.00000</td>\n      <td>0.00000</td>\n      <td>0.00000</td>\n      <td>255.00000</td>\n      <td>0.00000</td>\n      <td>0.00000</td>\n      <td>0.00000</td>\n      <td>0.00000</td>\n      <td>0.00000</td>\n      <td>0.00000</td>\n      <td>0.00000</td>\n      <td>0.00000</td>\n      <td>0.00000</td>\n      <td>0.00000</td>\n      <td>0.00000</td>\n      <td>0.00000</td>\n      <td>0.00000</td>\n      <td>0.00000</td>\n      <td>0.00000</td>\n      <td>0.00000</td>\n      <td>0.00000</td>\n      <td>0.00000</td>\n      <td>0.00000</td>\n      <td>0.00000</td>\n      <td>0.00000</td>\n      <td>0.00000</td>\n      <td>0.00000</td>\n      <td>0.00000</td>\n      <td>0.00000</td>\n      <td>0.00000</td>\n      <td>0.00000</td>\n      <td>0.00000</td>\n      <td>0.00000</td>\n      <td>0.00000</td>\n      <td>0.00000</td>\n      <td>0.00000</td>\n      <td>0.00000</td>\n      <td>0.00000</td>\n      <td>0.00000</td>\n      <td>0.00000</td>\n      <td>0.00000</td>\n      <td>0.00000</td>\n      <td>0.00000</td>\n      <td>0.00000</td>\n      <td>0.00000</td>\n      <td>0.00000</td>\n      <td>0.00000</td>\n      <td>0.00000</td>\n      <td>0.00000</td>\n      <td>255.00000</td>\n      <td>0.00000</td>\n      <td>0.00000</td>\n      <td>0.00000</td>\n      <td>0.00000</td>\n      <td>0.00000</td>\n      <td>0.00000</td>\n      <td>0.00000</td>\n      <td>0.00000</td>\n      <td>0.00000</td>\n      <td>0.00000</td>\n      <td>0.00000</td>\n      <td>0.00000</td>\n      <td>0.00000</td>\n      <td>0.00000</td>\n      <td>0.00000</td>\n      <td>0.00000</td>\n      <td>0.00000</td>\n      <td>0.00000</td>\n      <td>0.00000</td>\n      <td>0.00000</td>\n      <td>0.00000</td>\n      <td>0.00000</td>\n      <td>255.00000</td>\n      <td>0.00000</td>\n      <td>0.00000</td>\n      <td>0.00000</td>\n      <td>0.00000</td>\n      <td>0.00000</td>\n      <td>attack</td>\n    </tr>\n    <tr>\n      <th>125969</th>\n      <td>0.04754</td>\n      <td>0.00002</td>\n      <td>0.00003</td>\n      <td>0.00000</td>\n      <td>0.00000</td>\n      <td>0.00000</td>\n      <td>0.00000</td>\n      <td>0.00000</td>\n      <td>0.00000</td>\n      <td>0.00000</td>\n      <td>0.00000</td>\n      <td>0.00000</td>\n      <td>0.00000</td>\n      <td>0.00000</td>\n      <td>0.00000</td>\n      <td>0.00000</td>\n      <td>nan</td>\n      <td>0.00000</td>\n      <td>0.00000</td>\n      <td>0.99804</td>\n      <td>0.99804</td>\n      <td>0.00000</td>\n      <td>0.00000</td>\n      <td>0.00000</td>\n      <td>0.00000</td>\n      <td>255.00000</td>\n      <td>0.00000</td>\n      <td>0.00000</td>\n      <td>255.00000</td>\n      <td>244.00000</td>\n      <td>244.80000</td>\n      <td>2.55000</td>\n      <td>2.55000</td>\n      <td>0.00000</td>\n      <td>0.00000</td>\n      <td>0.00000</td>\n      <td>0.00000</td>\n      <td>0.00000</td>\n      <td>0.00000</td>\n      <td>0.00000</td>\n      <td>255.00000</td>\n      <td>0.00000</td>\n      <td>0.00000</td>\n      <td>0.00000</td>\n      <td>0.00000</td>\n      <td>0.00000</td>\n      <td>0.00000</td>\n      <td>0.00000</td>\n      <td>0.00000</td>\n      <td>0.00000</td>\n      <td>0.00000</td>\n      <td>0.00000</td>\n      <td>0.00000</td>\n      <td>0.00000</td>\n      <td>0.00000</td>\n      <td>0.00000</td>\n      <td>0.00000</td>\n      <td>0.00000</td>\n      <td>0.00000</td>\n      <td>0.00000</td>\n      <td>0.00000</td>\n      <td>0.00000</td>\n      <td>0.00000</td>\n      <td>0.00000</td>\n      <td>0.00000</td>\n      <td>0.00000</td>\n      <td>0.00000</td>\n      <td>0.00000</td>\n      <td>0.00000</td>\n      <td>0.00000</td>\n      <td>0.00000</td>\n      <td>0.00000</td>\n      <td>0.00000</td>\n      <td>0.00000</td>\n      <td>0.00000</td>\n      <td>0.00000</td>\n      <td>0.00000</td>\n      <td>0.00000</td>\n      <td>0.00000</td>\n      <td>0.00000</td>\n      <td>0.00000</td>\n      <td>0.00000</td>\n      <td>0.00000</td>\n      <td>0.00000</td>\n      <td>0.00000</td>\n      <td>255.00000</td>\n      <td>0.00000</td>\n      <td>0.00000</td>\n      <td>0.00000</td>\n      <td>0.00000</td>\n      <td>0.00000</td>\n      <td>0.00000</td>\n      <td>0.00000</td>\n      <td>0.00000</td>\n      <td>0.00000</td>\n      <td>0.00000</td>\n      <td>0.00000</td>\n      <td>0.00000</td>\n      <td>0.00000</td>\n      <td>0.00000</td>\n      <td>0.00000</td>\n      <td>0.00000</td>\n      <td>0.00000</td>\n      <td>0.00000</td>\n      <td>0.00000</td>\n      <td>0.00000</td>\n      <td>0.00000</td>\n      <td>0.00000</td>\n      <td>0.00000</td>\n      <td>0.00000</td>\n      <td>0.00000</td>\n      <td>0.00000</td>\n      <td>255.00000</td>\n      <td>0.00000</td>\n      <td>normal</td>\n    </tr>\n    <tr>\n      <th>125970</th>\n      <td>0.00000</td>\n      <td>0.00041</td>\n      <td>0.00007</td>\n      <td>0.00000</td>\n      <td>0.00000</td>\n      <td>0.00000</td>\n      <td>0.00000</td>\n      <td>0.00000</td>\n      <td>255.00000</td>\n      <td>0.00000</td>\n      <td>0.00000</td>\n      <td>0.00000</td>\n      <td>0.00000</td>\n      <td>0.00000</td>\n      <td>0.00000</td>\n      <td>0.00000</td>\n      <td>nan</td>\n      <td>0.00000</td>\n      <td>0.00000</td>\n      <td>0.49902</td>\n      <td>0.49902</td>\n      <td>0.00000</td>\n      <td>0.00000</td>\n      <td>0.00000</td>\n      <td>0.00000</td>\n      <td>255.00000</td>\n      <td>0.00000</td>\n      <td>0.00000</td>\n      <td>255.00000</td>\n      <td>30.00000</td>\n      <td>30.60000</td>\n      <td>15.30000</td>\n      <td>0.00000</td>\n      <td>0.00000</td>\n      <td>183.60000</td>\n      <td>0.00000</td>\n      <td>2.55000</td>\n      <td>0.00000</td>\n      <td>0.00000</td>\n      <td>255.00000</td>\n      <td>0.00000</td>\n      <td>0.00000</td>\n      <td>0.00000</td>\n      <td>0.00000</td>\n      <td>0.00000</td>\n      <td>0.00000</td>\n      <td>0.00000</td>\n      <td>0.00000</td>\n      <td>0.00000</td>\n      <td>0.00000</td>\n      <td>0.00000</td>\n      <td>0.00000</td>\n      <td>0.00000</td>\n      <td>0.00000</td>\n      <td>0.00000</td>\n      <td>0.00000</td>\n      <td>0.00000</td>\n      <td>0.00000</td>\n      <td>0.00000</td>\n      <td>0.00000</td>\n      <td>0.00000</td>\n      <td>0.00000</td>\n      <td>0.00000</td>\n      <td>0.00000</td>\n      <td>0.00000</td>\n      <td>0.00000</td>\n      <td>0.00000</td>\n      <td>0.00000</td>\n      <td>0.00000</td>\n      <td>0.00000</td>\n      <td>0.00000</td>\n      <td>0.00000</td>\n      <td>0.00000</td>\n      <td>0.00000</td>\n      <td>0.00000</td>\n      <td>0.00000</td>\n      <td>0.00000</td>\n      <td>0.00000</td>\n      <td>0.00000</td>\n      <td>0.00000</td>\n      <td>0.00000</td>\n      <td>0.00000</td>\n      <td>0.00000</td>\n      <td>0.00000</td>\n      <td>0.00000</td>\n      <td>0.00000</td>\n      <td>0.00000</td>\n      <td>0.00000</td>\n      <td>255.00000</td>\n      <td>0.00000</td>\n      <td>0.00000</td>\n      <td>0.00000</td>\n      <td>0.00000</td>\n      <td>0.00000</td>\n      <td>0.00000</td>\n      <td>0.00000</td>\n      <td>0.00000</td>\n      <td>0.00000</td>\n      <td>0.00000</td>\n      <td>0.00000</td>\n      <td>0.00000</td>\n      <td>0.00000</td>\n      <td>0.00000</td>\n      <td>0.00000</td>\n      <td>0.00000</td>\n      <td>0.00000</td>\n      <td>0.00000</td>\n      <td>0.00000</td>\n      <td>0.00000</td>\n      <td>0.00000</td>\n      <td>0.00000</td>\n      <td>0.00000</td>\n      <td>255.00000</td>\n      <td>0.00000</td>\n      <td>normal</td>\n    </tr>\n    <tr>\n      <th>125971</th>\n      <td>0.00000</td>\n      <td>0.00000</td>\n      <td>0.00000</td>\n      <td>0.00000</td>\n      <td>0.00000</td>\n      <td>0.00000</td>\n      <td>0.00000</td>\n      <td>0.00000</td>\n      <td>0.00000</td>\n      <td>0.00000</td>\n      <td>0.00000</td>\n      <td>0.00000</td>\n      <td>0.00000</td>\n      <td>0.00000</td>\n      <td>0.00000</td>\n      <td>0.00000</td>\n      <td>nan</td>\n      <td>0.00000</td>\n      <td>0.00000</td>\n      <td>71.85910</td>\n      <td>3.99217</td>\n      <td>255.00000</td>\n      <td>255.00000</td>\n      <td>0.00000</td>\n      <td>0.00000</td>\n      <td>15.30000</td>\n      <td>12.75000</td>\n      <td>0.00000</td>\n      <td>255.00000</td>\n      <td>8.00000</td>\n      <td>7.65000</td>\n      <td>12.75000</td>\n      <td>0.00000</td>\n      <td>0.00000</td>\n      <td>255.00000</td>\n      <td>255.00000</td>\n      <td>0.00000</td>\n      <td>0.00000</td>\n      <td>0.00000</td>\n      <td>255.00000</td>\n      <td>0.00000</td>\n      <td>0.00000</td>\n      <td>0.00000</td>\n      <td>0.00000</td>\n      <td>0.00000</td>\n      <td>0.00000</td>\n      <td>0.00000</td>\n      <td>0.00000</td>\n      <td>0.00000</td>\n      <td>0.00000</td>\n      <td>0.00000</td>\n      <td>0.00000</td>\n      <td>0.00000</td>\n      <td>0.00000</td>\n      <td>0.00000</td>\n      <td>0.00000</td>\n      <td>0.00000</td>\n      <td>0.00000</td>\n      <td>0.00000</td>\n      <td>0.00000</td>\n      <td>0.00000</td>\n      <td>0.00000</td>\n      <td>0.00000</td>\n      <td>0.00000</td>\n      <td>0.00000</td>\n      <td>0.00000</td>\n      <td>0.00000</td>\n      <td>255.00000</td>\n      <td>0.00000</td>\n      <td>0.00000</td>\n      <td>0.00000</td>\n      <td>0.00000</td>\n      <td>0.00000</td>\n      <td>0.00000</td>\n      <td>0.00000</td>\n      <td>0.00000</td>\n      <td>0.00000</td>\n      <td>0.00000</td>\n      <td>0.00000</td>\n      <td>0.00000</td>\n      <td>0.00000</td>\n      <td>0.00000</td>\n      <td>0.00000</td>\n      <td>0.00000</td>\n      <td>0.00000</td>\n      <td>0.00000</td>\n      <td>0.00000</td>\n      <td>0.00000</td>\n      <td>0.00000</td>\n      <td>0.00000</td>\n      <td>0.00000</td>\n      <td>0.00000</td>\n      <td>0.00000</td>\n      <td>0.00000</td>\n      <td>0.00000</td>\n      <td>0.00000</td>\n      <td>0.00000</td>\n      <td>0.00000</td>\n      <td>0.00000</td>\n      <td>0.00000</td>\n      <td>0.00000</td>\n      <td>0.00000</td>\n      <td>0.00000</td>\n      <td>0.00000</td>\n      <td>0.00000</td>\n      <td>0.00000</td>\n      <td>0.00000</td>\n      <td>0.00000</td>\n      <td>255.00000</td>\n      <td>0.00000</td>\n      <td>0.00000</td>\n      <td>0.00000</td>\n      <td>0.00000</td>\n      <td>0.00000</td>\n      <td>attack</td>\n    </tr>\n    <tr>\n      <th>125972</th>\n      <td>0.00000</td>\n      <td>0.00003</td>\n      <td>0.00000</td>\n      <td>0.00000</td>\n      <td>0.00000</td>\n      <td>0.00000</td>\n      <td>0.00000</td>\n      <td>0.00000</td>\n      <td>255.00000</td>\n      <td>0.00000</td>\n      <td>0.00000</td>\n      <td>0.00000</td>\n      <td>0.00000</td>\n      <td>0.00000</td>\n      <td>0.00000</td>\n      <td>0.00000</td>\n      <td>nan</td>\n      <td>0.00000</td>\n      <td>0.00000</td>\n      <td>0.49902</td>\n      <td>0.49902</td>\n      <td>0.00000</td>\n      <td>0.00000</td>\n      <td>0.00000</td>\n      <td>0.00000</td>\n      <td>255.00000</td>\n      <td>0.00000</td>\n      <td>0.00000</td>\n      <td>255.00000</td>\n      <td>77.00000</td>\n      <td>76.50000</td>\n      <td>7.65000</td>\n      <td>76.50000</td>\n      <td>0.00000</td>\n      <td>0.00000</td>\n      <td>0.00000</td>\n      <td>0.00000</td>\n      <td>0.00000</td>\n      <td>0.00000</td>\n      <td>255.00000</td>\n      <td>0.00000</td>\n      <td>0.00000</td>\n      <td>0.00000</td>\n      <td>0.00000</td>\n      <td>0.00000</td>\n      <td>0.00000</td>\n      <td>0.00000</td>\n      <td>0.00000</td>\n      <td>0.00000</td>\n      <td>0.00000</td>\n      <td>0.00000</td>\n      <td>0.00000</td>\n      <td>0.00000</td>\n      <td>0.00000</td>\n      <td>0.00000</td>\n      <td>0.00000</td>\n      <td>0.00000</td>\n      <td>0.00000</td>\n      <td>0.00000</td>\n      <td>0.00000</td>\n      <td>255.00000</td>\n      <td>0.00000</td>\n      <td>0.00000</td>\n      <td>0.00000</td>\n      <td>0.00000</td>\n      <td>0.00000</td>\n      <td>0.00000</td>\n      <td>0.00000</td>\n      <td>0.00000</td>\n      <td>0.00000</td>\n      <td>0.00000</td>\n      <td>0.00000</td>\n      <td>0.00000</td>\n      <td>0.00000</td>\n      <td>0.00000</td>\n      <td>0.00000</td>\n      <td>0.00000</td>\n      <td>0.00000</td>\n      <td>0.00000</td>\n      <td>0.00000</td>\n      <td>0.00000</td>\n      <td>0.00000</td>\n      <td>0.00000</td>\n      <td>0.00000</td>\n      <td>0.00000</td>\n      <td>0.00000</td>\n      <td>0.00000</td>\n      <td>0.00000</td>\n      <td>0.00000</td>\n      <td>0.00000</td>\n      <td>0.00000</td>\n      <td>0.00000</td>\n      <td>0.00000</td>\n      <td>0.00000</td>\n      <td>0.00000</td>\n      <td>0.00000</td>\n      <td>0.00000</td>\n      <td>0.00000</td>\n      <td>0.00000</td>\n      <td>0.00000</td>\n      <td>0.00000</td>\n      <td>0.00000</td>\n      <td>0.00000</td>\n      <td>0.00000</td>\n      <td>0.00000</td>\n      <td>0.00000</td>\n      <td>0.00000</td>\n      <td>0.00000</td>\n      <td>0.00000</td>\n      <td>0.00000</td>\n      <td>0.00000</td>\n      <td>0.00000</td>\n      <td>255.00000</td>\n      <td>0.00000</td>\n      <td>normal</td>\n    </tr>\n  </tbody>\n</table>\n<p>125793 rows × 115 columns</p>\n</div>"
          },
          "metadata": {},
          "execution_count": 16
        }
      ]
    },
    {
      "cell_type": "code",
      "metadata": {
        "colab": {
          "base_uri": "https://localhost:8080/",
          "height": 422
        },
        "id": "EKJ3CKpSTS92",
        "outputId": "86841fc1-7952-4c51-a33d-f944a772f844"
      },
      "source": [
        "edited_xtest['attack_type'] = xtest['attack_type'].values\n",
        "\n",
        "edited_xtest"
      ],
      "execution_count": 17,
      "outputs": [
        {
          "output_type": "execute_result",
          "data": {
            "text/plain": [
              "       duration  src_bytes  dst_bytes    land  wrong_fragment  urgent     hot  \\\n",
              "0       0.00000    0.00000    0.00000 0.00000         0.00000 0.00000 0.00000   \n",
              "1       0.00000    0.00000    0.00000 0.00000         0.00000 0.00000 0.00000   \n",
              "2       0.00884    0.05270    0.00000 0.00000         0.00000 0.00000 0.00000   \n",
              "3       0.00000    0.00008    0.00000 0.00000         0.00000 0.00000 0.00000   \n",
              "4       0.00442    0.00000    0.00284 0.00000         0.00000 0.00000 0.00000   \n",
              "...         ...        ...        ...     ...             ...     ...     ...   \n",
              "22539   0.00000    0.00322    0.06309 0.00000         0.00000 0.00000 0.00000   \n",
              "22540   0.00000    0.00129    0.17771 0.00000         0.00000 0.00000 0.00000   \n",
              "22541   0.00000    0.22137    1.57517 0.00000         0.00000 0.00000 5.04950   \n",
              "22542   0.00000    0.00017    0.00796 0.00000         0.00000 0.00000 0.00000   \n",
              "22543   0.00000    0.00000    0.00000 0.00000         0.00000 0.00000 0.00000   \n",
              "\n",
              "       num_failed_logins  logged_in  num_compromised  root_shell  \\\n",
              "0                0.00000    0.00000          0.00000     0.00000   \n",
              "1                0.00000    0.00000          0.00000     0.00000   \n",
              "2                0.00000    0.00000          0.00000     0.00000   \n",
              "3                0.00000    0.00000          0.00000     0.00000   \n",
              "4                0.00000    0.00000          0.00000     0.00000   \n",
              "...                  ...        ...              ...         ...   \n",
              "22539            0.00000  255.00000          0.00000     0.00000   \n",
              "22540            0.00000  255.00000          0.00000     0.00000   \n",
              "22541            0.00000  255.00000          0.32035     0.00000   \n",
              "22542            0.00000    0.00000          0.00000     0.00000   \n",
              "22543            0.00000    0.00000          0.00000     0.00000   \n",
              "\n",
              "       su_attempted  num_root  num_file_creations  num_shells  \\\n",
              "0           0.00000   0.00000             0.00000     0.00000   \n",
              "1           0.00000   0.00000             0.00000     0.00000   \n",
              "2           0.00000   0.00000             0.00000     0.00000   \n",
              "3           0.00000   0.00000             0.00000     0.00000   \n",
              "4           0.00000   0.00000             0.00000     0.00000   \n",
              "...             ...       ...                 ...         ...   \n",
              "22539       0.00000   0.00000             0.00000     0.00000   \n",
              "22540       0.00000   0.00000             0.00000     0.00000   \n",
              "22541       0.00000   0.00000             0.00000     0.00000   \n",
              "22542       0.00000   0.00000             0.00000     0.00000   \n",
              "22543       0.00000   0.00000             0.00000     0.00000   \n",
              "\n",
              "       num_access_files  num_outbound_cmds  is_host_login  is_guest_login  \\\n",
              "0               0.00000                nan        0.00000         0.00000   \n",
              "1               0.00000                nan        0.00000         0.00000   \n",
              "2               0.00000                nan        0.00000         0.00000   \n",
              "3               0.00000                nan        0.00000         0.00000   \n",
              "4               0.00000                nan        0.00000         0.00000   \n",
              "...                 ...                ...            ...             ...   \n",
              "22539           0.00000                nan        0.00000         0.00000   \n",
              "22540           0.00000                nan        0.00000         0.00000   \n",
              "22541           0.00000                nan        0.00000         0.00000   \n",
              "22542           0.00000                nan        0.00000         0.00000   \n",
              "22543           0.00000                nan        0.00000         0.00000   \n",
              "\n",
              "          count  srv_count  serror_rate  srv_serror_rate  rerror_rate  \\\n",
              "0     114.27593    4.99022      0.00000          0.00000    255.00000   \n",
              "1      67.86693    0.49902      0.00000          0.00000    255.00000   \n",
              "2       0.49902    0.49902      0.00000          0.00000      0.00000   \n",
              "3       0.49902   32.43640      0.00000          0.00000      0.00000   \n",
              "4       0.49902    3.99217      0.00000         30.60000    255.00000   \n",
              "...         ...        ...          ...              ...          ...   \n",
              "22539   0.49902    0.49902      0.00000          0.00000      0.00000   \n",
              "22540   0.99804    5.48924      0.00000          0.00000      0.00000   \n",
              "22541   2.49511    4.99022      0.00000          0.00000      0.00000   \n",
              "22542   1.99609    2.99413      0.00000          0.00000      0.00000   \n",
              "22543   1.99609    4.99022      0.00000          0.00000    255.00000   \n",
              "\n",
              "       srv_rerror_rate  same_srv_rate  diff_srv_rate  srv_diff_host_rate  \\\n",
              "0            255.00000       10.20000       15.30000             0.00000   \n",
              "1            255.00000        2.55000       15.30000             0.00000   \n",
              "2              0.00000      255.00000        0.00000             0.00000   \n",
              "3              0.00000      255.00000        0.00000           255.00000   \n",
              "4            127.50000      255.00000        0.00000           191.25000   \n",
              "...                ...            ...            ...                 ...   \n",
              "22539          0.00000      255.00000        0.00000             0.00000   \n",
              "22540          0.00000      255.00000        0.00000            45.90000   \n",
              "22541          0.00000      255.00000        0.00000            51.00000   \n",
              "22542          0.00000      255.00000        0.00000            84.15000   \n",
              "22543        255.00000       63.75000      255.00000           255.00000   \n",
              "\n",
              "       dst_host_count  dst_host_srv_count  dst_host_same_srv_rate  \\\n",
              "0           255.00000            10.00000                10.20000   \n",
              "1           255.00000             1.00000                 0.00000   \n",
              "2           134.00000            86.00000               155.55000   \n",
              "3             3.00000            57.00000               255.00000   \n",
              "4            29.00000            86.00000                79.05000   \n",
              "...               ...                 ...                     ...   \n",
              "22539       100.00000           141.00000               183.60000   \n",
              "22540       197.00000           255.00000               255.00000   \n",
              "22541       255.00000           255.00000               255.00000   \n",
              "22542       255.00000           252.00000               252.45000   \n",
              "22543       255.00000            21.00000                20.40000   \n",
              "\n",
              "       dst_host_diff_srv_rate  dst_host_same_src_port_rate  \\\n",
              "0                    15.30000                      0.00000   \n",
              "1                    15.30000                      0.00000   \n",
              "2                    10.20000                    155.55000   \n",
              "3                     0.00000                    255.00000   \n",
              "4                    43.35000                      7.65000   \n",
              "...                       ...                          ...   \n",
              "22539                15.30000                      2.55000   \n",
              "22540                 0.00000                      2.55000   \n",
              "22541                 0.00000                      0.00000   \n",
              "22542                 2.55000                      0.00000   \n",
              "22543                 7.65000                      0.00000   \n",
              "\n",
              "       dst_host_srv_diff_host_rate  dst_host_serror_rate  \\\n",
              "0                          0.00000               0.00000   \n",
              "1                          0.00000               0.00000   \n",
              "2                          5.10000               0.00000   \n",
              "3                         71.40000               0.00000   \n",
              "4                          5.10000               0.00000   \n",
              "...                            ...                   ...   \n",
              "22539                      2.55000               2.55000   \n",
              "22540                      2.55000               2.55000   \n",
              "22541                      0.00000               0.00000   \n",
              "22542                      0.00000               0.00000   \n",
              "22543                      0.00000               0.00000   \n",
              "\n",
              "       dst_host_srv_serror_rate  dst_host_rerror_rate  \\\n",
              "0                       0.00000             255.00000   \n",
              "1                       0.00000             255.00000   \n",
              "2                       0.00000               0.00000   \n",
              "3                       0.00000               0.00000   \n",
              "4                       0.00000             211.65000   \n",
              "...                         ...                   ...   \n",
              "22539                   0.00000               0.00000   \n",
              "22540                   0.00000               0.00000   \n",
              "22541                   0.00000              17.85000   \n",
              "22542                   0.00000               0.00000   \n",
              "22543                   0.00000             112.20000   \n",
              "\n",
              "       dst_host_srv_rerror_rate      icmp       tcp       udp     IRC     X11  \\\n",
              "0                     255.00000   0.00000 255.00000   0.00000 0.00000 0.00000   \n",
              "1                     255.00000   0.00000 255.00000   0.00000 0.00000 0.00000   \n",
              "2                       0.00000   0.00000 255.00000   0.00000 0.00000 0.00000   \n",
              "3                       0.00000 255.00000   0.00000   0.00000 0.00000 0.00000   \n",
              "4                     181.05000   0.00000 255.00000   0.00000 0.00000 0.00000   \n",
              "...                         ...       ...       ...       ...     ...     ...   \n",
              "22539                   0.00000   0.00000 255.00000   0.00000 0.00000 0.00000   \n",
              "22540                   0.00000   0.00000 255.00000   0.00000 0.00000 0.00000   \n",
              "22541                  17.85000   0.00000 255.00000   0.00000 0.00000 0.00000   \n",
              "22542                   0.00000   0.00000   0.00000 255.00000 0.00000 0.00000   \n",
              "22543                 255.00000   0.00000 255.00000   0.00000 0.00000 0.00000   \n",
              "\n",
              "       Z39_50    auth     bgp  courier  csnet_ns     ctf  daytime  discard  \\\n",
              "0     0.00000 0.00000 0.00000  0.00000   0.00000 0.00000  0.00000  0.00000   \n",
              "1     0.00000 0.00000 0.00000  0.00000   0.00000 0.00000  0.00000  0.00000   \n",
              "2     0.00000 0.00000 0.00000  0.00000   0.00000 0.00000  0.00000  0.00000   \n",
              "3     0.00000 0.00000 0.00000  0.00000   0.00000 0.00000  0.00000  0.00000   \n",
              "4     0.00000 0.00000 0.00000  0.00000   0.00000 0.00000  0.00000  0.00000   \n",
              "...       ...     ...     ...      ...       ...     ...      ...      ...   \n",
              "22539 0.00000 0.00000 0.00000  0.00000   0.00000 0.00000  0.00000  0.00000   \n",
              "22540 0.00000 0.00000 0.00000  0.00000   0.00000 0.00000  0.00000  0.00000   \n",
              "22541 0.00000 0.00000 0.00000  0.00000   0.00000 0.00000  0.00000  0.00000   \n",
              "22542 0.00000 0.00000 0.00000  0.00000   0.00000 0.00000  0.00000  0.00000   \n",
              "22543 0.00000 0.00000 0.00000  0.00000   0.00000 0.00000  0.00000  0.00000   \n",
              "\n",
              "       domain  domain_u    echo     eco_i   ecr_i     efs    exec  finger  \\\n",
              "0     0.00000   0.00000 0.00000   0.00000 0.00000 0.00000 0.00000 0.00000   \n",
              "1     0.00000   0.00000 0.00000   0.00000 0.00000 0.00000 0.00000 0.00000   \n",
              "2     0.00000   0.00000 0.00000   0.00000 0.00000 0.00000 0.00000 0.00000   \n",
              "3     0.00000   0.00000 0.00000 255.00000 0.00000 0.00000 0.00000 0.00000   \n",
              "4     0.00000   0.00000 0.00000   0.00000 0.00000 0.00000 0.00000 0.00000   \n",
              "...       ...       ...     ...       ...     ...     ...     ...     ...   \n",
              "22539 0.00000   0.00000 0.00000   0.00000 0.00000 0.00000 0.00000 0.00000   \n",
              "22540 0.00000   0.00000 0.00000   0.00000 0.00000 0.00000 0.00000 0.00000   \n",
              "22541 0.00000   0.00000 0.00000   0.00000 0.00000 0.00000 0.00000 0.00000   \n",
              "22542 0.00000 255.00000 0.00000   0.00000 0.00000 0.00000 0.00000 0.00000   \n",
              "22543 0.00000   0.00000 0.00000   0.00000 0.00000 0.00000 0.00000 0.00000   \n",
              "\n",
              "          ftp  ftp_data  gopher  hostnames      http  http_443   imap4  \\\n",
              "0     0.00000   0.00000 0.00000    0.00000   0.00000   0.00000 0.00000   \n",
              "1     0.00000   0.00000 0.00000    0.00000   0.00000   0.00000 0.00000   \n",
              "2     0.00000 255.00000 0.00000    0.00000   0.00000   0.00000 0.00000   \n",
              "3     0.00000   0.00000 0.00000    0.00000   0.00000   0.00000 0.00000   \n",
              "4     0.00000   0.00000 0.00000    0.00000   0.00000   0.00000 0.00000   \n",
              "...       ...       ...     ...        ...       ...       ...     ...   \n",
              "22539 0.00000   0.00000 0.00000    0.00000   0.00000   0.00000 0.00000   \n",
              "22540 0.00000   0.00000 0.00000    0.00000 255.00000   0.00000 0.00000   \n",
              "22541 0.00000   0.00000 0.00000    0.00000 255.00000   0.00000 0.00000   \n",
              "22542 0.00000   0.00000 0.00000    0.00000   0.00000   0.00000 0.00000   \n",
              "22543 0.00000   0.00000 0.00000    0.00000   0.00000   0.00000 0.00000   \n",
              "\n",
              "       iso_tsap  klogin  kshell    ldap    link   login     mtp    name  \\\n",
              "0       0.00000 0.00000 0.00000 0.00000 0.00000 0.00000 0.00000 0.00000   \n",
              "1       0.00000 0.00000 0.00000 0.00000 0.00000 0.00000 0.00000 0.00000   \n",
              "2       0.00000 0.00000 0.00000 0.00000 0.00000 0.00000 0.00000 0.00000   \n",
              "3       0.00000 0.00000 0.00000 0.00000 0.00000 0.00000 0.00000 0.00000   \n",
              "4       0.00000 0.00000 0.00000 0.00000 0.00000 0.00000 0.00000 0.00000   \n",
              "...         ...     ...     ...     ...     ...     ...     ...     ...   \n",
              "22539   0.00000 0.00000 0.00000 0.00000 0.00000 0.00000 0.00000 0.00000   \n",
              "22540   0.00000 0.00000 0.00000 0.00000 0.00000 0.00000 0.00000 0.00000   \n",
              "22541   0.00000 0.00000 0.00000 0.00000 0.00000 0.00000 0.00000 0.00000   \n",
              "22542   0.00000 0.00000 0.00000 0.00000 0.00000 0.00000 0.00000 0.00000   \n",
              "22543   0.00000 0.00000 0.00000 0.00000 0.00000 0.00000 0.00000 0.00000   \n",
              "\n",
              "       netbios_dgm  netbios_ns  netbios_ssn  netstat    nnsp    nntp   ntp_u  \\\n",
              "0          0.00000     0.00000      0.00000  0.00000 0.00000 0.00000 0.00000   \n",
              "1          0.00000     0.00000      0.00000  0.00000 0.00000 0.00000 0.00000   \n",
              "2          0.00000     0.00000      0.00000  0.00000 0.00000 0.00000 0.00000   \n",
              "3          0.00000     0.00000      0.00000  0.00000 0.00000 0.00000 0.00000   \n",
              "4          0.00000     0.00000      0.00000  0.00000 0.00000 0.00000 0.00000   \n",
              "...            ...         ...          ...      ...     ...     ...     ...   \n",
              "22539      0.00000     0.00000      0.00000  0.00000 0.00000 0.00000 0.00000   \n",
              "22540      0.00000     0.00000      0.00000  0.00000 0.00000 0.00000 0.00000   \n",
              "22541      0.00000     0.00000      0.00000  0.00000 0.00000 0.00000 0.00000   \n",
              "22542      0.00000     0.00000      0.00000  0.00000 0.00000 0.00000 0.00000   \n",
              "22543      0.00000     0.00000      0.00000  0.00000 0.00000 0.00000 0.00000   \n",
              "\n",
              "        other  pm_dump   pop_2   pop_3   private  remote_job   shell  \\\n",
              "0     0.00000  0.00000 0.00000 0.00000 255.00000     0.00000 0.00000   \n",
              "1     0.00000  0.00000 0.00000 0.00000 255.00000     0.00000 0.00000   \n",
              "2     0.00000  0.00000 0.00000 0.00000   0.00000     0.00000 0.00000   \n",
              "3     0.00000  0.00000 0.00000 0.00000   0.00000     0.00000 0.00000   \n",
              "4     0.00000  0.00000 0.00000 0.00000   0.00000     0.00000 0.00000   \n",
              "...       ...      ...     ...     ...       ...         ...     ...   \n",
              "22539 0.00000  0.00000 0.00000 0.00000   0.00000     0.00000 0.00000   \n",
              "22540 0.00000  0.00000 0.00000 0.00000   0.00000     0.00000 0.00000   \n",
              "22541 0.00000  0.00000 0.00000 0.00000   0.00000     0.00000 0.00000   \n",
              "22542 0.00000  0.00000 0.00000 0.00000   0.00000     0.00000 0.00000   \n",
              "22543 0.00000  0.00000 0.00000 0.00000   0.00000     0.00000 0.00000   \n",
              "\n",
              "           smtp  sql_net     ssh    sunrpc  supdup  systat    telnet  tftp_u  \\\n",
              "0       0.00000  0.00000 0.00000   0.00000 0.00000 0.00000   0.00000 0.00000   \n",
              "1       0.00000  0.00000 0.00000   0.00000 0.00000 0.00000   0.00000 0.00000   \n",
              "2       0.00000  0.00000 0.00000   0.00000 0.00000 0.00000   0.00000 0.00000   \n",
              "3       0.00000  0.00000 0.00000   0.00000 0.00000 0.00000   0.00000 0.00000   \n",
              "4       0.00000  0.00000 0.00000   0.00000 0.00000 0.00000 255.00000 0.00000   \n",
              "...         ...      ...     ...       ...     ...     ...       ...     ...   \n",
              "22539 255.00000  0.00000 0.00000   0.00000 0.00000 0.00000   0.00000 0.00000   \n",
              "22540   0.00000  0.00000 0.00000   0.00000 0.00000 0.00000   0.00000 0.00000   \n",
              "22541   0.00000  0.00000 0.00000   0.00000 0.00000 0.00000   0.00000 0.00000   \n",
              "22542   0.00000  0.00000 0.00000   0.00000 0.00000 0.00000   0.00000 0.00000   \n",
              "22543   0.00000  0.00000 0.00000 255.00000 0.00000 0.00000   0.00000 0.00000   \n",
              "\n",
              "        tim_i    time   urp_i    uucp  uucp_path   vmnet   whois     OTH  \\\n",
              "0     0.00000 0.00000 0.00000 0.00000    0.00000 0.00000 0.00000 0.00000   \n",
              "1     0.00000 0.00000 0.00000 0.00000    0.00000 0.00000 0.00000 0.00000   \n",
              "2     0.00000 0.00000 0.00000 0.00000    0.00000 0.00000 0.00000 0.00000   \n",
              "3     0.00000 0.00000 0.00000 0.00000    0.00000 0.00000 0.00000 0.00000   \n",
              "4     0.00000 0.00000 0.00000 0.00000    0.00000 0.00000 0.00000 0.00000   \n",
              "...       ...     ...     ...     ...        ...     ...     ...     ...   \n",
              "22539 0.00000 0.00000 0.00000 0.00000    0.00000 0.00000 0.00000 0.00000   \n",
              "22540 0.00000 0.00000 0.00000 0.00000    0.00000 0.00000 0.00000 0.00000   \n",
              "22541 0.00000 0.00000 0.00000 0.00000    0.00000 0.00000 0.00000 0.00000   \n",
              "22542 0.00000 0.00000 0.00000 0.00000    0.00000 0.00000 0.00000 0.00000   \n",
              "22543 0.00000 0.00000 0.00000 0.00000    0.00000 0.00000 0.00000 0.00000   \n",
              "\n",
              "            REJ      RSTO  RSTOS0    RSTR      S0      S1      S2      S3  \\\n",
              "0     255.00000   0.00000 0.00000 0.00000 0.00000 0.00000 0.00000 0.00000   \n",
              "1     255.00000   0.00000 0.00000 0.00000 0.00000 0.00000 0.00000 0.00000   \n",
              "2       0.00000   0.00000 0.00000 0.00000 0.00000 0.00000 0.00000 0.00000   \n",
              "3       0.00000   0.00000 0.00000 0.00000 0.00000 0.00000 0.00000 0.00000   \n",
              "4       0.00000 255.00000 0.00000 0.00000 0.00000 0.00000 0.00000 0.00000   \n",
              "...         ...       ...     ...     ...     ...     ...     ...     ...   \n",
              "22539   0.00000   0.00000 0.00000 0.00000 0.00000 0.00000 0.00000 0.00000   \n",
              "22540   0.00000   0.00000 0.00000 0.00000 0.00000 0.00000 0.00000 0.00000   \n",
              "22541   0.00000   0.00000 0.00000 0.00000 0.00000 0.00000 0.00000 0.00000   \n",
              "22542   0.00000   0.00000 0.00000 0.00000 0.00000 0.00000 0.00000 0.00000   \n",
              "22543 255.00000   0.00000 0.00000 0.00000 0.00000 0.00000 0.00000 0.00000   \n",
              "\n",
              "             SF      SH attack_type  \n",
              "0       0.00000 0.00000      attack  \n",
              "1       0.00000 0.00000      attack  \n",
              "2     255.00000 0.00000      normal  \n",
              "3     255.00000 0.00000      attack  \n",
              "4       0.00000 0.00000      attack  \n",
              "...         ...     ...         ...  \n",
              "22539 255.00000 0.00000      normal  \n",
              "22540 255.00000 0.00000      normal  \n",
              "22541 255.00000 0.00000      attack  \n",
              "22542 255.00000 0.00000      normal  \n",
              "22543   0.00000 0.00000      attack  \n",
              "\n",
              "[22525 rows x 115 columns]"
            ],
            "text/html": "<div>\n<style scoped>\n    .dataframe tbody tr th:only-of-type {\n        vertical-align: middle;\n    }\n\n    .dataframe tbody tr th {\n        vertical-align: top;\n    }\n\n    .dataframe thead th {\n        text-align: right;\n    }\n</style>\n<table border=\"1\" class=\"dataframe\">\n  <thead>\n    <tr style=\"text-align: right;\">\n      <th></th>\n      <th>duration</th>\n      <th>src_bytes</th>\n      <th>dst_bytes</th>\n      <th>land</th>\n      <th>wrong_fragment</th>\n      <th>urgent</th>\n      <th>hot</th>\n      <th>num_failed_logins</th>\n      <th>logged_in</th>\n      <th>num_compromised</th>\n      <th>root_shell</th>\n      <th>su_attempted</th>\n      <th>num_root</th>\n      <th>num_file_creations</th>\n      <th>num_shells</th>\n      <th>num_access_files</th>\n      <th>num_outbound_cmds</th>\n      <th>is_host_login</th>\n      <th>is_guest_login</th>\n      <th>count</th>\n      <th>srv_count</th>\n      <th>serror_rate</th>\n      <th>srv_serror_rate</th>\n      <th>rerror_rate</th>\n      <th>srv_rerror_rate</th>\n      <th>same_srv_rate</th>\n      <th>diff_srv_rate</th>\n      <th>srv_diff_host_rate</th>\n      <th>dst_host_count</th>\n      <th>dst_host_srv_count</th>\n      <th>dst_host_same_srv_rate</th>\n      <th>dst_host_diff_srv_rate</th>\n      <th>dst_host_same_src_port_rate</th>\n      <th>dst_host_srv_diff_host_rate</th>\n      <th>dst_host_serror_rate</th>\n      <th>dst_host_srv_serror_rate</th>\n      <th>dst_host_rerror_rate</th>\n      <th>dst_host_srv_rerror_rate</th>\n      <th>icmp</th>\n      <th>tcp</th>\n      <th>udp</th>\n      <th>IRC</th>\n      <th>X11</th>\n      <th>Z39_50</th>\n      <th>auth</th>\n      <th>bgp</th>\n      <th>courier</th>\n      <th>csnet_ns</th>\n      <th>ctf</th>\n      <th>daytime</th>\n      <th>discard</th>\n      <th>domain</th>\n      <th>domain_u</th>\n      <th>echo</th>\n      <th>eco_i</th>\n      <th>ecr_i</th>\n      <th>efs</th>\n      <th>exec</th>\n      <th>finger</th>\n      <th>ftp</th>\n      <th>ftp_data</th>\n      <th>gopher</th>\n      <th>hostnames</th>\n      <th>http</th>\n      <th>http_443</th>\n      <th>imap4</th>\n      <th>iso_tsap</th>\n      <th>klogin</th>\n      <th>kshell</th>\n      <th>ldap</th>\n      <th>link</th>\n      <th>login</th>\n      <th>mtp</th>\n      <th>name</th>\n      <th>netbios_dgm</th>\n      <th>netbios_ns</th>\n      <th>netbios_ssn</th>\n      <th>netstat</th>\n      <th>nnsp</th>\n      <th>nntp</th>\n      <th>ntp_u</th>\n      <th>other</th>\n      <th>pm_dump</th>\n      <th>pop_2</th>\n      <th>pop_3</th>\n      <th>private</th>\n      <th>remote_job</th>\n      <th>shell</th>\n      <th>smtp</th>\n      <th>sql_net</th>\n      <th>ssh</th>\n      <th>sunrpc</th>\n      <th>supdup</th>\n      <th>systat</th>\n      <th>telnet</th>\n      <th>tftp_u</th>\n      <th>tim_i</th>\n      <th>time</th>\n      <th>urp_i</th>\n      <th>uucp</th>\n      <th>uucp_path</th>\n      <th>vmnet</th>\n      <th>whois</th>\n      <th>OTH</th>\n      <th>REJ</th>\n      <th>RSTO</th>\n      <th>RSTOS0</th>\n      <th>RSTR</th>\n      <th>S0</th>\n      <th>S1</th>\n      <th>S2</th>\n      <th>S3</th>\n      <th>SF</th>\n      <th>SH</th>\n      <th>attack_type</th>\n    </tr>\n  </thead>\n  <tbody>\n    <tr>\n      <th>0</th>\n      <td>0.00000</td>\n      <td>0.00000</td>\n      <td>0.00000</td>\n      <td>0.00000</td>\n      <td>0.00000</td>\n      <td>0.00000</td>\n      <td>0.00000</td>\n      <td>0.00000</td>\n      <td>0.00000</td>\n      <td>0.00000</td>\n      <td>0.00000</td>\n      <td>0.00000</td>\n      <td>0.00000</td>\n      <td>0.00000</td>\n      <td>0.00000</td>\n      <td>0.00000</td>\n      <td>nan</td>\n      <td>0.00000</td>\n      <td>0.00000</td>\n      <td>114.27593</td>\n      <td>4.99022</td>\n      <td>0.00000</td>\n      <td>0.00000</td>\n      <td>255.00000</td>\n      <td>255.00000</td>\n      <td>10.20000</td>\n      <td>15.30000</td>\n      <td>0.00000</td>\n      <td>255.00000</td>\n      <td>10.00000</td>\n      <td>10.20000</td>\n      <td>15.30000</td>\n      <td>0.00000</td>\n      <td>0.00000</td>\n      <td>0.00000</td>\n      <td>0.00000</td>\n      <td>255.00000</td>\n      <td>255.00000</td>\n      <td>0.00000</td>\n      <td>255.00000</td>\n      <td>0.00000</td>\n      <td>0.00000</td>\n      <td>0.00000</td>\n      <td>0.00000</td>\n      <td>0.00000</td>\n      <td>0.00000</td>\n      <td>0.00000</td>\n      <td>0.00000</td>\n      <td>0.00000</td>\n      <td>0.00000</td>\n      <td>0.00000</td>\n      <td>0.00000</td>\n      <td>0.00000</td>\n      <td>0.00000</td>\n      <td>0.00000</td>\n      <td>0.00000</td>\n      <td>0.00000</td>\n      <td>0.00000</td>\n      <td>0.00000</td>\n      <td>0.00000</td>\n      <td>0.00000</td>\n      <td>0.00000</td>\n      <td>0.00000</td>\n      <td>0.00000</td>\n      <td>0.00000</td>\n      <td>0.00000</td>\n      <td>0.00000</td>\n      <td>0.00000</td>\n      <td>0.00000</td>\n      <td>0.00000</td>\n      <td>0.00000</td>\n      <td>0.00000</td>\n      <td>0.00000</td>\n      <td>0.00000</td>\n      <td>0.00000</td>\n      <td>0.00000</td>\n      <td>0.00000</td>\n      <td>0.00000</td>\n      <td>0.00000</td>\n      <td>0.00000</td>\n      <td>0.00000</td>\n      <td>0.00000</td>\n      <td>0.00000</td>\n      <td>0.00000</td>\n      <td>0.00000</td>\n      <td>255.00000</td>\n      <td>0.00000</td>\n      <td>0.00000</td>\n      <td>0.00000</td>\n      <td>0.00000</td>\n      <td>0.00000</td>\n      <td>0.00000</td>\n      <td>0.00000</td>\n      <td>0.00000</td>\n      <td>0.00000</td>\n      <td>0.00000</td>\n      <td>0.00000</td>\n      <td>0.00000</td>\n      <td>0.00000</td>\n      <td>0.00000</td>\n      <td>0.00000</td>\n      <td>0.00000</td>\n      <td>0.00000</td>\n      <td>0.00000</td>\n      <td>255.00000</td>\n      <td>0.00000</td>\n      <td>0.00000</td>\n      <td>0.00000</td>\n      <td>0.00000</td>\n      <td>0.00000</td>\n      <td>0.00000</td>\n      <td>0.00000</td>\n      <td>0.00000</td>\n      <td>0.00000</td>\n      <td>attack</td>\n    </tr>\n    <tr>\n      <th>1</th>\n      <td>0.00000</td>\n      <td>0.00000</td>\n      <td>0.00000</td>\n      <td>0.00000</td>\n      <td>0.00000</td>\n      <td>0.00000</td>\n      <td>0.00000</td>\n      <td>0.00000</td>\n      <td>0.00000</td>\n      <td>0.00000</td>\n      <td>0.00000</td>\n      <td>0.00000</td>\n      <td>0.00000</td>\n      <td>0.00000</td>\n      <td>0.00000</td>\n      <td>0.00000</td>\n      <td>nan</td>\n      <td>0.00000</td>\n      <td>0.00000</td>\n      <td>67.86693</td>\n      <td>0.49902</td>\n      <td>0.00000</td>\n      <td>0.00000</td>\n      <td>255.00000</td>\n      <td>255.00000</td>\n      <td>2.55000</td>\n      <td>15.30000</td>\n      <td>0.00000</td>\n      <td>255.00000</td>\n      <td>1.00000</td>\n      <td>0.00000</td>\n      <td>15.30000</td>\n      <td>0.00000</td>\n      <td>0.00000</td>\n      <td>0.00000</td>\n      <td>0.00000</td>\n      <td>255.00000</td>\n      <td>255.00000</td>\n      <td>0.00000</td>\n      <td>255.00000</td>\n      <td>0.00000</td>\n      <td>0.00000</td>\n      <td>0.00000</td>\n      <td>0.00000</td>\n      <td>0.00000</td>\n      <td>0.00000</td>\n      <td>0.00000</td>\n      <td>0.00000</td>\n      <td>0.00000</td>\n      <td>0.00000</td>\n      <td>0.00000</td>\n      <td>0.00000</td>\n      <td>0.00000</td>\n      <td>0.00000</td>\n      <td>0.00000</td>\n      <td>0.00000</td>\n      <td>0.00000</td>\n      <td>0.00000</td>\n      <td>0.00000</td>\n      <td>0.00000</td>\n      <td>0.00000</td>\n      <td>0.00000</td>\n      <td>0.00000</td>\n      <td>0.00000</td>\n      <td>0.00000</td>\n      <td>0.00000</td>\n      <td>0.00000</td>\n      <td>0.00000</td>\n      <td>0.00000</td>\n      <td>0.00000</td>\n      <td>0.00000</td>\n      <td>0.00000</td>\n      <td>0.00000</td>\n      <td>0.00000</td>\n      <td>0.00000</td>\n      <td>0.00000</td>\n      <td>0.00000</td>\n      <td>0.00000</td>\n      <td>0.00000</td>\n      <td>0.00000</td>\n      <td>0.00000</td>\n      <td>0.00000</td>\n      <td>0.00000</td>\n      <td>0.00000</td>\n      <td>0.00000</td>\n      <td>255.00000</td>\n      <td>0.00000</td>\n      <td>0.00000</td>\n      <td>0.00000</td>\n      <td>0.00000</td>\n      <td>0.00000</td>\n      <td>0.00000</td>\n      <td>0.00000</td>\n      <td>0.00000</td>\n      <td>0.00000</td>\n      <td>0.00000</td>\n      <td>0.00000</td>\n      <td>0.00000</td>\n      <td>0.00000</td>\n      <td>0.00000</td>\n      <td>0.00000</td>\n      <td>0.00000</td>\n      <td>0.00000</td>\n      <td>0.00000</td>\n      <td>255.00000</td>\n      <td>0.00000</td>\n      <td>0.00000</td>\n      <td>0.00000</td>\n      <td>0.00000</td>\n      <td>0.00000</td>\n      <td>0.00000</td>\n      <td>0.00000</td>\n      <td>0.00000</td>\n      <td>0.00000</td>\n      <td>attack</td>\n    </tr>\n    <tr>\n      <th>2</th>\n      <td>0.00884</td>\n      <td>0.05270</td>\n      <td>0.00000</td>\n      <td>0.00000</td>\n      <td>0.00000</td>\n      <td>0.00000</td>\n      <td>0.00000</td>\n      <td>0.00000</td>\n      <td>0.00000</td>\n      <td>0.00000</td>\n      <td>0.00000</td>\n      <td>0.00000</td>\n      <td>0.00000</td>\n      <td>0.00000</td>\n      <td>0.00000</td>\n      <td>0.00000</td>\n      <td>nan</td>\n      <td>0.00000</td>\n      <td>0.00000</td>\n      <td>0.49902</td>\n      <td>0.49902</td>\n      <td>0.00000</td>\n      <td>0.00000</td>\n      <td>0.00000</td>\n      <td>0.00000</td>\n      <td>255.00000</td>\n      <td>0.00000</td>\n      <td>0.00000</td>\n      <td>134.00000</td>\n      <td>86.00000</td>\n      <td>155.55000</td>\n      <td>10.20000</td>\n      <td>155.55000</td>\n      <td>5.10000</td>\n      <td>0.00000</td>\n      <td>0.00000</td>\n      <td>0.00000</td>\n      <td>0.00000</td>\n      <td>0.00000</td>\n      <td>255.00000</td>\n      <td>0.00000</td>\n      <td>0.00000</td>\n      <td>0.00000</td>\n      <td>0.00000</td>\n      <td>0.00000</td>\n      <td>0.00000</td>\n      <td>0.00000</td>\n      <td>0.00000</td>\n      <td>0.00000</td>\n      <td>0.00000</td>\n      <td>0.00000</td>\n      <td>0.00000</td>\n      <td>0.00000</td>\n      <td>0.00000</td>\n      <td>0.00000</td>\n      <td>0.00000</td>\n      <td>0.00000</td>\n      <td>0.00000</td>\n      <td>0.00000</td>\n      <td>0.00000</td>\n      <td>255.00000</td>\n      <td>0.00000</td>\n      <td>0.00000</td>\n      <td>0.00000</td>\n      <td>0.00000</td>\n      <td>0.00000</td>\n      <td>0.00000</td>\n      <td>0.00000</td>\n      <td>0.00000</td>\n      <td>0.00000</td>\n      <td>0.00000</td>\n      <td>0.00000</td>\n      <td>0.00000</td>\n      <td>0.00000</td>\n      <td>0.00000</td>\n      <td>0.00000</td>\n      <td>0.00000</td>\n      <td>0.00000</td>\n      <td>0.00000</td>\n      <td>0.00000</td>\n      <td>0.00000</td>\n      <td>0.00000</td>\n      <td>0.00000</td>\n      <td>0.00000</td>\n      <td>0.00000</td>\n      <td>0.00000</td>\n      <td>0.00000</td>\n      <td>0.00000</td>\n      <td>0.00000</td>\n      <td>0.00000</td>\n      <td>0.00000</td>\n      <td>0.00000</td>\n      <td>0.00000</td>\n      <td>0.00000</td>\n      <td>0.00000</td>\n      <td>0.00000</td>\n      <td>0.00000</td>\n      <td>0.00000</td>\n      <td>0.00000</td>\n      <td>0.00000</td>\n      <td>0.00000</td>\n      <td>0.00000</td>\n      <td>0.00000</td>\n      <td>0.00000</td>\n      <td>0.00000</td>\n      <td>0.00000</td>\n      <td>0.00000</td>\n      <td>0.00000</td>\n      <td>0.00000</td>\n      <td>0.00000</td>\n      <td>0.00000</td>\n      <td>0.00000</td>\n      <td>255.00000</td>\n      <td>0.00000</td>\n      <td>normal</td>\n    </tr>\n    <tr>\n      <th>3</th>\n      <td>0.00000</td>\n      <td>0.00008</td>\n      <td>0.00000</td>\n      <td>0.00000</td>\n      <td>0.00000</td>\n      <td>0.00000</td>\n      <td>0.00000</td>\n      <td>0.00000</td>\n      <td>0.00000</td>\n      <td>0.00000</td>\n      <td>0.00000</td>\n      <td>0.00000</td>\n      <td>0.00000</td>\n      <td>0.00000</td>\n      <td>0.00000</td>\n      <td>0.00000</td>\n      <td>nan</td>\n      <td>0.00000</td>\n      <td>0.00000</td>\n      <td>0.49902</td>\n      <td>32.43640</td>\n      <td>0.00000</td>\n      <td>0.00000</td>\n      <td>0.00000</td>\n      <td>0.00000</td>\n      <td>255.00000</td>\n      <td>0.00000</td>\n      <td>255.00000</td>\n      <td>3.00000</td>\n      <td>57.00000</td>\n      <td>255.00000</td>\n      <td>0.00000</td>\n      <td>255.00000</td>\n      <td>71.40000</td>\n      <td>0.00000</td>\n      <td>0.00000</td>\n      <td>0.00000</td>\n      <td>0.00000</td>\n      <td>255.00000</td>\n      <td>0.00000</td>\n      <td>0.00000</td>\n      <td>0.00000</td>\n      <td>0.00000</td>\n      <td>0.00000</td>\n      <td>0.00000</td>\n      <td>0.00000</td>\n      <td>0.00000</td>\n      <td>0.00000</td>\n      <td>0.00000</td>\n      <td>0.00000</td>\n      <td>0.00000</td>\n      <td>0.00000</td>\n      <td>0.00000</td>\n      <td>0.00000</td>\n      <td>255.00000</td>\n      <td>0.00000</td>\n      <td>0.00000</td>\n      <td>0.00000</td>\n      <td>0.00000</td>\n      <td>0.00000</td>\n      <td>0.00000</td>\n      <td>0.00000</td>\n      <td>0.00000</td>\n      <td>0.00000</td>\n      <td>0.00000</td>\n      <td>0.00000</td>\n      <td>0.00000</td>\n      <td>0.00000</td>\n      <td>0.00000</td>\n      <td>0.00000</td>\n      <td>0.00000</td>\n      <td>0.00000</td>\n      <td>0.00000</td>\n      <td>0.00000</td>\n      <td>0.00000</td>\n      <td>0.00000</td>\n      <td>0.00000</td>\n      <td>0.00000</td>\n      <td>0.00000</td>\n      <td>0.00000</td>\n      <td>0.00000</td>\n      <td>0.00000</td>\n      <td>0.00000</td>\n      <td>0.00000</td>\n      <td>0.00000</td>\n      <td>0.00000</td>\n      <td>0.00000</td>\n      <td>0.00000</td>\n      <td>0.00000</td>\n      <td>0.00000</td>\n      <td>0.00000</td>\n      <td>0.00000</td>\n      <td>0.00000</td>\n      <td>0.00000</td>\n      <td>0.00000</td>\n      <td>0.00000</td>\n      <td>0.00000</td>\n      <td>0.00000</td>\n      <td>0.00000</td>\n      <td>0.00000</td>\n      <td>0.00000</td>\n      <td>0.00000</td>\n      <td>0.00000</td>\n      <td>0.00000</td>\n      <td>0.00000</td>\n      <td>0.00000</td>\n      <td>0.00000</td>\n      <td>0.00000</td>\n      <td>0.00000</td>\n      <td>0.00000</td>\n      <td>0.00000</td>\n      <td>0.00000</td>\n      <td>255.00000</td>\n      <td>0.00000</td>\n      <td>attack</td>\n    </tr>\n    <tr>\n      <th>4</th>\n      <td>0.00442</td>\n      <td>0.00000</td>\n      <td>0.00284</td>\n      <td>0.00000</td>\n      <td>0.00000</td>\n      <td>0.00000</td>\n      <td>0.00000</td>\n      <td>0.00000</td>\n      <td>0.00000</td>\n      <td>0.00000</td>\n      <td>0.00000</td>\n      <td>0.00000</td>\n      <td>0.00000</td>\n      <td>0.00000</td>\n      <td>0.00000</td>\n      <td>0.00000</td>\n      <td>nan</td>\n      <td>0.00000</td>\n      <td>0.00000</td>\n      <td>0.49902</td>\n      <td>3.99217</td>\n      <td>0.00000</td>\n      <td>30.60000</td>\n      <td>255.00000</td>\n      <td>127.50000</td>\n      <td>255.00000</td>\n      <td>0.00000</td>\n      <td>191.25000</td>\n      <td>29.00000</td>\n      <td>86.00000</td>\n      <td>79.05000</td>\n      <td>43.35000</td>\n      <td>7.65000</td>\n      <td>5.10000</td>\n      <td>0.00000</td>\n      <td>0.00000</td>\n      <td>211.65000</td>\n      <td>181.05000</td>\n      <td>0.00000</td>\n      <td>255.00000</td>\n      <td>0.00000</td>\n      <td>0.00000</td>\n      <td>0.00000</td>\n      <td>0.00000</td>\n      <td>0.00000</td>\n      <td>0.00000</td>\n      <td>0.00000</td>\n      <td>0.00000</td>\n      <td>0.00000</td>\n      <td>0.00000</td>\n      <td>0.00000</td>\n      <td>0.00000</td>\n      <td>0.00000</td>\n      <td>0.00000</td>\n      <td>0.00000</td>\n      <td>0.00000</td>\n      <td>0.00000</td>\n      <td>0.00000</td>\n      <td>0.00000</td>\n      <td>0.00000</td>\n      <td>0.00000</td>\n      <td>0.00000</td>\n      <td>0.00000</td>\n      <td>0.00000</td>\n      <td>0.00000</td>\n      <td>0.00000</td>\n      <td>0.00000</td>\n      <td>0.00000</td>\n      <td>0.00000</td>\n      <td>0.00000</td>\n      <td>0.00000</td>\n      <td>0.00000</td>\n      <td>0.00000</td>\n      <td>0.00000</td>\n      <td>0.00000</td>\n      <td>0.00000</td>\n      <td>0.00000</td>\n      <td>0.00000</td>\n      <td>0.00000</td>\n      <td>0.00000</td>\n      <td>0.00000</td>\n      <td>0.00000</td>\n      <td>0.00000</td>\n      <td>0.00000</td>\n      <td>0.00000</td>\n      <td>0.00000</td>\n      <td>0.00000</td>\n      <td>0.00000</td>\n      <td>0.00000</td>\n      <td>0.00000</td>\n      <td>0.00000</td>\n      <td>0.00000</td>\n      <td>0.00000</td>\n      <td>0.00000</td>\n      <td>255.00000</td>\n      <td>0.00000</td>\n      <td>0.00000</td>\n      <td>0.00000</td>\n      <td>0.00000</td>\n      <td>0.00000</td>\n      <td>0.00000</td>\n      <td>0.00000</td>\n      <td>0.00000</td>\n      <td>0.00000</td>\n      <td>0.00000</td>\n      <td>255.00000</td>\n      <td>0.00000</td>\n      <td>0.00000</td>\n      <td>0.00000</td>\n      <td>0.00000</td>\n      <td>0.00000</td>\n      <td>0.00000</td>\n      <td>0.00000</td>\n      <td>0.00000</td>\n      <td>attack</td>\n    </tr>\n    <tr>\n      <th>...</th>\n      <td>...</td>\n      <td>...</td>\n      <td>...</td>\n      <td>...</td>\n      <td>...</td>\n      <td>...</td>\n      <td>...</td>\n      <td>...</td>\n      <td>...</td>\n      <td>...</td>\n      <td>...</td>\n      <td>...</td>\n      <td>...</td>\n      <td>...</td>\n      <td>...</td>\n      <td>...</td>\n      <td>...</td>\n      <td>...</td>\n      <td>...</td>\n      <td>...</td>\n      <td>...</td>\n      <td>...</td>\n      <td>...</td>\n      <td>...</td>\n      <td>...</td>\n      <td>...</td>\n      <td>...</td>\n      <td>...</td>\n      <td>...</td>\n      <td>...</td>\n      <td>...</td>\n      <td>...</td>\n      <td>...</td>\n      <td>...</td>\n      <td>...</td>\n      <td>...</td>\n      <td>...</td>\n      <td>...</td>\n      <td>...</td>\n      <td>...</td>\n      <td>...</td>\n      <td>...</td>\n      <td>...</td>\n      <td>...</td>\n      <td>...</td>\n      <td>...</td>\n      <td>...</td>\n      <td>...</td>\n      <td>...</td>\n      <td>...</td>\n      <td>...</td>\n      <td>...</td>\n      <td>...</td>\n      <td>...</td>\n      <td>...</td>\n      <td>...</td>\n      <td>...</td>\n      <td>...</td>\n      <td>...</td>\n      <td>...</td>\n      <td>...</td>\n      <td>...</td>\n      <td>...</td>\n      <td>...</td>\n      <td>...</td>\n      <td>...</td>\n      <td>...</td>\n      <td>...</td>\n      <td>...</td>\n      <td>...</td>\n      <td>...</td>\n      <td>...</td>\n      <td>...</td>\n      <td>...</td>\n      <td>...</td>\n      <td>...</td>\n      <td>...</td>\n      <td>...</td>\n      <td>...</td>\n      <td>...</td>\n      <td>...</td>\n      <td>...</td>\n      <td>...</td>\n      <td>...</td>\n      <td>...</td>\n      <td>...</td>\n      <td>...</td>\n      <td>...</td>\n      <td>...</td>\n      <td>...</td>\n      <td>...</td>\n      <td>...</td>\n      <td>...</td>\n      <td>...</td>\n      <td>...</td>\n      <td>...</td>\n      <td>...</td>\n      <td>...</td>\n      <td>...</td>\n      <td>...</td>\n      <td>...</td>\n      <td>...</td>\n      <td>...</td>\n      <td>...</td>\n      <td>...</td>\n      <td>...</td>\n      <td>...</td>\n      <td>...</td>\n      <td>...</td>\n      <td>...</td>\n      <td>...</td>\n      <td>...</td>\n      <td>...</td>\n      <td>...</td>\n      <td>...</td>\n    </tr>\n    <tr>\n      <th>22539</th>\n      <td>0.00000</td>\n      <td>0.00322</td>\n      <td>0.06309</td>\n      <td>0.00000</td>\n      <td>0.00000</td>\n      <td>0.00000</td>\n      <td>0.00000</td>\n      <td>0.00000</td>\n      <td>255.00000</td>\n      <td>0.00000</td>\n      <td>0.00000</td>\n      <td>0.00000</td>\n      <td>0.00000</td>\n      <td>0.00000</td>\n      <td>0.00000</td>\n      <td>0.00000</td>\n      <td>nan</td>\n      <td>0.00000</td>\n      <td>0.00000</td>\n      <td>0.49902</td>\n      <td>0.49902</td>\n      <td>0.00000</td>\n      <td>0.00000</td>\n      <td>0.00000</td>\n      <td>0.00000</td>\n      <td>255.00000</td>\n      <td>0.00000</td>\n      <td>0.00000</td>\n      <td>100.00000</td>\n      <td>141.00000</td>\n      <td>183.60000</td>\n      <td>15.30000</td>\n      <td>2.55000</td>\n      <td>2.55000</td>\n      <td>2.55000</td>\n      <td>0.00000</td>\n      <td>0.00000</td>\n      <td>0.00000</td>\n      <td>0.00000</td>\n      <td>255.00000</td>\n      <td>0.00000</td>\n      <td>0.00000</td>\n      <td>0.00000</td>\n      <td>0.00000</td>\n      <td>0.00000</td>\n      <td>0.00000</td>\n      <td>0.00000</td>\n      <td>0.00000</td>\n      <td>0.00000</td>\n      <td>0.00000</td>\n      <td>0.00000</td>\n      <td>0.00000</td>\n      <td>0.00000</td>\n      <td>0.00000</td>\n      <td>0.00000</td>\n      <td>0.00000</td>\n      <td>0.00000</td>\n      <td>0.00000</td>\n      <td>0.00000</td>\n      <td>0.00000</td>\n      <td>0.00000</td>\n      <td>0.00000</td>\n      <td>0.00000</td>\n      <td>0.00000</td>\n      <td>0.00000</td>\n      <td>0.00000</td>\n      <td>0.00000</td>\n      <td>0.00000</td>\n      <td>0.00000</td>\n      <td>0.00000</td>\n      <td>0.00000</td>\n      <td>0.00000</td>\n      <td>0.00000</td>\n      <td>0.00000</td>\n      <td>0.00000</td>\n      <td>0.00000</td>\n      <td>0.00000</td>\n      <td>0.00000</td>\n      <td>0.00000</td>\n      <td>0.00000</td>\n      <td>0.00000</td>\n      <td>0.00000</td>\n      <td>0.00000</td>\n      <td>0.00000</td>\n      <td>0.00000</td>\n      <td>0.00000</td>\n      <td>0.00000</td>\n      <td>0.00000</td>\n      <td>255.00000</td>\n      <td>0.00000</td>\n      <td>0.00000</td>\n      <td>0.00000</td>\n      <td>0.00000</td>\n      <td>0.00000</td>\n      <td>0.00000</td>\n      <td>0.00000</td>\n      <td>0.00000</td>\n      <td>0.00000</td>\n      <td>0.00000</td>\n      <td>0.00000</td>\n      <td>0.00000</td>\n      <td>0.00000</td>\n      <td>0.00000</td>\n      <td>0.00000</td>\n      <td>0.00000</td>\n      <td>0.00000</td>\n      <td>0.00000</td>\n      <td>0.00000</td>\n      <td>0.00000</td>\n      <td>0.00000</td>\n      <td>0.00000</td>\n      <td>0.00000</td>\n      <td>255.00000</td>\n      <td>0.00000</td>\n      <td>normal</td>\n    </tr>\n    <tr>\n      <th>22540</th>\n      <td>0.00000</td>\n      <td>0.00129</td>\n      <td>0.17771</td>\n      <td>0.00000</td>\n      <td>0.00000</td>\n      <td>0.00000</td>\n      <td>0.00000</td>\n      <td>0.00000</td>\n      <td>255.00000</td>\n      <td>0.00000</td>\n      <td>0.00000</td>\n      <td>0.00000</td>\n      <td>0.00000</td>\n      <td>0.00000</td>\n      <td>0.00000</td>\n      <td>0.00000</td>\n      <td>nan</td>\n      <td>0.00000</td>\n      <td>0.00000</td>\n      <td>0.99804</td>\n      <td>5.48924</td>\n      <td>0.00000</td>\n      <td>0.00000</td>\n      <td>0.00000</td>\n      <td>0.00000</td>\n      <td>255.00000</td>\n      <td>0.00000</td>\n      <td>45.90000</td>\n      <td>197.00000</td>\n      <td>255.00000</td>\n      <td>255.00000</td>\n      <td>0.00000</td>\n      <td>2.55000</td>\n      <td>2.55000</td>\n      <td>2.55000</td>\n      <td>0.00000</td>\n      <td>0.00000</td>\n      <td>0.00000</td>\n      <td>0.00000</td>\n      <td>255.00000</td>\n      <td>0.00000</td>\n      <td>0.00000</td>\n      <td>0.00000</td>\n      <td>0.00000</td>\n      <td>0.00000</td>\n      <td>0.00000</td>\n      <td>0.00000</td>\n      <td>0.00000</td>\n      <td>0.00000</td>\n      <td>0.00000</td>\n      <td>0.00000</td>\n      <td>0.00000</td>\n      <td>0.00000</td>\n      <td>0.00000</td>\n      <td>0.00000</td>\n      <td>0.00000</td>\n      <td>0.00000</td>\n      <td>0.00000</td>\n      <td>0.00000</td>\n      <td>0.00000</td>\n      <td>0.00000</td>\n      <td>0.00000</td>\n      <td>0.00000</td>\n      <td>255.00000</td>\n      <td>0.00000</td>\n      <td>0.00000</td>\n      <td>0.00000</td>\n      <td>0.00000</td>\n      <td>0.00000</td>\n      <td>0.00000</td>\n      <td>0.00000</td>\n      <td>0.00000</td>\n      <td>0.00000</td>\n      <td>0.00000</td>\n      <td>0.00000</td>\n      <td>0.00000</td>\n      <td>0.00000</td>\n      <td>0.00000</td>\n      <td>0.00000</td>\n      <td>0.00000</td>\n      <td>0.00000</td>\n      <td>0.00000</td>\n      <td>0.00000</td>\n      <td>0.00000</td>\n      <td>0.00000</td>\n      <td>0.00000</td>\n      <td>0.00000</td>\n      <td>0.00000</td>\n      <td>0.00000</td>\n      <td>0.00000</td>\n      <td>0.00000</td>\n      <td>0.00000</td>\n      <td>0.00000</td>\n      <td>0.00000</td>\n      <td>0.00000</td>\n      <td>0.00000</td>\n      <td>0.00000</td>\n      <td>0.00000</td>\n      <td>0.00000</td>\n      <td>0.00000</td>\n      <td>0.00000</td>\n      <td>0.00000</td>\n      <td>0.00000</td>\n      <td>0.00000</td>\n      <td>0.00000</td>\n      <td>0.00000</td>\n      <td>0.00000</td>\n      <td>0.00000</td>\n      <td>0.00000</td>\n      <td>0.00000</td>\n      <td>0.00000</td>\n      <td>0.00000</td>\n      <td>255.00000</td>\n      <td>0.00000</td>\n      <td>normal</td>\n    </tr>\n    <tr>\n      <th>22541</th>\n      <td>0.00000</td>\n      <td>0.22137</td>\n      <td>1.57517</td>\n      <td>0.00000</td>\n      <td>0.00000</td>\n      <td>0.00000</td>\n      <td>5.04950</td>\n      <td>0.00000</td>\n      <td>255.00000</td>\n      <td>0.32035</td>\n      <td>0.00000</td>\n      <td>0.00000</td>\n      <td>0.00000</td>\n      <td>0.00000</td>\n      <td>0.00000</td>\n      <td>0.00000</td>\n      <td>nan</td>\n      <td>0.00000</td>\n      <td>0.00000</td>\n      <td>2.49511</td>\n      <td>4.99022</td>\n      <td>0.00000</td>\n      <td>0.00000</td>\n      <td>0.00000</td>\n      <td>0.00000</td>\n      <td>255.00000</td>\n      <td>0.00000</td>\n      <td>51.00000</td>\n      <td>255.00000</td>\n      <td>255.00000</td>\n      <td>255.00000</td>\n      <td>0.00000</td>\n      <td>0.00000</td>\n      <td>0.00000</td>\n      <td>0.00000</td>\n      <td>0.00000</td>\n      <td>17.85000</td>\n      <td>17.85000</td>\n      <td>0.00000</td>\n      <td>255.00000</td>\n      <td>0.00000</td>\n      <td>0.00000</td>\n      <td>0.00000</td>\n      <td>0.00000</td>\n      <td>0.00000</td>\n      <td>0.00000</td>\n      <td>0.00000</td>\n      <td>0.00000</td>\n      <td>0.00000</td>\n      <td>0.00000</td>\n      <td>0.00000</td>\n      <td>0.00000</td>\n      <td>0.00000</td>\n      <td>0.00000</td>\n      <td>0.00000</td>\n      <td>0.00000</td>\n      <td>0.00000</td>\n      <td>0.00000</td>\n      <td>0.00000</td>\n      <td>0.00000</td>\n      <td>0.00000</td>\n      <td>0.00000</td>\n      <td>0.00000</td>\n      <td>255.00000</td>\n      <td>0.00000</td>\n      <td>0.00000</td>\n      <td>0.00000</td>\n      <td>0.00000</td>\n      <td>0.00000</td>\n      <td>0.00000</td>\n      <td>0.00000</td>\n      <td>0.00000</td>\n      <td>0.00000</td>\n      <td>0.00000</td>\n      <td>0.00000</td>\n      <td>0.00000</td>\n      <td>0.00000</td>\n      <td>0.00000</td>\n      <td>0.00000</td>\n      <td>0.00000</td>\n      <td>0.00000</td>\n      <td>0.00000</td>\n      <td>0.00000</td>\n      <td>0.00000</td>\n      <td>0.00000</td>\n      <td>0.00000</td>\n      <td>0.00000</td>\n      <td>0.00000</td>\n      <td>0.00000</td>\n      <td>0.00000</td>\n      <td>0.00000</td>\n      <td>0.00000</td>\n      <td>0.00000</td>\n      <td>0.00000</td>\n      <td>0.00000</td>\n      <td>0.00000</td>\n      <td>0.00000</td>\n      <td>0.00000</td>\n      <td>0.00000</td>\n      <td>0.00000</td>\n      <td>0.00000</td>\n      <td>0.00000</td>\n      <td>0.00000</td>\n      <td>0.00000</td>\n      <td>0.00000</td>\n      <td>0.00000</td>\n      <td>0.00000</td>\n      <td>0.00000</td>\n      <td>0.00000</td>\n      <td>0.00000</td>\n      <td>0.00000</td>\n      <td>0.00000</td>\n      <td>255.00000</td>\n      <td>0.00000</td>\n      <td>attack</td>\n    </tr>\n    <tr>\n      <th>22542</th>\n      <td>0.00000</td>\n      <td>0.00017</td>\n      <td>0.00796</td>\n      <td>0.00000</td>\n      <td>0.00000</td>\n      <td>0.00000</td>\n      <td>0.00000</td>\n      <td>0.00000</td>\n      <td>0.00000</td>\n      <td>0.00000</td>\n      <td>0.00000</td>\n      <td>0.00000</td>\n      <td>0.00000</td>\n      <td>0.00000</td>\n      <td>0.00000</td>\n      <td>0.00000</td>\n      <td>nan</td>\n      <td>0.00000</td>\n      <td>0.00000</td>\n      <td>1.99609</td>\n      <td>2.99413</td>\n      <td>0.00000</td>\n      <td>0.00000</td>\n      <td>0.00000</td>\n      <td>0.00000</td>\n      <td>255.00000</td>\n      <td>0.00000</td>\n      <td>84.15000</td>\n      <td>255.00000</td>\n      <td>252.00000</td>\n      <td>252.45000</td>\n      <td>2.55000</td>\n      <td>0.00000</td>\n      <td>0.00000</td>\n      <td>0.00000</td>\n      <td>0.00000</td>\n      <td>0.00000</td>\n      <td>0.00000</td>\n      <td>0.00000</td>\n      <td>0.00000</td>\n      <td>255.00000</td>\n      <td>0.00000</td>\n      <td>0.00000</td>\n      <td>0.00000</td>\n      <td>0.00000</td>\n      <td>0.00000</td>\n      <td>0.00000</td>\n      <td>0.00000</td>\n      <td>0.00000</td>\n      <td>0.00000</td>\n      <td>0.00000</td>\n      <td>0.00000</td>\n      <td>255.00000</td>\n      <td>0.00000</td>\n      <td>0.00000</td>\n      <td>0.00000</td>\n      <td>0.00000</td>\n      <td>0.00000</td>\n      <td>0.00000</td>\n      <td>0.00000</td>\n      <td>0.00000</td>\n      <td>0.00000</td>\n      <td>0.00000</td>\n      <td>0.00000</td>\n      <td>0.00000</td>\n      <td>0.00000</td>\n      <td>0.00000</td>\n      <td>0.00000</td>\n      <td>0.00000</td>\n      <td>0.00000</td>\n      <td>0.00000</td>\n      <td>0.00000</td>\n      <td>0.00000</td>\n      <td>0.00000</td>\n      <td>0.00000</td>\n      <td>0.00000</td>\n      <td>0.00000</td>\n      <td>0.00000</td>\n      <td>0.00000</td>\n      <td>0.00000</td>\n      <td>0.00000</td>\n      <td>0.00000</td>\n      <td>0.00000</td>\n      <td>0.00000</td>\n      <td>0.00000</td>\n      <td>0.00000</td>\n      <td>0.00000</td>\n      <td>0.00000</td>\n      <td>0.00000</td>\n      <td>0.00000</td>\n      <td>0.00000</td>\n      <td>0.00000</td>\n      <td>0.00000</td>\n      <td>0.00000</td>\n      <td>0.00000</td>\n      <td>0.00000</td>\n      <td>0.00000</td>\n      <td>0.00000</td>\n      <td>0.00000</td>\n      <td>0.00000</td>\n      <td>0.00000</td>\n      <td>0.00000</td>\n      <td>0.00000</td>\n      <td>0.00000</td>\n      <td>0.00000</td>\n      <td>0.00000</td>\n      <td>0.00000</td>\n      <td>0.00000</td>\n      <td>0.00000</td>\n      <td>0.00000</td>\n      <td>0.00000</td>\n      <td>0.00000</td>\n      <td>255.00000</td>\n      <td>0.00000</td>\n      <td>normal</td>\n    </tr>\n    <tr>\n      <th>22543</th>\n      <td>0.00000</td>\n      <td>0.00000</td>\n      <td>0.00000</td>\n      <td>0.00000</td>\n      <td>0.00000</td>\n      <td>0.00000</td>\n      <td>0.00000</td>\n      <td>0.00000</td>\n      <td>0.00000</td>\n      <td>0.00000</td>\n      <td>0.00000</td>\n      <td>0.00000</td>\n      <td>0.00000</td>\n      <td>0.00000</td>\n      <td>0.00000</td>\n      <td>0.00000</td>\n      <td>nan</td>\n      <td>0.00000</td>\n      <td>0.00000</td>\n      <td>1.99609</td>\n      <td>4.99022</td>\n      <td>0.00000</td>\n      <td>0.00000</td>\n      <td>255.00000</td>\n      <td>255.00000</td>\n      <td>63.75000</td>\n      <td>255.00000</td>\n      <td>255.00000</td>\n      <td>255.00000</td>\n      <td>21.00000</td>\n      <td>20.40000</td>\n      <td>7.65000</td>\n      <td>0.00000</td>\n      <td>0.00000</td>\n      <td>0.00000</td>\n      <td>0.00000</td>\n      <td>112.20000</td>\n      <td>255.00000</td>\n      <td>0.00000</td>\n      <td>255.00000</td>\n      <td>0.00000</td>\n      <td>0.00000</td>\n      <td>0.00000</td>\n      <td>0.00000</td>\n      <td>0.00000</td>\n      <td>0.00000</td>\n      <td>0.00000</td>\n      <td>0.00000</td>\n      <td>0.00000</td>\n      <td>0.00000</td>\n      <td>0.00000</td>\n      <td>0.00000</td>\n      <td>0.00000</td>\n      <td>0.00000</td>\n      <td>0.00000</td>\n      <td>0.00000</td>\n      <td>0.00000</td>\n      <td>0.00000</td>\n      <td>0.00000</td>\n      <td>0.00000</td>\n      <td>0.00000</td>\n      <td>0.00000</td>\n      <td>0.00000</td>\n      <td>0.00000</td>\n      <td>0.00000</td>\n      <td>0.00000</td>\n      <td>0.00000</td>\n      <td>0.00000</td>\n      <td>0.00000</td>\n      <td>0.00000</td>\n      <td>0.00000</td>\n      <td>0.00000</td>\n      <td>0.00000</td>\n      <td>0.00000</td>\n      <td>0.00000</td>\n      <td>0.00000</td>\n      <td>0.00000</td>\n      <td>0.00000</td>\n      <td>0.00000</td>\n      <td>0.00000</td>\n      <td>0.00000</td>\n      <td>0.00000</td>\n      <td>0.00000</td>\n      <td>0.00000</td>\n      <td>0.00000</td>\n      <td>0.00000</td>\n      <td>0.00000</td>\n      <td>0.00000</td>\n      <td>0.00000</td>\n      <td>0.00000</td>\n      <td>0.00000</td>\n      <td>255.00000</td>\n      <td>0.00000</td>\n      <td>0.00000</td>\n      <td>0.00000</td>\n      <td>0.00000</td>\n      <td>0.00000</td>\n      <td>0.00000</td>\n      <td>0.00000</td>\n      <td>0.00000</td>\n      <td>0.00000</td>\n      <td>0.00000</td>\n      <td>0.00000</td>\n      <td>0.00000</td>\n      <td>255.00000</td>\n      <td>0.00000</td>\n      <td>0.00000</td>\n      <td>0.00000</td>\n      <td>0.00000</td>\n      <td>0.00000</td>\n      <td>0.00000</td>\n      <td>0.00000</td>\n      <td>0.00000</td>\n      <td>0.00000</td>\n      <td>attack</td>\n    </tr>\n  </tbody>\n</table>\n<p>22525 rows × 115 columns</p>\n</div>"
          },
          "metadata": {},
          "execution_count": 17
        }
      ]
    },
    {
      "cell_type": "code",
      "metadata": {
        "id": "GL_UIhahO_V4"
      },
      "source": [
        "for column in edited_xtrain:\n",
        "    # edited_xtrain[column] = xtrain[column] / xtrain[column].max()\n",
        "    \n",
        "    if edited_xtrain[column].isna().any():\n",
        "        edited_xtrain[column] = float(0)\n",
        "\n",
        "for column in edited_xtest:\n",
        "    # edited_xtest[column] = xtest[column] / xtest[column].max()\n",
        "    \n",
        "    if edited_xtest[column].isna().any():\n",
        "        edited_xtest[column] = float(0)"
      ],
      "execution_count": 18,
      "outputs": []
    },
    {
      "cell_type": "code",
      "metadata": {
        "id": "MJhvYVLXx9x0"
      },
      "source": [
        "normal_imgs_train = edited_xtrain[(edited_train['attack_type'] == 'normal')]\n",
        "attack_imgs_train = edited_xtrain[(edited_train['attack_type'] == 'attack')]\n",
        "\n",
        "normal_imgs_test = edited_xtest[(edited_test['attack_type'] == 'normal')]\n",
        "attack_imgs_test = edited_xtest[(edited_test['attack_type'] == 'attack')]\n",
        "\n",
        "\n",
        "## encode the attack_type column OHE\n",
        "ytrain = pd.get_dummies(edited_train['attack_type'])\n",
        "ytest = pd.get_dummies(edited_test['attack_type'])\n",
        "\n",
        "## drop the columns after encoding\n",
        "# xtrain = train.drop(['attack_type'], axis = 1)\n",
        "# xtest = test.drop(['attack_type'], axis = 1)\n",
        "\n",
        "normal_imgs_train = normal_imgs_train.drop(['attack_type'], axis = 1)\n",
        "attack_imgs_train = attack_imgs_train.drop(['attack_type'], axis = 1)\n",
        "\n",
        "normal_imgs_test = normal_imgs_test.drop(['attack_type'], axis = 1)\n",
        "attack_imgs_test = attack_imgs_test.drop(['attack_type'], axis = 1)"
      ],
      "execution_count": 19,
      "outputs": []
    },
    {
      "cell_type": "markdown",
      "metadata": {
        "id": "81kaXwxux9x1"
      },
      "source": [
        "## 1.6 - Histogram equalisation on raw data"
      ]
    },
    {
      "cell_type": "markdown",
      "metadata": {
        "id": "e5Sca3Utx9x1"
      },
      "source": [
        "### Transforming the dataframe to numpy array then reshape to 64x64 images"
      ]
    },
    {
      "cell_type": "code",
      "metadata": {
        "id": "FiODfPXfx9x2",
        "colab": {
          "base_uri": "https://localhost:8080/"
        },
        "outputId": "16672e03-4738-4d5e-ab75-87f3aa4dcb2a"
      },
      "source": [
        "normal_imgs_train = normal_imgs_train.to_numpy()\n",
        "normal_imgs_train = np.ravel(normal_imgs_train, order = 'F')\n",
        "normal_imgs_train.shape"
      ],
      "execution_count": 20,
      "outputs": [
        {
          "output_type": "execute_result",
          "data": {
            "text/plain": [
              "(7675050,)"
            ]
          },
          "metadata": {},
          "execution_count": 20
        }
      ]
    },
    {
      "cell_type": "code",
      "metadata": {
        "id": "q7BsXMzxx9x3",
        "colab": {
          "base_uri": "https://localhost:8080/"
        },
        "outputId": "903ecd36-f155-4512-bfca-b4bf965b6187"
      },
      "source": [
        "normal_imgs_test = normal_imgs_test.to_numpy()\n",
        "normal_imgs_test = np.ravel(normal_imgs_test, order = 'F')\n",
        "normal_imgs_test.shape"
      ],
      "execution_count": 21,
      "outputs": [
        {
          "output_type": "execute_result",
          "data": {
            "text/plain": [
              "(1107054,)"
            ]
          },
          "metadata": {},
          "execution_count": 21
        }
      ]
    },
    {
      "cell_type": "code",
      "metadata": {
        "id": "605VW7mox9x3",
        "colab": {
          "base_uri": "https://localhost:8080/"
        },
        "outputId": "227a7676-e35d-4ebb-f5db-8b319357f90a"
      },
      "source": [
        "attack_imgs_train = attack_imgs_train.to_numpy()\n",
        "attack_imgs_train = np.ravel(attack_imgs_train, order = 'F')\n",
        "attack_imgs_train.shape"
      ],
      "execution_count": 22,
      "outputs": [
        {
          "output_type": "execute_result",
          "data": {
            "text/plain": [
              "(6665352,)"
            ]
          },
          "metadata": {},
          "execution_count": 22
        }
      ]
    },
    {
      "cell_type": "code",
      "metadata": {
        "id": "AjTBfyWGx9x3",
        "colab": {
          "base_uri": "https://localhost:8080/"
        },
        "outputId": "14883120-ac89-4c37-dbe6-eaa6048fba50"
      },
      "source": [
        "attack_imgs_test = attack_imgs_test.to_numpy()\n",
        "attack_imgs_test = np.ravel(attack_imgs_test, order = 'F')\n",
        "attack_imgs_test.shape"
      ],
      "execution_count": 23,
      "outputs": [
        {
          "output_type": "execute_result",
          "data": {
            "text/plain": [
              "(1460796,)"
            ]
          },
          "metadata": {},
          "execution_count": 23
        }
      ]
    },
    {
      "cell_type": "markdown",
      "metadata": {
        "id": "z9wewfSNx9x5"
      },
      "source": [
        "### training"
      ]
    },
    {
      "cell_type": "code",
      "metadata": {
        "id": "gIZePNpJx9x6"
      },
      "source": [
        "attack_padding = -attack_imgs_train.size % 1024\n",
        "normal_padding = -normal_imgs_train.size % 1024\n",
        "\n",
        "if attack_padding:\n",
        "    attack_imgs_train = np.concatenate((attack_imgs_train,\n",
        "                                        np.zeros(attack_padding, dtype = attack_imgs_train.dtype)))\n",
        "\n",
        "if normal_padding:\n",
        "    normal_imgs_train = np.concatenate((normal_imgs_train,\n",
        "                                        np.zeros(normal_padding, dtype = normal_imgs_train.dtype)))"
      ],
      "execution_count": 24,
      "outputs": []
    },
    {
      "cell_type": "code",
      "metadata": {
        "id": "34HM-5Okx9x6",
        "colab": {
          "base_uri": "https://localhost:8080/"
        },
        "outputId": "46b5cd51-fb1c-450a-e480-d5e691f45d04"
      },
      "source": [
        "normal_imgs_tr = normal_imgs_train.reshape(-1, 32, 32, 1)\n",
        "attack_imgs_tr = attack_imgs_train.reshape(-1, 32, 32, 1)\n",
        "\n",
        "normal_imgs_tr.shape, attack_imgs_tr.shape"
      ],
      "execution_count": 25,
      "outputs": [
        {
          "output_type": "execute_result",
          "data": {
            "text/plain": [
              "((7496, 32, 32, 1), (6510, 32, 32, 1))"
            ]
          },
          "metadata": {},
          "execution_count": 25
        }
      ]
    },
    {
      "cell_type": "markdown",
      "metadata": {
        "id": "PYLLo5UFx9x6"
      },
      "source": [
        "### testing"
      ]
    },
    {
      "cell_type": "code",
      "metadata": {
        "id": "WT3CAihlx9x7"
      },
      "source": [
        "attack_padding = -attack_imgs_test.size % 1024\n",
        "normal_padding = -normal_imgs_test.size % 1024\n",
        "\n",
        "if attack_padding:\n",
        "    attack_imgs_test = np.concatenate((attack_imgs_test,\n",
        "                                        np.zeros(attack_padding, dtype = attack_imgs_test.dtype)))\n",
        "\n",
        "if normal_padding:\n",
        "    normal_imgs_test = np.concatenate((normal_imgs_test,\n",
        "                                        np.zeros(normal_padding, dtype = normal_imgs_test.dtype)))"
      ],
      "execution_count": 26,
      "outputs": []
    },
    {
      "cell_type": "code",
      "metadata": {
        "id": "HXwadfJmx9x7",
        "colab": {
          "base_uri": "https://localhost:8080/"
        },
        "outputId": "c0ef4614-5fd8-44d0-e37b-298d8a6c5cda"
      },
      "source": [
        "normal_imgs_te = normal_imgs_test.reshape(-1, 32, 32, 1)\n",
        "attack_imgs_te = attack_imgs_test.reshape(-1, 32, 32, 1)\n",
        "\n",
        "normal_imgs_te.shape, attack_imgs_te.shape"
      ],
      "execution_count": 27,
      "outputs": [
        {
          "output_type": "execute_result",
          "data": {
            "text/plain": [
              "((1082, 32, 32, 1), (1427, 32, 32, 1))"
            ]
          },
          "metadata": {},
          "execution_count": 27
        }
      ]
    },
    {
      "cell_type": "code",
      "metadata": {
        "id": "bf0HOHh6x9x7",
        "colab": {
          "base_uri": "https://localhost:8080/",
          "height": 1000
        },
        "outputId": "98ac3f98-f52d-4e7d-85f9-b01695331acd"
      },
      "source": [
        "for t in range(0, 5):\n",
        "    plt.imshow(normal_imgs_tr[t], cmap = 'gray')\n",
        "    plt.show()\n",
        "    \n",
        "    cv2.imwrite(CUR_DIR + f'/image_before_equ_{t}.jpg', normal_imgs_tr[t])"
      ],
      "execution_count": 31,
      "outputs": [
        {
          "output_type": "display_data",
          "data": {
            "text/plain": "<Figure size 432x288 with 1 Axes>",
            "image/svg+xml": "<?xml version=\"1.0\" encoding=\"utf-8\" standalone=\"no\"?>\n<!DOCTYPE svg PUBLIC \"-//W3C//DTD SVG 1.1//EN\"\n  \"http://www.w3.org/Graphics/SVG/1.1/DTD/svg11.dtd\">\n<!-- Created with matplotlib (https://matplotlib.org/) -->\n<svg height=\"248.919844pt\" version=\"1.1\" viewBox=\"0 0 251.565 248.919844\" width=\"251.565pt\" xmlns=\"http://www.w3.org/2000/svg\" xmlns:xlink=\"http://www.w3.org/1999/xlink\">\n <metadata>\n  <rdf:RDF xmlns:cc=\"http://creativecommons.org/ns#\" xmlns:dc=\"http://purl.org/dc/elements/1.1/\" xmlns:rdf=\"http://www.w3.org/1999/02/22-rdf-syntax-ns#\">\n   <cc:Work>\n    <dc:type rdf:resource=\"http://purl.org/dc/dcmitype/StillImage\"/>\n    <dc:date>2021-05-07T11:18:38.835448</dc:date>\n    <dc:format>image/svg+xml</dc:format>\n    <dc:creator>\n     <cc:Agent>\n      <dc:title>Matplotlib v3.3.2, https://matplotlib.org/</dc:title>\n     </cc:Agent>\n    </dc:creator>\n   </cc:Work>\n  </rdf:RDF>\n </metadata>\n <defs>\n  <style type=\"text/css\">*{stroke-linecap:butt;stroke-linejoin:round;}</style>\n </defs>\n <g id=\"figure_1\">\n  <g id=\"patch_1\">\n   <path d=\"M 0 248.919844 \nL 251.565 248.919844 \nL 251.565 0 \nL 0 0 \nz\n\" style=\"fill:none;\"/>\n  </g>\n  <g id=\"axes_1\">\n   <g id=\"patch_2\">\n    <path d=\"M 26.925 225.041719 \nL 244.365 225.041719 \nL 244.365 7.601719 \nL 26.925 7.601719 \nz\n\" style=\"fill:#ffffff;\"/>\n   </g>\n   <g clip-path=\"url(#p95e9d329fa)\">\n    <image height=\"218\" id=\"imagee476976012\" transform=\"scale(1 -1)translate(0 -218)\" width=\"218\" x=\"26.925\" xlink:href=\"data:image/png;base64,\niVBORw0KGgoAAAANSUhEUgAAANoAAADaCAYAAADAHVzbAAAEbUlEQVR4nO3dsWqUWxSA0XgTNSAK+hZ2IW+RUtBCEASx0U5ML/YJdqaxCRY2EUtr38IHsLJQUAQ1xtzqwi1yRMLMN5mZtcpshN18bDj+JOdWVlaOV+bYixcvTvz5/fv3401g7J9ZLwDLQGgQEBoEhAYBoUFAaBA4tzLnz/swD1w0CAgNAkKDgNAgIDQICA0Ca7Ne4D+XLl0azr59+xZuApPnokFAaBAQGgSEBgGhQcBHxTAhGxsbw5mLBgGhQUBoEBAaBIQGAaFBwPP+Erl27dqJP//06VO8yfJx0SAgNAgIDQJCg4DQICA0CHjen0O3b98ezl69ehVuMllra+NfYfPr169wk8lz0SAgNAgIDQJCg4DQICA0CHjeh4CLBgGhQUBoEBAaBIQGAaFBQGgQEBoEhAYBoUFAaBAQGgSEBoHxb0NZYLu7u8PZ48ePw01YFi4aBIQGAaFBQGgQEBoE/M4QFtqzZ8+Gs0ePHmV7uGgQEBoEhAYBoUFAaBAQGgQ870PARYOA0CAgNAgIDQJCg4DQILCUvzNkkW1tbQ1nb9++DTfh/1w0CAgNAkKDgNAgIDQICA0Cvt6HgIsGAaFBQGgQEBoEhAYBoUHA1/uc2t7e3nD24MGDcJOzz0WDgNAgIDQICA0CQoOAj4rn0M7OznC2vb0dbsLfctEgIDQICA0CQoOA0CAgNAj88Xn/8uXLw3/49evXaezDEjs+Hv9P0/Xr14ez9+/fT2OdiXLRICA0CAgNAkKDgNAgIDQI+HqfqXj58uVwdu/evRN/fnh4OK11Zs5Fg4DQICA0CAgNAkKDgNAg4HkfAi4aBIQGAaFBQGgQEBoEhAYBf/GTM+PGjRvD2Zs3b8JNJs9Fg4DQICA0CAgNAkKDgI+KObW7d+8OZ/v7++EmZ5+LBgGhQUBoEBAaBIQGAaFBYCk/Kr558+ZwdnBwEG4y3969ezfrFeaGiwYBoUFAaBAQGgSEBgGhQWApv97f3Nwczj58+DCcffz4cRrrZK5cuXLiz798+RJvMlkXL14czn78+BFuMuaiQUBoEBAaBIQGAaFBQGgQWMrnff7e6urqcHZ0dBRuMt9cNAgIDQJCg4DQICA0CAgNAp73mXuvX78ezn7//j2c3bp1axrrnMhFg4DQICA0CAgNAkKDgNAg4Hl/wfhzt7Ozvr4+nLloEBAaBIQGAaFBQGgQ8OrIqT19+nQ4e/LkSbjJ2eeiQUBoEBAaBIQGAaFBQGgQ8LwPARcNAkKDgNAgIDQICA0CQoPA2qwXYPYuXLgwnP38+TPcZHG5aBAQGgSEBgGhQUBoEBAaBHy9DwEXDQJCg4DQICA0CAgNAkKDwB+/3l9dXR3Ojo6OJr4MLCoXDQJCg4DQICA0CAgNAgv7UfH58+eHs8PDw3CT07l69epw9vnz53ATJsFFg4DQICA0CAgNAkKDgNAgsLDP+39y586d4ezg4GA4+/79+zTWOdOeP38+nD18+DDcZL65aBAQGgSEBgGhQUBoEBAaBP4FKp6Bgig0a3MAAAAASUVORK5CYII=\" y=\"-7.041719\"/>\n   </g>\n   <g id=\"matplotlib.axis_1\">\n    <g id=\"xtick_1\">\n     <g id=\"line2d_1\">\n      <defs>\n       <path d=\"M 0 0 \nL 0 3.5 \n\" id=\"m698d0adc6b\" style=\"stroke:#000000;stroke-width:0.8;\"/>\n      </defs>\n      <g>\n       <use style=\"stroke:#000000;stroke-width:0.8;\" x=\"30.3225\" xlink:href=\"#m698d0adc6b\" y=\"225.041719\"/>\n      </g>\n     </g>\n     <g id=\"text_1\">\n      <!-- 0 -->\n      <g transform=\"translate(27.14125 239.640156)scale(0.1 -0.1)\">\n       <defs>\n        <path d=\"M 31.78125 66.40625 \nQ 24.171875 66.40625 20.328125 58.90625 \nQ 16.5 51.421875 16.5 36.375 \nQ 16.5 21.390625 20.328125 13.890625 \nQ 24.171875 6.390625 31.78125 6.390625 \nQ 39.453125 6.390625 43.28125 13.890625 \nQ 47.125 21.390625 47.125 36.375 \nQ 47.125 51.421875 43.28125 58.90625 \nQ 39.453125 66.40625 31.78125 66.40625 \nz\nM 31.78125 74.21875 \nQ 44.046875 74.21875 50.515625 64.515625 \nQ 56.984375 54.828125 56.984375 36.375 \nQ 56.984375 17.96875 50.515625 8.265625 \nQ 44.046875 -1.421875 31.78125 -1.421875 \nQ 19.53125 -1.421875 13.0625 8.265625 \nQ 6.59375 17.96875 6.59375 36.375 \nQ 6.59375 54.828125 13.0625 64.515625 \nQ 19.53125 74.21875 31.78125 74.21875 \nz\n\" id=\"DejaVuSans-48\"/>\n       </defs>\n       <use xlink:href=\"#DejaVuSans-48\"/>\n      </g>\n     </g>\n    </g>\n    <g id=\"xtick_2\">\n     <g id=\"line2d_2\">\n      <g>\n       <use style=\"stroke:#000000;stroke-width:0.8;\" x=\"64.2975\" xlink:href=\"#m698d0adc6b\" y=\"225.041719\"/>\n      </g>\n     </g>\n     <g id=\"text_2\">\n      <!-- 5 -->\n      <g transform=\"translate(61.11625 239.640156)scale(0.1 -0.1)\">\n       <defs>\n        <path d=\"M 10.796875 72.90625 \nL 49.515625 72.90625 \nL 49.515625 64.59375 \nL 19.828125 64.59375 \nL 19.828125 46.734375 \nQ 21.96875 47.46875 24.109375 47.828125 \nQ 26.265625 48.1875 28.421875 48.1875 \nQ 40.625 48.1875 47.75 41.5 \nQ 54.890625 34.8125 54.890625 23.390625 \nQ 54.890625 11.625 47.5625 5.09375 \nQ 40.234375 -1.421875 26.90625 -1.421875 \nQ 22.3125 -1.421875 17.546875 -0.640625 \nQ 12.796875 0.140625 7.71875 1.703125 \nL 7.71875 11.625 \nQ 12.109375 9.234375 16.796875 8.0625 \nQ 21.484375 6.890625 26.703125 6.890625 \nQ 35.15625 6.890625 40.078125 11.328125 \nQ 45.015625 15.765625 45.015625 23.390625 \nQ 45.015625 31 40.078125 35.4375 \nQ 35.15625 39.890625 26.703125 39.890625 \nQ 22.75 39.890625 18.8125 39.015625 \nQ 14.890625 38.140625 10.796875 36.28125 \nz\n\" id=\"DejaVuSans-53\"/>\n       </defs>\n       <use xlink:href=\"#DejaVuSans-53\"/>\n      </g>\n     </g>\n    </g>\n    <g id=\"xtick_3\">\n     <g id=\"line2d_3\">\n      <g>\n       <use style=\"stroke:#000000;stroke-width:0.8;\" x=\"98.2725\" xlink:href=\"#m698d0adc6b\" y=\"225.041719\"/>\n      </g>\n     </g>\n     <g id=\"text_3\">\n      <!-- 10 -->\n      <g transform=\"translate(91.91 239.640156)scale(0.1 -0.1)\">\n       <defs>\n        <path d=\"M 12.40625 8.296875 \nL 28.515625 8.296875 \nL 28.515625 63.921875 \nL 10.984375 60.40625 \nL 10.984375 69.390625 \nL 28.421875 72.90625 \nL 38.28125 72.90625 \nL 38.28125 8.296875 \nL 54.390625 8.296875 \nL 54.390625 0 \nL 12.40625 0 \nz\n\" id=\"DejaVuSans-49\"/>\n       </defs>\n       <use xlink:href=\"#DejaVuSans-49\"/>\n       <use x=\"63.623047\" xlink:href=\"#DejaVuSans-48\"/>\n      </g>\n     </g>\n    </g>\n    <g id=\"xtick_4\">\n     <g id=\"line2d_4\">\n      <g>\n       <use style=\"stroke:#000000;stroke-width:0.8;\" x=\"132.2475\" xlink:href=\"#m698d0adc6b\" y=\"225.041719\"/>\n      </g>\n     </g>\n     <g id=\"text_4\">\n      <!-- 15 -->\n      <g transform=\"translate(125.885 239.640156)scale(0.1 -0.1)\">\n       <use xlink:href=\"#DejaVuSans-49\"/>\n       <use x=\"63.623047\" xlink:href=\"#DejaVuSans-53\"/>\n      </g>\n     </g>\n    </g>\n    <g id=\"xtick_5\">\n     <g id=\"line2d_5\">\n      <g>\n       <use style=\"stroke:#000000;stroke-width:0.8;\" x=\"166.2225\" xlink:href=\"#m698d0adc6b\" y=\"225.041719\"/>\n      </g>\n     </g>\n     <g id=\"text_5\">\n      <!-- 20 -->\n      <g transform=\"translate(159.86 239.640156)scale(0.1 -0.1)\">\n       <defs>\n        <path d=\"M 19.1875 8.296875 \nL 53.609375 8.296875 \nL 53.609375 0 \nL 7.328125 0 \nL 7.328125 8.296875 \nQ 12.9375 14.109375 22.625 23.890625 \nQ 32.328125 33.6875 34.8125 36.53125 \nQ 39.546875 41.84375 41.421875 45.53125 \nQ 43.3125 49.21875 43.3125 52.78125 \nQ 43.3125 58.59375 39.234375 62.25 \nQ 35.15625 65.921875 28.609375 65.921875 \nQ 23.96875 65.921875 18.8125 64.3125 \nQ 13.671875 62.703125 7.8125 59.421875 \nL 7.8125 69.390625 \nQ 13.765625 71.78125 18.9375 73 \nQ 24.125 74.21875 28.421875 74.21875 \nQ 39.75 74.21875 46.484375 68.546875 \nQ 53.21875 62.890625 53.21875 53.421875 \nQ 53.21875 48.921875 51.53125 44.890625 \nQ 49.859375 40.875 45.40625 35.40625 \nQ 44.1875 33.984375 37.640625 27.21875 \nQ 31.109375 20.453125 19.1875 8.296875 \nz\n\" id=\"DejaVuSans-50\"/>\n       </defs>\n       <use xlink:href=\"#DejaVuSans-50\"/>\n       <use x=\"63.623047\" xlink:href=\"#DejaVuSans-48\"/>\n      </g>\n     </g>\n    </g>\n    <g id=\"xtick_6\">\n     <g id=\"line2d_6\">\n      <g>\n       <use style=\"stroke:#000000;stroke-width:0.8;\" x=\"200.1975\" xlink:href=\"#m698d0adc6b\" y=\"225.041719\"/>\n      </g>\n     </g>\n     <g id=\"text_6\">\n      <!-- 25 -->\n      <g transform=\"translate(193.835 239.640156)scale(0.1 -0.1)\">\n       <use xlink:href=\"#DejaVuSans-50\"/>\n       <use x=\"63.623047\" xlink:href=\"#DejaVuSans-53\"/>\n      </g>\n     </g>\n    </g>\n    <g id=\"xtick_7\">\n     <g id=\"line2d_7\">\n      <g>\n       <use style=\"stroke:#000000;stroke-width:0.8;\" x=\"234.1725\" xlink:href=\"#m698d0adc6b\" y=\"225.041719\"/>\n      </g>\n     </g>\n     <g id=\"text_7\">\n      <!-- 30 -->\n      <g transform=\"translate(227.81 239.640156)scale(0.1 -0.1)\">\n       <defs>\n        <path d=\"M 40.578125 39.3125 \nQ 47.65625 37.796875 51.625 33 \nQ 55.609375 28.21875 55.609375 21.1875 \nQ 55.609375 10.40625 48.1875 4.484375 \nQ 40.765625 -1.421875 27.09375 -1.421875 \nQ 22.515625 -1.421875 17.65625 -0.515625 \nQ 12.796875 0.390625 7.625 2.203125 \nL 7.625 11.71875 \nQ 11.71875 9.328125 16.59375 8.109375 \nQ 21.484375 6.890625 26.8125 6.890625 \nQ 36.078125 6.890625 40.9375 10.546875 \nQ 45.796875 14.203125 45.796875 21.1875 \nQ 45.796875 27.640625 41.28125 31.265625 \nQ 36.765625 34.90625 28.71875 34.90625 \nL 20.21875 34.90625 \nL 20.21875 43.015625 \nL 29.109375 43.015625 \nQ 36.375 43.015625 40.234375 45.921875 \nQ 44.09375 48.828125 44.09375 54.296875 \nQ 44.09375 59.90625 40.109375 62.90625 \nQ 36.140625 65.921875 28.71875 65.921875 \nQ 24.65625 65.921875 20.015625 65.03125 \nQ 15.375 64.15625 9.8125 62.3125 \nL 9.8125 71.09375 \nQ 15.4375 72.65625 20.34375 73.4375 \nQ 25.25 74.21875 29.59375 74.21875 \nQ 40.828125 74.21875 47.359375 69.109375 \nQ 53.90625 64.015625 53.90625 55.328125 \nQ 53.90625 49.265625 50.4375 45.09375 \nQ 46.96875 40.921875 40.578125 39.3125 \nz\n\" id=\"DejaVuSans-51\"/>\n       </defs>\n       <use xlink:href=\"#DejaVuSans-51\"/>\n       <use x=\"63.623047\" xlink:href=\"#DejaVuSans-48\"/>\n      </g>\n     </g>\n    </g>\n   </g>\n   <g id=\"matplotlib.axis_2\">\n    <g id=\"ytick_1\">\n     <g id=\"line2d_8\">\n      <defs>\n       <path d=\"M 0 0 \nL -3.5 0 \n\" id=\"ma6d4eecd77\" style=\"stroke:#000000;stroke-width:0.8;\"/>\n      </defs>\n      <g>\n       <use style=\"stroke:#000000;stroke-width:0.8;\" x=\"26.925\" xlink:href=\"#ma6d4eecd77\" y=\"10.999219\"/>\n      </g>\n     </g>\n     <g id=\"text_8\">\n      <!-- 0 -->\n      <g transform=\"translate(13.5625 14.798437)scale(0.1 -0.1)\">\n       <use xlink:href=\"#DejaVuSans-48\"/>\n      </g>\n     </g>\n    </g>\n    <g id=\"ytick_2\">\n     <g id=\"line2d_9\">\n      <g>\n       <use style=\"stroke:#000000;stroke-width:0.8;\" x=\"26.925\" xlink:href=\"#ma6d4eecd77\" y=\"44.974219\"/>\n      </g>\n     </g>\n     <g id=\"text_9\">\n      <!-- 5 -->\n      <g transform=\"translate(13.5625 48.773437)scale(0.1 -0.1)\">\n       <use xlink:href=\"#DejaVuSans-53\"/>\n      </g>\n     </g>\n    </g>\n    <g id=\"ytick_3\">\n     <g id=\"line2d_10\">\n      <g>\n       <use style=\"stroke:#000000;stroke-width:0.8;\" x=\"26.925\" xlink:href=\"#ma6d4eecd77\" y=\"78.949219\"/>\n      </g>\n     </g>\n     <g id=\"text_10\">\n      <!-- 10 -->\n      <g transform=\"translate(7.2 82.748437)scale(0.1 -0.1)\">\n       <use xlink:href=\"#DejaVuSans-49\"/>\n       <use x=\"63.623047\" xlink:href=\"#DejaVuSans-48\"/>\n      </g>\n     </g>\n    </g>\n    <g id=\"ytick_4\">\n     <g id=\"line2d_11\">\n      <g>\n       <use style=\"stroke:#000000;stroke-width:0.8;\" x=\"26.925\" xlink:href=\"#ma6d4eecd77\" y=\"112.924219\"/>\n      </g>\n     </g>\n     <g id=\"text_11\">\n      <!-- 15 -->\n      <g transform=\"translate(7.2 116.723437)scale(0.1 -0.1)\">\n       <use xlink:href=\"#DejaVuSans-49\"/>\n       <use x=\"63.623047\" xlink:href=\"#DejaVuSans-53\"/>\n      </g>\n     </g>\n    </g>\n    <g id=\"ytick_5\">\n     <g id=\"line2d_12\">\n      <g>\n       <use style=\"stroke:#000000;stroke-width:0.8;\" x=\"26.925\" xlink:href=\"#ma6d4eecd77\" y=\"146.899219\"/>\n      </g>\n     </g>\n     <g id=\"text_12\">\n      <!-- 20 -->\n      <g transform=\"translate(7.2 150.698437)scale(0.1 -0.1)\">\n       <use xlink:href=\"#DejaVuSans-50\"/>\n       <use x=\"63.623047\" xlink:href=\"#DejaVuSans-48\"/>\n      </g>\n     </g>\n    </g>\n    <g id=\"ytick_6\">\n     <g id=\"line2d_13\">\n      <g>\n       <use style=\"stroke:#000000;stroke-width:0.8;\" x=\"26.925\" xlink:href=\"#ma6d4eecd77\" y=\"180.874219\"/>\n      </g>\n     </g>\n     <g id=\"text_13\">\n      <!-- 25 -->\n      <g transform=\"translate(7.2 184.673437)scale(0.1 -0.1)\">\n       <use xlink:href=\"#DejaVuSans-50\"/>\n       <use x=\"63.623047\" xlink:href=\"#DejaVuSans-53\"/>\n      </g>\n     </g>\n    </g>\n    <g id=\"ytick_7\">\n     <g id=\"line2d_14\">\n      <g>\n       <use style=\"stroke:#000000;stroke-width:0.8;\" x=\"26.925\" xlink:href=\"#ma6d4eecd77\" y=\"214.849219\"/>\n      </g>\n     </g>\n     <g id=\"text_14\">\n      <!-- 30 -->\n      <g transform=\"translate(7.2 218.648437)scale(0.1 -0.1)\">\n       <use xlink:href=\"#DejaVuSans-51\"/>\n       <use x=\"63.623047\" xlink:href=\"#DejaVuSans-48\"/>\n      </g>\n     </g>\n    </g>\n   </g>\n   <g id=\"patch_3\">\n    <path d=\"M 26.925 225.041719 \nL 26.925 7.601719 \n\" style=\"fill:none;stroke:#000000;stroke-linecap:square;stroke-linejoin:miter;stroke-width:0.8;\"/>\n   </g>\n   <g id=\"patch_4\">\n    <path d=\"M 244.365 225.041719 \nL 244.365 7.601719 \n\" style=\"fill:none;stroke:#000000;stroke-linecap:square;stroke-linejoin:miter;stroke-width:0.8;\"/>\n   </g>\n   <g id=\"patch_5\">\n    <path d=\"M 26.925 225.041719 \nL 244.365 225.041719 \n\" style=\"fill:none;stroke:#000000;stroke-linecap:square;stroke-linejoin:miter;stroke-width:0.8;\"/>\n   </g>\n   <g id=\"patch_6\">\n    <path d=\"M 26.925 7.601719 \nL 244.365 7.601719 \n\" style=\"fill:none;stroke:#000000;stroke-linecap:square;stroke-linejoin:miter;stroke-width:0.8;\"/>\n   </g>\n  </g>\n </g>\n <defs>\n  <clipPath id=\"p95e9d329fa\">\n   <rect height=\"217.44\" width=\"217.44\" x=\"26.925\" y=\"7.601719\"/>\n  </clipPath>\n </defs>\n</svg>\n",
            "image/png": "[encoded data removed]"
          },
          "metadata": {
            "needs_background": "light"
          }
        },
        {
          "output_type": "display_data",
          "data": {
            "text/plain": "<Figure size 432x288 with 1 Axes>",
            "image/svg+xml": "<?xml version=\"1.0\" encoding=\"utf-8\" standalone=\"no\"?>\n<!DOCTYPE svg PUBLIC \"-//W3C//DTD SVG 1.1//EN\"\n  \"http://www.w3.org/Graphics/SVG/1.1/DTD/svg11.dtd\">\n<!-- Created with matplotlib (https://matplotlib.org/) -->\n<svg height=\"248.919844pt\" version=\"1.1\" viewBox=\"0 0 251.565 248.919844\" width=\"251.565pt\" xmlns=\"http://www.w3.org/2000/svg\" xmlns:xlink=\"http://www.w3.org/1999/xlink\">\n <metadata>\n  <rdf:RDF xmlns:cc=\"http://creativecommons.org/ns#\" xmlns:dc=\"http://purl.org/dc/elements/1.1/\" xmlns:rdf=\"http://www.w3.org/1999/02/22-rdf-syntax-ns#\">\n   <cc:Work>\n    <dc:type rdf:resource=\"http://purl.org/dc/dcmitype/StillImage\"/>\n    <dc:date>2021-05-07T11:18:39.032993</dc:date>\n    <dc:format>image/svg+xml</dc:format>\n    <dc:creator>\n     <cc:Agent>\n      <dc:title>Matplotlib v3.3.2, https://matplotlib.org/</dc:title>\n     </cc:Agent>\n    </dc:creator>\n   </cc:Work>\n  </rdf:RDF>\n </metadata>\n <defs>\n  <style type=\"text/css\">*{stroke-linecap:butt;stroke-linejoin:round;}</style>\n </defs>\n <g id=\"figure_1\">\n  <g id=\"patch_1\">\n   <path d=\"M 0 248.919844 \nL 251.565 248.919844 \nL 251.565 0 \nL 0 0 \nz\n\" style=\"fill:none;\"/>\n  </g>\n  <g id=\"axes_1\">\n   <g id=\"patch_2\">\n    <path d=\"M 26.925 225.041719 \nL 244.365 225.041719 \nL 244.365 7.601719 \nL 26.925 7.601719 \nz\n\" style=\"fill:#ffffff;\"/>\n   </g>\n   <g clip-path=\"url(#p63d5d3253c)\">\n    <image height=\"218\" id=\"imagef07bf7084b\" transform=\"scale(1 -1)translate(0 -218)\" width=\"218\" x=\"26.925\" xlink:href=\"data:image/png;base64,\niVBORw0KGgoAAAANSUhEUgAAANoAAADaCAYAAADAHVzbAAAEjElEQVR4nO3cP2oVaxjA4ZMYTSxEtDCkE9xDKhvJClyAnXaCli5Dwc50LsAVBCub7EGwk1gIYmH8l9zmwgWdD67Hk5/H5HnK+WDyGvj5wmSYldlsdjxboFu3bg3PXr58ucgf9ddYXV2dvH50dBRPstyuXr06PHv//v1c9xz97mez9vc/ngJYGKFBQGgQEBoEhAYBoUFgZbbgx/vAz2w0CAgNAkKDgNAgIDQICA0Ca4u+4d27d4dnu7u7i/5x/IKHDx9OXn/8+HE6x2n16NGj4ZmNBgGhQUBoEBAaBIQGAS8VQ8BGg4DQICA0CAgNAkKDgNAgMPdLxefPn5+8/vXr17mH4T+3b98enr148SKchEWw0SAgNAgIDQJCg4DQICA0CHh7HwI2GgSEBgGhQUBoEBAaBIQGgYV/Enxely5dGp59/PhxeLa2Nv1P+Pbt22/P9KOLFy8Ozz59+rTQn3Xv3r3h2bNnz+a65/b29uT1/f39ue7H/2ejQUBoEBAaBIQGAaFBQGgQ8Pb+H7S5uTk8Ozg4CCfhpNloEBAaBIQGAaFBQGgQEBoEPN6HgI0GAaFBQGgQEBoEhAaBpflmyFn04MGD4dmTJ0/CSfjRjRs3Jq+/fv16rvvZaBAQGgSEBgGhQUBoEBAaBLxUDAEbDQJCg4DQICA0CAgNAkKDgNAgIDQICA0CQoOA0CAgNAgIDQI+zsNsfX19ePb58+dwktPLRoOA0CAgNAgIDQJCg4DQIODx/ilzfDz+1tLNmzcnr7969eqkxuFfNhoEhAYBoUFAaBAQGgR8EhwCNhoEhAYBoUFAaBAQGgSEBgEvFcOEnZ2dyet7e3tz3c9Gg4DQICA0CAgNAkKDgNAgsDRv729sbAzPDg8Pw0nmc+3ateHZu3fvwklYRjYaBIQGAaFBQGgQEBoEhAaBpXm8z9kx+lPIaf4ziI0GAaFBQGgQEBoEhAYBoUHA432Wxp07d4Znz58/DydZPBsNAkKDgNAgIDQICA0Cnjouqfv37w/Pnj59Gk6yeFtbW5PX3759G0/SsdEgIDQICA0CQoOA0CAgNAh4vA8BGw0CQoOA0CAgNAgIDQJCg4DQICA0CAgNAkKDgNAgIDQICA0Ca396ADhJOzs7w7O9vb1sDhsNAkKDgNAgIDQICA0CQoOAj/NwIi5cuDA8+/LlSzjJcrDRICA0CAgNAkKDgNAgIDQI/PVv729ubk5ePzg4iCc5e65fvz48e/PmTTZH6dy5c8Oz79+/D89sNAgIDQJCg4DQICA0CMz9UvH29vbk9f39/d+ZB04lGw0CQoOA0CAgNAgIDQJCg4BvhvyC1dXx/0tHR0fhJKfTxsbG8Ozw8DCcZPFsNAgIDQJCg4DQICA0CAgNAh7vQ8BGg4DQICA0CAgNAkKDgNAg8Nd/EhyWxZUrV4ZnNhoEhAYBoUFAaBAQGgSEBgFv78MvWFlZGZ4dH49TstEgIDQICA0CQoOA0CDgqSMEbDQICA0CQoOA0CAgNAgIDQK+GXKGXL58efL6hw8f4knOHhsNAkKDgNAgIDQICA0CQoPAPzlBgkAJfkhmAAAAAElFTkSuQmCC\" y=\"-7.041719\"/>\n   </g>\n   <g id=\"matplotlib.axis_1\">\n    <g id=\"xtick_1\">\n     <g id=\"line2d_1\">\n      <defs>\n       <path d=\"M 0 0 \nL 0 3.5 \n\" id=\"m9a52c39dbb\" style=\"stroke:#000000;stroke-width:0.8;\"/>\n      </defs>\n      <g>\n       <use style=\"stroke:#000000;stroke-width:0.8;\" x=\"30.3225\" xlink:href=\"#m9a52c39dbb\" y=\"225.041719\"/>\n      </g>\n     </g>\n     <g id=\"text_1\">\n      <!-- 0 -->\n      <g transform=\"translate(27.14125 239.640156)scale(0.1 -0.1)\">\n       <defs>\n        <path d=\"M 31.78125 66.40625 \nQ 24.171875 66.40625 20.328125 58.90625 \nQ 16.5 51.421875 16.5 36.375 \nQ 16.5 21.390625 20.328125 13.890625 \nQ 24.171875 6.390625 31.78125 6.390625 \nQ 39.453125 6.390625 43.28125 13.890625 \nQ 47.125 21.390625 47.125 36.375 \nQ 47.125 51.421875 43.28125 58.90625 \nQ 39.453125 66.40625 31.78125 66.40625 \nz\nM 31.78125 74.21875 \nQ 44.046875 74.21875 50.515625 64.515625 \nQ 56.984375 54.828125 56.984375 36.375 \nQ 56.984375 17.96875 50.515625 8.265625 \nQ 44.046875 -1.421875 31.78125 -1.421875 \nQ 19.53125 -1.421875 13.0625 8.265625 \nQ 6.59375 17.96875 6.59375 36.375 \nQ 6.59375 54.828125 13.0625 64.515625 \nQ 19.53125 74.21875 31.78125 74.21875 \nz\n\" id=\"DejaVuSans-48\"/>\n       </defs>\n       <use xlink:href=\"#DejaVuSans-48\"/>\n      </g>\n     </g>\n    </g>\n    <g id=\"xtick_2\">\n     <g id=\"line2d_2\">\n      <g>\n       <use style=\"stroke:#000000;stroke-width:0.8;\" x=\"64.2975\" xlink:href=\"#m9a52c39dbb\" y=\"225.041719\"/>\n      </g>\n     </g>\n     <g id=\"text_2\">\n      <!-- 5 -->\n      <g transform=\"translate(61.11625 239.640156)scale(0.1 -0.1)\">\n       <defs>\n        <path d=\"M 10.796875 72.90625 \nL 49.515625 72.90625 \nL 49.515625 64.59375 \nL 19.828125 64.59375 \nL 19.828125 46.734375 \nQ 21.96875 47.46875 24.109375 47.828125 \nQ 26.265625 48.1875 28.421875 48.1875 \nQ 40.625 48.1875 47.75 41.5 \nQ 54.890625 34.8125 54.890625 23.390625 \nQ 54.890625 11.625 47.5625 5.09375 \nQ 40.234375 -1.421875 26.90625 -1.421875 \nQ 22.3125 -1.421875 17.546875 -0.640625 \nQ 12.796875 0.140625 7.71875 1.703125 \nL 7.71875 11.625 \nQ 12.109375 9.234375 16.796875 8.0625 \nQ 21.484375 6.890625 26.703125 6.890625 \nQ 35.15625 6.890625 40.078125 11.328125 \nQ 45.015625 15.765625 45.015625 23.390625 \nQ 45.015625 31 40.078125 35.4375 \nQ 35.15625 39.890625 26.703125 39.890625 \nQ 22.75 39.890625 18.8125 39.015625 \nQ 14.890625 38.140625 10.796875 36.28125 \nz\n\" id=\"DejaVuSans-53\"/>\n       </defs>\n       <use xlink:href=\"#DejaVuSans-53\"/>\n      </g>\n     </g>\n    </g>\n    <g id=\"xtick_3\">\n     <g id=\"line2d_3\">\n      <g>\n       <use style=\"stroke:#000000;stroke-width:0.8;\" x=\"98.2725\" xlink:href=\"#m9a52c39dbb\" y=\"225.041719\"/>\n      </g>\n     </g>\n     <g id=\"text_3\">\n      <!-- 10 -->\n      <g transform=\"translate(91.91 239.640156)scale(0.1 -0.1)\">\n       <defs>\n        <path d=\"M 12.40625 8.296875 \nL 28.515625 8.296875 \nL 28.515625 63.921875 \nL 10.984375 60.40625 \nL 10.984375 69.390625 \nL 28.421875 72.90625 \nL 38.28125 72.90625 \nL 38.28125 8.296875 \nL 54.390625 8.296875 \nL 54.390625 0 \nL 12.40625 0 \nz\n\" id=\"DejaVuSans-49\"/>\n       </defs>\n       <use xlink:href=\"#DejaVuSans-49\"/>\n       <use x=\"63.623047\" xlink:href=\"#DejaVuSans-48\"/>\n      </g>\n     </g>\n    </g>\n    <g id=\"xtick_4\">\n     <g id=\"line2d_4\">\n      <g>\n       <use style=\"stroke:#000000;stroke-width:0.8;\" x=\"132.2475\" xlink:href=\"#m9a52c39dbb\" y=\"225.041719\"/>\n      </g>\n     </g>\n     <g id=\"text_4\">\n      <!-- 15 -->\n      <g transform=\"translate(125.885 239.640156)scale(0.1 -0.1)\">\n       <use xlink:href=\"#DejaVuSans-49\"/>\n       <use x=\"63.623047\" xlink:href=\"#DejaVuSans-53\"/>\n      </g>\n     </g>\n    </g>\n    <g id=\"xtick_5\">\n     <g id=\"line2d_5\">\n      <g>\n       <use style=\"stroke:#000000;stroke-width:0.8;\" x=\"166.2225\" xlink:href=\"#m9a52c39dbb\" y=\"225.041719\"/>\n      </g>\n     </g>\n     <g id=\"text_5\">\n      <!-- 20 -->\n      <g transform=\"translate(159.86 239.640156)scale(0.1 -0.1)\">\n       <defs>\n        <path d=\"M 19.1875 8.296875 \nL 53.609375 8.296875 \nL 53.609375 0 \nL 7.328125 0 \nL 7.328125 8.296875 \nQ 12.9375 14.109375 22.625 23.890625 \nQ 32.328125 33.6875 34.8125 36.53125 \nQ 39.546875 41.84375 41.421875 45.53125 \nQ 43.3125 49.21875 43.3125 52.78125 \nQ 43.3125 58.59375 39.234375 62.25 \nQ 35.15625 65.921875 28.609375 65.921875 \nQ 23.96875 65.921875 18.8125 64.3125 \nQ 13.671875 62.703125 7.8125 59.421875 \nL 7.8125 69.390625 \nQ 13.765625 71.78125 18.9375 73 \nQ 24.125 74.21875 28.421875 74.21875 \nQ 39.75 74.21875 46.484375 68.546875 \nQ 53.21875 62.890625 53.21875 53.421875 \nQ 53.21875 48.921875 51.53125 44.890625 \nQ 49.859375 40.875 45.40625 35.40625 \nQ 44.1875 33.984375 37.640625 27.21875 \nQ 31.109375 20.453125 19.1875 8.296875 \nz\n\" id=\"DejaVuSans-50\"/>\n       </defs>\n       <use xlink:href=\"#DejaVuSans-50\"/>\n       <use x=\"63.623047\" xlink:href=\"#DejaVuSans-48\"/>\n      </g>\n     </g>\n    </g>\n    <g id=\"xtick_6\">\n     <g id=\"line2d_6\">\n      <g>\n       <use style=\"stroke:#000000;stroke-width:0.8;\" x=\"200.1975\" xlink:href=\"#m9a52c39dbb\" y=\"225.041719\"/>\n      </g>\n     </g>\n     <g id=\"text_6\">\n      <!-- 25 -->\n      <g transform=\"translate(193.835 239.640156)scale(0.1 -0.1)\">\n       <use xlink:href=\"#DejaVuSans-50\"/>\n       <use x=\"63.623047\" xlink:href=\"#DejaVuSans-53\"/>\n      </g>\n     </g>\n    </g>\n    <g id=\"xtick_7\">\n     <g id=\"line2d_7\">\n      <g>\n       <use style=\"stroke:#000000;stroke-width:0.8;\" x=\"234.1725\" xlink:href=\"#m9a52c39dbb\" y=\"225.041719\"/>\n      </g>\n     </g>\n     <g id=\"text_7\">\n      <!-- 30 -->\n      <g transform=\"translate(227.81 239.640156)scale(0.1 -0.1)\">\n       <defs>\n        <path d=\"M 40.578125 39.3125 \nQ 47.65625 37.796875 51.625 33 \nQ 55.609375 28.21875 55.609375 21.1875 \nQ 55.609375 10.40625 48.1875 4.484375 \nQ 40.765625 -1.421875 27.09375 -1.421875 \nQ 22.515625 -1.421875 17.65625 -0.515625 \nQ 12.796875 0.390625 7.625 2.203125 \nL 7.625 11.71875 \nQ 11.71875 9.328125 16.59375 8.109375 \nQ 21.484375 6.890625 26.8125 6.890625 \nQ 36.078125 6.890625 40.9375 10.546875 \nQ 45.796875 14.203125 45.796875 21.1875 \nQ 45.796875 27.640625 41.28125 31.265625 \nQ 36.765625 34.90625 28.71875 34.90625 \nL 20.21875 34.90625 \nL 20.21875 43.015625 \nL 29.109375 43.015625 \nQ 36.375 43.015625 40.234375 45.921875 \nQ 44.09375 48.828125 44.09375 54.296875 \nQ 44.09375 59.90625 40.109375 62.90625 \nQ 36.140625 65.921875 28.71875 65.921875 \nQ 24.65625 65.921875 20.015625 65.03125 \nQ 15.375 64.15625 9.8125 62.3125 \nL 9.8125 71.09375 \nQ 15.4375 72.65625 20.34375 73.4375 \nQ 25.25 74.21875 29.59375 74.21875 \nQ 40.828125 74.21875 47.359375 69.109375 \nQ 53.90625 64.015625 53.90625 55.328125 \nQ 53.90625 49.265625 50.4375 45.09375 \nQ 46.96875 40.921875 40.578125 39.3125 \nz\n\" id=\"DejaVuSans-51\"/>\n       </defs>\n       <use xlink:href=\"#DejaVuSans-51\"/>\n       <use x=\"63.623047\" xlink:href=\"#DejaVuSans-48\"/>\n      </g>\n     </g>\n    </g>\n   </g>\n   <g id=\"matplotlib.axis_2\">\n    <g id=\"ytick_1\">\n     <g id=\"line2d_8\">\n      <defs>\n       <path d=\"M 0 0 \nL -3.5 0 \n\" id=\"m993540c0b7\" style=\"stroke:#000000;stroke-width:0.8;\"/>\n      </defs>\n      <g>\n       <use style=\"stroke:#000000;stroke-width:0.8;\" x=\"26.925\" xlink:href=\"#m993540c0b7\" y=\"10.999219\"/>\n      </g>\n     </g>\n     <g id=\"text_8\">\n      <!-- 0 -->\n      <g transform=\"translate(13.5625 14.798437)scale(0.1 -0.1)\">\n       <use xlink:href=\"#DejaVuSans-48\"/>\n      </g>\n     </g>\n    </g>\n    <g id=\"ytick_2\">\n     <g id=\"line2d_9\">\n      <g>\n       <use style=\"stroke:#000000;stroke-width:0.8;\" x=\"26.925\" xlink:href=\"#m993540c0b7\" y=\"44.974219\"/>\n      </g>\n     </g>\n     <g id=\"text_9\">\n      <!-- 5 -->\n      <g transform=\"translate(13.5625 48.773437)scale(0.1 -0.1)\">\n       <use xlink:href=\"#DejaVuSans-53\"/>\n      </g>\n     </g>\n    </g>\n    <g id=\"ytick_3\">\n     <g id=\"line2d_10\">\n      <g>\n       <use style=\"stroke:#000000;stroke-width:0.8;\" x=\"26.925\" xlink:href=\"#m993540c0b7\" y=\"78.949219\"/>\n      </g>\n     </g>\n     <g id=\"text_10\">\n      <!-- 10 -->\n      <g transform=\"translate(7.2 82.748437)scale(0.1 -0.1)\">\n       <use xlink:href=\"#DejaVuSans-49\"/>\n       <use x=\"63.623047\" xlink:href=\"#DejaVuSans-48\"/>\n      </g>\n     </g>\n    </g>\n    <g id=\"ytick_4\">\n     <g id=\"line2d_11\">\n      <g>\n       <use style=\"stroke:#000000;stroke-width:0.8;\" x=\"26.925\" xlink:href=\"#m993540c0b7\" y=\"112.924219\"/>\n      </g>\n     </g>\n     <g id=\"text_11\">\n      <!-- 15 -->\n      <g transform=\"translate(7.2 116.723437)scale(0.1 -0.1)\">\n       <use xlink:href=\"#DejaVuSans-49\"/>\n       <use x=\"63.623047\" xlink:href=\"#DejaVuSans-53\"/>\n      </g>\n     </g>\n    </g>\n    <g id=\"ytick_5\">\n     <g id=\"line2d_12\">\n      <g>\n       <use style=\"stroke:#000000;stroke-width:0.8;\" x=\"26.925\" xlink:href=\"#m993540c0b7\" y=\"146.899219\"/>\n      </g>\n     </g>\n     <g id=\"text_12\">\n      <!-- 20 -->\n      <g transform=\"translate(7.2 150.698437)scale(0.1 -0.1)\">\n       <use xlink:href=\"#DejaVuSans-50\"/>\n       <use x=\"63.623047\" xlink:href=\"#DejaVuSans-48\"/>\n      </g>\n     </g>\n    </g>\n    <g id=\"ytick_6\">\n     <g id=\"line2d_13\">\n      <g>\n       <use style=\"stroke:#000000;stroke-width:0.8;\" x=\"26.925\" xlink:href=\"#m993540c0b7\" y=\"180.874219\"/>\n      </g>\n     </g>\n     <g id=\"text_13\">\n      <!-- 25 -->\n      <g transform=\"translate(7.2 184.673437)scale(0.1 -0.1)\">\n       <use xlink:href=\"#DejaVuSans-50\"/>\n       <use x=\"63.623047\" xlink:href=\"#DejaVuSans-53\"/>\n      </g>\n     </g>\n    </g>\n    <g id=\"ytick_7\">\n     <g id=\"line2d_14\">\n      <g>\n       <use style=\"stroke:#000000;stroke-width:0.8;\" x=\"26.925\" xlink:href=\"#m993540c0b7\" y=\"214.849219\"/>\n      </g>\n     </g>\n     <g id=\"text_14\">\n      <!-- 30 -->\n      <g transform=\"translate(7.2 218.648437)scale(0.1 -0.1)\">\n       <use xlink:href=\"#DejaVuSans-51\"/>\n       <use x=\"63.623047\" xlink:href=\"#DejaVuSans-48\"/>\n      </g>\n     </g>\n    </g>\n   </g>\n   <g id=\"patch_3\">\n    <path d=\"M 26.925 225.041719 \nL 26.925 7.601719 \n\" style=\"fill:none;stroke:#000000;stroke-linecap:square;stroke-linejoin:miter;stroke-width:0.8;\"/>\n   </g>\n   <g id=\"patch_4\">\n    <path d=\"M 244.365 225.041719 \nL 244.365 7.601719 \n\" style=\"fill:none;stroke:#000000;stroke-linecap:square;stroke-linejoin:miter;stroke-width:0.8;\"/>\n   </g>\n   <g id=\"patch_5\">\n    <path d=\"M 26.925 225.041719 \nL 244.365 225.041719 \n\" style=\"fill:none;stroke:#000000;stroke-linecap:square;stroke-linejoin:miter;stroke-width:0.8;\"/>\n   </g>\n   <g id=\"patch_6\">\n    <path d=\"M 26.925 7.601719 \nL 244.365 7.601719 \n\" style=\"fill:none;stroke:#000000;stroke-linecap:square;stroke-linejoin:miter;stroke-width:0.8;\"/>\n   </g>\n  </g>\n </g>\n <defs>\n  <clipPath id=\"p63d5d3253c\">\n   <rect height=\"217.44\" width=\"217.44\" x=\"26.925\" y=\"7.601719\"/>\n  </clipPath>\n </defs>\n</svg>\n",
            "image/png": "[encoded data removed]"
          },
          "metadata": {
            "needs_background": "light"
          }
        },
        {
          "output_type": "display_data",
          "data": {
            "text/plain": "<Figure size 432x288 with 1 Axes>",
            "image/svg+xml": "<?xml version=\"1.0\" encoding=\"utf-8\" standalone=\"no\"?>\n<!DOCTYPE svg PUBLIC \"-//W3C//DTD SVG 1.1//EN\"\n  \"http://www.w3.org/Graphics/SVG/1.1/DTD/svg11.dtd\">\n<!-- Created with matplotlib (https://matplotlib.org/) -->\n<svg height=\"248.919844pt\" version=\"1.1\" viewBox=\"0 0 251.565 248.919844\" width=\"251.565pt\" xmlns=\"http://www.w3.org/2000/svg\" xmlns:xlink=\"http://www.w3.org/1999/xlink\">\n <metadata>\n  <rdf:RDF xmlns:cc=\"http://creativecommons.org/ns#\" xmlns:dc=\"http://purl.org/dc/elements/1.1/\" xmlns:rdf=\"http://www.w3.org/1999/02/22-rdf-syntax-ns#\">\n   <cc:Work>\n    <dc:type rdf:resource=\"http://purl.org/dc/dcmitype/StillImage\"/>\n    <dc:date>2021-05-07T11:18:39.218624</dc:date>\n    <dc:format>image/svg+xml</dc:format>\n    <dc:creator>\n     <cc:Agent>\n      <dc:title>Matplotlib v3.3.2, https://matplotlib.org/</dc:title>\n     </cc:Agent>\n    </dc:creator>\n   </cc:Work>\n  </rdf:RDF>\n </metadata>\n <defs>\n  <style type=\"text/css\">*{stroke-linecap:butt;stroke-linejoin:round;}</style>\n </defs>\n <g id=\"figure_1\">\n  <g id=\"patch_1\">\n   <path d=\"M 0 248.919844 \nL 251.565 248.919844 \nL 251.565 0 \nL 0 0 \nz\n\" style=\"fill:none;\"/>\n  </g>\n  <g id=\"axes_1\">\n   <g id=\"patch_2\">\n    <path d=\"M 26.925 225.041719 \nL 244.365 225.041719 \nL 244.365 7.601719 \nL 26.925 7.601719 \nz\n\" style=\"fill:#ffffff;\"/>\n   </g>\n   <g clip-path=\"url(#pa38ed021e7)\">\n    <image height=\"218\" id=\"image440d81b92a\" transform=\"scale(1 -1)translate(0 -218)\" width=\"218\" x=\"26.925\" xlink:href=\"data:image/png;base64,\niVBORw0KGgoAAAANSUhEUgAAANoAAADaCAYAAADAHVzbAAAFHElEQVR4nO3dMUubaxjH4eSkRUS0bsWCXXTrFxA/QcW50n4CHZu1i7SDo3G0i6vSzkVnB+kX6FJsKQpmtZUgpQQ7ncOh5JFz4uvfGK9rfG+MN5YfDzyEt/VarXZR4x+NRqM463a7wU2owps3b4qzra2t4uzbt2+V7vFXpZ8G9CQ0CBAaBAgNAoQGAUKDgHrN9T5cOycaBAgNAoQGAUKDAKFBgNAgQGgQIDQIEBoECA0ChAYBQoOAeze9ADlzc3M9n3/8+DG8yd3jRIMAoUGA0CBAaBAgNAgQGgQM7TtDFhYWirPd3d3gJuBEgwihQYDQIEBoECA0CBAaBAzt9X6/pqamirN2ux3cJKfZbBZnrVYruMnwcqJBgNAgQGgQIDQIEBoECA0CXO//YXJysjg7PT2N7UE1xsfHi7Ozs7PYHk40CBAaBAgNAoQGAUKDAKFBwNBe7799+7Y4W15eDm7Cn168eNHz+fb2dniTHCcaBAgNAoQGAUKDAKFBgNAgYGiv92GQONEgQGgQIDQIEBoECA0C7t30AsPi+fPnxdnOzk5wEwaREw0ChAYBQoMAoUGA0CBAaBDgS8U3aHFxsTj78OFDcBOumxMNAoQGAUKDAKFBgNAgQGgQMDDX++/evSvOlpaWgptA9ZxoECA0CBAaBAgNAoQGAUKDgIG53odh5kSDAKFBgNAgQGgQIDQIEBoEVP7u/dnZ2eLs8PCw6l/HLTQ+Pt7z+dnZWXiTHCcaBAgNAoQGAUKDAKFBQOVfKr5//35x9uvXr+JsbGysOHv48GFx9vXr157PZ2Zmij/z5cuX4ixpb2+vOHv69GlwE66bEw0ChAYBQoMAoUGA0CBAaBDgnSEDqtFoFGfdbje4CVVwokGA0CBAaBAgNAgQGgQIDQJc73MtRkZGirOfP38GNxkMTjQIEBoECA0ChAYBQoMAoUFA5df7zWazOGu1WlX+Krg1nGgQIDQIEBoECA0ChAYBQoOAvq/3S+/K73Q6V9mHa7S2ttbz+atXr4o/Mzk5WZydnp5ecaPbp9+XJjnRIEBoECA0CBAaBAgNArwz5A+bm5vF2crKSnATqnDZv+f6+npx9vnz50r3cKJBgNAgQGgQIDQIEBoECA0CXO9DD0+ePOn5/NOnT319nhMNAoQGAUKDAKFBgNAgQGgQEL3evw3/C+TFRfnPUa/Xg5uUbWxsFGcvX76M7cF/50SDAKFBgNAgQGgQIDQIEBoE+Pb+gJqeni7Ojo+Pg5tQBScaBAgNAoQGAUKDAKFBgNAgwPU+l5qamirO2u12cJPbzYkGAUKDAKFBgNAgQGgQIDQIqE9MTBSv93/8+PH/P/CSF9hc9uIbGGZONAgQGgQIDQKEBgFCg4C+v1T8+vXrns9XV1evsg8MJScaBAgNAoQGAUKDAKFBgNAg4E6+M2R0dLQ4Oz8/D27CXeFEgwChQYDQIEBoECA0CBAaBNQfPHhQvN7//v17chcYGI1Go+fzbrfb1+c50SBAaBAgNAgQGgQIDQKEBgF38tv7/ZqYmCjO+nl9OneHEw0ChAYBQoMAoUGA0CBAaBDgen/IjI2NFWedTie4Cf/mRIMAoUGA0CBAaBAgNAgYmFvHR48eFWcnJyfBTXLev39fnD179iy2x+PHj4uzo6Oj2B7DzIkGAUKDAKFBgNAgQGgQIDQIuHfTC/xtWK/wL7O/v3/TK9RqtfwV/vz8fM/nBwcH0T2SnGgQIDQIEBoECA0ChAYBQoOA3xHgtCUhOEvnAAAAAElFTkSuQmCC\" y=\"-7.041719\"/>\n   </g>\n   <g id=\"matplotlib.axis_1\">\n    <g id=\"xtick_1\">\n     <g id=\"line2d_1\">\n      <defs>\n       <path d=\"M 0 0 \nL 0 3.5 \n\" id=\"m46f95f3e61\" style=\"stroke:#000000;stroke-width:0.8;\"/>\n      </defs>\n      <g>\n       <use style=\"stroke:#000000;stroke-width:0.8;\" x=\"30.3225\" xlink:href=\"#m46f95f3e61\" y=\"225.041719\"/>\n      </g>\n     </g>\n     <g id=\"text_1\">\n      <!-- 0 -->\n      <g transform=\"translate(27.14125 239.640156)scale(0.1 -0.1)\">\n       <defs>\n        <path d=\"M 31.78125 66.40625 \nQ 24.171875 66.40625 20.328125 58.90625 \nQ 16.5 51.421875 16.5 36.375 \nQ 16.5 21.390625 20.328125 13.890625 \nQ 24.171875 6.390625 31.78125 6.390625 \nQ 39.453125 6.390625 43.28125 13.890625 \nQ 47.125 21.390625 47.125 36.375 \nQ 47.125 51.421875 43.28125 58.90625 \nQ 39.453125 66.40625 31.78125 66.40625 \nz\nM 31.78125 74.21875 \nQ 44.046875 74.21875 50.515625 64.515625 \nQ 56.984375 54.828125 56.984375 36.375 \nQ 56.984375 17.96875 50.515625 8.265625 \nQ 44.046875 -1.421875 31.78125 -1.421875 \nQ 19.53125 -1.421875 13.0625 8.265625 \nQ 6.59375 17.96875 6.59375 36.375 \nQ 6.59375 54.828125 13.0625 64.515625 \nQ 19.53125 74.21875 31.78125 74.21875 \nz\n\" id=\"DejaVuSans-48\"/>\n       </defs>\n       <use xlink:href=\"#DejaVuSans-48\"/>\n      </g>\n     </g>\n    </g>\n    <g id=\"xtick_2\">\n     <g id=\"line2d_2\">\n      <g>\n       <use style=\"stroke:#000000;stroke-width:0.8;\" x=\"64.2975\" xlink:href=\"#m46f95f3e61\" y=\"225.041719\"/>\n      </g>\n     </g>\n     <g id=\"text_2\">\n      <!-- 5 -->\n      <g transform=\"translate(61.11625 239.640156)scale(0.1 -0.1)\">\n       <defs>\n        <path d=\"M 10.796875 72.90625 \nL 49.515625 72.90625 \nL 49.515625 64.59375 \nL 19.828125 64.59375 \nL 19.828125 46.734375 \nQ 21.96875 47.46875 24.109375 47.828125 \nQ 26.265625 48.1875 28.421875 48.1875 \nQ 40.625 48.1875 47.75 41.5 \nQ 54.890625 34.8125 54.890625 23.390625 \nQ 54.890625 11.625 47.5625 5.09375 \nQ 40.234375 -1.421875 26.90625 -1.421875 \nQ 22.3125 -1.421875 17.546875 -0.640625 \nQ 12.796875 0.140625 7.71875 1.703125 \nL 7.71875 11.625 \nQ 12.109375 9.234375 16.796875 8.0625 \nQ 21.484375 6.890625 26.703125 6.890625 \nQ 35.15625 6.890625 40.078125 11.328125 \nQ 45.015625 15.765625 45.015625 23.390625 \nQ 45.015625 31 40.078125 35.4375 \nQ 35.15625 39.890625 26.703125 39.890625 \nQ 22.75 39.890625 18.8125 39.015625 \nQ 14.890625 38.140625 10.796875 36.28125 \nz\n\" id=\"DejaVuSans-53\"/>\n       </defs>\n       <use xlink:href=\"#DejaVuSans-53\"/>\n      </g>\n     </g>\n    </g>\n    <g id=\"xtick_3\">\n     <g id=\"line2d_3\">\n      <g>\n       <use style=\"stroke:#000000;stroke-width:0.8;\" x=\"98.2725\" xlink:href=\"#m46f95f3e61\" y=\"225.041719\"/>\n      </g>\n     </g>\n     <g id=\"text_3\">\n      <!-- 10 -->\n      <g transform=\"translate(91.91 239.640156)scale(0.1 -0.1)\">\n       <defs>\n        <path d=\"M 12.40625 8.296875 \nL 28.515625 8.296875 \nL 28.515625 63.921875 \nL 10.984375 60.40625 \nL 10.984375 69.390625 \nL 28.421875 72.90625 \nL 38.28125 72.90625 \nL 38.28125 8.296875 \nL 54.390625 8.296875 \nL 54.390625 0 \nL 12.40625 0 \nz\n\" id=\"DejaVuSans-49\"/>\n       </defs>\n       <use xlink:href=\"#DejaVuSans-49\"/>\n       <use x=\"63.623047\" xlink:href=\"#DejaVuSans-48\"/>\n      </g>\n     </g>\n    </g>\n    <g id=\"xtick_4\">\n     <g id=\"line2d_4\">\n      <g>\n       <use style=\"stroke:#000000;stroke-width:0.8;\" x=\"132.2475\" xlink:href=\"#m46f95f3e61\" y=\"225.041719\"/>\n      </g>\n     </g>\n     <g id=\"text_4\">\n      <!-- 15 -->\n      <g transform=\"translate(125.885 239.640156)scale(0.1 -0.1)\">\n       <use xlink:href=\"#DejaVuSans-49\"/>\n       <use x=\"63.623047\" xlink:href=\"#DejaVuSans-53\"/>\n      </g>\n     </g>\n    </g>\n    <g id=\"xtick_5\">\n     <g id=\"line2d_5\">\n      <g>\n       <use style=\"stroke:#000000;stroke-width:0.8;\" x=\"166.2225\" xlink:href=\"#m46f95f3e61\" y=\"225.041719\"/>\n      </g>\n     </g>\n     <g id=\"text_5\">\n      <!-- 20 -->\n      <g transform=\"translate(159.86 239.640156)scale(0.1 -0.1)\">\n       <defs>\n        <path d=\"M 19.1875 8.296875 \nL 53.609375 8.296875 \nL 53.609375 0 \nL 7.328125 0 \nL 7.328125 8.296875 \nQ 12.9375 14.109375 22.625 23.890625 \nQ 32.328125 33.6875 34.8125 36.53125 \nQ 39.546875 41.84375 41.421875 45.53125 \nQ 43.3125 49.21875 43.3125 52.78125 \nQ 43.3125 58.59375 39.234375 62.25 \nQ 35.15625 65.921875 28.609375 65.921875 \nQ 23.96875 65.921875 18.8125 64.3125 \nQ 13.671875 62.703125 7.8125 59.421875 \nL 7.8125 69.390625 \nQ 13.765625 71.78125 18.9375 73 \nQ 24.125 74.21875 28.421875 74.21875 \nQ 39.75 74.21875 46.484375 68.546875 \nQ 53.21875 62.890625 53.21875 53.421875 \nQ 53.21875 48.921875 51.53125 44.890625 \nQ 49.859375 40.875 45.40625 35.40625 \nQ 44.1875 33.984375 37.640625 27.21875 \nQ 31.109375 20.453125 19.1875 8.296875 \nz\n\" id=\"DejaVuSans-50\"/>\n       </defs>\n       <use xlink:href=\"#DejaVuSans-50\"/>\n       <use x=\"63.623047\" xlink:href=\"#DejaVuSans-48\"/>\n      </g>\n     </g>\n    </g>\n    <g id=\"xtick_6\">\n     <g id=\"line2d_6\">\n      <g>\n       <use style=\"stroke:#000000;stroke-width:0.8;\" x=\"200.1975\" xlink:href=\"#m46f95f3e61\" y=\"225.041719\"/>\n      </g>\n     </g>\n     <g id=\"text_6\">\n      <!-- 25 -->\n      <g transform=\"translate(193.835 239.640156)scale(0.1 -0.1)\">\n       <use xlink:href=\"#DejaVuSans-50\"/>\n       <use x=\"63.623047\" xlink:href=\"#DejaVuSans-53\"/>\n      </g>\n     </g>\n    </g>\n    <g id=\"xtick_7\">\n     <g id=\"line2d_7\">\n      <g>\n       <use style=\"stroke:#000000;stroke-width:0.8;\" x=\"234.1725\" xlink:href=\"#m46f95f3e61\" y=\"225.041719\"/>\n      </g>\n     </g>\n     <g id=\"text_7\">\n      <!-- 30 -->\n      <g transform=\"translate(227.81 239.640156)scale(0.1 -0.1)\">\n       <defs>\n        <path d=\"M 40.578125 39.3125 \nQ 47.65625 37.796875 51.625 33 \nQ 55.609375 28.21875 55.609375 21.1875 \nQ 55.609375 10.40625 48.1875 4.484375 \nQ 40.765625 -1.421875 27.09375 -1.421875 \nQ 22.515625 -1.421875 17.65625 -0.515625 \nQ 12.796875 0.390625 7.625 2.203125 \nL 7.625 11.71875 \nQ 11.71875 9.328125 16.59375 8.109375 \nQ 21.484375 6.890625 26.8125 6.890625 \nQ 36.078125 6.890625 40.9375 10.546875 \nQ 45.796875 14.203125 45.796875 21.1875 \nQ 45.796875 27.640625 41.28125 31.265625 \nQ 36.765625 34.90625 28.71875 34.90625 \nL 20.21875 34.90625 \nL 20.21875 43.015625 \nL 29.109375 43.015625 \nQ 36.375 43.015625 40.234375 45.921875 \nQ 44.09375 48.828125 44.09375 54.296875 \nQ 44.09375 59.90625 40.109375 62.90625 \nQ 36.140625 65.921875 28.71875 65.921875 \nQ 24.65625 65.921875 20.015625 65.03125 \nQ 15.375 64.15625 9.8125 62.3125 \nL 9.8125 71.09375 \nQ 15.4375 72.65625 20.34375 73.4375 \nQ 25.25 74.21875 29.59375 74.21875 \nQ 40.828125 74.21875 47.359375 69.109375 \nQ 53.90625 64.015625 53.90625 55.328125 \nQ 53.90625 49.265625 50.4375 45.09375 \nQ 46.96875 40.921875 40.578125 39.3125 \nz\n\" id=\"DejaVuSans-51\"/>\n       </defs>\n       <use xlink:href=\"#DejaVuSans-51\"/>\n       <use x=\"63.623047\" xlink:href=\"#DejaVuSans-48\"/>\n      </g>\n     </g>\n    </g>\n   </g>\n   <g id=\"matplotlib.axis_2\">\n    <g id=\"ytick_1\">\n     <g id=\"line2d_8\">\n      <defs>\n       <path d=\"M 0 0 \nL -3.5 0 \n\" id=\"mfedc25e721\" style=\"stroke:#000000;stroke-width:0.8;\"/>\n      </defs>\n      <g>\n       <use style=\"stroke:#000000;stroke-width:0.8;\" x=\"26.925\" xlink:href=\"#mfedc25e721\" y=\"10.999219\"/>\n      </g>\n     </g>\n     <g id=\"text_8\">\n      <!-- 0 -->\n      <g transform=\"translate(13.5625 14.798437)scale(0.1 -0.1)\">\n       <use xlink:href=\"#DejaVuSans-48\"/>\n      </g>\n     </g>\n    </g>\n    <g id=\"ytick_2\">\n     <g id=\"line2d_9\">\n      <g>\n       <use style=\"stroke:#000000;stroke-width:0.8;\" x=\"26.925\" xlink:href=\"#mfedc25e721\" y=\"44.974219\"/>\n      </g>\n     </g>\n     <g id=\"text_9\">\n      <!-- 5 -->\n      <g transform=\"translate(13.5625 48.773437)scale(0.1 -0.1)\">\n       <use xlink:href=\"#DejaVuSans-53\"/>\n      </g>\n     </g>\n    </g>\n    <g id=\"ytick_3\">\n     <g id=\"line2d_10\">\n      <g>\n       <use style=\"stroke:#000000;stroke-width:0.8;\" x=\"26.925\" xlink:href=\"#mfedc25e721\" y=\"78.949219\"/>\n      </g>\n     </g>\n     <g id=\"text_10\">\n      <!-- 10 -->\n      <g transform=\"translate(7.2 82.748437)scale(0.1 -0.1)\">\n       <use xlink:href=\"#DejaVuSans-49\"/>\n       <use x=\"63.623047\" xlink:href=\"#DejaVuSans-48\"/>\n      </g>\n     </g>\n    </g>\n    <g id=\"ytick_4\">\n     <g id=\"line2d_11\">\n      <g>\n       <use style=\"stroke:#000000;stroke-width:0.8;\" x=\"26.925\" xlink:href=\"#mfedc25e721\" y=\"112.924219\"/>\n      </g>\n     </g>\n     <g id=\"text_11\">\n      <!-- 15 -->\n      <g transform=\"translate(7.2 116.723437)scale(0.1 -0.1)\">\n       <use xlink:href=\"#DejaVuSans-49\"/>\n       <use x=\"63.623047\" xlink:href=\"#DejaVuSans-53\"/>\n      </g>\n     </g>\n    </g>\n    <g id=\"ytick_5\">\n     <g id=\"line2d_12\">\n      <g>\n       <use style=\"stroke:#000000;stroke-width:0.8;\" x=\"26.925\" xlink:href=\"#mfedc25e721\" y=\"146.899219\"/>\n      </g>\n     </g>\n     <g id=\"text_12\">\n      <!-- 20 -->\n      <g transform=\"translate(7.2 150.698437)scale(0.1 -0.1)\">\n       <use xlink:href=\"#DejaVuSans-50\"/>\n       <use x=\"63.623047\" xlink:href=\"#DejaVuSans-48\"/>\n      </g>\n     </g>\n    </g>\n    <g id=\"ytick_6\">\n     <g id=\"line2d_13\">\n      <g>\n       <use style=\"stroke:#000000;stroke-width:0.8;\" x=\"26.925\" xlink:href=\"#mfedc25e721\" y=\"180.874219\"/>\n      </g>\n     </g>\n     <g id=\"text_13\">\n      <!-- 25 -->\n      <g transform=\"translate(7.2 184.673437)scale(0.1 -0.1)\">\n       <use xlink:href=\"#DejaVuSans-50\"/>\n       <use x=\"63.623047\" xlink:href=\"#DejaVuSans-53\"/>\n      </g>\n     </g>\n    </g>\n    <g id=\"ytick_7\">\n     <g id=\"line2d_14\">\n      <g>\n       <use style=\"stroke:#000000;stroke-width:0.8;\" x=\"26.925\" xlink:href=\"#mfedc25e721\" y=\"214.849219\"/>\n      </g>\n     </g>\n     <g id=\"text_14\">\n      <!-- 30 -->\n      <g transform=\"translate(7.2 218.648437)scale(0.1 -0.1)\">\n       <use xlink:href=\"#DejaVuSans-51\"/>\n       <use x=\"63.623047\" xlink:href=\"#DejaVuSans-48\"/>\n      </g>\n     </g>\n    </g>\n   </g>\n   <g id=\"patch_3\">\n    <path d=\"M 26.925 225.041719 \nL 26.925 7.601719 \n\" style=\"fill:none;stroke:#000000;stroke-linecap:square;stroke-linejoin:miter;stroke-width:0.8;\"/>\n   </g>\n   <g id=\"patch_4\">\n    <path d=\"M 244.365 225.041719 \nL 244.365 7.601719 \n\" style=\"fill:none;stroke:#000000;stroke-linecap:square;stroke-linejoin:miter;stroke-width:0.8;\"/>\n   </g>\n   <g id=\"patch_5\">\n    <path d=\"M 26.925 225.041719 \nL 244.365 225.041719 \n\" style=\"fill:none;stroke:#000000;stroke-linecap:square;stroke-linejoin:miter;stroke-width:0.8;\"/>\n   </g>\n   <g id=\"patch_6\">\n    <path d=\"M 26.925 7.601719 \nL 244.365 7.601719 \n\" style=\"fill:none;stroke:#000000;stroke-linecap:square;stroke-linejoin:miter;stroke-width:0.8;\"/>\n   </g>\n  </g>\n </g>\n <defs>\n  <clipPath id=\"pa38ed021e7\">\n   <rect height=\"217.44\" width=\"217.44\" x=\"26.925\" y=\"7.601719\"/>\n  </clipPath>\n </defs>\n</svg>\n",
            "image/png": "[encoded data removed]"
          },
          "metadata": {
            "needs_background": "light"
          }
        },
        {
          "output_type": "display_data",
          "data": {
            "text/plain": "<Figure size 432x288 with 1 Axes>",
            "image/svg+xml": "<?xml version=\"1.0\" encoding=\"utf-8\" standalone=\"no\"?>\n<!DOCTYPE svg PUBLIC \"-//W3C//DTD SVG 1.1//EN\"\n  \"http://www.w3.org/Graphics/SVG/1.1/DTD/svg11.dtd\">\n<!-- Created with matplotlib (https://matplotlib.org/) -->\n<svg height=\"248.919844pt\" version=\"1.1\" viewBox=\"0 0 251.565 248.919844\" width=\"251.565pt\" xmlns=\"http://www.w3.org/2000/svg\" xmlns:xlink=\"http://www.w3.org/1999/xlink\">\n <metadata>\n  <rdf:RDF xmlns:cc=\"http://creativecommons.org/ns#\" xmlns:dc=\"http://purl.org/dc/elements/1.1/\" xmlns:rdf=\"http://www.w3.org/1999/02/22-rdf-syntax-ns#\">\n   <cc:Work>\n    <dc:type rdf:resource=\"http://purl.org/dc/dcmitype/StillImage\"/>\n    <dc:date>2021-05-07T11:18:39.404110</dc:date>\n    <dc:format>image/svg+xml</dc:format>\n    <dc:creator>\n     <cc:Agent>\n      <dc:title>Matplotlib v3.3.2, https://matplotlib.org/</dc:title>\n     </cc:Agent>\n    </dc:creator>\n   </cc:Work>\n  </rdf:RDF>\n </metadata>\n <defs>\n  <style type=\"text/css\">*{stroke-linecap:butt;stroke-linejoin:round;}</style>\n </defs>\n <g id=\"figure_1\">\n  <g id=\"patch_1\">\n   <path d=\"M 0 248.919844 \nL 251.565 248.919844 \nL 251.565 0 \nL 0 0 \nz\n\" style=\"fill:none;\"/>\n  </g>\n  <g id=\"axes_1\">\n   <g id=\"patch_2\">\n    <path d=\"M 26.925 225.041719 \nL 244.365 225.041719 \nL 244.365 7.601719 \nL 26.925 7.601719 \nz\n\" style=\"fill:#ffffff;\"/>\n   </g>\n   <g clip-path=\"url(#pe4ca141b55)\">\n    <image height=\"218\" id=\"imagec8e01d48bb\" transform=\"scale(1 -1)translate(0 -218)\" width=\"218\" x=\"26.925\" xlink:href=\"data:image/png;base64,\niVBORw0KGgoAAAANSUhEUgAAANoAAADaCAYAAADAHVzbAAAEVUlEQVR4nO3dsWqUWRiA4YysIKRJlTZCcg0hBJuAQnobLWIl2KX3CuztAlZprKzSCBFsJIjXkMK0qVIKgrPdIktOWMbxXWfyPOV8ZOZYvHxw+PmdrKysTFf4x927d4ez79+/hydhmdz5vw8At4HQICA0CAgNAkKDgNAgMFlxvQ9zsbq6OpzZaBAQGgSEBgGhQUBoEBAaBFzvQ8BGg4DQICA0CAgNAkKDwF/lj925M+76x48f4Ulms7e3N5x9/PgxPMl8ra+vD2eXl5fhSZaXjQYBoUFAaBAQGgSEBgGhQWDuDxUv+lXx/v7+cPb+/fvwJCwTGw0CQoOA0CAgNAgIDQJCg8CtfGfIxsbGcHZxcRGeZP52d3eHs7Ozs/Ak/MxGg4DQICA0CAgNAkKDgNAgkL6c50+x6Ff4N9nc3BzO/vTr/VevXg1nL1++DE8yfzYaBIQGAaFBQGgQEBoEhAaBhXh6fzodH3EymVz7+cOHD4d/8+HDh18+0zJ5+vTpcPb27dvwJMvLRoOA0CAgNAgIDQJCg4DQILAQ1/uw6Gw0CAgNAkKDgNAgIDQICA0CQoOA0CAgNAgIDQJCg4DQIHArXwkOv8OTJ0+GMxsNAkKDgNAgIDQICA0CQoOAd4b8y87OznD2+fPn8CQsExsNAkKDgNAgIDQICA0CQoPAjdf729vbwz/88uXL7zgPLKyTk5PhzEaDgNAgIDQICA0CQoOA0CDg6X0I2GgQEBoEhAYBoUFAaBDwSvDAZDK59vPp1IXvbWGjQUBoEBAaBIQGAaFBQGgQ8FDxktnY2BjOLi4uwpPwMxsNAkKDgNAgIDQICA0CQoOA630I2GgQEBoEhAYBoUFAaBAQGgRmfjnPvXv3rv3827dvM33fgwcPhrNPnz7N9J3wp7DRICA0CAgNAkKDgNAgIDQIzP3p/ePj4+Hs2bNnM33no0ePhrPT09OZvhNKNhoEhAYBoUFAaBAQGgS8MwQCNhoEhAYBoUFAaBAQGgSEBoEb3xly//794ezr169zPgq0tra2hrPz8/O5/paNBgGhQUBoEBAaBIQGAaFBwNP7LLw3b94MZ8+fPw9PMmajQUBoEBAaBIQGAaFBQGgQcL0PARsNAkKDgNAgIDQICA0CQoOA0CAgNAgIDQJCg4DQICA0CAgNAkKDgNAgIDQICA0CQoOA0CBw4//4yeI5PDwczl6/fh2ehJ/ZaBAQGgSEBgGhQUBoEBAaBBb+leCTyeTaz6fThf5nsWRsNAgIDQJCg4DQICA0CAgNAgt/vc/t8OLFi+Hs6OgoPMlsbDQICA0CQoOA0CAgNAgIDQKu9yFgo0FAaBAQGgSEBgGhQUBoEPDufVaurq6Gs7W1tewcta2treHs/Px8rr9lo0FAaBAQGgSEBgGhQcBDxQvo3bt3w9njx4/Dk/Bf2WgQEBoEhAYBoUFAaBAQGgRc78OcHBwcDGc2GgSEBgGhQUBoEBAaBIQGgb8BNRF3UjzlmEAAAAAASUVORK5CYII=\" y=\"-7.041719\"/>\n   </g>\n   <g id=\"matplotlib.axis_1\">\n    <g id=\"xtick_1\">\n     <g id=\"line2d_1\">\n      <defs>\n       <path d=\"M 0 0 \nL 0 3.5 \n\" id=\"m25f9ecefac\" style=\"stroke:#000000;stroke-width:0.8;\"/>\n      </defs>\n      <g>\n       <use style=\"stroke:#000000;stroke-width:0.8;\" x=\"30.3225\" xlink:href=\"#m25f9ecefac\" y=\"225.041719\"/>\n      </g>\n     </g>\n     <g id=\"text_1\">\n      <!-- 0 -->\n      <g transform=\"translate(27.14125 239.640156)scale(0.1 -0.1)\">\n       <defs>\n        <path d=\"M 31.78125 66.40625 \nQ 24.171875 66.40625 20.328125 58.90625 \nQ 16.5 51.421875 16.5 36.375 \nQ 16.5 21.390625 20.328125 13.890625 \nQ 24.171875 6.390625 31.78125 6.390625 \nQ 39.453125 6.390625 43.28125 13.890625 \nQ 47.125 21.390625 47.125 36.375 \nQ 47.125 51.421875 43.28125 58.90625 \nQ 39.453125 66.40625 31.78125 66.40625 \nz\nM 31.78125 74.21875 \nQ 44.046875 74.21875 50.515625 64.515625 \nQ 56.984375 54.828125 56.984375 36.375 \nQ 56.984375 17.96875 50.515625 8.265625 \nQ 44.046875 -1.421875 31.78125 -1.421875 \nQ 19.53125 -1.421875 13.0625 8.265625 \nQ 6.59375 17.96875 6.59375 36.375 \nQ 6.59375 54.828125 13.0625 64.515625 \nQ 19.53125 74.21875 31.78125 74.21875 \nz\n\" id=\"DejaVuSans-48\"/>\n       </defs>\n       <use xlink:href=\"#DejaVuSans-48\"/>\n      </g>\n     </g>\n    </g>\n    <g id=\"xtick_2\">\n     <g id=\"line2d_2\">\n      <g>\n       <use style=\"stroke:#000000;stroke-width:0.8;\" x=\"64.2975\" xlink:href=\"#m25f9ecefac\" y=\"225.041719\"/>\n      </g>\n     </g>\n     <g id=\"text_2\">\n      <!-- 5 -->\n      <g transform=\"translate(61.11625 239.640156)scale(0.1 -0.1)\">\n       <defs>\n        <path d=\"M 10.796875 72.90625 \nL 49.515625 72.90625 \nL 49.515625 64.59375 \nL 19.828125 64.59375 \nL 19.828125 46.734375 \nQ 21.96875 47.46875 24.109375 47.828125 \nQ 26.265625 48.1875 28.421875 48.1875 \nQ 40.625 48.1875 47.75 41.5 \nQ 54.890625 34.8125 54.890625 23.390625 \nQ 54.890625 11.625 47.5625 5.09375 \nQ 40.234375 -1.421875 26.90625 -1.421875 \nQ 22.3125 -1.421875 17.546875 -0.640625 \nQ 12.796875 0.140625 7.71875 1.703125 \nL 7.71875 11.625 \nQ 12.109375 9.234375 16.796875 8.0625 \nQ 21.484375 6.890625 26.703125 6.890625 \nQ 35.15625 6.890625 40.078125 11.328125 \nQ 45.015625 15.765625 45.015625 23.390625 \nQ 45.015625 31 40.078125 35.4375 \nQ 35.15625 39.890625 26.703125 39.890625 \nQ 22.75 39.890625 18.8125 39.015625 \nQ 14.890625 38.140625 10.796875 36.28125 \nz\n\" id=\"DejaVuSans-53\"/>\n       </defs>\n       <use xlink:href=\"#DejaVuSans-53\"/>\n      </g>\n     </g>\n    </g>\n    <g id=\"xtick_3\">\n     <g id=\"line2d_3\">\n      <g>\n       <use style=\"stroke:#000000;stroke-width:0.8;\" x=\"98.2725\" xlink:href=\"#m25f9ecefac\" y=\"225.041719\"/>\n      </g>\n     </g>\n     <g id=\"text_3\">\n      <!-- 10 -->\n      <g transform=\"translate(91.91 239.640156)scale(0.1 -0.1)\">\n       <defs>\n        <path d=\"M 12.40625 8.296875 \nL 28.515625 8.296875 \nL 28.515625 63.921875 \nL 10.984375 60.40625 \nL 10.984375 69.390625 \nL 28.421875 72.90625 \nL 38.28125 72.90625 \nL 38.28125 8.296875 \nL 54.390625 8.296875 \nL 54.390625 0 \nL 12.40625 0 \nz\n\" id=\"DejaVuSans-49\"/>\n       </defs>\n       <use xlink:href=\"#DejaVuSans-49\"/>\n       <use x=\"63.623047\" xlink:href=\"#DejaVuSans-48\"/>\n      </g>\n     </g>\n    </g>\n    <g id=\"xtick_4\">\n     <g id=\"line2d_4\">\n      <g>\n       <use style=\"stroke:#000000;stroke-width:0.8;\" x=\"132.2475\" xlink:href=\"#m25f9ecefac\" y=\"225.041719\"/>\n      </g>\n     </g>\n     <g id=\"text_4\">\n      <!-- 15 -->\n      <g transform=\"translate(125.885 239.640156)scale(0.1 -0.1)\">\n       <use xlink:href=\"#DejaVuSans-49\"/>\n       <use x=\"63.623047\" xlink:href=\"#DejaVuSans-53\"/>\n      </g>\n     </g>\n    </g>\n    <g id=\"xtick_5\">\n     <g id=\"line2d_5\">\n      <g>\n       <use style=\"stroke:#000000;stroke-width:0.8;\" x=\"166.2225\" xlink:href=\"#m25f9ecefac\" y=\"225.041719\"/>\n      </g>\n     </g>\n     <g id=\"text_5\">\n      <!-- 20 -->\n      <g transform=\"translate(159.86 239.640156)scale(0.1 -0.1)\">\n       <defs>\n        <path d=\"M 19.1875 8.296875 \nL 53.609375 8.296875 \nL 53.609375 0 \nL 7.328125 0 \nL 7.328125 8.296875 \nQ 12.9375 14.109375 22.625 23.890625 \nQ 32.328125 33.6875 34.8125 36.53125 \nQ 39.546875 41.84375 41.421875 45.53125 \nQ 43.3125 49.21875 43.3125 52.78125 \nQ 43.3125 58.59375 39.234375 62.25 \nQ 35.15625 65.921875 28.609375 65.921875 \nQ 23.96875 65.921875 18.8125 64.3125 \nQ 13.671875 62.703125 7.8125 59.421875 \nL 7.8125 69.390625 \nQ 13.765625 71.78125 18.9375 73 \nQ 24.125 74.21875 28.421875 74.21875 \nQ 39.75 74.21875 46.484375 68.546875 \nQ 53.21875 62.890625 53.21875 53.421875 \nQ 53.21875 48.921875 51.53125 44.890625 \nQ 49.859375 40.875 45.40625 35.40625 \nQ 44.1875 33.984375 37.640625 27.21875 \nQ 31.109375 20.453125 19.1875 8.296875 \nz\n\" id=\"DejaVuSans-50\"/>\n       </defs>\n       <use xlink:href=\"#DejaVuSans-50\"/>\n       <use x=\"63.623047\" xlink:href=\"#DejaVuSans-48\"/>\n      </g>\n     </g>\n    </g>\n    <g id=\"xtick_6\">\n     <g id=\"line2d_6\">\n      <g>\n       <use style=\"stroke:#000000;stroke-width:0.8;\" x=\"200.1975\" xlink:href=\"#m25f9ecefac\" y=\"225.041719\"/>\n      </g>\n     </g>\n     <g id=\"text_6\">\n      <!-- 25 -->\n      <g transform=\"translate(193.835 239.640156)scale(0.1 -0.1)\">\n       <use xlink:href=\"#DejaVuSans-50\"/>\n       <use x=\"63.623047\" xlink:href=\"#DejaVuSans-53\"/>\n      </g>\n     </g>\n    </g>\n    <g id=\"xtick_7\">\n     <g id=\"line2d_7\">\n      <g>\n       <use style=\"stroke:#000000;stroke-width:0.8;\" x=\"234.1725\" xlink:href=\"#m25f9ecefac\" y=\"225.041719\"/>\n      </g>\n     </g>\n     <g id=\"text_7\">\n      <!-- 30 -->\n      <g transform=\"translate(227.81 239.640156)scale(0.1 -0.1)\">\n       <defs>\n        <path d=\"M 40.578125 39.3125 \nQ 47.65625 37.796875 51.625 33 \nQ 55.609375 28.21875 55.609375 21.1875 \nQ 55.609375 10.40625 48.1875 4.484375 \nQ 40.765625 -1.421875 27.09375 -1.421875 \nQ 22.515625 -1.421875 17.65625 -0.515625 \nQ 12.796875 0.390625 7.625 2.203125 \nL 7.625 11.71875 \nQ 11.71875 9.328125 16.59375 8.109375 \nQ 21.484375 6.890625 26.8125 6.890625 \nQ 36.078125 6.890625 40.9375 10.546875 \nQ 45.796875 14.203125 45.796875 21.1875 \nQ 45.796875 27.640625 41.28125 31.265625 \nQ 36.765625 34.90625 28.71875 34.90625 \nL 20.21875 34.90625 \nL 20.21875 43.015625 \nL 29.109375 43.015625 \nQ 36.375 43.015625 40.234375 45.921875 \nQ 44.09375 48.828125 44.09375 54.296875 \nQ 44.09375 59.90625 40.109375 62.90625 \nQ 36.140625 65.921875 28.71875 65.921875 \nQ 24.65625 65.921875 20.015625 65.03125 \nQ 15.375 64.15625 9.8125 62.3125 \nL 9.8125 71.09375 \nQ 15.4375 72.65625 20.34375 73.4375 \nQ 25.25 74.21875 29.59375 74.21875 \nQ 40.828125 74.21875 47.359375 69.109375 \nQ 53.90625 64.015625 53.90625 55.328125 \nQ 53.90625 49.265625 50.4375 45.09375 \nQ 46.96875 40.921875 40.578125 39.3125 \nz\n\" id=\"DejaVuSans-51\"/>\n       </defs>\n       <use xlink:href=\"#DejaVuSans-51\"/>\n       <use x=\"63.623047\" xlink:href=\"#DejaVuSans-48\"/>\n      </g>\n     </g>\n    </g>\n   </g>\n   <g id=\"matplotlib.axis_2\">\n    <g id=\"ytick_1\">\n     <g id=\"line2d_8\">\n      <defs>\n       <path d=\"M 0 0 \nL -3.5 0 \n\" id=\"mfcb3d8d629\" style=\"stroke:#000000;stroke-width:0.8;\"/>\n      </defs>\n      <g>\n       <use style=\"stroke:#000000;stroke-width:0.8;\" x=\"26.925\" xlink:href=\"#mfcb3d8d629\" y=\"10.999219\"/>\n      </g>\n     </g>\n     <g id=\"text_8\">\n      <!-- 0 -->\n      <g transform=\"translate(13.5625 14.798437)scale(0.1 -0.1)\">\n       <use xlink:href=\"#DejaVuSans-48\"/>\n      </g>\n     </g>\n    </g>\n    <g id=\"ytick_2\">\n     <g id=\"line2d_9\">\n      <g>\n       <use style=\"stroke:#000000;stroke-width:0.8;\" x=\"26.925\" xlink:href=\"#mfcb3d8d629\" y=\"44.974219\"/>\n      </g>\n     </g>\n     <g id=\"text_9\">\n      <!-- 5 -->\n      <g transform=\"translate(13.5625 48.773437)scale(0.1 -0.1)\">\n       <use xlink:href=\"#DejaVuSans-53\"/>\n      </g>\n     </g>\n    </g>\n    <g id=\"ytick_3\">\n     <g id=\"line2d_10\">\n      <g>\n       <use style=\"stroke:#000000;stroke-width:0.8;\" x=\"26.925\" xlink:href=\"#mfcb3d8d629\" y=\"78.949219\"/>\n      </g>\n     </g>\n     <g id=\"text_10\">\n      <!-- 10 -->\n      <g transform=\"translate(7.2 82.748437)scale(0.1 -0.1)\">\n       <use xlink:href=\"#DejaVuSans-49\"/>\n       <use x=\"63.623047\" xlink:href=\"#DejaVuSans-48\"/>\n      </g>\n     </g>\n    </g>\n    <g id=\"ytick_4\">\n     <g id=\"line2d_11\">\n      <g>\n       <use style=\"stroke:#000000;stroke-width:0.8;\" x=\"26.925\" xlink:href=\"#mfcb3d8d629\" y=\"112.924219\"/>\n      </g>\n     </g>\n     <g id=\"text_11\">\n      <!-- 15 -->\n      <g transform=\"translate(7.2 116.723437)scale(0.1 -0.1)\">\n       <use xlink:href=\"#DejaVuSans-49\"/>\n       <use x=\"63.623047\" xlink:href=\"#DejaVuSans-53\"/>\n      </g>\n     </g>\n    </g>\n    <g id=\"ytick_5\">\n     <g id=\"line2d_12\">\n      <g>\n       <use style=\"stroke:#000000;stroke-width:0.8;\" x=\"26.925\" xlink:href=\"#mfcb3d8d629\" y=\"146.899219\"/>\n      </g>\n     </g>\n     <g id=\"text_12\">\n      <!-- 20 -->\n      <g transform=\"translate(7.2 150.698437)scale(0.1 -0.1)\">\n       <use xlink:href=\"#DejaVuSans-50\"/>\n       <use x=\"63.623047\" xlink:href=\"#DejaVuSans-48\"/>\n      </g>\n     </g>\n    </g>\n    <g id=\"ytick_6\">\n     <g id=\"line2d_13\">\n      <g>\n       <use style=\"stroke:#000000;stroke-width:0.8;\" x=\"26.925\" xlink:href=\"#mfcb3d8d629\" y=\"180.874219\"/>\n      </g>\n     </g>\n     <g id=\"text_13\">\n      <!-- 25 -->\n      <g transform=\"translate(7.2 184.673437)scale(0.1 -0.1)\">\n       <use xlink:href=\"#DejaVuSans-50\"/>\n       <use x=\"63.623047\" xlink:href=\"#DejaVuSans-53\"/>\n      </g>\n     </g>\n    </g>\n    <g id=\"ytick_7\">\n     <g id=\"line2d_14\">\n      <g>\n       <use style=\"stroke:#000000;stroke-width:0.8;\" x=\"26.925\" xlink:href=\"#mfcb3d8d629\" y=\"214.849219\"/>\n      </g>\n     </g>\n     <g id=\"text_14\">\n      <!-- 30 -->\n      <g transform=\"translate(7.2 218.648437)scale(0.1 -0.1)\">\n       <use xlink:href=\"#DejaVuSans-51\"/>\n       <use x=\"63.623047\" xlink:href=\"#DejaVuSans-48\"/>\n      </g>\n     </g>\n    </g>\n   </g>\n   <g id=\"patch_3\">\n    <path d=\"M 26.925 225.041719 \nL 26.925 7.601719 \n\" style=\"fill:none;stroke:#000000;stroke-linecap:square;stroke-linejoin:miter;stroke-width:0.8;\"/>\n   </g>\n   <g id=\"patch_4\">\n    <path d=\"M 244.365 225.041719 \nL 244.365 7.601719 \n\" style=\"fill:none;stroke:#000000;stroke-linecap:square;stroke-linejoin:miter;stroke-width:0.8;\"/>\n   </g>\n   <g id=\"patch_5\">\n    <path d=\"M 26.925 225.041719 \nL 244.365 225.041719 \n\" style=\"fill:none;stroke:#000000;stroke-linecap:square;stroke-linejoin:miter;stroke-width:0.8;\"/>\n   </g>\n   <g id=\"patch_6\">\n    <path d=\"M 26.925 7.601719 \nL 244.365 7.601719 \n\" style=\"fill:none;stroke:#000000;stroke-linecap:square;stroke-linejoin:miter;stroke-width:0.8;\"/>\n   </g>\n  </g>\n </g>\n <defs>\n  <clipPath id=\"pe4ca141b55\">\n   <rect height=\"217.44\" width=\"217.44\" x=\"26.925\" y=\"7.601719\"/>\n  </clipPath>\n </defs>\n</svg>\n",
            "image/png": "[encoded data removed]"
          },
          "metadata": {
            "needs_background": "light"
          }
        },
        {
          "output_type": "display_data",
          "data": {
            "text/plain": "<Figure size 432x288 with 1 Axes>",
            "image/svg+xml": "<?xml version=\"1.0\" encoding=\"utf-8\" standalone=\"no\"?>\n<!DOCTYPE svg PUBLIC \"-//W3C//DTD SVG 1.1//EN\"\n  \"http://www.w3.org/Graphics/SVG/1.1/DTD/svg11.dtd\">\n<!-- Created with matplotlib (https://matplotlib.org/) -->\n<svg height=\"248.919844pt\" version=\"1.1\" viewBox=\"0 0 251.565 248.919844\" width=\"251.565pt\" xmlns=\"http://www.w3.org/2000/svg\" xmlns:xlink=\"http://www.w3.org/1999/xlink\">\n <metadata>\n  <rdf:RDF xmlns:cc=\"http://creativecommons.org/ns#\" xmlns:dc=\"http://purl.org/dc/elements/1.1/\" xmlns:rdf=\"http://www.w3.org/1999/02/22-rdf-syntax-ns#\">\n   <cc:Work>\n    <dc:type rdf:resource=\"http://purl.org/dc/dcmitype/StillImage\"/>\n    <dc:date>2021-05-07T11:18:39.595536</dc:date>\n    <dc:format>image/svg+xml</dc:format>\n    <dc:creator>\n     <cc:Agent>\n      <dc:title>Matplotlib v3.3.2, https://matplotlib.org/</dc:title>\n     </cc:Agent>\n    </dc:creator>\n   </cc:Work>\n  </rdf:RDF>\n </metadata>\n <defs>\n  <style type=\"text/css\">*{stroke-linecap:butt;stroke-linejoin:round;}</style>\n </defs>\n <g id=\"figure_1\">\n  <g id=\"patch_1\">\n   <path d=\"M 0 248.919844 \nL 251.565 248.919844 \nL 251.565 0 \nL 0 0 \nz\n\" style=\"fill:none;\"/>\n  </g>\n  <g id=\"axes_1\">\n   <g id=\"patch_2\">\n    <path d=\"M 26.925 225.041719 \nL 244.365 225.041719 \nL 244.365 7.601719 \nL 26.925 7.601719 \nz\n\" style=\"fill:#ffffff;\"/>\n   </g>\n   <g clip-path=\"url(#pa06fb32e4a)\">\n    <image height=\"218\" id=\"imageb73f9d2773\" transform=\"scale(1 -1)translate(0 -218)\" width=\"218\" x=\"26.925\" xlink:href=\"data:image/png;base64,\niVBORw0KGgoAAAANSUhEUgAAANoAAADaCAYAAADAHVzbAAAEbElEQVR4nO3dMWpUXRiA4RlRgtikFEJASGOVwlY3oWBIaWujO7BwB9pkC6Kgm9DWwsrCgCBCyjQSgmCsf5gTfsbk9TrzPOU9ZPiKvH5wPUzms9nsbAb8L9euXRue/fz5c3h25TKGAf5LaBAQGgSEBgGhQUBoEJjPvN6HS2ejQUBoEBAaBIQGAaFBQGgQuPq3B2A17ezsDM8ODw/DSabBRoOA0CAgNAgIDQJCg8BkLhXP5/Ph2dnZJEaEpdloEBAaBIQGAaFBQGgQEBoEJnOp+LxLqF++fAknYYqePHkyPHv58mU4yXJsNAgIDQJCg4DQICA0CAgNApO5vQ+rzEaDgNAgIDQICA0CQoOA0CAwmdv7/7o3b94Mzx4+fBhOwhTZaBAQGgSEBgGhQUBoEBAaBFb29v7Tp0+HZy9evAgnARsNEkKDgNAgIDQICA0CQoPAyr7eh9p5fz/CRoOA0CAgNAgIDQJCg4C3jsxu3bo1PPv69Ws2x5Ts7e0tfP769eulPs9Gg4DQICA0CAgNAkKDgNAgsPTr/e3t7YXPv3379ifzwEqy0SAgNAgIDQJCg4DQICA0CEzm9v7m5ubw7Pj4OJsDLoONBgGhQUBoEBAaBIQGAaFBYDKv92GV2WgQEBoEhAYBoUFAaBAQGgSu/u0B/iX3798fnr179254trGxsfD56enpH8902fb394dnr169yua4fv368Ozk5CSbY1k2GgSEBgGhQUBoEBAaBFwqhoCNBgGhQUBoEBAaBIQGAaFBYDKXim/evDk8Ozo6CidZztbW1vDs+/fv4SRjOzs7C58fHh7Gk6wfGw0CQoOA0CAgNAgIDQJCg4Db+xCw0SAgNAgIDQJCg4DQICA0CAgNAkKDgNAgIDQICA0CQoOA0CAwmS/n2d3dHZ59+vQpnAQuno0GAaFBQGgQEBoEhAaB+bNnz4bfGfL8+fNyFrhwt2/fHp59/vw5m8NGg4DQICA0CAgNAkKDgNAg4CvBmd25c2d49vHjx3CS1WWjQUBoEBAaBIQGAaFBQGgQmMx3hly0jY2N4dnp6Wk4yfQ9evRoeOb1/sWw0SAgNAgIDQJCg4DQICA0CLi9v0bu3r278PmHDx/iSabv7du3C58/ePBgqc+z0SAgNAgIDQJCg4DQICA0CHi9DwEbDQJCg4DQICA0CAgNAkKDwMp+OQ+X7969e8Oz9+/fh5NMn40GAaFBQGgQEBoEhAYBl4ohYKNBQGgQEBoEhAYBoUFAaBBYy0vFjx8/Hp4dHByEk7AubDQICA0CQoOA0CAgNAgIDQJu76+RK1cW/7v669eveJL1Y6NBQGgQEBoEhAYBoUFAaBA49/X+5ubm8AePj48Xf+B8PvyZszP/k8DFO+/36rzfx5KNBgGhQUBoEBAaBIQGAaFBwO39C3Ljxo3h2Y8fP8JJmCIbDQJCg4DQICA0CAgNAt46QsBGg4DQICA0CAgNAkKDgNAgsJZ/8fM8vvOEy2CjQUBoEBAaBIQGAaFBQGgQ+A2vl32PgnUr3QAAAABJRU5ErkJggg==\" y=\"-7.041719\"/>\n   </g>\n   <g id=\"matplotlib.axis_1\">\n    <g id=\"xtick_1\">\n     <g id=\"line2d_1\">\n      <defs>\n       <path d=\"M 0 0 \nL 0 3.5 \n\" id=\"m0caf8ffa64\" style=\"stroke:#000000;stroke-width:0.8;\"/>\n      </defs>\n      <g>\n       <use style=\"stroke:#000000;stroke-width:0.8;\" x=\"30.3225\" xlink:href=\"#m0caf8ffa64\" y=\"225.041719\"/>\n      </g>\n     </g>\n     <g id=\"text_1\">\n      <!-- 0 -->\n      <g transform=\"translate(27.14125 239.640156)scale(0.1 -0.1)\">\n       <defs>\n        <path d=\"M 31.78125 66.40625 \nQ 24.171875 66.40625 20.328125 58.90625 \nQ 16.5 51.421875 16.5 36.375 \nQ 16.5 21.390625 20.328125 13.890625 \nQ 24.171875 6.390625 31.78125 6.390625 \nQ 39.453125 6.390625 43.28125 13.890625 \nQ 47.125 21.390625 47.125 36.375 \nQ 47.125 51.421875 43.28125 58.90625 \nQ 39.453125 66.40625 31.78125 66.40625 \nz\nM 31.78125 74.21875 \nQ 44.046875 74.21875 50.515625 64.515625 \nQ 56.984375 54.828125 56.984375 36.375 \nQ 56.984375 17.96875 50.515625 8.265625 \nQ 44.046875 -1.421875 31.78125 -1.421875 \nQ 19.53125 -1.421875 13.0625 8.265625 \nQ 6.59375 17.96875 6.59375 36.375 \nQ 6.59375 54.828125 13.0625 64.515625 \nQ 19.53125 74.21875 31.78125 74.21875 \nz\n\" id=\"DejaVuSans-48\"/>\n       </defs>\n       <use xlink:href=\"#DejaVuSans-48\"/>\n      </g>\n     </g>\n    </g>\n    <g id=\"xtick_2\">\n     <g id=\"line2d_2\">\n      <g>\n       <use style=\"stroke:#000000;stroke-width:0.8;\" x=\"64.2975\" xlink:href=\"#m0caf8ffa64\" y=\"225.041719\"/>\n      </g>\n     </g>\n     <g id=\"text_2\">\n      <!-- 5 -->\n      <g transform=\"translate(61.11625 239.640156)scale(0.1 -0.1)\">\n       <defs>\n        <path d=\"M 10.796875 72.90625 \nL 49.515625 72.90625 \nL 49.515625 64.59375 \nL 19.828125 64.59375 \nL 19.828125 46.734375 \nQ 21.96875 47.46875 24.109375 47.828125 \nQ 26.265625 48.1875 28.421875 48.1875 \nQ 40.625 48.1875 47.75 41.5 \nQ 54.890625 34.8125 54.890625 23.390625 \nQ 54.890625 11.625 47.5625 5.09375 \nQ 40.234375 -1.421875 26.90625 -1.421875 \nQ 22.3125 -1.421875 17.546875 -0.640625 \nQ 12.796875 0.140625 7.71875 1.703125 \nL 7.71875 11.625 \nQ 12.109375 9.234375 16.796875 8.0625 \nQ 21.484375 6.890625 26.703125 6.890625 \nQ 35.15625 6.890625 40.078125 11.328125 \nQ 45.015625 15.765625 45.015625 23.390625 \nQ 45.015625 31 40.078125 35.4375 \nQ 35.15625 39.890625 26.703125 39.890625 \nQ 22.75 39.890625 18.8125 39.015625 \nQ 14.890625 38.140625 10.796875 36.28125 \nz\n\" id=\"DejaVuSans-53\"/>\n       </defs>\n       <use xlink:href=\"#DejaVuSans-53\"/>\n      </g>\n     </g>\n    </g>\n    <g id=\"xtick_3\">\n     <g id=\"line2d_3\">\n      <g>\n       <use style=\"stroke:#000000;stroke-width:0.8;\" x=\"98.2725\" xlink:href=\"#m0caf8ffa64\" y=\"225.041719\"/>\n      </g>\n     </g>\n     <g id=\"text_3\">\n      <!-- 10 -->\n      <g transform=\"translate(91.91 239.640156)scale(0.1 -0.1)\">\n       <defs>\n        <path d=\"M 12.40625 8.296875 \nL 28.515625 8.296875 \nL 28.515625 63.921875 \nL 10.984375 60.40625 \nL 10.984375 69.390625 \nL 28.421875 72.90625 \nL 38.28125 72.90625 \nL 38.28125 8.296875 \nL 54.390625 8.296875 \nL 54.390625 0 \nL 12.40625 0 \nz\n\" id=\"DejaVuSans-49\"/>\n       </defs>\n       <use xlink:href=\"#DejaVuSans-49\"/>\n       <use x=\"63.623047\" xlink:href=\"#DejaVuSans-48\"/>\n      </g>\n     </g>\n    </g>\n    <g id=\"xtick_4\">\n     <g id=\"line2d_4\">\n      <g>\n       <use style=\"stroke:#000000;stroke-width:0.8;\" x=\"132.2475\" xlink:href=\"#m0caf8ffa64\" y=\"225.041719\"/>\n      </g>\n     </g>\n     <g id=\"text_4\">\n      <!-- 15 -->\n      <g transform=\"translate(125.885 239.640156)scale(0.1 -0.1)\">\n       <use xlink:href=\"#DejaVuSans-49\"/>\n       <use x=\"63.623047\" xlink:href=\"#DejaVuSans-53\"/>\n      </g>\n     </g>\n    </g>\n    <g id=\"xtick_5\">\n     <g id=\"line2d_5\">\n      <g>\n       <use style=\"stroke:#000000;stroke-width:0.8;\" x=\"166.2225\" xlink:href=\"#m0caf8ffa64\" y=\"225.041719\"/>\n      </g>\n     </g>\n     <g id=\"text_5\">\n      <!-- 20 -->\n      <g transform=\"translate(159.86 239.640156)scale(0.1 -0.1)\">\n       <defs>\n        <path d=\"M 19.1875 8.296875 \nL 53.609375 8.296875 \nL 53.609375 0 \nL 7.328125 0 \nL 7.328125 8.296875 \nQ 12.9375 14.109375 22.625 23.890625 \nQ 32.328125 33.6875 34.8125 36.53125 \nQ 39.546875 41.84375 41.421875 45.53125 \nQ 43.3125 49.21875 43.3125 52.78125 \nQ 43.3125 58.59375 39.234375 62.25 \nQ 35.15625 65.921875 28.609375 65.921875 \nQ 23.96875 65.921875 18.8125 64.3125 \nQ 13.671875 62.703125 7.8125 59.421875 \nL 7.8125 69.390625 \nQ 13.765625 71.78125 18.9375 73 \nQ 24.125 74.21875 28.421875 74.21875 \nQ 39.75 74.21875 46.484375 68.546875 \nQ 53.21875 62.890625 53.21875 53.421875 \nQ 53.21875 48.921875 51.53125 44.890625 \nQ 49.859375 40.875 45.40625 35.40625 \nQ 44.1875 33.984375 37.640625 27.21875 \nQ 31.109375 20.453125 19.1875 8.296875 \nz\n\" id=\"DejaVuSans-50\"/>\n       </defs>\n       <use xlink:href=\"#DejaVuSans-50\"/>\n       <use x=\"63.623047\" xlink:href=\"#DejaVuSans-48\"/>\n      </g>\n     </g>\n    </g>\n    <g id=\"xtick_6\">\n     <g id=\"line2d_6\">\n      <g>\n       <use style=\"stroke:#000000;stroke-width:0.8;\" x=\"200.1975\" xlink:href=\"#m0caf8ffa64\" y=\"225.041719\"/>\n      </g>\n     </g>\n     <g id=\"text_6\">\n      <!-- 25 -->\n      <g transform=\"translate(193.835 239.640156)scale(0.1 -0.1)\">\n       <use xlink:href=\"#DejaVuSans-50\"/>\n       <use x=\"63.623047\" xlink:href=\"#DejaVuSans-53\"/>\n      </g>\n     </g>\n    </g>\n    <g id=\"xtick_7\">\n     <g id=\"line2d_7\">\n      <g>\n       <use style=\"stroke:#000000;stroke-width:0.8;\" x=\"234.1725\" xlink:href=\"#m0caf8ffa64\" y=\"225.041719\"/>\n      </g>\n     </g>\n     <g id=\"text_7\">\n      <!-- 30 -->\n      <g transform=\"translate(227.81 239.640156)scale(0.1 -0.1)\">\n       <defs>\n        <path d=\"M 40.578125 39.3125 \nQ 47.65625 37.796875 51.625 33 \nQ 55.609375 28.21875 55.609375 21.1875 \nQ 55.609375 10.40625 48.1875 4.484375 \nQ 40.765625 -1.421875 27.09375 -1.421875 \nQ 22.515625 -1.421875 17.65625 -0.515625 \nQ 12.796875 0.390625 7.625 2.203125 \nL 7.625 11.71875 \nQ 11.71875 9.328125 16.59375 8.109375 \nQ 21.484375 6.890625 26.8125 6.890625 \nQ 36.078125 6.890625 40.9375 10.546875 \nQ 45.796875 14.203125 45.796875 21.1875 \nQ 45.796875 27.640625 41.28125 31.265625 \nQ 36.765625 34.90625 28.71875 34.90625 \nL 20.21875 34.90625 \nL 20.21875 43.015625 \nL 29.109375 43.015625 \nQ 36.375 43.015625 40.234375 45.921875 \nQ 44.09375 48.828125 44.09375 54.296875 \nQ 44.09375 59.90625 40.109375 62.90625 \nQ 36.140625 65.921875 28.71875 65.921875 \nQ 24.65625 65.921875 20.015625 65.03125 \nQ 15.375 64.15625 9.8125 62.3125 \nL 9.8125 71.09375 \nQ 15.4375 72.65625 20.34375 73.4375 \nQ 25.25 74.21875 29.59375 74.21875 \nQ 40.828125 74.21875 47.359375 69.109375 \nQ 53.90625 64.015625 53.90625 55.328125 \nQ 53.90625 49.265625 50.4375 45.09375 \nQ 46.96875 40.921875 40.578125 39.3125 \nz\n\" id=\"DejaVuSans-51\"/>\n       </defs>\n       <use xlink:href=\"#DejaVuSans-51\"/>\n       <use x=\"63.623047\" xlink:href=\"#DejaVuSans-48\"/>\n      </g>\n     </g>\n    </g>\n   </g>\n   <g id=\"matplotlib.axis_2\">\n    <g id=\"ytick_1\">\n     <g id=\"line2d_8\">\n      <defs>\n       <path d=\"M 0 0 \nL -3.5 0 \n\" id=\"mdb06892a04\" style=\"stroke:#000000;stroke-width:0.8;\"/>\n      </defs>\n      <g>\n       <use style=\"stroke:#000000;stroke-width:0.8;\" x=\"26.925\" xlink:href=\"#mdb06892a04\" y=\"10.999219\"/>\n      </g>\n     </g>\n     <g id=\"text_8\">\n      <!-- 0 -->\n      <g transform=\"translate(13.5625 14.798437)scale(0.1 -0.1)\">\n       <use xlink:href=\"#DejaVuSans-48\"/>\n      </g>\n     </g>\n    </g>\n    <g id=\"ytick_2\">\n     <g id=\"line2d_9\">\n      <g>\n       <use style=\"stroke:#000000;stroke-width:0.8;\" x=\"26.925\" xlink:href=\"#mdb06892a04\" y=\"44.974219\"/>\n      </g>\n     </g>\n     <g id=\"text_9\">\n      <!-- 5 -->\n      <g transform=\"translate(13.5625 48.773437)scale(0.1 -0.1)\">\n       <use xlink:href=\"#DejaVuSans-53\"/>\n      </g>\n     </g>\n    </g>\n    <g id=\"ytick_3\">\n     <g id=\"line2d_10\">\n      <g>\n       <use style=\"stroke:#000000;stroke-width:0.8;\" x=\"26.925\" xlink:href=\"#mdb06892a04\" y=\"78.949219\"/>\n      </g>\n     </g>\n     <g id=\"text_10\">\n      <!-- 10 -->\n      <g transform=\"translate(7.2 82.748437)scale(0.1 -0.1)\">\n       <use xlink:href=\"#DejaVuSans-49\"/>\n       <use x=\"63.623047\" xlink:href=\"#DejaVuSans-48\"/>\n      </g>\n     </g>\n    </g>\n    <g id=\"ytick_4\">\n     <g id=\"line2d_11\">\n      <g>\n       <use style=\"stroke:#000000;stroke-width:0.8;\" x=\"26.925\" xlink:href=\"#mdb06892a04\" y=\"112.924219\"/>\n      </g>\n     </g>\n     <g id=\"text_11\">\n      <!-- 15 -->\n      <g transform=\"translate(7.2 116.723437)scale(0.1 -0.1)\">\n       <use xlink:href=\"#DejaVuSans-49\"/>\n       <use x=\"63.623047\" xlink:href=\"#DejaVuSans-53\"/>\n      </g>\n     </g>\n    </g>\n    <g id=\"ytick_5\">\n     <g id=\"line2d_12\">\n      <g>\n       <use style=\"stroke:#000000;stroke-width:0.8;\" x=\"26.925\" xlink:href=\"#mdb06892a04\" y=\"146.899219\"/>\n      </g>\n     </g>\n     <g id=\"text_12\">\n      <!-- 20 -->\n      <g transform=\"translate(7.2 150.698437)scale(0.1 -0.1)\">\n       <use xlink:href=\"#DejaVuSans-50\"/>\n       <use x=\"63.623047\" xlink:href=\"#DejaVuSans-48\"/>\n      </g>\n     </g>\n    </g>\n    <g id=\"ytick_6\">\n     <g id=\"line2d_13\">\n      <g>\n       <use style=\"stroke:#000000;stroke-width:0.8;\" x=\"26.925\" xlink:href=\"#mdb06892a04\" y=\"180.874219\"/>\n      </g>\n     </g>\n     <g id=\"text_13\">\n      <!-- 25 -->\n      <g transform=\"translate(7.2 184.673437)scale(0.1 -0.1)\">\n       <use xlink:href=\"#DejaVuSans-50\"/>\n       <use x=\"63.623047\" xlink:href=\"#DejaVuSans-53\"/>\n      </g>\n     </g>\n    </g>\n    <g id=\"ytick_7\">\n     <g id=\"line2d_14\">\n      <g>\n       <use style=\"stroke:#000000;stroke-width:0.8;\" x=\"26.925\" xlink:href=\"#mdb06892a04\" y=\"214.849219\"/>\n      </g>\n     </g>\n     <g id=\"text_14\">\n      <!-- 30 -->\n      <g transform=\"translate(7.2 218.648437)scale(0.1 -0.1)\">\n       <use xlink:href=\"#DejaVuSans-51\"/>\n       <use x=\"63.623047\" xlink:href=\"#DejaVuSans-48\"/>\n      </g>\n     </g>\n    </g>\n   </g>\n   <g id=\"patch_3\">\n    <path d=\"M 26.925 225.041719 \nL 26.925 7.601719 \n\" style=\"fill:none;stroke:#000000;stroke-linecap:square;stroke-linejoin:miter;stroke-width:0.8;\"/>\n   </g>\n   <g id=\"patch_4\">\n    <path d=\"M 244.365 225.041719 \nL 244.365 7.601719 \n\" style=\"fill:none;stroke:#000000;stroke-linecap:square;stroke-linejoin:miter;stroke-width:0.8;\"/>\n   </g>\n   <g id=\"patch_5\">\n    <path d=\"M 26.925 225.041719 \nL 244.365 225.041719 \n\" style=\"fill:none;stroke:#000000;stroke-linecap:square;stroke-linejoin:miter;stroke-width:0.8;\"/>\n   </g>\n   <g id=\"patch_6\">\n    <path d=\"M 26.925 7.601719 \nL 244.365 7.601719 \n\" style=\"fill:none;stroke:#000000;stroke-linecap:square;stroke-linejoin:miter;stroke-width:0.8;\"/>\n   </g>\n  </g>\n </g>\n <defs>\n  <clipPath id=\"pa06fb32e4a\">\n   <rect height=\"217.44\" width=\"217.44\" x=\"26.925\" y=\"7.601719\"/>\n  </clipPath>\n </defs>\n</svg>\n",
            "image/png": "[encoded data removed]"
          },
          "metadata": {
            "needs_background": "light"
          }
        }
      ]
    },
    {
      "cell_type": "code",
      "metadata": {
        "id": "BsQUOW4Ox9yA"
      },
      "source": [
        "for t in range(0, 5):\n",
        "  img_b = cv2.imread(f'image_before_equ_{t}.jpg', 0)\n",
        "  equ = cv2.equalizeHist(img_b)\n",
        "  # res = np.hstack((img_b,equ))\n",
        "  img_a = cv2.imwrite(f'image_after_equ_{t}.jpg', equ)\n",
        "  # img_a_out = cv2.imread('image_after.jpg', 0)\n",
        "\n",
        "# img_b2 = cv2.imread('image_before_equ.png', 0)\n",
        "# equ2 = cv2.equalizeHist(img_b2)\n",
        "# # res = np.hstack((img_b,equ))\n",
        "# img_a2 = cv2.imwrite('image_after_equ.png', equ2)\n",
        "# # img_a_out2 = cv2.imread('image_after.png', 0)\n",
        "\n",
        "# img_b3 = cv2.imread('image_before_equ.bmp', 0)\n",
        "# equ3 = cv2.equalizeHist(img_b3)\n",
        "# # res = np.hstack((img_b,equ))\n",
        "# img_a3 = cv2.imwrite('image_after_equ.bmp', equ3)\n",
        "# # img_a_out3 = cv2.imread('image_after.bmp', 0)"
      ],
      "execution_count": 32,
      "outputs": []
    },
    {
      "cell_type": "code",
      "metadata": {
        "id": "oEAqsGmrx9yA"
      },
      "source": [],
      "execution_count": null,
      "outputs": []
    },
    {
      "cell_type": "code",
      "metadata": {
        "id": "gy81cKf4x9yA"
      },
      "source": [
        "os.chdir('/Users/ryan/NSL CNN/2d-cnn/32x32/test_normal')\n",
        "# new_dir = os.mkdir('before_images')\n",
        "path = '/Users/ryan/NSL CNN/2d-cnn/32x32/test_normal/before_images'"
      ],
      "execution_count": 91,
      "outputs": []
    },
    {
      "cell_type": "code",
      "metadata": {
        "id": "UutICq1Dx9yB"
      },
      "source": [
        "## create the before images\n",
        "\n",
        "for t in range(0, len(normal_imgs_te)):\n",
        "#     plt.imshow(normal_imgs[t], cmap = 'gray')\n",
        "#     plt.show()\n",
        "    \n",
        "    cv2.imwrite(os.path.join(path, f'test_normal_before_{t}.jpg'), normal_imgs_te[t])\n",
        "#     cv2.imwrite(f'image_before_{t}.bmp', normal_imgs[t])"
      ],
      "execution_count": 85,
      "outputs": []
    },
    {
      "cell_type": "code",
      "metadata": {
        "id": "h8yCxo6zx9yB"
      },
      "source": [
        "## loop through the before images, perform equalisation and save images to same directory\n",
        "## ensure CWD is the directory saving the images to\n",
        "\n",
        "for file in os.listdir(path):\n",
        "    for i in range(0, normal_imgs_tr.shape[0]):\n",
        "        pre_equ = cv2.imread(f'train_normal_before_{i}.jpg', 0)\n",
        "        # print(file)\n",
        "        equalised = cv2.equalizeHist(pre_equ)\n",
        "        cv2.imwrite(f'train_normal_equ_{i}.jpg', equalised)"
      ],
      "execution_count": null,
      "outputs": []
    },
    {
      "cell_type": "code",
      "metadata": {
        "id": "xg9GhEQjx9yC",
        "outputId": "f5ce78c6-317a-40af-fe7c-25b7de202d18"
      },
      "source": [
        "path"
      ],
      "execution_count": 93,
      "outputs": [
        {
          "output_type": "execute_result",
          "data": {
            "text/plain": [
              "'/Users/ryan/NSL CNN/2d-cnn/32x32/test_normal/before_images'"
            ]
          },
          "metadata": {},
          "execution_count": 93
        }
      ]
    },
    {
      "cell_type": "code",
      "metadata": {
        "id": "gSID3wzax9yC",
        "outputId": "35c2d9ba-8b6e-4061-ae3e-6abf63a8fe2e"
      },
      "source": [
        "os.getcwd()"
      ],
      "execution_count": 95,
      "outputs": [
        {
          "output_type": "execute_result",
          "data": {
            "text/plain": [
              "'/Users/ryan/NSL CNN/2d-cnn/32x32/test_normal/before_images'"
            ]
          },
          "metadata": {},
          "execution_count": 95
        }
      ]
    },
    {
      "cell_type": "code",
      "metadata": {
        "id": "U4ISfaf0x9yC"
      },
      "source": [
        "os.chdir('/Users/ryan/NSL CNN/2d-cnn/32x32/test_normal/before_images')"
      ],
      "execution_count": 94,
      "outputs": []
    },
    {
      "cell_type": "code",
      "metadata": {
        "id": "dispWVrHx9yD"
      },
      "source": [
        "normal_imgs_tr.shape[0], attack_imgs_tr.shape[0], normal_imgs_te.shape[0], attack_imgs_te.shape[0]"
      ],
      "execution_count": null,
      "outputs": []
    },
    {
      "cell_type": "code",
      "metadata": {
        "id": "QHtTp2FVx9yD"
      },
      "source": [],
      "execution_count": null,
      "outputs": []
    },
    {
      "cell_type": "code",
      "metadata": {
        "id": "dJQQWuS4x9yD"
      },
      "source": [],
      "execution_count": null,
      "outputs": []
    },
    {
      "cell_type": "code",
      "metadata": {
        "id": "uEKAox1Gx9yD"
      },
      "source": [],
      "execution_count": null,
      "outputs": []
    },
    {
      "cell_type": "code",
      "metadata": {
        "id": "xh1QubXfx9yD"
      },
      "source": [],
      "execution_count": null,
      "outputs": []
    },
    {
      "cell_type": "code",
      "metadata": {
        "id": "OLgpwuF1x9yD"
      },
      "source": [],
      "execution_count": null,
      "outputs": []
    },
    {
      "cell_type": "code",
      "metadata": {
        "id": "XvuZIoAOx9yD"
      },
      "source": [],
      "execution_count": null,
      "outputs": []
    },
    {
      "cell_type": "code",
      "metadata": {
        "id": "SrIDnLjYx9yD"
      },
      "source": [],
      "execution_count": null,
      "outputs": []
    },
    {
      "cell_type": "code",
      "metadata": {
        "id": "M2mWszSOx9x4"
      },
      "source": [
        "# normal_imgs_train = 255 * normal_imgs_train/normal_imgs_train.max()"
      ],
      "execution_count": null,
      "outputs": []
    },
    {
      "cell_type": "code",
      "metadata": {
        "id": "lSUTpCSex9x5",
        "outputId": "dc108bc4-f6ee-4bba-8339-8f6041ed3b77"
      },
      "source": [
        "# normal_imgs_train.max(), normal_imgs_train.min(), normal_imgs_train.mean()"
      ],
      "execution_count": null,
      "outputs": [
        {
          "output_type": "execute_result",
          "data": {
            "text/plain": [
              "(255.0, 0.0, 0.00045024836605361585)"
            ]
          },
          "metadata": {
            "tags": []
          },
          "execution_count": 119
        }
      ]
    },
    {
      "cell_type": "code",
      "metadata": {
        "id": "Dcf2qucEx9x5",
        "outputId": "a7c2a285-bed0-43d4-fa20-ecb221cde3a3"
      },
      "source": [
        "train_max = normal_imgs_train.max() + attack_imgs_train.max()\n",
        "\n",
        "train_max"
      ],
      "execution_count": null,
      "outputs": [
        {
          "output_type": "execute_result",
          "data": {
            "text/plain": [
              "1469545408.0"
            ]
          },
          "metadata": {
            "tags": []
          },
          "execution_count": 253
        }
      ]
    }
  ]
}