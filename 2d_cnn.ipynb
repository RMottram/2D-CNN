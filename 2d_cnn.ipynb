{
  "nbformat": 4,
  "nbformat_minor": 0,
  "metadata": {
    "orig_nbformat": 2,
    "kernelspec": {
      "name": "python3",
      "display_name": "Python 3"
    },
    "colab": {
      "name": "2d_cnn.ipynb",
      "provenance": [],
      "toc_visible": true
    },
    "accelerator": "GPU",
    "language_info": {
      "name": "python"
    }
  },
  "cells": [
    {
      "cell_type": "code",
      "metadata": {
        "colab": {
          "base_uri": "https://localhost:8080/"
        },
        "id": "SeZZvLXXN0Lv",
        "outputId": "08f2c030-d7d2-46a0-f42b-674492574262"
      },
      "source": [
        "from google.colab import drive\n",
        "drive.mount('/content/drive')"
      ],
      "execution_count": 5,
      "outputs": [
        {
          "output_type": "stream",
          "text": [
            "Mounted at /content/drive\n"
          ],
          "name": "stdout"
        }
      ]
    },
    {
      "cell_type": "code",
      "metadata": {
        "id": "eIzDWja0OBiw"
      },
      "source": [
        "!unzip /content/drive/MyDrive/Colab\\ Notebooks/64x64.zip > /dev/null\n",
        "!unzip /content/drive/MyDrive/Colab\\ Notebooks/32x32.zip > /dev/null"
      ],
      "execution_count": 6,
      "outputs": []
    },
    {
      "cell_type": "code",
      "metadata": {
        "id": "X6bRfwJ_6c-V"
      },
      "source": [
        "## libraries\n",
        "import numpy as np\n",
        "import pandas as pd\n",
        "import matplotlib.pyplot as plt\n",
        "from matplotlib.pyplot import figure\n",
        "import sys, os, time, csv, glob, cv2\n",
        "\n",
        "import tensorflow as tf\n",
        "from tensorflow import keras\n",
        "from tensorflow.keras.layers import Dense, Convolution1D, Convolution2D, MaxPooling2D, Flatten, AveragePooling2D, GlobalAveragePooling2D, GlobalMaxPool2D, MaxPooling1D, Dropout\n",
        "from tensorflow.keras.models import Sequential\n",
        "from tensorflow.keras.callbacks import EarlyStopping\n",
        "from keras.wrappers.scikit_learn import KerasClassifier\n",
        "\n",
        "import sklearn\n",
        "from sklearn.model_selection import cross_val_score\n",
        "from sklearn import metrics\n",
        "\n",
        "## Settings\n",
        "pd.set_option('display.max_columns', None)\n",
        "pd.options.display.float_format = '{:.5f}'.format\n",
        "np.set_printoptions(threshold=sys.maxsize)\n",
        "np.set_printoptions(precision = 5, suppress = True)"
      ],
      "execution_count": 7,
      "outputs": []
    },
    {
      "cell_type": "markdown",
      "metadata": {
        "id": "yRxC9OVB6c-c"
      },
      "source": [
        "# CNN 1.0 - Binary output (attack/normal)"
      ]
    },
    {
      "cell_type": "code",
      "metadata": {
        "id": "sjn-epN96c-e"
      },
      "source": [
        "train_normal = []\n",
        "train_attack = []\n",
        "test_normal = []\n",
        "test_attack = []\n",
        "\n",
        "for i in glob.glob('/content/32x32/train_normal/train_normal_*.jpg', recursive=True):\n",
        "    train_normal.append(cv2.imread(i, cv2.IMREAD_GRAYSCALE))\n",
        "\n",
        "for i in glob.glob('/content/32x32/train_attack/train_attack_*.jpg', recursive=True):\n",
        "    train_attack.append(cv2.imread(i, cv2.IMREAD_GRAYSCALE))\n",
        "\n",
        "for i in glob.glob('/content/32x32/test_normal/test_normal_*.jpg', recursive=True):\n",
        "    test_normal.append(cv2.imread(i, cv2.IMREAD_GRAYSCALE))\n",
        "\n",
        "for i in glob.glob('/content/32x32/test_attack/test_attack_*.jpg', recursive=True):\n",
        "    test_attack.append(cv2.imread(i, cv2.IMREAD_GRAYSCALE))\n",
        "\n",
        "train_normal = np.stack(train_normal)\n",
        "train_attack = np.stack(train_attack)\n",
        "test_normal = np.stack(test_normal)\n",
        "test_attack = np.stack(test_attack)"
      ],
      "execution_count": 8,
      "outputs": []
    },
    {
      "cell_type": "code",
      "metadata": {
        "colab": {
          "base_uri": "https://localhost:8080/"
        },
        "id": "dMi-eflf6c-f",
        "outputId": "3b48e0b7-32e8-4ad3-a7e9-f2150b860ee6"
      },
      "source": [
        "np.shape(train_normal), np.shape(train_attack), np.shape(test_normal), np.shape(test_attack),"
      ],
      "execution_count": 9,
      "outputs": [
        {
          "output_type": "execute_result",
          "data": {
            "text/plain": [
              "((14992, 32, 32), (13020, 32, 32), (2164, 32, 32), (2854, 32, 32))"
            ]
          },
          "metadata": {
            "tags": []
          },
          "execution_count": 9
        }
      ]
    },
    {
      "cell_type": "code",
      "metadata": {
        "id": "SAKSZOA76c-g"
      },
      "source": [
        "## augmenting the data to create more images\n",
        "## only run cell if needed\n",
        "\n",
        "## vertically flip training images\n",
        "vert_flip_train_attack = np.fliplr(train_attack)\n",
        "vert_flip_train_normal = np.fliplr(train_normal)\n",
        "\n",
        "## flip training images horizonatally\n",
        "hor_flip_train_attack = np.rot90(train_attack, axes = (1,2), k = 2)\n",
        "hor_flip_train_normal = np.rot90(train_normal, axes = (1,2), k = 2)\n",
        "\n",
        "## rotate training images left and right once each\n",
        "rotate90l_train_attack = np.rot90(train_attack, axes=(1, 2))\n",
        "rotate90r_train_attack = np.rot90(train_normal, -1, axes=(1, 2))\n",
        "rotate90l_train_normal = np.rot90(train_attack, axes=(1, 2))\n",
        "rotate90r_train_normal = np.rot90(train_normal, -1, axes=(1, 2))\n",
        "\n",
        "\n",
        "\n",
        "## vertically flip testing images\n",
        "vert_flip_test_attack = np.fliplr(test_attack)\n",
        "vert_flip_test_normal = np.fliplr(test_normal)\n",
        "\n",
        "## flip testing images horizonatally\n",
        "hor_flip_test_attack = np.rot90(test_attack, axes = (1,2), k = 2)\n",
        "hor_flip_test_normal = np.rot90(test_normal, axes = (1,2), k = 2)\n",
        "\n",
        "## rotate testing images left and right once each\n",
        "rotate90l_test_attack = np.rot90(test_attack, axes=(1, 2))\n",
        "rotate90r_test_attack = np.rot90(test_normal, -1, axes=(1, 2))\n",
        "rotate90l_test_normal = np.rot90(test_attack, axes=(1, 2))\n",
        "rotate90r_test_normal = np.rot90(test_normal, -1, axes=(1, 2))\n",
        "\n",
        "\n",
        "## stack all the original and augmented data to one single numpy array\n",
        "train = np.vstack((train_attack, vert_flip_train_attack, hor_flip_train_attack, rotate90l_train_attack, rotate90r_train_attack, train_normal, vert_flip_train_normal, hor_flip_train_normal, rotate90r_train_normal, rotate90l_train_normal))\n",
        "test = np.vstack((test_attack, vert_flip_test_attack, hor_flip_test_attack, rotate90l_test_attack, rotate90r_test_attack, test_normal, vert_flip_test_normal, hor_flip_test_normal, rotate90r_test_normal, rotate90l_test_normal))"
      ],
      "execution_count": 10,
      "outputs": []
    },
    {
      "cell_type": "code",
      "metadata": {
        "id": "R4OLWyQw6c-i"
      },
      "source": [
        "## if no augmented data is needed, run this cell\n",
        "train = np.vstack((train_normal, train_attack))\n",
        "test = np.vstack((test_normal, test_attack))"
      ],
      "execution_count": null,
      "outputs": []
    },
    {
      "cell_type": "code",
      "metadata": {
        "colab": {
          "base_uri": "https://localhost:8080/"
        },
        "id": "cDjWT4RT6c-i",
        "outputId": "c8c40883-6b7f-4f20-c88f-4833a0d6987b"
      },
      "source": [
        "train.shape, test.shape"
      ],
      "execution_count": 12,
      "outputs": [
        {
          "output_type": "execute_result",
          "data": {
            "text/plain": [
              "((140060, 32, 32), (25090, 32, 32))"
            ]
          },
          "metadata": {
            "tags": []
          },
          "execution_count": 12
        }
      ]
    },
    {
      "cell_type": "code",
      "metadata": {
        "id": "1Bcx3IdD6c-j"
      },
      "source": [
        "train = train.reshape(-1,32,32,1)\n",
        "test = test.reshape(-1,32,32,1)"
      ],
      "execution_count": 11,
      "outputs": []
    },
    {
      "cell_type": "code",
      "metadata": {
        "colab": {
          "base_uri": "https://localhost:8080/"
        },
        "id": "LwWX9YME6c-j",
        "outputId": "3beaad2f-238c-40c9-e386-a94f93a61586"
      },
      "source": [
        "train.shape, test.shape"
      ],
      "execution_count": 12,
      "outputs": [
        {
          "output_type": "execute_result",
          "data": {
            "text/plain": [
              "((140060, 32, 32, 1), (25090, 32, 32, 1))"
            ]
          },
          "metadata": {
            "tags": []
          },
          "execution_count": 12
        }
      ]
    },
    {
      "cell_type": "code",
      "metadata": {
        "id": "pyxOplUl6c-j"
      },
      "source": [
        "for i in range(0, 5):\n",
        "    plt.imshow(tf.squeeze(train[i]), cmap = 'gray')\n",
        "    plt.show()"
      ],
      "execution_count": null,
      "outputs": []
    },
    {
      "cell_type": "code",
      "metadata": {
        "id": "JDe4E_aK6c-m"
      },
      "source": [
        "## create the training and testing data labels\n",
        "## run if not using augmented data\n",
        "\n",
        "training_labels = []\n",
        "## add the attack labels\n",
        "for i in range(0, train_attack.shape[0]):\n",
        "    training_labels.append('attack')\n",
        "\n",
        "## add the normal labels\n",
        "for j in range(train_attack.shape[0], train.shape[0]):\n",
        "    training_labels.append('normal')\n",
        "\n",
        "\n",
        "\n",
        "testing_labels = []\n",
        "## add the attack labels\n",
        "for k in range(0, test_attack.shape[0]):\n",
        "    testing_labels.append('attack')\n",
        "\n",
        "## add the normal labels\n",
        "for l in range(test_attack.shape[0], test.shape[0]):\n",
        "    testing_labels.append('normal')"
      ],
      "execution_count": null,
      "outputs": []
    },
    {
      "cell_type": "code",
      "metadata": {
        "id": "KEZ7jTGy6c-m"
      },
      "source": [
        "## create the training and testing data labels\n",
        "## run this cell if using augmented data\n",
        "\n",
        "training_labels = []\n",
        "## add the attack labels\n",
        "for i in range(0, train_attack.shape[0] + vert_flip_train_attack.shape[0] + hor_flip_train_attack.shape[0] + rotate90l_train_attack.shape[0] + rotate90r_train_attack.shape[0]):\n",
        "    training_labels.append('attack')\n",
        "\n",
        "## add the normal labels\n",
        "for j in range(train_attack.shape[0] + vert_flip_train_attack.shape[0] + hor_flip_train_attack.shape[0] + rotate90l_train_attack.shape[0] + rotate90r_train_attack.shape[0], train.shape[0]):\n",
        "    training_labels.append('normal')\n",
        "\n",
        "\n",
        "\n",
        "testing_labels = []\n",
        "## add the attack labels\n",
        "for k in range(0, test_attack.shape[0] + vert_flip_test_attack.shape[0] + hor_flip_test_attack.shape[0] + rotate90l_test_attack.shape[0] + rotate90r_test_attack.shape[0]):\n",
        "    testing_labels.append('attack')\n",
        "\n",
        "## add the normal labels\n",
        "for l in range(test_attack.shape[0] + vert_flip_test_attack.shape[0] + hor_flip_test_attack.shape[0] + rotate90l_test_attack.shape[0] + rotate90r_test_attack.shape[0], test.shape[0]):\n",
        "    testing_labels.append('normal')"
      ],
      "execution_count": 13,
      "outputs": []
    },
    {
      "cell_type": "code",
      "metadata": {
        "colab": {
          "base_uri": "https://localhost:8080/"
        },
        "id": "XlYiHSgg6c-m",
        "outputId": "007c3973-5e9c-47b5-e2d1-3008aa3b94e5"
      },
      "source": [
        "## create the dataframe for labels, then OHE the column\n",
        "ytrain = pd.DataFrame(training_labels, columns = ['category'])\n",
        "ytest = pd.DataFrame(testing_labels, columns = ['category'])\n",
        "\n",
        "ytrain = pd.get_dummies(ytrain['category'])\n",
        "ytest = pd.get_dummies(ytest['category'])\n",
        "\n",
        "ytrain, ytest"
      ],
      "execution_count": 14,
      "outputs": [
        {
          "output_type": "execute_result",
          "data": {
            "text/plain": [
              "(        attack  normal\n",
              " 0            1       0\n",
              " 1            1       0\n",
              " 2            1       0\n",
              " 3            1       0\n",
              " 4            1       0\n",
              " ...        ...     ...\n",
              " 140055       0       1\n",
              " 140056       0       1\n",
              " 140057       0       1\n",
              " 140058       0       1\n",
              " 140059       0       1\n",
              " \n",
              " [140060 rows x 2 columns],        attack  normal\n",
              " 0           1       0\n",
              " 1           1       0\n",
              " 2           1       0\n",
              " 3           1       0\n",
              " 4           1       0\n",
              " ...       ...     ...\n",
              " 25085       0       1\n",
              " 25086       0       1\n",
              " 25087       0       1\n",
              " 25088       0       1\n",
              " 25089       0       1\n",
              " \n",
              " [25090 rows x 2 columns])"
            ]
          },
          "metadata": {
            "tags": []
          },
          "execution_count": 14
        }
      ]
    },
    {
      "cell_type": "code",
      "metadata": {
        "id": "6WiwQuKq6c-m"
      },
      "source": [
        "## shuffle the data to prevent pattern recognition\n",
        "train = sklearn.utils.shuffle(train, random_state = 7)\n",
        "ytrain = sklearn.utils.shuffle(ytrain, random_state = 7)\n",
        "\n",
        "test = sklearn.utils.shuffle(test, random_state = 7)\n",
        "ytest = sklearn.utils.shuffle(ytest, random_state = 7)"
      ],
      "execution_count": 15,
      "outputs": []
    },
    {
      "cell_type": "code",
      "metadata": {
        "colab": {
          "base_uri": "https://localhost:8080/"
        },
        "id": "Yd9A1cXf6c-n",
        "outputId": "4b334e66-885d-4612-b00b-27c254d035d2"
      },
      "source": [
        "KERNEL_SIZE = [2,3]\n",
        "IMAGE_SIZE = [32,32,1]\n",
        "\n",
        "cnn = Sequential()\n",
        "\n",
        "## convolution 1\n",
        "cnn.add(Convolution2D(16, (KERNEL_SIZE), padding=\"same\", activation='relu', input_shape = (IMAGE_SIZE)))\n",
        "cnn.add(AveragePooling2D(pool_size = (2,2)))\n",
        "# cnn.add(Dropout(0.5))\n",
        "\n",
        "## convolution 2\n",
        "cnn.add(Convolution2D(32, (KERNEL_SIZE), padding=\"same\", activation='relu'))\n",
        "cnn.add(AveragePooling2D(pool_size = (2,2)))\n",
        "# cnn.add(Dropout(0.5))\n",
        "\n",
        "## convolution 3\n",
        "cnn.add(Convolution2D(64, (KERNEL_SIZE), padding=\"same\", activation='relu'))\n",
        "cnn.add(AveragePooling2D(pool_size = (2,2)))\n",
        "# cnn.add(Dropout(0.5))\n",
        "\n",
        "## convolution 4\n",
        "cnn.add(Convolution2D(128, (KERNEL_SIZE), padding=\"same\", activation='relu'))\n",
        "cnn.add(AveragePooling2D(pool_size = (2,2)))\n",
        "# cnn.add(Dropout(0.5))\n",
        "\n",
        "## convolution 5\n",
        "# cnn.add(Convolution2D(256, (2,2), padding=\"same\", activation='relu'))\n",
        "# cnn.add(MaxPooling2D(pool_size = (2,2)))\n",
        "# cnn.add(Dropout(0.8))\n",
        "\n",
        "## convolution 6\n",
        "# cnn.add(Convolution2D(256, (2,2), padding=\"same\", activation='relu'))\n",
        "# cnn.add(MaxPooling2D(pool_size = (1,1)))\n",
        "# cnn.add(Dropout(0.5))\n",
        "\n",
        "cnn.add(Flatten())\n",
        "\n",
        "## dense\n",
        "cnn.add(Dense(128, activation='relu'))\n",
        "# cnn.add(Dense(256, activation='relu'))\n",
        "# cnn.add(Dropout(0.5))\n",
        "cnn.add(Dense(2, activation = 'sigmoid'))\n",
        "\n",
        "# callback = [EarlyStopping(monitor = 'accuracy', mode = 'max', patience = 2)]\n",
        "\n",
        "cnn.compile(optimizer = keras.optimizers.Adam(), loss = 'binary_crossentropy',\n",
        "            metrics = ['accuracy'])\n",
        "\n",
        "\n",
        "cnn.summary()"
      ],
      "execution_count": 32,
      "outputs": [
        {
          "output_type": "stream",
          "text": [
            "Model: \"sequential_2\"\n",
            "_________________________________________________________________\n",
            "Layer (type)                 Output Shape              Param #   \n",
            "=================================================================\n",
            "conv2d_8 (Conv2D)            (None, 32, 32, 16)        112       \n",
            "_________________________________________________________________\n",
            "average_pooling2d_8 (Average (None, 16, 16, 16)        0         \n",
            "_________________________________________________________________\n",
            "conv2d_9 (Conv2D)            (None, 16, 16, 32)        3104      \n",
            "_________________________________________________________________\n",
            "average_pooling2d_9 (Average (None, 8, 8, 32)          0         \n",
            "_________________________________________________________________\n",
            "conv2d_10 (Conv2D)           (None, 8, 8, 64)          12352     \n",
            "_________________________________________________________________\n",
            "average_pooling2d_10 (Averag (None, 4, 4, 64)          0         \n",
            "_________________________________________________________________\n",
            "conv2d_11 (Conv2D)           (None, 4, 4, 128)         49280     \n",
            "_________________________________________________________________\n",
            "average_pooling2d_11 (Averag (None, 2, 2, 128)         0         \n",
            "_________________________________________________________________\n",
            "flatten_2 (Flatten)          (None, 512)               0         \n",
            "_________________________________________________________________\n",
            "dense_4 (Dense)              (None, 128)               65664     \n",
            "_________________________________________________________________\n",
            "dense_5 (Dense)              (None, 2)                 258       \n",
            "=================================================================\n",
            "Total params: 130,770\n",
            "Trainable params: 130,770\n",
            "Non-trainable params: 0\n",
            "_________________________________________________________________\n"
          ],
          "name": "stdout"
        }
      ]
    },
    {
      "cell_type": "code",
      "metadata": {
        "colab": {
          "base_uri": "https://localhost:8080/"
        },
        "id": "u__u_Y9j6c-o",
        "outputId": "2da59164-586d-4391-b849-be70037e3781"
      },
      "source": [
        "start = time.time()\n",
        "model_history = cnn.fit(train, ytrain, batch_size = 1024, epochs = 200)\n",
        "end = time.time()\n",
        "\n",
        "# os.system(f'say \"training finished in {round(end - start, 2)} seconds\"')\n",
        "print(f'Training finished in {round(end - start, 2)}')"
      ],
      "execution_count": 33,
      "outputs": [
        {
          "output_type": "stream",
          "text": [
            "Epoch 1/200\n",
            "137/137 [==============================] - 4s 23ms/step - loss: 0.7258 - accuracy: 0.5828\n",
            "Epoch 2/200\n",
            "137/137 [==============================] - 3s 21ms/step - loss: 0.6650 - accuracy: 0.6061\n",
            "Epoch 3/200\n",
            "137/137 [==============================] - 3s 21ms/step - loss: 0.6642 - accuracy: 0.6079\n",
            "Epoch 4/200\n",
            "137/137 [==============================] - 3s 21ms/step - loss: 0.6630 - accuracy: 0.6101\n",
            "Epoch 5/200\n",
            "137/137 [==============================] - 3s 21ms/step - loss: 0.6624 - accuracy: 0.6095\n",
            "Epoch 6/200\n",
            "137/137 [==============================] - 3s 22ms/step - loss: 0.6611 - accuracy: 0.6110\n",
            "Epoch 7/200\n",
            "137/137 [==============================] - 3s 21ms/step - loss: 0.6592 - accuracy: 0.6145\n",
            "Epoch 8/200\n",
            "137/137 [==============================] - 3s 21ms/step - loss: 0.6598 - accuracy: 0.6144\n",
            "Epoch 9/200\n",
            "137/137 [==============================] - 3s 21ms/step - loss: 0.6585 - accuracy: 0.6138\n",
            "Epoch 10/200\n",
            "137/137 [==============================] - 3s 22ms/step - loss: 0.6563 - accuracy: 0.6162\n",
            "Epoch 11/200\n",
            "137/137 [==============================] - 3s 22ms/step - loss: 0.6554 - accuracy: 0.6174\n",
            "Epoch 12/200\n",
            "137/137 [==============================] - 3s 21ms/step - loss: 0.6538 - accuracy: 0.6205\n",
            "Epoch 13/200\n",
            "137/137 [==============================] - 3s 22ms/step - loss: 0.6525 - accuracy: 0.6204\n",
            "Epoch 14/200\n",
            "137/137 [==============================] - 3s 21ms/step - loss: 0.6512 - accuracy: 0.6225\n",
            "Epoch 15/200\n",
            "137/137 [==============================] - 3s 22ms/step - loss: 0.6510 - accuracy: 0.6239\n",
            "Epoch 16/200\n",
            "137/137 [==============================] - 3s 22ms/step - loss: 0.6487 - accuracy: 0.6272\n",
            "Epoch 17/200\n",
            "137/137 [==============================] - 3s 21ms/step - loss: 0.6459 - accuracy: 0.6289\n",
            "Epoch 18/200\n",
            "137/137 [==============================] - 3s 22ms/step - loss: 0.6438 - accuracy: 0.6327\n",
            "Epoch 19/200\n",
            "137/137 [==============================] - 3s 22ms/step - loss: 0.6419 - accuracy: 0.6354\n",
            "Epoch 20/200\n",
            "137/137 [==============================] - 3s 22ms/step - loss: 0.6403 - accuracy: 0.6370\n",
            "Epoch 21/200\n",
            "137/137 [==============================] - 3s 22ms/step - loss: 0.6378 - accuracy: 0.6382\n",
            "Epoch 22/200\n",
            "137/137 [==============================] - 3s 21ms/step - loss: 0.6374 - accuracy: 0.6378\n",
            "Epoch 23/200\n",
            "137/137 [==============================] - 3s 22ms/step - loss: 0.6321 - accuracy: 0.6443\n",
            "Epoch 24/200\n",
            "137/137 [==============================] - 3s 22ms/step - loss: 0.6318 - accuracy: 0.6431\n",
            "Epoch 25/200\n",
            "137/137 [==============================] - 3s 22ms/step - loss: 0.6257 - accuracy: 0.6482\n",
            "Epoch 26/200\n",
            "137/137 [==============================] - 3s 22ms/step - loss: 0.6242 - accuracy: 0.6481\n",
            "Epoch 27/200\n",
            "137/137 [==============================] - 3s 22ms/step - loss: 0.6207 - accuracy: 0.6514\n",
            "Epoch 28/200\n",
            "137/137 [==============================] - 3s 22ms/step - loss: 0.6176 - accuracy: 0.6554\n",
            "Epoch 29/200\n",
            "137/137 [==============================] - 3s 22ms/step - loss: 0.6110 - accuracy: 0.6599\n",
            "Epoch 30/200\n",
            "137/137 [==============================] - 3s 22ms/step - loss: 0.6067 - accuracy: 0.6644\n",
            "Epoch 31/200\n",
            "137/137 [==============================] - 3s 22ms/step - loss: 0.6043 - accuracy: 0.6632\n",
            "Epoch 32/200\n",
            "137/137 [==============================] - 3s 22ms/step - loss: 0.5993 - accuracy: 0.6677\n",
            "Epoch 33/200\n",
            "137/137 [==============================] - 3s 21ms/step - loss: 0.5947 - accuracy: 0.6696\n",
            "Epoch 34/200\n",
            "137/137 [==============================] - 3s 21ms/step - loss: 0.5906 - accuracy: 0.6751\n",
            "Epoch 35/200\n",
            "137/137 [==============================] - 3s 22ms/step - loss: 0.5857 - accuracy: 0.6754\n",
            "Epoch 36/200\n",
            "137/137 [==============================] - 3s 22ms/step - loss: 0.5792 - accuracy: 0.6797\n",
            "Epoch 37/200\n",
            "137/137 [==============================] - 3s 21ms/step - loss: 0.5795 - accuracy: 0.6780\n",
            "Epoch 38/200\n",
            "137/137 [==============================] - 3s 21ms/step - loss: 0.5730 - accuracy: 0.6829\n",
            "Epoch 39/200\n",
            "137/137 [==============================] - 3s 21ms/step - loss: 0.5685 - accuracy: 0.6871\n",
            "Epoch 40/200\n",
            "137/137 [==============================] - 3s 21ms/step - loss: 0.5646 - accuracy: 0.6873\n",
            "Epoch 41/200\n",
            "137/137 [==============================] - 3s 22ms/step - loss: 0.5601 - accuracy: 0.6892\n",
            "Epoch 42/200\n",
            "137/137 [==============================] - 3s 22ms/step - loss: 0.5580 - accuracy: 0.6905\n",
            "Epoch 43/200\n",
            "137/137 [==============================] - 3s 22ms/step - loss: 0.5527 - accuracy: 0.6914\n",
            "Epoch 44/200\n",
            "137/137 [==============================] - 3s 22ms/step - loss: 0.5484 - accuracy: 0.6961\n",
            "Epoch 45/200\n",
            "137/137 [==============================] - 3s 22ms/step - loss: 0.5471 - accuracy: 0.6971\n",
            "Epoch 46/200\n",
            "137/137 [==============================] - 3s 22ms/step - loss: 0.5425 - accuracy: 0.6977\n",
            "Epoch 47/200\n",
            "137/137 [==============================] - 3s 22ms/step - loss: 0.5412 - accuracy: 0.6985\n",
            "Epoch 48/200\n",
            "137/137 [==============================] - 3s 22ms/step - loss: 0.5369 - accuracy: 0.7018\n",
            "Epoch 49/200\n",
            "137/137 [==============================] - 3s 22ms/step - loss: 0.5345 - accuracy: 0.7009\n",
            "Epoch 50/200\n",
            "137/137 [==============================] - 3s 22ms/step - loss: 0.5337 - accuracy: 0.7025\n",
            "Epoch 51/200\n",
            "137/137 [==============================] - 3s 22ms/step - loss: 0.5309 - accuracy: 0.7016\n",
            "Epoch 52/200\n",
            "137/137 [==============================] - 3s 21ms/step - loss: 0.5283 - accuracy: 0.7043\n",
            "Epoch 53/200\n",
            "137/137 [==============================] - 3s 21ms/step - loss: 0.5257 - accuracy: 0.7059\n",
            "Epoch 54/200\n",
            "137/137 [==============================] - 3s 22ms/step - loss: 0.5251 - accuracy: 0.7049\n",
            "Epoch 55/200\n",
            "137/137 [==============================] - 3s 21ms/step - loss: 0.5201 - accuracy: 0.7102\n",
            "Epoch 56/200\n",
            "137/137 [==============================] - 3s 22ms/step - loss: 0.5220 - accuracy: 0.7052\n",
            "Epoch 57/200\n",
            "137/137 [==============================] - 3s 22ms/step - loss: 0.5164 - accuracy: 0.7102\n",
            "Epoch 58/200\n",
            "137/137 [==============================] - 3s 22ms/step - loss: 0.5180 - accuracy: 0.7093\n",
            "Epoch 59/200\n",
            "137/137 [==============================] - 3s 22ms/step - loss: 0.5143 - accuracy: 0.7106\n",
            "Epoch 60/200\n",
            "137/137 [==============================] - 3s 22ms/step - loss: 0.5126 - accuracy: 0.7120\n",
            "Epoch 61/200\n",
            "137/137 [==============================] - 3s 22ms/step - loss: 0.5128 - accuracy: 0.7109\n",
            "Epoch 62/200\n",
            "137/137 [==============================] - 3s 22ms/step - loss: 0.5076 - accuracy: 0.7151\n",
            "Epoch 63/200\n",
            "137/137 [==============================] - 3s 22ms/step - loss: 0.5098 - accuracy: 0.7122\n",
            "Epoch 64/200\n",
            "137/137 [==============================] - 3s 22ms/step - loss: 0.5108 - accuracy: 0.7122\n",
            "Epoch 65/200\n",
            "137/137 [==============================] - 3s 22ms/step - loss: 0.5089 - accuracy: 0.7132\n",
            "Epoch 66/200\n",
            "137/137 [==============================] - 3s 22ms/step - loss: 0.5063 - accuracy: 0.7130\n",
            "Epoch 67/200\n",
            "137/137 [==============================] - 3s 22ms/step - loss: 0.5030 - accuracy: 0.7154\n",
            "Epoch 68/200\n",
            "137/137 [==============================] - 3s 22ms/step - loss: 0.5052 - accuracy: 0.7121\n",
            "Epoch 69/200\n",
            "137/137 [==============================] - 3s 22ms/step - loss: 0.5008 - accuracy: 0.7160\n",
            "Epoch 70/200\n",
            "137/137 [==============================] - 3s 22ms/step - loss: 0.4986 - accuracy: 0.7179\n",
            "Epoch 71/200\n",
            "137/137 [==============================] - 3s 22ms/step - loss: 0.5017 - accuracy: 0.7144\n",
            "Epoch 72/200\n",
            "137/137 [==============================] - 3s 22ms/step - loss: 0.5016 - accuracy: 0.7160\n",
            "Epoch 73/200\n",
            "137/137 [==============================] - 3s 22ms/step - loss: 0.5007 - accuracy: 0.7168\n",
            "Epoch 74/200\n",
            "137/137 [==============================] - 3s 22ms/step - loss: 0.4988 - accuracy: 0.7196\n",
            "Epoch 75/200\n",
            "137/137 [==============================] - 3s 22ms/step - loss: 0.4987 - accuracy: 0.7172\n",
            "Epoch 76/200\n",
            "137/137 [==============================] - 3s 22ms/step - loss: 0.4938 - accuracy: 0.7198\n",
            "Epoch 77/200\n",
            "137/137 [==============================] - 3s 22ms/step - loss: 0.4938 - accuracy: 0.7188\n",
            "Epoch 78/200\n",
            "137/137 [==============================] - 3s 22ms/step - loss: 0.4944 - accuracy: 0.7187\n",
            "Epoch 79/200\n",
            "137/137 [==============================] - 3s 22ms/step - loss: 0.4936 - accuracy: 0.7192\n",
            "Epoch 80/200\n",
            "137/137 [==============================] - 3s 22ms/step - loss: 0.4929 - accuracy: 0.7170\n",
            "Epoch 81/200\n",
            "137/137 [==============================] - 3s 22ms/step - loss: 0.4950 - accuracy: 0.7181\n",
            "Epoch 82/200\n",
            "137/137 [==============================] - 3s 22ms/step - loss: 0.4904 - accuracy: 0.7201\n",
            "Epoch 83/200\n",
            "137/137 [==============================] - 3s 22ms/step - loss: 0.4909 - accuracy: 0.7192\n",
            "Epoch 84/200\n",
            "137/137 [==============================] - 3s 22ms/step - loss: 0.4925 - accuracy: 0.7186\n",
            "Epoch 85/200\n",
            "137/137 [==============================] - 3s 22ms/step - loss: 0.4897 - accuracy: 0.7224\n",
            "Epoch 86/200\n",
            "137/137 [==============================] - 3s 22ms/step - loss: 0.4899 - accuracy: 0.7196\n",
            "Epoch 87/200\n",
            "137/137 [==============================] - 3s 22ms/step - loss: 0.4882 - accuracy: 0.7219\n",
            "Epoch 88/200\n",
            "137/137 [==============================] - 3s 22ms/step - loss: 0.4877 - accuracy: 0.7193\n",
            "Epoch 89/200\n",
            "137/137 [==============================] - 3s 22ms/step - loss: 0.4887 - accuracy: 0.7209\n",
            "Epoch 90/200\n",
            "137/137 [==============================] - 3s 22ms/step - loss: 0.4893 - accuracy: 0.7196\n",
            "Epoch 91/200\n",
            "137/137 [==============================] - 3s 22ms/step - loss: 0.4893 - accuracy: 0.7198\n",
            "Epoch 92/200\n",
            "137/137 [==============================] - 3s 22ms/step - loss: 0.4872 - accuracy: 0.7199\n",
            "Epoch 93/200\n",
            "137/137 [==============================] - 3s 22ms/step - loss: 0.4865 - accuracy: 0.7237\n",
            "Epoch 94/200\n",
            "137/137 [==============================] - 3s 22ms/step - loss: 0.4873 - accuracy: 0.7197\n",
            "Epoch 95/200\n",
            "137/137 [==============================] - 3s 22ms/step - loss: 0.4886 - accuracy: 0.7214\n",
            "Epoch 96/200\n",
            "137/137 [==============================] - 3s 22ms/step - loss: 0.4843 - accuracy: 0.7217\n",
            "Epoch 97/200\n",
            "137/137 [==============================] - 3s 22ms/step - loss: 0.4843 - accuracy: 0.7230\n",
            "Epoch 98/200\n",
            "137/137 [==============================] - 3s 22ms/step - loss: 0.4837 - accuracy: 0.7249\n",
            "Epoch 99/200\n",
            "137/137 [==============================] - 3s 22ms/step - loss: 0.4816 - accuracy: 0.7242\n",
            "Epoch 100/200\n",
            "137/137 [==============================] - 3s 22ms/step - loss: 0.4841 - accuracy: 0.7211\n",
            "Epoch 101/200\n",
            "137/137 [==============================] - 3s 22ms/step - loss: 0.4835 - accuracy: 0.7203\n",
            "Epoch 102/200\n",
            "137/137 [==============================] - 3s 22ms/step - loss: 0.4811 - accuracy: 0.7230\n",
            "Epoch 103/200\n",
            "137/137 [==============================] - 3s 22ms/step - loss: 0.4814 - accuracy: 0.7235\n",
            "Epoch 104/200\n",
            "137/137 [==============================] - 3s 22ms/step - loss: 0.4845 - accuracy: 0.7239\n",
            "Epoch 105/200\n",
            "137/137 [==============================] - 3s 22ms/step - loss: 0.4823 - accuracy: 0.7219\n",
            "Epoch 106/200\n",
            "137/137 [==============================] - 3s 22ms/step - loss: 0.4792 - accuracy: 0.7237\n",
            "Epoch 107/200\n",
            "137/137 [==============================] - 3s 22ms/step - loss: 0.4780 - accuracy: 0.7241\n",
            "Epoch 108/200\n",
            "137/137 [==============================] - 3s 22ms/step - loss: 0.4805 - accuracy: 0.7219\n",
            "Epoch 109/200\n",
            "137/137 [==============================] - 3s 22ms/step - loss: 0.4772 - accuracy: 0.7254\n",
            "Epoch 110/200\n",
            "137/137 [==============================] - 3s 22ms/step - loss: 0.4793 - accuracy: 0.7249\n",
            "Epoch 111/200\n",
            "137/137 [==============================] - 3s 22ms/step - loss: 0.4788 - accuracy: 0.7252\n",
            "Epoch 112/200\n",
            "137/137 [==============================] - 3s 22ms/step - loss: 0.4792 - accuracy: 0.7240\n",
            "Epoch 113/200\n",
            "137/137 [==============================] - 3s 22ms/step - loss: 0.4753 - accuracy: 0.7263\n",
            "Epoch 114/200\n",
            "137/137 [==============================] - 3s 22ms/step - loss: 0.4768 - accuracy: 0.7246\n",
            "Epoch 115/200\n",
            "137/137 [==============================] - 3s 22ms/step - loss: 0.4788 - accuracy: 0.7239\n",
            "Epoch 116/200\n",
            "137/137 [==============================] - 3s 22ms/step - loss: 0.4763 - accuracy: 0.7257\n",
            "Epoch 117/200\n",
            "137/137 [==============================] - 3s 22ms/step - loss: 0.4778 - accuracy: 0.7262\n",
            "Epoch 118/200\n",
            "137/137 [==============================] - 3s 22ms/step - loss: 0.4753 - accuracy: 0.7255\n",
            "Epoch 119/200\n",
            "137/137 [==============================] - 3s 21ms/step - loss: 0.4735 - accuracy: 0.7248\n",
            "Epoch 120/200\n",
            "137/137 [==============================] - 3s 21ms/step - loss: 0.4758 - accuracy: 0.7248\n",
            "Epoch 121/200\n",
            "137/137 [==============================] - 3s 22ms/step - loss: 0.4756 - accuracy: 0.7230\n",
            "Epoch 122/200\n",
            "137/137 [==============================] - 3s 22ms/step - loss: 0.4760 - accuracy: 0.7249\n",
            "Epoch 123/200\n",
            "137/137 [==============================] - 3s 22ms/step - loss: 0.4734 - accuracy: 0.7256\n",
            "Epoch 124/200\n",
            "137/137 [==============================] - 3s 22ms/step - loss: 0.4753 - accuracy: 0.7262\n",
            "Epoch 125/200\n",
            "137/137 [==============================] - 3s 22ms/step - loss: 0.4746 - accuracy: 0.7248\n",
            "Epoch 126/200\n",
            "137/137 [==============================] - 3s 22ms/step - loss: 0.4769 - accuracy: 0.7240\n",
            "Epoch 127/200\n",
            "137/137 [==============================] - 3s 22ms/step - loss: 0.4715 - accuracy: 0.7266\n",
            "Epoch 128/200\n",
            "137/137 [==============================] - 3s 22ms/step - loss: 0.4724 - accuracy: 0.7250\n",
            "Epoch 129/200\n",
            "137/137 [==============================] - 3s 22ms/step - loss: 0.4697 - accuracy: 0.7268\n",
            "Epoch 130/200\n",
            "137/137 [==============================] - 3s 22ms/step - loss: 0.4782 - accuracy: 0.7241\n",
            "Epoch 131/200\n",
            "137/137 [==============================] - 3s 22ms/step - loss: 0.4711 - accuracy: 0.7258\n",
            "Epoch 132/200\n",
            "137/137 [==============================] - 3s 22ms/step - loss: 0.4725 - accuracy: 0.7249\n",
            "Epoch 133/200\n",
            "137/137 [==============================] - 3s 22ms/step - loss: 0.4712 - accuracy: 0.7259\n",
            "Epoch 134/200\n",
            "137/137 [==============================] - 3s 21ms/step - loss: 0.4703 - accuracy: 0.7248\n",
            "Epoch 135/200\n",
            "137/137 [==============================] - 3s 22ms/step - loss: 0.4738 - accuracy: 0.7241\n",
            "Epoch 136/200\n",
            "137/137 [==============================] - 3s 22ms/step - loss: 0.4703 - accuracy: 0.7271\n",
            "Epoch 137/200\n",
            "137/137 [==============================] - 3s 22ms/step - loss: 0.4707 - accuracy: 0.7266\n",
            "Epoch 138/200\n",
            "137/137 [==============================] - 3s 22ms/step - loss: 0.4704 - accuracy: 0.7265\n",
            "Epoch 139/200\n",
            "137/137 [==============================] - 3s 22ms/step - loss: 0.4709 - accuracy: 0.7250\n",
            "Epoch 140/200\n",
            "137/137 [==============================] - 3s 22ms/step - loss: 0.4659 - accuracy: 0.7281\n",
            "Epoch 141/200\n",
            "137/137 [==============================] - 3s 22ms/step - loss: 0.4718 - accuracy: 0.7266\n",
            "Epoch 142/200\n",
            "137/137 [==============================] - 3s 22ms/step - loss: 0.4690 - accuracy: 0.7269\n",
            "Epoch 143/200\n",
            "137/137 [==============================] - 3s 21ms/step - loss: 0.4716 - accuracy: 0.7259\n",
            "Epoch 144/200\n",
            "137/137 [==============================] - 3s 22ms/step - loss: 0.4691 - accuracy: 0.7254\n",
            "Epoch 145/200\n",
            "137/137 [==============================] - 3s 21ms/step - loss: 0.4688 - accuracy: 0.7289\n",
            "Epoch 146/200\n",
            "137/137 [==============================] - 3s 22ms/step - loss: 0.4694 - accuracy: 0.7264\n",
            "Epoch 147/200\n",
            "137/137 [==============================] - 3s 22ms/step - loss: 0.4675 - accuracy: 0.7264\n",
            "Epoch 148/200\n",
            "137/137 [==============================] - 3s 22ms/step - loss: 0.4677 - accuracy: 0.7263\n",
            "Epoch 149/200\n",
            "137/137 [==============================] - 3s 22ms/step - loss: 0.4682 - accuracy: 0.7263\n",
            "Epoch 150/200\n",
            "137/137 [==============================] - 3s 22ms/step - loss: 0.4672 - accuracy: 0.7270\n",
            "Epoch 151/200\n",
            "137/137 [==============================] - 3s 22ms/step - loss: 0.4667 - accuracy: 0.7305\n",
            "Epoch 152/200\n",
            "137/137 [==============================] - 3s 22ms/step - loss: 0.4691 - accuracy: 0.7268\n",
            "Epoch 153/200\n",
            "137/137 [==============================] - 3s 21ms/step - loss: 0.4682 - accuracy: 0.7276\n",
            "Epoch 154/200\n",
            "137/137 [==============================] - 3s 22ms/step - loss: 0.4676 - accuracy: 0.7263\n",
            "Epoch 155/200\n",
            "137/137 [==============================] - 3s 22ms/step - loss: 0.4658 - accuracy: 0.7263\n",
            "Epoch 156/200\n",
            "137/137 [==============================] - 3s 22ms/step - loss: 0.4670 - accuracy: 0.7273\n",
            "Epoch 157/200\n",
            "137/137 [==============================] - 3s 22ms/step - loss: 0.4683 - accuracy: 0.7283\n",
            "Epoch 158/200\n",
            "137/137 [==============================] - 3s 22ms/step - loss: 0.4660 - accuracy: 0.7259\n",
            "Epoch 159/200\n",
            "137/137 [==============================] - 3s 22ms/step - loss: 0.4669 - accuracy: 0.7252\n",
            "Epoch 160/200\n",
            "137/137 [==============================] - 3s 22ms/step - loss: 0.4638 - accuracy: 0.7289\n",
            "Epoch 161/200\n",
            "137/137 [==============================] - 3s 22ms/step - loss: 0.4654 - accuracy: 0.7271\n",
            "Epoch 162/200\n",
            "137/137 [==============================] - 3s 22ms/step - loss: 0.4654 - accuracy: 0.7283\n",
            "Epoch 163/200\n",
            "137/137 [==============================] - 3s 22ms/step - loss: 0.4651 - accuracy: 0.7266\n",
            "Epoch 164/200\n",
            "137/137 [==============================] - 3s 22ms/step - loss: 0.4628 - accuracy: 0.7289\n",
            "Epoch 165/200\n",
            "137/137 [==============================] - 3s 22ms/step - loss: 0.4636 - accuracy: 0.7275\n",
            "Epoch 166/200\n",
            "137/137 [==============================] - 3s 22ms/step - loss: 0.4616 - accuracy: 0.7296\n",
            "Epoch 167/200\n",
            "137/137 [==============================] - 3s 22ms/step - loss: 0.4644 - accuracy: 0.7275\n",
            "Epoch 168/200\n",
            "137/137 [==============================] - 3s 22ms/step - loss: 0.4661 - accuracy: 0.7291\n",
            "Epoch 169/200\n",
            "137/137 [==============================] - 3s 22ms/step - loss: 0.4654 - accuracy: 0.7262\n",
            "Epoch 170/200\n",
            "137/137 [==============================] - 3s 22ms/step - loss: 0.4643 - accuracy: 0.7279\n",
            "Epoch 171/200\n",
            "137/137 [==============================] - 3s 22ms/step - loss: 0.4642 - accuracy: 0.7285\n",
            "Epoch 172/200\n",
            "137/137 [==============================] - 3s 22ms/step - loss: 0.4618 - accuracy: 0.7281\n",
            "Epoch 173/200\n",
            "137/137 [==============================] - 3s 22ms/step - loss: 0.4644 - accuracy: 0.7268\n",
            "Epoch 174/200\n",
            "137/137 [==============================] - 3s 22ms/step - loss: 0.4626 - accuracy: 0.7282\n",
            "Epoch 175/200\n",
            "137/137 [==============================] - 3s 22ms/step - loss: 0.4653 - accuracy: 0.7266\n",
            "Epoch 176/200\n",
            "137/137 [==============================] - 3s 22ms/step - loss: 0.4639 - accuracy: 0.7278\n",
            "Epoch 177/200\n",
            "137/137 [==============================] - 3s 22ms/step - loss: 0.4640 - accuracy: 0.7287\n",
            "Epoch 178/200\n",
            "137/137 [==============================] - 3s 22ms/step - loss: 0.4625 - accuracy: 0.7287\n",
            "Epoch 179/200\n",
            "137/137 [==============================] - 3s 21ms/step - loss: 0.4634 - accuracy: 0.7278\n",
            "Epoch 180/200\n",
            "137/137 [==============================] - 3s 22ms/step - loss: 0.4604 - accuracy: 0.7283\n",
            "Epoch 181/200\n",
            "137/137 [==============================] - 3s 22ms/step - loss: 0.4639 - accuracy: 0.7295\n",
            "Epoch 182/200\n",
            "137/137 [==============================] - 3s 22ms/step - loss: 0.4614 - accuracy: 0.7280\n",
            "Epoch 183/200\n",
            "137/137 [==============================] - 3s 22ms/step - loss: 0.4658 - accuracy: 0.7261\n",
            "Epoch 184/200\n",
            "137/137 [==============================] - 3s 22ms/step - loss: 0.4615 - accuracy: 0.7268\n",
            "Epoch 185/200\n",
            "137/137 [==============================] - 3s 22ms/step - loss: 0.4604 - accuracy: 0.7296\n",
            "Epoch 186/200\n",
            "137/137 [==============================] - 3s 22ms/step - loss: 0.4636 - accuracy: 0.7281\n",
            "Epoch 187/200\n",
            "137/137 [==============================] - 3s 22ms/step - loss: 0.4634 - accuracy: 0.7286\n",
            "Epoch 188/200\n",
            "137/137 [==============================] - 3s 22ms/step - loss: 0.4597 - accuracy: 0.7292\n",
            "Epoch 189/200\n",
            "137/137 [==============================] - 3s 21ms/step - loss: 0.4634 - accuracy: 0.7263\n",
            "Epoch 190/200\n",
            "137/137 [==============================] - 3s 22ms/step - loss: 0.4607 - accuracy: 0.7296\n",
            "Epoch 191/200\n",
            "137/137 [==============================] - 3s 22ms/step - loss: 0.4597 - accuracy: 0.7277\n",
            "Epoch 192/200\n",
            "137/137 [==============================] - 3s 22ms/step - loss: 0.4610 - accuracy: 0.7276\n",
            "Epoch 193/200\n",
            "137/137 [==============================] - 3s 22ms/step - loss: 0.4586 - accuracy: 0.7305\n",
            "Epoch 194/200\n",
            "137/137 [==============================] - 3s 22ms/step - loss: 0.4599 - accuracy: 0.7287\n",
            "Epoch 195/200\n",
            "137/137 [==============================] - 3s 22ms/step - loss: 0.4628 - accuracy: 0.7281\n",
            "Epoch 196/200\n",
            "137/137 [==============================] - 3s 22ms/step - loss: 0.4587 - accuracy: 0.7285\n",
            "Epoch 197/200\n",
            "137/137 [==============================] - 3s 22ms/step - loss: 0.4601 - accuracy: 0.7265\n",
            "Epoch 198/200\n",
            "137/137 [==============================] - 3s 22ms/step - loss: 0.4572 - accuracy: 0.7285\n",
            "Epoch 199/200\n",
            "137/137 [==============================] - 3s 22ms/step - loss: 0.4617 - accuracy: 0.7258\n",
            "Epoch 200/200\n",
            "137/137 [==============================] - 3s 22ms/step - loss: 0.4602 - accuracy: 0.7274\n",
            "Training finished in 598.69\n"
          ],
          "name": "stdout"
        }
      ]
    },
    {
      "cell_type": "code",
      "metadata": {
        "colab": {
          "base_uri": "https://localhost:8080/",
          "height": 1000
        },
        "id": "rnKo0j5N6c-o",
        "outputId": "35c69872-7b4e-4cba-acb2-1a0b9510573b"
      },
      "source": [
        "print(model_history.history.keys())\n",
        "\n",
        "figure(figsize = (20,12))\n",
        "plt.plot(model_history.history['accuracy'])\n",
        "# plt.plot(model_history.history['val_accuracy'])\n",
        "plt.title('Model Accuracy', fontsize = 18)\n",
        "plt.ylabel('Accuracy', fontsize = 18)\n",
        "plt.xlabel('Epoch', fontsize = 18)\n",
        "plt.xticks(np.arange(0, 210, step = 10))\n",
        "plt.legend(['Train', 'Test'], loc = 'best', fontsize = 18)\n",
        "plt.grid(axis = 'x')\n",
        "plt.show()\n",
        "\n",
        "print()\n",
        "\n",
        "figure(figsize = (20,12))\n",
        "plt.plot(model_history.history['loss'])\n",
        "# plt.plot(model_history.history['val_loss'])\n",
        "plt.title('Model Loss', fontsize = 18)\n",
        "plt.ylabel('Loss', fontsize = 18)\n",
        "plt.ylabel('Epoch', fontsize = 18)\n",
        "plt.xticks(np.arange(0, 210, step = 10), )\n",
        "plt.legend(['Train', 'Test'], loc = 'best', fontsize = 18)\n",
        "plt.grid(axis = 'x')\n",
        "plt.show()"
      ],
      "execution_count": 34,
      "outputs": [
        {
          "output_type": "stream",
          "text": [
            "dict_keys(['loss', 'accuracy'])\n"
          ],
          "name": "stdout"
        },
        {
          "output_type": "display_data",
          "data": {
            "image/png": "[encoded data removed]",
            "text/plain": [
              "<Figure size 1440x864 with 1 Axes>"
            ]
          },
          "metadata": {
            "tags": [],
            "needs_background": "light"
          }
        },
        {
          "output_type": "stream",
          "text": [
            "\n"
          ],
          "name": "stdout"
        },
        {
          "output_type": "display_data",
          "data": {
            "image/png": "[encoded data removed]",
            "text/plain": [
              "<Figure size 1440x864 with 1 Axes>"
            ]
          },
          "metadata": {
            "tags": [],
            "needs_background": "light"
          }
        }
      ]
    },
    {
      "cell_type": "code",
      "metadata": {
        "colab": {
          "base_uri": "https://localhost:8080/"
        },
        "id": "vFd8485B6c-p",
        "outputId": "769b1ad7-7c0d-42ce-af90-17ba6e97a00e"
      },
      "source": [
        "loss, acc = cnn.evaluate(test, ytest, batch_size = 200, verbose = 0)\n",
        "print(f'Loss = {round(loss, 4)}\\tAccuracy = {round(acc, 4)*100}%')"
      ],
      "execution_count": 35,
      "outputs": [
        {
          "output_type": "stream",
          "text": [
            "Loss = 1.1808\tAccuracy = 55.800000000000004%\n"
          ],
          "name": "stdout"
        }
      ]
    },
    {
      "cell_type": "code",
      "metadata": {
        "colab": {
          "base_uri": "https://localhost:8080/"
        },
        "id": "1vYQq61n6c-p",
        "outputId": "aee858c3-3b57-40ca-8429-41fcd1df061e"
      },
      "source": [
        "preds = cnn.predict(test)\n",
        "y_preds = np.argmax(preds, axis = 1)\n",
        "\n",
        "preds[:20]"
      ],
      "execution_count": 36,
      "outputs": [
        {
          "output_type": "execute_result",
          "data": {
            "text/plain": [
              "array([[0.33477, 0.66523],\n",
              "       [0.4988 , 0.50112],\n",
              "       [0.33477, 0.66523],\n",
              "       [0.33477, 0.66523],\n",
              "       [0.12319, 0.8769 ],\n",
              "       [0.53572, 0.46427],\n",
              "       [0.76021, 0.23994],\n",
              "       [0.4988 , 0.50112],\n",
              "       [0.81137, 0.18854],\n",
              "       [0.33477, 0.66523],\n",
              "       [0.4988 , 0.50112],\n",
              "       [0.26431, 0.73565],\n",
              "       [0.59861, 0.4014 ],\n",
              "       [0.43684, 0.56301],\n",
              "       [1.     , 0.     ],\n",
              "       [0.49339, 0.5068 ],\n",
              "       [0.54969, 0.45043],\n",
              "       [1.     , 0.     ],\n",
              "       [0.33477, 0.66523],\n",
              "       [0.02166, 0.97827]], dtype=float32)"
            ]
          },
          "metadata": {
            "tags": []
          },
          "execution_count": 36
        }
      ]
    },
    {
      "cell_type": "code",
      "metadata": {
        "id": "KNgHOMVP6c-p"
      },
      "source": [
        "def build_classifier():\n",
        "    \n",
        "    cnn = Sequential()\n",
        "\n",
        "    ## convolution 1\n",
        "    cnn.add(Convolution2D(16, (KERNEL_SIZE), padding=\"same\", activation='relu', input_shape = (IMAGE_SIZE)))\n",
        "    cnn.add(AveragePooling2D(pool_size = (2,2)))\n",
        "    # cnn.add(Dropout(0.5))\n",
        "\n",
        "    ## convolution 2\n",
        "    cnn.add(Convolution2D(32, (KERNEL_SIZE), padding=\"same\", activation='relu'))\n",
        "    cnn.add(AveragePooling2D(pool_size = (2,2)))\n",
        "    # cnn.add(Dropout(0.5))\n",
        "\n",
        "    ## convolution 3\n",
        "    cnn.add(Convolution2D(64, (KERNEL_SIZE), padding=\"same\", activation='relu'))\n",
        "    cnn.add(AveragePooling2D(pool_size = (2,2)))\n",
        "    # cnn.add(Dropout(0.5))\n",
        "\n",
        "    ## convolution 4\n",
        "    cnn.add(Convolution2D(128, (KERNEL_SIZE), padding=\"same\", activation='relu'))\n",
        "    cnn.add(AveragePooling2D(pool_size = (2,2)))\n",
        "    # cnn.add(Dropout(0.5))\n",
        "\n",
        "    ## convolution 5\n",
        "    # cnn.add(Convolution2D(256, (3,3), padding=\"same\", activation='relu'))\n",
        "    # cnn.add(MaxPooling2D(pool_size = (2,2)))\n",
        "    # cnn.add(Dropout(0.5))\n",
        "\n",
        "    ## convolution 6\n",
        "    # cnn.add(Convolution2D(512, (2,2), padding=\"same\", activation='relu'))\n",
        "    # cnn.add(MaxPooling2D(pool_size = (1,1)))\n",
        "    # cnn.add(Dropout(0.5))\n",
        "\n",
        "    cnn.add(Flatten())\n",
        "\n",
        "    ## dense\n",
        "    cnn.add(Dense(128, activation='relu'))\n",
        "    # cnn.add(Dense(256, activation='relu'))\n",
        "    # cnn.add(Dropout(0.5))\n",
        "    cnn.add(Dense(2, activation = 'sigmoid'))\n",
        "\n",
        "    # callback = [EarlyStopping(monitor = 'accuracy', mode = 'max', patience = 2)]\n",
        "\n",
        "    cnn.compile(optimizer = keras.optimizers.Adam(), loss = 'binary_crossentropy',\n",
        "                metrics = ['accuracy'])\n",
        "    \n",
        "    return cnn\n",
        "\n",
        "classifier = KerasClassifier(build_fn = build_classifier, batch_size = 1024, epochs = 200)"
      ],
      "execution_count": 37,
      "outputs": []
    },
    {
      "cell_type": "code",
      "metadata": {
        "colab": {
          "base_uri": "https://localhost:8080/"
        },
        "id": "lvz7BRwK6c-p",
        "outputId": "f2cc33ae-6431-46a6-ce1d-b36c39f320ef"
      },
      "source": [
        "scores = cross_val_score(estimator = classifier, X = test, y = ytest, cv = 10, n_jobs = -1)\n",
        "print(f'Model Cross Validation: \\n{round(scores.mean(), 3)*100}%')\n",
        "print(f'Model Cross Validation: \\n{scores}')\n",
        "\n",
        "os.system('say \"cross validation finished\" ')"
      ],
      "execution_count": 38,
      "outputs": [
        {
          "output_type": "stream",
          "text": [
            "Model Cross Validation: \n",
            "49.6%\n",
            "Model Cross Validation: \n",
            "[0.48984 0.48784 0.49462 0.499   0.50538 0.49542 0.50538 0.48784 0.50418\n",
            " 0.49382]\n"
          ],
          "name": "stdout"
        },
        {
          "output_type": "execute_result",
          "data": {
            "text/plain": [
              "32512"
            ]
          },
          "metadata": {
            "tags": []
          },
          "execution_count": 38
        }
      ]
    },
    {
      "cell_type": "code",
      "metadata": {
        "id": "QVJ8ZsRw4HwN"
      },
      "source": [
        ""
      ],
      "execution_count": null,
      "outputs": []
    }
  ]
}