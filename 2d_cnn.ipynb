{
  "nbformat": 4,
  "nbformat_minor": 0,
  "metadata": {
    "orig_nbformat": 2,
    "kernelspec": {
      "name": "python3",
      "display_name": "Python 3"
    },
    "colab": {
      "name": "2d_cnn.ipynb",
      "provenance": []
    },
    "accelerator": "GPU",
    "language_info": {
      "name": "python"
    }
  },
  "cells": [
    {
      "cell_type": "code",
      "metadata": {
        "id": "uoSJDF16yFkC",
        "outputId": "cc8c4c3d-ec75-409c-fcb5-f80c9d5006e8",
        "colab": {
          "base_uri": "https://localhost:8080/"
        }
      },
      "source": [
        "! nvidia-smi"
      ],
      "execution_count": 1,
      "outputs": [
        {
          "output_type": "stream",
          "text": [
            "Wed May 12 13:33:41 2021       \n",
            "+-----------------------------------------------------------------------------+\n",
            "| NVIDIA-SMI 465.19.01    Driver Version: 460.32.03    CUDA Version: 11.2     |\n",
            "|-------------------------------+----------------------+----------------------+\n",
            "| GPU  Name        Persistence-M| Bus-Id        Disp.A | Volatile Uncorr. ECC |\n",
            "| Fan  Temp  Perf  Pwr:Usage/Cap|         Memory-Usage | GPU-Util  Compute M. |\n",
            "|                               |                      |               MIG M. |\n",
            "|===============================+======================+======================|\n",
            "|   0  Tesla T4            Off  | 00000000:00:04.0 Off |                    0 |\n",
            "| N/A   47C    P8     9W /  70W |      0MiB / 15109MiB |      0%      Default |\n",
            "|                               |                      |                  N/A |\n",
            "+-------------------------------+----------------------+----------------------+\n",
            "                                                                               \n",
            "+-----------------------------------------------------------------------------+\n",
            "| Processes:                                                                  |\n",
            "|  GPU   GI   CI        PID   Type   Process name                  GPU Memory |\n",
            "|        ID   ID                                                   Usage      |\n",
            "|=============================================================================|\n",
            "|  No running processes found                                                 |\n",
            "+-----------------------------------------------------------------------------+\n"
          ],
          "name": "stdout"
        }
      ]
    },
    {
      "cell_type": "code",
      "metadata": {
        "colab": {
          "base_uri": "https://localhost:8080/"
        },
        "id": "SeZZvLXXN0Lv",
        "outputId": "405d268d-e903-4460-91c9-18eae3fa382e"
      },
      "source": [
        "from google.colab import drive\n",
        "drive.mount('/content/drive')"
      ],
      "execution_count": 1,
      "outputs": [
        {
          "output_type": "stream",
          "text": [
            "Mounted at /content/drive\n"
          ],
          "name": "stdout"
        }
      ]
    },
    {
      "cell_type": "code",
      "metadata": {
        "id": "eIzDWja0OBiw"
      },
      "source": [
        "!unzip /content/drive/MyDrive/Colab\\ Notebooks/64x64.zip > /dev/null\n",
        "# !unzip /content/drive/MyDrive/Colab\\ Notebooks/32x32.zip > /dev/null"
      ],
      "execution_count": 2,
      "outputs": []
    },
    {
      "cell_type": "code",
      "metadata": {
        "id": "X6bRfwJ_6c-V"
      },
      "source": [
        "## libraries\n",
        "import numpy as np\n",
        "import pandas as pd\n",
        "import matplotlib.pyplot as plt\n",
        "from matplotlib.pyplot import figure\n",
        "import sys, os, time, csv, glob, cv2\n",
        "\n",
        "import tensorflow as tf\n",
        "from tensorflow import keras\n",
        "from tensorflow.keras.layers import Dense, Convolution1D, Convolution2D, MaxPooling2D, Flatten, AveragePooling2D, GlobalAveragePooling2D, GlobalMaxPool2D, MaxPooling1D, Dropout\n",
        "from tensorflow.keras.models import Sequential\n",
        "from tensorflow.keras.callbacks import EarlyStopping\n",
        "from keras.wrappers.scikit_learn import KerasClassifier\n",
        "\n",
        "import sklearn\n",
        "from sklearn.model_selection import cross_val_score\n",
        "from sklearn import metrics\n",
        "\n",
        "## Settings\n",
        "pd.set_option('display.max_columns', None)\n",
        "pd.options.display.float_format = '{:.5f}'.format\n",
        "np.set_printoptions(threshold=sys.maxsize)\n",
        "np.set_printoptions(precision = 5, suppress = True)"
      ],
      "execution_count": 3,
      "outputs": []
    },
    {
      "cell_type": "markdown",
      "metadata": {
        "id": "yRxC9OVB6c-c"
      },
      "source": [
        "# CNN 1.0 - Binary output (attack/normal)"
      ]
    },
    {
      "cell_type": "code",
      "metadata": {
        "id": "sjn-epN96c-e"
      },
      "source": [
        "train_normal = []\n",
        "train_attack = []\n",
        "test_normal = []\n",
        "test_attack = []\n",
        "\n",
        "for i in glob.glob('/content/64x64/train_normal/train_normal_*.jpg', recursive=True):\n",
        "    train_normal.append(cv2.imread(i, cv2.IMREAD_GRAYSCALE))\n",
        "\n",
        "for i in glob.glob('/content/64x64/train_attack/train_attack_*.jpg', recursive=True):\n",
        "    train_attack.append(cv2.imread(i, cv2.IMREAD_GRAYSCALE))\n",
        "\n",
        "for i in glob.glob('/content/64x64/test_normal/test_normal_*.jpg', recursive=True):\n",
        "    test_normal.append(cv2.imread(i, cv2.IMREAD_GRAYSCALE))\n",
        "\n",
        "for i in glob.glob('/content/64x64/test_attack/test_attack_*.jpg', recursive=True):\n",
        "    test_attack.append(cv2.imread(i, cv2.IMREAD_GRAYSCALE))\n",
        "\n",
        "train_normal = np.stack(train_normal)\n",
        "train_attack = np.stack(train_attack)\n",
        "test_normal = np.stack(test_normal)\n",
        "test_attack = np.stack(test_attack)"
      ],
      "execution_count": 53,
      "outputs": []
    },
    {
      "cell_type": "code",
      "metadata": {
        "colab": {
          "base_uri": "https://localhost:8080/"
        },
        "id": "dMi-eflf6c-f",
        "outputId": "d31bc804-777b-4732-8735-2ea52842053d"
      },
      "source": [
        "np.shape(train_normal), np.shape(train_attack), np.shape(test_normal), np.shape(test_attack),"
      ],
      "execution_count": 54,
      "outputs": [
        {
          "output_type": "execute_result",
          "data": {
            "text/plain": [
              "((1874, 64, 64), (1628, 64, 64), (271, 64, 64), (357, 64, 64))"
            ]
          },
          "metadata": {
            "tags": []
          },
          "execution_count": 54
        }
      ]
    },
    {
      "cell_type": "code",
      "metadata": {
        "id": "SAKSZOA76c-g"
      },
      "source": [
        "## augmenting the data to create more images\n",
        "## only run cell if needed\n",
        "\n",
        "## vertically flip training images\n",
        "vert_flip_train_attack = np.fliplr(train_attack)\n",
        "vert_flip_train_normal = np.fliplr(train_normal)\n",
        "\n",
        "## flip training images horizonatally\n",
        "hor_flip_train_attack = np.rot90(train_attack, axes = (1,2), k = 2)\n",
        "hor_flip_train_normal = np.rot90(train_normal, axes = (1,2), k = 2)\n",
        "\n",
        "## rotate training images left and right once each\n",
        "rotate90l_train_attack = np.rot90(train_attack, axes=(1, 2))\n",
        "rotate90r_train_attack = np.rot90(train_normal, -1, axes=(1, 2))\n",
        "rotate90l_train_normal = np.rot90(train_attack, axes=(1, 2))\n",
        "rotate90r_train_normal = np.rot90(train_normal, -1, axes=(1, 2))\n",
        "\n",
        "\n",
        "\n",
        "## vertically flip testing images\n",
        "vert_flip_test_attack = np.fliplr(test_attack)\n",
        "vert_flip_test_normal = np.fliplr(test_normal)\n",
        "\n",
        "## flip testing images horizonatally\n",
        "hor_flip_test_attack = np.rot90(test_attack, axes = (1,2), k = 2)\n",
        "hor_flip_test_normal = np.rot90(test_normal, axes = (1,2), k = 2)\n",
        "\n",
        "## rotate testing images left and right once each\n",
        "rotate90l_test_attack = np.rot90(test_attack, axes=(1, 2))\n",
        "rotate90r_test_attack = np.rot90(test_normal, -1, axes=(1, 2))\n",
        "rotate90l_test_normal = np.rot90(test_attack, axes=(1, 2))\n",
        "rotate90r_test_normal = np.rot90(test_normal, -1, axes=(1, 2))\n",
        "\n",
        "\n",
        "## stack all the original and augmented data to one single numpy array\n",
        "train = np.vstack((train_attack, vert_flip_train_attack, hor_flip_train_attack, rotate90l_train_attack, rotate90r_train_attack, train_normal, vert_flip_train_normal, hor_flip_train_normal, rotate90r_train_normal, rotate90l_train_normal))\n",
        "test = np.vstack((test_attack, vert_flip_test_attack, hor_flip_test_attack, rotate90l_test_attack, rotate90r_test_attack, test_normal, vert_flip_test_normal, hor_flip_test_normal, rotate90r_test_normal, rotate90l_test_normal))"
      ],
      "execution_count": 55,
      "outputs": []
    },
    {
      "cell_type": "code",
      "metadata": {
        "id": "R4OLWyQw6c-i"
      },
      "source": [
        "## if no augmented data is needed, run this cell\n",
        "train = np.vstack((train_normal, train_attack))\n",
        "test = np.vstack((test_normal, test_attack))"
      ],
      "execution_count": 39,
      "outputs": []
    },
    {
      "cell_type": "code",
      "metadata": {
        "colab": {
          "base_uri": "https://localhost:8080/"
        },
        "id": "cDjWT4RT6c-i",
        "outputId": "18a32dd6-5850-488b-9d49-9e9b261322e2"
      },
      "source": [
        "train.shape, test.shape"
      ],
      "execution_count": 40,
      "outputs": [
        {
          "output_type": "execute_result",
          "data": {
            "text/plain": [
              "((3502, 64, 64), (628, 64, 64))"
            ]
          },
          "metadata": {
            "tags": []
          },
          "execution_count": 40
        }
      ]
    },
    {
      "cell_type": "code",
      "metadata": {
        "id": "1Bcx3IdD6c-j"
      },
      "source": [
        "train = train.reshape(-1,64,64,1)\n",
        "test = test.reshape(-1,64,64,1)"
      ],
      "execution_count": 56,
      "outputs": []
    },
    {
      "cell_type": "code",
      "metadata": {
        "colab": {
          "base_uri": "https://localhost:8080/"
        },
        "id": "LwWX9YME6c-j",
        "outputId": "a31f741b-ebf2-43f6-bff3-1d862a2ade42"
      },
      "source": [
        "train.shape, test.shape"
      ],
      "execution_count": 57,
      "outputs": [
        {
          "output_type": "execute_result",
          "data": {
            "text/plain": [
              "((17510, 64, 64, 1), (3140, 64, 64, 1))"
            ]
          },
          "metadata": {
            "tags": []
          },
          "execution_count": 57
        }
      ]
    },
    {
      "cell_type": "code",
      "metadata": {
        "id": "pyxOplUl6c-j"
      },
      "source": [
        "for i in range(0, 5):\n",
        "    plt.imshow(tf.squeeze(train[i]), cmap = 'gray')\n",
        "    plt.show()"
      ],
      "execution_count": null,
      "outputs": []
    },
    {
      "cell_type": "code",
      "metadata": {
        "id": "JDe4E_aK6c-m"
      },
      "source": [
        "## create the training and testing data labels\n",
        "## run if not using augmented data\n",
        "\n",
        "training_labels = []\n",
        "## add the attack labels\n",
        "for i in range(0, train_attack.shape[0]):\n",
        "    training_labels.append('attack')\n",
        "\n",
        "## add the normal labels\n",
        "for j in range(train_attack.shape[0], train.shape[0]):\n",
        "    training_labels.append('normal')\n",
        "\n",
        "\n",
        "\n",
        "testing_labels = []\n",
        "## add the attack labels\n",
        "for k in range(0, test_attack.shape[0]):\n",
        "    testing_labels.append('attack')\n",
        "\n",
        "## add the normal labels\n",
        "for l in range(test_attack.shape[0], test.shape[0]):\n",
        "    testing_labels.append('normal')"
      ],
      "execution_count": 43,
      "outputs": []
    },
    {
      "cell_type": "code",
      "metadata": {
        "id": "KEZ7jTGy6c-m"
      },
      "source": [
        "## create the training and testing data labels\n",
        "## run this cell if using augmented data\n",
        "\n",
        "training_labels = []\n",
        "## add the attack labels\n",
        "for i in range(0, train_attack.shape[0] + vert_flip_train_attack.shape[0] + hor_flip_train_attack.shape[0] + rotate90l_train_attack.shape[0] + rotate90r_train_attack.shape[0]):\n",
        "    training_labels.append('attack')\n",
        "\n",
        "## add the normal labels\n",
        "for j in range(train_attack.shape[0] + vert_flip_train_attack.shape[0] + hor_flip_train_attack.shape[0] + rotate90l_train_attack.shape[0] + rotate90r_train_attack.shape[0], train.shape[0]):\n",
        "    training_labels.append('normal')\n",
        "\n",
        "\n",
        "\n",
        "testing_labels = []\n",
        "## add the attack labels\n",
        "for k in range(0, test_attack.shape[0] + vert_flip_test_attack.shape[0] + hor_flip_test_attack.shape[0] + rotate90l_test_attack.shape[0] + rotate90r_test_attack.shape[0]):\n",
        "    testing_labels.append('attack')\n",
        "\n",
        "## add the normal labels\n",
        "for l in range(test_attack.shape[0] + vert_flip_test_attack.shape[0] + hor_flip_test_attack.shape[0] + rotate90l_test_attack.shape[0] + rotate90r_test_attack.shape[0], test.shape[0]):\n",
        "    testing_labels.append('normal')"
      ],
      "execution_count": 58,
      "outputs": []
    },
    {
      "cell_type": "code",
      "metadata": {
        "colab": {
          "base_uri": "https://localhost:8080/"
        },
        "id": "XlYiHSgg6c-m",
        "outputId": "d9f1ff15-c753-44da-df28-bc93172f62eb"
      },
      "source": [
        "## create the dataframe for labels, then OHE the column\n",
        "ytrain = pd.DataFrame(training_labels, columns = ['category'])\n",
        "ytest = pd.DataFrame(testing_labels, columns = ['category'])\n",
        "\n",
        "ytrain = pd.get_dummies(ytrain['category'])\n",
        "ytest = pd.get_dummies(ytest['category'])\n",
        "\n",
        "ytrain, ytest"
      ],
      "execution_count": 59,
      "outputs": [
        {
          "output_type": "execute_result",
          "data": {
            "text/plain": [
              "(       attack  normal\n",
              " 0           1       0\n",
              " 1           1       0\n",
              " 2           1       0\n",
              " 3           1       0\n",
              " 4           1       0\n",
              " ...       ...     ...\n",
              " 17505       0       1\n",
              " 17506       0       1\n",
              " 17507       0       1\n",
              " 17508       0       1\n",
              " 17509       0       1\n",
              " \n",
              " [17510 rows x 2 columns],       attack  normal\n",
              " 0          1       0\n",
              " 1          1       0\n",
              " 2          1       0\n",
              " 3          1       0\n",
              " 4          1       0\n",
              " ...      ...     ...\n",
              " 3135       0       1\n",
              " 3136       0       1\n",
              " 3137       0       1\n",
              " 3138       0       1\n",
              " 3139       0       1\n",
              " \n",
              " [3140 rows x 2 columns])"
            ]
          },
          "metadata": {
            "tags": []
          },
          "execution_count": 59
        }
      ]
    },
    {
      "cell_type": "code",
      "metadata": {
        "id": "6WiwQuKq6c-m"
      },
      "source": [
        "## shuffle the data to prevent pattern recognition\n",
        "train = sklearn.utils.shuffle(train, random_state = 7)\n",
        "ytrain = sklearn.utils.shuffle(ytrain, random_state = 7)\n",
        "\n",
        "test = sklearn.utils.shuffle(test, random_state = 7)\n",
        "ytest = sklearn.utils.shuffle(ytest, random_state = 7)"
      ],
      "execution_count": 60,
      "outputs": []
    },
    {
      "cell_type": "code",
      "metadata": {
        "colab": {
          "base_uri": "https://localhost:8080/"
        },
        "id": "Yd9A1cXf6c-n",
        "outputId": "834164fe-7a29-4142-b386-defa0827ea2b"
      },
      "source": [
        "cnn = Sequential()\n",
        "\n",
        "## convolution 1\n",
        "cnn.add(Convolution2D(8, (2,2), padding=\"same\", activation='relu', input_shape = (64,64,1)))\n",
        "cnn.add(AveragePooling2D(pool_size = (2,2)))\n",
        "# cnn.add(Dropout(0.5))\n",
        "\n",
        "## convolution 2\n",
        "cnn.add(Convolution2D(16, (2,2), padding=\"same\", activation='relu'))\n",
        "cnn.add(AveragePooling2D(pool_size = (2,2)))\n",
        "# cnn.add(Dropout(0.5))\n",
        "\n",
        "## convolution 3\n",
        "# cnn.add(Convolution2D(64, (2,2), padding=\"same\", activation='relu'))\n",
        "# cnn.add(AveragePooling2D(pool_size = (2,2)))\n",
        "# # cnn.add(Dropout(0.5))\n",
        "\n",
        "# ## convolution 4\n",
        "# cnn.add(Convolution2D(128, (2,2), padding=\"same\", activation='relu'))\n",
        "# cnn.add(AveragePooling2D(pool_size = (2,2)))\n",
        "# cnn.add(Dropout(0.5))\n",
        "\n",
        "## convolution 5\n",
        "# cnn.add(Convolution2D(256, (2,2), padding=\"same\", activation='relu'))\n",
        "# cnn.add(MaxPooling2D(pool_size = (2,2)))\n",
        "# cnn.add(Dropout(0.8))\n",
        "\n",
        "## convolution 6\n",
        "# cnn.add(Convolution2D(256, (2,2), padding=\"same\", activation='relu'))\n",
        "# cnn.add(MaxPooling2D(pool_size = (1,1)))\n",
        "# cnn.add(Dropout(0.5))\n",
        "\n",
        "cnn.add(Flatten())\n",
        "\n",
        "## dense\n",
        "cnn.add(Dense(10, activation='relu'))\n",
        "# cnn.add(Dense(256, activation='relu'))\n",
        "# cnn.add(Dropout(0.5))\n",
        "cnn.add(Dense(2, activation = 'sigmoid'))\n",
        "\n",
        "# callback = [EarlyStopping(monitor = 'accuracy', mode = 'max', patience = 2)]\n",
        "\n",
        "cnn.compile(optimizer = keras.optimizers.Adam(), loss = 'binary_crossentropy',\n",
        "            metrics = ['accuracy'])\n",
        "\n",
        "\n",
        "cnn.summary()"
      ],
      "execution_count": 84,
      "outputs": [
        {
          "output_type": "stream",
          "text": [
            "Model: \"sequential_7\"\n",
            "_________________________________________________________________\n",
            "Layer (type)                 Output Shape              Param #   \n",
            "=================================================================\n",
            "conv2d_26 (Conv2D)           (None, 64, 64, 8)         40        \n",
            "_________________________________________________________________\n",
            "average_pooling2d_26 (Averag (None, 32, 32, 8)         0         \n",
            "_________________________________________________________________\n",
            "conv2d_27 (Conv2D)           (None, 32, 32, 16)        528       \n",
            "_________________________________________________________________\n",
            "average_pooling2d_27 (Averag (None, 16, 16, 16)        0         \n",
            "_________________________________________________________________\n",
            "flatten_7 (Flatten)          (None, 4096)              0         \n",
            "_________________________________________________________________\n",
            "dense_14 (Dense)             (None, 10)                40970     \n",
            "_________________________________________________________________\n",
            "dense_15 (Dense)             (None, 2)                 22        \n",
            "=================================================================\n",
            "Total params: 41,560\n",
            "Trainable params: 41,560\n",
            "Non-trainable params: 0\n",
            "_________________________________________________________________\n"
          ],
          "name": "stdout"
        }
      ]
    },
    {
      "cell_type": "code",
      "metadata": {
        "colab": {
          "base_uri": "https://localhost:8080/"
        },
        "id": "u__u_Y9j6c-o",
        "outputId": "106c672e-f802-45ec-d680-6acc2daedb89"
      },
      "source": [
        "# start = time.time()\n",
        "model_history = cnn.fit(train, ytrain, batch_size = 512, epochs = 200)\n",
        "# end = time.time()\n",
        "\n",
        "# os.system(f'say \"training finished in {round(end - start, 2)} seconds\"')\n",
        "# print(f'Training finished in {round(end - start, 2)}')"
      ],
      "execution_count": 85,
      "outputs": [
        {
          "output_type": "stream",
          "text": [
            "Epoch 1/200\n",
            "35/35 [==============================] - 2s 36ms/step - loss: 1.4666 - accuracy: 0.4748\n",
            "Epoch 2/200\n",
            "35/35 [==============================] - 1s 32ms/step - loss: 0.6933 - accuracy: 0.5212\n",
            "Epoch 3/200\n",
            "35/35 [==============================] - 1s 32ms/step - loss: 0.6935 - accuracy: 0.5200\n",
            "Epoch 4/200\n",
            "35/35 [==============================] - 1s 32ms/step - loss: 0.6927 - accuracy: 0.5258\n",
            "Epoch 5/200\n",
            "35/35 [==============================] - 1s 32ms/step - loss: 0.6872 - accuracy: 0.5273\n",
            "Epoch 6/200\n",
            "35/35 [==============================] - 1s 32ms/step - loss: 0.6773 - accuracy: 0.5211\n",
            "Epoch 7/200\n",
            "35/35 [==============================] - 1s 32ms/step - loss: 0.6753 - accuracy: 0.5800\n",
            "Epoch 8/200\n",
            "35/35 [==============================] - 1s 33ms/step - loss: 0.6763 - accuracy: 0.5754\n",
            "Epoch 9/200\n",
            "35/35 [==============================] - 1s 32ms/step - loss: 0.6737 - accuracy: 0.5848\n",
            "Epoch 10/200\n",
            "35/35 [==============================] - 1s 32ms/step - loss: 0.6722 - accuracy: 0.5845\n",
            "Epoch 11/200\n",
            "35/35 [==============================] - 1s 32ms/step - loss: 0.6749 - accuracy: 0.5816\n",
            "Epoch 12/200\n",
            "35/35 [==============================] - 1s 32ms/step - loss: 0.6726 - accuracy: 0.5833\n",
            "Epoch 13/200\n",
            "35/35 [==============================] - 1s 32ms/step - loss: 0.6744 - accuracy: 0.5822\n",
            "Epoch 14/200\n",
            "35/35 [==============================] - 1s 32ms/step - loss: 0.6740 - accuracy: 0.5805\n",
            "Epoch 15/200\n",
            "35/35 [==============================] - 1s 32ms/step - loss: 0.6715 - accuracy: 0.5840\n",
            "Epoch 16/200\n",
            "35/35 [==============================] - 1s 32ms/step - loss: 0.6727 - accuracy: 0.5809\n",
            "Epoch 17/200\n",
            "35/35 [==============================] - 1s 32ms/step - loss: 0.6702 - accuracy: 0.5858\n",
            "Epoch 18/200\n",
            "35/35 [==============================] - 1s 32ms/step - loss: 0.6706 - accuracy: 0.5820\n",
            "Epoch 19/200\n",
            "35/35 [==============================] - 1s 32ms/step - loss: 0.6721 - accuracy: 0.5837\n",
            "Epoch 20/200\n",
            "35/35 [==============================] - 1s 32ms/step - loss: 0.6697 - accuracy: 0.5832\n",
            "Epoch 21/200\n",
            "35/35 [==============================] - 1s 32ms/step - loss: 0.6704 - accuracy: 0.5837\n",
            "Epoch 22/200\n",
            "35/35 [==============================] - 1s 32ms/step - loss: 0.6689 - accuracy: 0.5921\n",
            "Epoch 23/200\n",
            "35/35 [==============================] - 1s 32ms/step - loss: 0.6717 - accuracy: 0.5817\n",
            "Epoch 24/200\n",
            "35/35 [==============================] - 1s 32ms/step - loss: 0.6678 - accuracy: 0.5896\n",
            "Epoch 25/200\n",
            "35/35 [==============================] - 1s 32ms/step - loss: 0.6681 - accuracy: 0.5861\n",
            "Epoch 26/200\n",
            "35/35 [==============================] - 1s 32ms/step - loss: 0.6653 - accuracy: 0.5879\n",
            "Epoch 27/200\n",
            "35/35 [==============================] - 1s 32ms/step - loss: 0.6667 - accuracy: 0.5912\n",
            "Epoch 28/200\n",
            "35/35 [==============================] - 1s 32ms/step - loss: 0.6653 - accuracy: 0.5914\n",
            "Epoch 29/200\n",
            "35/35 [==============================] - 1s 32ms/step - loss: 0.6638 - accuracy: 0.5939\n",
            "Epoch 30/200\n",
            "35/35 [==============================] - 1s 32ms/step - loss: 0.6631 - accuracy: 0.5965\n",
            "Epoch 31/200\n",
            "35/35 [==============================] - 1s 33ms/step - loss: 0.6599 - accuracy: 0.6009\n",
            "Epoch 32/200\n",
            "35/35 [==============================] - 1s 33ms/step - loss: 0.6614 - accuracy: 0.5988\n",
            "Epoch 33/200\n",
            "35/35 [==============================] - 1s 32ms/step - loss: 0.6597 - accuracy: 0.5997\n",
            "Epoch 34/200\n",
            "35/35 [==============================] - 1s 32ms/step - loss: 0.6589 - accuracy: 0.5955\n",
            "Epoch 35/200\n",
            "35/35 [==============================] - 1s 32ms/step - loss: 0.6592 - accuracy: 0.5984\n",
            "Epoch 36/200\n",
            "35/35 [==============================] - 1s 32ms/step - loss: 0.6600 - accuracy: 0.5965\n",
            "Epoch 37/200\n",
            "35/35 [==============================] - 1s 32ms/step - loss: 0.6611 - accuracy: 0.5916\n",
            "Epoch 38/200\n",
            "35/35 [==============================] - 1s 32ms/step - loss: 0.6590 - accuracy: 0.5954\n",
            "Epoch 39/200\n",
            "35/35 [==============================] - 1s 32ms/step - loss: 0.6571 - accuracy: 0.5979\n",
            "Epoch 40/200\n",
            "35/35 [==============================] - 1s 32ms/step - loss: 0.6551 - accuracy: 0.6032\n",
            "Epoch 41/200\n",
            "35/35 [==============================] - 1s 32ms/step - loss: 0.6549 - accuracy: 0.6052\n",
            "Epoch 42/200\n",
            "35/35 [==============================] - 1s 33ms/step - loss: 0.6562 - accuracy: 0.5918\n",
            "Epoch 43/200\n",
            "35/35 [==============================] - 1s 32ms/step - loss: 0.6554 - accuracy: 0.6017\n",
            "Epoch 44/200\n",
            "35/35 [==============================] - 1s 32ms/step - loss: 0.6544 - accuracy: 0.5983\n",
            "Epoch 45/200\n",
            "35/35 [==============================] - 1s 32ms/step - loss: 0.6514 - accuracy: 0.6107\n",
            "Epoch 46/200\n",
            "35/35 [==============================] - 1s 32ms/step - loss: 0.6542 - accuracy: 0.5985\n",
            "Epoch 47/200\n",
            "35/35 [==============================] - 1s 32ms/step - loss: 0.6525 - accuracy: 0.6009\n",
            "Epoch 48/200\n",
            "35/35 [==============================] - 1s 32ms/step - loss: 0.6523 - accuracy: 0.6001\n",
            "Epoch 49/200\n",
            "35/35 [==============================] - 1s 32ms/step - loss: 0.6530 - accuracy: 0.5996\n",
            "Epoch 50/200\n",
            "35/35 [==============================] - 1s 32ms/step - loss: 0.6468 - accuracy: 0.6103\n",
            "Epoch 51/200\n",
            "35/35 [==============================] - 1s 32ms/step - loss: 0.6500 - accuracy: 0.6066\n",
            "Epoch 52/200\n",
            "35/35 [==============================] - 1s 33ms/step - loss: 0.6513 - accuracy: 0.5962\n",
            "Epoch 53/200\n",
            "35/35 [==============================] - 1s 32ms/step - loss: 0.6509 - accuracy: 0.6011\n",
            "Epoch 54/200\n",
            "35/35 [==============================] - 1s 32ms/step - loss: 0.6497 - accuracy: 0.6025\n",
            "Epoch 55/200\n",
            "35/35 [==============================] - 1s 32ms/step - loss: 0.6494 - accuracy: 0.6042\n",
            "Epoch 56/200\n",
            "35/35 [==============================] - 1s 32ms/step - loss: 0.6495 - accuracy: 0.6051\n",
            "Epoch 57/200\n",
            "35/35 [==============================] - 1s 32ms/step - loss: 0.6450 - accuracy: 0.6084\n",
            "Epoch 58/200\n",
            "35/35 [==============================] - 1s 32ms/step - loss: 0.6471 - accuracy: 0.6063\n",
            "Epoch 59/200\n",
            "35/35 [==============================] - 1s 32ms/step - loss: 0.6467 - accuracy: 0.6092\n",
            "Epoch 60/200\n",
            "35/35 [==============================] - 1s 32ms/step - loss: 0.6470 - accuracy: 0.6098\n",
            "Epoch 61/200\n",
            "35/35 [==============================] - 1s 33ms/step - loss: 0.6450 - accuracy: 0.6064\n",
            "Epoch 62/200\n",
            "35/35 [==============================] - 1s 32ms/step - loss: 0.6488 - accuracy: 0.6057\n",
            "Epoch 63/200\n",
            "35/35 [==============================] - 1s 33ms/step - loss: 0.6461 - accuracy: 0.6077\n",
            "Epoch 64/200\n",
            "35/35 [==============================] - 1s 33ms/step - loss: 0.6443 - accuracy: 0.6095\n",
            "Epoch 65/200\n",
            "35/35 [==============================] - 1s 32ms/step - loss: 0.6470 - accuracy: 0.6070\n",
            "Epoch 66/200\n",
            "35/35 [==============================] - 1s 32ms/step - loss: 0.6449 - accuracy: 0.6075\n",
            "Epoch 67/200\n",
            "35/35 [==============================] - 1s 32ms/step - loss: 0.6434 - accuracy: 0.6101\n",
            "Epoch 68/200\n",
            "35/35 [==============================] - 1s 32ms/step - loss: 0.6434 - accuracy: 0.6103\n",
            "Epoch 69/200\n",
            "35/35 [==============================] - 1s 32ms/step - loss: 0.6424 - accuracy: 0.6112\n",
            "Epoch 70/200\n",
            "35/35 [==============================] - 1s 32ms/step - loss: 0.6429 - accuracy: 0.6068\n",
            "Epoch 71/200\n",
            "35/35 [==============================] - 1s 32ms/step - loss: 0.6448 - accuracy: 0.6085\n",
            "Epoch 72/200\n",
            "35/35 [==============================] - 1s 32ms/step - loss: 0.6387 - accuracy: 0.6138\n",
            "Epoch 73/200\n",
            "35/35 [==============================] - 1s 32ms/step - loss: 0.6417 - accuracy: 0.6110\n",
            "Epoch 74/200\n",
            "35/35 [==============================] - 1s 32ms/step - loss: 0.6413 - accuracy: 0.6091\n",
            "Epoch 75/200\n",
            "35/35 [==============================] - 1s 32ms/step - loss: 0.6432 - accuracy: 0.6086\n",
            "Epoch 76/200\n",
            "35/35 [==============================] - 1s 32ms/step - loss: 0.6394 - accuracy: 0.6176\n",
            "Epoch 77/200\n",
            "35/35 [==============================] - 1s 32ms/step - loss: 0.6406 - accuracy: 0.6091\n",
            "Epoch 78/200\n",
            "35/35 [==============================] - 1s 32ms/step - loss: 0.6409 - accuracy: 0.6131\n",
            "Epoch 79/200\n",
            "35/35 [==============================] - 1s 32ms/step - loss: 0.6414 - accuracy: 0.6122\n",
            "Epoch 80/200\n",
            "35/35 [==============================] - 1s 33ms/step - loss: 0.6410 - accuracy: 0.6127\n",
            "Epoch 81/200\n",
            "35/35 [==============================] - 1s 32ms/step - loss: 0.6397 - accuracy: 0.6154\n",
            "Epoch 82/200\n",
            "35/35 [==============================] - 1s 32ms/step - loss: 0.6413 - accuracy: 0.6128\n",
            "Epoch 83/200\n",
            "35/35 [==============================] - 1s 32ms/step - loss: 0.6398 - accuracy: 0.6126\n",
            "Epoch 84/200\n",
            "35/35 [==============================] - 1s 33ms/step - loss: 0.6402 - accuracy: 0.6076\n",
            "Epoch 85/200\n",
            "35/35 [==============================] - 1s 32ms/step - loss: 0.6391 - accuracy: 0.6113\n",
            "Epoch 86/200\n",
            "35/35 [==============================] - 1s 32ms/step - loss: 0.6404 - accuracy: 0.6078\n",
            "Epoch 87/200\n",
            "35/35 [==============================] - 1s 32ms/step - loss: 0.6401 - accuracy: 0.6103\n",
            "Epoch 88/200\n",
            "35/35 [==============================] - 1s 32ms/step - loss: 0.6388 - accuracy: 0.6134\n",
            "Epoch 89/200\n",
            "35/35 [==============================] - 1s 33ms/step - loss: 0.6403 - accuracy: 0.6101\n",
            "Epoch 90/200\n",
            "35/35 [==============================] - 1s 32ms/step - loss: 0.6355 - accuracy: 0.6134\n",
            "Epoch 91/200\n",
            "35/35 [==============================] - 1s 32ms/step - loss: 0.6383 - accuracy: 0.6135\n",
            "Epoch 92/200\n",
            "35/35 [==============================] - 1s 32ms/step - loss: 0.6404 - accuracy: 0.6111\n",
            "Epoch 93/200\n",
            "35/35 [==============================] - 1s 32ms/step - loss: 0.6387 - accuracy: 0.6098\n",
            "Epoch 94/200\n",
            "35/35 [==============================] - 1s 32ms/step - loss: 0.6346 - accuracy: 0.6230\n",
            "Epoch 95/200\n",
            "35/35 [==============================] - 1s 32ms/step - loss: 0.6385 - accuracy: 0.6113\n",
            "Epoch 96/200\n",
            "35/35 [==============================] - 1s 32ms/step - loss: 0.6386 - accuracy: 0.6174\n",
            "Epoch 97/200\n",
            "35/35 [==============================] - 1s 32ms/step - loss: 0.6393 - accuracy: 0.6130\n",
            "Epoch 98/200\n",
            "35/35 [==============================] - 1s 33ms/step - loss: 0.6372 - accuracy: 0.6154\n",
            "Epoch 99/200\n",
            "35/35 [==============================] - 1s 32ms/step - loss: 0.6363 - accuracy: 0.6150\n",
            "Epoch 100/200\n",
            "35/35 [==============================] - 1s 32ms/step - loss: 0.6358 - accuracy: 0.6183\n",
            "Epoch 101/200\n",
            "35/35 [==============================] - 1s 33ms/step - loss: 0.6348 - accuracy: 0.6204\n",
            "Epoch 102/200\n",
            "35/35 [==============================] - 1s 33ms/step - loss: 0.6377 - accuracy: 0.6125\n",
            "Epoch 103/200\n",
            "35/35 [==============================] - 1s 32ms/step - loss: 0.6365 - accuracy: 0.6180\n",
            "Epoch 104/200\n",
            "35/35 [==============================] - 1s 32ms/step - loss: 0.6344 - accuracy: 0.6192\n",
            "Epoch 105/200\n",
            "35/35 [==============================] - 1s 32ms/step - loss: 0.6364 - accuracy: 0.6140\n",
            "Epoch 106/200\n",
            "35/35 [==============================] - 1s 33ms/step - loss: 0.6350 - accuracy: 0.6165\n",
            "Epoch 107/200\n",
            "35/35 [==============================] - 1s 33ms/step - loss: 0.6369 - accuracy: 0.6148\n",
            "Epoch 108/200\n",
            "35/35 [==============================] - 1s 33ms/step - loss: 0.6392 - accuracy: 0.6162\n",
            "Epoch 109/200\n",
            "35/35 [==============================] - 1s 32ms/step - loss: 0.6349 - accuracy: 0.6183\n",
            "Epoch 110/200\n",
            "35/35 [==============================] - 1s 33ms/step - loss: 0.6376 - accuracy: 0.6142\n",
            "Epoch 111/200\n",
            "35/35 [==============================] - 1s 32ms/step - loss: 0.6382 - accuracy: 0.6127\n",
            "Epoch 112/200\n",
            "35/35 [==============================] - 1s 32ms/step - loss: 0.6353 - accuracy: 0.6163\n",
            "Epoch 113/200\n",
            "35/35 [==============================] - 1s 33ms/step - loss: 0.6365 - accuracy: 0.6138\n",
            "Epoch 114/200\n",
            "35/35 [==============================] - 1s 32ms/step - loss: 0.6377 - accuracy: 0.6121\n",
            "Epoch 115/200\n",
            "35/35 [==============================] - 1s 33ms/step - loss: 0.6352 - accuracy: 0.6173\n",
            "Epoch 116/200\n",
            "35/35 [==============================] - 1s 32ms/step - loss: 0.6319 - accuracy: 0.6243\n",
            "Epoch 117/200\n",
            "35/35 [==============================] - 1s 32ms/step - loss: 0.6376 - accuracy: 0.6121\n",
            "Epoch 118/200\n",
            "35/35 [==============================] - 1s 32ms/step - loss: 0.6371 - accuracy: 0.6126\n",
            "Epoch 119/200\n",
            "35/35 [==============================] - 1s 33ms/step - loss: 0.6356 - accuracy: 0.6137\n",
            "Epoch 120/200\n",
            "35/35 [==============================] - 1s 32ms/step - loss: 0.6368 - accuracy: 0.6123\n",
            "Epoch 121/200\n",
            "35/35 [==============================] - 1s 33ms/step - loss: 0.6370 - accuracy: 0.6181\n",
            "Epoch 122/200\n",
            "35/35 [==============================] - 1s 32ms/step - loss: 0.6372 - accuracy: 0.6121\n",
            "Epoch 123/200\n",
            "35/35 [==============================] - 1s 32ms/step - loss: 0.6363 - accuracy: 0.6194\n",
            "Epoch 124/200\n",
            "35/35 [==============================] - 1s 32ms/step - loss: 0.6344 - accuracy: 0.6177\n",
            "Epoch 125/200\n",
            "35/35 [==============================] - 1s 32ms/step - loss: 0.6344 - accuracy: 0.6149\n",
            "Epoch 126/200\n",
            "35/35 [==============================] - 1s 32ms/step - loss: 0.6359 - accuracy: 0.6151\n",
            "Epoch 127/200\n",
            "35/35 [==============================] - 1s 32ms/step - loss: 0.6365 - accuracy: 0.6140\n",
            "Epoch 128/200\n",
            "35/35 [==============================] - 1s 32ms/step - loss: 0.6336 - accuracy: 0.6207\n",
            "Epoch 129/200\n",
            "35/35 [==============================] - 1s 33ms/step - loss: 0.6359 - accuracy: 0.6130\n",
            "Epoch 130/200\n",
            "35/35 [==============================] - 1s 32ms/step - loss: 0.6347 - accuracy: 0.6129\n",
            "Epoch 131/200\n",
            "35/35 [==============================] - 1s 32ms/step - loss: 0.6347 - accuracy: 0.6164\n",
            "Epoch 132/200\n",
            "35/35 [==============================] - 1s 32ms/step - loss: 0.6332 - accuracy: 0.6189\n",
            "Epoch 133/200\n",
            "35/35 [==============================] - 1s 32ms/step - loss: 0.6330 - accuracy: 0.6177\n",
            "Epoch 134/200\n",
            "35/35 [==============================] - 1s 33ms/step - loss: 0.6342 - accuracy: 0.6137\n",
            "Epoch 135/200\n",
            "35/35 [==============================] - 1s 32ms/step - loss: 0.6335 - accuracy: 0.6201\n",
            "Epoch 136/200\n",
            "35/35 [==============================] - 1s 32ms/step - loss: 0.6331 - accuracy: 0.6214\n",
            "Epoch 137/200\n",
            "35/35 [==============================] - 1s 32ms/step - loss: 0.6327 - accuracy: 0.6193\n",
            "Epoch 138/200\n",
            "35/35 [==============================] - 1s 32ms/step - loss: 0.6350 - accuracy: 0.6127\n",
            "Epoch 139/200\n",
            "35/35 [==============================] - 1s 32ms/step - loss: 0.6356 - accuracy: 0.6162\n",
            "Epoch 140/200\n",
            "35/35 [==============================] - 1s 32ms/step - loss: 0.6375 - accuracy: 0.6129\n",
            "Epoch 141/200\n",
            "35/35 [==============================] - 1s 32ms/step - loss: 0.6346 - accuracy: 0.6179\n",
            "Epoch 142/200\n",
            "35/35 [==============================] - 1s 32ms/step - loss: 0.6314 - accuracy: 0.6252\n",
            "Epoch 143/200\n",
            "35/35 [==============================] - 1s 32ms/step - loss: 0.6295 - accuracy: 0.6245\n",
            "Epoch 144/200\n",
            "35/35 [==============================] - 1s 32ms/step - loss: 0.6339 - accuracy: 0.6159\n",
            "Epoch 145/200\n",
            "35/35 [==============================] - 1s 32ms/step - loss: 0.6331 - accuracy: 0.6165\n",
            "Epoch 146/200\n",
            "35/35 [==============================] - 1s 32ms/step - loss: 0.6309 - accuracy: 0.6250\n",
            "Epoch 147/200\n",
            "35/35 [==============================] - 1s 32ms/step - loss: 0.6314 - accuracy: 0.6216\n",
            "Epoch 148/200\n",
            "35/35 [==============================] - 1s 32ms/step - loss: 0.6331 - accuracy: 0.6202\n",
            "Epoch 149/200\n",
            "35/35 [==============================] - 1s 32ms/step - loss: 0.6319 - accuracy: 0.6180\n",
            "Epoch 150/200\n",
            "35/35 [==============================] - 1s 32ms/step - loss: 0.6310 - accuracy: 0.6190\n",
            "Epoch 151/200\n",
            "35/35 [==============================] - 1s 32ms/step - loss: 0.6348 - accuracy: 0.6132\n",
            "Epoch 152/200\n",
            "35/35 [==============================] - 1s 32ms/step - loss: 0.6346 - accuracy: 0.6157\n",
            "Epoch 153/200\n",
            "35/35 [==============================] - 1s 32ms/step - loss: 0.6349 - accuracy: 0.6122\n",
            "Epoch 154/200\n",
            "35/35 [==============================] - 1s 32ms/step - loss: 0.6319 - accuracy: 0.6183\n",
            "Epoch 155/200\n",
            "35/35 [==============================] - 1s 32ms/step - loss: 0.6295 - accuracy: 0.6224\n",
            "Epoch 156/200\n",
            "35/35 [==============================] - 1s 32ms/step - loss: 0.6316 - accuracy: 0.6197\n",
            "Epoch 157/200\n",
            "35/35 [==============================] - 1s 32ms/step - loss: 0.6318 - accuracy: 0.6215\n",
            "Epoch 158/200\n",
            "35/35 [==============================] - 1s 32ms/step - loss: 0.6334 - accuracy: 0.6179\n",
            "Epoch 159/200\n",
            "35/35 [==============================] - 1s 32ms/step - loss: 0.6309 - accuracy: 0.6208\n",
            "Epoch 160/200\n",
            "35/35 [==============================] - 1s 32ms/step - loss: 0.6322 - accuracy: 0.6187\n",
            "Epoch 161/200\n",
            "35/35 [==============================] - 1s 32ms/step - loss: 0.6295 - accuracy: 0.6234\n",
            "Epoch 162/200\n",
            "35/35 [==============================] - 1s 32ms/step - loss: 0.6341 - accuracy: 0.6150\n",
            "Epoch 163/200\n",
            "35/35 [==============================] - 1s 32ms/step - loss: 0.6318 - accuracy: 0.6211\n",
            "Epoch 164/200\n",
            "35/35 [==============================] - 1s 33ms/step - loss: 0.6316 - accuracy: 0.6186\n",
            "Epoch 165/200\n",
            "35/35 [==============================] - 1s 33ms/step - loss: 0.6320 - accuracy: 0.6195\n",
            "Epoch 166/200\n",
            "35/35 [==============================] - 1s 32ms/step - loss: 0.6297 - accuracy: 0.6188\n",
            "Epoch 167/200\n",
            "35/35 [==============================] - 1s 33ms/step - loss: 0.6299 - accuracy: 0.6229\n",
            "Epoch 168/200\n",
            "35/35 [==============================] - 1s 32ms/step - loss: 0.6319 - accuracy: 0.6221\n",
            "Epoch 169/200\n",
            "35/35 [==============================] - 1s 32ms/step - loss: 0.6353 - accuracy: 0.6151\n",
            "Epoch 170/200\n",
            "35/35 [==============================] - 1s 32ms/step - loss: 0.6354 - accuracy: 0.6166\n",
            "Epoch 171/200\n",
            "35/35 [==============================] - 1s 33ms/step - loss: 0.6344 - accuracy: 0.6160\n",
            "Epoch 172/200\n",
            "35/35 [==============================] - 1s 32ms/step - loss: 0.6334 - accuracy: 0.6198\n",
            "Epoch 173/200\n",
            "35/35 [==============================] - 1s 33ms/step - loss: 0.6310 - accuracy: 0.6217\n",
            "Epoch 174/200\n",
            "35/35 [==============================] - 1s 33ms/step - loss: 0.6332 - accuracy: 0.6141\n",
            "Epoch 175/200\n",
            "35/35 [==============================] - 1s 33ms/step - loss: 0.6310 - accuracy: 0.6218\n",
            "Epoch 176/200\n",
            "35/35 [==============================] - 1s 32ms/step - loss: 0.6342 - accuracy: 0.6124\n",
            "Epoch 177/200\n",
            "35/35 [==============================] - 1s 32ms/step - loss: 0.6329 - accuracy: 0.6191\n",
            "Epoch 178/200\n",
            "35/35 [==============================] - 1s 32ms/step - loss: 0.6311 - accuracy: 0.6209\n",
            "Epoch 179/200\n",
            "35/35 [==============================] - 1s 32ms/step - loss: 0.6300 - accuracy: 0.6236\n",
            "Epoch 180/200\n",
            "35/35 [==============================] - 1s 33ms/step - loss: 0.6301 - accuracy: 0.6209\n",
            "Epoch 181/200\n",
            "35/35 [==============================] - 1s 32ms/step - loss: 0.6311 - accuracy: 0.6187\n",
            "Epoch 182/200\n",
            "35/35 [==============================] - 1s 32ms/step - loss: 0.6326 - accuracy: 0.6175\n",
            "Epoch 183/200\n",
            "35/35 [==============================] - 1s 33ms/step - loss: 0.6302 - accuracy: 0.6201\n",
            "Epoch 184/200\n",
            "35/35 [==============================] - 1s 32ms/step - loss: 0.6322 - accuracy: 0.6200\n",
            "Epoch 185/200\n",
            "35/35 [==============================] - 1s 32ms/step - loss: 0.6337 - accuracy: 0.6156\n",
            "Epoch 186/200\n",
            "35/35 [==============================] - 1s 33ms/step - loss: 0.6324 - accuracy: 0.6205\n",
            "Epoch 187/200\n",
            "35/35 [==============================] - 1s 32ms/step - loss: 0.6295 - accuracy: 0.6259\n",
            "Epoch 188/200\n",
            "35/35 [==============================] - 1s 32ms/step - loss: 0.6353 - accuracy: 0.6130\n",
            "Epoch 189/200\n",
            "35/35 [==============================] - 1s 33ms/step - loss: 0.6342 - accuracy: 0.6159\n",
            "Epoch 190/200\n",
            "35/35 [==============================] - 1s 32ms/step - loss: 0.6283 - accuracy: 0.6186\n",
            "Epoch 191/200\n",
            "35/35 [==============================] - 1s 32ms/step - loss: 0.6290 - accuracy: 0.6229\n",
            "Epoch 192/200\n",
            "35/35 [==============================] - 1s 32ms/step - loss: 0.6307 - accuracy: 0.6196\n",
            "Epoch 193/200\n",
            "35/35 [==============================] - 1s 33ms/step - loss: 0.6298 - accuracy: 0.6181\n",
            "Epoch 194/200\n",
            "35/35 [==============================] - 1s 32ms/step - loss: 0.6291 - accuracy: 0.6209\n",
            "Epoch 195/200\n",
            "35/35 [==============================] - 1s 32ms/step - loss: 0.6316 - accuracy: 0.6157\n",
            "Epoch 196/200\n",
            "35/35 [==============================] - 1s 33ms/step - loss: 0.6313 - accuracy: 0.6195\n",
            "Epoch 197/200\n",
            "35/35 [==============================] - 1s 33ms/step - loss: 0.6341 - accuracy: 0.6151\n",
            "Epoch 198/200\n",
            "35/35 [==============================] - 1s 33ms/step - loss: 0.6294 - accuracy: 0.6235\n",
            "Epoch 199/200\n",
            "35/35 [==============================] - 1s 33ms/step - loss: 0.6300 - accuracy: 0.6246\n",
            "Epoch 200/200\n",
            "35/35 [==============================] - 1s 33ms/step - loss: 0.6295 - accuracy: 0.6229\n"
          ],
          "name": "stdout"
        }
      ]
    },
    {
      "cell_type": "code",
      "metadata": {
        "colab": {
          "base_uri": "https://localhost:8080/",
          "height": 1000
        },
        "id": "rnKo0j5N6c-o",
        "outputId": "65991404-306f-423d-b597-156a8c7253ce"
      },
      "source": [
        "print(model_history.history.keys())\n",
        "\n",
        "figure(figsize = (20,12))\n",
        "plt.plot(model_history.history['accuracy'])\n",
        "# plt.plot(model_history.history['val_accuracy'])\n",
        "plt.title('Model Accuracy', fontsize = 18)\n",
        "plt.ylabel('Accuracy', fontsize = 18)\n",
        "plt.xlabel('Epoch', fontsize = 18)\n",
        "plt.xticks(np.arange(0, 210, step = 10))\n",
        "plt.legend(['Train', 'Test'], loc = 'best', fontsize = 18)\n",
        "plt.grid(axis = 'x')\n",
        "plt.show()\n",
        "\n",
        "print()\n",
        "\n",
        "figure(figsize = (20,12))\n",
        "plt.plot(model_history.history['loss'])\n",
        "# plt.plot(model_history.history['val_loss'])\n",
        "plt.title('Model Loss', fontsize = 18)\n",
        "plt.ylabel('Loss', fontsize = 18)\n",
        "plt.ylabel('Epoch', fontsize = 18)\n",
        "plt.xticks(np.arange(0, 210, step = 10), )\n",
        "plt.legend(['Train', 'Test'], loc = 'best', fontsize = 18)\n",
        "plt.grid(axis = 'x')\n",
        "plt.show()"
      ],
      "execution_count": 86,
      "outputs": [
        {
          "output_type": "stream",
          "text": [
            "dict_keys(['loss', 'accuracy'])\n"
          ],
          "name": "stdout"
        },
        {
          "output_type": "display_data",
          "data": {
            "image/png": "[encoded data removed]",
            "text/plain": [
              "<Figure size 1440x864 with 1 Axes>"
            ]
          },
          "metadata": {
            "tags": [],
            "needs_background": "light"
          }
        },
        {
          "output_type": "stream",
          "text": [
            "\n"
          ],
          "name": "stdout"
        },
        {
          "output_type": "display_data",
          "data": {
            "image/png": "[encoded data removed]",
            "text/plain": [
              "<Figure size 1440x864 with 1 Axes>"
            ]
          },
          "metadata": {
            "tags": [],
            "needs_background": "light"
          }
        }
      ]
    },
    {
      "cell_type": "code",
      "metadata": {
        "colab": {
          "base_uri": "https://localhost:8080/"
        },
        "id": "vFd8485B6c-p",
        "outputId": "aea9d715-1483-4f5a-ce1e-09b4621be981"
      },
      "source": [
        "loss, acc = cnn.evaluate(test, ytest, batch_size = 512, verbose = 0)\n",
        "print(f'Loss = {round(loss, 4)}\\tAccuracy = {round(acc, 4)*100}%')"
      ],
      "execution_count": 88,
      "outputs": [
        {
          "output_type": "stream",
          "text": [
            "Loss = 1.0187\tAccuracy = 60.57%\n"
          ],
          "name": "stdout"
        }
      ]
    },
    {
      "cell_type": "code",
      "metadata": {
        "colab": {
          "base_uri": "https://localhost:8080/"
        },
        "id": "1vYQq61n6c-p",
        "outputId": "f8acc8c5-77fa-43a9-9023-459f6e89032c"
      },
      "source": [
        "preds = cnn.predict(test)\n",
        "y_preds = np.argmax(preds, axis = 1)\n",
        "\n",
        "preds[:20]"
      ],
      "execution_count": 89,
      "outputs": [
        {
          "output_type": "execute_result",
          "data": {
            "text/plain": [
              "array([[0.50442, 0.49585],\n",
              "       [0.56457, 0.43541],\n",
              "       [0.35517, 0.64491],\n",
              "       [0.56457, 0.43541],\n",
              "       [0.56457, 0.43541],\n",
              "       [0.56457, 0.43541],\n",
              "       [0.56457, 0.43541],\n",
              "       [0.56457, 0.43541],\n",
              "       [0.56457, 0.43541],\n",
              "       [0.35517, 0.64491],\n",
              "       [0.56457, 0.43541],\n",
              "       [0.56457, 0.43541],\n",
              "       [0.56457, 0.43541],\n",
              "       [0.56457, 0.43541],\n",
              "       [0.56457, 0.43541],\n",
              "       [0.56457, 0.43541],\n",
              "       [0.56457, 0.43541],\n",
              "       [0.35517, 0.64491],\n",
              "       [0.00004, 0.99997],\n",
              "       [0.35517, 0.64491]], dtype=float32)"
            ]
          },
          "metadata": {
            "tags": []
          },
          "execution_count": 89
        }
      ]
    },
    {
      "cell_type": "code",
      "metadata": {
        "id": "KNgHOMVP6c-p"
      },
      "source": [
        "def build_classifier():\n",
        "    \n",
        "    cnn = Sequential()\n",
        "\n",
        "    ## convolution 1\n",
        "    cnn.add(Convolution2D(8, (2,2), padding=\"same\", activation='relu', input_shape = (64,64,1)))\n",
        "    cnn.add(AveragePooling2D(pool_size = (2,2)))\n",
        "    # cnn.add(Dropout(0.5))\n",
        "\n",
        "    ## convolution 2\n",
        "    cnn.add(Convolution2D(16, (2,2), padding=\"same\", activation='relu'))\n",
        "    cnn.add(AveragePooling2D(pool_size = (2,2)))\n",
        "    # cnn.add(Dropout(0.5))\n",
        "\n",
        "    ## convolution 3\n",
        "    # cnn.add(Convolution2D(64, (2,2), padding=\"same\", activation='relu'))\n",
        "    # cnn.add(AveragePooling2D(pool_size = (2,2)))\n",
        "    # # cnn.add(Dropout(0.5))\n",
        "\n",
        "    # ## convolution 4\n",
        "    # cnn.add(Convolution2D(128, (2,2), padding=\"same\", activation='relu'))\n",
        "    # cnn.add(AveragePooling2D(pool_size = (2,2)))\n",
        "    # cnn.add(Dropout(0.5))\n",
        "\n",
        "    ## convolution 5\n",
        "    # cnn.add(Convolution2D(256, (3,3), padding=\"same\", activation='relu'))\n",
        "    # cnn.add(MaxPooling2D(pool_size = (2,2)))\n",
        "    # cnn.add(Dropout(0.5))\n",
        "\n",
        "    ## convolution 6\n",
        "    # cnn.add(Convolution2D(512, (2,2), padding=\"same\", activation='relu'))\n",
        "    # cnn.add(MaxPooling2D(pool_size = (1,1)))\n",
        "    # cnn.add(Dropout(0.5))\n",
        "\n",
        "    cnn.add(Flatten())\n",
        "\n",
        "    ## dense\n",
        "    cnn.add(Dense(128, activation='relu'))\n",
        "    # cnn.add(Dense(256, activation='relu'))\n",
        "    # cnn.add(Dropout(0.5))\n",
        "    cnn.add(Dense(2, activation = 'sigmoid'))\n",
        "\n",
        "    # callback = [EarlyStopping(monitor = 'accuracy', mode = 'max', patience = 2)]\n",
        "\n",
        "    cnn.compile(optimizer = keras.optimizers.Adam(), loss = 'binary_crossentropy',\n",
        "                metrics = ['accuracy'])\n",
        "    \n",
        "    return cnn\n",
        "\n",
        "classifier = KerasClassifier(build_fn = build_classifier, batch_size = 512, epochs = 200)"
      ],
      "execution_count": 90,
      "outputs": []
    },
    {
      "cell_type": "code",
      "metadata": {
        "colab": {
          "base_uri": "https://localhost:8080/"
        },
        "id": "lvz7BRwK6c-p",
        "outputId": "abf43e55-0a6f-4a3e-edd4-3f7f32a39243"
      },
      "source": [
        "scores = cross_val_score(estimator = classifier, X = test, y = ytest, cv = 5, n_jobs = -1, verbose = True)\n",
        "print(f'Model Cross Validation: \\n{round(scores.mean(), 3)*100}%')\n",
        "print(f'Model Cross Validation: \\n{scores}')\n",
        "\n",
        "os.system('say \"cross validation finished\" ')"
      ],
      "execution_count": 92,
      "outputs": [
        {
          "output_type": "stream",
          "text": [
            "[Parallel(n_jobs=-1)]: Using backend LokyBackend with 2 concurrent workers.\n",
            "[Parallel(n_jobs=-1)]: Done   5 out of   5 | elapsed:  2.8min remaining:    0.0s\n",
            "[Parallel(n_jobs=-1)]: Done   5 out of   5 | elapsed:  2.8min finished\n"
          ],
          "name": "stderr"
        },
        {
          "output_type": "stream",
          "text": [
            "Model Cross Validation: \n",
            "47.699999999999996%\n",
            "Model Cross Validation: \n",
            "[0.48408 0.46019 0.46815 0.49045 0.48408]\n"
          ],
          "name": "stdout"
        },
        {
          "output_type": "execute_result",
          "data": {
            "text/plain": [
              "32512"
            ]
          },
          "metadata": {
            "tags": []
          },
          "execution_count": 92
        }
      ]
    },
    {
      "cell_type": "code",
      "metadata": {
        "id": "sBVWiF4R1c8F"
      },
      "source": [
        ""
      ],
      "execution_count": null,
      "outputs": []
    }
  ]
}