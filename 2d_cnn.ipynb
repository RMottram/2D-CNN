{
  "nbformat": 4,
  "nbformat_minor": 0,
  "metadata": {
    "orig_nbformat": 2,
    "kernelspec": {
      "name": "python3",
      "display_name": "Python 3"
    },
    "colab": {
      "name": "2d_cnn.ipynb",
      "provenance": []
    },
    "language_info": {
      "name": "python"
    }
  },
  "cells": [
    {
      "cell_type": "code",
      "metadata": {
        "id": "uoSJDF16yFkC"
      },
      "source": [
        "# !nvidia-smi"
      ],
      "execution_count": 18,
      "outputs": []
    },
    {
      "cell_type": "code",
      "metadata": {
        "colab": {
          "base_uri": "https://localhost:8080/"
        },
        "id": "SeZZvLXXN0Lv",
        "outputId": "5077de5d-fa89-42ad-b995-555dff8885d4"
      },
      "source": [
        "from google.colab import drive\n",
        "drive.mount('/content/drive')"
      ],
      "execution_count": 19,
      "outputs": [
        {
          "output_type": "stream",
          "text": [
            "Drive already mounted at /content/drive; to attempt to forcibly remount, call drive.mount(\"/content/drive\", force_remount=True).\n"
          ],
          "name": "stdout"
        }
      ]
    },
    {
      "cell_type": "code",
      "metadata": {
        "id": "eIzDWja0OBiw",
        "outputId": "a28e6a65-d07b-457e-b4e1-7cd4fbd29123",
        "colab": {
          "base_uri": "https://localhost:8080/"
        }
      },
      "source": [
        "!unzip /content/drive/MyDrive/Colab\\ Notebooks/64x64.zip > /dev/null\n",
        "# !unzip /content/drive/MyDrive/Colab\\ Notebooks/32x32.zip > /dev/null"
      ],
      "execution_count": 20,
      "outputs": [
        {
          "output_type": "stream",
          "text": [
            "replace 64x64/.DS_Store? [y]es, [n]o, [A]ll, [N]one, [r]ename: N\n"
          ],
          "name": "stdout"
        }
      ]
    },
    {
      "cell_type": "code",
      "metadata": {
        "id": "X6bRfwJ_6c-V"
      },
      "source": [
        "## libraries\n",
        "import numpy as np\n",
        "import pandas as pd\n",
        "import matplotlib.pyplot as plt\n",
        "from matplotlib.pyplot import figure\n",
        "import sys, os, time, csv, glob, cv2\n",
        "\n",
        "import tensorflow as tf\n",
        "from tensorflow import keras\n",
        "from tensorflow.keras.layers import Dense, Convolution1D, Convolution2D, MaxPooling2D, Flatten, AveragePooling2D, GlobalAveragePooling2D, GlobalMaxPool2D, MaxPooling1D, Dropout\n",
        "from tensorflow.keras.models import Sequential\n",
        "from tensorflow.keras.callbacks import EarlyStopping\n",
        "from keras.wrappers.scikit_learn import KerasClassifier\n",
        "\n",
        "import sklearn\n",
        "from sklearn.model_selection import cross_val_score\n",
        "from sklearn import metrics\n",
        "\n",
        "## Settings\n",
        "pd.set_option('display.max_columns', None)\n",
        "pd.options.display.float_format = '{:.5f}'.format\n",
        "np.set_printoptions(threshold=sys.maxsize)\n",
        "np.set_printoptions(precision = 5, suppress = True)"
      ],
      "execution_count": 21,
      "outputs": []
    },
    {
      "cell_type": "markdown",
      "metadata": {
        "id": "yRxC9OVB6c-c"
      },
      "source": [
        "# CNN 1.0 - Binary output (attack/normal)"
      ]
    },
    {
      "cell_type": "code",
      "metadata": {
        "id": "sjn-epN96c-e"
      },
      "source": [
        "train_normal = []\n",
        "train_attack = []\n",
        "test_normal = []\n",
        "test_attack = []\n",
        "\n",
        "for i in glob.glob('/content/64x64/train_normal/train_normal_*.jpg', recursive=True):\n",
        "    train_normal.append(cv2.imread(i, cv2.IMREAD_GRAYSCALE))\n",
        "\n",
        "for j in glob.glob('/content/64x64/train_attack/train_attack_*.jpg', recursive=True):\n",
        "    train_attack.append(cv2.imread(j, cv2.IMREAD_GRAYSCALE))\n",
        "\n",
        "for k in glob.glob('/content/64x64/test_normal/test_normal_*.jpg', recursive=True):\n",
        "    test_normal.append(cv2.imread(k, cv2.IMREAD_GRAYSCALE))\n",
        "\n",
        "for l in glob.glob('/content/64x64/test_attack/test_attack_*.jpg', recursive=True):\n",
        "    test_attack.append(cv2.imread(l, cv2.IMREAD_GRAYSCALE))\n",
        "\n",
        "train_normal = np.array(train_normal)\n",
        "train_attack = np.array(train_attack)\n",
        "test_normal = np.array(test_normal)\n",
        "test_attack = np.array(test_attack)"
      ],
      "execution_count": 22,
      "outputs": []
    },
    {
      "cell_type": "code",
      "metadata": {
        "colab": {
          "base_uri": "https://localhost:8080/"
        },
        "id": "dMi-eflf6c-f",
        "outputId": "b5f0bc34-d83b-4a5f-91fc-359ede6e7ff0"
      },
      "source": [
        "np.shape(train_normal), np.shape(train_attack), np.shape(test_normal), np.shape(test_attack)\n",
        "\n",
        "# for i in range(0, 2):\n",
        "#   plt.imshow(train_normal[i], cmap = 'gray')\n",
        "#   plt.show()\n",
        "\n",
        "# for i in train_normal:\n",
        "#   print(i)"
      ],
      "execution_count": 23,
      "outputs": [
        {
          "output_type": "execute_result",
          "data": {
            "text/plain": [
              "((1874, 64, 64), (1628, 64, 64), (271, 64, 64), (357, 64, 64))"
            ]
          },
          "metadata": {
            "tags": []
          },
          "execution_count": 23
        }
      ]
    },
    {
      "cell_type": "code",
      "metadata": {
        "id": "SAKSZOA76c-g"
      },
      "source": [
        "## augmenting the data to create more images\n",
        "## only run cell if needed\n",
        "\n",
        "## vertically flip training images\n",
        "vert_flip_train_attack = np.fliplr(train_attack)\n",
        "vert_flip_train_normal = np.fliplr(train_normal)\n",
        "\n",
        "## flip training images horizonatally\n",
        "hor_flip_train_attack = np.rot90(train_attack, axes = (1,2), k = 2)\n",
        "hor_flip_train_normal = np.rot90(train_normal, axes = (1,2), k = 2)\n",
        "\n",
        "## rotate training images left and right once each\n",
        "rotate90l_train_attack = np.rot90(train_attack, axes=(1, 2))\n",
        "rotate90r_train_attack = np.rot90(train_normal, -1, axes=(1, 2))\n",
        "rotate90l_train_normal = np.rot90(train_attack, axes=(1, 2))\n",
        "rotate90r_train_normal = np.rot90(train_normal, -1, axes=(1, 2))\n",
        "\n",
        "\n",
        "\n",
        "## vertically flip testing images\n",
        "vert_flip_test_attack = np.fliplr(test_attack)\n",
        "vert_flip_test_normal = np.fliplr(test_normal)\n",
        "\n",
        "## flip testing images horizonatally\n",
        "hor_flip_test_attack = np.rot90(test_attack, axes = (1,2), k = 2)\n",
        "hor_flip_test_normal = np.rot90(test_normal, axes = (1,2), k = 2)\n",
        "\n",
        "## rotate testing images left and right once each\n",
        "rotate90l_test_attack = np.rot90(test_attack, axes=(1, 2))\n",
        "rotate90r_test_attack = np.rot90(test_normal, -1, axes=(1, 2))\n",
        "rotate90l_test_normal = np.rot90(test_attack, axes=(1, 2))\n",
        "rotate90r_test_normal = np.rot90(test_normal, -1, axes=(1, 2))\n",
        "\n",
        "\n",
        "## stack all the original and augmented data to one single numpy array\n",
        "train = np.vstack((train_attack, vert_flip_train_attack, hor_flip_train_attack,\n",
        "                   train_normal, vert_flip_train_normal, hor_flip_train_normal))\n",
        "test = np.vstack((test_attack, vert_flip_test_attack, hor_flip_test_attack,\n",
        "                  test_normal, vert_flip_test_normal, hor_flip_test_normal))"
      ],
      "execution_count": 24,
      "outputs": []
    },
    {
      "cell_type": "code",
      "metadata": {
        "id": "R4OLWyQw6c-i"
      },
      "source": [
        "## if no augmented data is needed, run this cell\n",
        "train = np.vstack((train_normal, train_attack))\n",
        "test = np.vstack((test_normal, test_attack))"
      ],
      "execution_count": 80,
      "outputs": []
    },
    {
      "cell_type": "code",
      "metadata": {
        "colab": {
          "base_uri": "https://localhost:8080/"
        },
        "id": "cDjWT4RT6c-i",
        "outputId": "83fc39cf-7a12-4f6e-e4ae-01f3eea70bb2"
      },
      "source": [
        "train.shape, test.shape"
      ],
      "execution_count": 81,
      "outputs": [
        {
          "output_type": "execute_result",
          "data": {
            "text/plain": [
              "((3502, 64, 64), (628, 64, 64))"
            ]
          },
          "metadata": {
            "tags": []
          },
          "execution_count": 81
        }
      ]
    },
    {
      "cell_type": "code",
      "metadata": {
        "id": "1Bcx3IdD6c-j"
      },
      "source": [
        "train = train.reshape(-1,64,64,1)\n",
        "test = test.reshape(-1,64,64,1)"
      ],
      "execution_count": 25,
      "outputs": []
    },
    {
      "cell_type": "code",
      "metadata": {
        "colab": {
          "base_uri": "https://localhost:8080/"
        },
        "id": "LwWX9YME6c-j",
        "outputId": "5f17c962-c2fa-40c1-e58f-c3e75bedcfc2"
      },
      "source": [
        "train.shape, test.shape"
      ],
      "execution_count": 26,
      "outputs": [
        {
          "output_type": "execute_result",
          "data": {
            "text/plain": [
              "((10506, 64, 64, 1), (1884, 64, 64, 1))"
            ]
          },
          "metadata": {
            "tags": []
          },
          "execution_count": 26
        }
      ]
    },
    {
      "cell_type": "code",
      "metadata": {
        "id": "pyxOplUl6c-j",
        "outputId": "98f870e5-3cde-4821-855d-f5c5194ff7df",
        "colab": {
          "base_uri": "https://localhost:8080/",
          "height": 1000
        }
      },
      "source": [
        "for i in range(0, 5):\n",
        "    plt.imshow(tf.squeeze(train[i]), cmap = 'gray')\n",
        "    plt.show()"
      ],
      "execution_count": 9,
      "outputs": [
        {
          "output_type": "display_data",
          "data": {
            "image/png": "[encoded data removed]",
            "text/plain": [
              "<Figure size 432x288 with 1 Axes>"
            ]
          },
          "metadata": {
            "tags": [],
            "needs_background": "light"
          }
        },
        {
          "output_type": "display_data",
          "data": {
            "image/png": "[encoded data removed]",
            "text/plain": [
              "<Figure size 432x288 with 1 Axes>"
            ]
          },
          "metadata": {
            "tags": [],
            "needs_background": "light"
          }
        },
        {
          "output_type": "display_data",
          "data": {
            "image/png": "[encoded data removed]",
            "text/plain": [
              "<Figure size 432x288 with 1 Axes>"
            ]
          },
          "metadata": {
            "tags": [],
            "needs_background": "light"
          }
        },
        {
          "output_type": "display_data",
          "data": {
            "image/png": "[encoded data removed]",
            "text/plain": [
              "<Figure size 432x288 with 1 Axes>"
            ]
          },
          "metadata": {
            "tags": [],
            "needs_background": "light"
          }
        },
        {
          "output_type": "display_data",
          "data": {
            "image/png": "[encoded data removed]",
            "text/plain": [
              "<Figure size 432x288 with 1 Axes>"
            ]
          },
          "metadata": {
            "tags": [],
            "needs_background": "light"
          }
        }
      ]
    },
    {
      "cell_type": "code",
      "metadata": {
        "id": "JDe4E_aK6c-m"
      },
      "source": [
        "## create the training and testing data labels\n",
        "## run if not using augmented data\n",
        "\n",
        "training_labels = []\n",
        "## add the attack labels\n",
        "for i in range(0, train_attack.shape[0]):\n",
        "    training_labels.append('attack')\n",
        "\n",
        "## add the normal labels\n",
        "for j in range(train_attack.shape[0], train.shape[0]):\n",
        "    training_labels.append('normal')\n",
        "\n",
        "\n",
        "\n",
        "testing_labels = []\n",
        "## add the attack labels\n",
        "for k in range(0, test_attack.shape[0]):\n",
        "    testing_labels.append('attack')\n",
        "\n",
        "## add the normal labels\n",
        "for l in range(test_attack.shape[0], test.shape[0]):\n",
        "    testing_labels.append('normal')"
      ],
      "execution_count": 84,
      "outputs": []
    },
    {
      "cell_type": "code",
      "metadata": {
        "id": "KEZ7jTGy6c-m"
      },
      "source": [
        "## create the training and testing data labels\n",
        "## run this cell if using augmented data\n",
        "\n",
        "training_labels = []\n",
        "## add the attack labels\n",
        "for i in range(0, train_attack.shape[0] + vert_flip_train_attack.shape[0] + hor_flip_train_attack.shape[0]):\n",
        "    training_labels.append('attack')\n",
        "\n",
        "## add the normal labels\n",
        "for j in range(train_attack.shape[0] + vert_flip_train_attack.shape[0] + hor_flip_train_attack.shape[0], train.shape[0]):\n",
        "    training_labels.append('normal')\n",
        "\n",
        "\n",
        "\n",
        "testing_labels = []\n",
        "## add the attack labels\n",
        "for k in range(0, test_attack.shape[0] + vert_flip_test_attack.shape[0] + hor_flip_test_attack.shape[0]):\n",
        "    testing_labels.append('attack')\n",
        "\n",
        "## add the normal labels\n",
        "for l in range(test_attack.shape[0] + vert_flip_test_attack.shape[0] + hor_flip_test_attack.shape[0], test.shape[0]):\n",
        "    testing_labels.append('normal')"
      ],
      "execution_count": 27,
      "outputs": []
    },
    {
      "cell_type": "code",
      "metadata": {
        "colab": {
          "base_uri": "https://localhost:8080/"
        },
        "id": "XlYiHSgg6c-m",
        "outputId": "24425c5b-3503-48b8-efa9-78638466ea2b"
      },
      "source": [
        "## create the dataframe for labels, then OHE the column\n",
        "ytrain = pd.DataFrame(training_labels, columns = ['category'])\n",
        "ytest = pd.DataFrame(testing_labels, columns = ['category'])\n",
        "\n",
        "ytrain = pd.get_dummies(ytrain['category'])\n",
        "ytest = pd.get_dummies(ytest['category'])\n",
        "\n",
        "ytrain, ytest"
      ],
      "execution_count": 28,
      "outputs": [
        {
          "output_type": "execute_result",
          "data": {
            "text/plain": [
              "(       attack  normal\n",
              " 0           1       0\n",
              " 1           1       0\n",
              " 2           1       0\n",
              " 3           1       0\n",
              " 4           1       0\n",
              " ...       ...     ...\n",
              " 10501       0       1\n",
              " 10502       0       1\n",
              " 10503       0       1\n",
              " 10504       0       1\n",
              " 10505       0       1\n",
              " \n",
              " [10506 rows x 2 columns],       attack  normal\n",
              " 0          1       0\n",
              " 1          1       0\n",
              " 2          1       0\n",
              " 3          1       0\n",
              " 4          1       0\n",
              " ...      ...     ...\n",
              " 1879       0       1\n",
              " 1880       0       1\n",
              " 1881       0       1\n",
              " 1882       0       1\n",
              " 1883       0       1\n",
              " \n",
              " [1884 rows x 2 columns])"
            ]
          },
          "metadata": {
            "tags": []
          },
          "execution_count": 28
        }
      ]
    },
    {
      "cell_type": "code",
      "metadata": {
        "id": "6WiwQuKq6c-m"
      },
      "source": [
        "## shuffle the data to prevent pattern recognition\n",
        "train, ytrain = sklearn.utils.shuffle(train, ytrain, random_state = 0)\n",
        "test, ytest = sklearn.utils.shuffle(test, ytest, random_state = 0)"
      ],
      "execution_count": 29,
      "outputs": []
    },
    {
      "cell_type": "code",
      "metadata": {
        "colab": {
          "base_uri": "https://localhost:8080/"
        },
        "id": "Yd9A1cXf6c-n",
        "outputId": "450581c3-ed2e-402d-ad86-97267e2126b7"
      },
      "source": [
        "cnn = Sequential()\n",
        "\n",
        "## convolution 1\n",
        "cnn.add(Convolution2D(16, (2,2), padding=\"same\", activation='relu', input_shape = (64,64,1)))\n",
        "cnn.add(MaxPooling2D(pool_size = (2,2)))\n",
        "# cnn.add(Dropout(0.5))\n",
        "\n",
        "## convolution 2\n",
        "cnn.add(Convolution2D(32, (2,2), padding=\"same\", activation='relu'))\n",
        "cnn.add(MaxPooling2D(pool_size = (2,2)))\n",
        "# cnn.add(Dropout(0.5))\n",
        "\n",
        "## convolution 3\n",
        "cnn.add(Convolution2D(64, (2,2), padding=\"same\", activation='relu'))\n",
        "cnn.add(MaxPooling2D(pool_size = (2,2)))\n",
        "# cnn.add(Dropout(0.5))\n",
        "\n",
        "## convolution 4\n",
        "cnn.add(Convolution2D(128, (2,2), padding=\"same\", activation='relu'))\n",
        "cnn.add(MaxPooling2D(pool_size = (2,2)))\n",
        "# # cnn.add(Dropout(0.5))\n",
        "\n",
        "cnn.add(Flatten())\n",
        "\n",
        "## dense\n",
        "cnn.add(Dense(128, activation='relu'))\n",
        "# cnn.add(Dense(256, activation='relu'))\n",
        "# cnn.add(Dropout(0.5))\n",
        "cnn.add(Dense(2, activation = 'sigmoid'))\n",
        "\n",
        "# callback = [EarlyStopping(monitor = 'accuracy', mode = 'max', patience = 2)]\n",
        "\n",
        "cnn.compile(optimizer = keras.optimizers.Adamax(), loss = 'binary_crossentropy',\n",
        "            metrics = ['accuracy'])\n",
        "\n",
        "\n",
        "cnn.summary()"
      ],
      "execution_count": 30,
      "outputs": [
        {
          "output_type": "stream",
          "text": [
            "Model: \"sequential_1\"\n",
            "_________________________________________________________________\n",
            "Layer (type)                 Output Shape              Param #   \n",
            "=================================================================\n",
            "conv2d_4 (Conv2D)            (None, 64, 64, 16)        80        \n",
            "_________________________________________________________________\n",
            "max_pooling2d_4 (MaxPooling2 (None, 32, 32, 16)        0         \n",
            "_________________________________________________________________\n",
            "conv2d_5 (Conv2D)            (None, 32, 32, 32)        2080      \n",
            "_________________________________________________________________\n",
            "max_pooling2d_5 (MaxPooling2 (None, 16, 16, 32)        0         \n",
            "_________________________________________________________________\n",
            "conv2d_6 (Conv2D)            (None, 16, 16, 64)        8256      \n",
            "_________________________________________________________________\n",
            "max_pooling2d_6 (MaxPooling2 (None, 8, 8, 64)          0         \n",
            "_________________________________________________________________\n",
            "conv2d_7 (Conv2D)            (None, 8, 8, 128)         32896     \n",
            "_________________________________________________________________\n",
            "max_pooling2d_7 (MaxPooling2 (None, 4, 4, 128)         0         \n",
            "_________________________________________________________________\n",
            "flatten_1 (Flatten)          (None, 2048)              0         \n",
            "_________________________________________________________________\n",
            "dense_2 (Dense)              (None, 128)               262272    \n",
            "_________________________________________________________________\n",
            "dense_3 (Dense)              (None, 2)                 258       \n",
            "=================================================================\n",
            "Total params: 305,842\n",
            "Trainable params: 305,842\n",
            "Non-trainable params: 0\n",
            "_________________________________________________________________\n"
          ],
          "name": "stdout"
        }
      ]
    },
    {
      "cell_type": "code",
      "metadata": {
        "colab": {
          "base_uri": "https://localhost:8080/",
          "height": 409
        },
        "id": "u__u_Y9j6c-o",
        "outputId": "b52d9609-8667-474e-9138-97dd5a71ab35"
      },
      "source": [
        "# start = time.time()\n",
        "model_history = cnn.fit(train, ytrain, batch_size = 512, epochs = 500)\n",
        "# end = time.time()\n",
        "\n",
        "# os.system(f'say \"training finished in {round(end - start, 2)} seconds\"')\n",
        "# print(f'Training finished in {round(end - start, 2)}')"
      ],
      "execution_count": 31,
      "outputs": [
        {
          "output_type": "stream",
          "text": [
            "Epoch 1/500\n",
            " 8/21 [==========>...................] - ETA: 15s - loss: 8.4355 - accuracy: 0.4591"
          ],
          "name": "stdout"
        },
        {
          "output_type": "error",
          "ename": "KeyboardInterrupt",
          "evalue": "ignored",
          "traceback": [
            "\u001b[0;31m---------------------------------------------------------------------------\u001b[0m",
            "\u001b[0;31mKeyboardInterrupt\u001b[0m                         Traceback (most recent call last)",
            "\u001b[0;32m<ipython-input-31-661c7f4fe897>\u001b[0m in \u001b[0;36m<module>\u001b[0;34m()\u001b[0m\n\u001b[1;32m      1\u001b[0m \u001b[0;31m# start = time.time()\u001b[0m\u001b[0;34m\u001b[0m\u001b[0;34m\u001b[0m\u001b[0;34m\u001b[0m\u001b[0m\n\u001b[0;32m----> 2\u001b[0;31m \u001b[0mmodel_history\u001b[0m \u001b[0;34m=\u001b[0m \u001b[0mcnn\u001b[0m\u001b[0;34m.\u001b[0m\u001b[0mfit\u001b[0m\u001b[0;34m(\u001b[0m\u001b[0mtrain\u001b[0m\u001b[0;34m,\u001b[0m \u001b[0mytrain\u001b[0m\u001b[0;34m,\u001b[0m \u001b[0mbatch_size\u001b[0m \u001b[0;34m=\u001b[0m \u001b[0;36m512\u001b[0m\u001b[0;34m,\u001b[0m \u001b[0mepochs\u001b[0m \u001b[0;34m=\u001b[0m \u001b[0;36m500\u001b[0m\u001b[0;34m)\u001b[0m\u001b[0;34m\u001b[0m\u001b[0;34m\u001b[0m\u001b[0m\n\u001b[0m\u001b[1;32m      3\u001b[0m \u001b[0;31m# end = time.time()\u001b[0m\u001b[0;34m\u001b[0m\u001b[0;34m\u001b[0m\u001b[0;34m\u001b[0m\u001b[0m\n\u001b[1;32m      4\u001b[0m \u001b[0;34m\u001b[0m\u001b[0m\n\u001b[1;32m      5\u001b[0m \u001b[0;31m# os.system(f'say \"training finished in {round(end - start, 2)} seconds\"')\u001b[0m\u001b[0;34m\u001b[0m\u001b[0;34m\u001b[0m\u001b[0;34m\u001b[0m\u001b[0m\n",
            "\u001b[0;32m/usr/local/lib/python3.7/dist-packages/tensorflow/python/keras/engine/training.py\u001b[0m in \u001b[0;36mfit\u001b[0;34m(self, x, y, batch_size, epochs, verbose, callbacks, validation_split, validation_data, shuffle, class_weight, sample_weight, initial_epoch, steps_per_epoch, validation_steps, validation_batch_size, validation_freq, max_queue_size, workers, use_multiprocessing)\u001b[0m\n\u001b[1;32m   1098\u001b[0m                 _r=1):\n\u001b[1;32m   1099\u001b[0m               \u001b[0mcallbacks\u001b[0m\u001b[0;34m.\u001b[0m\u001b[0mon_train_batch_begin\u001b[0m\u001b[0;34m(\u001b[0m\u001b[0mstep\u001b[0m\u001b[0;34m)\u001b[0m\u001b[0;34m\u001b[0m\u001b[0;34m\u001b[0m\u001b[0m\n\u001b[0;32m-> 1100\u001b[0;31m               \u001b[0mtmp_logs\u001b[0m \u001b[0;34m=\u001b[0m \u001b[0mself\u001b[0m\u001b[0;34m.\u001b[0m\u001b[0mtrain_function\u001b[0m\u001b[0;34m(\u001b[0m\u001b[0miterator\u001b[0m\u001b[0;34m)\u001b[0m\u001b[0;34m\u001b[0m\u001b[0;34m\u001b[0m\u001b[0m\n\u001b[0m\u001b[1;32m   1101\u001b[0m               \u001b[0;32mif\u001b[0m \u001b[0mdata_handler\u001b[0m\u001b[0;34m.\u001b[0m\u001b[0mshould_sync\u001b[0m\u001b[0;34m:\u001b[0m\u001b[0;34m\u001b[0m\u001b[0;34m\u001b[0m\u001b[0m\n\u001b[1;32m   1102\u001b[0m                 \u001b[0mcontext\u001b[0m\u001b[0;34m.\u001b[0m\u001b[0masync_wait\u001b[0m\u001b[0;34m(\u001b[0m\u001b[0;34m)\u001b[0m\u001b[0;34m\u001b[0m\u001b[0;34m\u001b[0m\u001b[0m\n",
            "\u001b[0;32m/usr/local/lib/python3.7/dist-packages/tensorflow/python/eager/def_function.py\u001b[0m in \u001b[0;36m__call__\u001b[0;34m(self, *args, **kwds)\u001b[0m\n\u001b[1;32m    826\u001b[0m     \u001b[0mtracing_count\u001b[0m \u001b[0;34m=\u001b[0m \u001b[0mself\u001b[0m\u001b[0;34m.\u001b[0m\u001b[0mexperimental_get_tracing_count\u001b[0m\u001b[0;34m(\u001b[0m\u001b[0;34m)\u001b[0m\u001b[0;34m\u001b[0m\u001b[0;34m\u001b[0m\u001b[0m\n\u001b[1;32m    827\u001b[0m     \u001b[0;32mwith\u001b[0m \u001b[0mtrace\u001b[0m\u001b[0;34m.\u001b[0m\u001b[0mTrace\u001b[0m\u001b[0;34m(\u001b[0m\u001b[0mself\u001b[0m\u001b[0;34m.\u001b[0m\u001b[0m_name\u001b[0m\u001b[0;34m)\u001b[0m \u001b[0;32mas\u001b[0m \u001b[0mtm\u001b[0m\u001b[0;34m:\u001b[0m\u001b[0;34m\u001b[0m\u001b[0;34m\u001b[0m\u001b[0m\n\u001b[0;32m--> 828\u001b[0;31m       \u001b[0mresult\u001b[0m \u001b[0;34m=\u001b[0m \u001b[0mself\u001b[0m\u001b[0;34m.\u001b[0m\u001b[0m_call\u001b[0m\u001b[0;34m(\u001b[0m\u001b[0;34m*\u001b[0m\u001b[0margs\u001b[0m\u001b[0;34m,\u001b[0m \u001b[0;34m**\u001b[0m\u001b[0mkwds\u001b[0m\u001b[0;34m)\u001b[0m\u001b[0;34m\u001b[0m\u001b[0;34m\u001b[0m\u001b[0m\n\u001b[0m\u001b[1;32m    829\u001b[0m       \u001b[0mcompiler\u001b[0m \u001b[0;34m=\u001b[0m \u001b[0;34m\"xla\"\u001b[0m \u001b[0;32mif\u001b[0m \u001b[0mself\u001b[0m\u001b[0;34m.\u001b[0m\u001b[0m_experimental_compile\u001b[0m \u001b[0;32melse\u001b[0m \u001b[0;34m\"nonXla\"\u001b[0m\u001b[0;34m\u001b[0m\u001b[0;34m\u001b[0m\u001b[0m\n\u001b[1;32m    830\u001b[0m       \u001b[0mnew_tracing_count\u001b[0m \u001b[0;34m=\u001b[0m \u001b[0mself\u001b[0m\u001b[0;34m.\u001b[0m\u001b[0mexperimental_get_tracing_count\u001b[0m\u001b[0;34m(\u001b[0m\u001b[0;34m)\u001b[0m\u001b[0;34m\u001b[0m\u001b[0;34m\u001b[0m\u001b[0m\n",
            "\u001b[0;32m/usr/local/lib/python3.7/dist-packages/tensorflow/python/eager/def_function.py\u001b[0m in \u001b[0;36m_call\u001b[0;34m(self, *args, **kwds)\u001b[0m\n\u001b[1;32m    853\u001b[0m       \u001b[0;31m# In this case we have created variables on the first call, so we run the\u001b[0m\u001b[0;34m\u001b[0m\u001b[0;34m\u001b[0m\u001b[0;34m\u001b[0m\u001b[0m\n\u001b[1;32m    854\u001b[0m       \u001b[0;31m# defunned version which is guaranteed to never create variables.\u001b[0m\u001b[0;34m\u001b[0m\u001b[0;34m\u001b[0m\u001b[0;34m\u001b[0m\u001b[0m\n\u001b[0;32m--> 855\u001b[0;31m       \u001b[0;32mreturn\u001b[0m \u001b[0mself\u001b[0m\u001b[0;34m.\u001b[0m\u001b[0m_stateless_fn\u001b[0m\u001b[0;34m(\u001b[0m\u001b[0;34m*\u001b[0m\u001b[0margs\u001b[0m\u001b[0;34m,\u001b[0m \u001b[0;34m**\u001b[0m\u001b[0mkwds\u001b[0m\u001b[0;34m)\u001b[0m  \u001b[0;31m# pylint: disable=not-callable\u001b[0m\u001b[0;34m\u001b[0m\u001b[0;34m\u001b[0m\u001b[0m\n\u001b[0m\u001b[1;32m    856\u001b[0m     \u001b[0;32melif\u001b[0m \u001b[0mself\u001b[0m\u001b[0;34m.\u001b[0m\u001b[0m_stateful_fn\u001b[0m \u001b[0;32mis\u001b[0m \u001b[0;32mnot\u001b[0m \u001b[0;32mNone\u001b[0m\u001b[0;34m:\u001b[0m\u001b[0;34m\u001b[0m\u001b[0;34m\u001b[0m\u001b[0m\n\u001b[1;32m    857\u001b[0m       \u001b[0;31m# Release the lock early so that multiple threads can perform the call\u001b[0m\u001b[0;34m\u001b[0m\u001b[0;34m\u001b[0m\u001b[0;34m\u001b[0m\u001b[0m\n",
            "\u001b[0;32m/usr/local/lib/python3.7/dist-packages/tensorflow/python/eager/function.py\u001b[0m in \u001b[0;36m__call__\u001b[0;34m(self, *args, **kwargs)\u001b[0m\n\u001b[1;32m   2941\u001b[0m        filtered_flat_args) = self._maybe_define_function(args, kwargs)\n\u001b[1;32m   2942\u001b[0m     return graph_function._call_flat(\n\u001b[0;32m-> 2943\u001b[0;31m         filtered_flat_args, captured_inputs=graph_function.captured_inputs)  # pylint: disable=protected-access\n\u001b[0m\u001b[1;32m   2944\u001b[0m \u001b[0;34m\u001b[0m\u001b[0m\n\u001b[1;32m   2945\u001b[0m   \u001b[0;34m@\u001b[0m\u001b[0mproperty\u001b[0m\u001b[0;34m\u001b[0m\u001b[0;34m\u001b[0m\u001b[0m\n",
            "\u001b[0;32m/usr/local/lib/python3.7/dist-packages/tensorflow/python/eager/function.py\u001b[0m in \u001b[0;36m_call_flat\u001b[0;34m(self, args, captured_inputs, cancellation_manager)\u001b[0m\n\u001b[1;32m   1917\u001b[0m       \u001b[0;31m# No tape is watching; skip to running the function.\u001b[0m\u001b[0;34m\u001b[0m\u001b[0;34m\u001b[0m\u001b[0;34m\u001b[0m\u001b[0m\n\u001b[1;32m   1918\u001b[0m       return self._build_call_outputs(self._inference_function.call(\n\u001b[0;32m-> 1919\u001b[0;31m           ctx, args, cancellation_manager=cancellation_manager))\n\u001b[0m\u001b[1;32m   1920\u001b[0m     forward_backward = self._select_forward_and_backward_functions(\n\u001b[1;32m   1921\u001b[0m         \u001b[0margs\u001b[0m\u001b[0;34m,\u001b[0m\u001b[0;34m\u001b[0m\u001b[0;34m\u001b[0m\u001b[0m\n",
            "\u001b[0;32m/usr/local/lib/python3.7/dist-packages/tensorflow/python/eager/function.py\u001b[0m in \u001b[0;36mcall\u001b[0;34m(self, ctx, args, cancellation_manager)\u001b[0m\n\u001b[1;32m    558\u001b[0m               \u001b[0minputs\u001b[0m\u001b[0;34m=\u001b[0m\u001b[0margs\u001b[0m\u001b[0;34m,\u001b[0m\u001b[0;34m\u001b[0m\u001b[0;34m\u001b[0m\u001b[0m\n\u001b[1;32m    559\u001b[0m               \u001b[0mattrs\u001b[0m\u001b[0;34m=\u001b[0m\u001b[0mattrs\u001b[0m\u001b[0;34m,\u001b[0m\u001b[0;34m\u001b[0m\u001b[0;34m\u001b[0m\u001b[0m\n\u001b[0;32m--> 560\u001b[0;31m               ctx=ctx)\n\u001b[0m\u001b[1;32m    561\u001b[0m         \u001b[0;32melse\u001b[0m\u001b[0;34m:\u001b[0m\u001b[0;34m\u001b[0m\u001b[0;34m\u001b[0m\u001b[0m\n\u001b[1;32m    562\u001b[0m           outputs = execute.execute_with_cancellation(\n",
            "\u001b[0;32m/usr/local/lib/python3.7/dist-packages/tensorflow/python/eager/execute.py\u001b[0m in \u001b[0;36mquick_execute\u001b[0;34m(op_name, num_outputs, inputs, attrs, ctx, name)\u001b[0m\n\u001b[1;32m     58\u001b[0m     \u001b[0mctx\u001b[0m\u001b[0;34m.\u001b[0m\u001b[0mensure_initialized\u001b[0m\u001b[0;34m(\u001b[0m\u001b[0;34m)\u001b[0m\u001b[0;34m\u001b[0m\u001b[0;34m\u001b[0m\u001b[0m\n\u001b[1;32m     59\u001b[0m     tensors = pywrap_tfe.TFE_Py_Execute(ctx._handle, device_name, op_name,\n\u001b[0;32m---> 60\u001b[0;31m                                         inputs, attrs, num_outputs)\n\u001b[0m\u001b[1;32m     61\u001b[0m   \u001b[0;32mexcept\u001b[0m \u001b[0mcore\u001b[0m\u001b[0;34m.\u001b[0m\u001b[0m_NotOkStatusException\u001b[0m \u001b[0;32mas\u001b[0m \u001b[0me\u001b[0m\u001b[0;34m:\u001b[0m\u001b[0;34m\u001b[0m\u001b[0;34m\u001b[0m\u001b[0m\n\u001b[1;32m     62\u001b[0m     \u001b[0;32mif\u001b[0m \u001b[0mname\u001b[0m \u001b[0;32mis\u001b[0m \u001b[0;32mnot\u001b[0m \u001b[0;32mNone\u001b[0m\u001b[0;34m:\u001b[0m\u001b[0;34m\u001b[0m\u001b[0;34m\u001b[0m\u001b[0m\n",
            "\u001b[0;31mKeyboardInterrupt\u001b[0m: "
          ]
        }
      ]
    },
    {
      "cell_type": "code",
      "metadata": {
        "colab": {
          "base_uri": "https://localhost:8080/",
          "height": 1000
        },
        "id": "rnKo0j5N6c-o",
        "outputId": "dd3af70f-2c75-4b20-8f24-59ffc66c3eb0"
      },
      "source": [
        "# print(model_history.history.keys())\n",
        "\n",
        "figure(figsize = (26,10))\n",
        "plt.plot(model_history.history['accuracy'])\n",
        "# plt.plot(model_history.history['val_accuracy'])\n",
        "plt.title('Model Accuracy', fontsize = 18)\n",
        "plt.ylabel('Accuracy', fontsize = 18)\n",
        "plt.xlabel('Epoch', fontsize = 18)\n",
        "plt.xticks(np.arange(0, 510, step = 10))\n",
        "plt.legend(['Train', 'Test'], loc = 'best', fontsize = 18)\n",
        "plt.grid(axis = 'x')\n",
        "plt.show()\n",
        "\n",
        "print()\n",
        "\n",
        "figure(figsize = (26,10))\n",
        "plt.plot(model_history.history['loss'])\n",
        "# plt.plot(model_history.history['val_loss'])\n",
        "plt.title('Model Loss', fontsize = 18)\n",
        "plt.ylabel('Loss', fontsize = 18)\n",
        "plt.ylabel('Epoch', fontsize = 18)\n",
        "plt.xticks(np.arange(0, 510, step = 10), )\n",
        "plt.legend(['Train', 'Test'], loc = 'best', fontsize = 18)\n",
        "plt.grid(axis = 'x')\n",
        "plt.show()"
      ],
      "execution_count": 230,
      "outputs": [
        {
          "output_type": "display_data",
          "data": {
            "image/png": "[encoded data removed]",
            "text/plain": [
              "<Figure size 1872x720 with 1 Axes>"
            ]
          },
          "metadata": {
            "tags": [],
            "needs_background": "light"
          }
        },
        {
          "output_type": "stream",
          "text": [
            "\n"
          ],
          "name": "stdout"
        },
        {
          "output_type": "display_data",
          "data": {
            "image/png": "[encoded data removed]",
            "text/plain": [
              "<Figure size 1872x720 with 1 Axes>"
            ]
          },
          "metadata": {
            "tags": [],
            "needs_background": "light"
          }
        }
      ]
    },
    {
      "cell_type": "code",
      "metadata": {
        "colab": {
          "base_uri": "https://localhost:8080/"
        },
        "id": "vFd8485B6c-p",
        "outputId": "f0cd0b3e-5b21-4e12-d17e-1ae3a37d39ac"
      },
      "source": [
        "loss, acc = cnn.evaluate(test, ytest, batch_size = 512, verbose = 0)\n",
        "print(f'Loss = {round(loss, 4)}\\tAccuracy = {round(acc, 4)*100}%')"
      ],
      "execution_count": 231,
      "outputs": [
        {
          "output_type": "stream",
          "text": [
            "Loss = 3.7487\tAccuracy = 57.96%\n"
          ],
          "name": "stdout"
        }
      ]
    },
    {
      "cell_type": "code",
      "metadata": {
        "colab": {
          "base_uri": "https://localhost:8080/"
        },
        "id": "1vYQq61n6c-p",
        "outputId": "27aaddc9-036a-407d-b392-8ec0c056e767"
      },
      "source": [
        "preds = cnn.predict(test)\n",
        "y_preds = np.argmax(preds, axis = 1)\n",
        "\n",
        "preds[:20]"
      ],
      "execution_count": 232,
      "outputs": [
        {
          "output_type": "execute_result",
          "data": {
            "text/plain": [
              "array([[0.01422, 0.97947],\n",
              "       [0.96329, 0.0211 ],\n",
              "       [0.31028, 0.96488],\n",
              "       [0.01606, 0.98417],\n",
              "       [0.22946, 0.77048],\n",
              "       [1.     , 0.     ],\n",
              "       [0.01978, 0.97729],\n",
              "       [0.91874, 0.05641],\n",
              "       [0.99947, 0.00013],\n",
              "       [0.22946, 0.77048],\n",
              "       [0.22946, 0.77048],\n",
              "       [1.     , 0.     ],\n",
              "       [0.     , 1.     ],\n",
              "       [1.     , 0.     ],\n",
              "       [0.     , 1.     ],\n",
              "       [0.00074, 0.99929],\n",
              "       [0.01935, 0.99363],\n",
              "       [0.00003, 0.99997],\n",
              "       [0.99995, 0.00005],\n",
              "       [0.22946, 0.77048]], dtype=float32)"
            ]
          },
          "metadata": {
            "tags": []
          },
          "execution_count": 232
        }
      ]
    },
    {
      "cell_type": "code",
      "metadata": {
        "id": "KNgHOMVP6c-p"
      },
      "source": [
        "def build_classifier():\n",
        "    \n",
        "    cnn = Sequential()\n",
        "\n",
        "    ## convolution 1\n",
        "    cnn.add(Convolution2D(16, (2,2), padding=\"same\", activation='relu', input_shape = (64,64,1)))\n",
        "    cnn.add(MaxPooling2D(pool_size = (2,2)))\n",
        "    # cnn.add(Dropout(0.5))\n",
        "\n",
        "    ## convolution 2\n",
        "    cnn.add(Convolution2D(32, (2,2), padding=\"same\", activation='relu'))\n",
        "    cnn.add(MaxPooling2D(pool_size = (2,2)))\n",
        "    # cnn.add(Dropout(0.5))\n",
        "\n",
        "    ## convolution 3\n",
        "    cnn.add(Convolution2D(64, (2,2), padding=\"same\", activation='relu'))\n",
        "    cnn.add(MaxPooling2D(pool_size = (2,2)))\n",
        "    # cnn.add(Dropout(0.5))\n",
        "\n",
        "    ## convolution 4\n",
        "    cnn.add(Convolution2D(128, (2,2), padding=\"same\", activation='relu'))\n",
        "    cnn.add(MaxPooling2D(pool_size = (2,2)))\n",
        "    # # cnn.add(Dropout(0.5))\n",
        "\n",
        "    # ## convolution 5\n",
        "    # cnn.add(Convolution2D(256, (2,2), padding=\"same\", activation='relu'))\n",
        "    # cnn.add(AveragePooling2D(pool_size = (2,2)))\n",
        "    # cnn.add(Dropout(0.5))\n",
        "\n",
        "    ## convolution 6\n",
        "    # cnn.add(Convolution2D(512, (2,2), padding=\"same\", activation='relu'))\n",
        "    # cnn.add(MaxPooling2D(pool_size = (1,1)))\n",
        "    # cnn.add(Dropout(0.5))\n",
        "\n",
        "    cnn.add(Flatten())\n",
        "\n",
        "    ## dense\n",
        "    cnn.add(Dense(128, activation='relu'))\n",
        "    # cnn.add(Dense(256, activation='relu'))\n",
        "    # cnn.add(Dropout(0.5))\n",
        "    cnn.add(Dense(2, activation = 'sigmoid'))\n",
        "\n",
        "    # callback = [EarlyStopping(monitor = 'accuracy', mode = 'max', patience = 2)]\n",
        "\n",
        "    cnn.compile(optimizer = keras.optimizers.Adamax(), loss = 'binary_crossentropy',\n",
        "                metrics = ['accuracy'])\n",
        "    \n",
        "    return cnn\n",
        "\n",
        "classifier = KerasClassifier(build_fn = build_classifier, batch_size = 512, epochs = 500)"
      ],
      "execution_count": 241,
      "outputs": []
    },
    {
      "cell_type": "code",
      "metadata": {
        "colab": {
          "base_uri": "https://localhost:8080/"
        },
        "id": "lvz7BRwK6c-p",
        "outputId": "252c4c25-d466-4066-f29b-f888889ca00d"
      },
      "source": [
        "scores = cross_val_score(estimator = classifier, X = test, y = ytest.values, cv = 5, n_jobs = -1)\n",
        "print(f'Model Cross Validation: \\n{round(scores.mean(), 3)*100}%')\n",
        "print(f'Model Cross Validation: \\n{scores}')\n",
        "\n",
        "os.system('say \"cross validation finished\" ')"
      ],
      "execution_count": 242,
      "outputs": [
        {
          "output_type": "stream",
          "text": [
            "Model Cross Validation: \n",
            "nan%\n",
            "Model Cross Validation: \n",
            "[    nan 0.70557     nan     nan     nan]\n"
          ],
          "name": "stdout"
        },
        {
          "output_type": "execute_result",
          "data": {
            "text/plain": [
              "32512"
            ]
          },
          "metadata": {
            "tags": []
          },
          "execution_count": 242
        }
      ]
    },
    {
      "cell_type": "code",
      "metadata": {
        "id": "sBVWiF4R1c8F"
      },
      "source": [
        ""
      ],
      "execution_count": null,
      "outputs": []
    }
  ]
}