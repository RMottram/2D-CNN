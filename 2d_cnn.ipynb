{
  "nbformat": 4,
  "nbformat_minor": 0,
  "metadata": {
    "orig_nbformat": 2,
    "kernelspec": {
      "name": "python3",
      "display_name": "Python 3"
    },
    "colab": {
      "name": "2d_cnn.ipynb",
      "provenance": []
    },
    "accelerator": "GPU",
    "language_info": {
      "name": "python"
    }
  },
  "cells": [
    {
      "cell_type": "code",
      "metadata": {
        "colab": {
          "base_uri": "https://localhost:8080/"
        },
        "id": "SeZZvLXXN0Lv",
        "outputId": "5fd21cb2-2660-43f0-cd8f-8cf09188ddb1"
      },
      "source": [
        "from google.colab import drive\n",
        "drive.mount('/content/drive')"
      ],
      "execution_count": 2,
      "outputs": [
        {
          "output_type": "stream",
          "text": [
            "Drive already mounted at /content/drive; to attempt to forcibly remount, call drive.mount(\"/content/drive\", force_remount=True).\n"
          ],
          "name": "stdout"
        }
      ]
    },
    {
      "cell_type": "code",
      "metadata": {
        "id": "eIzDWja0OBiw"
      },
      "source": [
        "!unzip /content/drive/MyDrive/Colab\\ Notebooks/64x64.zip > /dev/null\n",
        "!unzip /content/drive/MyDrive/Colab\\ Notebooks/32x32.zip > /dev/null"
      ],
      "execution_count": 3,
      "outputs": []
    },
    {
      "cell_type": "code",
      "metadata": {
        "id": "X6bRfwJ_6c-V"
      },
      "source": [
        "## libraries\n",
        "import numpy as np\n",
        "import pandas as pd\n",
        "import matplotlib.pyplot as plt\n",
        "from matplotlib.pyplot import figure\n",
        "import sys, os, time, csv, glob, cv2\n",
        "\n",
        "import tensorflow as tf\n",
        "from tensorflow import keras\n",
        "from tensorflow.keras.layers import Dense, Convolution1D, Convolution2D, MaxPooling2D, Flatten, AveragePooling2D, GlobalAveragePooling2D, GlobalMaxPool2D, MaxPooling1D, Dropout\n",
        "from tensorflow.keras.models import Sequential\n",
        "from tensorflow.keras.callbacks import EarlyStopping\n",
        "from keras.wrappers.scikit_learn import KerasClassifier\n",
        "\n",
        "import sklearn\n",
        "from sklearn.model_selection import cross_val_score\n",
        "from sklearn import metrics\n",
        "\n",
        "## Settings\n",
        "pd.set_option('display.max_columns', None)\n",
        "pd.options.display.float_format = '{:.5f}'.format\n",
        "np.set_printoptions(threshold=sys.maxsize)\n",
        "np.set_printoptions(precision = 5, suppress = True)"
      ],
      "execution_count": 3,
      "outputs": []
    },
    {
      "cell_type": "markdown",
      "metadata": {
        "id": "yRxC9OVB6c-c"
      },
      "source": [
        "# CNN 1.0 - Binary output (attack/normal)"
      ]
    },
    {
      "cell_type": "code",
      "metadata": {
        "id": "uGnuuQC66c-d"
      },
      "source": [
        "train_normal = []\n",
        "train_attack = []\n",
        "test_normal = []\n",
        "test_attack = []"
      ],
      "execution_count": 4,
      "outputs": []
    },
    {
      "cell_type": "code",
      "metadata": {
        "id": "sjn-epN96c-e"
      },
      "source": [
        "for i in glob.glob('/content/64x64/train_normal/train_normal_*.jpg', recursive=True):\n",
        "    train_normal.append(cv2.imread(i, cv2.IMREAD_GRAYSCALE))\n",
        "\n",
        "for i in glob.glob('/content/64x64/train_attack/train_attack_*.jpg', recursive=True):\n",
        "    train_attack.append(cv2.imread(i, cv2.IMREAD_GRAYSCALE))\n",
        "\n",
        "for i in glob.glob('/content/64x64/test_normal/test_normal_*.jpg', recursive=True):\n",
        "    test_normal.append(cv2.imread(i, cv2.IMREAD_GRAYSCALE))\n",
        "\n",
        "for i in glob.glob('/content/64x64/test_attack/test_attack_*.jpg', recursive=True):\n",
        "    test_attack.append(cv2.imread(i, cv2.IMREAD_GRAYSCALE))\n",
        "\n",
        "train_normal = np.stack(train_normal)\n",
        "train_attack = np.stack(train_attack)\n",
        "test_normal = np.stack(test_normal)\n",
        "test_attack = np.stack(test_attack)"
      ],
      "execution_count": 5,
      "outputs": []
    },
    {
      "cell_type": "code",
      "metadata": {
        "colab": {
          "base_uri": "https://localhost:8080/"
        },
        "id": "dMi-eflf6c-f",
        "outputId": "a9e55ae1-f5f7-474d-850f-66f694a73512"
      },
      "source": [
        "np.shape(train_normal), np.shape(train_attack), np.shape(test_normal), np.shape(test_attack),"
      ],
      "execution_count": 6,
      "outputs": [
        {
          "output_type": "execute_result",
          "data": {
            "text/plain": [
              "((1874, 64, 64), (1628, 64, 64), (271, 64, 64), (357, 64, 64))"
            ]
          },
          "metadata": {
            "tags": []
          },
          "execution_count": 6
        }
      ]
    },
    {
      "cell_type": "code",
      "metadata": {
        "id": "SAKSZOA76c-g"
      },
      "source": [
        "## augmenting the data to create more images\n",
        "## only run cell if needed\n",
        "\n",
        "## vertically flip training images\n",
        "vert_flip_train_attack = np.fliplr(train_attack)\n",
        "vert_flip_train_normal = np.fliplr(train_normal)\n",
        "\n",
        "## flip training images horizonatally\n",
        "hor_flip_train_attack = np.rot90(train_attack, axes = (1,2), k = 2)\n",
        "hor_flip_train_normal = np.rot90(train_normal, axes = (1,2), k = 2)\n",
        "\n",
        "## rotate training images left and right once each\n",
        "rotate90l_train_attack = np.rot90(train_attack, axes=(1, 2))\n",
        "rotate90r_train_attack = np.rot90(train_normal, -1, axes=(1, 2))\n",
        "rotate90l_train_normal = np.rot90(train_attack, axes=(1, 2))\n",
        "rotate90r_train_normal = np.rot90(train_normal, -1, axes=(1, 2))\n",
        "\n",
        "\n",
        "\n",
        "## vertically flip testing images\n",
        "vert_flip_test_attack = np.fliplr(test_attack)\n",
        "vert_flip_test_normal = np.fliplr(test_normal)\n",
        "\n",
        "## flip testing images horizonatally\n",
        "hor_flip_test_attack = np.rot90(test_attack, axes = (1,2), k = 2)\n",
        "hor_flip_test_normal = np.rot90(test_normal, axes = (1,2), k = 2)\n",
        "\n",
        "## rotate testing images left and right once each\n",
        "rotate90l_test_attack = np.rot90(test_attack, axes=(1, 2))\n",
        "rotate90r_test_attack = np.rot90(test_normal, -1, axes=(1, 2))\n",
        "rotate90l_test_normal = np.rot90(test_attack, axes=(1, 2))\n",
        "rotate90r_test_normal = np.rot90(test_normal, -1, axes=(1, 2))\n",
        "\n",
        "\n",
        "train = np.vstack((train_normal, train_attack, vert_flip_train_attack, vert_flip_train_normal, hor_flip_train_attack, hor_flip_train_normal,rotate90l_train_attack, rotate90r_train_attack, rotate90r_train_normal, rotate90l_train_normal))\n",
        "\n",
        "test = np.vstack((test_normal, test_attack, vert_flip_test_attack, vert_flip_test_normal, hor_flip_test_attack, hor_flip_test_normal,rotate90l_test_attack, rotate90r_test_attack, rotate90l_test_normal, rotate90r_test_normal))"
      ],
      "execution_count": 7,
      "outputs": []
    },
    {
      "cell_type": "code",
      "metadata": {
        "id": "R4OLWyQw6c-i"
      },
      "source": [
        "## if no augmented data is needed, run this cell\n",
        "train = np.vstack((train_normal, train_attack))\n",
        "test = np.vstack((test_normal, test_attack))"
      ],
      "execution_count": null,
      "outputs": []
    },
    {
      "cell_type": "code",
      "metadata": {
        "colab": {
          "base_uri": "https://localhost:8080/"
        },
        "id": "cDjWT4RT6c-i",
        "outputId": "61850688-d0fa-4117-8ffa-78bdb127f265"
      },
      "source": [
        "train.shape, test.shape"
      ],
      "execution_count": 41,
      "outputs": [
        {
          "output_type": "execute_result",
          "data": {
            "text/plain": [
              "((17510, 64, 64), (3140, 64, 64))"
            ]
          },
          "metadata": {
            "tags": []
          },
          "execution_count": 41
        }
      ]
    },
    {
      "cell_type": "code",
      "metadata": {
        "id": "1Bcx3IdD6c-j"
      },
      "source": [
        "train = train.reshape(-1,64,64,1)\n",
        "test = test.reshape(-1,64,64,1)"
      ],
      "execution_count": 8,
      "outputs": []
    },
    {
      "cell_type": "code",
      "metadata": {
        "colab": {
          "base_uri": "https://localhost:8080/"
        },
        "id": "LwWX9YME6c-j",
        "outputId": "f9d89514-ca3f-490d-d341-f1c3c4e89506"
      },
      "source": [
        "train.shape, test.shape"
      ],
      "execution_count": 9,
      "outputs": [
        {
          "output_type": "execute_result",
          "data": {
            "text/plain": [
              "((17510, 64, 64, 1), (3140, 64, 64, 1))"
            ]
          },
          "metadata": {
            "tags": []
          },
          "execution_count": 9
        }
      ]
    },
    {
      "cell_type": "code",
      "metadata": {
        "colab": {
          "base_uri": "https://localhost:8080/",
          "height": 1000
        },
        "id": "pyxOplUl6c-j",
        "outputId": "e2ac5038-d0f4-41c5-8272-31e975d23c29"
      },
      "source": [
        "for i in range(0, 5):\n",
        "    plt.imshow(tf.squeeze(train[i]), cmap = 'gray')\n",
        "    plt.show()"
      ],
      "execution_count": 10,
      "outputs": [
        {
          "output_type": "display_data",
          "data": {
            "image/png": "[encoded data removed]",
            "text/plain": [
              "<Figure size 432x288 with 1 Axes>"
            ]
          },
          "metadata": {
            "tags": [],
            "needs_background": "light"
          }
        },
        {
          "output_type": "display_data",
          "data": {
            "image/png": "[encoded data removed]",
            "text/plain": [
              "<Figure size 432x288 with 1 Axes>"
            ]
          },
          "metadata": {
            "tags": [],
            "needs_background": "light"
          }
        },
        {
          "output_type": "display_data",
          "data": {
            "image/png": "[encoded data removed]",
            "text/plain": [
              "<Figure size 432x288 with 1 Axes>"
            ]
          },
          "metadata": {
            "tags": [],
            "needs_background": "light"
          }
        },
        {
          "output_type": "display_data",
          "data": {
            "image/png": "[encoded data removed]",
            "text/plain": [
              "<Figure size 432x288 with 1 Axes>"
            ]
          },
          "metadata": {
            "tags": [],
            "needs_background": "light"
          }
        },
        {
          "output_type": "display_data",
          "data": {
            "image/png": "[encoded data removed]",
            "text/plain": [
              "<Figure size 432x288 with 1 Axes>"
            ]
          },
          "metadata": {
            "tags": [],
            "needs_background": "light"
          }
        }
      ]
    },
    {
      "cell_type": "code",
      "metadata": {
        "id": "JDe4E_aK6c-m"
      },
      "source": [
        "## create the training and testing data labels\n",
        "## run if not using augmented data\n",
        "\n",
        "training_labels = []\n",
        "## add the attack labels\n",
        "for i in range(0, train_attack.shape[0]):\n",
        "    training_labels.append('attack')\n",
        "\n",
        "## add the normal labels\n",
        "for j in range(train_attack.shape[0], train.shape[0]):\n",
        "    training_labels.append('normal')\n",
        "\n",
        "\n",
        "\n",
        "testing_labels = []\n",
        "## add the attack labels\n",
        "for k in range(0, test_attack.shape[0]):\n",
        "    testing_labels.append('attack')\n",
        "\n",
        "## add the normal labels\n",
        "for l in range(test_attack.shape[0], test.shape[0]):\n",
        "    testing_labels.append('normal')"
      ],
      "execution_count": null,
      "outputs": []
    },
    {
      "cell_type": "code",
      "metadata": {
        "id": "KEZ7jTGy6c-m"
      },
      "source": [
        "## create the training and testing data labels\n",
        "## run this cell if using augmented data\n",
        "\n",
        "training_labels = []\n",
        "## add the attack labels\n",
        "for i in range(0, train_attack.shape[0] + vert_flip_train_attack.shape[0] + hor_flip_train_attack.shape[0] + rotate90l_train_attack.shape[0] + rotate90r_train_attack.shape[0]):\n",
        "    training_labels.append('attack')\n",
        "\n",
        "## add the normal labels\n",
        "for j in range(train_attack.shape[0] + vert_flip_train_attack.shape[0] + hor_flip_train_attack.shape[0] + rotate90l_train_attack.shape[0] + rotate90r_train_attack.shape[0], train.shape[0]):\n",
        "    training_labels.append('normal')\n",
        "\n",
        "\n",
        "\n",
        "testing_labels = []\n",
        "## add the attack labels\n",
        "for k in range(0, test_attack.shape[0] + vert_flip_test_attack.shape[0] + hor_flip_test_attack.shape[0] + rotate90l_test_attack.shape[0] + rotate90r_test_attack.shape[0]):\n",
        "    testing_labels.append('attack')\n",
        "\n",
        "## add the normal labels\n",
        "for l in range(test_attack.shape[0] + vert_flip_test_attack.shape[0] + hor_flip_test_attack.shape[0] + rotate90l_test_attack.shape[0] + rotate90r_test_attack.shape[0], test.shape[0]):\n",
        "    testing_labels.append('normal')"
      ],
      "execution_count": 11,
      "outputs": []
    },
    {
      "cell_type": "code",
      "metadata": {
        "colab": {
          "base_uri": "https://localhost:8080/"
        },
        "id": "XlYiHSgg6c-m",
        "outputId": "70530c3a-f894-43ae-8f9c-e5266e8d271b"
      },
      "source": [
        "## create the dataframe for labels, then OHE the column\n",
        "ytrain = pd.DataFrame(training_labels, columns = ['category'])\n",
        "ytest = pd.DataFrame(testing_labels, columns = ['category'])\n",
        "\n",
        "ytrain = pd.get_dummies(ytrain['category'])\n",
        "ytest = pd.get_dummies(ytest['category'])\n",
        "\n",
        "ytrain, ytest"
      ],
      "execution_count": 12,
      "outputs": [
        {
          "output_type": "execute_result",
          "data": {
            "text/plain": [
              "(       attack  normal\n",
              " 0           1       0\n",
              " 1           1       0\n",
              " 2           1       0\n",
              " 3           1       0\n",
              " 4           1       0\n",
              " ...       ...     ...\n",
              " 17505       0       1\n",
              " 17506       0       1\n",
              " 17507       0       1\n",
              " 17508       0       1\n",
              " 17509       0       1\n",
              " \n",
              " [17510 rows x 2 columns],       attack  normal\n",
              " 0          1       0\n",
              " 1          1       0\n",
              " 2          1       0\n",
              " 3          1       0\n",
              " 4          1       0\n",
              " ...      ...     ...\n",
              " 3135       0       1\n",
              " 3136       0       1\n",
              " 3137       0       1\n",
              " 3138       0       1\n",
              " 3139       0       1\n",
              " \n",
              " [3140 rows x 2 columns])"
            ]
          },
          "metadata": {
            "tags": []
          },
          "execution_count": 12
        }
      ]
    },
    {
      "cell_type": "code",
      "metadata": {
        "id": "6WiwQuKq6c-m"
      },
      "source": [
        "## shuffle the data to prevent pattern recognition\n",
        "train = sklearn.utils.shuffle(train, random_state = 7)\n",
        "ytrain = sklearn.utils.shuffle(ytrain, random_state = 7)\n",
        "\n",
        "test = sklearn.utils.shuffle(test, random_state = 7)\n",
        "ytest = sklearn.utils.shuffle(ytest, random_state = 7)"
      ],
      "execution_count": 13,
      "outputs": []
    },
    {
      "cell_type": "code",
      "metadata": {
        "colab": {
          "base_uri": "https://localhost:8080/"
        },
        "id": "Yd9A1cXf6c-n",
        "outputId": "b9a79398-ca98-4234-f9d2-c9dafbf52b45"
      },
      "source": [
        "cnn = Sequential()\n",
        "\n",
        "## convolution 1\n",
        "cnn.add(Convolution2D(16, (3,3), padding=\"same\", activation='relu', input_shape = (64,64,1)))\n",
        "cnn.add(AveragePooling2D(pool_size = (2,2)))\n",
        "# cnn.add(Dropout(0.5))\n",
        "\n",
        "## convolution 2\n",
        "cnn.add(Convolution2D(32, (3,3), padding=\"same\", activation='relu'))\n",
        "cnn.add(AveragePooling2D(pool_size = (2,2)))\n",
        "# cnn.add(Dropout(0.5))\n",
        "\n",
        "## convolution 3\n",
        "cnn.add(Convolution2D(64, (3,3), padding=\"same\", activation='relu'))\n",
        "cnn.add(AveragePooling2D(pool_size = (2,2)))\n",
        "# cnn.add(Dropout(0.5))\n",
        "\n",
        "## convolution 4\n",
        "cnn.add(Convolution2D(128, (3,3), padding=\"same\", activation='relu'))\n",
        "cnn.add(AveragePooling2D(pool_size = (2,2)))\n",
        "# cnn.add(Dropout(0.5))\n",
        "\n",
        "## convolution 5\n",
        "# cnn.add(Convolution2D(256, (2,2), padding=\"same\", activation='relu'))\n",
        "# cnn.add(MaxPooling2D(pool_size = (2,2)))\n",
        "# cnn.add(Dropout(0.8))\n",
        "\n",
        "## convolution 6\n",
        "# cnn.add(Convolution2D(256, (2,2), padding=\"same\", activation='relu'))\n",
        "# cnn.add(MaxPooling2D(pool_size = (1,1)))\n",
        "# cnn.add(Dropout(0.5))\n",
        "\n",
        "cnn.add(Flatten())\n",
        "\n",
        "## dense\n",
        "cnn.add(Dense(128, activation='relu'))\n",
        "# cnn.add(Dense(256, activation='relu'))\n",
        "# cnn.add(Dropout(0.5))\n",
        "cnn.add(Dense(2, activation = 'sigmoid'))\n",
        "\n",
        "# callback = [EarlyStopping(monitor = 'accuracy', mode = 'max', patience = 2)]\n",
        "\n",
        "cnn.compile(optimizer = keras.optimizers.Adam(), loss = 'binary_crossentropy',\n",
        "            metrics = ['accuracy'])\n",
        "\n",
        "\n",
        "cnn.summary()"
      ],
      "execution_count": 14,
      "outputs": [
        {
          "output_type": "stream",
          "text": [
            "Model: \"sequential\"\n",
            "_________________________________________________________________\n",
            "Layer (type)                 Output Shape              Param #   \n",
            "=================================================================\n",
            "conv2d (Conv2D)              (None, 64, 64, 16)        160       \n",
            "_________________________________________________________________\n",
            "average_pooling2d (AveragePo (None, 32, 32, 16)        0         \n",
            "_________________________________________________________________\n",
            "conv2d_1 (Conv2D)            (None, 32, 32, 32)        4640      \n",
            "_________________________________________________________________\n",
            "average_pooling2d_1 (Average (None, 16, 16, 32)        0         \n",
            "_________________________________________________________________\n",
            "conv2d_2 (Conv2D)            (None, 16, 16, 64)        18496     \n",
            "_________________________________________________________________\n",
            "average_pooling2d_2 (Average (None, 8, 8, 64)          0         \n",
            "_________________________________________________________________\n",
            "conv2d_3 (Conv2D)            (None, 8, 8, 128)         73856     \n",
            "_________________________________________________________________\n",
            "average_pooling2d_3 (Average (None, 4, 4, 128)         0         \n",
            "_________________________________________________________________\n",
            "flatten (Flatten)            (None, 2048)              0         \n",
            "_________________________________________________________________\n",
            "dense (Dense)                (None, 128)               262272    \n",
            "_________________________________________________________________\n",
            "dense_1 (Dense)              (None, 2)                 258       \n",
            "=================================================================\n",
            "Total params: 359,682\n",
            "Trainable params: 359,682\n",
            "Non-trainable params: 0\n",
            "_________________________________________________________________\n"
          ],
          "name": "stdout"
        }
      ]
    },
    {
      "cell_type": "code",
      "metadata": {
        "colab": {
          "base_uri": "https://localhost:8080/"
        },
        "id": "u__u_Y9j6c-o",
        "outputId": "cd39bb01-873e-48fe-c14a-894995b29502"
      },
      "source": [
        "start = time.time()\n",
        "model_history = cnn.fit(train, ytrain, batch_size = 512, epochs = 200)\n",
        "end = time.time()\n",
        "\n",
        "os.system(f'say \"training finished in {round(end - start, 2)} seconds\"')\n",
        "print(f'Training finished in {round(end - start, 2)}')"
      ],
      "execution_count": 15,
      "outputs": [
        {
          "output_type": "stream",
          "text": [
            "Epoch 1/200\n",
            "35/35 [==============================] - 5s 37ms/step - loss: 1.1242 - accuracy: 0.5199\n",
            "Epoch 2/200\n",
            "35/35 [==============================] - 1s 31ms/step - loss: 0.6894 - accuracy: 0.5426\n",
            "Epoch 3/200\n",
            "35/35 [==============================] - 1s 31ms/step - loss: 0.6845 - accuracy: 0.5486\n",
            "Epoch 4/200\n",
            "35/35 [==============================] - 1s 31ms/step - loss: 0.6861 - accuracy: 0.5586\n",
            "Epoch 5/200\n",
            "35/35 [==============================] - 1s 31ms/step - loss: 0.6763 - accuracy: 0.5679\n",
            "Epoch 6/200\n",
            "35/35 [==============================] - 1s 31ms/step - loss: 0.7380 - accuracy: 0.5544\n",
            "Epoch 7/200\n",
            "35/35 [==============================] - 1s 31ms/step - loss: 0.6819 - accuracy: 0.5573\n",
            "Epoch 8/200\n",
            "35/35 [==============================] - 1s 31ms/step - loss: 0.6727 - accuracy: 0.5854\n",
            "Epoch 9/200\n",
            "35/35 [==============================] - 1s 31ms/step - loss: 0.7248 - accuracy: 0.5372\n",
            "Epoch 10/200\n",
            "35/35 [==============================] - 1s 31ms/step - loss: 0.6862 - accuracy: 0.5440\n",
            "Epoch 11/200\n",
            "35/35 [==============================] - 1s 31ms/step - loss: 0.6850 - accuracy: 0.5425\n",
            "Epoch 12/200\n",
            "35/35 [==============================] - 1s 31ms/step - loss: 0.6818 - accuracy: 0.5555\n",
            "Epoch 13/200\n",
            "35/35 [==============================] - 1s 31ms/step - loss: 0.6678 - accuracy: 0.5783\n",
            "Epoch 14/200\n",
            "35/35 [==============================] - 1s 31ms/step - loss: 0.6274 - accuracy: 0.6342\n",
            "Epoch 15/200\n",
            "35/35 [==============================] - 1s 31ms/step - loss: 0.6216 - accuracy: 0.6384\n",
            "Epoch 16/200\n",
            "35/35 [==============================] - 1s 31ms/step - loss: 0.6403 - accuracy: 0.6320\n",
            "Epoch 17/200\n",
            "35/35 [==============================] - 1s 31ms/step - loss: 0.5724 - accuracy: 0.6792\n",
            "Epoch 18/200\n",
            "35/35 [==============================] - 1s 31ms/step - loss: 0.6051 - accuracy: 0.6400\n",
            "Epoch 19/200\n",
            "35/35 [==============================] - 1s 31ms/step - loss: 0.5109 - accuracy: 0.7198\n",
            "Epoch 20/200\n",
            "35/35 [==============================] - 1s 31ms/step - loss: 0.4962 - accuracy: 0.7292\n",
            "Epoch 21/200\n",
            "35/35 [==============================] - 1s 31ms/step - loss: 0.4894 - accuracy: 0.7269\n",
            "Epoch 22/200\n",
            "35/35 [==============================] - 1s 31ms/step - loss: 0.4952 - accuracy: 0.7238\n",
            "Epoch 23/200\n",
            "35/35 [==============================] - 1s 31ms/step - loss: 0.5050 - accuracy: 0.7205\n",
            "Epoch 24/200\n",
            "35/35 [==============================] - 1s 31ms/step - loss: 0.4946 - accuracy: 0.7287\n",
            "Epoch 25/200\n",
            "35/35 [==============================] - 1s 31ms/step - loss: 0.5130 - accuracy: 0.7152\n",
            "Epoch 26/200\n",
            "35/35 [==============================] - 1s 32ms/step - loss: 0.4584 - accuracy: 0.7487\n",
            "Epoch 27/200\n",
            "35/35 [==============================] - 1s 31ms/step - loss: 0.4699 - accuracy: 0.7433\n",
            "Epoch 28/200\n",
            "35/35 [==============================] - 1s 31ms/step - loss: 0.4605 - accuracy: 0.7478\n",
            "Epoch 29/200\n",
            "35/35 [==============================] - 1s 31ms/step - loss: 0.4340 - accuracy: 0.7668\n",
            "Epoch 30/200\n",
            "35/35 [==============================] - 1s 31ms/step - loss: 0.4505 - accuracy: 0.7558\n",
            "Epoch 31/200\n",
            "35/35 [==============================] - 1s 31ms/step - loss: 0.4319 - accuracy: 0.7618\n",
            "Epoch 32/200\n",
            "35/35 [==============================] - 1s 32ms/step - loss: 0.4325 - accuracy: 0.7599\n",
            "Epoch 33/200\n",
            "35/35 [==============================] - 1s 31ms/step - loss: 0.4123 - accuracy: 0.7695\n",
            "Epoch 34/200\n",
            "35/35 [==============================] - 1s 32ms/step - loss: 0.4028 - accuracy: 0.7729\n",
            "Epoch 35/200\n",
            "35/35 [==============================] - 1s 31ms/step - loss: 0.3963 - accuracy: 0.7762\n",
            "Epoch 36/200\n",
            "35/35 [==============================] - 1s 31ms/step - loss: 0.4107 - accuracy: 0.7714\n",
            "Epoch 37/200\n",
            "35/35 [==============================] - 1s 31ms/step - loss: 0.3796 - accuracy: 0.7862\n",
            "Epoch 38/200\n",
            "35/35 [==============================] - 1s 31ms/step - loss: 0.3746 - accuracy: 0.7905\n",
            "Epoch 39/200\n",
            "35/35 [==============================] - 1s 31ms/step - loss: 0.3599 - accuracy: 0.8035\n",
            "Epoch 40/200\n",
            "35/35 [==============================] - 1s 32ms/step - loss: 0.3563 - accuracy: 0.7945\n",
            "Epoch 41/200\n",
            "35/35 [==============================] - 1s 31ms/step - loss: 0.8438 - accuracy: 0.6241\n",
            "Epoch 42/200\n",
            "35/35 [==============================] - 1s 31ms/step - loss: 0.5583 - accuracy: 0.7074\n",
            "Epoch 43/200\n",
            "35/35 [==============================] - 1s 31ms/step - loss: 0.4909 - accuracy: 0.7375\n",
            "Epoch 44/200\n",
            "35/35 [==============================] - 1s 31ms/step - loss: 0.4756 - accuracy: 0.7434\n",
            "Epoch 45/200\n",
            "35/35 [==============================] - 1s 32ms/step - loss: 0.4678 - accuracy: 0.7459\n",
            "Epoch 46/200\n",
            "35/35 [==============================] - 1s 31ms/step - loss: 0.4326 - accuracy: 0.7594\n",
            "Epoch 47/200\n",
            "35/35 [==============================] - 1s 32ms/step - loss: 0.4220 - accuracy: 0.7678\n",
            "Epoch 48/200\n",
            "35/35 [==============================] - 1s 31ms/step - loss: 0.4304 - accuracy: 0.7590\n",
            "Epoch 49/200\n",
            "35/35 [==============================] - 1s 31ms/step - loss: 0.4054 - accuracy: 0.7723\n",
            "Epoch 50/200\n",
            "35/35 [==============================] - 1s 31ms/step - loss: 0.3900 - accuracy: 0.7821\n",
            "Epoch 51/200\n",
            "35/35 [==============================] - 1s 31ms/step - loss: 0.3873 - accuracy: 0.7827\n",
            "Epoch 52/200\n",
            "35/35 [==============================] - 1s 31ms/step - loss: 0.3705 - accuracy: 0.7911\n",
            "Epoch 53/200\n",
            "35/35 [==============================] - 1s 31ms/step - loss: 0.3541 - accuracy: 0.8014\n",
            "Epoch 54/200\n",
            "35/35 [==============================] - 1s 31ms/step - loss: 0.3493 - accuracy: 0.8047\n",
            "Epoch 55/200\n",
            "35/35 [==============================] - 1s 31ms/step - loss: 0.3394 - accuracy: 0.8109\n",
            "Epoch 56/200\n",
            "35/35 [==============================] - 1s 31ms/step - loss: 0.3262 - accuracy: 0.8162\n",
            "Epoch 57/200\n",
            "35/35 [==============================] - 1s 31ms/step - loss: 0.3231 - accuracy: 0.8158\n",
            "Epoch 58/200\n",
            "35/35 [==============================] - 1s 31ms/step - loss: 0.3427 - accuracy: 0.8046\n",
            "Epoch 59/200\n",
            "35/35 [==============================] - 1s 31ms/step - loss: 0.3186 - accuracy: 0.8147\n",
            "Epoch 60/200\n",
            "35/35 [==============================] - 1s 31ms/step - loss: 0.3023 - accuracy: 0.8250\n",
            "Epoch 61/200\n",
            "35/35 [==============================] - 1s 31ms/step - loss: 0.3136 - accuracy: 0.8185\n",
            "Epoch 62/200\n",
            "35/35 [==============================] - 1s 31ms/step - loss: 0.2928 - accuracy: 0.8273\n",
            "Epoch 63/200\n",
            "35/35 [==============================] - 1s 31ms/step - loss: 0.2944 - accuracy: 0.8279\n",
            "Epoch 64/200\n",
            "35/35 [==============================] - 1s 32ms/step - loss: 0.2788 - accuracy: 0.8383\n",
            "Epoch 65/200\n",
            "35/35 [==============================] - 1s 31ms/step - loss: 0.2781 - accuracy: 0.8411\n",
            "Epoch 66/200\n",
            "35/35 [==============================] - 1s 33ms/step - loss: 0.2698 - accuracy: 0.8444\n",
            "Epoch 67/200\n",
            "35/35 [==============================] - 1s 32ms/step - loss: 0.2612 - accuracy: 0.8483\n",
            "Epoch 68/200\n",
            "35/35 [==============================] - 1s 32ms/step - loss: 0.2697 - accuracy: 0.8412\n",
            "Epoch 69/200\n",
            "35/35 [==============================] - 1s 31ms/step - loss: 0.2569 - accuracy: 0.8541\n",
            "Epoch 70/200\n",
            "35/35 [==============================] - 1s 32ms/step - loss: 0.2556 - accuracy: 0.8526\n",
            "Epoch 71/200\n",
            "35/35 [==============================] - 1s 32ms/step - loss: 0.2530 - accuracy: 0.8487\n",
            "Epoch 72/200\n",
            "35/35 [==============================] - 1s 31ms/step - loss: 0.2400 - accuracy: 0.8608\n",
            "Epoch 73/200\n",
            "35/35 [==============================] - 1s 32ms/step - loss: 0.2405 - accuracy: 0.8552\n",
            "Epoch 74/200\n",
            "35/35 [==============================] - 1s 32ms/step - loss: 0.2369 - accuracy: 0.8561\n",
            "Epoch 75/200\n",
            "35/35 [==============================] - 1s 32ms/step - loss: 0.2361 - accuracy: 0.8573\n",
            "Epoch 76/200\n",
            "35/35 [==============================] - 1s 32ms/step - loss: 0.2335 - accuracy: 0.8606\n",
            "Epoch 77/200\n",
            "35/35 [==============================] - 1s 31ms/step - loss: 0.2293 - accuracy: 0.8603\n",
            "Epoch 78/200\n",
            "35/35 [==============================] - 1s 32ms/step - loss: 0.2241 - accuracy: 0.8645\n",
            "Epoch 79/200\n",
            "35/35 [==============================] - 1s 32ms/step - loss: 0.2256 - accuracy: 0.8641\n",
            "Epoch 80/200\n",
            "35/35 [==============================] - 1s 32ms/step - loss: 0.4864 - accuracy: 0.7836\n",
            "Epoch 81/200\n",
            "35/35 [==============================] - 1s 32ms/step - loss: 0.4866 - accuracy: 0.7396\n",
            "Epoch 82/200\n",
            "35/35 [==============================] - 1s 32ms/step - loss: 0.4362 - accuracy: 0.7681\n",
            "Epoch 83/200\n",
            "35/35 [==============================] - 1s 32ms/step - loss: 0.3885 - accuracy: 0.7898\n",
            "Epoch 84/200\n",
            "35/35 [==============================] - 1s 32ms/step - loss: 0.3426 - accuracy: 0.8145\n",
            "Epoch 85/200\n",
            "35/35 [==============================] - 1s 32ms/step - loss: 0.3036 - accuracy: 0.8293\n",
            "Epoch 86/200\n",
            "35/35 [==============================] - 1s 32ms/step - loss: 0.2726 - accuracy: 0.8454\n",
            "Epoch 87/200\n",
            "35/35 [==============================] - 1s 32ms/step - loss: 0.2556 - accuracy: 0.8546\n",
            "Epoch 88/200\n",
            "35/35 [==============================] - 1s 32ms/step - loss: 0.2366 - accuracy: 0.8626\n",
            "Epoch 89/200\n",
            "35/35 [==============================] - 1s 32ms/step - loss: 0.2298 - accuracy: 0.8625\n",
            "Epoch 90/200\n",
            "35/35 [==============================] - 1s 32ms/step - loss: 0.2283 - accuracy: 0.8633\n",
            "Epoch 91/200\n",
            "35/35 [==============================] - 1s 32ms/step - loss: 0.2204 - accuracy: 0.8653\n",
            "Epoch 92/200\n",
            "35/35 [==============================] - 1s 33ms/step - loss: 0.2216 - accuracy: 0.8633\n",
            "Epoch 93/200\n",
            "35/35 [==============================] - 1s 33ms/step - loss: 0.2134 - accuracy: 0.8686\n",
            "Epoch 94/200\n",
            "35/35 [==============================] - 1s 32ms/step - loss: 0.2177 - accuracy: 0.8637\n",
            "Epoch 95/200\n",
            "35/35 [==============================] - 1s 32ms/step - loss: 0.2116 - accuracy: 0.8687\n",
            "Epoch 96/200\n",
            "35/35 [==============================] - 1s 32ms/step - loss: 0.2168 - accuracy: 0.8638\n",
            "Epoch 97/200\n",
            "35/35 [==============================] - 1s 32ms/step - loss: 0.2139 - accuracy: 0.8681\n",
            "Epoch 98/200\n",
            "35/35 [==============================] - 1s 32ms/step - loss: 0.2145 - accuracy: 0.8672\n",
            "Epoch 99/200\n",
            "35/35 [==============================] - 1s 32ms/step - loss: 0.2147 - accuracy: 0.8630\n",
            "Epoch 100/200\n",
            "35/35 [==============================] - 1s 32ms/step - loss: 0.2144 - accuracy: 0.8661\n",
            "Epoch 101/200\n",
            "35/35 [==============================] - 1s 33ms/step - loss: 0.2070 - accuracy: 0.8706\n",
            "Epoch 102/200\n",
            "35/35 [==============================] - 1s 32ms/step - loss: 0.2123 - accuracy: 0.8675\n",
            "Epoch 103/200\n",
            "35/35 [==============================] - 1s 33ms/step - loss: 0.2140 - accuracy: 0.8660\n",
            "Epoch 104/200\n",
            "35/35 [==============================] - 1s 32ms/step - loss: 0.2095 - accuracy: 0.8676\n",
            "Epoch 105/200\n",
            "35/35 [==============================] - 1s 32ms/step - loss: 0.2099 - accuracy: 0.8678\n",
            "Epoch 106/200\n",
            "35/35 [==============================] - 1s 32ms/step - loss: 0.2114 - accuracy: 0.8659\n",
            "Epoch 107/200\n",
            "35/35 [==============================] - 1s 32ms/step - loss: 0.2052 - accuracy: 0.8724\n",
            "Epoch 108/200\n",
            "35/35 [==============================] - 1s 32ms/step - loss: 0.2125 - accuracy: 0.8654\n",
            "Epoch 109/200\n",
            "35/35 [==============================] - 1s 32ms/step - loss: 0.2071 - accuracy: 0.8706\n",
            "Epoch 110/200\n",
            "35/35 [==============================] - 1s 32ms/step - loss: 0.2044 - accuracy: 0.8718\n",
            "Epoch 111/200\n",
            "35/35 [==============================] - 1s 32ms/step - loss: 0.2071 - accuracy: 0.8666\n",
            "Epoch 112/200\n",
            "35/35 [==============================] - 1s 32ms/step - loss: 0.2068 - accuracy: 0.8702\n",
            "Epoch 113/200\n",
            "35/35 [==============================] - 1s 32ms/step - loss: 0.2107 - accuracy: 0.8665\n",
            "Epoch 114/200\n",
            "35/35 [==============================] - 1s 32ms/step - loss: 0.2112 - accuracy: 0.8650\n",
            "Epoch 115/200\n",
            "35/35 [==============================] - 1s 32ms/step - loss: 0.2088 - accuracy: 0.8659\n",
            "Epoch 116/200\n",
            "35/35 [==============================] - 1s 32ms/step - loss: 0.2081 - accuracy: 0.8700\n",
            "Epoch 117/200\n",
            "35/35 [==============================] - 1s 32ms/step - loss: 0.2056 - accuracy: 0.8685\n",
            "Epoch 118/200\n",
            "35/35 [==============================] - 1s 32ms/step - loss: 0.2088 - accuracy: 0.8697\n",
            "Epoch 119/200\n",
            "35/35 [==============================] - 1s 32ms/step - loss: 0.2075 - accuracy: 0.8713\n",
            "Epoch 120/200\n",
            "35/35 [==============================] - 1s 32ms/step - loss: 0.2082 - accuracy: 0.8685\n",
            "Epoch 121/200\n",
            "35/35 [==============================] - 1s 32ms/step - loss: 0.2105 - accuracy: 0.8668\n",
            "Epoch 122/200\n",
            "35/35 [==============================] - 1s 32ms/step - loss: 0.2083 - accuracy: 0.8663\n",
            "Epoch 123/200\n",
            "35/35 [==============================] - 1s 32ms/step - loss: 0.2092 - accuracy: 0.8683\n",
            "Epoch 124/200\n",
            "35/35 [==============================] - 1s 32ms/step - loss: 0.2088 - accuracy: 0.8679\n",
            "Epoch 125/200\n",
            "35/35 [==============================] - 1s 32ms/step - loss: 0.2091 - accuracy: 0.8676\n",
            "Epoch 126/200\n",
            "35/35 [==============================] - 1s 32ms/step - loss: 0.2052 - accuracy: 0.8677\n",
            "Epoch 127/200\n",
            "35/35 [==============================] - 1s 32ms/step - loss: 0.2106 - accuracy: 0.8665\n",
            "Epoch 128/200\n",
            "35/35 [==============================] - 1s 32ms/step - loss: 0.2105 - accuracy: 0.8649\n",
            "Epoch 129/200\n",
            "35/35 [==============================] - 1s 32ms/step - loss: 0.7152 - accuracy: 0.7395\n",
            "Epoch 130/200\n",
            "35/35 [==============================] - 1s 32ms/step - loss: 0.4195 - accuracy: 0.7721\n",
            "Epoch 131/200\n",
            "35/35 [==============================] - 1s 32ms/step - loss: 0.3520 - accuracy: 0.8050\n",
            "Epoch 132/200\n",
            "35/35 [==============================] - 1s 32ms/step - loss: 0.3043 - accuracy: 0.8283\n",
            "Epoch 133/200\n",
            "35/35 [==============================] - 1s 32ms/step - loss: 0.2626 - accuracy: 0.8512\n",
            "Epoch 134/200\n",
            "35/35 [==============================] - 1s 32ms/step - loss: 0.2446 - accuracy: 0.8544\n",
            "Epoch 135/200\n",
            "35/35 [==============================] - 1s 32ms/step - loss: 0.2319 - accuracy: 0.8576\n",
            "Epoch 136/200\n",
            "35/35 [==============================] - 1s 32ms/step - loss: 0.2253 - accuracy: 0.8632\n",
            "Epoch 137/200\n",
            "35/35 [==============================] - 1s 32ms/step - loss: 0.2186 - accuracy: 0.8673\n",
            "Epoch 138/200\n",
            "35/35 [==============================] - 1s 32ms/step - loss: 0.2189 - accuracy: 0.8661\n",
            "Epoch 139/200\n",
            "35/35 [==============================] - 1s 32ms/step - loss: 0.2119 - accuracy: 0.8678\n",
            "Epoch 140/200\n",
            "35/35 [==============================] - 1s 32ms/step - loss: 0.2124 - accuracy: 0.8695\n",
            "Epoch 141/200\n",
            "35/35 [==============================] - 1s 32ms/step - loss: 0.2097 - accuracy: 0.8673\n",
            "Epoch 142/200\n",
            "35/35 [==============================] - 1s 32ms/step - loss: 0.2105 - accuracy: 0.8681\n",
            "Epoch 143/200\n",
            "35/35 [==============================] - 1s 32ms/step - loss: 0.2138 - accuracy: 0.8642\n",
            "Epoch 144/200\n",
            "35/35 [==============================] - 1s 32ms/step - loss: 0.2220 - accuracy: 0.8661\n",
            "Epoch 145/200\n",
            "35/35 [==============================] - 1s 32ms/step - loss: 0.2119 - accuracy: 0.8675\n",
            "Epoch 146/200\n",
            "35/35 [==============================] - 1s 32ms/step - loss: 0.2145 - accuracy: 0.8632\n",
            "Epoch 147/200\n",
            "35/35 [==============================] - 1s 32ms/step - loss: 0.2115 - accuracy: 0.8657\n",
            "Epoch 148/200\n",
            "35/35 [==============================] - 1s 32ms/step - loss: 0.2094 - accuracy: 0.8702\n",
            "Epoch 149/200\n",
            "35/35 [==============================] - 1s 32ms/step - loss: 0.2086 - accuracy: 0.8686\n",
            "Epoch 150/200\n",
            "35/35 [==============================] - 1s 32ms/step - loss: 0.2145 - accuracy: 0.8650\n",
            "Epoch 151/200\n",
            "35/35 [==============================] - 1s 32ms/step - loss: 0.2073 - accuracy: 0.8667\n",
            "Epoch 152/200\n",
            "35/35 [==============================] - 1s 32ms/step - loss: 0.2069 - accuracy: 0.8686\n",
            "Epoch 153/200\n",
            "35/35 [==============================] - 1s 32ms/step - loss: 0.2075 - accuracy: 0.8654\n",
            "Epoch 154/200\n",
            "35/35 [==============================] - 1s 32ms/step - loss: 0.2088 - accuracy: 0.8652\n",
            "Epoch 155/200\n",
            "35/35 [==============================] - 1s 32ms/step - loss: 0.2065 - accuracy: 0.8677\n",
            "Epoch 156/200\n",
            "35/35 [==============================] - 1s 32ms/step - loss: 0.2126 - accuracy: 0.8615\n",
            "Epoch 157/200\n",
            "35/35 [==============================] - 1s 32ms/step - loss: 0.2090 - accuracy: 0.8686\n",
            "Epoch 158/200\n",
            "35/35 [==============================] - 1s 32ms/step - loss: 0.2067 - accuracy: 0.8673\n",
            "Epoch 159/200\n",
            "35/35 [==============================] - 1s 32ms/step - loss: 0.2126 - accuracy: 0.8622\n",
            "Epoch 160/200\n",
            "35/35 [==============================] - 1s 32ms/step - loss: 0.2069 - accuracy: 0.8659\n",
            "Epoch 161/200\n",
            "35/35 [==============================] - 1s 32ms/step - loss: 0.2075 - accuracy: 0.8671\n",
            "Epoch 162/200\n",
            "35/35 [==============================] - 1s 32ms/step - loss: 0.2075 - accuracy: 0.8686\n",
            "Epoch 163/200\n",
            "35/35 [==============================] - 1s 32ms/step - loss: 0.2065 - accuracy: 0.8682\n",
            "Epoch 164/200\n",
            "35/35 [==============================] - 1s 32ms/step - loss: 0.2068 - accuracy: 0.8677\n",
            "Epoch 165/200\n",
            "35/35 [==============================] - 1s 33ms/step - loss: 0.2063 - accuracy: 0.8691\n",
            "Epoch 166/200\n",
            "35/35 [==============================] - 1s 32ms/step - loss: 0.2106 - accuracy: 0.8621\n",
            "Epoch 167/200\n",
            "35/35 [==============================] - 1s 32ms/step - loss: 0.2103 - accuracy: 0.8698\n",
            "Epoch 168/200\n",
            "35/35 [==============================] - 1s 32ms/step - loss: 0.2117 - accuracy: 0.8658\n",
            "Epoch 169/200\n",
            "35/35 [==============================] - 1s 32ms/step - loss: 0.2745 - accuracy: 0.8472\n",
            "Epoch 170/200\n",
            "35/35 [==============================] - 1s 32ms/step - loss: 0.3083 - accuracy: 0.8273\n",
            "Epoch 171/200\n",
            "35/35 [==============================] - 1s 32ms/step - loss: 0.2273 - accuracy: 0.8622\n",
            "Epoch 172/200\n",
            "35/35 [==============================] - 1s 33ms/step - loss: 0.2127 - accuracy: 0.8695\n",
            "Epoch 173/200\n",
            "35/35 [==============================] - 1s 32ms/step - loss: 0.2138 - accuracy: 0.8654\n",
            "Epoch 174/200\n",
            "35/35 [==============================] - 1s 32ms/step - loss: 0.2079 - accuracy: 0.8702\n",
            "Epoch 175/200\n",
            "35/35 [==============================] - 1s 33ms/step - loss: 0.2110 - accuracy: 0.8644\n",
            "Epoch 176/200\n",
            "35/35 [==============================] - 1s 33ms/step - loss: 0.2104 - accuracy: 0.8642\n",
            "Epoch 177/200\n",
            "35/35 [==============================] - 1s 32ms/step - loss: 0.2072 - accuracy: 0.8693\n",
            "Epoch 178/200\n",
            "35/35 [==============================] - 1s 32ms/step - loss: 0.2099 - accuracy: 0.8668\n",
            "Epoch 179/200\n",
            "35/35 [==============================] - 1s 32ms/step - loss: 0.2081 - accuracy: 0.8663\n",
            "Epoch 180/200\n",
            "35/35 [==============================] - 1s 33ms/step - loss: 0.2090 - accuracy: 0.8673\n",
            "Epoch 181/200\n",
            "35/35 [==============================] - 1s 32ms/step - loss: 0.2084 - accuracy: 0.8650\n",
            "Epoch 182/200\n",
            "35/35 [==============================] - 1s 32ms/step - loss: 0.2036 - accuracy: 0.8722\n",
            "Epoch 183/200\n",
            "35/35 [==============================] - 1s 32ms/step - loss: 0.2072 - accuracy: 0.8684\n",
            "Epoch 184/200\n",
            "35/35 [==============================] - 1s 32ms/step - loss: 0.2089 - accuracy: 0.8657\n",
            "Epoch 185/200\n",
            "35/35 [==============================] - 1s 32ms/step - loss: 0.2094 - accuracy: 0.8648\n",
            "Epoch 186/200\n",
            "35/35 [==============================] - 1s 32ms/step - loss: 0.2079 - accuracy: 0.8667\n",
            "Epoch 187/200\n",
            "35/35 [==============================] - 1s 32ms/step - loss: 0.2096 - accuracy: 0.8660\n",
            "Epoch 188/200\n",
            "35/35 [==============================] - 1s 33ms/step - loss: 0.2046 - accuracy: 0.8702\n",
            "Epoch 189/200\n",
            "35/35 [==============================] - 1s 32ms/step - loss: 0.2073 - accuracy: 0.8696\n",
            "Epoch 190/200\n",
            "35/35 [==============================] - 1s 32ms/step - loss: 0.2096 - accuracy: 0.8675\n",
            "Epoch 191/200\n",
            "35/35 [==============================] - 1s 32ms/step - loss: 0.2088 - accuracy: 0.8676\n",
            "Epoch 192/200\n",
            "35/35 [==============================] - 1s 32ms/step - loss: 0.2036 - accuracy: 0.8717\n",
            "Epoch 193/200\n",
            "35/35 [==============================] - 1s 32ms/step - loss: 0.2091 - accuracy: 0.8678\n",
            "Epoch 194/200\n",
            "35/35 [==============================] - 1s 33ms/step - loss: 0.2086 - accuracy: 0.8659\n",
            "Epoch 195/200\n",
            "35/35 [==============================] - 1s 32ms/step - loss: 0.2086 - accuracy: 0.8728\n",
            "Epoch 196/200\n",
            "35/35 [==============================] - 1s 32ms/step - loss: 0.2094 - accuracy: 0.8664\n",
            "Epoch 197/200\n",
            "35/35 [==============================] - 1s 32ms/step - loss: 0.2091 - accuracy: 0.8638\n",
            "Epoch 198/200\n",
            "35/35 [==============================] - 1s 32ms/step - loss: 0.2067 - accuracy: 0.8669\n",
            "Epoch 199/200\n",
            "35/35 [==============================] - 1s 32ms/step - loss: 0.2059 - accuracy: 0.8688\n",
            "Epoch 200/200\n",
            "35/35 [==============================] - 1s 32ms/step - loss: 0.2089 - accuracy: 0.8669\n",
            "Training finished in 228.09\n"
          ],
          "name": "stdout"
        }
      ]
    },
    {
      "cell_type": "code",
      "metadata": {
        "colab": {
          "base_uri": "https://localhost:8080/",
          "height": 1000
        },
        "id": "rnKo0j5N6c-o",
        "outputId": "b4edb389-3c1c-4101-ac9b-f19588b8fc1d"
      },
      "source": [
        "print(model_history.history.keys())\n",
        "\n",
        "figure(figsize = (20,12))\n",
        "plt.plot(model_history.history['accuracy'])\n",
        "# plt.plot(model_history.history['val_accuracy'])\n",
        "plt.title('Model Accuracy', fontsize = 18)\n",
        "plt.ylabel('Accuracy', fontsize = 18)\n",
        "plt.xlabel('Epoch', fontsize = 18)\n",
        "plt.xticks(np.arange(0, 210, step = 10))\n",
        "plt.legend(['Train', 'Test'], loc = 'best', fontsize = 18)\n",
        "plt.grid(axis = 'x')\n",
        "plt.show()\n",
        "\n",
        "print()\n",
        "\n",
        "figure(figsize = (20,12))\n",
        "plt.plot(model_history.history['loss'])\n",
        "# plt.plot(model_history.history['val_loss'])\n",
        "plt.title('Model Loss', fontsize = 18)\n",
        "plt.ylabel('Loss', fontsize = 18)\n",
        "plt.ylabel('Epoch', fontsize = 18)\n",
        "plt.xticks(np.arange(0, 210, step = 10), )\n",
        "plt.legend(['Train', 'Test'], loc = 'best', fontsize = 18)\n",
        "plt.grid(axis = 'x')\n",
        "plt.show()"
      ],
      "execution_count": 17,
      "outputs": [
        {
          "output_type": "stream",
          "text": [
            "dict_keys(['loss', 'accuracy'])\n"
          ],
          "name": "stdout"
        },
        {
          "output_type": "display_data",
          "data": {
            "image/png": "[encoded data removed]",
            "text/plain": [
              "<Figure size 1440x864 with 1 Axes>"
            ]
          },
          "metadata": {
            "tags": [],
            "needs_background": "light"
          }
        },
        {
          "output_type": "stream",
          "text": [
            "\n"
          ],
          "name": "stdout"
        },
        {
          "output_type": "display_data",
          "data": {
            "image/png": "[encoded data removed]",
            "text/plain": [
              "<Figure size 1440x864 with 1 Axes>"
            ]
          },
          "metadata": {
            "tags": [],
            "needs_background": "light"
          }
        }
      ]
    },
    {
      "cell_type": "code",
      "metadata": {
        "colab": {
          "base_uri": "https://localhost:8080/"
        },
        "id": "vFd8485B6c-p",
        "outputId": "563a73fd-421b-424e-8235-e48bbc831b51"
      },
      "source": [
        "loss, acc = cnn.evaluate(test, ytest, batch_size = 200, verbose = 0)\n",
        "print(f'Loss = {round(loss, 4)}\\tAccuracy = {round(acc, 4)*100}%')"
      ],
      "execution_count": 18,
      "outputs": [
        {
          "output_type": "stream",
          "text": [
            "Loss = 1.5027\tAccuracy = 71.43%\n"
          ],
          "name": "stdout"
        }
      ]
    },
    {
      "cell_type": "code",
      "metadata": {
        "colab": {
          "base_uri": "https://localhost:8080/"
        },
        "id": "1vYQq61n6c-p",
        "outputId": "cada6504-7080-498d-efb6-3ad280c7e57d"
      },
      "source": [
        "preds = cnn.predict(test)\n",
        "y_preds = np.argmax(preds, axis = 1)\n",
        "\n",
        "preds[:20]"
      ],
      "execution_count": 19,
      "outputs": [
        {
          "output_type": "execute_result",
          "data": {
            "text/plain": [
              "array([[0.99825, 0.00217],\n",
              "       [0.61082, 0.60779],\n",
              "       [0.     , 1.     ],\n",
              "       [0.00002, 0.99996],\n",
              "       [0.05441, 0.96634],\n",
              "       [0.     , 1.     ],\n",
              "       [0.99993, 0.00012],\n",
              "       [0.     , 1.     ],\n",
              "       [0.     , 1.     ],\n",
              "       [0.99997, 0.00004],\n",
              "       [0.     , 1.     ],\n",
              "       [0.54364, 0.46163],\n",
              "       [0.     , 1.     ],\n",
              "       [0.44066, 0.55961],\n",
              "       [0.00018, 0.99961],\n",
              "       [0.     , 1.     ],\n",
              "       [1.     , 0.     ],\n",
              "       [0.     , 1.     ],\n",
              "       [0.44066, 0.55961],\n",
              "       [0.     , 1.     ]], dtype=float32)"
            ]
          },
          "metadata": {
            "tags": []
          },
          "execution_count": 19
        }
      ]
    },
    {
      "cell_type": "code",
      "metadata": {
        "id": "KNgHOMVP6c-p"
      },
      "source": [
        "def build_classifier():\n",
        "    \n",
        "    cnn = Sequential()\n",
        "\n",
        "    ## convolution 1\n",
        "    cnn.add(Convolution2D(16, (3,3), padding=\"same\", activation='relu', input_shape = (64,64,1)))\n",
        "    cnn.add(AveragePooling2D(pool_size = (2,2)))\n",
        "    # cnn.add(Dropout(0.5))\n",
        "\n",
        "    ## convolution 2\n",
        "    cnn.add(Convolution2D(32, (3,3), padding=\"same\", activation='relu'))\n",
        "    cnn.add(AveragePooling2D(pool_size = (2,2)))\n",
        "    # cnn.add(Dropout(0.5))\n",
        "\n",
        "    ## convolution 3\n",
        "    cnn.add(Convolution2D(64, (3,3), padding=\"same\", activation='relu'))\n",
        "    cnn.add(AveragePooling2D(pool_size = (2,2)))\n",
        "    # cnn.add(Dropout(0.5))\n",
        "\n",
        "    ## convolution 4\n",
        "    cnn.add(Convolution2D(128, (3,3), padding=\"same\", activation='relu'))\n",
        "    cnn.add(AveragePooling2D(pool_size = (2,2)))\n",
        "    # cnn.add(Dropout(0.5))\n",
        "\n",
        "    ## convolution 5\n",
        "    # cnn.add(Convolution2D(256, (3,3), padding=\"same\", activation='relu'))\n",
        "    # cnn.add(MaxPooling2D(pool_size = (2,2)))\n",
        "    # cnn.add(Dropout(0.5))\n",
        "\n",
        "    ## convolution 6\n",
        "    # cnn.add(Convolution2D(512, (2,2), padding=\"same\", activation='relu'))\n",
        "    # cnn.add(MaxPooling2D(pool_size = (1,1)))\n",
        "    # cnn.add(Dropout(0.5))\n",
        "\n",
        "    cnn.add(Flatten())\n",
        "\n",
        "    ## dense\n",
        "    cnn.add(Dense(128, activation='relu'))\n",
        "    # cnn.add(Dense(256, activation='relu'))\n",
        "    # cnn.add(Dropout(0.5))\n",
        "    cnn.add(Dense(2, activation = 'sigmoid'))\n",
        "\n",
        "    # callback = [EarlyStopping(monitor = 'accuracy', mode = 'max', patience = 2)]\n",
        "\n",
        "    cnn.compile(optimizer = keras.optimizers.Adam(), loss = 'binary_crossentropy',\n",
        "                metrics = ['accuracy'])\n",
        "    \n",
        "    return cnn\n",
        "\n",
        "classifier = KerasClassifier(build_fn = build_classifier, batch_size = 256, epochs = 200)"
      ],
      "execution_count": 20,
      "outputs": []
    },
    {
      "cell_type": "code",
      "metadata": {
        "colab": {
          "base_uri": "https://localhost:8080/"
        },
        "id": "lvz7BRwK6c-p",
        "outputId": "7deb1aee-294b-43fe-ea38-2fbe97774bfc"
      },
      "source": [
        "scores = cross_val_score(estimator = classifier, X = test, y = ytest, cv = 10, n_jobs = -1)\n",
        "print(f'Model Cross Validation: \\n{round(scores.mean(), 3)*100}%')\n",
        "print(f'Model Cross Validation: \\n{scores}')\n",
        "\n",
        "os.system('say \"cross validation finished\" ')"
      ],
      "execution_count": 21,
      "outputs": [
        {
          "output_type": "stream",
          "text": [
            "Model Cross Validation: \n",
            "75.1%\n",
            "Model Cross Validation: \n",
            "[0.80255 0.73567 0.72611 0.7293  0.76433 0.80255 0.74841 0.66879 0.80573\n",
            " 0.72293]\n"
          ],
          "name": "stdout"
        },
        {
          "output_type": "execute_result",
          "data": {
            "text/plain": [
              "32512"
            ]
          },
          "metadata": {
            "tags": []
          },
          "execution_count": 21
        }
      ]
    },
    {
      "cell_type": "code",
      "metadata": {
        "id": "6CvMjZAduhz_",
        "outputId": "ac9d0b54-02fd-4e49-dad6-94faff943872",
        "colab": {
          "base_uri": "https://localhost:8080/"
        }
      },
      "source": [
        "!nvidia-smi\n"
      ],
      "execution_count": 24,
      "outputs": [
        {
          "output_type": "stream",
          "text": [
            "Tue May 11 14:42:33 2021       \n",
            "+-----------------------------------------------------------------------------+\n",
            "| NVIDIA-SMI 465.19.01    Driver Version: 460.32.03    CUDA Version: 11.2     |\n",
            "|-------------------------------+----------------------+----------------------+\n",
            "| GPU  Name        Persistence-M| Bus-Id        Disp.A | Volatile Uncorr. ECC |\n",
            "| Fan  Temp  Perf  Pwr:Usage/Cap|         Memory-Usage | GPU-Util  Compute M. |\n",
            "|                               |                      |               MIG M. |\n",
            "|===============================+======================+======================|\n",
            "|   0  Tesla T4            Off  | 00000000:00:04.0 Off |                    0 |\n",
            "| N/A   76C    P0    35W /  70W |   3324MiB / 15109MiB |      0%      Default |\n",
            "|                               |                      |                  N/A |\n",
            "+-------------------------------+----------------------+----------------------+\n",
            "                                                                               \n",
            "+-----------------------------------------------------------------------------+\n",
            "| Processes:                                                                  |\n",
            "|  GPU   GI   CI        PID   Type   Process name                  GPU Memory |\n",
            "|        ID   ID                                                   Usage      |\n",
            "|=============================================================================|\n",
            "+-----------------------------------------------------------------------------+\n"
          ],
          "name": "stdout"
        }
      ]
    },
    {
      "cell_type": "code",
      "metadata": {
        "id": "QVJ8ZsRw4HwN"
      },
      "source": [
        ""
      ],
      "execution_count": null,
      "outputs": []
    }
  ]
}