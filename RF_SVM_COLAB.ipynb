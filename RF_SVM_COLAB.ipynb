{
  "nbformat": 4,
  "nbformat_minor": 0,
  "metadata": {
    "colab": {
      "name": "RF_SVM_COLAB.ipynb",
      "provenance": [],
      "authorship_tag": "ABX9TyMTcHwpVi3Sd6ol83L2Dxbk",
      "include_colab_link": true
    },
    "kernelspec": {
      "name": "python3",
      "display_name": "Python 3"
    },
    "language_info": {
      "name": "python"
    },
    "accelerator": "GPU"
  },
  "cells": [
    {
      "cell_type": "markdown",
      "metadata": {
        "id": "view-in-github",
        "colab_type": "text"
      },
      "source": [
        "<a href=\"https://colab.research.google.com/github/RMottram/2D-CNN/blob/master/RF_SVM_COLAB.ipynb\" target=\"_parent\"><img src=\"https://colab.research.google.com/assets/colab-badge.svg\" alt=\"Open In Colab\"/></a>"
      ]
    },
    {
      "cell_type": "code",
      "source": [
        "!nvidia-smi"
      ],
      "metadata": {
        "colab": {
          "base_uri": "https://localhost:8080/"
        },
        "id": "V8EMxviKUpuE",
        "outputId": "501d0786-2ab4-4007-8beb-830650f3cec7"
      },
      "execution_count": 2,
      "outputs": [
        {
          "output_type": "stream",
          "name": "stdout",
          "text": [
            "Tue Jan 18 13:14:00 2022       \n",
            "+-----------------------------------------------------------------------------+\n",
            "| NVIDIA-SMI 495.46       Driver Version: 460.32.03    CUDA Version: 11.2     |\n",
            "|-------------------------------+----------------------+----------------------+\n",
            "| GPU  Name        Persistence-M| Bus-Id        Disp.A | Volatile Uncorr. ECC |\n",
            "| Fan  Temp  Perf  Pwr:Usage/Cap|         Memory-Usage | GPU-Util  Compute M. |\n",
            "|                               |                      |               MIG M. |\n",
            "|===============================+======================+======================|\n",
            "|   0  Tesla K80           Off  | 00000000:00:04.0 Off |                    0 |\n",
            "| N/A   34C    P8    26W / 149W |      0MiB / 11441MiB |      0%      Default |\n",
            "|                               |                      |                  N/A |\n",
            "+-------------------------------+----------------------+----------------------+\n",
            "                                                                               \n",
            "+-----------------------------------------------------------------------------+\n",
            "| Processes:                                                                  |\n",
            "|  GPU   GI   CI        PID   Type   Process name                  GPU Memory |\n",
            "|        ID   ID                                                   Usage      |\n",
            "|=============================================================================|\n",
            "|  No running processes found                                                 |\n",
            "+-----------------------------------------------------------------------------+\n"
          ]
        }
      ]
    },
    {
      "cell_type": "code",
      "execution_count": 3,
      "metadata": {
        "id": "ktrVw8a3-bJx"
      },
      "outputs": [],
      "source": [
        "import cv2\n",
        "import numpy as np\n",
        "import matplotlib.pyplot as plt\n",
        "import os\n",
        "import glob"
      ]
    },
    {
      "cell_type": "code",
      "source": [
        "from google.colab import drive\n",
        "drive.mount('/content/drive')"
      ],
      "metadata": {
        "colab": {
          "base_uri": "https://localhost:8080/"
        },
        "id": "Bl17yy8x-gWL",
        "outputId": "79fa845d-40e3-4c20-d634-811e2968c4bc"
      },
      "execution_count": 4,
      "outputs": [
        {
          "output_type": "stream",
          "name": "stdout",
          "text": [
            "Mounted at /content/drive\n"
          ]
        }
      ]
    },
    {
      "cell_type": "code",
      "source": [
        "!unzip /content/drive/MyDrive/Colab\\ Notebooks/64x64_V2.zip > /dev/null"
      ],
      "metadata": {
        "id": "No5R1_IU-tvR"
      },
      "execution_count": 5,
      "outputs": []
    },
    {
      "cell_type": "code",
      "source": [
        "train_normal_loc = '/content/64x64_V2/80-20/row-wise/train_normal'\n",
        "test_normal_loc = '/content/64x64_V2/80-20/row-wise/test_normal'\n",
        "train_ip_loc = '/content/64x64_V2/80-20/row-wise/train_ip'\n",
        "test_ip_loc = '/content/64x64_V2/80-20/row-wise/test_ip'\n",
        "train_port_loc = '/content/64x64_V2/80-20/row-wise/train_port'\n",
        "test_port_loc = '/content/64x64_V2/80-20/row-wise/test_port'"
      ],
      "metadata": {
        "id": "FGfYkgUuAtBU"
      },
      "execution_count": 58,
      "outputs": []
    },
    {
      "cell_type": "code",
      "source": [
        "train_normal_labels = []\n",
        "test_normal_labels = []\n",
        "train_ip_labels = []\n",
        "test_ip_labels = []\n",
        "train_port_labels = []\n",
        "test_port_labels = []\n",
        "\n",
        "# looping the directory\n",
        "for i in glob.glob('/content/64x64_V2/80-20/row-wise/train_normal/train_normal_equ_*.jpg', recursive=True):\n",
        "    train_normal_labels.append(0)\n",
        "    \n",
        "for j in glob.glob('/content/64x64_V2/80-20/row-wise/test_normal/test_normal_equ_*.jpg', recursive=True):\n",
        "    test_normal_labels.append(0)\n",
        "\n",
        "for k in glob.glob('/content/64x64_V2/80-20/row-wise/train_ip/train_ip_equ_*.jpg', recursive=True):\n",
        "    train_ip_labels.append(1)\n",
        "\n",
        "for l in glob.glob('/content/64x64_V2/80-20/row-wise/test_ip/test_ip_equ_*.jpg', recursive=True):\n",
        "    test_ip_labels.append(1)\n",
        "\n",
        "for m in glob.glob('/content/64x64_V2/80-20/row-wise/train_port/train_port_equ_*.jpg', recursive=True):\n",
        "    train_port_labels.append(2)\n",
        "\n",
        "for n in glob.glob('/content/64x64_V2/80-20/row-wise/test_port/test_port_equ_*.jpg', recursive=True):\n",
        "    test_port_labels.append(2)\n"
      ],
      "metadata": {
        "id": "h36qIm9rBTe0"
      },
      "execution_count": 59,
      "outputs": []
    },
    {
      "cell_type": "code",
      "source": [
        "print(np.shape(train_normal_labels))\n",
        "print(np.shape(test_normal_labels))\n",
        "print(np.shape(train_ip_labels))\n",
        "print(np.shape(test_ip_labels))\n",
        "print(np.shape(train_port_labels))\n",
        "print(np.shape(test_port_labels))"
      ],
      "metadata": {
        "colab": {
          "base_uri": "https://localhost:8080/"
        },
        "id": "ZFRHOKrnBszl",
        "outputId": "0ae51d59-b7b0-454f-eb87-b45362982601"
      },
      "execution_count": 60,
      "outputs": [
        {
          "output_type": "stream",
          "name": "stdout",
          "text": [
            "(1714,)\n",
            "(429,)\n",
            "(5437,)\n",
            "(1360,)\n",
            "(1779,)\n",
            "(445,)\n"
          ]
        }
      ]
    },
    {
      "cell_type": "code",
      "source": [
        "training_imgs = []\n",
        "testing_imgs = []"
      ],
      "metadata": {
        "id": "qeklDeUEBvbS"
      },
      "execution_count": 79,
      "outputs": []
    },
    {
      "cell_type": "code",
      "source": [
        "train_img_path = '/content/64x64_V2/80-20/row-wise/train_ip/train_ip_equ_*.jpg'\n",
        "\n",
        "files = glob.glob(train_img_path)\n",
        "\n",
        "for my_file in files:\n",
        "    image = cv2.imread(my_file)\n",
        "    training_imgs.append(image)"
      ],
      "metadata": {
        "id": "XXXZBzUxBz8i"
      },
      "execution_count": 81,
      "outputs": []
    },
    {
      "cell_type": "code",
      "source": [
        "test_img_path = '/content/64x64_V2/80-20/row-wise/test_ip/test_ip_equ_*.jpg'\n",
        "\n",
        "files = glob.glob(test_img_path)\n",
        "\n",
        "for my_file in files:\n",
        "    image = cv2.imread(my_file)\n",
        "    testing_imgs.append(image)"
      ],
      "metadata": {
        "id": "uoCxajAOB7ek"
      },
      "execution_count": 83,
      "outputs": []
    },
    {
      "cell_type": "code",
      "source": [
        "training_imgs = np.array(training_imgs, dtype = 'float32')\n",
        "testing_imgs = np.array(testing_imgs, dtype = 'float32')\n",
        "\n",
        "training_imgs.shape"
      ],
      "metadata": {
        "colab": {
          "base_uri": "https://localhost:8080/"
        },
        "id": "sAvRl9Y_CRD_",
        "outputId": "5bcdfa86-6b86-486e-bc80-f3e064cddce1"
      },
      "execution_count": 84,
      "outputs": [
        {
          "output_type": "execute_result",
          "data": {
            "text/plain": [
              "(7151, 64, 64, 3)"
            ]
          },
          "metadata": {},
          "execution_count": 84
        }
      ]
    },
    {
      "cell_type": "code",
      "source": [
        "training_imgs = training_imgs.reshape(-1, 12288)\n",
        "testing_imgs = testing_imgs.reshape(-1, 12288)"
      ],
      "metadata": {
        "id": "4DC24nisCZ8o"
      },
      "execution_count": 85,
      "outputs": []
    },
    {
      "cell_type": "code",
      "source": [
        "training_labels = train_normal_labels + train_ip_labels \n",
        "testing_labels = test_normal_labels + test_ip_labels\n",
        "\n",
        "np.shape(training_labels)\n",
        "# np.shape(testing_labels)"
      ],
      "metadata": {
        "colab": {
          "base_uri": "https://localhost:8080/"
        },
        "id": "lvq0mYdxCerA",
        "outputId": "3ac30387-6b3a-4720-fcd7-f90e59fc9234"
      },
      "execution_count": 86,
      "outputs": [
        {
          "output_type": "execute_result",
          "data": {
            "text/plain": [
              "(7151,)"
            ]
          },
          "metadata": {},
          "execution_count": 86
        }
      ]
    },
    {
      "cell_type": "code",
      "source": [
        "import sklearn\n",
        "from sklearn.utils import shuffle\n",
        "training_imgs, training_labels = sklearn.utils.shuffle(training_imgs, training_labels, random_state=42)\n",
        "testing_imgs, testing_labels = sklearn.utils.shuffle(testing_imgs, testing_labels, random_state=42)"
      ],
      "metadata": {
        "id": "lEbfzMrCCgbI"
      },
      "execution_count": 87,
      "outputs": []
    },
    {
      "cell_type": "code",
      "source": [
        "from sklearn.ensemble import RandomForestClassifier\n",
        "rf = RandomForestClassifier(n_estimators=100)\n",
        "\n",
        "rf.fit(training_imgs, training_labels)"
      ],
      "metadata": {
        "colab": {
          "base_uri": "https://localhost:8080/"
        },
        "id": "sjKXJGGmCoBs",
        "outputId": "6748b119-9a23-4641-c90a-a53deb04fc1e"
      },
      "execution_count": 39,
      "outputs": [
        {
          "output_type": "execute_result",
          "data": {
            "text/plain": [
              "RandomForestClassifier()"
            ]
          },
          "metadata": {},
          "execution_count": 39
        }
      ]
    },
    {
      "cell_type": "code",
      "source": [
        "print(f'Training Score - {round(rf.score(training_imgs, training_labels), 5) * 100}%')\n",
        "print(f'Testing score - {round(rf.score(testing_imgs, testing_labels), 5) * 100}%')"
      ],
      "metadata": {
        "colab": {
          "base_uri": "https://localhost:8080/"
        },
        "id": "tR98XY0YDE9J",
        "outputId": "fbbbe07b-76d6-4540-a704-db2e900c1c4a"
      },
      "execution_count": 40,
      "outputs": [
        {
          "output_type": "stream",
          "name": "stdout",
          "text": [
            "Training Score - 72.665%\n",
            "Testing score - 60.877%\n"
          ]
        }
      ]
    },
    {
      "cell_type": "markdown",
      "source": [
        "# SVM"
      ],
      "metadata": {
        "id": "6pcWNKZqD508"
      }
    },
    {
      "cell_type": "code",
      "source": [
        "from sklearn.svm import SVC\n",
        "\n",
        "svm = SVC(kernel='sigmoid')\n",
        "svm.fit(training_imgs, training_labels)\n",
        "\n",
        "print(f'Training Score - {round(svm.score(training_imgs, training_labels), 5) * 100}%')\n",
        "print(f'Testing score - {round(svm.score(testing_imgs, testing_labels), 5) * 100}%')"
      ],
      "metadata": {
        "colab": {
          "base_uri": "https://localhost:8080/"
        },
        "id": "s5aEGyNTDI30",
        "outputId": "e5ac1e9e-1b09-4606-95c5-70352f777a5d"
      },
      "execution_count": 88,
      "outputs": [
        {
          "output_type": "stream",
          "name": "stdout",
          "text": [
            "Training Score - 95.231%\n",
            "Testing score - 94.96900000000001%\n"
          ]
        }
      ]
    },
    {
      "cell_type": "code",
      "source": [
        ""
      ],
      "metadata": {
        "id": "mF5jQK9BEEBP"
      },
      "execution_count": null,
      "outputs": []
    }
  ]
}