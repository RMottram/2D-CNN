{
  "nbformat": 4,
  "nbformat_minor": 0,
  "metadata": {
    "orig_nbformat": 2,
    "kernelspec": {
      "name": "python3",
      "display_name": "Python 3"
    },
    "colab": {
      "name": "2d_cnn.ipynb",
      "provenance": [],
      "include_colab_link": true
    },
    "accelerator": "GPU",
    "language_info": {
      "name": "python"
    }
  },
  "cells": [
    {
      "cell_type": "markdown",
      "metadata": {
        "id": "view-in-github",
        "colab_type": "text"
      },
      "source": [
        "<a href=\"https://colab.research.google.com/github/RMottram/2D-CNN/blob/master/2D_CNN_colab_V2.ipynb\" target=\"_parent\"><img src=\"https://colab.research.google.com/assets/colab-badge.svg\" alt=\"Open In Colab\"/></a>"
      ]
    },
    {
      "cell_type": "code",
      "metadata": {
        "id": "-U0wqCRNbL8o",
        "colab": {
          "base_uri": "https://localhost:8080/"
        },
        "outputId": "cfd5b3a2-3bf2-4763-a640-f989b9c05749"
      },
      "source": [
        "!lscpu |grep 'Model name'"
      ],
      "execution_count": null,
      "outputs": [
        {
          "output_type": "stream",
          "text": [
            "Model name:          Intel(R) Xeon(R) CPU @ 2.20GHz\n"
          ],
          "name": "stdout"
        }
      ]
    },
    {
      "cell_type": "code",
      "metadata": {
        "id": "uoSJDF16yFkC",
        "colab": {
          "base_uri": "https://localhost:8080/"
        },
        "outputId": "7abf3554-4260-434a-d4ac-8ecf3b7581ea"
      },
      "source": [
        "!nvidia-smi"
      ],
      "execution_count": 1,
      "outputs": [
        {
          "output_type": "stream",
          "text": [
            "Thu Jul 15 14:59:41 2021       \n",
            "+-----------------------------------------------------------------------------+\n",
            "| NVIDIA-SMI 470.42.01    Driver Version: 460.32.03    CUDA Version: 11.2     |\n",
            "|-------------------------------+----------------------+----------------------+\n",
            "| GPU  Name        Persistence-M| Bus-Id        Disp.A | Volatile Uncorr. ECC |\n",
            "| Fan  Temp  Perf  Pwr:Usage/Cap|         Memory-Usage | GPU-Util  Compute M. |\n",
            "|                               |                      |               MIG M. |\n",
            "|===============================+======================+======================|\n",
            "|   0  Tesla T4            Off  | 00000000:00:04.0 Off |                    0 |\n",
            "| N/A   54C    P8    11W /  70W |      0MiB / 15109MiB |      0%      Default |\n",
            "|                               |                      |                  N/A |\n",
            "+-------------------------------+----------------------+----------------------+\n",
            "                                                                               \n",
            "+-----------------------------------------------------------------------------+\n",
            "| Processes:                                                                  |\n",
            "|  GPU   GI   CI        PID   Type   Process name                  GPU Memory |\n",
            "|        ID   ID                                                   Usage      |\n",
            "|=============================================================================|\n",
            "|  No running processes found                                                 |\n",
            "+-----------------------------------------------------------------------------+\n"
          ],
          "name": "stdout"
        }
      ]
    },
    {
      "cell_type": "code",
      "metadata": {
        "colab": {
          "base_uri": "https://localhost:8080/"
        },
        "id": "SeZZvLXXN0Lv",
        "outputId": "daec4acc-91c7-4343-f2c1-f905d82be582"
      },
      "source": [
        "from google.colab import drive\n",
        "drive.mount('/content/drive')"
      ],
      "execution_count": 2,
      "outputs": [
        {
          "output_type": "stream",
          "text": [
            "Mounted at /content/drive\n"
          ],
          "name": "stdout"
        }
      ]
    },
    {
      "cell_type": "code",
      "metadata": {
        "id": "eIzDWja0OBiw"
      },
      "source": [
        "# !unzip /content/drive/MyDrive/Colab\\ Notebooks/64x64.zip > /dev/null\n",
        "# !unzip /content/drive/MyDrive/Colab\\ Notebooks/32x32.zip > /dev/null\n",
        "!unzip /content/drive/MyDrive/Colab\\ Notebooks/split_images.zip > /dev/null"
      ],
      "execution_count": 3,
      "outputs": []
    },
    {
      "cell_type": "code",
      "metadata": {
        "id": "X6bRfwJ_6c-V"
      },
      "source": [
        "## libraries\n",
        "import numpy as np\n",
        "import pandas as pd\n",
        "import matplotlib.pyplot as plt\n",
        "from matplotlib.pyplot import figure\n",
        "import sys, os, time, csv, glob, cv2\n",
        "\n",
        "import tensorflow as tf\n",
        "from tensorflow import keras\n",
        "from tensorflow.keras.layers import Dense, Convolution1D, Convolution2D, MaxPooling2D, Flatten, AveragePooling2D, GlobalAveragePooling2D, GlobalMaxPool2D, MaxPooling1D, Dropout\n",
        "from tensorflow.keras.models import Sequential\n",
        "from tensorflow.keras.callbacks import EarlyStopping\n",
        "from keras.wrappers.scikit_learn import KerasClassifier\n",
        "from keras.utils.np_utils import to_categorical\n",
        "\n",
        "import sklearn\n",
        "from sklearn.model_selection import cross_val_score\n",
        "from sklearn.preprocessing import StandardScaler\n",
        "from sklearn.metrics import classification_report, confusion_matrix, multilabel_confusion_matrix\n",
        "from sklearn import metrics\n",
        "\n",
        "## Settings\n",
        "pd.set_option('display.max_columns', None)\n",
        "pd.options.display.float_format = '{:.5f}'.format\n",
        "np.set_printoptions(threshold=sys.maxsize)\n",
        "np.set_printoptions(precision = 5, suppress = True)"
      ],
      "execution_count": 43,
      "outputs": []
    },
    {
      "cell_type": "markdown",
      "metadata": {
        "id": "yRxC9OVB6c-c"
      },
      "source": [
        "# CNN 1.0 - Binary output (attack/normal)"
      ]
    },
    {
      "cell_type": "code",
      "metadata": {
        "id": "sjn-epN96c-e"
      },
      "source": [
        "train_normal = []\n",
        "test_normal = []\n",
        "train_smurf = []\n",
        "test_smurf = []\n",
        "train_ip = []\n",
        "test_ip = []\n",
        "train_port = []\n",
        "test_port = []\n",
        "train_nmap = []\n",
        "test_nmap = []\n",
        "\n",
        "for i in glob.glob('/content/split_images/64x64_V2/80-20/train_normal/train_normal_equ_*.jpg', recursive=True):\n",
        "    train_normal.append(cv2.imread(i, cv2.IMREAD_GRAYSCALE))\n",
        "\n",
        "for j in glob.glob('/content/split_images/64x64_V2/80-20/test_normal/test_normal_equ_*.jpg', recursive=True):\n",
        "    test_normal.append(cv2.imread(j, cv2.IMREAD_GRAYSCALE))\n",
        "\n",
        "for k in glob.glob('/content/split_images/64x64_V2/80-20/train_smurf/train_smurf_equ_*.jpg', recursive=True):\n",
        "    train_smurf.append(cv2.imread(k, cv2.IMREAD_GRAYSCALE))\n",
        "\n",
        "for l in glob.glob('/content/split_images/64x64_V2/80-20/test_smurf/test_smurf_equ_*.jpg', recursive=True):\n",
        "    test_smurf.append(cv2.imread(l, cv2.IMREAD_GRAYSCALE))\n",
        "\n",
        "for m in glob.glob('/content/split_images/64x64_V2/80-20/train_ip/train_ip_equ_*.jpg', recursive=True):\n",
        "    train_ip.append(cv2.imread(m, cv2.IMREAD_GRAYSCALE))\n",
        "\n",
        "for n in glob.glob('/content/split_images/64x64_V2/80-20/test_ip/test_ip_equ_*.jpg', recursive=True):\n",
        "    test_ip.append(cv2.imread(n, cv2.IMREAD_GRAYSCALE))\n",
        "    \n",
        "for o in glob.glob('/content/split_images/64x64_V2/80-20/train_port/train_port_equ_*.jpg', recursive=True):\n",
        "    train_port.append(cv2.imread(o, cv2.IMREAD_GRAYSCALE))\n",
        "\n",
        "for p in glob.glob('/content/split_images/64x64_V2/80-20/test_port/test_port_equ_*.jpg', recursive=True):\n",
        "    test_port.append(cv2.imread(p, cv2.IMREAD_GRAYSCALE))\n",
        "    \n",
        "for q in glob.glob('/content/split_images/64x64_V2/80-20/train_nmap/train_nmap_equ_*.jpg', recursive=True):\n",
        "    train_nmap.append(cv2.imread(q, cv2.IMREAD_GRAYSCALE))\n",
        "\n",
        "for r in glob.glob('/content/split_images/64x64_V2/80-20/test_nmap/test_nmap_equ_*.jpg', recursive=True):\n",
        "    test_nmap.append(cv2.imread(r, cv2.IMREAD_GRAYSCALE))\n",
        "    \n",
        "\n",
        "\n",
        "train_normal = np.array(train_normal)\n",
        "test_normal = np.array(test_normal)\n",
        "train_smurf = np.array(train_smurf)\n",
        "test_smurf = np.array(test_smurf)\n",
        "train_ip = np.array(train_ip)\n",
        "test_ip = np.array(test_ip)\n",
        "train_port = np.array(train_port)\n",
        "test_port = np.array(test_port)\n",
        "train_nmap = np.array(train_nmap)\n",
        "test_nmap = np.array(test_nmap)"
      ],
      "execution_count": 44,
      "outputs": []
    },
    {
      "cell_type": "code",
      "metadata": {
        "colab": {
          "base_uri": "https://localhost:8080/"
        },
        "id": "dMi-eflf6c-f",
        "outputId": "bc8ff6bb-1d26-41bf-b8ff-44ab8e098aa3"
      },
      "source": [
        "print(f'Normal train\\t{np.shape(train_normal)}\\nNormal test\\t{np.shape(test_normal)}\\nSmurf train\\t{np.shape(train_smurf)}\\nSmurf test\\t{np.shape(test_smurf)}\\nIP train\\t{np.shape(train_ip)}\\nIP test\\t\\t{np.shape(test_ip)}')\n",
        "print(f'Port train\\t{np.shape(train_port)}\\nPort test\\t{np.shape(test_port)}\\nNmap train\\t{np.shape(train_nmap)}\\nNmap test\\t{np.shape(test_nmap)}')\n",
        "\n",
        "# for i in range(0, 2):\n",
        "#   plt.imshow(train_normal[i], cmap = 'gray')\n",
        "#   plt.show()\n",
        "\n",
        "# for i in train_normal:\n",
        "#   print(i)"
      ],
      "execution_count": 45,
      "outputs": [
        {
          "output_type": "stream",
          "text": [
            "Normal train\t(1714, 64, 64)\n",
            "Normal test\t(429, 64, 64)\n",
            "Smurf train\t(122, 64, 64)\n",
            "Smurf test\t(31, 64, 64)\n",
            "IP train\t(5437, 64, 64)\n",
            "IP test\t\t(1360, 64, 64)\n",
            "Port train\t(1779, 64, 64)\n",
            "Port test\t(445, 64, 64)\n",
            "Nmap train\t(64, 64, 64)\n",
            "Nmap test\t(16, 64, 64)\n"
          ],
          "name": "stdout"
        }
      ]
    },
    {
      "cell_type": "code",
      "metadata": {
        "id": "SAKSZOA76c-g"
      },
      "source": [
        "## augmenting the data to create more images\n",
        "## only run cell if needed\n",
        "\n",
        "## vertically flip training images\n",
        "vert_flip_train_normal = np.fliplr(train_normal)\n",
        "vert_flip_train_smurf = np.fliplr(train_smurf)\n",
        "vert_flip_train_ip = np.fliplr(train_ip)\n",
        "vert_flip_train_port = np.fliplr(train_port)\n",
        "vert_flip_train_nmap = np.fliplr(train_nmap)\n",
        "\n",
        "## flip training images horizonatally\n",
        "hor_flip_train_normal = np.rot90(train_normal, axes = (1,2), k = 2)\n",
        "hor_flip_train_smurf = np.rot90(train_smurf, axes = (1,2), k = 2)\n",
        "hor_flip_train_ip = np.rot90(train_ip, axes = (1,2), k = 2)\n",
        "hor_flip_train_port = np.rot90(train_port, axes = (1,2), k = 2)\n",
        "hor_flip_train_nmap = np.rot90(train_nmap, axes = (1,2), k = 2)\n",
        "\n",
        "## rotate training images left and right once each\n",
        "# rotate90l_train_attack = np.rot90(train_attack, axes=(1, 2))\n",
        "# rotate90r_train_attack = np.rot90(train_normal, -1, axes=(1, 2))\n",
        "# rotate90l_train_normal = np.rot90(train_attack, axes=(1, 2))\n",
        "# rotate90r_train_normal = np.rot90(train_normal, -1, axes=(1, 2))\n",
        "\n",
        "\n",
        "\n",
        "## vertically flip testing images\n",
        "vert_flip_test_normal = np.fliplr(test_normal)\n",
        "vert_flip_test_smurf = np.fliplr(test_smurf)\n",
        "vert_flip_test_ip = np.fliplr(test_ip)\n",
        "vert_flip_test_port = np.fliplr(test_port)\n",
        "vert_flip_test_nmap = np.fliplr(test_nmap)\n",
        "\n",
        "## flip testing images horizonatally\n",
        "hor_flip_test_normal = np.rot90(test_normal, axes = (1,2), k = 2)\n",
        "hor_flip_test_smurf = np.rot90(test_smurf, axes = (1,2), k = 2)\n",
        "hor_flip_test_ip = np.rot90(test_ip, axes = (1,2), k = 2)\n",
        "hor_flip_test_port = np.rot90(test_port, axes = (1,2), k = 2)\n",
        "hor_flip_test_nmap = np.rot90(test_nmap, axes = (1,2), k = 2)\n",
        "\n",
        "## rotate testing images left and right once each\n",
        "# rotate90l_test_attack = np.rot90(test_attack, axes=(1, 2))\n",
        "# rotate90r_test_attack = np.rot90(test_normal, -1, axes=(1, 2))\n",
        "# rotate90l_test_normal = np.rot90(test_attack, axes=(1, 2))\n",
        "# rotate90r_test_normal = np.rot90(test_normal, -1, axes=(1, 2))\n",
        "\n",
        "\n",
        "## stack all the original and augmented data to one single numpy array\n",
        "# train = np.vstack((train_attack, vert_flip_train_attack, hor_flip_train_attack, rotate90l_train_attack, rotate90r_train_attack,\n",
        "#                    train_normal, vert_flip_train_normal, hor_flip_train_normal, rotate90l_train_normal, rotate90r_train_normal))\n",
        "# test = np.vstack((test_attack, vert_flip_test_attack, hor_flip_test_attack, rotate90l_test_attack, rotate90r_test_attack,\n",
        "#                   test_normal, vert_flip_test_normal, hor_flip_test_normal, rotate90l_test_normal, rotate90r_test_normal))\n",
        "\n",
        "train = np.vstack((train_normal, vert_flip_train_normal, hor_flip_train_normal, train_smurf, vert_flip_train_smurf, hor_flip_train_smurf, train_ip, vert_flip_train_ip, hor_flip_train_ip, train_port, vert_flip_train_port, hor_flip_train_port, train_nmap, vert_flip_train_nmap, hor_flip_train_nmap))\n",
        "test = np.vstack((test_normal, vert_flip_test_normal, hor_flip_test_normal, test_smurf, vert_flip_test_smurf, hor_flip_test_smurf, test_ip, vert_flip_test_ip, hor_flip_test_ip, test_port, vert_flip_test_port, hor_flip_test_port, test_nmap, vert_flip_test_nmap, hor_flip_test_nmap))"
      ],
      "execution_count": 7,
      "outputs": []
    },
    {
      "cell_type": "code",
      "metadata": {
        "id": "R4OLWyQw6c-i",
        "colab": {
          "base_uri": "https://localhost:8080/"
        },
        "outputId": "4095e234-fd6d-4e12-dd21-72b146bdda07"
      },
      "source": [
        "## if no augmented data is needed, run this cell\n",
        "train = np.vstack((train_normal, train_smurf, train_ip, train_port, train_nmap))\n",
        "test = np.vstack((test_normal, test_smurf, test_ip, test_port, test_nmap))\n",
        "\n",
        "train.shape, test.shape"
      ],
      "execution_count": 46,
      "outputs": [
        {
          "output_type": "execute_result",
          "data": {
            "text/plain": [
              "((9116, 64, 64), (2281, 64, 64))"
            ]
          },
          "metadata": {
            "tags": []
          },
          "execution_count": 46
        }
      ]
    },
    {
      "cell_type": "code",
      "metadata": {
        "id": "1Bcx3IdD6c-j",
        "colab": {
          "base_uri": "https://localhost:8080/"
        },
        "outputId": "8a3cef23-3484-4415-8df3-ed36d2323195"
      },
      "source": [
        "train = train.reshape(-1,64,64,1)\n",
        "test = test.reshape(-1,64,64,1)\n",
        "\n",
        "train.shape, test.shape"
      ],
      "execution_count": 47,
      "outputs": [
        {
          "output_type": "execute_result",
          "data": {
            "text/plain": [
              "((9116, 64, 64, 1), (2281, 64, 64, 1))"
            ]
          },
          "metadata": {
            "tags": []
          },
          "execution_count": 47
        }
      ]
    },
    {
      "cell_type": "code",
      "metadata": {
        "id": "pyxOplUl6c-j",
        "colab": {
          "base_uri": "https://localhost:8080/",
          "height": 1000
        },
        "outputId": "adf38c72-63d4-4154-a87a-8756fe1d7d27"
      },
      "source": [
        "for i in range(0, 5):\n",
        "    plt.imshow(tf.squeeze(train[i]), cmap = 'gray')\n",
        "    plt.show()"
      ],
      "execution_count": null,
      "outputs": [
        {
          "output_type": "display_data",
          "data": {
            "image/png": "[encoded data removed]",
            "text/plain": [
              "<Figure size 432x288 with 1 Axes>"
            ]
          },
          "metadata": {
            "tags": [],
            "needs_background": "light"
          }
        },
        {
          "output_type": "display_data",
          "data": {
            "image/png": "[encoded data removed]",
            "text/plain": [
              "<Figure size 432x288 with 1 Axes>"
            ]
          },
          "metadata": {
            "tags": [],
            "needs_background": "light"
          }
        },
        {
          "output_type": "display_data",
          "data": {
            "image/png": "[encoded data removed]",
            "text/plain": [
              "<Figure size 432x288 with 1 Axes>"
            ]
          },
          "metadata": {
            "tags": [],
            "needs_background": "light"
          }
        },
        {
          "output_type": "display_data",
          "data": {
            "image/png": "[encoded data removed]",
            "text/plain": [
              "<Figure size 432x288 with 1 Axes>"
            ]
          },
          "metadata": {
            "tags": [],
            "needs_background": "light"
          }
        },
        {
          "output_type": "display_data",
          "data": {
            "image/png": "[encoded data removed]",
            "text/plain": [
              "<Figure size 432x288 with 1 Axes>"
            ]
          },
          "metadata": {
            "tags": [],
            "needs_background": "light"
          }
        }
      ]
    },
    {
      "cell_type": "code",
      "metadata": {
        "id": "JDe4E_aK6c-m"
      },
      "source": [
        "## create the training and testing data labels\n",
        "## run if not using augmented data\n",
        "\n",
        "training_labels = []\n",
        "\n",
        "for i in range(0, train_normal.shape[0]):\n",
        "    training_labels.append('Normal')\n",
        "\n",
        "for j in range(0, train_smurf.shape[0]):\n",
        "    training_labels.append('Smurf-DDoS')\n",
        "    \n",
        "for k in range(0, train_ip.shape[0]):\n",
        "    training_labels.append('IP-Sweep')\n",
        "    \n",
        "for l in range(0, train_port.shape[0]):\n",
        "    training_labels.append('Port-Sweep')\n",
        "    \n",
        "for m in range(0, train_nmap.shape[0]):\n",
        "    training_labels.append('Nmap-Sweep')\n",
        "\n",
        "\n",
        "\n",
        "testing_labels = []\n",
        "\n",
        "for i in range(0, test_normal.shape[0]):\n",
        "    testing_labels.append('Normal')\n",
        "\n",
        "for j in range(0, test_smurf.shape[0]):\n",
        "    testing_labels.append('Smurf-DDoS')\n",
        "    \n",
        "for k in range(0, test_ip.shape[0]):\n",
        "    testing_labels.append('IP-Sweep')\n",
        "    \n",
        "for l in range(0, test_port.shape[0]):\n",
        "    testing_labels.append('Port-Sweep')\n",
        "    \n",
        "for m in range(0, test_nmap.shape[0]):\n",
        "    testing_labels.append('Nmap-Sweep')"
      ],
      "execution_count": 48,
      "outputs": []
    },
    {
      "cell_type": "code",
      "metadata": {
        "id": "udzAu0kd5LUn",
        "colab": {
          "base_uri": "https://localhost:8080/",
          "height": 424
        },
        "outputId": "e434d0b5-318a-4087-cb96-d59ce6cb9813"
      },
      "source": [
        "pd.DataFrame(training_labels)"
      ],
      "execution_count": 49,
      "outputs": [
        {
          "output_type": "execute_result",
          "data": {
            "text/html": [
              "<div>\n",
              "<style scoped>\n",
              "    .dataframe tbody tr th:only-of-type {\n",
              "        vertical-align: middle;\n",
              "    }\n",
              "\n",
              "    .dataframe tbody tr th {\n",
              "        vertical-align: top;\n",
              "    }\n",
              "\n",
              "    .dataframe thead th {\n",
              "        text-align: right;\n",
              "    }\n",
              "</style>\n",
              "<table border=\"1\" class=\"dataframe\">\n",
              "  <thead>\n",
              "    <tr style=\"text-align: right;\">\n",
              "      <th></th>\n",
              "      <th>0</th>\n",
              "    </tr>\n",
              "  </thead>\n",
              "  <tbody>\n",
              "    <tr>\n",
              "      <th>0</th>\n",
              "      <td>Normal</td>\n",
              "    </tr>\n",
              "    <tr>\n",
              "      <th>1</th>\n",
              "      <td>Normal</td>\n",
              "    </tr>\n",
              "    <tr>\n",
              "      <th>2</th>\n",
              "      <td>Normal</td>\n",
              "    </tr>\n",
              "    <tr>\n",
              "      <th>3</th>\n",
              "      <td>Normal</td>\n",
              "    </tr>\n",
              "    <tr>\n",
              "      <th>4</th>\n",
              "      <td>Normal</td>\n",
              "    </tr>\n",
              "    <tr>\n",
              "      <th>...</th>\n",
              "      <td>...</td>\n",
              "    </tr>\n",
              "    <tr>\n",
              "      <th>9111</th>\n",
              "      <td>Nmap-Sweep</td>\n",
              "    </tr>\n",
              "    <tr>\n",
              "      <th>9112</th>\n",
              "      <td>Nmap-Sweep</td>\n",
              "    </tr>\n",
              "    <tr>\n",
              "      <th>9113</th>\n",
              "      <td>Nmap-Sweep</td>\n",
              "    </tr>\n",
              "    <tr>\n",
              "      <th>9114</th>\n",
              "      <td>Nmap-Sweep</td>\n",
              "    </tr>\n",
              "    <tr>\n",
              "      <th>9115</th>\n",
              "      <td>Nmap-Sweep</td>\n",
              "    </tr>\n",
              "  </tbody>\n",
              "</table>\n",
              "<p>9116 rows × 1 columns</p>\n",
              "</div>"
            ],
            "text/plain": [
              "               0\n",
              "0         Normal\n",
              "1         Normal\n",
              "2         Normal\n",
              "3         Normal\n",
              "4         Normal\n",
              "...          ...\n",
              "9111  Nmap-Sweep\n",
              "9112  Nmap-Sweep\n",
              "9113  Nmap-Sweep\n",
              "9114  Nmap-Sweep\n",
              "9115  Nmap-Sweep\n",
              "\n",
              "[9116 rows x 1 columns]"
            ]
          },
          "metadata": {
            "tags": []
          },
          "execution_count": 49
        }
      ]
    },
    {
      "cell_type": "code",
      "metadata": {
        "id": "KEZ7jTGy6c-m"
      },
      "source": [
        "## create the training and testing data labels\n",
        "## run this cell if using augmented data with rotated data\n",
        "\n",
        "training_labels = []\n",
        "\n",
        "for i in range(0, train_normal.shape[0] + vert_flip_train_normal.shape[0] + hor_flip_train_normal.shape[0]):\n",
        "    training_labels.append('Normal')\n",
        "\n",
        "for j in range(0, train_smurf.shape[0] + vert_flip_train_smurf.shape[0] + hor_flip_train_smurf.shape[0]):\n",
        "    training_labels.append('Smurf-DDoS')\n",
        "    \n",
        "for k in range(0, train_ip.shape[0] + vert_flip_train_ip.shape[0] + hor_flip_train_ip.shape[0]):\n",
        "    training_labels.append('IP-Sweep')\n",
        "    \n",
        "for l in range(0, train_port.shape[0] + vert_flip_train_port.shape[0] + hor_flip_train_port.shape[0]):\n",
        "    training_labels.append('Port-Sweep')\n",
        "    \n",
        "for m in range(0, train_nmap.shape[0] + vert_flip_train_nmap.shape[0] + hor_flip_train_nmap.shape[0]):\n",
        "    training_labels.append('Nmap-Sweep')\n",
        "\n",
        "\n",
        "\n",
        "testing_labels = []\n",
        "\n",
        "for i in range(0, test_normal.shape[0] + vert_flip_test_normal.shape[0] + hor_flip_test_normal.shape[0]):\n",
        "    testing_labels.append('Normal')\n",
        "\n",
        "for j in range(0, test_smurf.shape[0] + vert_flip_test_smurf.shape[0] + hor_flip_test_smurf.shape[0]):\n",
        "    testing_labels.append('Smurf-DDoS')\n",
        "    \n",
        "for k in range(0, test_ip.shape[0] + vert_flip_test_ip.shape[0] + hor_flip_test_ip.shape[0]):\n",
        "    testing_labels.append('IP-Sweep')\n",
        "    \n",
        "for l in range(0, test_port.shape[0] + vert_flip_test_port.shape[0] + hor_flip_test_port.shape[0]):\n",
        "    testing_labels.append('Port-Sweep')\n",
        "    \n",
        "for m in range(0, test_nmap.shape[0] + vert_flip_test_nmap.shape[0] + hor_flip_test_nmap.shape[0]):\n",
        "    testing_labels.append('Nmap-Sweep')"
      ],
      "execution_count": 9,
      "outputs": []
    },
    {
      "cell_type": "code",
      "metadata": {
        "id": "es43n7gZtaFn"
      },
      "source": [
        "## create the training and testing data labels\n",
        "## run this cell if using augmented data and not with rotated data\n",
        "\n",
        "training_labels = []\n",
        "## add the attack labels\n",
        "for i in range(0, train_attack.shape[0] + vert_flip_train_attack.shape[0] + hor_flip_train_attack.shape[0]):\n",
        "    training_labels.append('attack')\n",
        "\n",
        "## add the normal labels\n",
        "for j in range(train_attack.shape[0] + vert_flip_train_attack.shape[0] + hor_flip_train_attack.shape[0], train.shape[0]):\n",
        "    training_labels.append('normal')\n",
        "\n",
        "\n",
        "\n",
        "testing_labels = []\n",
        "## add the attack labels\n",
        "for k in range(0, test_attack.shape[0] + vert_flip_test_attack.shape[0] + hor_flip_test_attack.shape[0]):\n",
        "    testing_labels.append('attack')\n",
        "\n",
        "## add the normal labels\n",
        "for l in range(test_attack.shape[0] + vert_flip_test_attack.shape[0] + hor_flip_test_attack.shape[0], test.shape[0]):\n",
        "    testing_labels.append('normal')"
      ],
      "execution_count": null,
      "outputs": []
    },
    {
      "cell_type": "code",
      "metadata": {
        "colab": {
          "base_uri": "https://localhost:8080/"
        },
        "id": "XlYiHSgg6c-m",
        "outputId": "5ddd088a-e79e-4760-c07c-3c61263b37a6"
      },
      "source": [
        "## create the dataframe for labels, then OHE the column\n",
        "ytrain = pd.DataFrame(training_labels, columns = ['category'])\n",
        "ytest = pd.DataFrame(testing_labels, columns = ['category'])\n",
        "\n",
        "ytrain = pd.get_dummies(ytrain['category'])\n",
        "ytest = pd.get_dummies(ytest['category'])\n",
        "\n",
        "ytrain, ytest"
      ],
      "execution_count": 11,
      "outputs": [
        {
          "output_type": "execute_result",
          "data": {
            "text/plain": [
              "(      IP-Sweep  Nmap-Sweep  Normal  Port-Sweep  Smurf-DDoS\n",
              " 0            0           0       1           0           0\n",
              " 1            0           0       1           0           0\n",
              " 2            0           0       1           0           0\n",
              " 3            0           0       1           0           0\n",
              " 4            0           0       1           0           0\n",
              " ...        ...         ...     ...         ...         ...\n",
              " 9111         0           1       0           0           0\n",
              " 9112         0           1       0           0           0\n",
              " 9113         0           1       0           0           0\n",
              " 9114         0           1       0           0           0\n",
              " 9115         0           1       0           0           0\n",
              " \n",
              " [9116 rows x 5 columns],\n",
              "       IP-Sweep  Nmap-Sweep  Normal  Port-Sweep  Smurf-DDoS\n",
              " 0            0           0       1           0           0\n",
              " 1            0           0       1           0           0\n",
              " 2            0           0       1           0           0\n",
              " 3            0           0       1           0           0\n",
              " 4            0           0       1           0           0\n",
              " ...        ...         ...     ...         ...         ...\n",
              " 2276         0           1       0           0           0\n",
              " 2277         0           1       0           0           0\n",
              " 2278         0           1       0           0           0\n",
              " 2279         0           1       0           0           0\n",
              " 2280         0           1       0           0           0\n",
              " \n",
              " [2281 rows x 5 columns])"
            ]
          },
          "metadata": {
            "tags": []
          },
          "execution_count": 11
        }
      ]
    },
    {
      "cell_type": "code",
      "metadata": {
        "id": "u1sZwMF12Ijs",
        "outputId": "55ffbf7c-7d9c-44c1-cc06-ba71ce58db12",
        "colab": {
          "base_uri": "https://localhost:8080/",
          "height": 245
        }
      },
      "source": [
        "## standard scaler for the output labels\n",
        "x = train.drop(\"attack_type\", axis = 1)\n",
        "sc = StandardScaler()\n",
        "x = pd.DataFrame(sc.fit_transform(x))\n",
        "y = train[\"attack_type\"]\n",
        "\n",
        "y_cat = to_categorical(y)"
      ],
      "execution_count": 50,
      "outputs": [
        {
          "output_type": "error",
          "ename": "AttributeError",
          "evalue": "ignored",
          "traceback": [
            "\u001b[0;31m---------------------------------------------------------------------------\u001b[0m",
            "\u001b[0;31mAttributeError\u001b[0m                            Traceback (most recent call last)",
            "\u001b[0;32m<ipython-input-50-d17c5cf77676>\u001b[0m in \u001b[0;36m<module>\u001b[0;34m()\u001b[0m\n\u001b[1;32m      1\u001b[0m \u001b[0;31m## standard scaler for the output labels\u001b[0m\u001b[0;34m\u001b[0m\u001b[0;34m\u001b[0m\u001b[0;34m\u001b[0m\u001b[0m\n\u001b[0;32m----> 2\u001b[0;31m \u001b[0mx\u001b[0m \u001b[0;34m=\u001b[0m \u001b[0mtrain\u001b[0m\u001b[0;34m.\u001b[0m\u001b[0mdrop\u001b[0m\u001b[0;34m(\u001b[0m\u001b[0;34m\"attack_type\"\u001b[0m\u001b[0;34m,\u001b[0m \u001b[0maxis\u001b[0m \u001b[0;34m=\u001b[0m \u001b[0;36m1\u001b[0m\u001b[0;34m)\u001b[0m\u001b[0;34m\u001b[0m\u001b[0;34m\u001b[0m\u001b[0m\n\u001b[0m\u001b[1;32m      3\u001b[0m \u001b[0msc\u001b[0m \u001b[0;34m=\u001b[0m \u001b[0mStandardScaler\u001b[0m\u001b[0;34m(\u001b[0m\u001b[0;34m)\u001b[0m\u001b[0;34m\u001b[0m\u001b[0;34m\u001b[0m\u001b[0m\n\u001b[1;32m      4\u001b[0m \u001b[0mx\u001b[0m \u001b[0;34m=\u001b[0m \u001b[0mpd\u001b[0m\u001b[0;34m.\u001b[0m\u001b[0mDataFrame\u001b[0m\u001b[0;34m(\u001b[0m\u001b[0msc\u001b[0m\u001b[0;34m.\u001b[0m\u001b[0mfit_transform\u001b[0m\u001b[0;34m(\u001b[0m\u001b[0mx\u001b[0m\u001b[0;34m)\u001b[0m\u001b[0;34m)\u001b[0m\u001b[0;34m\u001b[0m\u001b[0;34m\u001b[0m\u001b[0m\n\u001b[1;32m      5\u001b[0m \u001b[0my\u001b[0m \u001b[0;34m=\u001b[0m \u001b[0mtrain\u001b[0m\u001b[0;34m[\u001b[0m\u001b[0;34m\"attack_type\"\u001b[0m\u001b[0;34m]\u001b[0m\u001b[0;34m\u001b[0m\u001b[0;34m\u001b[0m\u001b[0m\n",
            "\u001b[0;31mAttributeError\u001b[0m: 'numpy.ndarray' object has no attribute 'drop'"
          ]
        }
      ]
    },
    {
      "cell_type": "code",
      "metadata": {
        "id": "6WiwQuKq6c-m"
      },
      "source": [
        "## shuffle the data to prevent pattern recognition\n",
        "train, ytrain = sklearn.utils.shuffle(train, ytrain, random_state = 42)\n",
        "test, ytest = sklearn.utils.shuffle(test, ytest, random_state = 42)"
      ],
      "execution_count": 12,
      "outputs": []
    },
    {
      "cell_type": "code",
      "metadata": {
        "colab": {
          "base_uri": "https://localhost:8080/"
        },
        "id": "Yd9A1cXf6c-n",
        "outputId": "83ace52d-7ba7-4724-8060-7185252a489a"
      },
      "source": [
        "KERNEL_SIZE = [2,2]\n",
        "IMAGE_SIZE = [64,64,1]\n",
        "\n",
        "cnn = Sequential()\n",
        "\n",
        "## convolution 1\n",
        "cnn.add(Convolution2D(16, (KERNEL_SIZE), padding=\"same\", activation='relu', input_shape = (IMAGE_SIZE)))\n",
        "cnn.add(AveragePooling2D(pool_size = (2,2)))\n",
        "# cnn.add(Dropout(0.25))\n",
        "\n",
        "## convolution 2\n",
        "cnn.add(Convolution2D(32, (KERNEL_SIZE), padding=\"same\", activation='relu'))\n",
        "cnn.add(AveragePooling2D(pool_size = (2,2)))\n",
        "# cnn.add(Dropout(0.25))\n",
        "\n",
        "## convolution 3\n",
        "cnn.add(Convolution2D(64, (KERNEL_SIZE), padding=\"same\", activation='relu'))\n",
        "cnn.add(AveragePooling2D(pool_size = (2,2)))\n",
        "# cnn.add(Dropout(0.25))\n",
        "\n",
        "## convolution 4\n",
        "cnn.add(Convolution2D(128, (KERNEL_SIZE), padding=\"same\", activation='relu'))\n",
        "cnn.add(AveragePooling2D(pool_size = (2,2)))\n",
        "# cnn.add(Dropout(0.5))\n",
        "\n",
        "## convolution 5\n",
        "# cnn.add(Convolution2D(128, (KERNEL_SIZE), padding=\"same\", activation='relu'))\n",
        "# cnn.add(AveragePooling2D(pool_size = (2,2)))\n",
        "# # cnn.add(Dropout(0.5))\n",
        "\n",
        "# ## convolution 6\n",
        "# cnn.add(Convolution2D(128, (KERNEL_SIZE), padding=\"same\", activation='relu'))\n",
        "# cnn.add(AveragePooling2D(pool_size = (2,2)))\n",
        "# cnn.add(Dropout(0.5))\n",
        "\n",
        "cnn.add(Flatten())\n",
        "\n",
        "## dense\n",
        "# cnn.add(Dense(256, activation='relu'))\n",
        "cnn.add(Dense(128, activation='relu'))\n",
        "# cnn.add(Dense(64, activation='relu'))\n",
        "# cnn.add(Dense(256, activation='relu'))\n",
        "# cnn.add(Dropout(0.5))\n",
        "cnn.add(Dense(5, activation = 'softmax'))\n",
        "\n",
        "# callback = [EarlyStopping(monitor = 'accuracy', mode = 'max', patience = 2)]\n",
        "\n",
        "cnn.compile(optimizer = keras.optimizers.Adam(), loss = 'categorical_crossentropy',\n",
        "            metrics = ['accuracy'])\n",
        "\n",
        "\n",
        "cnn.summary()"
      ],
      "execution_count": 13,
      "outputs": [
        {
          "output_type": "stream",
          "text": [
            "Model: \"sequential\"\n",
            "_________________________________________________________________\n",
            "Layer (type)                 Output Shape              Param #   \n",
            "=================================================================\n",
            "conv2d (Conv2D)              (None, 64, 64, 16)        80        \n",
            "_________________________________________________________________\n",
            "average_pooling2d (AveragePo (None, 32, 32, 16)        0         \n",
            "_________________________________________________________________\n",
            "conv2d_1 (Conv2D)            (None, 32, 32, 32)        2080      \n",
            "_________________________________________________________________\n",
            "average_pooling2d_1 (Average (None, 16, 16, 32)        0         \n",
            "_________________________________________________________________\n",
            "conv2d_2 (Conv2D)            (None, 16, 16, 64)        8256      \n",
            "_________________________________________________________________\n",
            "average_pooling2d_2 (Average (None, 8, 8, 64)          0         \n",
            "_________________________________________________________________\n",
            "conv2d_3 (Conv2D)            (None, 8, 8, 128)         32896     \n",
            "_________________________________________________________________\n",
            "average_pooling2d_3 (Average (None, 4, 4, 128)         0         \n",
            "_________________________________________________________________\n",
            "flatten (Flatten)            (None, 2048)              0         \n",
            "_________________________________________________________________\n",
            "dense (Dense)                (None, 128)               262272    \n",
            "_________________________________________________________________\n",
            "dense_1 (Dense)              (None, 5)                 645       \n",
            "=================================================================\n",
            "Total params: 306,229\n",
            "Trainable params: 306,229\n",
            "Non-trainable params: 0\n",
            "_________________________________________________________________\n"
          ],
          "name": "stdout"
        }
      ]
    },
    {
      "cell_type": "code",
      "metadata": {
        "colab": {
          "base_uri": "https://localhost:8080/"
        },
        "id": "u__u_Y9j6c-o",
        "outputId": "09b9bd61-d8d2-475b-aaef-4f291f5d4eed"
      },
      "source": [
        "start = time.time()\n",
        "model_history = cnn.fit(train, ytrain, batch_size = 256, epochs = 250)\n",
        "end = time.time()\n",
        "\n",
        "# os.system(f'say \"training finished in {round(end - start, 2)} seconds\"')\n",
        "print(f'Training finished in {round(end - start, 2)}')"
      ],
      "execution_count": 14,
      "outputs": [
        {
          "output_type": "stream",
          "text": [
            "Epoch 1/250\n",
            "36/36 [==============================] - 33s 24ms/step - loss: 1.4432 - accuracy: 0.6207\n",
            "Epoch 2/250\n",
            "36/36 [==============================] - 1s 17ms/step - loss: 0.9045 - accuracy: 0.6579\n",
            "Epoch 3/250\n",
            "36/36 [==============================] - 1s 17ms/step - loss: 0.8917 - accuracy: 0.6654\n",
            "Epoch 4/250\n",
            "36/36 [==============================] - 1s 17ms/step - loss: 0.8791 - accuracy: 0.6700\n",
            "Epoch 5/250\n",
            "36/36 [==============================] - 1s 17ms/step - loss: 0.8695 - accuracy: 0.6753\n",
            "Epoch 6/250\n",
            "36/36 [==============================] - 1s 17ms/step - loss: 0.8554 - accuracy: 0.6857\n",
            "Epoch 7/250\n",
            "36/36 [==============================] - 1s 17ms/step - loss: 0.8463 - accuracy: 0.6919\n",
            "Epoch 8/250\n",
            "36/36 [==============================] - 1s 17ms/step - loss: 0.8353 - accuracy: 0.6992\n",
            "Epoch 9/250\n",
            "36/36 [==============================] - 1s 17ms/step - loss: 0.8303 - accuracy: 0.7007\n",
            "Epoch 10/250\n",
            "36/36 [==============================] - 1s 18ms/step - loss: 0.8193 - accuracy: 0.7055\n",
            "Epoch 11/250\n",
            "36/36 [==============================] - 1s 17ms/step - loss: 0.8095 - accuracy: 0.7115\n",
            "Epoch 12/250\n",
            "36/36 [==============================] - 1s 17ms/step - loss: 0.8018 - accuracy: 0.7156\n",
            "Epoch 13/250\n",
            "36/36 [==============================] - 1s 17ms/step - loss: 0.7911 - accuracy: 0.7208\n",
            "Epoch 14/250\n",
            "36/36 [==============================] - 1s 17ms/step - loss: 0.7748 - accuracy: 0.7276\n",
            "Epoch 15/250\n",
            "36/36 [==============================] - 1s 17ms/step - loss: 0.7668 - accuracy: 0.7289\n",
            "Epoch 16/250\n",
            "36/36 [==============================] - 1s 17ms/step - loss: 0.7609 - accuracy: 0.7321\n",
            "Epoch 17/250\n",
            "36/36 [==============================] - 1s 17ms/step - loss: 0.7519 - accuracy: 0.7360\n",
            "Epoch 18/250\n",
            "36/36 [==============================] - 1s 17ms/step - loss: 0.7549 - accuracy: 0.7372\n",
            "Epoch 19/250\n",
            "36/36 [==============================] - 1s 17ms/step - loss: 0.7513 - accuracy: 0.7357\n",
            "Epoch 20/250\n",
            "36/36 [==============================] - 1s 17ms/step - loss: 0.7321 - accuracy: 0.7435\n",
            "Epoch 21/250\n",
            "36/36 [==============================] - 1s 17ms/step - loss: 0.7272 - accuracy: 0.7454\n",
            "Epoch 22/250\n",
            "36/36 [==============================] - 1s 18ms/step - loss: 0.7293 - accuracy: 0.7470\n",
            "Epoch 23/250\n",
            "36/36 [==============================] - 1s 17ms/step - loss: 0.7228 - accuracy: 0.7485\n",
            "Epoch 24/250\n",
            "36/36 [==============================] - 1s 17ms/step - loss: 0.7126 - accuracy: 0.7534\n",
            "Epoch 25/250\n",
            "36/36 [==============================] - 1s 17ms/step - loss: 0.7116 - accuracy: 0.7529\n",
            "Epoch 26/250\n",
            "36/36 [==============================] - 1s 17ms/step - loss: 0.7079 - accuracy: 0.7544\n",
            "Epoch 27/250\n",
            "36/36 [==============================] - 1s 17ms/step - loss: 0.7064 - accuracy: 0.7554\n",
            "Epoch 28/250\n",
            "36/36 [==============================] - 1s 17ms/step - loss: 0.7031 - accuracy: 0.7559\n",
            "Epoch 29/250\n",
            "36/36 [==============================] - 1s 17ms/step - loss: 0.7016 - accuracy: 0.7558\n",
            "Epoch 30/250\n",
            "36/36 [==============================] - 1s 17ms/step - loss: 0.6972 - accuracy: 0.7555\n",
            "Epoch 31/250\n",
            "36/36 [==============================] - 1s 17ms/step - loss: 0.6931 - accuracy: 0.7598\n",
            "Epoch 32/250\n",
            "36/36 [==============================] - 1s 17ms/step - loss: 0.6949 - accuracy: 0.7589\n",
            "Epoch 33/250\n",
            "36/36 [==============================] - 1s 17ms/step - loss: 0.6869 - accuracy: 0.7606\n",
            "Epoch 34/250\n",
            "36/36 [==============================] - 1s 18ms/step - loss: 0.6861 - accuracy: 0.7623\n",
            "Epoch 35/250\n",
            "36/36 [==============================] - 1s 18ms/step - loss: 0.6832 - accuracy: 0.7632\n",
            "Epoch 36/250\n",
            "36/36 [==============================] - 1s 17ms/step - loss: 0.6826 - accuracy: 0.7626\n",
            "Epoch 37/250\n",
            "36/36 [==============================] - 1s 17ms/step - loss: 0.6788 - accuracy: 0.7636\n",
            "Epoch 38/250\n",
            "36/36 [==============================] - 1s 17ms/step - loss: 0.6818 - accuracy: 0.7639\n",
            "Epoch 39/250\n",
            "36/36 [==============================] - 1s 17ms/step - loss: 0.6729 - accuracy: 0.7668\n",
            "Epoch 40/250\n",
            "36/36 [==============================] - 1s 17ms/step - loss: 0.6766 - accuracy: 0.7640\n",
            "Epoch 41/250\n",
            "36/36 [==============================] - 1s 17ms/step - loss: 0.6812 - accuracy: 0.7614\n",
            "Epoch 42/250\n",
            "36/36 [==============================] - 1s 17ms/step - loss: 0.6661 - accuracy: 0.7701\n",
            "Epoch 43/250\n",
            "36/36 [==============================] - 1s 17ms/step - loss: 0.6640 - accuracy: 0.7688\n",
            "Epoch 44/250\n",
            "36/36 [==============================] - 1s 18ms/step - loss: 0.6707 - accuracy: 0.7672\n",
            "Epoch 45/250\n",
            "36/36 [==============================] - 1s 17ms/step - loss: 0.6611 - accuracy: 0.7716\n",
            "Epoch 46/250\n",
            "36/36 [==============================] - 1s 17ms/step - loss: 0.6597 - accuracy: 0.7713\n",
            "Epoch 47/250\n",
            "36/36 [==============================] - 1s 18ms/step - loss: 0.6578 - accuracy: 0.7716\n",
            "Epoch 48/250\n",
            "36/36 [==============================] - 1s 18ms/step - loss: 0.6507 - accuracy: 0.7760\n",
            "Epoch 49/250\n",
            "36/36 [==============================] - 1s 18ms/step - loss: 0.6494 - accuracy: 0.7756\n",
            "Epoch 50/250\n",
            "36/36 [==============================] - 1s 18ms/step - loss: 0.6489 - accuracy: 0.7763\n",
            "Epoch 51/250\n",
            "36/36 [==============================] - 1s 18ms/step - loss: 0.6437 - accuracy: 0.7778\n",
            "Epoch 52/250\n",
            "36/36 [==============================] - 1s 17ms/step - loss: 0.6439 - accuracy: 0.7791\n",
            "Epoch 53/250\n",
            "36/36 [==============================] - 1s 18ms/step - loss: 0.6434 - accuracy: 0.7789\n",
            "Epoch 54/250\n",
            "36/36 [==============================] - 1s 18ms/step - loss: 0.6406 - accuracy: 0.7797\n",
            "Epoch 55/250\n",
            "36/36 [==============================] - 1s 17ms/step - loss: 0.6420 - accuracy: 0.7784\n",
            "Epoch 56/250\n",
            "36/36 [==============================] - 1s 17ms/step - loss: 0.6375 - accuracy: 0.7813\n",
            "Epoch 57/250\n",
            "36/36 [==============================] - 1s 17ms/step - loss: 0.6387 - accuracy: 0.7815\n",
            "Epoch 58/250\n",
            "36/36 [==============================] - 1s 17ms/step - loss: 0.6487 - accuracy: 0.7790\n",
            "Epoch 59/250\n",
            "36/36 [==============================] - 1s 18ms/step - loss: 0.6500 - accuracy: 0.7761\n",
            "Epoch 60/250\n",
            "36/36 [==============================] - 1s 18ms/step - loss: 0.6528 - accuracy: 0.7757\n",
            "Epoch 61/250\n",
            "36/36 [==============================] - 1s 18ms/step - loss: 0.6423 - accuracy: 0.7796\n",
            "Epoch 62/250\n",
            "36/36 [==============================] - 1s 18ms/step - loss: 0.6389 - accuracy: 0.7813\n",
            "Epoch 63/250\n",
            "36/36 [==============================] - 1s 18ms/step - loss: 0.6435 - accuracy: 0.7825\n",
            "Epoch 64/250\n",
            "36/36 [==============================] - 1s 18ms/step - loss: 0.6371 - accuracy: 0.7823\n",
            "Epoch 65/250\n",
            "36/36 [==============================] - 1s 18ms/step - loss: 0.6344 - accuracy: 0.7823\n",
            "Epoch 66/250\n",
            "36/36 [==============================] - 1s 17ms/step - loss: 0.6266 - accuracy: 0.7861\n",
            "Epoch 67/250\n",
            "36/36 [==============================] - 1s 17ms/step - loss: 0.6282 - accuracy: 0.7844\n",
            "Epoch 68/250\n",
            "36/36 [==============================] - 1s 18ms/step - loss: 0.6307 - accuracy: 0.7852\n",
            "Epoch 69/250\n",
            "36/36 [==============================] - 1s 18ms/step - loss: 0.6258 - accuracy: 0.7873\n",
            "Epoch 70/250\n",
            "36/36 [==============================] - 1s 18ms/step - loss: 0.6232 - accuracy: 0.7882\n",
            "Epoch 71/250\n",
            "36/36 [==============================] - 1s 17ms/step - loss: 0.6287 - accuracy: 0.7847\n",
            "Epoch 72/250\n",
            "36/36 [==============================] - 1s 17ms/step - loss: 0.6292 - accuracy: 0.7844\n",
            "Epoch 73/250\n",
            "36/36 [==============================] - 1s 18ms/step - loss: 0.6229 - accuracy: 0.7886\n",
            "Epoch 74/250\n",
            "36/36 [==============================] - 1s 18ms/step - loss: 0.6218 - accuracy: 0.7878\n",
            "Epoch 75/250\n",
            "36/36 [==============================] - 1s 18ms/step - loss: 0.6210 - accuracy: 0.7880\n",
            "Epoch 76/250\n",
            "36/36 [==============================] - 1s 18ms/step - loss: 0.6232 - accuracy: 0.7882\n",
            "Epoch 77/250\n",
            "36/36 [==============================] - 1s 17ms/step - loss: 0.6223 - accuracy: 0.7891\n",
            "Epoch 78/250\n",
            "36/36 [==============================] - 1s 17ms/step - loss: 0.6186 - accuracy: 0.7895\n",
            "Epoch 79/250\n",
            "36/36 [==============================] - 1s 17ms/step - loss: 0.6193 - accuracy: 0.7896\n",
            "Epoch 80/250\n",
            "36/36 [==============================] - 1s 18ms/step - loss: 0.6175 - accuracy: 0.7893\n",
            "Epoch 81/250\n",
            "36/36 [==============================] - 1s 18ms/step - loss: 0.6191 - accuracy: 0.7895\n",
            "Epoch 82/250\n",
            "36/36 [==============================] - 1s 17ms/step - loss: 0.6192 - accuracy: 0.7893\n",
            "Epoch 83/250\n",
            "36/36 [==============================] - 1s 18ms/step - loss: 0.6176 - accuracy: 0.7901\n",
            "Epoch 84/250\n",
            "36/36 [==============================] - 1s 18ms/step - loss: 0.6181 - accuracy: 0.7898\n",
            "Epoch 85/250\n",
            "36/36 [==============================] - 1s 18ms/step - loss: 0.6189 - accuracy: 0.7891\n",
            "Epoch 86/250\n",
            "36/36 [==============================] - 1s 18ms/step - loss: 0.6192 - accuracy: 0.7887\n",
            "Epoch 87/250\n",
            "36/36 [==============================] - 1s 18ms/step - loss: 0.6202 - accuracy: 0.7891\n",
            "Epoch 88/250\n",
            "36/36 [==============================] - 1s 18ms/step - loss: 0.6220 - accuracy: 0.7875\n",
            "Epoch 89/250\n",
            "36/36 [==============================] - 1s 17ms/step - loss: 0.6211 - accuracy: 0.7881\n",
            "Epoch 90/250\n",
            "36/36 [==============================] - 1s 18ms/step - loss: 0.6197 - accuracy: 0.7889\n",
            "Epoch 91/250\n",
            "36/36 [==============================] - 1s 18ms/step - loss: 0.6176 - accuracy: 0.7903\n",
            "Epoch 92/250\n",
            "36/36 [==============================] - 1s 18ms/step - loss: 0.6177 - accuracy: 0.7893\n",
            "Epoch 93/250\n",
            "36/36 [==============================] - 1s 18ms/step - loss: 0.6171 - accuracy: 0.7899\n",
            "Epoch 94/250\n",
            "36/36 [==============================] - 1s 18ms/step - loss: 0.6174 - accuracy: 0.7900\n",
            "Epoch 95/250\n",
            "36/36 [==============================] - 1s 18ms/step - loss: 0.6159 - accuracy: 0.7907\n",
            "Epoch 96/250\n",
            "36/36 [==============================] - 1s 18ms/step - loss: 0.6156 - accuracy: 0.7895\n",
            "Epoch 97/250\n",
            "36/36 [==============================] - 1s 18ms/step - loss: 0.6172 - accuracy: 0.7896\n",
            "Epoch 98/250\n",
            "36/36 [==============================] - 1s 18ms/step - loss: 0.6184 - accuracy: 0.7889\n",
            "Epoch 99/250\n",
            "36/36 [==============================] - 1s 18ms/step - loss: 0.6199 - accuracy: 0.7889\n",
            "Epoch 100/250\n",
            "36/36 [==============================] - 1s 18ms/step - loss: 0.6199 - accuracy: 0.7888\n",
            "Epoch 101/250\n",
            "36/36 [==============================] - 1s 18ms/step - loss: 0.6210 - accuracy: 0.7889\n",
            "Epoch 102/250\n",
            "36/36 [==============================] - 1s 18ms/step - loss: 0.6303 - accuracy: 0.7865\n",
            "Epoch 103/250\n",
            "36/36 [==============================] - 1s 18ms/step - loss: 0.6421 - accuracy: 0.7825\n",
            "Epoch 104/250\n",
            "36/36 [==============================] - 1s 17ms/step - loss: 0.6366 - accuracy: 0.7840\n",
            "Epoch 105/250\n",
            "36/36 [==============================] - 1s 18ms/step - loss: 0.6254 - accuracy: 0.7870\n",
            "Epoch 106/250\n",
            "36/36 [==============================] - 1s 18ms/step - loss: 0.6197 - accuracy: 0.7893\n",
            "Epoch 107/250\n",
            "36/36 [==============================] - 1s 18ms/step - loss: 0.6192 - accuracy: 0.7896\n",
            "Epoch 108/250\n",
            "36/36 [==============================] - 1s 17ms/step - loss: 0.6188 - accuracy: 0.7895\n",
            "Epoch 109/250\n",
            "36/36 [==============================] - 1s 18ms/step - loss: 0.6169 - accuracy: 0.7905\n",
            "Epoch 110/250\n",
            "36/36 [==============================] - 1s 18ms/step - loss: 0.6151 - accuracy: 0.7903\n",
            "Epoch 111/250\n",
            "36/36 [==============================] - 1s 18ms/step - loss: 0.6159 - accuracy: 0.7901\n",
            "Epoch 112/250\n",
            "36/36 [==============================] - 1s 18ms/step - loss: 0.6149 - accuracy: 0.7904\n",
            "Epoch 113/250\n",
            "36/36 [==============================] - 1s 18ms/step - loss: 0.6147 - accuracy: 0.7905\n",
            "Epoch 114/250\n",
            "36/36 [==============================] - 1s 18ms/step - loss: 0.6150 - accuracy: 0.7908\n",
            "Epoch 115/250\n",
            "36/36 [==============================] - 1s 18ms/step - loss: 0.6154 - accuracy: 0.7907\n",
            "Epoch 116/250\n",
            "36/36 [==============================] - 1s 18ms/step - loss: 0.6162 - accuracy: 0.7904\n",
            "Epoch 117/250\n",
            "36/36 [==============================] - 1s 18ms/step - loss: 0.6158 - accuracy: 0.7899\n",
            "Epoch 118/250\n",
            "36/36 [==============================] - 1s 18ms/step - loss: 0.6151 - accuracy: 0.7903\n",
            "Epoch 119/250\n",
            "36/36 [==============================] - 1s 18ms/step - loss: 0.6142 - accuracy: 0.7907\n",
            "Epoch 120/250\n",
            "36/36 [==============================] - 1s 18ms/step - loss: 0.6142 - accuracy: 0.7905\n",
            "Epoch 121/250\n",
            "36/36 [==============================] - 1s 18ms/step - loss: 0.6142 - accuracy: 0.7905\n",
            "Epoch 122/250\n",
            "36/36 [==============================] - 1s 18ms/step - loss: 0.6143 - accuracy: 0.7903\n",
            "Epoch 123/250\n",
            "36/36 [==============================] - 1s 17ms/step - loss: 0.6131 - accuracy: 0.7906\n",
            "Epoch 124/250\n",
            "36/36 [==============================] - 1s 17ms/step - loss: 0.6142 - accuracy: 0.7906\n",
            "Epoch 125/250\n",
            "36/36 [==============================] - 1s 18ms/step - loss: 0.6138 - accuracy: 0.7908\n",
            "Epoch 126/250\n",
            "36/36 [==============================] - 1s 18ms/step - loss: 0.6164 - accuracy: 0.7907\n",
            "Epoch 127/250\n",
            "36/36 [==============================] - 1s 17ms/step - loss: 0.6142 - accuracy: 0.7899\n",
            "Epoch 128/250\n",
            "36/36 [==============================] - 1s 18ms/step - loss: 0.6140 - accuracy: 0.7901\n",
            "Epoch 129/250\n",
            "36/36 [==============================] - 1s 18ms/step - loss: 0.6132 - accuracy: 0.7909\n",
            "Epoch 130/250\n",
            "36/36 [==============================] - 1s 18ms/step - loss: 0.6146 - accuracy: 0.7904\n",
            "Epoch 131/250\n",
            "36/36 [==============================] - 1s 18ms/step - loss: 0.6145 - accuracy: 0.7908\n",
            "Epoch 132/250\n",
            "36/36 [==============================] - 1s 18ms/step - loss: 0.6132 - accuracy: 0.7900\n",
            "Epoch 133/250\n",
            "36/36 [==============================] - 1s 18ms/step - loss: 0.6137 - accuracy: 0.7907\n",
            "Epoch 134/250\n",
            "36/36 [==============================] - 1s 18ms/step - loss: 0.6138 - accuracy: 0.7906\n",
            "Epoch 135/250\n",
            "36/36 [==============================] - 1s 18ms/step - loss: 0.6143 - accuracy: 0.7908\n",
            "Epoch 136/250\n",
            "36/36 [==============================] - 1s 18ms/step - loss: 0.6138 - accuracy: 0.7906\n",
            "Epoch 137/250\n",
            "36/36 [==============================] - 1s 18ms/step - loss: 0.6135 - accuracy: 0.7906\n",
            "Epoch 138/250\n",
            "36/36 [==============================] - 1s 18ms/step - loss: 0.6130 - accuracy: 0.7907\n",
            "Epoch 139/250\n",
            "36/36 [==============================] - 1s 18ms/step - loss: 0.6145 - accuracy: 0.7909\n",
            "Epoch 140/250\n",
            "36/36 [==============================] - 1s 18ms/step - loss: 0.6144 - accuracy: 0.7903\n",
            "Epoch 141/250\n",
            "36/36 [==============================] - 1s 18ms/step - loss: 0.6151 - accuracy: 0.7911\n",
            "Epoch 142/250\n",
            "36/36 [==============================] - 1s 18ms/step - loss: 0.6127 - accuracy: 0.7908\n",
            "Epoch 143/250\n",
            "36/36 [==============================] - 1s 18ms/step - loss: 0.6132 - accuracy: 0.7911\n",
            "Epoch 144/250\n",
            "36/36 [==============================] - 1s 18ms/step - loss: 0.6136 - accuracy: 0.7906\n",
            "Epoch 145/250\n",
            "36/36 [==============================] - 1s 18ms/step - loss: 0.6213 - accuracy: 0.7891\n",
            "Epoch 146/250\n",
            "36/36 [==============================] - 1s 18ms/step - loss: 0.7059 - accuracy: 0.7613\n",
            "Epoch 147/250\n",
            "36/36 [==============================] - 1s 18ms/step - loss: 0.6719 - accuracy: 0.7695\n",
            "Epoch 148/250\n",
            "36/36 [==============================] - 1s 18ms/step - loss: 0.6309 - accuracy: 0.7854\n",
            "Epoch 149/250\n",
            "36/36 [==============================] - 1s 18ms/step - loss: 0.6194 - accuracy: 0.7892\n",
            "Epoch 150/250\n",
            "36/36 [==============================] - 1s 18ms/step - loss: 0.6184 - accuracy: 0.7895\n",
            "Epoch 151/250\n",
            "36/36 [==============================] - 1s 18ms/step - loss: 0.6323 - accuracy: 0.7847\n",
            "Epoch 152/250\n",
            "36/36 [==============================] - 1s 18ms/step - loss: 0.6227 - accuracy: 0.7882\n",
            "Epoch 153/250\n",
            "36/36 [==============================] - 1s 18ms/step - loss: 0.6159 - accuracy: 0.7901\n",
            "Epoch 154/250\n",
            "36/36 [==============================] - 1s 18ms/step - loss: 0.6144 - accuracy: 0.7906\n",
            "Epoch 155/250\n",
            "36/36 [==============================] - 1s 18ms/step - loss: 0.6136 - accuracy: 0.7907\n",
            "Epoch 156/250\n",
            "36/36 [==============================] - 1s 18ms/step - loss: 0.6134 - accuracy: 0.7906\n",
            "Epoch 157/250\n",
            "36/36 [==============================] - 1s 18ms/step - loss: 0.6128 - accuracy: 0.7908\n",
            "Epoch 158/250\n",
            "36/36 [==============================] - 1s 18ms/step - loss: 0.6133 - accuracy: 0.7901\n",
            "Epoch 159/250\n",
            "36/36 [==============================] - 1s 18ms/step - loss: 0.6141 - accuracy: 0.7908\n",
            "Epoch 160/250\n",
            "36/36 [==============================] - 1s 18ms/step - loss: 0.6120 - accuracy: 0.7910\n",
            "Epoch 161/250\n",
            "36/36 [==============================] - 1s 18ms/step - loss: 0.6132 - accuracy: 0.7909\n",
            "Epoch 162/250\n",
            "36/36 [==============================] - 1s 18ms/step - loss: 0.6126 - accuracy: 0.7912\n",
            "Epoch 163/250\n",
            "36/36 [==============================] - 1s 18ms/step - loss: 0.6136 - accuracy: 0.7909\n",
            "Epoch 164/250\n",
            "36/36 [==============================] - 1s 19ms/step - loss: 0.6135 - accuracy: 0.7908\n",
            "Epoch 165/250\n",
            "36/36 [==============================] - 1s 18ms/step - loss: 0.6126 - accuracy: 0.7905\n",
            "Epoch 166/250\n",
            "36/36 [==============================] - 1s 18ms/step - loss: 0.6125 - accuracy: 0.7908\n",
            "Epoch 167/250\n",
            "36/36 [==============================] - 1s 18ms/step - loss: 0.6144 - accuracy: 0.7906\n",
            "Epoch 168/250\n",
            "36/36 [==============================] - 1s 19ms/step - loss: 0.6129 - accuracy: 0.7909\n",
            "Epoch 169/250\n",
            "36/36 [==============================] - 1s 18ms/step - loss: 0.6123 - accuracy: 0.7907\n",
            "Epoch 170/250\n",
            "36/36 [==============================] - 1s 19ms/step - loss: 0.6124 - accuracy: 0.7907\n",
            "Epoch 171/250\n",
            "36/36 [==============================] - 1s 18ms/step - loss: 0.6122 - accuracy: 0.7909\n",
            "Epoch 172/250\n",
            "36/36 [==============================] - 1s 18ms/step - loss: 0.6119 - accuracy: 0.7910\n",
            "Epoch 173/250\n",
            "36/36 [==============================] - 1s 18ms/step - loss: 0.6118 - accuracy: 0.7912\n",
            "Epoch 174/250\n",
            "36/36 [==============================] - 1s 18ms/step - loss: 0.6122 - accuracy: 0.7907\n",
            "Epoch 175/250\n",
            "36/36 [==============================] - 1s 18ms/step - loss: 0.6130 - accuracy: 0.7906\n",
            "Epoch 176/250\n",
            "36/36 [==============================] - 1s 18ms/step - loss: 0.6135 - accuracy: 0.7911\n",
            "Epoch 177/250\n",
            "36/36 [==============================] - 1s 19ms/step - loss: 0.6130 - accuracy: 0.7905\n",
            "Epoch 178/250\n",
            "36/36 [==============================] - 1s 18ms/step - loss: 0.6126 - accuracy: 0.7904\n",
            "Epoch 179/250\n",
            "36/36 [==============================] - 1s 18ms/step - loss: 0.6122 - accuracy: 0.7910\n",
            "Epoch 180/250\n",
            "36/36 [==============================] - 1s 18ms/step - loss: 0.6119 - accuracy: 0.7909\n",
            "Epoch 181/250\n",
            "36/36 [==============================] - 1s 18ms/step - loss: 0.6118 - accuracy: 0.7910\n",
            "Epoch 182/250\n",
            "36/36 [==============================] - 1s 18ms/step - loss: 0.6122 - accuracy: 0.7912\n",
            "Epoch 183/250\n",
            "36/36 [==============================] - 1s 18ms/step - loss: 0.6124 - accuracy: 0.7907\n",
            "Epoch 184/250\n",
            "36/36 [==============================] - 1s 18ms/step - loss: 0.6128 - accuracy: 0.7914\n",
            "Epoch 185/250\n",
            "36/36 [==============================] - 1s 19ms/step - loss: 0.6112 - accuracy: 0.7910\n",
            "Epoch 186/250\n",
            "36/36 [==============================] - 1s 18ms/step - loss: 0.6115 - accuracy: 0.7910\n",
            "Epoch 187/250\n",
            "36/36 [==============================] - 1s 18ms/step - loss: 0.6125 - accuracy: 0.7910\n",
            "Epoch 188/250\n",
            "36/36 [==============================] - 1s 19ms/step - loss: 0.6123 - accuracy: 0.7911\n",
            "Epoch 189/250\n",
            "36/36 [==============================] - 1s 18ms/step - loss: 0.6119 - accuracy: 0.7910\n",
            "Epoch 190/250\n",
            "36/36 [==============================] - 1s 19ms/step - loss: 0.6121 - accuracy: 0.7909\n",
            "Epoch 191/250\n",
            "36/36 [==============================] - 1s 18ms/step - loss: 0.6121 - accuracy: 0.7907\n",
            "Epoch 192/250\n",
            "36/36 [==============================] - 1s 18ms/step - loss: 0.6116 - accuracy: 0.7910\n",
            "Epoch 193/250\n",
            "36/36 [==============================] - 1s 18ms/step - loss: 0.6124 - accuracy: 0.7911\n",
            "Epoch 194/250\n",
            "36/36 [==============================] - 1s 18ms/step - loss: 0.6119 - accuracy: 0.7907\n",
            "Epoch 195/250\n",
            "36/36 [==============================] - 1s 18ms/step - loss: 0.6135 - accuracy: 0.7906\n",
            "Epoch 196/250\n",
            "36/36 [==============================] - 1s 18ms/step - loss: 0.6200 - accuracy: 0.7888\n",
            "Epoch 197/250\n",
            "36/36 [==============================] - 1s 19ms/step - loss: 0.6299 - accuracy: 0.7859\n",
            "Epoch 198/250\n",
            "36/36 [==============================] - 1s 18ms/step - loss: 0.6272 - accuracy: 0.7857\n",
            "Epoch 199/250\n",
            "36/36 [==============================] - 1s 18ms/step - loss: 0.6251 - accuracy: 0.7862\n",
            "Epoch 200/250\n",
            "36/36 [==============================] - 1s 18ms/step - loss: 0.6201 - accuracy: 0.7891\n",
            "Epoch 201/250\n",
            "36/36 [==============================] - 1s 18ms/step - loss: 0.6203 - accuracy: 0.7885\n",
            "Epoch 202/250\n",
            "36/36 [==============================] - 1s 19ms/step - loss: 0.6203 - accuracy: 0.7884\n",
            "Epoch 203/250\n",
            "36/36 [==============================] - 1s 18ms/step - loss: 0.6168 - accuracy: 0.7907\n",
            "Epoch 204/250\n",
            "36/36 [==============================] - 1s 19ms/step - loss: 0.6135 - accuracy: 0.7907\n",
            "Epoch 205/250\n",
            "36/36 [==============================] - 1s 18ms/step - loss: 0.6118 - accuracy: 0.7909\n",
            "Epoch 206/250\n",
            "36/36 [==============================] - 1s 18ms/step - loss: 0.6120 - accuracy: 0.7908\n",
            "Epoch 207/250\n",
            "36/36 [==============================] - 1s 18ms/step - loss: 0.6126 - accuracy: 0.7909\n",
            "Epoch 208/250\n",
            "36/36 [==============================] - 1s 18ms/step - loss: 0.6122 - accuracy: 0.7907\n",
            "Epoch 209/250\n",
            "36/36 [==============================] - 1s 18ms/step - loss: 0.6114 - accuracy: 0.7909\n",
            "Epoch 210/250\n",
            "36/36 [==============================] - 1s 18ms/step - loss: 0.6114 - accuracy: 0.7909\n",
            "Epoch 211/250\n",
            "36/36 [==============================] - 1s 18ms/step - loss: 0.6112 - accuracy: 0.7912\n",
            "Epoch 212/250\n",
            "36/36 [==============================] - 1s 18ms/step - loss: 0.6115 - accuracy: 0.7912\n",
            "Epoch 213/250\n",
            "36/36 [==============================] - 1s 18ms/step - loss: 0.6114 - accuracy: 0.7911\n",
            "Epoch 214/250\n",
            "36/36 [==============================] - 1s 18ms/step - loss: 0.6109 - accuracy: 0.7910\n",
            "Epoch 215/250\n",
            "36/36 [==============================] - 1s 19ms/step - loss: 0.6116 - accuracy: 0.7911\n",
            "Epoch 216/250\n",
            "36/36 [==============================] - 1s 18ms/step - loss: 0.6105 - accuracy: 0.7914\n",
            "Epoch 217/250\n",
            "36/36 [==============================] - 1s 18ms/step - loss: 0.6113 - accuracy: 0.7910\n",
            "Epoch 218/250\n",
            "36/36 [==============================] - 1s 18ms/step - loss: 0.6116 - accuracy: 0.7911\n",
            "Epoch 219/250\n",
            "36/36 [==============================] - 1s 18ms/step - loss: 0.6110 - accuracy: 0.7916\n",
            "Epoch 220/250\n",
            "36/36 [==============================] - 1s 18ms/step - loss: 0.6122 - accuracy: 0.7906\n",
            "Epoch 221/250\n",
            "36/36 [==============================] - 1s 18ms/step - loss: 0.6117 - accuracy: 0.7909\n",
            "Epoch 222/250\n",
            "36/36 [==============================] - 1s 18ms/step - loss: 0.6107 - accuracy: 0.7907\n",
            "Epoch 223/250\n",
            "36/36 [==============================] - 1s 18ms/step - loss: 0.6107 - accuracy: 0.7910\n",
            "Epoch 224/250\n",
            "36/36 [==============================] - 1s 19ms/step - loss: 0.6110 - accuracy: 0.7910\n",
            "Epoch 225/250\n",
            "36/36 [==============================] - 1s 18ms/step - loss: 0.6115 - accuracy: 0.7911\n",
            "Epoch 226/250\n",
            "36/36 [==============================] - 1s 18ms/step - loss: 0.6110 - accuracy: 0.7909\n",
            "Epoch 227/250\n",
            "36/36 [==============================] - 1s 18ms/step - loss: 0.6106 - accuracy: 0.7911\n",
            "Epoch 228/250\n",
            "36/36 [==============================] - 1s 18ms/step - loss: 0.6113 - accuracy: 0.7914\n",
            "Epoch 229/250\n",
            "36/36 [==============================] - 1s 18ms/step - loss: 0.6122 - accuracy: 0.7911\n",
            "Epoch 230/250\n",
            "36/36 [==============================] - 1s 18ms/step - loss: 0.6107 - accuracy: 0.7909\n",
            "Epoch 231/250\n",
            "36/36 [==============================] - 1s 19ms/step - loss: 0.6114 - accuracy: 0.7907\n",
            "Epoch 232/250\n",
            "36/36 [==============================] - 1s 18ms/step - loss: 0.6106 - accuracy: 0.7906\n",
            "Epoch 233/250\n",
            "36/36 [==============================] - 1s 18ms/step - loss: 0.6108 - accuracy: 0.7912\n",
            "Epoch 234/250\n",
            "36/36 [==============================] - 1s 18ms/step - loss: 0.6110 - accuracy: 0.7907\n",
            "Epoch 235/250\n",
            "36/36 [==============================] - 1s 18ms/step - loss: 0.6106 - accuracy: 0.7911\n",
            "Epoch 236/250\n",
            "36/36 [==============================] - 1s 18ms/step - loss: 0.6105 - accuracy: 0.7911\n",
            "Epoch 237/250\n",
            "36/36 [==============================] - 1s 18ms/step - loss: 0.6112 - accuracy: 0.7908\n",
            "Epoch 238/250\n",
            "36/36 [==============================] - 1s 19ms/step - loss: 0.6110 - accuracy: 0.7910\n",
            "Epoch 239/250\n",
            "36/36 [==============================] - 1s 18ms/step - loss: 0.6115 - accuracy: 0.7908\n",
            "Epoch 240/250\n",
            "36/36 [==============================] - 1s 18ms/step - loss: 0.6106 - accuracy: 0.7909\n",
            "Epoch 241/250\n",
            "36/36 [==============================] - 1s 18ms/step - loss: 0.6115 - accuracy: 0.7907\n",
            "Epoch 242/250\n",
            "36/36 [==============================] - 1s 18ms/step - loss: 0.6109 - accuracy: 0.7911\n",
            "Epoch 243/250\n",
            "36/36 [==============================] - 1s 18ms/step - loss: 0.6116 - accuracy: 0.7912\n",
            "Epoch 244/250\n",
            "36/36 [==============================] - 1s 18ms/step - loss: 0.6119 - accuracy: 0.7910\n",
            "Epoch 245/250\n",
            "36/36 [==============================] - 1s 19ms/step - loss: 0.6107 - accuracy: 0.7910\n",
            "Epoch 246/250\n",
            "36/36 [==============================] - 1s 18ms/step - loss: 0.6107 - accuracy: 0.7910\n",
            "Epoch 247/250\n",
            "36/36 [==============================] - 1s 18ms/step - loss: 0.6117 - accuracy: 0.7909\n",
            "Epoch 248/250\n",
            "36/36 [==============================] - 1s 18ms/step - loss: 0.6113 - accuracy: 0.7910\n",
            "Epoch 249/250\n",
            "36/36 [==============================] - 1s 19ms/step - loss: 0.6110 - accuracy: 0.7907\n",
            "Epoch 250/250\n",
            "36/36 [==============================] - 1s 18ms/step - loss: 0.6108 - accuracy: 0.7912\n",
            "Training finished in 194.71\n"
          ],
          "name": "stdout"
        }
      ]
    },
    {
      "cell_type": "code",
      "metadata": {
        "colab": {
          "base_uri": "https://localhost:8080/",
          "height": 824
        },
        "id": "rnKo0j5N6c-o",
        "outputId": "fb88b32d-335a-4a74-d0ad-bf2d2b2b0129"
      },
      "source": [
        "# print(model_history.history.keys())\n",
        "fig, axes = plt.subplots(nrows=1, ncols=2, figsize=(50,12))\n",
        "fig.suptitle('Training Accuracy and Loss Scores', fontsize = 24)\n",
        "\n",
        "axes[0].plot(model_history.history['accuracy'])\n",
        "axes[0].set_title('Accuracy', fontsize = 18)\n",
        "axes[0].set_ylabel('Accuracy', fontsize = 16)\n",
        "axes[0].set_xlabel('Epochs', fontsize = 16)\n",
        "axes[0].set_xticks(np.arange(0, 260, step = 10))\n",
        "axes[0].grid(axis = 'x')\n",
        "axes[0].legend(['Train', 'Test'], loc = 'best', fontsize = 18)\n",
        "\n",
        "axes[1].plot(model_history.history['loss'])\n",
        "axes[1].set_title('Loss', fontsize = 18)\n",
        "axes[1].set_ylabel('Loss', fontsize = 16)\n",
        "axes[1].set_xlabel('Epochs', fontsize = 16)\n",
        "axes[1].set_xticks(np.arange(0, 260, step = 10))\n",
        "axes[1].grid(axis = 'x')\n",
        "axes[1].legend(['Train', 'Test'], loc = 'best', fontsize = 18)"
      ],
      "execution_count": 16,
      "outputs": [
        {
          "output_type": "execute_result",
          "data": {
            "text/plain": [
              "<matplotlib.legend.Legend at 0x7f5b3c1a3310>"
            ]
          },
          "metadata": {
            "tags": []
          },
          "execution_count": 16
        },
        {
          "output_type": "display_data",
          "data": {
            "image/png": "[encoded data removed]",
            "text/plain": [
              "<Figure size 3600x864 with 2 Axes>"
            ]
          },
          "metadata": {
            "tags": [],
            "needs_background": "light"
          }
        }
      ]
    },
    {
      "cell_type": "code",
      "metadata": {
        "colab": {
          "base_uri": "https://localhost:8080/"
        },
        "id": "vFd8485B6c-p",
        "outputId": "0e85ed12-4616-46d4-eff0-28805a9f9b26"
      },
      "source": [
        "loss, acc = cnn.evaluate(test, ytest, batch_size = 256, verbose = 0)\n",
        "print(f'Loss = {round(loss, 4)}\\tAccuracy = {round(acc, 4)*100}%')"
      ],
      "execution_count": 17,
      "outputs": [
        {
          "output_type": "stream",
          "text": [
            "Loss = 1.7507\tAccuracy = 65.45%\n"
          ],
          "name": "stdout"
        }
      ]
    },
    {
      "cell_type": "code",
      "metadata": {
        "colab": {
          "base_uri": "https://localhost:8080/"
        },
        "id": "1vYQq61n6c-p",
        "outputId": "b7ddcead-fa60-4047-ccb0-d8ad418255bf"
      },
      "source": [
        "preds = cnn.predict(test)\n",
        "y_preds = np.argmax(preds, axis = 1)\n",
        "\n",
        "print('\\tIP\\tNmap\\tNormal\\tPort\\tSmurf\\n')\n",
        "preds[:20]"
      ],
      "execution_count": 18,
      "outputs": [
        {
          "output_type": "stream",
          "text": [
            "\tIP\tNmap\tNormal\tPort\tSmurf\n",
            "\n"
          ],
          "name": "stdout"
        },
        {
          "output_type": "execute_result",
          "data": {
            "text/plain": [
              "array([[0.68772, 0.00336, 0.13488, 0.15889, 0.01515],\n",
              "       [0.68772, 0.00336, 0.13488, 0.15889, 0.01515],\n",
              "       [0.68772, 0.00336, 0.13488, 0.15889, 0.01515],\n",
              "       [0.68772, 0.00336, 0.13488, 0.15889, 0.01515],\n",
              "       [0.00236, 0.     , 0.02865, 0.96898, 0.     ],\n",
              "       [0.68772, 0.00336, 0.13488, 0.15889, 0.01515],\n",
              "       [0.00057, 0.00002, 0.94963, 0.04978, 0.     ],\n",
              "       [0.68772, 0.00336, 0.13488, 0.15889, 0.01515],\n",
              "       [0.68772, 0.00336, 0.13488, 0.15889, 0.01515],\n",
              "       [0.68772, 0.00336, 0.13488, 0.15889, 0.01515],\n",
              "       [0.68772, 0.00336, 0.13488, 0.15889, 0.01515],\n",
              "       [0.68772, 0.00336, 0.13488, 0.15889, 0.01515],\n",
              "       [0.68772, 0.00336, 0.13488, 0.15889, 0.01515],\n",
              "       [0.68772, 0.00336, 0.13488, 0.15889, 0.01515],\n",
              "       [0.8406 , 0.     , 0.15938, 0.00002, 0.     ],\n",
              "       [0.68772, 0.00336, 0.13488, 0.15889, 0.01515],\n",
              "       [0.68772, 0.00336, 0.13488, 0.15889, 0.01515],\n",
              "       [0.78513, 0.     , 0.21486, 0.00001, 0.     ],\n",
              "       [0.68772, 0.00336, 0.13488, 0.15889, 0.01515],\n",
              "       [0.68772, 0.00336, 0.13488, 0.15889, 0.01515]], dtype=float32)"
            ]
          },
          "metadata": {
            "tags": []
          },
          "execution_count": 18
        }
      ]
    },
    {
      "cell_type": "code",
      "metadata": {
        "id": "KNgHOMVP6c-p"
      },
      "source": [
        "def build_classifier():\n",
        "    \n",
        "    cnn = Sequential()\n",
        "\n",
        "    ## convolution 1\n",
        "    cnn.add(Convolution2D(16, (KERNEL_SIZE), padding=\"same\", activation='relu', input_shape = (IMAGE_SIZE)))\n",
        "    cnn.add(AveragePooling2D(pool_size = (2,2)))\n",
        "    # cnn.add(Dropout(0.5))\n",
        "\n",
        "    ## convolution 2\n",
        "    cnn.add(Convolution2D(32, (KERNEL_SIZE), padding=\"same\", activation='relu'))\n",
        "    cnn.add(AveragePooling2D(pool_size = (2,2)))\n",
        "    # cnn.add(Dropout(0.5))\n",
        "\n",
        "    ## convolution 3\n",
        "    cnn.add(Convolution2D(64, (KERNEL_SIZE), padding=\"same\", activation='relu'))\n",
        "    cnn.add(AveragePooling2D(pool_size = (2,2)))\n",
        "    # cnn.add(Dropout(0.5))\n",
        "\n",
        "    ## convolution 4\n",
        "    cnn.add(Convolution2D(128, (KERNEL_SIZE), padding=\"same\", activation='relu'))\n",
        "    cnn.add(AveragePooling2D(pool_size = (2,2)))\n",
        "    # # cnn.add(Dropout(0.5))\n",
        "\n",
        "    ## convolution 5\n",
        "    # cnn.add(Convolution2D(128, (KERNEL_SIZE), padding=\"same\", activation='relu'))\n",
        "    # cnn.add(AveragePooling2D(pool_size = (2,2)))\n",
        "    # # # cnn.add(Dropout(0.5))\n",
        "\n",
        "    # ## convolution 6\n",
        "    # cnn.add(Convolution2D(128, (KERNEL_SIZE), padding=\"same\", activation='relu'))\n",
        "    # cnn.add(AveragePooling2D(pool_size = (2,2)))\n",
        "    # # cnn.add(Dropout(0.5))\n",
        "\n",
        "    cnn.add(Flatten())\n",
        "\n",
        "    ## dense\n",
        "    # cnn.add(Dense(256, activation='relu'))\n",
        "    cnn.add(Dense(128, activation='relu'))\n",
        "    # cnn.add(Dense(64, activation='relu'))\n",
        "    # cnn.add(Dense(32, activation='relu'))\n",
        "    # cnn.add(Dropout(0.5))\n",
        "    cnn.add(Dense(5, activation = 'softmax'))\n",
        "\n",
        "    # callback = [EarlyStopping(monitor = 'accuracy', mode = 'max', patience = 2)]\n",
        "\n",
        "    cnn.compile(optimizer = keras.optimizers.Adam(), loss = 'categorical_crossentropy',\n",
        "                metrics = ['accuracy'])\n",
        "    \n",
        "    return cnn\n",
        "\n",
        "classifier = KerasClassifier(build_fn = build_classifier, batch_size = 256, epochs = 300)"
      ],
      "execution_count": 19,
      "outputs": []
    },
    {
      "cell_type": "code",
      "metadata": {
        "colab": {
          "base_uri": "https://localhost:8080/",
          "height": 245
        },
        "id": "lvz7BRwK6c-p",
        "outputId": "0f802540-2f10-43cb-c2d7-3bb3b5ac4190"
      },
      "source": [
        "from sklearn.model_selection import KFold\n",
        "\n",
        "kf = KFold(n_splits = 5, random_state = None)\n",
        "score = cross_val_score(classifier, test, ytest, cv = kf)\n",
        "print(f'Model Cross Validation: \\n{round(score.mean(), 3)*100}%')\n",
        "print(f'Model Cross Validation: \\n{score}')"
      ],
      "execution_count": 1,
      "outputs": [
        {
          "output_type": "error",
          "ename": "NameError",
          "evalue": "ignored",
          "traceback": [
            "\u001b[0;31m---------------------------------------------------------------------------\u001b[0m",
            "\u001b[0;31mNameError\u001b[0m                                 Traceback (most recent call last)",
            "\u001b[0;32m<ipython-input-1-164121f39359>\u001b[0m in \u001b[0;36m<module>\u001b[0;34m()\u001b[0m\n\u001b[1;32m      2\u001b[0m \u001b[0;34m\u001b[0m\u001b[0m\n\u001b[1;32m      3\u001b[0m \u001b[0mkf\u001b[0m \u001b[0;34m=\u001b[0m \u001b[0mKFold\u001b[0m\u001b[0;34m(\u001b[0m\u001b[0mn_splits\u001b[0m \u001b[0;34m=\u001b[0m \u001b[0;36m5\u001b[0m\u001b[0;34m,\u001b[0m \u001b[0mrandom_state\u001b[0m \u001b[0;34m=\u001b[0m \u001b[0;32mNone\u001b[0m\u001b[0;34m)\u001b[0m\u001b[0;34m\u001b[0m\u001b[0;34m\u001b[0m\u001b[0m\n\u001b[0;32m----> 4\u001b[0;31m \u001b[0mscore\u001b[0m \u001b[0;34m=\u001b[0m \u001b[0mcross_val_score\u001b[0m\u001b[0;34m(\u001b[0m\u001b[0mclassifier\u001b[0m\u001b[0;34m,\u001b[0m \u001b[0mtest\u001b[0m\u001b[0;34m,\u001b[0m \u001b[0mytest\u001b[0m\u001b[0;34m,\u001b[0m \u001b[0mcv\u001b[0m \u001b[0;34m=\u001b[0m \u001b[0mkf\u001b[0m\u001b[0;34m)\u001b[0m\u001b[0;34m\u001b[0m\u001b[0;34m\u001b[0m\u001b[0m\n\u001b[0m\u001b[1;32m      5\u001b[0m \u001b[0mprint\u001b[0m\u001b[0;34m(\u001b[0m\u001b[0;34mf'Model Cross Validation: \\n{round(score.mean(), 3)*100}%'\u001b[0m\u001b[0;34m)\u001b[0m\u001b[0;34m\u001b[0m\u001b[0;34m\u001b[0m\u001b[0m\n\u001b[1;32m      6\u001b[0m \u001b[0mprint\u001b[0m\u001b[0;34m(\u001b[0m\u001b[0;34mf'Model Cross Validation: \\n{score}'\u001b[0m\u001b[0;34m)\u001b[0m\u001b[0;34m\u001b[0m\u001b[0;34m\u001b[0m\u001b[0m\n",
            "\u001b[0;31mNameError\u001b[0m: name 'cross_val_score' is not defined"
          ]
        }
      ]
    },
    {
      "cell_type": "code",
      "metadata": {
        "id": "i3BCEpVuzsj4"
      },
      "source": [
        "y = to_categorical(ytest)"
      ],
      "execution_count": 38,
      "outputs": []
    },
    {
      "cell_type": "code",
      "metadata": {
        "id": "u12I6S5gzwqF"
      },
      "source": [
        "y"
      ],
      "execution_count": null,
      "outputs": []
    },
    {
      "cell_type": "code",
      "metadata": {
        "id": "Om97L4djtJf2",
        "outputId": "bc49c8df-1fb9-4e08-9e91-75e425005f0f",
        "colab": {
          "base_uri": "https://localhost:8080/",
          "height": 342
        }
      },
      "source": [
        "classification_report(y, preds, target_names=ytest.columns)\n",
        "# multilabel_confusion_matrix(ytest, preds, labels = ['IP-Sweep','Nmap-Sweep','Normal','Port-Sweep','Smurf-DDoS'])"
      ],
      "execution_count": 42,
      "outputs": [
        {
          "output_type": "error",
          "ename": "ValueError",
          "evalue": "ignored",
          "traceback": [
            "\u001b[0;31m---------------------------------------------------------------------------\u001b[0m",
            "\u001b[0;31mValueError\u001b[0m                                Traceback (most recent call last)",
            "\u001b[0;32m<ipython-input-42-70fb7aa84715>\u001b[0m in \u001b[0;36m<module>\u001b[0;34m()\u001b[0m\n\u001b[0;32m----> 1\u001b[0;31m \u001b[0mclassification_report\u001b[0m\u001b[0;34m(\u001b[0m\u001b[0my\u001b[0m\u001b[0;34m,\u001b[0m \u001b[0mpreds\u001b[0m\u001b[0;34m,\u001b[0m \u001b[0mtarget_names\u001b[0m\u001b[0;34m=\u001b[0m\u001b[0mytest\u001b[0m\u001b[0;34m.\u001b[0m\u001b[0mcolumns\u001b[0m\u001b[0;34m)\u001b[0m\u001b[0;34m\u001b[0m\u001b[0;34m\u001b[0m\u001b[0m\n\u001b[0m\u001b[1;32m      2\u001b[0m \u001b[0;31m# multilabel_confusion_matrix(ytest, preds, labels = ['IP-Sweep','Nmap-Sweep','Normal','Port-Sweep','Smurf-DDoS'])\u001b[0m\u001b[0;34m\u001b[0m\u001b[0;34m\u001b[0m\u001b[0;34m\u001b[0m\u001b[0m\n",
            "\u001b[0;32m/usr/local/lib/python3.7/dist-packages/sklearn/metrics/_classification.py\u001b[0m in \u001b[0;36mclassification_report\u001b[0;34m(y_true, y_pred, labels, target_names, sample_weight, digits, output_dict, zero_division)\u001b[0m\n\u001b[1;32m   1969\u001b[0m     \"\"\"\n\u001b[1;32m   1970\u001b[0m \u001b[0;34m\u001b[0m\u001b[0m\n\u001b[0;32m-> 1971\u001b[0;31m     \u001b[0my_type\u001b[0m\u001b[0;34m,\u001b[0m \u001b[0my_true\u001b[0m\u001b[0;34m,\u001b[0m \u001b[0my_pred\u001b[0m \u001b[0;34m=\u001b[0m \u001b[0m_check_targets\u001b[0m\u001b[0;34m(\u001b[0m\u001b[0my_true\u001b[0m\u001b[0;34m,\u001b[0m \u001b[0my_pred\u001b[0m\u001b[0;34m)\u001b[0m\u001b[0;34m\u001b[0m\u001b[0;34m\u001b[0m\u001b[0m\n\u001b[0m\u001b[1;32m   1972\u001b[0m \u001b[0;34m\u001b[0m\u001b[0m\n\u001b[1;32m   1973\u001b[0m     \u001b[0mlabels_given\u001b[0m \u001b[0;34m=\u001b[0m \u001b[0;32mTrue\u001b[0m\u001b[0;34m\u001b[0m\u001b[0;34m\u001b[0m\u001b[0m\n",
            "\u001b[0;32m/usr/local/lib/python3.7/dist-packages/sklearn/metrics/_classification.py\u001b[0m in \u001b[0;36m_check_targets\u001b[0;34m(y_true, y_pred)\u001b[0m\n\u001b[1;32m     88\u001b[0m     \u001b[0;32mif\u001b[0m \u001b[0mlen\u001b[0m\u001b[0;34m(\u001b[0m\u001b[0my_type\u001b[0m\u001b[0;34m)\u001b[0m \u001b[0;34m>\u001b[0m \u001b[0;36m1\u001b[0m\u001b[0;34m:\u001b[0m\u001b[0;34m\u001b[0m\u001b[0;34m\u001b[0m\u001b[0m\n\u001b[1;32m     89\u001b[0m         raise ValueError(\"Classification metrics can't handle a mix of {0} \"\n\u001b[0;32m---> 90\u001b[0;31m                          \"and {1} targets\".format(type_true, type_pred))\n\u001b[0m\u001b[1;32m     91\u001b[0m \u001b[0;34m\u001b[0m\u001b[0m\n\u001b[1;32m     92\u001b[0m     \u001b[0;31m# We can't have more than one value on y_type => The set is no more needed\u001b[0m\u001b[0;34m\u001b[0m\u001b[0;34m\u001b[0m\u001b[0;34m\u001b[0m\u001b[0m\n",
            "\u001b[0;31mValueError\u001b[0m: Classification metrics can't handle a mix of unknown and continuous-multioutput targets"
          ]
        }
      ]
    },
    {
      "cell_type": "code",
      "metadata": {
        "id": "sBVWiF4R1c8F"
      },
      "source": [
        ""
      ],
      "execution_count": null,
      "outputs": []
    }
  ]
}