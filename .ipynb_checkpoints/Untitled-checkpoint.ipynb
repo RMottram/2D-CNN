{
 "cells": [
  {
   "cell_type": "code",
   "execution_count": 1,
   "metadata": {},
   "outputs": [],
   "source": [
    "import pandas as pd"
   ]
  },
  {
   "cell_type": "code",
   "execution_count": 30,
   "metadata": {},
   "outputs": [],
   "source": [
    "combined_df = pd.read_csv('datasets/combined_dataset.csv')\n",
    "train = pd.read_csv('datasets/KDDTrain+.csv')\n",
    "test = pd.read_csv('datasets/KDDTest+.csv')\n",
    "comp_df1 = pd.read_csv('/Users/ryan/Desktop/ICASSP2021/1203_firewall.csv')\n",
    "comp_df2 = pd.read_csv('/Users/ryan/Desktop/ICASSP2021/1210_firewall.csv')\n",
    "comp_df3 = pd.read_csv('/Users/ryan/Desktop/ICASSP2021/1216_firewall.csv')"
   ]
  },
  {
   "cell_type": "code",
   "execution_count": 20,
   "metadata": {},
   "outputs": [
    {
     "name": "stdout",
     "output_type": "stream",
     "text": [
      "['normal' 'neptune' 'warezclient' 'ipsweep' 'portsweep' 'teardrop' 'nmap'\n",
      " 'satan' 'smurf' 'pod' 'back' 'guess_passwd' 'ftp_write' 'multihop'\n",
      " 'rootkit' 'buffer_overflow' 'imap' 'warezmaster' 'phf' 'land'\n",
      " 'loadmodule' 'spy' 'perl']\n",
      "\n",
      "['neptune' 'normal' 'saint' 'mscan' 'guess_passwd' 'smurf' 'apache2'\n",
      " 'satan' 'buffer_overflow' 'back' 'warezmaster' 'snmpgetattack'\n",
      " 'processtable' 'pod' 'httptunnel' 'nmap' 'ps' 'snmpguess' 'ipsweep'\n",
      " 'mailbomb' 'portsweep' 'multihop' 'named' 'sendmail' 'loadmodule' 'xterm'\n",
      " 'worm' 'teardrop' 'rootkit' 'xlock' 'perl' 'land' 'xsnoop' 'sqlattack'\n",
      " 'ftp_write' 'imap' 'udpstorm' 'phf']\n"
     ]
    }
   ],
   "source": [
    "print(f'{train.attack_type.unique()}\\n\\n{test.attack_type.unique()}')"
   ]
  },
  {
   "cell_type": "code",
   "execution_count": 36,
   "metadata": {},
   "outputs": [
    {
     "name": "stdout",
     "output_type": "stream",
     "text": [
      "['Normal' 'DDOS-smurf' 'Probing-IP sweep' 'Probing-Port sweep']\n",
      "\n",
      " ['Normal' 'Probing-IP sweep' 'DDOS-smurf' 'Probing-Nmap'\n",
      " 'Probing-Port sweep']\n",
      "\n",
      " ['Normal' 'DDOS-smurf' 'Probing-IP sweep' 'Probing-Nmap'\n",
      " 'Probing-Port sweep']\n"
     ]
    }
   ],
   "source": [
    "print(f'{comp_df1.label.unique()}\\n\\n {comp_df2.label.unique()}\\n\\n {comp_df3.label.unique()}')"
   ]
  },
  {
   "cell_type": "code",
   "execution_count": null,
   "metadata": {},
   "outputs": [],
   "source": []
  }
 ],
 "metadata": {
  "kernelspec": {
   "display_name": "Python 3",
   "language": "python",
   "name": "python3"
  },
  "language_info": {
   "codemirror_mode": {
    "name": "ipython",
    "version": 3
   },
   "file_extension": ".py",
   "mimetype": "text/x-python",
   "name": "python",
   "nbconvert_exporter": "python",
   "pygments_lexer": "ipython3",
   "version": "3.8.5"
  }
 },
 "nbformat": 4,
 "nbformat_minor": 4
}
