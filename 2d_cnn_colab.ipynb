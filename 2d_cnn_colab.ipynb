{
  "nbformat": 4,
  "nbformat_minor": 0,
  "metadata": {
    "orig_nbformat": 2,
    "kernelspec": {
      "name": "python3",
      "display_name": "Python 3"
    },
    "colab": {
      "name": "2d_cnn.ipynb",
      "provenance": [],
      "toc_visible": true
    },
    "accelerator": "GPU",
    "language_info": {
      "name": "python"
    }
  },
  "cells": [
    {
      "cell_type": "code",
      "metadata": {
        "id": "-U0wqCRNbL8o",
        "colab": {
          "base_uri": "https://localhost:8080/"
        },
        "outputId": "cfd5b3a2-3bf2-4763-a640-f989b9c05749"
      },
      "source": [
        "!lscpu |grep 'Model name'"
      ],
      "execution_count": null,
      "outputs": [
        {
          "output_type": "stream",
          "text": [
            "Model name:          Intel(R) Xeon(R) CPU @ 2.20GHz\n"
          ],
          "name": "stdout"
        }
      ]
    },
    {
      "cell_type": "code",
      "metadata": {
        "id": "uoSJDF16yFkC",
        "colab": {
          "base_uri": "https://localhost:8080/"
        },
        "outputId": "df3a888e-564f-42fd-f408-3630baec1047"
      },
      "source": [
        "!nvidia-smi"
      ],
      "execution_count": 1,
      "outputs": [
        {
          "output_type": "stream",
          "text": [
            "Thu May 27 12:48:38 2021       \n",
            "+-----------------------------------------------------------------------------+\n",
            "| NVIDIA-SMI 465.19.01    Driver Version: 460.32.03    CUDA Version: 11.2     |\n",
            "|-------------------------------+----------------------+----------------------+\n",
            "| GPU  Name        Persistence-M| Bus-Id        Disp.A | Volatile Uncorr. ECC |\n",
            "| Fan  Temp  Perf  Pwr:Usage/Cap|         Memory-Usage | GPU-Util  Compute M. |\n",
            "|                               |                      |               MIG M. |\n",
            "|===============================+======================+======================|\n",
            "|   0  Tesla K80           Off  | 00000000:00:04.0 Off |                    0 |\n",
            "| N/A   37C    P8    28W / 149W |      0MiB / 11441MiB |      0%      Default |\n",
            "|                               |                      |                  N/A |\n",
            "+-------------------------------+----------------------+----------------------+\n",
            "                                                                               \n",
            "+-----------------------------------------------------------------------------+\n",
            "| Processes:                                                                  |\n",
            "|  GPU   GI   CI        PID   Type   Process name                  GPU Memory |\n",
            "|        ID   ID                                                   Usage      |\n",
            "|=============================================================================|\n",
            "|  No running processes found                                                 |\n",
            "+-----------------------------------------------------------------------------+\n"
          ],
          "name": "stdout"
        }
      ]
    },
    {
      "cell_type": "code",
      "metadata": {
        "colab": {
          "base_uri": "https://localhost:8080/"
        },
        "id": "SeZZvLXXN0Lv",
        "outputId": "83f3e358-fbd6-4128-cedd-987cb4386868"
      },
      "source": [
        "from google.colab import drive\n",
        "drive.mount('/content/drive')"
      ],
      "execution_count": 2,
      "outputs": [
        {
          "output_type": "stream",
          "text": [
            "Mounted at /content/drive\n"
          ],
          "name": "stdout"
        }
      ]
    },
    {
      "cell_type": "code",
      "metadata": {
        "id": "eIzDWja0OBiw"
      },
      "source": [
        "# !unzip /content/drive/MyDrive/Colab\\ Notebooks/64x64.zip > /dev/null\n",
        "# !unzip /content/drive/MyDrive/Colab\\ Notebooks/32x32.zip > /dev/null\n",
        "!unzip /content/drive/MyDrive/Colab\\ Notebooks/split_images.zip > /dev/null"
      ],
      "execution_count": 3,
      "outputs": []
    },
    {
      "cell_type": "code",
      "metadata": {
        "id": "X6bRfwJ_6c-V"
      },
      "source": [
        "## libraries\n",
        "import numpy as np\n",
        "import pandas as pd\n",
        "import matplotlib.pyplot as plt\n",
        "from matplotlib.pyplot import figure\n",
        "import sys, os, time, csv, glob, cv2\n",
        "\n",
        "import tensorflow as tf\n",
        "from tensorflow import keras\n",
        "from tensorflow.keras.layers import Dense, Convolution1D, Convolution2D, MaxPooling2D, Flatten, AveragePooling2D, GlobalAveragePooling2D, GlobalMaxPool2D, MaxPooling1D, Dropout\n",
        "from tensorflow.keras.models import Sequential\n",
        "from tensorflow.keras.callbacks import EarlyStopping\n",
        "from keras.wrappers.scikit_learn import KerasClassifier\n",
        "\n",
        "import sklearn\n",
        "from sklearn.model_selection import cross_val_score\n",
        "from sklearn import metrics\n",
        "\n",
        "## Settings\n",
        "pd.set_option('display.max_columns', None)\n",
        "pd.options.display.float_format = '{:.5f}'.format\n",
        "np.set_printoptions(threshold=sys.maxsize)\n",
        "np.set_printoptions(precision = 5, suppress = True)"
      ],
      "execution_count": 4,
      "outputs": []
    },
    {
      "cell_type": "markdown",
      "metadata": {
        "id": "yRxC9OVB6c-c"
      },
      "source": [
        "# CNN 1.0 - Binary output (attack/normal)"
      ]
    },
    {
      "cell_type": "code",
      "metadata": {
        "id": "sjn-epN96c-e"
      },
      "source": [
        "train_normal = []\n",
        "train_attack = []\n",
        "test_normal = []\n",
        "test_attack = []\n",
        "\n",
        "for i in glob.glob('/content/split_images/80-20/train_normal/train_normal_equ_*.jpg', recursive=True):\n",
        "    train_normal.append(cv2.imread(i, cv2.IMREAD_GRAYSCALE))\n",
        "\n",
        "for j in glob.glob('/content/split_images/80-20/train_attack/train_attack_equ_*.jpg', recursive=True):\n",
        "    train_attack.append(cv2.imread(j, cv2.IMREAD_GRAYSCALE))\n",
        "\n",
        "for k in glob.glob('/content/split_images/80-20/test_normal/test_normal_equ_*.jpg', recursive=True):\n",
        "    test_normal.append(cv2.imread(k, cv2.IMREAD_GRAYSCALE))\n",
        "\n",
        "for l in glob.glob('/content/split_images/80-20/test_attack/test_attack_equ_*.jpg', recursive=True):\n",
        "    test_attack.append(cv2.imread(l, cv2.IMREAD_GRAYSCALE))\n",
        "\n",
        "train_normal = np.array(train_normal)\n",
        "train_attack = np.array(train_attack)\n",
        "test_normal = np.array(test_normal)\n",
        "test_attack = np.array(test_attack)"
      ],
      "execution_count": 52,
      "outputs": []
    },
    {
      "cell_type": "code",
      "metadata": {
        "colab": {
          "base_uri": "https://localhost:8080/"
        },
        "id": "dMi-eflf6c-f",
        "outputId": "81dfe599-d150-46c1-d0a6-e42126c49def"
      },
      "source": [
        "np.shape(train_normal), np.shape(train_attack), np.shape(test_normal), np.shape(test_attack)\n",
        "\n",
        "# for i in range(0, 2):\n",
        "#   plt.imshow(train_normal[i], cmap = 'gray')\n",
        "#   plt.show()\n",
        "\n",
        "# for i in train_normal:\n",
        "#   print(i)"
      ],
      "execution_count": 53,
      "outputs": [
        {
          "output_type": "execute_result",
          "data": {
            "text/plain": [
              "((1714, 64, 64), (1576, 64, 64), (1714, 64, 64), (394, 64, 64))"
            ]
          },
          "metadata": {
            "tags": []
          },
          "execution_count": 53
        }
      ]
    },
    {
      "cell_type": "code",
      "metadata": {
        "id": "SAKSZOA76c-g"
      },
      "source": [
        "## augmenting the data to create more images\n",
        "## only run cell if needed\n",
        "\n",
        "## vertically flip training images\n",
        "vert_flip_train_attack = np.fliplr(train_attack)\n",
        "vert_flip_train_normal = np.fliplr(train_normal)\n",
        "\n",
        "## flip training images horizonatally\n",
        "hor_flip_train_attack = np.rot90(train_attack, axes = (1,2), k = 2)\n",
        "hor_flip_train_normal = np.rot90(train_normal, axes = (1,2), k = 2)\n",
        "\n",
        "## rotate training images left and right once each\n",
        "rotate90l_train_attack = np.rot90(train_attack, axes=(1, 2))\n",
        "rotate90r_train_attack = np.rot90(train_normal, -1, axes=(1, 2))\n",
        "rotate90l_train_normal = np.rot90(train_attack, axes=(1, 2))\n",
        "rotate90r_train_normal = np.rot90(train_normal, -1, axes=(1, 2))\n",
        "\n",
        "\n",
        "\n",
        "## vertically flip testing images\n",
        "vert_flip_test_attack = np.fliplr(test_attack)\n",
        "vert_flip_test_normal = np.fliplr(test_normal)\n",
        "\n",
        "## flip testing images horizonatally\n",
        "hor_flip_test_attack = np.rot90(test_attack, axes = (1,2), k = 2)\n",
        "hor_flip_test_normal = np.rot90(test_normal, axes = (1,2), k = 2)\n",
        "\n",
        "## rotate testing images left and right once each\n",
        "rotate90l_test_attack = np.rot90(test_attack, axes=(1, 2))\n",
        "rotate90r_test_attack = np.rot90(test_normal, -1, axes=(1, 2))\n",
        "rotate90l_test_normal = np.rot90(test_attack, axes=(1, 2))\n",
        "rotate90r_test_normal = np.rot90(test_normal, -1, axes=(1, 2))\n",
        "\n",
        "\n",
        "## stack all the original and augmented data to one single numpy array\n",
        "# train = np.vstack((train_attack, vert_flip_train_attack, hor_flip_train_attack, rotate90l_train_attack, rotate90r_train_attack,\n",
        "#                    train_normal, vert_flip_train_normal, hor_flip_train_normal, rotate90l_train_normal, rotate90r_train_normal))\n",
        "# test = np.vstack((test_attack, vert_flip_test_attack, hor_flip_test_attack, rotate90l_test_attack, rotate90r_test_attack,\n",
        "#                   test_normal, vert_flip_test_normal, hor_flip_test_normal, rotate90l_test_normal, rotate90r_test_normal))\n",
        "\n",
        "train = np.vstack((train_attack, train_normal))\n",
        "test = np.vstack((test_attack, vert_flip_test_attack, hor_flip_test_attack, rotate90l_test_attack, rotate90r_test_attack,\n",
        "                  test_normal))"
      ],
      "execution_count": 42,
      "outputs": []
    },
    {
      "cell_type": "code",
      "metadata": {
        "id": "R4OLWyQw6c-i",
        "colab": {
          "base_uri": "https://localhost:8080/"
        },
        "outputId": "e4e73b70-7c36-4f58-bbad-f9ea68df5842"
      },
      "source": [
        "## if no augmented data is needed, run this cell\n",
        "train = np.vstack((train_attack, train_normal))\n",
        "test = np.vstack((test_attack, test_normal))\n",
        "\n",
        "train.shape, test.shape"
      ],
      "execution_count": 54,
      "outputs": [
        {
          "output_type": "execute_result",
          "data": {
            "text/plain": [
              "((3290, 64, 64), (2108, 64, 64))"
            ]
          },
          "metadata": {
            "tags": []
          },
          "execution_count": 54
        }
      ]
    },
    {
      "cell_type": "code",
      "metadata": {
        "id": "1Bcx3IdD6c-j",
        "colab": {
          "base_uri": "https://localhost:8080/"
        },
        "outputId": "f7342fbe-5adf-4230-e599-944987ff4fcd"
      },
      "source": [
        "train = train.reshape(-1,64,64,1)\n",
        "test = test.reshape(-1,64,64,1)\n",
        "\n",
        "train.shape, test.shape"
      ],
      "execution_count": 55,
      "outputs": [
        {
          "output_type": "execute_result",
          "data": {
            "text/plain": [
              "((3290, 64, 64, 1), (2108, 64, 64, 1))"
            ]
          },
          "metadata": {
            "tags": []
          },
          "execution_count": 55
        }
      ]
    },
    {
      "cell_type": "code",
      "metadata": {
        "id": "pyxOplUl6c-j",
        "colab": {
          "base_uri": "https://localhost:8080/",
          "height": 1000
        },
        "outputId": "fdb688c8-45b1-487e-bcbf-3b1a04b4339d"
      },
      "source": [
        "for i in range(0, 5):\n",
        "    plt.imshow(tf.squeeze(train[i]), cmap = 'gray')\n",
        "    plt.show()"
      ],
      "execution_count": null,
      "outputs": [
        {
          "output_type": "display_data",
          "data": {
            "image/png": "[encoded data removed]",
            "text/plain": [
              "<Figure size 432x288 with 1 Axes>"
            ]
          },
          "metadata": {
            "tags": [],
            "needs_background": "light"
          }
        },
        {
          "output_type": "display_data",
          "data": {
            "image/png": "[encoded data removed]",
            "text/plain": [
              "<Figure size 432x288 with 1 Axes>"
            ]
          },
          "metadata": {
            "tags": [],
            "needs_background": "light"
          }
        },
        {
          "output_type": "display_data",
          "data": {
            "image/png": "[encoded data removed]",
            "text/plain": [
              "<Figure size 432x288 with 1 Axes>"
            ]
          },
          "metadata": {
            "tags": [],
            "needs_background": "light"
          }
        },
        {
          "output_type": "display_data",
          "data": {
            "image/png": "[encoded data removed]",
            "text/plain": [
              "<Figure size 432x288 with 1 Axes>"
            ]
          },
          "metadata": {
            "tags": [],
            "needs_background": "light"
          }
        },
        {
          "output_type": "display_data",
          "data": {
            "image/png": "[encoded data removed]",
            "text/plain": [
              "<Figure size 432x288 with 1 Axes>"
            ]
          },
          "metadata": {
            "tags": [],
            "needs_background": "light"
          }
        }
      ]
    },
    {
      "cell_type": "markdown",
      "metadata": {
        "id": "qeo6tToGAYx2"
      },
      "source": [
        "## No augmented data"
      ]
    },
    {
      "cell_type": "code",
      "metadata": {
        "id": "JDe4E_aK6c-m"
      },
      "source": [
        "## create the training and testing data labels\n",
        "## run if not using augmented data\n",
        "\n",
        "training_labels = []\n",
        "## add the attack labels\n",
        "for i in range(0, train_attack.shape[0]):\n",
        "    training_labels.append('attack')\n",
        "\n",
        "## add the normal labels\n",
        "for j in range(train_attack.shape[0], train.shape[0]):\n",
        "    training_labels.append('normal')\n",
        "\n",
        "\n",
        "\n",
        "testing_labels = []\n",
        "## add the attack labels\n",
        "for k in range(0, test_attack.shape[0]):\n",
        "    testing_labels.append('attack')\n",
        "\n",
        "## add the normal labels\n",
        "for l in range(test_attack.shape[0], test.shape[0]):\n",
        "    testing_labels.append('normal')"
      ],
      "execution_count": 56,
      "outputs": []
    },
    {
      "cell_type": "markdown",
      "metadata": {
        "id": "Ty5MVTEEA39r"
      },
      "source": [
        "## Augmented data"
      ]
    },
    {
      "cell_type": "code",
      "metadata": {
        "id": "KEZ7jTGy6c-m"
      },
      "source": [
        "## create the training and testing data labels\n",
        "## run this cell if using augmented data with rotated data\n",
        "\n",
        "training_labels = []\n",
        "## add the attack labels\n",
        "for i in range(0, train_attack.shape[0] + vert_flip_train_attack.shape[0] + hor_flip_train_attack.shape[0] + rotate90l_train_attack.shape[0] + rotate90r_train_attack.shape[0]):\n",
        "    training_labels.append('attack')\n",
        "\n",
        "## add the normal labels\n",
        "for j in range(train_attack.shape[0] + vert_flip_train_attack.shape[0] + hor_flip_train_attack.shape[0] + rotate90l_train_attack.shape[0] + rotate90r_train_attack.shape[0], train.shape[0]):\n",
        "    training_labels.append('normal')\n",
        "\n",
        "\n",
        "\n",
        "testing_labels = []\n",
        "## add the attack labels\n",
        "for k in range(0, test_attack.shape[0] + vert_flip_test_attack.shape[0] + hor_flip_test_attack.shape[0] + rotate90l_test_attack.shape[0] + rotate90r_test_attack.shape[0]):\n",
        "    testing_labels.append('attack')\n",
        "\n",
        "## add the normal labels\n",
        "for l in range(test_attack.shape[0] + vert_flip_test_attack.shape[0] + hor_flip_test_attack.shape[0] + rotate90l_test_attack.shape[0] + rotate90r_test_attack.shape[0], test.shape[0]):\n",
        "    testing_labels.append('normal')"
      ],
      "execution_count": null,
      "outputs": []
    },
    {
      "cell_type": "markdown",
      "metadata": {
        "id": "_HYRm35EA_KW"
      },
      "source": [
        "## Augmented data but no rotate"
      ]
    },
    {
      "cell_type": "code",
      "metadata": {
        "id": "es43n7gZtaFn"
      },
      "source": [
        "## create the training and testing data labels\n",
        "## run this cell if using augmented data and not with rotated data\n",
        "\n",
        "training_labels = []\n",
        "## add the attack labels\n",
        "for i in range(0, train_attack.shape[0] + vert_flip_train_attack.shape[0] + hor_flip_train_attack.shape[0]):\n",
        "    training_labels.append('attack')\n",
        "\n",
        "## add the normal labels\n",
        "for j in range(train_attack.shape[0] + vert_flip_train_attack.shape[0] + hor_flip_train_attack.shape[0], train.shape[0]):\n",
        "    training_labels.append('normal')\n",
        "\n",
        "\n",
        "\n",
        "testing_labels = []\n",
        "## add the attack labels\n",
        "for k in range(0, test_attack.shape[0] + vert_flip_test_attack.shape[0] + hor_flip_test_attack.shape[0]):\n",
        "    testing_labels.append('attack')\n",
        "\n",
        "## add the normal labels\n",
        "for l in range(test_attack.shape[0] + vert_flip_test_attack.shape[0] + hor_flip_test_attack.shape[0], test.shape[0]):\n",
        "    testing_labels.append('normal')"
      ],
      "execution_count": null,
      "outputs": []
    },
    {
      "cell_type": "code",
      "metadata": {
        "colab": {
          "base_uri": "https://localhost:8080/"
        },
        "id": "XlYiHSgg6c-m",
        "outputId": "fba03132-ab0f-4065-97c4-aea21f16134c"
      },
      "source": [
        "## create the dataframe for labels, then OHE the column\n",
        "ytrain = pd.DataFrame(training_labels, columns = ['category'])\n",
        "ytest = pd.DataFrame(testing_labels, columns = ['category'])\n",
        "\n",
        "ytrain = pd.get_dummies(ytrain['category'])\n",
        "ytest = pd.get_dummies(ytest['category'])\n",
        "\n",
        "ytrain, ytest"
      ],
      "execution_count": 57,
      "outputs": [
        {
          "output_type": "execute_result",
          "data": {
            "text/plain": [
              "(      attack  normal\n",
              " 0          1       0\n",
              " 1          1       0\n",
              " 2          1       0\n",
              " 3          1       0\n",
              " 4          1       0\n",
              " ...      ...     ...\n",
              " 3285       0       1\n",
              " 3286       0       1\n",
              " 3287       0       1\n",
              " 3288       0       1\n",
              " 3289       0       1\n",
              " \n",
              " [3290 rows x 2 columns],       attack  normal\n",
              " 0          1       0\n",
              " 1          1       0\n",
              " 2          1       0\n",
              " 3          1       0\n",
              " 4          1       0\n",
              " ...      ...     ...\n",
              " 2103       0       1\n",
              " 2104       0       1\n",
              " 2105       0       1\n",
              " 2106       0       1\n",
              " 2107       0       1\n",
              " \n",
              " [2108 rows x 2 columns])"
            ]
          },
          "metadata": {
            "tags": []
          },
          "execution_count": 57
        }
      ]
    },
    {
      "cell_type": "code",
      "metadata": {
        "id": "6WiwQuKq6c-m"
      },
      "source": [
        "## shuffle the data to prevent pattern recognition\n",
        "train, ytrain = sklearn.utils.shuffle(train, ytrain, random_state = 7)\n",
        "test, ytest = sklearn.utils.shuffle(test, ytest, random_state = 7)"
      ],
      "execution_count": 46,
      "outputs": []
    },
    {
      "cell_type": "code",
      "metadata": {
        "colab": {
          "base_uri": "https://localhost:8080/"
        },
        "id": "Yd9A1cXf6c-n",
        "outputId": "3717120b-5864-412f-c9db-6de770a12015"
      },
      "source": [
        "KERNEL_SIZE = [2,2]\n",
        "IMAGE_SIZE = [64,64,1]\n",
        "\n",
        "cnn = Sequential()\n",
        "\n",
        "## convolution 1\n",
        "cnn.add(Convolution2D(2**4, (KERNEL_SIZE), padding=\"same\", activation='relu', input_shape = (IMAGE_SIZE)))\n",
        "cnn.add(MaxPooling2D(pool_size = (2,2)))\n",
        "# cnn.add(Dropout(0.25))\n",
        "\n",
        "## convolution 2\n",
        "cnn.add(Convolution2D(2**5, (KERNEL_SIZE), padding=\"same\", activation='relu'))\n",
        "cnn.add(MaxPooling2D(pool_size = (2,2)))\n",
        "# cnn.add(Dropout(0.25))\n",
        "\n",
        "## convolution 3\n",
        "cnn.add(Convolution2D(2**6, (KERNEL_SIZE), padding=\"same\", activation='relu'))\n",
        "cnn.add(MaxPooling2D(pool_size = (2,2)))\n",
        "# cnn.add(Dropout(0.25))\n",
        "\n",
        "## convolution 4\n",
        "cnn.add(Convolution2D(2**7, (KERNEL_SIZE), padding=\"same\", activation='relu'))\n",
        "cnn.add(MaxPooling2D(pool_size = (2,2)))\n",
        "# cnn.add(Dropout(0.5))\n",
        "\n",
        "## convolution 5\n",
        "# cnn.add(Convolution2D(2**8, (KERNEL_SIZE), padding=\"same\", activation='relu'))\n",
        "# cnn.add(AveragePooling2D(pool_size = (2,2)))\n",
        "# # # cnn.add(Dropout(0.5))\n",
        "\n",
        "# # ## convolution 6\n",
        "# cnn.add(Convolution2D(2**9, (KERNEL_SIZE), padding=\"same\", activation='relu'))\n",
        "# cnn.add(AveragePooling2D(pool_size = (2,2)))\n",
        "# cnn.add(Dropout(0.5))\n",
        "\n",
        "cnn.add(Flatten())\n",
        "\n",
        "## dense\n",
        "# cnn.add(Dense(256, activation='relu'))\n",
        "cnn.add(Dense(128, activation='relu'))\n",
        "# cnn.add(Dense(64, activation='relu'))\n",
        "# cnn.add(Dense(256, activation='relu'))\n",
        "# cnn.add(Dropout(0.5))\n",
        "cnn.add(Dense(2, activation = 'sigmoid'))\n",
        "\n",
        "# callback = [EarlyStopping(monitor = 'accuracy', mode = 'max', patience = 2)]\n",
        "\n",
        "cnn.compile(optimizer = keras.optimizers.Adam(), loss = 'binary_crossentropy',\n",
        "            metrics = ['accuracy'])\n",
        "\n",
        "\n",
        "cnn.summary()"
      ],
      "execution_count": 58,
      "outputs": [
        {
          "output_type": "stream",
          "text": [
            "Model: \"sequential_9\"\n",
            "_________________________________________________________________\n",
            "Layer (type)                 Output Shape              Param #   \n",
            "=================================================================\n",
            "conv2d_38 (Conv2D)           (None, 64, 64, 16)        80        \n",
            "_________________________________________________________________\n",
            "max_pooling2d (MaxPooling2D) (None, 32, 32, 16)        0         \n",
            "_________________________________________________________________\n",
            "conv2d_39 (Conv2D)           (None, 32, 32, 32)        2080      \n",
            "_________________________________________________________________\n",
            "max_pooling2d_1 (MaxPooling2 (None, 16, 16, 32)        0         \n",
            "_________________________________________________________________\n",
            "conv2d_40 (Conv2D)           (None, 16, 16, 64)        8256      \n",
            "_________________________________________________________________\n",
            "max_pooling2d_2 (MaxPooling2 (None, 8, 8, 64)          0         \n",
            "_________________________________________________________________\n",
            "conv2d_41 (Conv2D)           (None, 8, 8, 128)         32896     \n",
            "_________________________________________________________________\n",
            "max_pooling2d_3 (MaxPooling2 (None, 4, 4, 128)         0         \n",
            "_________________________________________________________________\n",
            "flatten_9 (Flatten)          (None, 2048)              0         \n",
            "_________________________________________________________________\n",
            "dense_18 (Dense)             (None, 128)               262272    \n",
            "_________________________________________________________________\n",
            "dense_19 (Dense)             (None, 2)                 258       \n",
            "=================================================================\n",
            "Total params: 305,842\n",
            "Trainable params: 305,842\n",
            "Non-trainable params: 0\n",
            "_________________________________________________________________\n"
          ],
          "name": "stdout"
        }
      ]
    },
    {
      "cell_type": "code",
      "metadata": {
        "colab": {
          "base_uri": "https://localhost:8080/"
        },
        "id": "u__u_Y9j6c-o",
        "outputId": "1c788cfd-3128-4f5d-990c-c15564751c90"
      },
      "source": [
        "start = time.time()\n",
        "model_history = cnn.fit(train, ytrain, batch_size = 512, epochs = 300)\n",
        "end = time.time()\n",
        "\n",
        "# os.system(f'say \"training finished in {round(end - start, 2)} seconds\"')\n",
        "print(f'Training finished in {round(end - start, 2)}')"
      ],
      "execution_count": 59,
      "outputs": [
        {
          "output_type": "stream",
          "text": [
            "Epoch 1/300\n",
            "7/7 [==============================] - 1s 89ms/step - loss: 13.9819 - accuracy: 0.5422\n",
            "Epoch 2/300\n",
            "7/7 [==============================] - 1s 71ms/step - loss: 2.9131 - accuracy: 0.5760\n",
            "Epoch 3/300\n",
            "7/7 [==============================] - 1s 71ms/step - loss: 1.1189 - accuracy: 0.6571\n",
            "Epoch 4/300\n",
            "7/7 [==============================] - 1s 71ms/step - loss: 0.7761 - accuracy: 0.6030\n",
            "Epoch 5/300\n",
            "7/7 [==============================] - 1s 72ms/step - loss: 0.6964 - accuracy: 0.6653\n",
            "Epoch 6/300\n",
            "7/7 [==============================] - 1s 71ms/step - loss: 0.6681 - accuracy: 0.6690\n",
            "Epoch 7/300\n",
            "7/7 [==============================] - 1s 71ms/step - loss: 0.6522 - accuracy: 0.6802\n",
            "Epoch 8/300\n",
            "7/7 [==============================] - 0s 70ms/step - loss: 0.6449 - accuracy: 0.6827\n",
            "Epoch 9/300\n",
            "7/7 [==============================] - 0s 70ms/step - loss: 0.6334 - accuracy: 0.6881\n",
            "Epoch 10/300\n",
            "7/7 [==============================] - 0s 71ms/step - loss: 0.6211 - accuracy: 0.6933\n",
            "Epoch 11/300\n",
            "7/7 [==============================] - 1s 72ms/step - loss: 0.6083 - accuracy: 0.7006\n",
            "Epoch 12/300\n",
            "7/7 [==============================] - 0s 70ms/step - loss: 0.5930 - accuracy: 0.7082\n",
            "Epoch 13/300\n",
            "7/7 [==============================] - 1s 73ms/step - loss: 0.5747 - accuracy: 0.7222\n",
            "Epoch 14/300\n",
            "7/7 [==============================] - 1s 71ms/step - loss: 0.5577 - accuracy: 0.7191\n",
            "Epoch 15/300\n",
            "7/7 [==============================] - 1s 72ms/step - loss: 0.5426 - accuracy: 0.7298\n",
            "Epoch 16/300\n",
            "7/7 [==============================] - 1s 71ms/step - loss: 0.5273 - accuracy: 0.7474\n",
            "Epoch 17/300\n",
            "7/7 [==============================] - 1s 72ms/step - loss: 0.5116 - accuracy: 0.7672\n",
            "Epoch 18/300\n",
            "7/7 [==============================] - 1s 72ms/step - loss: 0.5022 - accuracy: 0.7702\n",
            "Epoch 19/300\n",
            "7/7 [==============================] - 1s 72ms/step - loss: 0.4912 - accuracy: 0.7763\n",
            "Epoch 20/300\n",
            "7/7 [==============================] - 1s 72ms/step - loss: 0.4812 - accuracy: 0.7851\n",
            "Epoch 21/300\n",
            "7/7 [==============================] - 1s 72ms/step - loss: 0.4623 - accuracy: 0.8070\n",
            "Epoch 22/300\n",
            "7/7 [==============================] - 1s 73ms/step - loss: 0.4428 - accuracy: 0.8161\n",
            "Epoch 23/300\n",
            "7/7 [==============================] - 1s 71ms/step - loss: 0.4279 - accuracy: 0.8313\n",
            "Epoch 24/300\n",
            "7/7 [==============================] - 1s 72ms/step - loss: 0.4125 - accuracy: 0.8331\n",
            "Epoch 25/300\n",
            "7/7 [==============================] - 1s 72ms/step - loss: 0.3986 - accuracy: 0.8468\n",
            "Epoch 26/300\n",
            "7/7 [==============================] - 1s 73ms/step - loss: 0.3882 - accuracy: 0.8419\n",
            "Epoch 27/300\n",
            "7/7 [==============================] - 1s 74ms/step - loss: 0.3842 - accuracy: 0.8426\n",
            "Epoch 28/300\n",
            "7/7 [==============================] - 1s 72ms/step - loss: 0.3720 - accuracy: 0.8562\n",
            "Epoch 29/300\n",
            "7/7 [==============================] - 1s 72ms/step - loss: 0.3467 - accuracy: 0.8736\n",
            "Epoch 30/300\n",
            "7/7 [==============================] - 1s 71ms/step - loss: 0.3348 - accuracy: 0.8772\n",
            "Epoch 31/300\n",
            "7/7 [==============================] - 1s 71ms/step - loss: 0.3161 - accuracy: 0.8951\n",
            "Epoch 32/300\n",
            "7/7 [==============================] - 1s 72ms/step - loss: 0.3106 - accuracy: 0.8891\n",
            "Epoch 33/300\n",
            "7/7 [==============================] - 1s 71ms/step - loss: 0.2940 - accuracy: 0.9009\n",
            "Epoch 34/300\n",
            "7/7 [==============================] - 1s 73ms/step - loss: 0.2796 - accuracy: 0.9085\n",
            "Epoch 35/300\n",
            "7/7 [==============================] - 1s 72ms/step - loss: 0.2670 - accuracy: 0.9152\n",
            "Epoch 36/300\n",
            "7/7 [==============================] - 1s 72ms/step - loss: 0.2648 - accuracy: 0.9079\n",
            "Epoch 37/300\n",
            "7/7 [==============================] - 1s 71ms/step - loss: 0.2647 - accuracy: 0.9049\n",
            "Epoch 38/300\n",
            "7/7 [==============================] - 1s 71ms/step - loss: 0.2405 - accuracy: 0.9258\n",
            "Epoch 39/300\n",
            "7/7 [==============================] - 1s 72ms/step - loss: 0.2302 - accuracy: 0.9286\n",
            "Epoch 40/300\n",
            "7/7 [==============================] - 1s 72ms/step - loss: 0.2246 - accuracy: 0.9310\n",
            "Epoch 41/300\n",
            "7/7 [==============================] - 1s 73ms/step - loss: 0.2137 - accuracy: 0.9334\n",
            "Epoch 42/300\n",
            "7/7 [==============================] - 1s 72ms/step - loss: 0.2032 - accuracy: 0.9368\n",
            "Epoch 43/300\n",
            "7/7 [==============================] - 1s 72ms/step - loss: 0.2049 - accuracy: 0.9340\n",
            "Epoch 44/300\n",
            "7/7 [==============================] - 1s 73ms/step - loss: 0.2184 - accuracy: 0.9216\n",
            "Epoch 45/300\n",
            "7/7 [==============================] - 1s 73ms/step - loss: 0.1977 - accuracy: 0.9368\n",
            "Epoch 46/300\n",
            "7/7 [==============================] - 1s 73ms/step - loss: 0.1915 - accuracy: 0.9380\n",
            "Epoch 47/300\n",
            "7/7 [==============================] - 1s 72ms/step - loss: 0.1818 - accuracy: 0.9438\n",
            "Epoch 48/300\n",
            "7/7 [==============================] - 1s 72ms/step - loss: 0.1799 - accuracy: 0.9404\n",
            "Epoch 49/300\n",
            "7/7 [==============================] - 1s 73ms/step - loss: 0.1723 - accuracy: 0.9444\n",
            "Epoch 50/300\n",
            "7/7 [==============================] - 1s 72ms/step - loss: 0.1689 - accuracy: 0.9447\n",
            "Epoch 51/300\n",
            "7/7 [==============================] - 1s 72ms/step - loss: 0.1616 - accuracy: 0.9459\n",
            "Epoch 52/300\n",
            "7/7 [==============================] - 1s 73ms/step - loss: 0.1575 - accuracy: 0.9459\n",
            "Epoch 53/300\n",
            "7/7 [==============================] - 1s 71ms/step - loss: 0.1550 - accuracy: 0.9459\n",
            "Epoch 54/300\n",
            "7/7 [==============================] - 1s 72ms/step - loss: 0.1523 - accuracy: 0.9459\n",
            "Epoch 55/300\n",
            "7/7 [==============================] - 0s 71ms/step - loss: 0.1506 - accuracy: 0.9459\n",
            "Epoch 56/300\n",
            "7/7 [==============================] - 1s 74ms/step - loss: 0.1484 - accuracy: 0.9459\n",
            "Epoch 57/300\n",
            "7/7 [==============================] - 1s 71ms/step - loss: 0.1471 - accuracy: 0.9459\n",
            "Epoch 58/300\n",
            "7/7 [==============================] - 1s 73ms/step - loss: 0.1459 - accuracy: 0.9459\n",
            "Epoch 59/300\n",
            "7/7 [==============================] - 1s 72ms/step - loss: 0.1451 - accuracy: 0.9459\n",
            "Epoch 60/300\n",
            "7/7 [==============================] - 1s 73ms/step - loss: 0.1442 - accuracy: 0.9459\n",
            "Epoch 61/300\n",
            "7/7 [==============================] - 1s 73ms/step - loss: 0.1438 - accuracy: 0.9459\n",
            "Epoch 62/300\n",
            "7/7 [==============================] - 1s 73ms/step - loss: 0.1431 - accuracy: 0.9459\n",
            "Epoch 63/300\n",
            "7/7 [==============================] - 0s 70ms/step - loss: 0.1426 - accuracy: 0.9459\n",
            "Epoch 64/300\n",
            "7/7 [==============================] - 1s 73ms/step - loss: 0.1422 - accuracy: 0.9459\n",
            "Epoch 65/300\n",
            "7/7 [==============================] - 1s 74ms/step - loss: 0.1421 - accuracy: 0.9459\n",
            "Epoch 66/300\n",
            "7/7 [==============================] - 1s 72ms/step - loss: 0.1413 - accuracy: 0.9459\n",
            "Epoch 67/300\n",
            "7/7 [==============================] - 1s 72ms/step - loss: 0.1409 - accuracy: 0.9459\n",
            "Epoch 68/300\n",
            "7/7 [==============================] - 1s 72ms/step - loss: 0.1410 - accuracy: 0.9459\n",
            "Epoch 69/300\n",
            "7/7 [==============================] - 1s 73ms/step - loss: 0.1408 - accuracy: 0.9459\n",
            "Epoch 70/300\n",
            "7/7 [==============================] - 1s 74ms/step - loss: 0.1402 - accuracy: 0.9459\n",
            "Epoch 71/300\n",
            "7/7 [==============================] - 1s 73ms/step - loss: 0.1400 - accuracy: 0.9459\n",
            "Epoch 72/300\n",
            "7/7 [==============================] - 1s 71ms/step - loss: 0.1399 - accuracy: 0.9459\n",
            "Epoch 73/300\n",
            "7/7 [==============================] - 0s 71ms/step - loss: 0.1396 - accuracy: 0.9459\n",
            "Epoch 74/300\n",
            "7/7 [==============================] - 1s 73ms/step - loss: 0.1396 - accuracy: 0.9459\n",
            "Epoch 75/300\n",
            "7/7 [==============================] - 1s 71ms/step - loss: 0.1394 - accuracy: 0.9459\n",
            "Epoch 76/300\n",
            "7/7 [==============================] - 1s 74ms/step - loss: 0.1394 - accuracy: 0.9459\n",
            "Epoch 77/300\n",
            "7/7 [==============================] - 1s 71ms/step - loss: 0.1392 - accuracy: 0.9459\n",
            "Epoch 78/300\n",
            "7/7 [==============================] - 1s 72ms/step - loss: 0.1391 - accuracy: 0.9459\n",
            "Epoch 79/300\n",
            "7/7 [==============================] - 1s 71ms/step - loss: 0.1390 - accuracy: 0.9459\n",
            "Epoch 80/300\n",
            "7/7 [==============================] - 1s 71ms/step - loss: 0.1389 - accuracy: 0.9459\n",
            "Epoch 81/300\n",
            "7/7 [==============================] - 0s 71ms/step - loss: 0.1387 - accuracy: 0.9459\n",
            "Epoch 82/300\n",
            "7/7 [==============================] - 1s 71ms/step - loss: 0.1387 - accuracy: 0.9459\n",
            "Epoch 83/300\n",
            "7/7 [==============================] - 1s 73ms/step - loss: 0.1386 - accuracy: 0.9459\n",
            "Epoch 84/300\n",
            "7/7 [==============================] - 1s 74ms/step - loss: 0.1386 - accuracy: 0.9459\n",
            "Epoch 85/300\n",
            "7/7 [==============================] - 1s 73ms/step - loss: 0.1385 - accuracy: 0.9459\n",
            "Epoch 86/300\n",
            "7/7 [==============================] - 1s 71ms/step - loss: 0.1384 - accuracy: 0.9459\n",
            "Epoch 87/300\n",
            "7/7 [==============================] - 1s 73ms/step - loss: 0.1385 - accuracy: 0.9459\n",
            "Epoch 88/300\n",
            "7/7 [==============================] - 1s 72ms/step - loss: 0.1384 - accuracy: 0.9459\n",
            "Epoch 89/300\n",
            "7/7 [==============================] - 1s 72ms/step - loss: 0.1383 - accuracy: 0.9459\n",
            "Epoch 90/300\n",
            "7/7 [==============================] - 1s 72ms/step - loss: 0.1383 - accuracy: 0.9459\n",
            "Epoch 91/300\n",
            "7/7 [==============================] - 1s 75ms/step - loss: 0.1385 - accuracy: 0.9459\n",
            "Epoch 92/300\n",
            "7/7 [==============================] - 1s 72ms/step - loss: 0.1381 - accuracy: 0.9459\n",
            "Epoch 93/300\n",
            "7/7 [==============================] - 1s 71ms/step - loss: 0.1382 - accuracy: 0.9459\n",
            "Epoch 94/300\n",
            "7/7 [==============================] - 1s 72ms/step - loss: 0.1381 - accuracy: 0.9459\n",
            "Epoch 95/300\n",
            "7/7 [==============================] - 1s 72ms/step - loss: 0.1382 - accuracy: 0.9459\n",
            "Epoch 96/300\n",
            "7/7 [==============================] - 1s 72ms/step - loss: 0.1380 - accuracy: 0.9459\n",
            "Epoch 97/300\n",
            "7/7 [==============================] - 1s 72ms/step - loss: 0.1380 - accuracy: 0.9459\n",
            "Epoch 98/300\n",
            "7/7 [==============================] - 1s 72ms/step - loss: 0.1380 - accuracy: 0.9459\n",
            "Epoch 99/300\n",
            "7/7 [==============================] - 1s 73ms/step - loss: 0.1381 - accuracy: 0.9459\n",
            "Epoch 100/300\n",
            "7/7 [==============================] - 1s 71ms/step - loss: 0.1382 - accuracy: 0.9459\n",
            "Epoch 101/300\n",
            "7/7 [==============================] - 1s 71ms/step - loss: 0.1381 - accuracy: 0.9459\n",
            "Epoch 102/300\n",
            "7/7 [==============================] - 1s 71ms/step - loss: 0.1381 - accuracy: 0.9459\n",
            "Epoch 103/300\n",
            "7/7 [==============================] - 1s 72ms/step - loss: 0.1379 - accuracy: 0.9459\n",
            "Epoch 104/300\n",
            "7/7 [==============================] - 1s 74ms/step - loss: 0.1378 - accuracy: 0.9459\n",
            "Epoch 105/300\n",
            "7/7 [==============================] - 1s 72ms/step - loss: 0.1381 - accuracy: 0.9459\n",
            "Epoch 106/300\n",
            "7/7 [==============================] - 1s 72ms/step - loss: 0.1380 - accuracy: 0.9459\n",
            "Epoch 107/300\n",
            "7/7 [==============================] - 1s 72ms/step - loss: 0.1378 - accuracy: 0.9459\n",
            "Epoch 108/300\n",
            "7/7 [==============================] - 1s 71ms/step - loss: 0.1377 - accuracy: 0.9459\n",
            "Epoch 109/300\n",
            "7/7 [==============================] - 1s 73ms/step - loss: 0.1377 - accuracy: 0.9459\n",
            "Epoch 110/300\n",
            "7/7 [==============================] - 1s 73ms/step - loss: 0.1378 - accuracy: 0.9459\n",
            "Epoch 111/300\n",
            "7/7 [==============================] - 1s 73ms/step - loss: 0.1377 - accuracy: 0.9459\n",
            "Epoch 112/300\n",
            "7/7 [==============================] - 0s 71ms/step - loss: 0.1377 - accuracy: 0.9459\n",
            "Epoch 113/300\n",
            "7/7 [==============================] - 1s 71ms/step - loss: 0.1378 - accuracy: 0.9459\n",
            "Epoch 114/300\n",
            "7/7 [==============================] - 1s 71ms/step - loss: 0.1377 - accuracy: 0.9459\n",
            "Epoch 115/300\n",
            "7/7 [==============================] - 1s 73ms/step - loss: 0.1376 - accuracy: 0.9459\n",
            "Epoch 116/300\n",
            "7/7 [==============================] - 1s 72ms/step - loss: 0.1378 - accuracy: 0.9459\n",
            "Epoch 117/300\n",
            "7/7 [==============================] - 1s 72ms/step - loss: 0.1375 - accuracy: 0.9459\n",
            "Epoch 118/300\n",
            "7/7 [==============================] - 1s 72ms/step - loss: 0.1380 - accuracy: 0.9459\n",
            "Epoch 119/300\n",
            "7/7 [==============================] - 1s 73ms/step - loss: 0.1377 - accuracy: 0.9459\n",
            "Epoch 120/300\n",
            "7/7 [==============================] - 1s 74ms/step - loss: 0.1378 - accuracy: 0.9459\n",
            "Epoch 121/300\n",
            "7/7 [==============================] - 1s 72ms/step - loss: 0.1376 - accuracy: 0.9459\n",
            "Epoch 122/300\n",
            "7/7 [==============================] - 1s 72ms/step - loss: 0.1375 - accuracy: 0.9459\n",
            "Epoch 123/300\n",
            "7/7 [==============================] - 1s 72ms/step - loss: 0.1376 - accuracy: 0.9459\n",
            "Epoch 124/300\n",
            "7/7 [==============================] - 1s 72ms/step - loss: 0.1379 - accuracy: 0.9459\n",
            "Epoch 125/300\n",
            "7/7 [==============================] - 1s 72ms/step - loss: 0.1375 - accuracy: 0.9459\n",
            "Epoch 126/300\n",
            "7/7 [==============================] - 1s 73ms/step - loss: 0.1377 - accuracy: 0.9459\n",
            "Epoch 127/300\n",
            "7/7 [==============================] - 1s 71ms/step - loss: 0.1378 - accuracy: 0.9459\n",
            "Epoch 128/300\n",
            "7/7 [==============================] - 1s 72ms/step - loss: 0.1374 - accuracy: 0.9459\n",
            "Epoch 129/300\n",
            "7/7 [==============================] - 1s 73ms/step - loss: 0.1380 - accuracy: 0.9459\n",
            "Epoch 130/300\n",
            "7/7 [==============================] - 1s 73ms/step - loss: 0.1379 - accuracy: 0.9459\n",
            "Epoch 131/300\n",
            "7/7 [==============================] - 1s 71ms/step - loss: 0.1379 - accuracy: 0.9459\n",
            "Epoch 132/300\n",
            "7/7 [==============================] - 1s 71ms/step - loss: 0.1377 - accuracy: 0.9459\n",
            "Epoch 133/300\n",
            "7/7 [==============================] - 1s 72ms/step - loss: 0.1375 - accuracy: 0.9459\n",
            "Epoch 134/300\n",
            "7/7 [==============================] - 1s 72ms/step - loss: 0.1375 - accuracy: 0.9459\n",
            "Epoch 135/300\n",
            "7/7 [==============================] - 1s 72ms/step - loss: 0.1378 - accuracy: 0.9459\n",
            "Epoch 136/300\n",
            "7/7 [==============================] - 1s 72ms/step - loss: 0.1373 - accuracy: 0.9459\n",
            "Epoch 137/300\n",
            "7/7 [==============================] - 1s 72ms/step - loss: 0.1376 - accuracy: 0.9459\n",
            "Epoch 138/300\n",
            "7/7 [==============================] - 1s 71ms/step - loss: 0.1376 - accuracy: 0.9459\n",
            "Epoch 139/300\n",
            "7/7 [==============================] - 1s 72ms/step - loss: 0.1378 - accuracy: 0.9459\n",
            "Epoch 140/300\n",
            "7/7 [==============================] - 1s 74ms/step - loss: 0.1376 - accuracy: 0.9459\n",
            "Epoch 141/300\n",
            "7/7 [==============================] - 1s 71ms/step - loss: 0.1375 - accuracy: 0.9459\n",
            "Epoch 142/300\n",
            "7/7 [==============================] - 1s 72ms/step - loss: 0.1375 - accuracy: 0.9459\n",
            "Epoch 143/300\n",
            "7/7 [==============================] - 1s 74ms/step - loss: 0.1374 - accuracy: 0.9459\n",
            "Epoch 144/300\n",
            "7/7 [==============================] - 1s 71ms/step - loss: 0.1374 - accuracy: 0.9459\n",
            "Epoch 145/300\n",
            "7/7 [==============================] - 1s 73ms/step - loss: 0.1374 - accuracy: 0.9459\n",
            "Epoch 146/300\n",
            "7/7 [==============================] - 1s 72ms/step - loss: 0.1375 - accuracy: 0.9459\n",
            "Epoch 147/300\n",
            "7/7 [==============================] - 1s 73ms/step - loss: 0.1374 - accuracy: 0.9459\n",
            "Epoch 148/300\n",
            "7/7 [==============================] - 1s 73ms/step - loss: 0.1374 - accuracy: 0.9459\n",
            "Epoch 149/300\n",
            "7/7 [==============================] - 1s 71ms/step - loss: 0.1373 - accuracy: 0.9459\n",
            "Epoch 150/300\n",
            "7/7 [==============================] - 1s 74ms/step - loss: 0.1374 - accuracy: 0.9459\n",
            "Epoch 151/300\n",
            "7/7 [==============================] - 1s 72ms/step - loss: 0.1374 - accuracy: 0.9459\n",
            "Epoch 152/300\n",
            "7/7 [==============================] - 1s 72ms/step - loss: 0.1373 - accuracy: 0.9459\n",
            "Epoch 153/300\n",
            "7/7 [==============================] - 1s 72ms/step - loss: 0.1374 - accuracy: 0.9459\n",
            "Epoch 154/300\n",
            "7/7 [==============================] - 1s 73ms/step - loss: 0.1374 - accuracy: 0.9459\n",
            "Epoch 155/300\n",
            "7/7 [==============================] - 1s 72ms/step - loss: 0.1374 - accuracy: 0.9459\n",
            "Epoch 156/300\n",
            "7/7 [==============================] - 1s 71ms/step - loss: 0.1374 - accuracy: 0.9459\n",
            "Epoch 157/300\n",
            "7/7 [==============================] - 1s 71ms/step - loss: 0.1373 - accuracy: 0.9459\n",
            "Epoch 158/300\n",
            "7/7 [==============================] - 1s 71ms/step - loss: 0.1374 - accuracy: 0.9459\n",
            "Epoch 159/300\n",
            "7/7 [==============================] - 1s 72ms/step - loss: 0.1373 - accuracy: 0.9459\n",
            "Epoch 160/300\n",
            "7/7 [==============================] - 1s 72ms/step - loss: 0.1374 - accuracy: 0.9459\n",
            "Epoch 161/300\n",
            "7/7 [==============================] - 1s 73ms/step - loss: 0.1373 - accuracy: 0.9459\n",
            "Epoch 162/300\n",
            "7/7 [==============================] - 1s 73ms/step - loss: 0.1373 - accuracy: 0.9459\n",
            "Epoch 163/300\n",
            "7/7 [==============================] - 1s 71ms/step - loss: 0.1378 - accuracy: 0.9459\n",
            "Epoch 164/300\n",
            "7/7 [==============================] - 1s 72ms/step - loss: 0.1372 - accuracy: 0.9459\n",
            "Epoch 165/300\n",
            "7/7 [==============================] - 1s 74ms/step - loss: 0.1376 - accuracy: 0.9459\n",
            "Epoch 166/300\n",
            "7/7 [==============================] - 1s 75ms/step - loss: 0.1375 - accuracy: 0.9459\n",
            "Epoch 167/300\n",
            "7/7 [==============================] - 1s 72ms/step - loss: 0.1375 - accuracy: 0.9459\n",
            "Epoch 168/300\n",
            "7/7 [==============================] - 1s 71ms/step - loss: 0.1375 - accuracy: 0.9459\n",
            "Epoch 169/300\n",
            "7/7 [==============================] - 1s 74ms/step - loss: 0.1374 - accuracy: 0.9459\n",
            "Epoch 170/300\n",
            "7/7 [==============================] - 0s 71ms/step - loss: 0.1373 - accuracy: 0.9459\n",
            "Epoch 171/300\n",
            "7/7 [==============================] - 1s 72ms/step - loss: 0.1373 - accuracy: 0.9459\n",
            "Epoch 172/300\n",
            "7/7 [==============================] - 1s 72ms/step - loss: 0.1374 - accuracy: 0.9459\n",
            "Epoch 173/300\n",
            "7/7 [==============================] - 1s 73ms/step - loss: 0.1375 - accuracy: 0.9459\n",
            "Epoch 174/300\n",
            "7/7 [==============================] - 1s 76ms/step - loss: 0.1376 - accuracy: 0.9459\n",
            "Epoch 175/300\n",
            "7/7 [==============================] - 1s 73ms/step - loss: 0.1375 - accuracy: 0.9459\n",
            "Epoch 176/300\n",
            "7/7 [==============================] - 1s 73ms/step - loss: 0.1372 - accuracy: 0.9459\n",
            "Epoch 177/300\n",
            "7/7 [==============================] - 1s 73ms/step - loss: 0.1373 - accuracy: 0.9459\n",
            "Epoch 178/300\n",
            "7/7 [==============================] - 1s 73ms/step - loss: 0.1374 - accuracy: 0.9459\n",
            "Epoch 179/300\n",
            "7/7 [==============================] - 1s 72ms/step - loss: 0.1373 - accuracy: 0.9459\n",
            "Epoch 180/300\n",
            "7/7 [==============================] - 1s 73ms/step - loss: 0.1374 - accuracy: 0.9459\n",
            "Epoch 181/300\n",
            "7/7 [==============================] - 1s 72ms/step - loss: 0.1375 - accuracy: 0.9459\n",
            "Epoch 182/300\n",
            "7/7 [==============================] - 1s 75ms/step - loss: 0.1373 - accuracy: 0.9459\n",
            "Epoch 183/300\n",
            "7/7 [==============================] - 1s 72ms/step - loss: 0.1374 - accuracy: 0.9459\n",
            "Epoch 184/300\n",
            "7/7 [==============================] - 1s 73ms/step - loss: 0.1373 - accuracy: 0.9459\n",
            "Epoch 185/300\n",
            "7/7 [==============================] - 1s 71ms/step - loss: 0.1374 - accuracy: 0.9459\n",
            "Epoch 186/300\n",
            "7/7 [==============================] - 1s 74ms/step - loss: 0.1374 - accuracy: 0.9459\n",
            "Epoch 187/300\n",
            "7/7 [==============================] - 1s 73ms/step - loss: 0.1372 - accuracy: 0.9459\n",
            "Epoch 188/300\n",
            "7/7 [==============================] - 1s 72ms/step - loss: 0.1375 - accuracy: 0.9459\n",
            "Epoch 189/300\n",
            "7/7 [==============================] - 1s 73ms/step - loss: 0.1374 - accuracy: 0.9459\n",
            "Epoch 190/300\n",
            "7/7 [==============================] - 1s 71ms/step - loss: 0.1372 - accuracy: 0.9459\n",
            "Epoch 191/300\n",
            "7/7 [==============================] - 1s 71ms/step - loss: 0.1373 - accuracy: 0.9459\n",
            "Epoch 192/300\n",
            "7/7 [==============================] - 1s 73ms/step - loss: 0.1374 - accuracy: 0.9459\n",
            "Epoch 193/300\n",
            "7/7 [==============================] - 1s 75ms/step - loss: 0.1373 - accuracy: 0.9459\n",
            "Epoch 194/300\n",
            "7/7 [==============================] - 1s 72ms/step - loss: 0.1373 - accuracy: 0.9459\n",
            "Epoch 195/300\n",
            "7/7 [==============================] - 0s 70ms/step - loss: 0.1374 - accuracy: 0.9459\n",
            "Epoch 196/300\n",
            "7/7 [==============================] - 1s 73ms/step - loss: 0.1373 - accuracy: 0.9459\n",
            "Epoch 197/300\n",
            "7/7 [==============================] - 1s 74ms/step - loss: 0.1376 - accuracy: 0.9459\n",
            "Epoch 198/300\n",
            "7/7 [==============================] - 1s 72ms/step - loss: 0.1374 - accuracy: 0.9459\n",
            "Epoch 199/300\n",
            "7/7 [==============================] - 1s 73ms/step - loss: 0.1375 - accuracy: 0.9459\n",
            "Epoch 200/300\n",
            "7/7 [==============================] - 1s 75ms/step - loss: 0.1372 - accuracy: 0.9459\n",
            "Epoch 201/300\n",
            "7/7 [==============================] - 1s 74ms/step - loss: 0.1375 - accuracy: 0.9459\n",
            "Epoch 202/300\n",
            "7/7 [==============================] - 1s 72ms/step - loss: 0.1373 - accuracy: 0.9459\n",
            "Epoch 203/300\n",
            "7/7 [==============================] - 1s 72ms/step - loss: 0.1383 - accuracy: 0.9459\n",
            "Epoch 204/300\n",
            "7/7 [==============================] - 1s 72ms/step - loss: 0.1377 - accuracy: 0.9459\n",
            "Epoch 205/300\n",
            "7/7 [==============================] - 1s 71ms/step - loss: 0.1375 - accuracy: 0.9459\n",
            "Epoch 206/300\n",
            "7/7 [==============================] - 1s 72ms/step - loss: 0.1374 - accuracy: 0.9459\n",
            "Epoch 207/300\n",
            "7/7 [==============================] - 1s 74ms/step - loss: 0.1374 - accuracy: 0.9459\n",
            "Epoch 208/300\n",
            "7/7 [==============================] - 1s 72ms/step - loss: 0.1373 - accuracy: 0.9459\n",
            "Epoch 209/300\n",
            "7/7 [==============================] - 1s 73ms/step - loss: 0.1373 - accuracy: 0.9459\n",
            "Epoch 210/300\n",
            "7/7 [==============================] - 0s 71ms/step - loss: 0.1372 - accuracy: 0.9459\n",
            "Epoch 211/300\n",
            "7/7 [==============================] - 1s 73ms/step - loss: 0.1373 - accuracy: 0.9459\n",
            "Epoch 212/300\n",
            "7/7 [==============================] - 1s 72ms/step - loss: 0.1373 - accuracy: 0.9459\n",
            "Epoch 213/300\n",
            "7/7 [==============================] - 1s 72ms/step - loss: 0.1372 - accuracy: 0.9459\n",
            "Epoch 214/300\n",
            "7/7 [==============================] - 1s 72ms/step - loss: 0.1374 - accuracy: 0.9459\n",
            "Epoch 215/300\n",
            "7/7 [==============================] - 1s 72ms/step - loss: 0.1373 - accuracy: 0.9459\n",
            "Epoch 216/300\n",
            "7/7 [==============================] - 1s 72ms/step - loss: 0.1374 - accuracy: 0.9459\n",
            "Epoch 217/300\n",
            "7/7 [==============================] - 1s 73ms/step - loss: 0.1372 - accuracy: 0.9459\n",
            "Epoch 218/300\n",
            "7/7 [==============================] - 1s 72ms/step - loss: 0.1374 - accuracy: 0.9459\n",
            "Epoch 219/300\n",
            "7/7 [==============================] - 1s 74ms/step - loss: 0.1374 - accuracy: 0.9459\n",
            "Epoch 220/300\n",
            "7/7 [==============================] - 1s 74ms/step - loss: 0.1373 - accuracy: 0.9459\n",
            "Epoch 221/300\n",
            "7/7 [==============================] - 1s 73ms/step - loss: 0.1374 - accuracy: 0.9459\n",
            "Epoch 222/300\n",
            "7/7 [==============================] - 1s 74ms/step - loss: 0.1373 - accuracy: 0.9459\n",
            "Epoch 223/300\n",
            "7/7 [==============================] - 1s 72ms/step - loss: 0.1372 - accuracy: 0.9459\n",
            "Epoch 224/300\n",
            "7/7 [==============================] - 1s 71ms/step - loss: 0.1372 - accuracy: 0.9459\n",
            "Epoch 225/300\n",
            "7/7 [==============================] - 1s 73ms/step - loss: 0.1372 - accuracy: 0.9459\n",
            "Epoch 226/300\n",
            "7/7 [==============================] - 1s 74ms/step - loss: 0.1372 - accuracy: 0.9459\n",
            "Epoch 227/300\n",
            "7/7 [==============================] - 1s 74ms/step - loss: 0.1372 - accuracy: 0.9459\n",
            "Epoch 228/300\n",
            "7/7 [==============================] - 1s 70ms/step - loss: 0.1373 - accuracy: 0.9459\n",
            "Epoch 229/300\n",
            "7/7 [==============================] - 1s 73ms/step - loss: 0.1373 - accuracy: 0.9459\n",
            "Epoch 230/300\n",
            "7/7 [==============================] - 1s 74ms/step - loss: 0.1372 - accuracy: 0.9459\n",
            "Epoch 231/300\n",
            "7/7 [==============================] - 1s 74ms/step - loss: 0.1373 - accuracy: 0.9459\n",
            "Epoch 232/300\n",
            "7/7 [==============================] - 1s 72ms/step - loss: 0.1374 - accuracy: 0.9459\n",
            "Epoch 233/300\n",
            "7/7 [==============================] - 0s 71ms/step - loss: 0.1373 - accuracy: 0.9459\n",
            "Epoch 234/300\n",
            "7/7 [==============================] - 1s 72ms/step - loss: 0.1375 - accuracy: 0.9459\n",
            "Epoch 235/300\n",
            "7/7 [==============================] - 1s 74ms/step - loss: 0.1373 - accuracy: 0.9459\n",
            "Epoch 236/300\n",
            "7/7 [==============================] - 1s 71ms/step - loss: 0.1372 - accuracy: 0.9459\n",
            "Epoch 237/300\n",
            "7/7 [==============================] - 1s 73ms/step - loss: 0.1373 - accuracy: 0.9459\n",
            "Epoch 238/300\n",
            "7/7 [==============================] - 1s 72ms/step - loss: 0.1375 - accuracy: 0.9459\n",
            "Epoch 239/300\n",
            "7/7 [==============================] - 1s 72ms/step - loss: 0.1372 - accuracy: 0.9459\n",
            "Epoch 240/300\n",
            "7/7 [==============================] - 1s 73ms/step - loss: 0.1373 - accuracy: 0.9459\n",
            "Epoch 241/300\n",
            "7/7 [==============================] - 1s 71ms/step - loss: 0.1373 - accuracy: 0.9459\n",
            "Epoch 242/300\n",
            "7/7 [==============================] - 1s 72ms/step - loss: 0.1372 - accuracy: 0.9459\n",
            "Epoch 243/300\n",
            "7/7 [==============================] - 1s 74ms/step - loss: 0.1373 - accuracy: 0.9459\n",
            "Epoch 244/300\n",
            "7/7 [==============================] - 1s 72ms/step - loss: 0.1372 - accuracy: 0.9459\n",
            "Epoch 245/300\n",
            "7/7 [==============================] - 1s 73ms/step - loss: 0.1372 - accuracy: 0.9459\n",
            "Epoch 246/300\n",
            "7/7 [==============================] - 1s 75ms/step - loss: 0.1374 - accuracy: 0.9459\n",
            "Epoch 247/300\n",
            "7/7 [==============================] - 1s 72ms/step - loss: 0.1375 - accuracy: 0.9459\n",
            "Epoch 248/300\n",
            "7/7 [==============================] - 1s 73ms/step - loss: 0.1373 - accuracy: 0.9459\n",
            "Epoch 249/300\n",
            "7/7 [==============================] - 1s 72ms/step - loss: 0.1372 - accuracy: 0.9459\n",
            "Epoch 250/300\n",
            "7/7 [==============================] - 1s 73ms/step - loss: 0.1373 - accuracy: 0.9459\n",
            "Epoch 251/300\n",
            "7/7 [==============================] - 1s 71ms/step - loss: 0.1373 - accuracy: 0.9459\n",
            "Epoch 252/300\n",
            "7/7 [==============================] - 1s 75ms/step - loss: 0.1372 - accuracy: 0.9459\n",
            "Epoch 253/300\n",
            "7/7 [==============================] - 1s 73ms/step - loss: 0.1374 - accuracy: 0.9459\n",
            "Epoch 254/300\n",
            "7/7 [==============================] - 1s 74ms/step - loss: 0.1372 - accuracy: 0.9459\n",
            "Epoch 255/300\n",
            "7/7 [==============================] - 1s 74ms/step - loss: 0.1372 - accuracy: 0.9459\n",
            "Epoch 256/300\n",
            "7/7 [==============================] - 1s 71ms/step - loss: 0.1373 - accuracy: 0.9459\n",
            "Epoch 257/300\n",
            "7/7 [==============================] - 1s 71ms/step - loss: 0.1372 - accuracy: 0.9459\n",
            "Epoch 258/300\n",
            "7/7 [==============================] - 1s 72ms/step - loss: 0.1372 - accuracy: 0.9459\n",
            "Epoch 259/300\n",
            "7/7 [==============================] - 1s 72ms/step - loss: 0.1372 - accuracy: 0.9459\n",
            "Epoch 260/300\n",
            "7/7 [==============================] - 1s 76ms/step - loss: 0.1373 - accuracy: 0.9459\n",
            "Epoch 261/300\n",
            "7/7 [==============================] - 1s 74ms/step - loss: 0.1372 - accuracy: 0.9459\n",
            "Epoch 262/300\n",
            "7/7 [==============================] - 1s 71ms/step - loss: 0.1372 - accuracy: 0.9459\n",
            "Epoch 263/300\n",
            "7/7 [==============================] - 1s 74ms/step - loss: 0.1374 - accuracy: 0.9459\n",
            "Epoch 264/300\n",
            "7/7 [==============================] - 1s 71ms/step - loss: 0.1375 - accuracy: 0.9459\n",
            "Epoch 265/300\n",
            "7/7 [==============================] - 1s 71ms/step - loss: 0.1372 - accuracy: 0.9459\n",
            "Epoch 266/300\n",
            "7/7 [==============================] - 1s 74ms/step - loss: 0.1373 - accuracy: 0.9459\n",
            "Epoch 267/300\n",
            "7/7 [==============================] - 1s 74ms/step - loss: 0.1372 - accuracy: 0.9459\n",
            "Epoch 268/300\n",
            "7/7 [==============================] - 1s 74ms/step - loss: 0.1372 - accuracy: 0.9459\n",
            "Epoch 269/300\n",
            "7/7 [==============================] - 1s 75ms/step - loss: 0.1373 - accuracy: 0.9459\n",
            "Epoch 270/300\n",
            "7/7 [==============================] - 1s 75ms/step - loss: 0.1371 - accuracy: 0.9459\n",
            "Epoch 271/300\n",
            "7/7 [==============================] - 1s 72ms/step - loss: 0.1373 - accuracy: 0.9459\n",
            "Epoch 272/300\n",
            "7/7 [==============================] - 1s 74ms/step - loss: 0.1372 - accuracy: 0.9459\n",
            "Epoch 273/300\n",
            "7/7 [==============================] - 1s 75ms/step - loss: 0.1372 - accuracy: 0.9459\n",
            "Epoch 274/300\n",
            "7/7 [==============================] - 1s 75ms/step - loss: 0.1372 - accuracy: 0.9459\n",
            "Epoch 275/300\n",
            "7/7 [==============================] - 1s 72ms/step - loss: 0.1374 - accuracy: 0.9459\n",
            "Epoch 276/300\n",
            "7/7 [==============================] - 1s 76ms/step - loss: 0.1373 - accuracy: 0.9459\n",
            "Epoch 277/300\n",
            "7/7 [==============================] - 1s 73ms/step - loss: 0.1372 - accuracy: 0.9459\n",
            "Epoch 278/300\n",
            "7/7 [==============================] - 1s 72ms/step - loss: 0.1372 - accuracy: 0.9459\n",
            "Epoch 279/300\n",
            "7/7 [==============================] - 1s 72ms/step - loss: 0.1372 - accuracy: 0.9459\n",
            "Epoch 280/300\n",
            "7/7 [==============================] - 1s 72ms/step - loss: 0.1372 - accuracy: 0.9459\n",
            "Epoch 281/300\n",
            "7/7 [==============================] - 1s 71ms/step - loss: 0.1373 - accuracy: 0.9459\n",
            "Epoch 282/300\n",
            "7/7 [==============================] - 1s 73ms/step - loss: 0.1373 - accuracy: 0.9459\n",
            "Epoch 283/300\n",
            "7/7 [==============================] - 1s 73ms/step - loss: 0.1371 - accuracy: 0.9459\n",
            "Epoch 284/300\n",
            "7/7 [==============================] - 1s 74ms/step - loss: 0.1373 - accuracy: 0.9459\n",
            "Epoch 285/300\n",
            "7/7 [==============================] - 1s 73ms/step - loss: 0.1377 - accuracy: 0.9459\n",
            "Epoch 286/300\n",
            "7/7 [==============================] - 1s 73ms/step - loss: 0.1372 - accuracy: 0.9459\n",
            "Epoch 287/300\n",
            "7/7 [==============================] - 1s 74ms/step - loss: 0.1374 - accuracy: 0.9459\n",
            "Epoch 288/300\n",
            "7/7 [==============================] - 0s 71ms/step - loss: 0.1372 - accuracy: 0.9459\n",
            "Epoch 289/300\n",
            "7/7 [==============================] - 1s 74ms/step - loss: 0.1372 - accuracy: 0.9459\n",
            "Epoch 290/300\n",
            "7/7 [==============================] - 1s 72ms/step - loss: 0.1372 - accuracy: 0.9459\n",
            "Epoch 291/300\n",
            "7/7 [==============================] - 1s 73ms/step - loss: 0.1376 - accuracy: 0.9459\n",
            "Epoch 292/300\n",
            "7/7 [==============================] - 1s 71ms/step - loss: 0.1372 - accuracy: 0.9459\n",
            "Epoch 293/300\n",
            "7/7 [==============================] - 1s 73ms/step - loss: 0.1372 - accuracy: 0.9459\n",
            "Epoch 294/300\n",
            "7/7 [==============================] - 1s 73ms/step - loss: 0.1374 - accuracy: 0.9459\n",
            "Epoch 295/300\n",
            "7/7 [==============================] - 1s 74ms/step - loss: 0.1372 - accuracy: 0.9459\n",
            "Epoch 296/300\n",
            "7/7 [==============================] - 1s 73ms/step - loss: 0.1372 - accuracy: 0.9459\n",
            "Epoch 297/300\n",
            "7/7 [==============================] - 1s 73ms/step - loss: 0.1372 - accuracy: 0.9459\n",
            "Epoch 298/300\n",
            "7/7 [==============================] - 1s 73ms/step - loss: 0.1371 - accuracy: 0.9459\n",
            "Epoch 299/300\n",
            "7/7 [==============================] - 1s 76ms/step - loss: 0.1372 - accuracy: 0.9459\n",
            "Epoch 300/300\n",
            "7/7 [==============================] - 1s 71ms/step - loss: 0.1374 - accuracy: 0.9459\n",
            "Training finished in 156.16\n"
          ],
          "name": "stdout"
        }
      ]
    },
    {
      "cell_type": "code",
      "metadata": {
        "colab": {
          "base_uri": "https://localhost:8080/",
          "height": 448
        },
        "id": "rnKo0j5N6c-o",
        "outputId": "4cac2d25-d4db-443a-c34d-deeba567e959"
      },
      "source": [
        "# print(model_history.history.keys())\n",
        "fig, axes = plt.subplots(nrows=1, ncols=2, figsize=(50,12))\n",
        "fig.suptitle('Training Accuracy and Loss Scores', fontsize = 24)\n",
        "\n",
        "axes[0].plot(model_history.history['accuracy'])\n",
        "axes[0].set_title('Accuracy', fontsize = 18)\n",
        "axes[0].set_ylabel('Accuracy', fontsize = 16)\n",
        "axes[0].set_xlabel('Epochs', fontsize = 16)\n",
        "axes[0].set_xticks(np.arange(0, 310, step = 10))\n",
        "axes[0].grid(axis = 'x')\n",
        "axes[0].legend(['Train', 'Test'], loc = 'best', fontsize = 18)\n",
        "\n",
        "axes[1].plot(model_history.history['loss'])\n",
        "axes[1].set_title('Loss', fontsize = 18)\n",
        "axes[1].set_ylabel('Loss', fontsize = 16)\n",
        "axes[1].set_xlabel('Epochs', fontsize = 16)\n",
        "axes[1].set_xticks(np.arange(0, 310, step = 10))\n",
        "axes[1].grid(axis = 'x')\n",
        "axes[1].legend(['Train', 'Test'], loc = 'best', fontsize = 18)"
      ],
      "execution_count": 60,
      "outputs": [
        {
          "output_type": "execute_result",
          "data": {
            "text/plain": [
              "<matplotlib.legend.Legend at 0x7f1cd4d7aa10>"
            ]
          },
          "metadata": {
            "tags": []
          },
          "execution_count": 60
        },
        {
          "output_type": "display_data",
          "data": {
            "image/png": "[encoded data removed]",
            "text/plain": [
              "<Figure size 3600x864 with 2 Axes>"
            ]
          },
          "metadata": {
            "tags": [],
            "needs_background": "light"
          }
        }
      ]
    },
    {
      "cell_type": "code",
      "metadata": {
        "colab": {
          "base_uri": "https://localhost:8080/"
        },
        "id": "vFd8485B6c-p",
        "outputId": "f073a7b2-afff-4d8f-8a25-054d8cbc21ab"
      },
      "source": [
        "loss, acc = cnn.evaluate(test, ytest, batch_size = 512, verbose = 0)\n",
        "print(f'Loss = {round(loss, 4)}\\tAccuracy = {round(acc, 4)*100}%')"
      ],
      "execution_count": 61,
      "outputs": [
        {
          "output_type": "stream",
          "text": [
            "Loss = 0.453\tAccuracy = 91.56%\n"
          ],
          "name": "stdout"
        }
      ]
    },
    {
      "cell_type": "code",
      "metadata": {
        "colab": {
          "base_uri": "https://localhost:8080/"
        },
        "id": "1vYQq61n6c-p",
        "outputId": "6d759200-044a-448d-93af-52962a7601e7"
      },
      "source": [
        "preds = cnn.predict(test)\n",
        "y_preds = np.argmax(preds, axis = 1)\n",
        "\n",
        "preds[:20]"
      ],
      "execution_count": 62,
      "outputs": [
        {
          "output_type": "execute_result",
          "data": {
            "text/plain": [
              "array([[0.03945, 0.99376],\n",
              "       [1.     , 0.00001],\n",
              "       [0.     , 1.     ],\n",
              "       [0.22333, 0.79128],\n",
              "       [0.00005, 0.99998],\n",
              "       [0.9988 , 0.00134],\n",
              "       [0.96722, 0.61137],\n",
              "       [1.     , 0.     ],\n",
              "       [0.99999, 0.00001],\n",
              "       [0.18136, 0.81897],\n",
              "       [0.98206, 0.01503],\n",
              "       [0.87589, 0.37904],\n",
              "       [1.     , 0.00001],\n",
              "       [0.99876, 0.0081 ],\n",
              "       [0.01661, 0.9697 ],\n",
              "       [0.18136, 0.81897],\n",
              "       [1.     , 0.     ],\n",
              "       [0.02415, 0.99924],\n",
              "       [0.99934, 0.00102],\n",
              "       [0.99881, 0.00116]], dtype=float32)"
            ]
          },
          "metadata": {
            "tags": []
          },
          "execution_count": 62
        }
      ]
    },
    {
      "cell_type": "code",
      "metadata": {
        "id": "KNgHOMVP6c-p"
      },
      "source": [
        "\n",
        "def build_classifier():\n",
        "    \n",
        "    cnn = Sequential()\n",
        "\n",
        "    ## convolution 1\n",
        "    cnn.add(Convolution2D(2**4, (KERNEL_SIZE), padding=\"same\", activation='relu', input_shape = (IMAGE_SIZE)))\n",
        "    cnn.add(MaxPooling2D(pool_size = (2,2)))\n",
        "    # cnn.add(Dropout(0.5))\n",
        "\n",
        "    ## convolution 2\n",
        "    cnn.add(Convolution2D(2**5, (KERNEL_SIZE), padding=\"same\", activation='relu'))\n",
        "    cnn.add(MaxPooling2D(pool_size = (2,2)))\n",
        "    # cnn.add(Dropout(0.5))\n",
        "\n",
        "    ## convolution 3\n",
        "    cnn.add(Convolution2D(2**6, (KERNEL_SIZE), padding=\"same\", activation='relu'))\n",
        "    cnn.add(MaxPooling2D(pool_size = (2,2)))\n",
        "    # cnn.add(Dropout(0.5))\n",
        "\n",
        "    ## convolution 4\n",
        "    cnn.add(Convolution2D(2**7, (KERNEL_SIZE), padding=\"same\", activation='relu'))\n",
        "    cnn.add(MaxPooling2D(pool_size = (2,2)))\n",
        "    # # cnn.add(Dropout(0.5))\n",
        "\n",
        "    ## convolution 5\n",
        "    # cnn.add(Convolution2D(128, (KERNEL_SIZE), padding=\"same\", activation='relu'))\n",
        "    # cnn.add(AveragePooling2D(pool_size = (2,2)))\n",
        "    # # # cnn.add(Dropout(0.5))\n",
        "\n",
        "    # ## convolution 6\n",
        "    # cnn.add(Convolution2D(128, (KERNEL_SIZE), padding=\"same\", activation='relu'))\n",
        "    # cnn.add(AveragePooling2D(pool_size = (2,2)))\n",
        "    # # cnn.add(Dropout(0.5))\n",
        "\n",
        "    cnn.add(Flatten())\n",
        "\n",
        "    ## dense\n",
        "    # cnn.add(Dense(256, activation='relu'))\n",
        "    cnn.add(Dense(128, activation='relu'))\n",
        "    # cnn.add(Dense(64, activation='relu'))\n",
        "    # cnn.add(Dense(32, activation='relu'))\n",
        "    # cnn.add(Dropout(0.5))\n",
        "    cnn.add(Dense(2, activation = 'sigmoid'))\n",
        "\n",
        "    # callback = [EarlyStopping(monitor = 'accuracy', mode = 'max', patience = 2)]\n",
        "\n",
        "    cnn.compile(optimizer = keras.optimizers.Adam(), loss = 'binary_crossentropy',\n",
        "                metrics = ['accuracy'])\n",
        "    \n",
        "    return cnn\n",
        "\n",
        "classifier = KerasClassifier(build_fn = build_classifier, batch_size = 512, epochs = 300)"
      ],
      "execution_count": 65,
      "outputs": []
    },
    {
      "cell_type": "code",
      "metadata": {
        "id": "lvz7BRwK6c-p"
      },
      "source": [
        "from sklearn.model_selection import KFold\n",
        "\n",
        "kf = KFold(n_splits = 10, random_state = None)\n",
        "score = cross_val_score(classifier, test, ytest, cv = kf)\n",
        "\n",
        "print(f'Model Cross Validation: \\n{round(score.mean(), 3)*100}%')\n",
        "print(f'Model Cross Validation: \\n{score}')"
      ],
      "execution_count": null,
      "outputs": []
    },
    {
      "cell_type": "code",
      "metadata": {
        "id": "K0cWcvMrvvTJ"
      },
      "source": [
        ""
      ],
      "execution_count": null,
      "outputs": []
    }
  ]
}